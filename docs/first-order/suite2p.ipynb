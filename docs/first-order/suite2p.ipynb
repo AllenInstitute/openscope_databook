{
 "cells": [
  {
   "cell_type": "markdown",
   "id": "85548fe0",
   "metadata": {},
   "source": [
    "# Identifying Regions of Interest with Segmentation\n",
    "The Allen Institute uses [**Suite2P**](http://www.suite2p.org/) for processing 2-Photon Calcium Imaging Data. Specifically, **Suite2P** takes a 2P movie, and outputs information about the putative segmented *Regions of Interest* (ROIs). The most pertinent information outputted are the locations/shapes of the ROIs within the 2P Movie's field-of-view, as well as the fluorescence of each ROI at every frame of the movie. This notebook serves as a simple demonstration of how to input a 2P Movie into Suite2P and produce cell segmentation and fluorescence output.\n"
   ]
  },
  {
   "cell_type": "markdown",
   "id": "04105449",
   "metadata": {},
   "source": [
    "### Environment Setup\n",
    "⚠️**Note: If running on a new environment, run this cell once and then restart the kernel**⚠️"
   ]
  },
  {
   "cell_type": "code",
   "execution_count": 1,
   "id": "4797393d",
   "metadata": {},
   "outputs": [
    {
     "name": "stderr",
     "output_type": "stream",
     "text": [
      "c:\\Users\\carter.peene\\AppData\\Local\\Programs\\Python\\Python39\\lib\\site-packages\\numpy\\_distributor_init.py:30: UserWarning: loaded more than 1 DLL from .libs:\n",
      "c:\\Users\\carter.peene\\AppData\\Local\\Programs\\Python\\Python39\\lib\\site-packages\\numpy\\.libs\\libopenblas.EL2C6PLE4ZYW3ECEVIV3OXXGRN2NRFM2.gfortran-win_amd64.dll\n",
      "c:\\Users\\carter.peene\\AppData\\Local\\Programs\\Python\\Python39\\lib\\site-packages\\numpy\\.libs\\libopenblas.XWYDX2IKJW2NMTWSFYNGFUWKQU3LYTCZ.gfortran-win_amd64.dll\n",
      "  warnings.warn(\"loaded more than 1 DLL from .libs:\"\n"
     ]
    }
   ],
   "source": [
    "try:\n",
    "    from dandi_utils import dandi_download_open\n",
    "except:\n",
    "    !git clone https://github.com/AllenInstitute/openscope_databook.git\n",
    "    %cd openscope_databook\n",
    "    %pip install -e ."
   ]
  },
  {
   "cell_type": "code",
   "execution_count": 2,
   "id": "72ce98e2",
   "metadata": {},
   "outputs": [],
   "source": [
    "import os\n",
    "import suite2p\n",
    "\n",
    "import pandas as pd\n",
    "import numpy as np\n",
    "import matplotlib.pyplot as plt\n",
    "\n",
    "from pynwb import NWBHDF5IO\n",
    "from tifffile import imsave\n",
    "\n",
    "%matplotlib inline"
   ]
  },
  {
   "cell_type": "markdown",
   "id": "6ef59305",
   "metadata": {},
   "source": [
    "### Downloading Ophys NWB Files\n",
    "Here you can download several files for a subject that you can run nway matching on. The pipeline can take in any number of input *sessions*, however, the input ophys data should be from the same imaging plane of the same subject. To specify your own file to use, set `dandiset_id` to be the dandiset id of the files you're interested in. Also set `input_dandi_filepaths` to be a list of the filepaths on dandi of each file you're interested in providing to **Nway Matching**. When accessing an embargoed dataset, set `dandi_api_key` to be your DANDI API key."
   ]
  },
  {
   "cell_type": "code",
   "execution_count": 3,
   "id": "e4511768",
   "metadata": {},
   "outputs": [],
   "source": [
    "dandiset_id = \"000336\"\n",
    "dandi_filepath = \"sub-634402/sub-634402_ses-1209063020-acq-1209359211raw_ophys.nwb\"\n",
    "dandi_api_key = os.environ[\"DANDI_API_KEY\"]"
   ]
  },
  {
   "cell_type": "code",
   "execution_count": 4,
   "id": "be05d159",
   "metadata": {},
   "outputs": [
    {
     "name": "stdout",
     "output_type": "stream",
     "text": [
      "File already exists\n",
      "Opening file\n"
     ]
    },
    {
     "name": "stderr",
     "output_type": "stream",
     "text": [
      "c:\\Users\\carter.peene\\AppData\\Local\\Programs\\Python\\Python39\\lib\\site-packages\\hdmf\\spec\\namespace.py:531: UserWarning: Ignoring cached namespace 'hdmf-common' version 1.5.0 because version 1.5.1 is already loaded.\n",
      "  warn(\"Ignoring cached namespace '%s' version %s because version %s is already loaded.\"\n",
      "c:\\Users\\carter.peene\\AppData\\Local\\Programs\\Python\\Python39\\lib\\site-packages\\hdmf\\spec\\namespace.py:531: UserWarning: Ignoring cached namespace 'core' version 2.3.0 because version 2.5.0 is already loaded.\n",
      "  warn(\"Ignoring cached namespace '%s' version %s because version %s is already loaded.\"\n",
      "c:\\Users\\carter.peene\\AppData\\Local\\Programs\\Python\\Python39\\lib\\site-packages\\hdmf\\spec\\namespace.py:531: UserWarning: Ignoring cached namespace 'hdmf-experimental' version 0.1.0 because version 0.2.0 is already loaded.\n",
      "  warn(\"Ignoring cached namespace '%s' version %s because version %s is already loaded.\"\n"
     ]
    }
   ],
   "source": [
    "io = dandi_download_open(dandiset_id, dandi_filepath, \"./\", dandi_api_key=dandi_api_key)\n",
    "# from pynwb import NWBHDF5IO\n",
    "# io = NWBHDFIO(\"./sub-661749_ses-1254161187-acq-1254305759raw_ophys.nwb\", load_namespaces=True)\n",
    "nwb = io.read()"
   ]
  },
  {
   "cell_type": "markdown",
   "id": "365c9743",
   "metadata": {},
   "source": [
    "### Preparing Suite2P Input\n",
    "Typically, the 2P movie would not come prepared within an NWB file, but would be in some other form. Suite2P is capable of taking input in many forms, enumerated [here](https://suite2p.readthedocs.io/en/latest/inputs.html). For the purposes of this notebook, the movie is extracted from an Allen Institute NWB File and converted to a *tiff* file."
   ]
  },
  {
   "cell_type": "code",
   "execution_count": 5,
   "id": "a508b006",
   "metadata": {},
   "outputs": [
    {
     "data": {
      "text/plain": [
       "(44201, 512, 512)"
      ]
     },
     "execution_count": 5,
     "metadata": {},
     "output_type": "execute_result"
    }
   ],
   "source": [
    "movie = np.array(nwb.acquisition[\"raw_suite2p_motion_corrected\"].data).astype(np.uint16)\n",
    "movie.shape"
   ]
  },
  {
   "cell_type": "code",
   "execution_count": 6,
   "id": "58ab6da3",
   "metadata": {},
   "outputs": [
    {
     "name": "stderr",
     "output_type": "stream",
     "text": [
      "C:\\Users\\carter.peene\\AppData\\Local\\Temp\\ipykernel_1128\\3462389927.py:1: DeprecationWarning: <tifffile.imsave> is deprecated. Use tifffile.imwrite\n",
      "  imsave(\"movie.tiff\", movie)\n"
     ]
    }
   ],
   "source": [
    "imsave(\"movie.tiff\", movie)"
   ]
  },
  {
   "cell_type": "code",
   "execution_count": 7,
   "id": "95e8e7d2",
   "metadata": {},
   "outputs": [],
   "source": [
    "results_folder = \"./results/\"\n",
    "scratch_folder = \"./results/\"\n",
    "input_movie_path = \"./movie\"\n",
    "sampling_rate = nwb.acquisition[\"raw_suite2p_motion_corrected\"].rate\n",
    "suite2p_threshold_scaling = 1"
   ]
  },
  {
   "cell_type": "markdown",
   "id": "c04a7165",
   "metadata": {},
   "source": [
    "### Running Suite2P\n",
    "From there, input settings can be specified for Suite2P via the `ops` object. The available settings and their meanings are described [here](https://suite2p.readthedocs.io/en/latest/settings.html) The most pertinent settings are `results_folder`, `input_movie_path`, `data_path`, and `sampling_rate`. Here, the sampling rate is also retrieved from the NWB file, but should probably be known information for your movies."
   ]
  },
  {
   "cell_type": "code",
   "execution_count": 8,
   "id": "996603aa",
   "metadata": {},
   "outputs": [
    {
     "name": "stdout",
     "output_type": "stream",
     "text": [
      "{}\n"
     ]
    },
    {
     "ename": "KeyError",
     "evalue": "'data_path'",
     "output_type": "error",
     "traceback": [
      "\u001b[1;31m---------------------------------------------------------------------------\u001b[0m",
      "\u001b[1;31mKeyError\u001b[0m                                  Traceback (most recent call last)",
      "Cell \u001b[1;32mIn[8], line 12\u001b[0m\n\u001b[0;32m      9\u001b[0m ops[\u001b[39m\"\u001b[39m\u001b[39msave_nwb\u001b[39m\u001b[39m\"\u001b[39m] \u001b[39m=\u001b[39m \u001b[39m1\u001b[39m\n\u001b[0;32m     10\u001b[0m ops[\u001b[39m\"\u001b[39m\u001b[39mdata_path\u001b[39m\u001b[39m\"\u001b[39m]: [\u001b[39m\"\u001b[39m\u001b[39m./\u001b[39m\u001b[39m\"\u001b[39m]\n\u001b[1;32m---> 12\u001b[0m output_ops \u001b[39m=\u001b[39m suite2p\u001b[39m.\u001b[39;49mrun_s2p(ops\u001b[39m=\u001b[39;49mops)\n",
      "File \u001b[1;32mc:\\Users\\carter.peene\\AppData\\Local\\Programs\\Python\\Python39\\lib\\site-packages\\suite2p\\run_s2p.py:351\u001b[0m, in \u001b[0;36mrun_s2p\u001b[1;34m(ops, db, server)\u001b[0m\n\u001b[0;32m    349\u001b[0m         ops[\u001b[39m'\u001b[39m\u001b[39msave_path0\u001b[39m\u001b[39m'\u001b[39m] \u001b[39m=\u001b[39m os\u001b[39m.\u001b[39mpath\u001b[39m.\u001b[39msplit(ops[\u001b[39m'\u001b[39m\u001b[39mnwb_file\u001b[39m\u001b[39m'\u001b[39m])[\u001b[39m0\u001b[39m]\n\u001b[0;32m    350\u001b[0m     \u001b[39melse\u001b[39;00m:\n\u001b[1;32m--> 351\u001b[0m         ops[\u001b[39m'\u001b[39m\u001b[39msave_path0\u001b[39m\u001b[39m'\u001b[39m] \u001b[39m=\u001b[39m ops[\u001b[39m'\u001b[39;49m\u001b[39mdata_path\u001b[39;49m\u001b[39m'\u001b[39;49m][\u001b[39m0\u001b[39m]\n\u001b[0;32m    353\u001b[0m \u001b[39m# check if there are binaries already made\u001b[39;00m\n\u001b[0;32m    354\u001b[0m \u001b[39mif\u001b[39;00m \u001b[39m'\u001b[39m\u001b[39msave_folder\u001b[39m\u001b[39m'\u001b[39m \u001b[39mnot\u001b[39;00m \u001b[39min\u001b[39;00m ops \u001b[39mor\u001b[39;00m \u001b[39mlen\u001b[39m(ops[\u001b[39m'\u001b[39m\u001b[39msave_folder\u001b[39m\u001b[39m'\u001b[39m])\u001b[39m==\u001b[39m\u001b[39m0\u001b[39m:\n",
      "\u001b[1;31mKeyError\u001b[0m: 'data_path'"
     ]
    }
   ],
   "source": [
    "ops = suite2p.default_ops()\n",
    "ops['threshold_scaling'] = suite2p_threshold_scaling\n",
    "ops['fs'] = float(sampling_rate) # sampling rate of recording, determines binning for cell detection\n",
    "ops['tau'] = 0.7 # timescale of gcamp to use for deconvolution\n",
    "ops['do_registration'] = 0 # data was already registered\n",
    "ops['save_NWB'] = 1\n",
    "ops['save_folder'] = results_folder\n",
    "ops['fast_disk'] = scratch_folder\n",
    "ops[\"save_nwb\"] = 1\n",
    "ops[\"data_path\"] = [\"./\"]\n",
    "\n",
    "output_ops = suite2p.run_s2p(ops=ops)"
   ]
  },
  {
   "cell_type": "markdown",
   "id": "a528c05d",
   "metadata": {},
   "source": [
    "### Suite2P Output\n",
    "Descriptions of the output of Suite2P can be found [here](https://suite2p.readthedocs.io/en/latest/outputs.html). Below, it is shown how to access each output file. Three files, `F.npy`, `Fneu.npy`, and `spks.npy` are 2D arrays containing various forms of the trace data that have shape # ROIs * # Frames. The settings and intermediate values are stored as a dictionary in `ops.npy`. `iscell.py` stores a table which, for each ROI, contains 1/0 if an ROI is a cell, and the certainty value of the classifier. \n",
    "Most importantly, the main statistics of each ROI are included in `stat.npy`. This is processed and shown as a dataframe below. Because the ROI location is stored as `xpix`, and `ypix`, which are arrays of coordinates, the code below produces an *ROI submask* for each ROI. The ROI submasks are more convenient for some purposes."
   ]
  },
  {
   "cell_type": "markdown",
   "id": "365818ed-9e65-450e-81bd-3e0efffb7ab9",
   "metadata": {},
   "source": [
    "#### Traces"
   ]
  },
  {
   "cell_type": "code",
   "execution_count": null,
   "id": "1553a896",
   "metadata": {},
   "outputs": [],
   "source": [
    "fluorescence = np.load(\"./results/plane0/F.npy\")\n",
    "neuropil = np.load(\"./results/plane0/Fneu.npy\")\n",
    "spikes = np.load(\"./results/plane0/spks.npy\")\n",
    "\n",
    "print(fluorescence.shape)\n",
    "print(neuropil.shape)\n",
    "print(spikes.shape)"
   ]
  },
  {
   "cell_type": "code",
   "execution_count": null,
   "id": "ec57b666-a94f-41e3-b512-ad09258d82e0",
   "metadata": {
    "tags": []
   },
   "outputs": [],
   "source": [
    "plt.plot(fluorescence[0])"
   ]
  },
  {
   "cell_type": "markdown",
   "id": "74ecb0e5-c0a7-4e3f-b3ed-047f971a06c9",
   "metadata": {},
   "source": [
    "#### Options and Intermediate Outputs"
   ]
  },
  {
   "cell_type": "code",
   "execution_count": null,
   "id": "9f8f7e76-9073-4593-9e1e-cf8e551bedf4",
   "metadata": {
    "tags": []
   },
   "outputs": [],
   "source": [
    "ops = np.load(\"./results/plane0/ops.npy\", allow_pickle=True).item()\n",
    "ops.keys()"
   ]
  },
  {
   "cell_type": "markdown",
   "id": "cfe96efc-d3cb-405f-96a9-f4d5efaa84de",
   "metadata": {},
   "source": [
    "#### Is-Cell Array"
   ]
  },
  {
   "cell_type": "code",
   "execution_count": null,
   "id": "0af6d9a6-2fbd-45e2-badd-69164d84b24d",
   "metadata": {
    "tags": []
   },
   "outputs": [],
   "source": [
    "is_cell = np.load(\"./results/plane0/iscell.npy\")\n",
    "print(is_cell[:10])"
   ]
  },
  {
   "cell_type": "markdown",
   "id": "8f9468b4-94c4-4ecb-9e88-cc9aa7908bf2",
   "metadata": {},
   "source": [
    "#### ROI Statistics"
   ]
  },
  {
   "cell_type": "code",
   "execution_count": null,
   "id": "6f8928d2-fee6-4af6-bf90-adf978a0fc21",
   "metadata": {
    "tags": []
   },
   "outputs": [],
   "source": [
    "roi_stats = np.load(\"./results/plane0/stat.npy\", allow_pickle=True)"
   ]
  },
  {
   "cell_type": "code",
   "execution_count": null,
   "id": "29bedfcd-b2be-4edb-a4f6-be0618bac6cb",
   "metadata": {},
   "outputs": [],
   "source": [
    "stats_dict = {stat : [roi[stat] for roi in roi_stats] for stat in roi_stats[0].keys()}"
   ]
  },
  {
   "cell_type": "code",
   "execution_count": null,
   "id": "88562478-04ea-41c2-b2d1-ab9f4d8f830b",
   "metadata": {
    "tags": []
   },
   "outputs": [],
   "source": [
    "def convert_pix_to_mask(xpix, ypix):\n",
    "    x_loc = min(xpix)\n",
    "    y_loc = min(ypix)\n",
    "    rel_xpix = xpix - x_loc\n",
    "    rel_ypix = ypix - y_loc\n",
    "    width = max(xpix) - x_loc + 1\n",
    "    height = max(ypix) - y_loc + 1\n",
    "    \n",
    "    mask = np.zeros((height, width))\n",
    "    for y,x in zip(rel_ypix, rel_xpix):\n",
    "        mask[y,x] = 1\n",
    "    return mask"
   ]
  },
  {
   "cell_type": "code",
   "execution_count": null,
   "id": "7e33090f-8d3b-4419-bda8-49585d7f078b",
   "metadata": {
    "tags": []
   },
   "outputs": [],
   "source": [
    "masks_col = []\n",
    "for xpix, ypix in zip(stats_dict[\"xpix\"], stats_dict[\"ypix\"]):\n",
    "    roi_mask = convert_pix_to_mask(xpix, ypix)\n",
    "    masks_col.append(roi_mask)\n",
    "\n",
    "# unionize dicts to ensure masks column goes first\n",
    "stats_dict = {\"mask\": masks_col} | stats_dict"
   ]
  },
  {
   "cell_type": "code",
   "execution_count": null,
   "id": "f40d9e45-1362-4d00-aa08-1d0ea583ddd6",
   "metadata": {
    "tags": []
   },
   "outputs": [],
   "source": [
    "stats_df = pd.DataFrame(data=stats_dict)\n",
    "print(stats_df.columns)\n",
    "stats_df"
   ]
  },
  {
   "cell_type": "markdown",
   "id": "bc7e9fea-9349-443d-9f68-6d1134e135d0",
   "metadata": {},
   "source": [
    "### Comparing Segmentation Output\n",
    "Below we can compare multuple views of the Segmentation Output. Firstly is the main output which contains cells and non-cells. Secondly is the filtered version which is filtered to only include the ROIs which are classified as cells. The fields `Lx` and `Ly` from `ops.npy` contain the shape of the movie, and `ypix` and `xpix` contain the pixel coordinates at which each ROI was identified. These are used to generate the image of all ROI masks. The last plot is the segmentation from the original NWB file from the Allen Institute for comparison."
   ]
  },
  {
   "cell_type": "markdown",
   "id": "f33bf2b9-0251-41a4-9be2-948d051c479e",
   "metadata": {},
   "source": [
    "#### Segmentation from Suite2P"
   ]
  },
  {
   "cell_type": "code",
   "execution_count": null,
   "id": "a79a3f38-b2bd-4b4a-881b-e25d9b00468a",
   "metadata": {
    "tags": []
   },
   "outputs": [],
   "source": [
    "im = np.zeros((ops['Ly'], ops['Lx']))\n",
    "for n in range(len(roi_stats)):\n",
    "    ypix = roi_stats[n]['ypix']\n",
    "    xpix = roi_stats[n]['xpix']\n",
    "    im[ypix,xpix] = 1\n",
    "\n",
    "plt.imshow(im)"
   ]
  },
  {
   "cell_type": "markdown",
   "id": "e08f1baf-3fd2-4601-9861-c3c799481a3a",
   "metadata": {},
   "source": [
    "#### Cell Segmentation from Suite2P Filtered"
   ]
  },
  {
   "cell_type": "code",
   "execution_count": null,
   "id": "61ba7fd8-a9cc-4b5b-8aa7-239432267240",
   "metadata": {
    "tags": []
   },
   "outputs": [],
   "source": [
    "im = np.zeros((ops['Ly'], ops['Lx']))\n",
    "for i in range(len(roi_stats)):\n",
    "    if is_cell[i][0] == 1.0:\n",
    "        ypix = roi_stats[i]['ypix']\n",
    "        xpix = roi_stats[i]['xpix']\n",
    "        im[ypix,xpix] = 1\n",
    "\n",
    "plt.imshow(im)"
   ]
  },
  {
   "cell_type": "markdown",
   "id": "0cad4ce4-5b97-4777-9430-6da1b3c0b409",
   "metadata": {},
   "source": [
    "#### Segmentation From Original NWB"
   ]
  },
  {
   "cell_type": "code",
   "execution_count": null,
   "id": "86bbccfd-49fc-4b55-a9b8-cae424961b95",
   "metadata": {
    "tags": []
   },
   "outputs": [],
   "source": [
    "plt.imshow(nwb.processing[\"ophys\"][\"images\"][\"segmentation_mask_image\"])"
   ]
  },
  {
   "cell_type": "markdown",
   "id": "bc02127b-b1fb-4c81-ad4a-3435ac214adb",
   "metadata": {
    "tags": []
   },
   "source": [
    "#### Ophys NWB\n",
    "Finally, since in the input settings, `save_nwb` was set to 1, an NWB file containing all of these was generated as output."
   ]
  },
  {
   "cell_type": "code",
   "execution_count": null,
   "id": "9d01c4b7-10fe-42b6-b838-903b64a816cc",
   "metadata": {
    "tags": []
   },
   "outputs": [],
   "source": [
    "out_io = NWBHDF5IO(\"./results/ophys.nwb\", load_namespaces=True)\n",
    "out_nwb = out_io.read()"
   ]
  },
  {
   "cell_type": "markdown",
   "id": "06cec5cd",
   "metadata": {},
   "source": [
    "- download NWB\n",
    "- save raw movie\n",
    "- determine inputs\n",
    "- run suite2p pipeline\n",
    "- parse output\n",
    "- compare to segmentation in NWB"
   ]
  }
 ],
 "metadata": {
  "kernelspec": {
   "display_name": "Python 3 (ipykernel)",
   "language": "python",
   "name": "python3"
  },
  "language_info": {
   "codemirror_mode": {
    "name": "ipython",
    "version": 3
   },
   "file_extension": ".py",
   "mimetype": "text/x-python",
   "name": "python",
   "nbconvert_exporter": "python",
   "pygments_lexer": "ipython3",
   "version": "3.9.10"
  }
 },
 "nbformat": 4,
 "nbformat_minor": 5
}
