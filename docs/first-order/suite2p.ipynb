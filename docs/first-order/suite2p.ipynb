{
 "cells": [
  {
   "cell_type": "markdown",
   "id": "85548fe0",
   "metadata": {},
   "source": [
    "# Identifying Regions of Interest with Segmentation\n",
    "The Allen Institute uses [**Suite2P**](http://www.suite2p.org/) for processing 2-Photon Calcium Imaging Data. Specifically, **Suite2P** takes a 2P movie, and outputs information about the putative segmented *Regions of Interest* (ROIs). The most pertinent information outputted are the locations/shapes of the ROIs within the 2P Movie's field-of-view, as well as the fluorescence of each ROI at every frame of the movie. This notebook serves as a simple demonstration of how to input a 2P Movie into Suite2P and produce cell segmentation and fluorescence output.\n"
   ]
  },
  {
   "cell_type": "markdown",
   "id": "04105449",
   "metadata": {},
   "source": [
    "### Environment Setup\n",
    "⚠️**Note: If running on a new environment, run this cell once and then restart the kernel**⚠️"
   ]
  },
  {
   "cell_type": "code",
   "execution_count": 26,
   "id": "4797393d",
   "metadata": {},
   "outputs": [],
   "source": [
    "try:\n",
    "    from dandi_utils import dandi_download_open\n",
    "except:\n",
    "    !git clone https://github.com/AllenInstitute/openscope_databook.git\n",
    "    %cd openscope_databook\n",
    "    %pip install -e ."
   ]
  },
  {
   "cell_type": "code",
   "execution_count": 27,
   "id": "72ce98e2",
   "metadata": {},
   "outputs": [],
   "source": [
    "import h5py\n",
    "import os\n",
    "import suite2p\n",
    "\n",
    "import pandas as pd\n",
    "import urllib.request\n",
    "import numpy as np\n",
    "import matplotlib.pyplot as plt\n",
    "\n",
    "\n",
    "from dandi import download\n",
    "from dandi import dandiapi\n",
    "from pynwb import NWBHDF5IO\n",
    "\n",
    "%matplotlib inline"
   ]
  },
  {
   "cell_type": "markdown",
   "id": "9d6a819e",
   "metadata": {},
   "source": [
    "### Getting The Classifier\n",
    "Suite2p uses a linear regression classifier in order to identify ROIs. If a classifer is not provided, suite2p uses a default classifer. However, the segmentation output is much better if a classifier trained on manually annotated data is used. The databook includes a classifer file that was trained using the [Suite2p GUI](https://suite2p.readthedocs.io/en/latest/gui.html). The Suite2p GUI is a very powerful platform that exceeds the limits of what can be shown in a Jupyter notebook. The cell below ensures that the classifer we need is present in the right location. In case this notebooks is being run outside the OpenScope Databook, it must be downloaded."
   ]
  },
  {
   "cell_type": "code",
   "execution_count": 28,
   "id": "c08ac6e5",
   "metadata": {},
   "outputs": [],
   "source": [
    "classifier_path = \"../../data/suite2p_classifier.npy\"\n",
    "if not os.path.exists(classifier_path):\n",
    "    url = \"https://github.com/AllenInstitute/openscope_databook/blob/e5292764ac3edb0e798196df60dd5bf24732ad78/data/suite2p_classifier.npy\"\n",
    "    urllib.request.urlretrieve(url, \"./suite2p_classifier.npy\")\n",
    "    classifier_path = \"./suite2p_classifier.npy\""
   ]
  },
  {
   "cell_type": "markdown",
   "id": "6ef59305",
   "metadata": {},
   "source": [
    "### Downloading Ophys NWB Files\n",
    "Here you can download several files for a subject that you can run nway matching on. The pipeline can take in any number of input *sessions*, however, the input ophys data should be from the same imaging plane of the same subject. To specify your own file to use, set `dandiset_id` to be the dandiset id of the files you're interested in. Also set `input_dandi_filepaths` to be a list of the filepaths on dandi of each file you're interested in providing to **Nway Matching**. When accessing an embargoed dataset, set `dandi_api_key` to be your DANDI API key."
   ]
  },
  {
   "cell_type": "code",
   "execution_count": 29,
   "id": "e4511768",
   "metadata": {},
   "outputs": [],
   "source": [
    "dandiset_id = \"000336\"\n",
    "dandi_filepath = \"sub-634402/sub-634402_ses-1209063020-acq-1209359211raw_ophys.nwb\"\n",
    "download_loc = \".\"\n",
    "dandi_api_key = os.environ[\"DANDI_API_KEY\"]"
   ]
  },
  {
   "cell_type": "code",
   "execution_count": 30,
   "id": "9c3deb83",
   "metadata": {},
   "outputs": [
    {
     "name": "stdout",
     "output_type": "stream",
     "text": [
      "File already exists\n"
     ]
    }
   ],
   "source": [
    "client = dandiapi.DandiAPIClient(token=dandi_api_key)\n",
    "dandiset = client.get_dandiset(dandiset_id)\n",
    "\n",
    "file = dandiset.get_asset_by_path(dandi_filepath)\n",
    "file_url = file.download_url\n",
    "\n",
    "filename = dandi_filepath.split(\"/\")[-1]\n",
    "nwb_filepath = f\"{download_loc}/{filename}\"\n",
    "\n",
    "if os.path.exists(nwb_filepath):\n",
    "    print(\"File already exists\")\n",
    "else:\n",
    "    download.download(file_url, output_dir=download_loc)\n",
    "    print(f\"Downloaded file to {nwb_filepath}\")"
   ]
  },
  {
   "cell_type": "markdown",
   "id": "365c9743",
   "metadata": {},
   "source": [
    "### Preparing Suite2P Input\n",
    "Typically, the 2P movie would not come prepared within an NWB file, but would be in some other form. Suite2P is capable of taking input in many forms, enumerated [here](https://suite2p.readthedocs.io/en/latest/inputs.html). Suite2P is capable of taking input in the form of h5py files. Since NWB files are a subset of h5py, we can convert it just by renaming the file and opening it with `h5py.file` This will have to be undone later in order to protect the validity of the file for PyNWB. The main setting to tweak the output of the segmentation is `threshold_scaling`. Lowering the threshold scaling makes the segmentation algorithm more sensitive, and will result in more segmented regions in the output. Since the classifier we provide is reasonably trained, it is sufficient to filter out a lot of the resultant messiness."
   ]
  },
  {
   "cell_type": "code",
   "execution_count": 31,
   "id": "1e36c02f",
   "metadata": {},
   "outputs": [],
   "source": [
    "h5_filepath = nwb_filepath.replace(\"nwb\", \"h5\")\n",
    "os.rename(nwb_filepath, h5_filepath)\n",
    "nwb = h5py.File(h5_filepath)"
   ]
  },
  {
   "cell_type": "code",
   "execution_count": 32,
   "id": "95e8e7d2",
   "metadata": {},
   "outputs": [],
   "source": [
    "results_folder = \"./results/\"\n",
    "scratch_folder = \"./results/\"\n",
    "input_movie_path = \"./movie\"\n",
    "sampling_rate = nwb[\"acquisition/raw_suite2p_motion_corrected/imaging_plane/imaging_rate\"][()]\n",
    "threshold_scaling = 0.75"
   ]
  },
  {
   "cell_type": "markdown",
   "id": "c04a7165",
   "metadata": {},
   "source": [
    "### Running Suite2P\n",
    "From there, input settings can be specified for Suite2P via the `ops` object. The available settings and their meanings are described [here](https://suite2p.readthedocs.io/en/latest/settings.html) The most pertinent settings are `results_folder`, `input_movie_path`, `data_path`, and `sampling_rate`. Here, the sampling rate is also retrieved from the NWB file, but should probably be known information for your movies."
   ]
  },
  {
   "cell_type": "code",
   "execution_count": 33,
   "id": "996603aa",
   "metadata": {},
   "outputs": [
    {
     "name": "stdout",
     "output_type": "stream",
     "text": [
      "{}\n",
      "h5\n",
      "** Found 1 h5 files - converting to binary **\n",
      "NOTE: using a list of h5 files:\n",
      "['.\\\\sub-634402_ses-1209063020-acq-1209359211raw_ophys.h5']\n",
      "time 90.47 sec. Wrote 44201 frames per binary for 1 planes\n",
      ">>>>>>>>>>>>>>>>>>>>> PLANE 0 <<<<<<<<<<<<<<<<<<<<<<\n",
      "NOTE: not running registration, ops['do_registration']=0\n",
      "binary path: ./results/suite2p\\plane0\\data.bin\n",
      "NOTE: applying classifier ../../data/suite2p_classifier.npy\n",
      "----------- ROI DETECTION\n",
      "Binning movie in chunks of length 08\n",
      "Binned movie of size [5525,512,512] created in 60.99 sec.\n",
      "NOTE: estimated spatial scale ~6 pixels, time epochs 4.60, threshold 17.27 \n",
      "0 ROIs, score=252.63\n",
      "Detected 284 ROIs, 420.20 sec\n",
      "After removing overlaps, 273 ROIs remain\n",
      "----------- Total 482.40 sec.\n",
      "----------- EXTRACTION\n",
      "Masks created, 0.57 sec.\n",
      "Extracted fluorescence from 273 ROIs in 44201 frames, 64.43 sec.\n",
      "----------- Total 65.37 sec.\n",
      "----------- CLASSIFICATION\n",
      "['npix_norm', 'skew', 'compact']\n",
      "----------- SPIKE DECONVOLUTION\n",
      "----------- Total 0.65 sec.\n",
      "Plane 0 processed in 548.79 sec (can open in GUI).\n",
      "total = 639.33 sec.\n",
      "TOTAL RUNTIME 639.33 sec\n"
     ]
    }
   ],
   "source": [
    "ops = suite2p.default_ops()\n",
    "ops['threshold_scaling'] = threshold_scaling\n",
    "ops['fs'] = float(sampling_rate) # sampling rate of recording, determines binning for cell detection\n",
    "ops['tau'] = 0.7 # timescale of gcamp to use for deconvolution\n",
    "ops['do_registration'] = 0 # data was already registered\n",
    "ops['save_folder'] = results_folder\n",
    "ops['fast_disk'] = scratch_folder\n",
    "ops[\"save_nwb\"] = 1\n",
    "ops[\"h5py\"] = [\"./\"]\n",
    "ops[\"h5py_key\"] = \"acquisition/raw_suite2p_motion_corrected/data\"\n",
    "ops[\"classifier_path\"] = classifier_path\n",
    "\n",
    "output_ops = suite2p.run_s2p(ops=ops)"
   ]
  },
  {
   "cell_type": "markdown",
   "id": "a528c05d",
   "metadata": {},
   "source": [
    "### Suite2P Output\n",
    "Descriptions of the output of Suite2P can be found [here](https://suite2p.readthedocs.io/en/latest/outputs.html). Below, it is shown how to access each output file. Three files, `F.npy`, `Fneu.npy`, and `spks.npy` are 2D arrays containing various forms of the trace data that have shape # ROIs * # Frames. The settings and intermediate values are stored as a dictionary in `ops.npy`. `iscell.py` stores a table which, for each ROI, contains 1/0 if an ROI is a cell, and the certainty value of the classifier. \n",
    "Most importantly, the main statistics of each ROI are included in `stat.npy`. This is processed and shown as a dataframe below. Because the ROI location is stored as `xpix`, and `ypix`, which are arrays of coordinates, the code below produces an *ROI submask* for each ROI. The ROI submasks are more convenient for some purposes."
   ]
  },
  {
   "cell_type": "markdown",
   "id": "365818ed-9e65-450e-81bd-3e0efffb7ab9",
   "metadata": {},
   "source": [
    "#### Traces"
   ]
  },
  {
   "cell_type": "code",
   "execution_count": 34,
   "id": "1553a896",
   "metadata": {},
   "outputs": [
    {
     "name": "stdout",
     "output_type": "stream",
     "text": [
      "(273, 44201)\n",
      "(273, 44201)\n",
      "(273, 44201)\n"
     ]
    }
   ],
   "source": [
    "fluorescence = np.load(\"./results/plane0/F.npy\")\n",
    "neuropil = np.load(\"./results/plane0/Fneu.npy\")\n",
    "spikes = np.load(\"./results/plane0/spks.npy\")\n",
    "\n",
    "print(fluorescence.shape)\n",
    "print(neuropil.shape)\n",
    "print(spikes.shape)"
   ]
  },
  {
   "cell_type": "code",
   "execution_count": 35,
   "id": "ec57b666-a94f-41e3-b512-ad09258d82e0",
   "metadata": {
    "tags": []
   },
   "outputs": [
    {
     "data": {
      "text/plain": [
       "[<matplotlib.lines.Line2D at 0x2088acd92e0>]"
      ]
     },
     "execution_count": 35,
     "metadata": {},
     "output_type": "execute_result"
    },
    {
     "data": {
      "image/png": "[encoded data removed]",
      "text/plain": [
       "<Figure size 640x480 with 1 Axes>"
      ]
     },
     "metadata": {},
     "output_type": "display_data"
    }
   ],
   "source": [
    "plt.plot(fluorescence[0])"
   ]
  },
  {
   "cell_type": "markdown",
   "id": "74ecb0e5-c0a7-4e3f-b3ed-047f971a06c9",
   "metadata": {},
   "source": [
    "#### Options and Intermediate Outputs"
   ]
  },
  {
   "cell_type": "code",
   "execution_count": 36,
   "id": "9f8f7e76-9073-4593-9e1e-cf8e551bedf4",
   "metadata": {
    "tags": []
   },
   "outputs": [
    {
     "data": {
      "text/plain": [
       "dict_keys(['suite2p_version', 'look_one_level_down', 'fast_disk', 'delete_bin', 'mesoscan', 'bruker', 'bruker_bidirectional', 'h5py', 'h5py_key', 'nwb_file', 'nwb_driver', 'nwb_series', 'save_path0', 'save_folder', 'subfolders', 'move_bin', 'nplanes', 'nchannels', 'functional_chan', 'tau', 'fs', 'force_sktiff', 'frames_include', 'multiplane_parallel', 'ignore_flyback', 'preclassify', 'save_mat', 'save_NWB', 'combined', 'aspect', 'do_bidiphase', 'bidiphase', 'bidi_corrected', 'do_registration', 'two_step_registration', 'keep_movie_raw', 'nimg_init', 'batch_size', 'maxregshift', 'align_by_chan', 'reg_tif', 'reg_tif_chan2', 'subpixel', 'smooth_sigma_time', 'smooth_sigma', 'th_badframes', 'norm_frames', 'force_refImg', 'pad_fft', 'nonrigid', 'block_size', 'snr_thresh', 'maxregshiftNR', '1Preg', 'spatial_hp_reg', 'pre_smooth', 'spatial_taper', 'roidetect', 'spikedetect', 'sparse_mode', 'spatial_scale', 'connected', 'nbinned', 'max_iterations', 'threshold_scaling', 'max_overlap', 'high_pass', 'spatial_hp_detect', 'denoise', 'anatomical_only', 'diameter', 'cellprob_threshold', 'flow_threshold', 'spatial_hp_cp', 'pretrained_model', 'soma_crop', 'neuropil_extract', 'inner_neuropil_radius', 'min_neuropil_pixels', 'lam_percentile', 'allow_overlap', 'use_builtin_classifier', 'classifier_path', 'chan2_thres', 'baseline', 'win_baseline', 'sig_baseline', 'prctile_baseline', 'neucoeff', 'save_nwb', 'input_format', 'data_path', 'save_path', 'ops_path', 'reg_file', 'first_tiffs', 'filelist', 'h5list', 'nframes_per_folder', 'meanImg', 'nframes', 'Ly', 'Lx', 'yrange', 'xrange', 'date_proc', 'Lyc', 'Lxc', 'max_proj', 'Vmax', 'ihop', 'Vsplit', 'Vcorr', 'Vmap', 'spatscale_pix', 'timing'])"
      ]
     },
     "execution_count": 36,
     "metadata": {},
     "output_type": "execute_result"
    }
   ],
   "source": [
    "ops = np.load(\"./results/plane0/ops.npy\", allow_pickle=True).item()\n",
    "ops.keys()"
   ]
  },
  {
   "cell_type": "markdown",
   "id": "cfe96efc-d3cb-405f-96a9-f4d5efaa84de",
   "metadata": {},
   "source": [
    "#### Is-Cell Array"
   ]
  },
  {
   "cell_type": "code",
   "execution_count": 37,
   "id": "0af6d9a6-2fbd-45e2-badd-69164d84b24d",
   "metadata": {
    "tags": []
   },
   "outputs": [
    {
     "name": "stdout",
     "output_type": "stream",
     "text": [
      "[[1.00000000e+00 9.98864964e-01]\n",
      " [1.00000000e+00 9.97006177e-01]\n",
      " [1.00000000e+00 9.88746332e-01]\n",
      " [1.00000000e+00 9.99259526e-01]\n",
      " [1.00000000e+00 9.96420219e-01]\n",
      " [0.00000000e+00 3.87325083e-03]\n",
      " [1.00000000e+00 9.99562312e-01]\n",
      " [0.00000000e+00 2.22040511e-08]\n",
      " [0.00000000e+00 7.49382210e-08]\n",
      " [0.00000000e+00 3.45083030e-02]]\n"
     ]
    }
   ],
   "source": [
    "is_cell = np.load(\"./results/plane0/iscell.npy\")\n",
    "print(is_cell[:10])"
   ]
  },
  {
   "cell_type": "markdown",
   "id": "8f9468b4-94c4-4ecb-9e88-cc9aa7908bf2",
   "metadata": {},
   "source": [
    "#### ROI Statistics"
   ]
  },
  {
   "cell_type": "code",
   "execution_count": 38,
   "id": "6f8928d2-fee6-4af6-bf90-adf978a0fc21",
   "metadata": {
    "tags": []
   },
   "outputs": [],
   "source": [
    "roi_stats = np.load(\"./results/plane0/stat.npy\", allow_pickle=True)"
   ]
  },
  {
   "cell_type": "code",
   "execution_count": 39,
   "id": "29bedfcd-b2be-4edb-a4f6-be0618bac6cb",
   "metadata": {},
   "outputs": [],
   "source": [
    "stats_dict = {stat : [roi[stat] for roi in roi_stats] for stat in roi_stats[0].keys()}"
   ]
  },
  {
   "cell_type": "code",
   "execution_count": 40,
   "id": "88562478-04ea-41c2-b2d1-ab9f4d8f830b",
   "metadata": {
    "tags": []
   },
   "outputs": [],
   "source": [
    "def convert_pix_to_mask(xpix, ypix):\n",
    "    x_loc = min(xpix)\n",
    "    y_loc = min(ypix)\n",
    "    rel_xpix = xpix - x_loc\n",
    "    rel_ypix = ypix - y_loc\n",
    "    width = max(xpix) - x_loc + 1\n",
    "    height = max(ypix) - y_loc + 1\n",
    "    \n",
    "    mask = np.zeros((height, width))\n",
    "    for y,x in zip(rel_ypix, rel_xpix):\n",
    "        mask[y,x] = 1\n",
    "    return mask"
   ]
  },
  {
   "cell_type": "code",
   "execution_count": 41,
   "id": "7e33090f-8d3b-4419-bda8-49585d7f078b",
   "metadata": {
    "tags": []
   },
   "outputs": [],
   "source": [
    "masks_col = []\n",
    "for xpix, ypix in zip(stats_dict[\"xpix\"], stats_dict[\"ypix\"]):\n",
    "    roi_mask = convert_pix_to_mask(xpix, ypix)\n",
    "    masks_col.append(roi_mask)\n",
    "\n",
    "# unionize dicts to ensure masks column goes first\n",
    "stats_dict = {\"mask\": masks_col} | stats_dict"
   ]
  },
  {
   "cell_type": "code",
   "execution_count": 42,
   "id": "f40d9e45-1362-4d00-aa08-1d0ea583ddd6",
   "metadata": {
    "tags": []
   },
   "outputs": [
    {
     "name": "stdout",
     "output_type": "stream",
     "text": [
      "Index(['mask', 'ypix', 'xpix', 'lam', 'med', 'footprint', 'mrs', 'mrs0',\n",
      "       'compact', 'solidity', 'npix', 'npix_soma', 'soma_crop', 'overlap',\n",
      "       'radius', 'aspect_ratio', 'npix_norm_no_crop', 'npix_norm', 'skew',\n",
      "       'std', 'neuropil_mask'],\n",
      "      dtype='object')\n"
     ]
    },
    {
     "data": {
      "text/html": [
       "<div>\n",
       "<style scoped>\n",
       "    .dataframe tbody tr th:only-of-type {\n",
       "        vertical-align: middle;\n",
       "    }\n",
       "\n",
       "    .dataframe tbody tr th {\n",
       "        vertical-align: top;\n",
       "    }\n",
       "\n",
       "    .dataframe thead th {\n",
       "        text-align: right;\n",
       "    }\n",
       "</style>\n",
       "<table border=\"1\" class=\"dataframe\">\n",
       "  <thead>\n",
       "    <tr style=\"text-align: right;\">\n",
       "      <th></th>\n",
       "      <th>mask</th>\n",
       "      <th>ypix</th>\n",
       "      <th>xpix</th>\n",
       "      <th>lam</th>\n",
       "      <th>med</th>\n",
       "      <th>footprint</th>\n",
       "      <th>mrs</th>\n",
       "      <th>mrs0</th>\n",
       "      <th>compact</th>\n",
       "      <th>solidity</th>\n",
       "      <th>...</th>\n",
       "      <th>npix_soma</th>\n",
       "      <th>soma_crop</th>\n",
       "      <th>overlap</th>\n",
       "      <th>radius</th>\n",
       "      <th>aspect_ratio</th>\n",
       "      <th>npix_norm_no_crop</th>\n",
       "      <th>npix_norm</th>\n",
       "      <th>skew</th>\n",
       "      <th>std</th>\n",
       "      <th>neuropil_mask</th>\n",
       "    </tr>\n",
       "  </thead>\n",
       "  <tbody>\n",
       "    <tr>\n",
       "      <th>0</th>\n",
       "      <td>[[0.0, 0.0, 0.0, 0.0, 0.0, 0.0, 0.0, 1.0, 1.0,...</td>\n",
       "      <td>[428, 428, 429, 429, 429, 429, 429, 430, 430, ...</td>\n",
       "      <td>[486, 487, 484, 485, 486, 487, 488, 483, 484, ...</td>\n",
       "      <td>[11.651352, 13.176081, 15.989581, 22.941147, 2...</td>\n",
       "      <td>[433, 485]</td>\n",
       "      <td>2.0</td>\n",
       "      <td>1.828702</td>\n",
       "      <td>3.998962</td>\n",
       "      <td>1.012977</td>\n",
       "      <td>1.124378</td>\n",
       "      <td>...</td>\n",
       "      <td>113</td>\n",
       "      <td>[True, True, True, True, True, True, True, Tru...</td>\n",
       "      <td>[False, False, False, False, False, False, Fal...</td>\n",
       "      <td>5.276856</td>\n",
       "      <td>1.032278</td>\n",
       "      <td>2.685268</td>\n",
       "      <td>2.392040</td>\n",
       "      <td>7.412308</td>\n",
       "      <td>320.462250</td>\n",
       "      <td>[216024, 216025, 216026, 216027, 216028, 21602...</td>\n",
       "    </tr>\n",
       "    <tr>\n",
       "      <th>1</th>\n",
       "      <td>[[0.0, 0.0, 0.0, 0.0, 0.0, 0.0, 0.0, 0.0, 0.0,...</td>\n",
       "      <td>[27, 27, 27, 28, 28, 28, 28, 28, 28, 28, 28, 2...</td>\n",
       "      <td>[229, 232, 235, 226, 227, 228, 229, 230, 231, ...</td>\n",
       "      <td>[24.05342, 21.725483, 22.07972, 26.372776, 32....</td>\n",
       "      <td>[33, 229]</td>\n",
       "      <td>2.0</td>\n",
       "      <td>2.190842</td>\n",
       "      <td>4.761335</td>\n",
       "      <td>1.019263</td>\n",
       "      <td>1.073826</td>\n",
       "      <td>...</td>\n",
       "      <td>160</td>\n",
       "      <td>[True, True, False, True, True, True, True, Tr...</td>\n",
       "      <td>[False, False, False, False, False, False, Fal...</td>\n",
       "      <td>6.992389</td>\n",
       "      <td>1.075117</td>\n",
       "      <td>2.685268</td>\n",
       "      <td>3.386960</td>\n",
       "      <td>7.305401</td>\n",
       "      <td>451.106903</td>\n",
       "      <td>[10453, 10454, 10455, 10456, 10457, 10458, 104...</td>\n",
       "    </tr>\n",
       "    <tr>\n",
       "      <th>2</th>\n",
       "      <td>[[1.0, 0.0, 0.0, 0.0, 0.0, 0.0, 0.0, 0.0, 0.0,...</td>\n",
       "      <td>[172, 173, 173, 174, 174, 174, 175, 175, 175, ...</td>\n",
       "      <td>[1, 1, 2, 1, 2, 3, 2, 3, 4, 2, 3, 4, 5, 3, 4, ...</td>\n",
       "      <td>[8.7256, 9.079002, 8.424271, 10.454597, 13.275...</td>\n",
       "      <td>[189, 9]</td>\n",
       "      <td>2.0</td>\n",
       "      <td>2.183545</td>\n",
       "      <td>4.655661</td>\n",
       "      <td>1.038926</td>\n",
       "      <td>1.044369</td>\n",
       "      <td>...</td>\n",
       "      <td>153</td>\n",
       "      <td>[False, False, False, False, False, False, Fal...</td>\n",
       "      <td>[False, False, False, False, False, False, Fal...</td>\n",
       "      <td>6.875572</td>\n",
       "      <td>1.012094</td>\n",
       "      <td>3.375337</td>\n",
       "      <td>3.238780</td>\n",
       "      <td>4.802567</td>\n",
       "      <td>156.942078</td>\n",
       "      <td>[84480, 84481, 84482, 84483, 84484, 84485, 844...</td>\n",
       "    </tr>\n",
       "    <tr>\n",
       "      <th>3</th>\n",
       "      <td>[[0.0, 1.0, 0.0, 0.0, 0.0, 0.0, 0.0, 0.0, 0.0,...</td>\n",
       "      <td>[11, 12, 12, 12, 12, 12, 13, 13, 13, 13, 13, 1...</td>\n",
       "      <td>[29, 28, 29, 38, 39, 40, 28, 29, 30, 36, 37, 3...</td>\n",
       "      <td>[16.068026, 17.825556, 19.261042, 18.631035, 2...</td>\n",
       "      <td>[17, 33]</td>\n",
       "      <td>2.0</td>\n",
       "      <td>1.927958</td>\n",
       "      <td>4.017241</td>\n",
       "      <td>1.063098</td>\n",
       "      <td>0.987013</td>\n",
       "      <td>...</td>\n",
       "      <td>114</td>\n",
       "      <td>[True, True, True, True, True, False, True, Tr...</td>\n",
       "      <td>[False, False, False, False, False, False, Fal...</td>\n",
       "      <td>6.952876</td>\n",
       "      <td>1.157342</td>\n",
       "      <td>1.845184</td>\n",
       "      <td>2.413209</td>\n",
       "      <td>6.719306</td>\n",
       "      <td>198.852875</td>\n",
       "      <td>[2069, 2070, 2071, 2072, 2073, 2074, 2075, 207...</td>\n",
       "    </tr>\n",
       "    <tr>\n",
       "      <th>4</th>\n",
       "      <td>[[0.0, 0.0, 0.0, 0.0, 1.0, 1.0, 1.0, 1.0, 1.0,...</td>\n",
       "      <td>[301, 301, 301, 301, 301, 301, 301, 302, 302, ...</td>\n",
       "      <td>[80, 81, 82, 83, 84, 85, 86, 78, 79, 80, 81, 8...</td>\n",
       "      <td>[28.207954, 37.23545, 37.509827, 48.402664, 43...</td>\n",
       "      <td>[305, 81]</td>\n",
       "      <td>2.0</td>\n",
       "      <td>2.090482</td>\n",
       "      <td>4.541314</td>\n",
       "      <td>1.019691</td>\n",
       "      <td>1.110266</td>\n",
       "      <td>...</td>\n",
       "      <td>146</td>\n",
       "      <td>[True, True, True, True, True, True, True, Tru...</td>\n",
       "      <td>[False, False, False, False, False, False, Fal...</td>\n",
       "      <td>7.164109</td>\n",
       "      <td>1.001496</td>\n",
       "      <td>2.415241</td>\n",
       "      <td>3.090601</td>\n",
       "      <td>4.611879</td>\n",
       "      <td>153.295135</td>\n",
       "      <td>[150597, 150598, 150599, 150600, 150601, 15060...</td>\n",
       "    </tr>\n",
       "    <tr>\n",
       "      <th>...</th>\n",
       "      <td>...</td>\n",
       "      <td>...</td>\n",
       "      <td>...</td>\n",
       "      <td>...</td>\n",
       "      <td>...</td>\n",
       "      <td>...</td>\n",
       "      <td>...</td>\n",
       "      <td>...</td>\n",
       "      <td>...</td>\n",
       "      <td>...</td>\n",
       "      <td>...</td>\n",
       "      <td>...</td>\n",
       "      <td>...</td>\n",
       "      <td>...</td>\n",
       "      <td>...</td>\n",
       "      <td>...</td>\n",
       "      <td>...</td>\n",
       "      <td>...</td>\n",
       "      <td>...</td>\n",
       "      <td>...</td>\n",
       "      <td>...</td>\n",
       "    </tr>\n",
       "    <tr>\n",
       "      <th>268</th>\n",
       "      <td>[[1.0, 1.0, 1.0, 1.0, 1.0, 0.0, 0.0, 0.0, 1.0,...</td>\n",
       "      <td>[289, 289, 289, 289, 289, 289, 289, 290, 290, ...</td>\n",
       "      <td>[28, 29, 30, 31, 32, 36, 37, 29, 31, 32, 33, 3...</td>\n",
       "      <td>[33.77539, 46.516613, 42.33151, 41.209297, 37....</td>\n",
       "      <td>[291, 34]</td>\n",
       "      <td>0.0</td>\n",
       "      <td>0.710081</td>\n",
       "      <td>1.420923</td>\n",
       "      <td>1.106983</td>\n",
       "      <td>1.333333</td>\n",
       "      <td>...</td>\n",
       "      <td>14</td>\n",
       "      <td>[False, False, False, False, True, True, False...</td>\n",
       "      <td>[False, False, False, False, False, False, Fal...</td>\n",
       "      <td>2.720818</td>\n",
       "      <td>1.284331</td>\n",
       "      <td>0.345034</td>\n",
       "      <td>0.296359</td>\n",
       "      <td>0.787620</td>\n",
       "      <td>208.527649</td>\n",
       "      <td>[144405, 144406, 144407, 144408, 144409, 14441...</td>\n",
       "    </tr>\n",
       "    <tr>\n",
       "      <th>269</th>\n",
       "      <td>[[0.0, 0.0, 0.0, 0.0, 0.0, 0.0, 0.0, 0.0, 0.0,...</td>\n",
       "      <td>[357, 358, 358, 358, 358, 358, 358, 358, 359, ...</td>\n",
       "      <td>[508, 503, 505, 506, 507, 508, 509, 510, 502, ...</td>\n",
       "      <td>[22.128893, 22.802996, 17.599468, 32.4844, 23....</td>\n",
       "      <td>[365, 505]</td>\n",
       "      <td>2.0</td>\n",
       "      <td>2.028474</td>\n",
       "      <td>3.871603</td>\n",
       "      <td>1.160600</td>\n",
       "      <td>0.868852</td>\n",
       "      <td>...</td>\n",
       "      <td>106</td>\n",
       "      <td>[False, False, False, False, False, False, Fal...</td>\n",
       "      <td>[False, False, False, False, False, False, Fal...</td>\n",
       "      <td>7.130968</td>\n",
       "      <td>1.052262</td>\n",
       "      <td>1.800180</td>\n",
       "      <td>2.243861</td>\n",
       "      <td>0.379048</td>\n",
       "      <td>98.740311</td>\n",
       "      <td>[177126, 177127, 177128, 177129, 177130, 17713...</td>\n",
       "    </tr>\n",
       "    <tr>\n",
       "      <th>270</th>\n",
       "      <td>[[0.0, 0.0, 0.0, 0.0, 1.0], [0.0, 0.0, 1.0, 0....</td>\n",
       "      <td>[187, 188, 188, 189, 189, 189, 189, 190, 190, ...</td>\n",
       "      <td>[125, 123, 125, 122, 123, 124, 125, 123, 124, ...</td>\n",
       "      <td>[93.206924, 136.14496, 71.33629, 171.96162, 18...</td>\n",
       "      <td>[190, 123]</td>\n",
       "      <td>0.0</td>\n",
       "      <td>0.753628</td>\n",
       "      <td>1.420923</td>\n",
       "      <td>1.174872</td>\n",
       "      <td>1.272727</td>\n",
       "      <td>...</td>\n",
       "      <td>14</td>\n",
       "      <td>[False, True, True, True, True, True, True, Tr...</td>\n",
       "      <td>[False, False, False, False, False, False, Fal...</td>\n",
       "      <td>2.809890</td>\n",
       "      <td>1.233736</td>\n",
       "      <td>0.225022</td>\n",
       "      <td>0.296359</td>\n",
       "      <td>1.104229</td>\n",
       "      <td>418.385559</td>\n",
       "      <td>[89709, 89710, 89711, 89712, 89713, 89714, 897...</td>\n",
       "    </tr>\n",
       "    <tr>\n",
       "      <th>271</th>\n",
       "      <td>[[1.0, 1.0, 1.0, 1.0], [0.0, 0.0, 1.0, 1.0]]</td>\n",
       "      <td>[468, 468, 468, 468, 469, 469]</td>\n",
       "      <td>[353, 354, 355, 356, 355, 356]</td>\n",
       "      <td>[115.45925, 301.32797, 415.36664, 154.81465, 1...</td>\n",
       "      <td>[468, 355]</td>\n",
       "      <td>0.0</td>\n",
       "      <td>0.482601</td>\n",
       "      <td>0.902369</td>\n",
       "      <td>1.184699</td>\n",
       "      <td>0.600000</td>\n",
       "      <td>...</td>\n",
       "      <td>6</td>\n",
       "      <td>[True, True, True, True, True, True]</td>\n",
       "      <td>[False, True, True, False, True, True]</td>\n",
       "      <td>1.797855</td>\n",
       "      <td>1.357884</td>\n",
       "      <td>0.090009</td>\n",
       "      <td>0.127011</td>\n",
       "      <td>1.508273</td>\n",
       "      <td>704.798340</td>\n",
       "      <td>[233814, 233815, 233816, 233817, 233818, 23381...</td>\n",
       "    </tr>\n",
       "    <tr>\n",
       "      <th>272</th>\n",
       "      <td>[[1.0, 1.0, 0.0], [1.0, 1.0, 1.0]]</td>\n",
       "      <td>[95, 95, 96, 96, 96]</td>\n",
       "      <td>[312, 313, 312, 313, 314]</td>\n",
       "      <td>[115.85644, 102.80719, 425.6042, 415.69888, 15...</td>\n",
       "      <td>[96, 312]</td>\n",
       "      <td>0.0</td>\n",
       "      <td>0.398547</td>\n",
       "      <td>0.800000</td>\n",
       "      <td>1.103553</td>\n",
       "      <td>0.500000</td>\n",
       "      <td>...</td>\n",
       "      <td>5</td>\n",
       "      <td>[True, True, True, True, True]</td>\n",
       "      <td>[False, False, False, False, False]</td>\n",
       "      <td>1.379377</td>\n",
       "      <td>1.233591</td>\n",
       "      <td>0.075007</td>\n",
       "      <td>0.105843</td>\n",
       "      <td>1.292055</td>\n",
       "      <td>660.939880</td>\n",
       "      <td>[42796, 42797, 42798, 42799, 42800, 42801, 428...</td>\n",
       "    </tr>\n",
       "  </tbody>\n",
       "</table>\n",
       "<p>273 rows × 21 columns</p>\n",
       "</div>"
      ],
      "text/plain": [
       "                                                  mask  \\\n",
       "0    [[0.0, 0.0, 0.0, 0.0, 0.0, 0.0, 0.0, 1.0, 1.0,...   \n",
       "1    [[0.0, 0.0, 0.0, 0.0, 0.0, 0.0, 0.0, 0.0, 0.0,...   \n",
       "2    [[1.0, 0.0, 0.0, 0.0, 0.0, 0.0, 0.0, 0.0, 0.0,...   \n",
       "3    [[0.0, 1.0, 0.0, 0.0, 0.0, 0.0, 0.0, 0.0, 0.0,...   \n",
       "4    [[0.0, 0.0, 0.0, 0.0, 1.0, 1.0, 1.0, 1.0, 1.0,...   \n",
       "..                                                 ...   \n",
       "268  [[1.0, 1.0, 1.0, 1.0, 1.0, 0.0, 0.0, 0.0, 1.0,...   \n",
       "269  [[0.0, 0.0, 0.0, 0.0, 0.0, 0.0, 0.0, 0.0, 0.0,...   \n",
       "270  [[0.0, 0.0, 0.0, 0.0, 1.0], [0.0, 0.0, 1.0, 0....   \n",
       "271       [[1.0, 1.0, 1.0, 1.0], [0.0, 0.0, 1.0, 1.0]]   \n",
       "272                 [[1.0, 1.0, 0.0], [1.0, 1.0, 1.0]]   \n",
       "\n",
       "                                                  ypix  \\\n",
       "0    [428, 428, 429, 429, 429, 429, 429, 430, 430, ...   \n",
       "1    [27, 27, 27, 28, 28, 28, 28, 28, 28, 28, 28, 2...   \n",
       "2    [172, 173, 173, 174, 174, 174, 175, 175, 175, ...   \n",
       "3    [11, 12, 12, 12, 12, 12, 13, 13, 13, 13, 13, 1...   \n",
       "4    [301, 301, 301, 301, 301, 301, 301, 302, 302, ...   \n",
       "..                                                 ...   \n",
       "268  [289, 289, 289, 289, 289, 289, 289, 290, 290, ...   \n",
       "269  [357, 358, 358, 358, 358, 358, 358, 358, 359, ...   \n",
       "270  [187, 188, 188, 189, 189, 189, 189, 190, 190, ...   \n",
       "271                     [468, 468, 468, 468, 469, 469]   \n",
       "272                               [95, 95, 96, 96, 96]   \n",
       "\n",
       "                                                  xpix  \\\n",
       "0    [486, 487, 484, 485, 486, 487, 488, 483, 484, ...   \n",
       "1    [229, 232, 235, 226, 227, 228, 229, 230, 231, ...   \n",
       "2    [1, 1, 2, 1, 2, 3, 2, 3, 4, 2, 3, 4, 5, 3, 4, ...   \n",
       "3    [29, 28, 29, 38, 39, 40, 28, 29, 30, 36, 37, 3...   \n",
       "4    [80, 81, 82, 83, 84, 85, 86, 78, 79, 80, 81, 8...   \n",
       "..                                                 ...   \n",
       "268  [28, 29, 30, 31, 32, 36, 37, 29, 31, 32, 33, 3...   \n",
       "269  [508, 503, 505, 506, 507, 508, 509, 510, 502, ...   \n",
       "270  [125, 123, 125, 122, 123, 124, 125, 123, 124, ...   \n",
       "271                     [353, 354, 355, 356, 355, 356]   \n",
       "272                          [312, 313, 312, 313, 314]   \n",
       "\n",
       "                                                   lam         med  footprint  \\\n",
       "0    [11.651352, 13.176081, 15.989581, 22.941147, 2...  [433, 485]        2.0   \n",
       "1    [24.05342, 21.725483, 22.07972, 26.372776, 32....   [33, 229]        2.0   \n",
       "2    [8.7256, 9.079002, 8.424271, 10.454597, 13.275...    [189, 9]        2.0   \n",
       "3    [16.068026, 17.825556, 19.261042, 18.631035, 2...    [17, 33]        2.0   \n",
       "4    [28.207954, 37.23545, 37.509827, 48.402664, 43...   [305, 81]        2.0   \n",
       "..                                                 ...         ...        ...   \n",
       "268  [33.77539, 46.516613, 42.33151, 41.209297, 37....   [291, 34]        0.0   \n",
       "269  [22.128893, 22.802996, 17.599468, 32.4844, 23....  [365, 505]        2.0   \n",
       "270  [93.206924, 136.14496, 71.33629, 171.96162, 18...  [190, 123]        0.0   \n",
       "271  [115.45925, 301.32797, 415.36664, 154.81465, 1...  [468, 355]        0.0   \n",
       "272  [115.85644, 102.80719, 425.6042, 415.69888, 15...   [96, 312]        0.0   \n",
       "\n",
       "          mrs      mrs0   compact  solidity  ...  npix_soma  \\\n",
       "0    1.828702  3.998962  1.012977  1.124378  ...        113   \n",
       "1    2.190842  4.761335  1.019263  1.073826  ...        160   \n",
       "2    2.183545  4.655661  1.038926  1.044369  ...        153   \n",
       "3    1.927958  4.017241  1.063098  0.987013  ...        114   \n",
       "4    2.090482  4.541314  1.019691  1.110266  ...        146   \n",
       "..        ...       ...       ...       ...  ...        ...   \n",
       "268  0.710081  1.420923  1.106983  1.333333  ...         14   \n",
       "269  2.028474  3.871603  1.160600  0.868852  ...        106   \n",
       "270  0.753628  1.420923  1.174872  1.272727  ...         14   \n",
       "271  0.482601  0.902369  1.184699  0.600000  ...          6   \n",
       "272  0.398547  0.800000  1.103553  0.500000  ...          5   \n",
       "\n",
       "                                             soma_crop  \\\n",
       "0    [True, True, True, True, True, True, True, Tru...   \n",
       "1    [True, True, False, True, True, True, True, Tr...   \n",
       "2    [False, False, False, False, False, False, Fal...   \n",
       "3    [True, True, True, True, True, False, True, Tr...   \n",
       "4    [True, True, True, True, True, True, True, Tru...   \n",
       "..                                                 ...   \n",
       "268  [False, False, False, False, True, True, False...   \n",
       "269  [False, False, False, False, False, False, Fal...   \n",
       "270  [False, True, True, True, True, True, True, Tr...   \n",
       "271               [True, True, True, True, True, True]   \n",
       "272                     [True, True, True, True, True]   \n",
       "\n",
       "                                               overlap    radius  \\\n",
       "0    [False, False, False, False, False, False, Fal...  5.276856   \n",
       "1    [False, False, False, False, False, False, Fal...  6.992389   \n",
       "2    [False, False, False, False, False, False, Fal...  6.875572   \n",
       "3    [False, False, False, False, False, False, Fal...  6.952876   \n",
       "4    [False, False, False, False, False, False, Fal...  7.164109   \n",
       "..                                                 ...       ...   \n",
       "268  [False, False, False, False, False, False, Fal...  2.720818   \n",
       "269  [False, False, False, False, False, False, Fal...  7.130968   \n",
       "270  [False, False, False, False, False, False, Fal...  2.809890   \n",
       "271             [False, True, True, False, True, True]  1.797855   \n",
       "272                [False, False, False, False, False]  1.379377   \n",
       "\n",
       "     aspect_ratio  npix_norm_no_crop  npix_norm      skew         std  \\\n",
       "0        1.032278           2.685268   2.392040  7.412308  320.462250   \n",
       "1        1.075117           2.685268   3.386960  7.305401  451.106903   \n",
       "2        1.012094           3.375337   3.238780  4.802567  156.942078   \n",
       "3        1.157342           1.845184   2.413209  6.719306  198.852875   \n",
       "4        1.001496           2.415241   3.090601  4.611879  153.295135   \n",
       "..            ...                ...        ...       ...         ...   \n",
       "268      1.284331           0.345034   0.296359  0.787620  208.527649   \n",
       "269      1.052262           1.800180   2.243861  0.379048   98.740311   \n",
       "270      1.233736           0.225022   0.296359  1.104229  418.385559   \n",
       "271      1.357884           0.090009   0.127011  1.508273  704.798340   \n",
       "272      1.233591           0.075007   0.105843  1.292055  660.939880   \n",
       "\n",
       "                                         neuropil_mask  \n",
       "0    [216024, 216025, 216026, 216027, 216028, 21602...  \n",
       "1    [10453, 10454, 10455, 10456, 10457, 10458, 104...  \n",
       "2    [84480, 84481, 84482, 84483, 84484, 84485, 844...  \n",
       "3    [2069, 2070, 2071, 2072, 2073, 2074, 2075, 207...  \n",
       "4    [150597, 150598, 150599, 150600, 150601, 15060...  \n",
       "..                                                 ...  \n",
       "268  [144405, 144406, 144407, 144408, 144409, 14441...  \n",
       "269  [177126, 177127, 177128, 177129, 177130, 17713...  \n",
       "270  [89709, 89710, 89711, 89712, 89713, 89714, 897...  \n",
       "271  [233814, 233815, 233816, 233817, 233818, 23381...  \n",
       "272  [42796, 42797, 42798, 42799, 42800, 42801, 428...  \n",
       "\n",
       "[273 rows x 21 columns]"
      ]
     },
     "execution_count": 42,
     "metadata": {},
     "output_type": "execute_result"
    }
   ],
   "source": [
    "stats_df = pd.DataFrame(data=stats_dict)\n",
    "print(stats_df.columns)\n",
    "stats_df"
   ]
  },
  {
   "cell_type": "markdown",
   "id": "bc7e9fea-9349-443d-9f68-6d1134e135d0",
   "metadata": {},
   "source": [
    "### Comparing Segmentation Output\n",
    "Below we can compare multiple views of the Segmentation Output. Firstly is the main output which contains cells and non-cells. Secondly is the filtered version which is filtered to only include the ROIs which are classified as cells. The fields `Lx` and `Ly` from `ops.npy` contain the shape of the movie, and `ypix` and `xpix` contain the pixel coordinates at which each ROI was identified. The code below iterates over each ROI and displays all `xpix` and `ypix` for that ROI into the image. These are used to generate the image of all ROI masks. The `iscell.npy` array is used to show only the ROIs that are cells for the filtered plot. The last plot is the segmentation from the original NWB file from the Allen Institute's own proprietary segmentation algorithm for comparison."
   ]
  },
  {
   "cell_type": "markdown",
   "id": "f33bf2b9-0251-41a4-9be2-948d051c479e",
   "metadata": {},
   "source": [
    "#### Segmentation from Suite2P"
   ]
  },
  {
   "cell_type": "code",
   "execution_count": 43,
   "id": "a79a3f38-b2bd-4b4a-881b-e25d9b00468a",
   "metadata": {
    "tags": []
   },
   "outputs": [
    {
     "data": {
      "text/plain": [
       "<matplotlib.image.AxesImage at 0x2088aa84850>"
      ]
     },
     "execution_count": 43,
     "metadata": {},
     "output_type": "execute_result"
    },
    {
     "data": {
      "image/png": "[encoded data removed]",
      "text/plain": [
       "<Figure size 640x480 with 1 Axes>"
      ]
     },
     "metadata": {},
     "output_type": "display_data"
    }
   ],
   "source": [
    "im = np.zeros((ops['Ly'], ops['Lx']))\n",
    "for n in range(len(roi_stats)):\n",
    "    ypix = roi_stats[n]['ypix']\n",
    "    xpix = roi_stats[n]['xpix']\n",
    "    im[ypix,xpix] = 1\n",
    "\n",
    "plt.imshow(im)"
   ]
  },
  {
   "cell_type": "markdown",
   "id": "e08f1baf-3fd2-4601-9861-c3c799481a3a",
   "metadata": {},
   "source": [
    "#### Segmentation from Suite2P Filtered to Cells"
   ]
  },
  {
   "cell_type": "code",
   "execution_count": 44,
   "id": "61ba7fd8-a9cc-4b5b-8aa7-239432267240",
   "metadata": {
    "tags": []
   },
   "outputs": [
    {
     "data": {
      "text/plain": [
       "<matplotlib.image.AxesImage at 0x2088abc5fd0>"
      ]
     },
     "execution_count": 44,
     "metadata": {},
     "output_type": "execute_result"
    },
    {
     "data": {
      "image/png": "[encoded data removed]",
      "text/plain": [
       "<Figure size 640x480 with 1 Axes>"
      ]
     },
     "metadata": {},
     "output_type": "display_data"
    }
   ],
   "source": [
    "im = np.zeros((ops['Ly'], ops['Lx']))\n",
    "for i in range(len(roi_stats)):\n",
    "    # only show if ROI is a cell according to classifier output\n",
    "    if is_cell[i][0] == 1.0:\n",
    "        ypix = roi_stats[i]['ypix']\n",
    "        xpix = roi_stats[i]['xpix']\n",
    "        im[ypix,xpix] = 1\n",
    "\n",
    "plt.imshow(im)"
   ]
  },
  {
   "cell_type": "markdown",
   "id": "0cad4ce4-5b97-4777-9430-6da1b3c0b409",
   "metadata": {},
   "source": [
    "#### Segmentation From Original NWB"
   ]
  },
  {
   "cell_type": "code",
   "execution_count": 45,
   "id": "86bbccfd-49fc-4b55-a9b8-cae424961b95",
   "metadata": {
    "tags": []
   },
   "outputs": [
    {
     "data": {
      "text/plain": [
       "<matplotlib.image.AxesImage at 0x20888217490>"
      ]
     },
     "execution_count": 45,
     "metadata": {},
     "output_type": "execute_result"
    },
    {
     "data": {
      "image/png": "[encoded data removed]",
      "text/plain": [
       "<Figure size 640x480 with 1 Axes>"
      ]
     },
     "metadata": {},
     "output_type": "display_data"
    }
   ],
   "source": [
    "plt.imshow(nwb[\"processing/ophys/images/segmentation_mask_image\"])"
   ]
  },
  {
   "cell_type": "markdown",
   "id": "bc02127b-b1fb-4c81-ad4a-3435ac214adb",
   "metadata": {
    "tags": []
   },
   "source": [
    "#### Ophys NWB\n",
    "Finally, since in the input settings, `save_nwb` was set to 1, an NWB file containing all of these was generated as output."
   ]
  },
  {
   "cell_type": "code",
   "execution_count": 46,
   "id": "9d01c4b7-10fe-42b6-b838-903b64a816cc",
   "metadata": {
    "tags": []
   },
   "outputs": [],
   "source": [
    "out_io = NWBHDF5IO(\"./results/ophys.nwb\", load_namespaces=True)\n",
    "out_nwb = out_io.read()"
   ]
  },
  {
   "cell_type": "markdown",
   "id": "50e4f64b",
   "metadata": {},
   "source": [
    "### Repair NWB Filename\n",
    "Since we temporarily changed the NWB file to an H5PY file, we must change it back or the file won't be usable by PyNWB in the future."
   ]
  },
  {
   "cell_type": "code",
   "execution_count": 47,
   "id": "4de83678",
   "metadata": {},
   "outputs": [],
   "source": [
    "del nwb\n",
    "os.rename(h5_filepath, nwb_filepath)"
   ]
  }
 ],
 "metadata": {
  "kernelspec": {
   "display_name": "Python 3 (ipykernel)",
   "language": "python",
   "name": "python3"
  },
  "language_info": {
   "codemirror_mode": {
    "name": "ipython",
    "version": 3
   },
   "file_extension": ".py",
   "mimetype": "text/x-python",
   "name": "python",
   "nbconvert_exporter": "python",
   "pygments_lexer": "ipython3",
   "version": "3.9.10"
  }
 },
 "nbformat": 4,
 "nbformat_minor": 5
}
