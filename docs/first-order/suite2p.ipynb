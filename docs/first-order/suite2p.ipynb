{
 "cells": [
  {
   "cell_type": "markdown",
   "id": "85548fe0",
   "metadata": {},
   "source": [
    "# Identifying Regions of Interest with Segmentation\n",
    "The Allen Institute uses [**Suite2P**](http://www.suite2p.org/) for processing 2-Photon Calcium Imaging Data. Specifically, **Suite2P** takes a 2P movie, and outputs information about the putative segmented *Regions of Interest* (ROIs). The most pertinent information outputted are the locations/shapes of the ROIs within the 2P Movie's field-of-view, as well as the fluorescence of each ROI at every frame of the movie. This notebook serves as a simple demonstration of how to input a 2P Movie into Suite2P and produce cell segmentation and fluorescence output.\n"
   ]
  },
  {
   "cell_type": "markdown",
   "id": "04105449",
   "metadata": {},
   "source": [
    "### Environment Setup\n",
    "⚠️**Note: If running on a new environment, run this cell once and then restart the kernel**⚠️"
   ]
  },
  {
   "cell_type": "code",
   "execution_count": 1,
   "id": "4797393d",
   "metadata": {},
   "outputs": [
    {
     "name": "stderr",
     "output_type": "stream",
     "text": [
      "c:\\Users\\carter.peene\\AppData\\Local\\Programs\\Python\\Python39\\lib\\site-packages\\numpy\\_distributor_init.py:30: UserWarning: loaded more than 1 DLL from .libs:\n",
      "c:\\Users\\carter.peene\\AppData\\Local\\Programs\\Python\\Python39\\lib\\site-packages\\numpy\\.libs\\libopenblas.EL2C6PLE4ZYW3ECEVIV3OXXGRN2NRFM2.gfortran-win_amd64.dll\n",
      "c:\\Users\\carter.peene\\AppData\\Local\\Programs\\Python\\Python39\\lib\\site-packages\\numpy\\.libs\\libopenblas.XWYDX2IKJW2NMTWSFYNGFUWKQU3LYTCZ.gfortran-win_amd64.dll\n",
      "  warnings.warn(\"loaded more than 1 DLL from .libs:\"\n"
     ]
    }
   ],
   "source": [
    "try:\n",
    "    from dandi_utils import dandi_download_open\n",
    "except:\n",
    "    !git clone https://github.com/AllenInstitute/openscope_databook.git\n",
    "    %cd openscope_databook\n",
    "    %pip install -e ."
   ]
  },
  {
   "cell_type": "code",
   "execution_count": 2,
   "id": "72ce98e2",
   "metadata": {},
   "outputs": [],
   "source": [
    "import h5py\n",
    "import os\n",
    "import suite2p\n",
    "\n",
    "import pandas as pd\n",
    "import numpy as np\n",
    "import matplotlib.pyplot as plt\n",
    "\n",
    "from pynwb import NWBHDF5IO\n",
    "\n",
    "%matplotlib inline"
   ]
  },
  {
   "cell_type": "markdown",
   "id": "6ef59305",
   "metadata": {},
   "source": [
    "### Downloading Ophys NWB Files\n",
    "Here you can download several files for a subject that you can run nway matching on. The pipeline can take in any number of input *sessions*, however, the input ophys data should be from the same imaging plane of the same subject. To specify your own file to use, set `dandiset_id` to be the dandiset id of the files you're interested in. Also set `input_dandi_filepaths` to be a list of the filepaths on dandi of each file you're interested in providing to **Nway Matching**. When accessing an embargoed dataset, set `dandi_api_key` to be your DANDI API key."
   ]
  },
  {
   "cell_type": "code",
   "execution_count": 3,
   "id": "e4511768",
   "metadata": {},
   "outputs": [],
   "source": [
    "dandiset_id = \"000336\"\n",
    "dandi_filepath = \"sub-634402/sub-634402_ses-1209063020-acq-1209359211raw_ophys.nwb\"\n",
    "dandi_api_key = os.environ[\"DANDI_API_KEY\"]"
   ]
  },
  {
   "cell_type": "code",
   "execution_count": 4,
   "id": "9c3deb83",
   "metadata": {},
   "outputs": [],
   "source": [
    "nwb = h5py.File(\"sub-634402_ses-1209063020-acq-1209359211raw_ophys.nwb\")"
   ]
  },
  {
   "cell_type": "markdown",
   "id": "365c9743",
   "metadata": {},
   "source": [
    "### Preparing Suite2P Input\n",
    "Typically, the 2P movie would not come prepared within an NWB file, but would be in some other form. Suite2P is capable of taking input in many forms, enumerated [here](https://suite2p.readthedocs.io/en/latest/inputs.html). For the purposes of this notebook, the movie is extracted from an Allen Institute NWB File and converted to a *tiff* file."
   ]
  },
  {
   "cell_type": "code",
   "execution_count": 5,
   "id": "95e8e7d2",
   "metadata": {},
   "outputs": [],
   "source": [
    "results_folder = \"./results/\"\n",
    "scratch_folder = \"./results/\"\n",
    "input_movie_path = \"./movie\"\n",
    "sampling_rate = nwb[\"acquisition/raw_suite2p_motion_corrected/imaging_plane/imaging_rate\"][()]\n",
    "suite2p_threshold_scaling = 1"
   ]
  },
  {
   "cell_type": "markdown",
   "id": "c04a7165",
   "metadata": {},
   "source": [
    "### Running Suite2P\n",
    "From there, input settings can be specified for Suite2P via the `ops` object. The available settings and their meanings are described [here](https://suite2p.readthedocs.io/en/latest/settings.html) The most pertinent settings are `results_folder`, `input_movie_path`, `data_path`, and `sampling_rate`. Here, the sampling rate is also retrieved from the NWB file, but should probably be known information for your movies."
   ]
  },
  {
   "cell_type": "code",
   "execution_count": 6,
   "id": "996603aa",
   "metadata": {},
   "outputs": [
    {
     "name": "stdout",
     "output_type": "stream",
     "text": [
      "{}\n",
      "tif\n",
      "** Found 1 tifs - converting to binary **\n",
      "2000 frames of binary, time 11.61 sec.\n",
      "4000 frames of binary, time 15.00 sec.\n",
      "6000 frames of binary, time 18.40 sec.\n",
      "8000 frames of binary, time 21.80 sec.\n",
      "10000 frames of binary, time 25.21 sec.\n",
      "12000 frames of binary, time 28.62 sec.\n",
      "14000 frames of binary, time 32.07 sec.\n",
      "16000 frames of binary, time 35.55 sec.\n",
      "18000 frames of binary, time 39.03 sec.\n",
      "20000 frames of binary, time 42.53 sec.\n",
      "22000 frames of binary, time 45.99 sec.\n",
      "24000 frames of binary, time 49.47 sec.\n",
      "26000 frames of binary, time 52.97 sec.\n",
      "28000 frames of binary, time 56.36 sec.\n",
      "30000 frames of binary, time 59.94 sec.\n",
      "32000 frames of binary, time 63.39 sec.\n",
      "34000 frames of binary, time 66.82 sec.\n",
      "36000 frames of binary, time 70.31 sec.\n",
      "38000 frames of binary, time 73.83 sec.\n",
      "40000 frames of binary, time 77.28 sec.\n",
      "42000 frames of binary, time 80.77 sec.\n",
      "44000 frames of binary, time 84.56 sec.\n",
      "time 85.13 sec. Wrote 44201 frames per binary for 1 planes\n",
      ">>>>>>>>>>>>>>>>>>>>> PLANE 0 <<<<<<<<<<<<<<<<<<<<<<\n",
      "NOTE: not running registration, ops['do_registration']=0\n",
      "binary path: ./results/suite2p\\plane0\\data.bin\n",
      "NOTE: Applying builtin classifier at C:\\Users\\carter.peene\\AppData\\Local\\Programs\\Python\\Python39\\Lib\\site-packages\\suite2p\\classifiers\\classifier.npy\n",
      "----------- ROI DETECTION\n",
      "Binning movie in chunks of length 08\n",
      "Binned movie of size [5525,512,512] created in 57.70 sec.\n",
      "NOTE: estimated spatial scale ~6 pixels, time epochs 4.60, threshold 23.02 \n",
      "0 ROIs, score=251.84\n",
      "Detected 107 ROIs, 307.90 sec\n",
      "After removing overlaps, 106 ROIs remain\n",
      "----------- Total 366.36 sec.\n",
      "----------- EXTRACTION\n",
      "Masks created, 0.34 sec.\n",
      "Extracted fluorescence from 106 ROIs in 44201 frames, 74.52 sec.\n",
      "----------- Total 75.05 sec.\n",
      "----------- CLASSIFICATION\n",
      "['npix_norm', 'compact', 'skew']\n",
      "----------- SPIKE DECONVOLUTION\n",
      "----------- Total 0.28 sec.\n",
      "Plane 0 processed in 441.84 sec (can open in GUI).\n",
      "total = 527.13 sec.\n",
      "Saving in nwb format\n",
      "root pynwb.file.NWBFile at 0x2493599498784\n",
      "Fields:\n",
      "  file_create_date: [datetime.datetime(2023, 8, 11, 13, 38, 37, 544401, tzinfo=tzlocal())]\n",
      "  identifier: ./\n",
      "  session_description: suite2p_proc\n",
      "  session_start_time: 2023-08-11 13:31:15.480664-07:00\n",
      "  timestamps_reference_time: 2023-08-11 13:31:15.480664-07:00\n",
      "\n",
      "TOTAL RUNTIME 528.86 sec\n"
     ]
    }
   ],
   "source": [
    "ops = suite2p.default_ops()\n",
    "ops['threshold_scaling'] = suite2p_threshold_scaling\n",
    "ops['fs'] = float(sampling_rate) # sampling rate of recording, determines binning for cell detection\n",
    "ops['tau'] = 0.7 # timescale of gcamp to use for deconvolution\n",
    "ops['do_registration'] = 0 # data was already registered\n",
    "ops['save_NWB'] = 1\n",
    "ops['save_folder'] = results_folder\n",
    "ops['fast_disk'] = scratch_folder\n",
    "ops[\"save_nwb\"] = 1\n",
    "ops[\"data_path\"] = [\"./\"]\n",
    "ops[\"h5py_key\"] = \"acquisition/raw_suite2p_motion_corrected/data\"\n",
    "\n",
    "output_ops = suite2p.run_s2p(ops=ops)"
   ]
  },
  {
   "cell_type": "markdown",
   "id": "a528c05d",
   "metadata": {},
   "source": [
    "### Suite2P Output\n",
    "Descriptions of the output of Suite2P can be found [here](https://suite2p.readthedocs.io/en/latest/outputs.html). Below, it is shown how to access each output file. Three files, `F.npy`, `Fneu.npy`, and `spks.npy` are 2D arrays containing various forms of the trace data that have shape # ROIs * # Frames. The settings and intermediate values are stored as a dictionary in `ops.npy`. `iscell.py` stores a table which, for each ROI, contains 1/0 if an ROI is a cell, and the certainty value of the classifier. \n",
    "Most importantly, the main statistics of each ROI are included in `stat.npy`. This is processed and shown as a dataframe below. Because the ROI location is stored as `xpix`, and `ypix`, which are arrays of coordinates, the code below produces an *ROI submask* for each ROI. The ROI submasks are more convenient for some purposes."
   ]
  },
  {
   "cell_type": "markdown",
   "id": "365818ed-9e65-450e-81bd-3e0efffb7ab9",
   "metadata": {},
   "source": [
    "#### Traces"
   ]
  },
  {
   "cell_type": "code",
   "execution_count": 7,
   "id": "1553a896",
   "metadata": {},
   "outputs": [
    {
     "name": "stdout",
     "output_type": "stream",
     "text": [
      "(106, 44201)\n",
      "(106, 44201)\n",
      "(106, 44201)\n"
     ]
    }
   ],
   "source": [
    "fluorescence = np.load(\"./results/plane0/F.npy\")\n",
    "neuropil = np.load(\"./results/plane0/Fneu.npy\")\n",
    "spikes = np.load(\"./results/plane0/spks.npy\")\n",
    "\n",
    "print(fluorescence.shape)\n",
    "print(neuropil.shape)\n",
    "print(spikes.shape)"
   ]
  },
  {
   "cell_type": "code",
   "execution_count": 8,
   "id": "ec57b666-a94f-41e3-b512-ad09258d82e0",
   "metadata": {
    "tags": []
   },
   "outputs": [
    {
     "data": {
      "text/plain": [
       "[<matplotlib.lines.Line2D at 0x2448b738eb0>]"
      ]
     },
     "execution_count": 8,
     "metadata": {},
     "output_type": "execute_result"
    },
    {
     "data": {
      "image/png": "[encoded data removed]",
      "text/plain": [
       "<Figure size 640x480 with 1 Axes>"
      ]
     },
     "metadata": {},
     "output_type": "display_data"
    }
   ],
   "source": [
    "plt.plot(fluorescence[0])"
   ]
  },
  {
   "cell_type": "markdown",
   "id": "74ecb0e5-c0a7-4e3f-b3ed-047f971a06c9",
   "metadata": {},
   "source": [
    "#### Options and Intermediate Outputs"
   ]
  },
  {
   "cell_type": "code",
   "execution_count": 9,
   "id": "9f8f7e76-9073-4593-9e1e-cf8e551bedf4",
   "metadata": {
    "tags": []
   },
   "outputs": [
    {
     "data": {
      "text/plain": [
       "dict_keys(['suite2p_version', 'look_one_level_down', 'fast_disk', 'delete_bin', 'mesoscan', 'bruker', 'bruker_bidirectional', 'h5py', 'h5py_key', 'nwb_file', 'nwb_driver', 'nwb_series', 'save_path0', 'save_folder', 'subfolders', 'move_bin', 'nplanes', 'nchannels', 'functional_chan', 'tau', 'fs', 'force_sktiff', 'frames_include', 'multiplane_parallel', 'ignore_flyback', 'preclassify', 'save_mat', 'save_NWB', 'combined', 'aspect', 'do_bidiphase', 'bidiphase', 'bidi_corrected', 'do_registration', 'two_step_registration', 'keep_movie_raw', 'nimg_init', 'batch_size', 'maxregshift', 'align_by_chan', 'reg_tif', 'reg_tif_chan2', 'subpixel', 'smooth_sigma_time', 'smooth_sigma', 'th_badframes', 'norm_frames', 'force_refImg', 'pad_fft', 'nonrigid', 'block_size', 'snr_thresh', 'maxregshiftNR', '1Preg', 'spatial_hp_reg', 'pre_smooth', 'spatial_taper', 'roidetect', 'spikedetect', 'sparse_mode', 'spatial_scale', 'connected', 'nbinned', 'max_iterations', 'threshold_scaling', 'max_overlap', 'high_pass', 'spatial_hp_detect', 'denoise', 'anatomical_only', 'diameter', 'cellprob_threshold', 'flow_threshold', 'spatial_hp_cp', 'pretrained_model', 'soma_crop', 'neuropil_extract', 'inner_neuropil_radius', 'min_neuropil_pixels', 'lam_percentile', 'allow_overlap', 'use_builtin_classifier', 'classifier_path', 'chan2_thres', 'baseline', 'win_baseline', 'sig_baseline', 'prctile_baseline', 'neucoeff', 'save_nwb', 'data_path', 'input_format', 'save_path', 'ops_path', 'reg_file', 'first_tiffs', 'frames_per_folder', 'filelist', 'nframes', 'frames_per_file', 'meanImg', 'Ly', 'Lx', 'yrange', 'xrange', 'date_proc', 'Lyc', 'Lxc', 'max_proj', 'Vmax', 'ihop', 'Vsplit', 'Vcorr', 'Vmap', 'spatscale_pix', 'timing'])"
      ]
     },
     "execution_count": 9,
     "metadata": {},
     "output_type": "execute_result"
    }
   ],
   "source": [
    "ops = np.load(\"./results/plane0/ops.npy\", allow_pickle=True).item()\n",
    "ops.keys()"
   ]
  },
  {
   "cell_type": "markdown",
   "id": "cfe96efc-d3cb-405f-96a9-f4d5efaa84de",
   "metadata": {},
   "source": [
    "#### Is-Cell Array"
   ]
  },
  {
   "cell_type": "code",
   "execution_count": 10,
   "id": "0af6d9a6-2fbd-45e2-badd-69164d84b24d",
   "metadata": {
    "tags": []
   },
   "outputs": [
    {
     "name": "stdout",
     "output_type": "stream",
     "text": [
      "[[1.         0.59626004]\n",
      " [0.         0.4839887 ]\n",
      " [0.         0.25837448]\n",
      " [1.         0.5060919 ]\n",
      " [0.         0.23357006]\n",
      " [0.         0.16166014]\n",
      " [1.         0.98853929]\n",
      " [1.         0.88313256]\n",
      " [0.         0.46048282]\n",
      " [1.         0.89229522]]\n"
     ]
    }
   ],
   "source": [
    "is_cell = np.load(\"./results/plane0/iscell.npy\")\n",
    "print(is_cell[:10])"
   ]
  },
  {
   "cell_type": "markdown",
   "id": "8f9468b4-94c4-4ecb-9e88-cc9aa7908bf2",
   "metadata": {},
   "source": [
    "#### ROI Statistics"
   ]
  },
  {
   "cell_type": "code",
   "execution_count": 11,
   "id": "6f8928d2-fee6-4af6-bf90-adf978a0fc21",
   "metadata": {
    "tags": []
   },
   "outputs": [],
   "source": [
    "roi_stats = np.load(\"./results/plane0/stat.npy\", allow_pickle=True)"
   ]
  },
  {
   "cell_type": "code",
   "execution_count": 12,
   "id": "29bedfcd-b2be-4edb-a4f6-be0618bac6cb",
   "metadata": {},
   "outputs": [],
   "source": [
    "stats_dict = {stat : [roi[stat] for roi in roi_stats] for stat in roi_stats[0].keys()}"
   ]
  },
  {
   "cell_type": "code",
   "execution_count": 13,
   "id": "88562478-04ea-41c2-b2d1-ab9f4d8f830b",
   "metadata": {
    "tags": []
   },
   "outputs": [],
   "source": [
    "def convert_pix_to_mask(xpix, ypix):\n",
    "    x_loc = min(xpix)\n",
    "    y_loc = min(ypix)\n",
    "    rel_xpix = xpix - x_loc\n",
    "    rel_ypix = ypix - y_loc\n",
    "    width = max(xpix) - x_loc + 1\n",
    "    height = max(ypix) - y_loc + 1\n",
    "    \n",
    "    mask = np.zeros((height, width))\n",
    "    for y,x in zip(rel_ypix, rel_xpix):\n",
    "        mask[y,x] = 1\n",
    "    return mask"
   ]
  },
  {
   "cell_type": "code",
   "execution_count": 14,
   "id": "7e33090f-8d3b-4419-bda8-49585d7f078b",
   "metadata": {
    "tags": []
   },
   "outputs": [],
   "source": [
    "masks_col = []\n",
    "for xpix, ypix in zip(stats_dict[\"xpix\"], stats_dict[\"ypix\"]):\n",
    "    roi_mask = convert_pix_to_mask(xpix, ypix)\n",
    "    masks_col.append(roi_mask)\n",
    "\n",
    "# unionize dicts to ensure masks column goes first\n",
    "stats_dict = {\"mask\": masks_col} | stats_dict"
   ]
  },
  {
   "cell_type": "code",
   "execution_count": 15,
   "id": "f40d9e45-1362-4d00-aa08-1d0ea583ddd6",
   "metadata": {
    "tags": []
   },
   "outputs": [
    {
     "name": "stdout",
     "output_type": "stream",
     "text": [
      "Index(['mask', 'ypix', 'xpix', 'lam', 'med', 'footprint', 'mrs', 'mrs0',\n",
      "       'compact', 'solidity', 'npix', 'npix_soma', 'soma_crop', 'overlap',\n",
      "       'radius', 'aspect_ratio', 'npix_norm_no_crop', 'npix_norm', 'skew',\n",
      "       'std', 'neuropil_mask'],\n",
      "      dtype='object')\n"
     ]
    },
    {
     "data": {
      "text/html": [
       "<div>\n",
       "<style scoped>\n",
       "    .dataframe tbody tr th:only-of-type {\n",
       "        vertical-align: middle;\n",
       "    }\n",
       "\n",
       "    .dataframe tbody tr th {\n",
       "        vertical-align: top;\n",
       "    }\n",
       "\n",
       "    .dataframe thead th {\n",
       "        text-align: right;\n",
       "    }\n",
       "</style>\n",
       "<table border=\"1\" class=\"dataframe\">\n",
       "  <thead>\n",
       "    <tr style=\"text-align: right;\">\n",
       "      <th></th>\n",
       "      <th>mask</th>\n",
       "      <th>ypix</th>\n",
       "      <th>xpix</th>\n",
       "      <th>lam</th>\n",
       "      <th>med</th>\n",
       "      <th>footprint</th>\n",
       "      <th>mrs</th>\n",
       "      <th>mrs0</th>\n",
       "      <th>compact</th>\n",
       "      <th>solidity</th>\n",
       "      <th>...</th>\n",
       "      <th>npix_soma</th>\n",
       "      <th>soma_crop</th>\n",
       "      <th>overlap</th>\n",
       "      <th>radius</th>\n",
       "      <th>aspect_ratio</th>\n",
       "      <th>npix_norm_no_crop</th>\n",
       "      <th>npix_norm</th>\n",
       "      <th>skew</th>\n",
       "      <th>std</th>\n",
       "      <th>neuropil_mask</th>\n",
       "    </tr>\n",
       "  </thead>\n",
       "  <tbody>\n",
       "    <tr>\n",
       "      <th>0</th>\n",
       "      <td>[[0.0, 0.0, 0.0, 0.0, 0.0, 0.0, 0.0, 0.0, 1.0,...</td>\n",
       "      <td>[428, 429, 429, 429, 429, 429, 430, 430, 430, ...</td>\n",
       "      <td>[487, 484, 485, 486, 487, 488, 483, 484, 485, ...</td>\n",
       "      <td>[6.1689215, 8.099191, 11.722999, 14.179751, 14...</td>\n",
       "      <td>[433, 485]</td>\n",
       "      <td>2.0</td>\n",
       "      <td>1.904747</td>\n",
       "      <td>3.962908</td>\n",
       "      <td>1.013715</td>\n",
       "      <td>1.138462</td>\n",
       "      <td>...</td>\n",
       "      <td>111</td>\n",
       "      <td>[True, True, True, True, True, True, True, Tru...</td>\n",
       "      <td>[False, False, False, False, False, False, Fal...</td>\n",
       "      <td>5.281771</td>\n",
       "      <td>1.036594</td>\n",
       "      <td>2.844744</td>\n",
       "      <td>2.271797</td>\n",
       "      <td>7.414573</td>\n",
       "      <td>160.209244</td>\n",
       "      <td>[216024, 216025, 216026, 216027, 216028, 21602...</td>\n",
       "    </tr>\n",
       "    <tr>\n",
       "      <th>1</th>\n",
       "      <td>[[0.0, 0.0, 0.0, 0.0, 0.0, 0.0, 0.0, 0.0, 0.0,...</td>\n",
       "      <td>[27, 27, 27, 28, 28, 28, 28, 28, 28, 28, 28, 2...</td>\n",
       "      <td>[229, 232, 235, 226, 227, 228, 229, 230, 231, ...</td>\n",
       "      <td>[11.123376, 11.00426, 11.327631, 12.765344, 16...</td>\n",
       "      <td>[33, 229]</td>\n",
       "      <td>2.0</td>\n",
       "      <td>2.311084</td>\n",
       "      <td>4.775682</td>\n",
       "      <td>1.020641</td>\n",
       "      <td>1.080537</td>\n",
       "      <td>...</td>\n",
       "      <td>161</td>\n",
       "      <td>[True, True, False, True, True, True, True, Tr...</td>\n",
       "      <td>[False, False, False, False, False, False, Fal...</td>\n",
       "      <td>7.012206</td>\n",
       "      <td>1.077493</td>\n",
       "      <td>2.909032</td>\n",
       "      <td>3.295129</td>\n",
       "      <td>7.309535</td>\n",
       "      <td>224.744659</td>\n",
       "      <td>[10453, 10454, 10455, 10456, 10457, 10458, 104...</td>\n",
       "    </tr>\n",
       "    <tr>\n",
       "      <th>2</th>\n",
       "      <td>[[1.0, 0.0, 0.0, 0.0, 0.0, 0.0, 0.0, 0.0, 0.0,...</td>\n",
       "      <td>[172, 173, 173, 174, 174, 174, 175, 175, 175, ...</td>\n",
       "      <td>[1, 1, 2, 1, 2, 3, 2, 3, 4, 2, 3, 4, 5, 3, 4, ...</td>\n",
       "      <td>[4.4019046, 4.703035, 4.5123887, 5.3027143, 6....</td>\n",
       "      <td>[189, 9]</td>\n",
       "      <td>2.0</td>\n",
       "      <td>2.295220</td>\n",
       "      <td>4.639770</td>\n",
       "      <td>1.043327</td>\n",
       "      <td>1.037543</td>\n",
       "      <td>...</td>\n",
       "      <td>152</td>\n",
       "      <td>[False, False, False, False, False, False, Fal...</td>\n",
       "      <td>[False, False, False, False, False, False, Fal...</td>\n",
       "      <td>6.871340</td>\n",
       "      <td>1.011349</td>\n",
       "      <td>3.584057</td>\n",
       "      <td>3.110929</td>\n",
       "      <td>4.801162</td>\n",
       "      <td>78.603996</td>\n",
       "      <td>[84480, 84481, 84482, 84483, 84484, 84485, 844...</td>\n",
       "    </tr>\n",
       "    <tr>\n",
       "      <th>3</th>\n",
       "      <td>[[1.0, 1.0, 0.0, 0.0, 0.0, 0.0, 0.0, 0.0, 0.0,...</td>\n",
       "      <td>[11, 11, 12, 12, 12, 12, 12, 12, 13, 13, 13, 1...</td>\n",
       "      <td>[28, 29, 28, 29, 30, 38, 39, 40, 29, 30, 36, 3...</td>\n",
       "      <td>[8.189484, 8.766131, 8.261632, 10.408104, 7.82...</td>\n",
       "      <td>[17, 33]</td>\n",
       "      <td>2.0</td>\n",
       "      <td>2.031694</td>\n",
       "      <td>3.998962</td>\n",
       "      <td>1.071528</td>\n",
       "      <td>0.974138</td>\n",
       "      <td>...</td>\n",
       "      <td>113</td>\n",
       "      <td>[True, True, True, True, True, True, True, Fal...</td>\n",
       "      <td>[False, False, False, False, False, False, Fal...</td>\n",
       "      <td>6.948627</td>\n",
       "      <td>1.151110</td>\n",
       "      <td>1.960784</td>\n",
       "      <td>2.312730</td>\n",
       "      <td>6.960056</td>\n",
       "      <td>98.726585</td>\n",
       "      <td>[2069, 2070, 2071, 2072, 2073, 2074, 2075, 207...</td>\n",
       "    </tr>\n",
       "    <tr>\n",
       "      <th>4</th>\n",
       "      <td>[[0.0, 0.0, 0.0, 0.0, 1.0, 1.0, 1.0, 1.0, 1.0,...</td>\n",
       "      <td>[301, 301, 301, 301, 301, 301, 301, 302, 302, ...</td>\n",
       "      <td>[80, 81, 82, 83, 84, 85, 86, 78, 79, 80, 81, 8...</td>\n",
       "      <td>[14.39057, 18.86718, 18.686886, 24.173153, 21....</td>\n",
       "      <td>[305, 81]</td>\n",
       "      <td>2.0</td>\n",
       "      <td>2.195622</td>\n",
       "      <td>4.541314</td>\n",
       "      <td>1.019691</td>\n",
       "      <td>1.110266</td>\n",
       "      <td>...</td>\n",
       "      <td>146</td>\n",
       "      <td>[True, True, True, True, True, True, True, Tru...</td>\n",
       "      <td>[False, False, False, False, False, False, Fal...</td>\n",
       "      <td>7.170337</td>\n",
       "      <td>1.001694</td>\n",
       "      <td>2.571520</td>\n",
       "      <td>2.988129</td>\n",
       "      <td>4.617148</td>\n",
       "      <td>76.746040</td>\n",
       "      <td>[150597, 150598, 150599, 150600, 150601, 15060...</td>\n",
       "    </tr>\n",
       "    <tr>\n",
       "      <th>...</th>\n",
       "      <td>...</td>\n",
       "      <td>...</td>\n",
       "      <td>...</td>\n",
       "      <td>...</td>\n",
       "      <td>...</td>\n",
       "      <td>...</td>\n",
       "      <td>...</td>\n",
       "      <td>...</td>\n",
       "      <td>...</td>\n",
       "      <td>...</td>\n",
       "      <td>...</td>\n",
       "      <td>...</td>\n",
       "      <td>...</td>\n",
       "      <td>...</td>\n",
       "      <td>...</td>\n",
       "      <td>...</td>\n",
       "      <td>...</td>\n",
       "      <td>...</td>\n",
       "      <td>...</td>\n",
       "      <td>...</td>\n",
       "      <td>...</td>\n",
       "    </tr>\n",
       "    <tr>\n",
       "      <th>101</th>\n",
       "      <td>[[0.0, 1.0, 1.0, 1.0, 0.0], [1.0, 1.0, 1.0, 1....</td>\n",
       "      <td>[205, 205, 205, 206, 206, 206, 206, 206, 207, ...</td>\n",
       "      <td>[48, 49, 50, 47, 48, 49, 50, 51, 47, 48, 49, 5...</td>\n",
       "      <td>[31.998169, 43.370026, 41.336708, 32.82756, 10...</td>\n",
       "      <td>[207, 49]</td>\n",
       "      <td>0.0</td>\n",
       "      <td>0.508746</td>\n",
       "      <td>1.072984</td>\n",
       "      <td>1.000000</td>\n",
       "      <td>0.900000</td>\n",
       "      <td>...</td>\n",
       "      <td>9</td>\n",
       "      <td>[False, False, False, False, True, True, True,...</td>\n",
       "      <td>[False, False, False, False, False, False, Fal...</td>\n",
       "      <td>1.559741</td>\n",
       "      <td>0.993439</td>\n",
       "      <td>0.289296</td>\n",
       "      <td>0.184200</td>\n",
       "      <td>1.106126</td>\n",
       "      <td>159.740143</td>\n",
       "      <td>[98851, 98852, 98853, 98854, 98855, 98856, 988...</td>\n",
       "    </tr>\n",
       "    <tr>\n",
       "      <th>102</th>\n",
       "      <td>[[0.0, 1.0, 1.0, 1.0, 0.0, 0.0, 0.0, 0.0, 0.0,...</td>\n",
       "      <td>[37, 37, 37, 38, 38, 38, 38, 38, 38, 39, 39, 3...</td>\n",
       "      <td>[169, 170, 171, 168, 169, 170, 171, 172, 173, ...</td>\n",
       "      <td>[24.748606, 28.901981, 16.831083, 29.936657, 3...</td>\n",
       "      <td>[40, 178]</td>\n",
       "      <td>1.0</td>\n",
       "      <td>1.373398</td>\n",
       "      <td>2.374350</td>\n",
       "      <td>1.219957</td>\n",
       "      <td>1.142857</td>\n",
       "      <td>...</td>\n",
       "      <td>40</td>\n",
       "      <td>[False, False, False, False, False, False, Fal...</td>\n",
       "      <td>[False, False, False, False, False, False, Fal...</td>\n",
       "      <td>5.526589</td>\n",
       "      <td>1.457119</td>\n",
       "      <td>1.012536</td>\n",
       "      <td>0.818666</td>\n",
       "      <td>2.198275</td>\n",
       "      <td>98.772232</td>\n",
       "      <td>[15521, 15522, 15523, 15524, 15525, 15526, 155...</td>\n",
       "    </tr>\n",
       "    <tr>\n",
       "      <th>103</th>\n",
       "      <td>[[0.0, 1.0, 1.0, 1.0, 1.0, 0.0, 0.0, 0.0, 0.0,...</td>\n",
       "      <td>[49, 49, 49, 49, 50, 50, 50, 50, 50, 50, 50, 5...</td>\n",
       "      <td>[34, 35, 36, 37, 33, 34, 35, 36, 37, 38, 39, 4...</td>\n",
       "      <td>[26.239439, 34.37216, 58.29161, 30.537382, 18....</td>\n",
       "      <td>[51, 38]</td>\n",
       "      <td>0.0</td>\n",
       "      <td>0.797030</td>\n",
       "      <td>1.602066</td>\n",
       "      <td>1.049269</td>\n",
       "      <td>1.440000</td>\n",
       "      <td>...</td>\n",
       "      <td>18</td>\n",
       "      <td>[False, False, True, True, False, False, False...</td>\n",
       "      <td>[False, False, False, False, False, False, Fal...</td>\n",
       "      <td>3.073787</td>\n",
       "      <td>1.325566</td>\n",
       "      <td>0.450016</td>\n",
       "      <td>0.368400</td>\n",
       "      <td>1.448370</td>\n",
       "      <td>140.027542</td>\n",
       "      <td>[21530, 21531, 21532, 21533, 21534, 21535, 215...</td>\n",
       "    </tr>\n",
       "    <tr>\n",
       "      <th>104</th>\n",
       "      <td>[[1.0, 1.0, 1.0], [1.0, 1.0, 1.0], [0.0, 1.0, ...</td>\n",
       "      <td>[463, 463, 463, 464, 464, 464, 465, 465]</td>\n",
       "      <td>[385, 386, 387, 385, 386, 387, 386, 387]</td>\n",
       "      <td>[26.055065, 35.77775, 53.371845, 64.50043, 165...</td>\n",
       "      <td>[464, 386]</td>\n",
       "      <td>0.0</td>\n",
       "      <td>0.488522</td>\n",
       "      <td>1.030330</td>\n",
       "      <td>1.000000</td>\n",
       "      <td>0.800000</td>\n",
       "      <td>...</td>\n",
       "      <td>8</td>\n",
       "      <td>[True, True, True, True, True, True, True, True]</td>\n",
       "      <td>[False, False, False, False, False, False, Fal...</td>\n",
       "      <td>1.416338</td>\n",
       "      <td>1.019705</td>\n",
       "      <td>0.128576</td>\n",
       "      <td>0.163733</td>\n",
       "      <td>1.533199</td>\n",
       "      <td>227.211884</td>\n",
       "      <td>[231295, 231296, 231297, 231298, 231299, 23130...</td>\n",
       "    </tr>\n",
       "    <tr>\n",
       "      <th>105</th>\n",
       "      <td>[[1.0, 0.0, 0.0, 0.0, 0.0, 0.0, 0.0, 0.0, 0.0]...</td>\n",
       "      <td>[397, 398, 398, 398, 398, 399, 399, 399, 399, ...</td>\n",
       "      <td>[468, 468, 469, 470, 472, 469, 470, 471, 472, ...</td>\n",
       "      <td>[25.172184, 18.745567, 34.16296, 22.904518, 15...</td>\n",
       "      <td>[400, 472]</td>\n",
       "      <td>0.0</td>\n",
       "      <td>0.934481</td>\n",
       "      <td>1.744265</td>\n",
       "      <td>1.129928</td>\n",
       "      <td>1.419355</td>\n",
       "      <td>...</td>\n",
       "      <td>22</td>\n",
       "      <td>[False, False, True, True, True, True, True, T...</td>\n",
       "      <td>[False, False, False, False, False, False, Fal...</td>\n",
       "      <td>3.568888</td>\n",
       "      <td>1.356329</td>\n",
       "      <td>0.417872</td>\n",
       "      <td>0.450266</td>\n",
       "      <td>1.175625</td>\n",
       "      <td>97.159012</td>\n",
       "      <td>[200141, 200142, 200143, 200144, 200145, 20014...</td>\n",
       "    </tr>\n",
       "  </tbody>\n",
       "</table>\n",
       "<p>106 rows × 21 columns</p>\n",
       "</div>"
      ],
      "text/plain": [
       "                                                  mask  \\\n",
       "0    [[0.0, 0.0, 0.0, 0.0, 0.0, 0.0, 0.0, 0.0, 1.0,...   \n",
       "1    [[0.0, 0.0, 0.0, 0.0, 0.0, 0.0, 0.0, 0.0, 0.0,...   \n",
       "2    [[1.0, 0.0, 0.0, 0.0, 0.0, 0.0, 0.0, 0.0, 0.0,...   \n",
       "3    [[1.0, 1.0, 0.0, 0.0, 0.0, 0.0, 0.0, 0.0, 0.0,...   \n",
       "4    [[0.0, 0.0, 0.0, 0.0, 1.0, 1.0, 1.0, 1.0, 1.0,...   \n",
       "..                                                 ...   \n",
       "101  [[0.0, 1.0, 1.0, 1.0, 0.0], [1.0, 1.0, 1.0, 1....   \n",
       "102  [[0.0, 1.0, 1.0, 1.0, 0.0, 0.0, 0.0, 0.0, 0.0,...   \n",
       "103  [[0.0, 1.0, 1.0, 1.0, 1.0, 0.0, 0.0, 0.0, 0.0,...   \n",
       "104  [[1.0, 1.0, 1.0], [1.0, 1.0, 1.0], [0.0, 1.0, ...   \n",
       "105  [[1.0, 0.0, 0.0, 0.0, 0.0, 0.0, 0.0, 0.0, 0.0]...   \n",
       "\n",
       "                                                  ypix  \\\n",
       "0    [428, 429, 429, 429, 429, 429, 430, 430, 430, ...   \n",
       "1    [27, 27, 27, 28, 28, 28, 28, 28, 28, 28, 28, 2...   \n",
       "2    [172, 173, 173, 174, 174, 174, 175, 175, 175, ...   \n",
       "3    [11, 11, 12, 12, 12, 12, 12, 12, 13, 13, 13, 1...   \n",
       "4    [301, 301, 301, 301, 301, 301, 301, 302, 302, ...   \n",
       "..                                                 ...   \n",
       "101  [205, 205, 205, 206, 206, 206, 206, 206, 207, ...   \n",
       "102  [37, 37, 37, 38, 38, 38, 38, 38, 38, 39, 39, 3...   \n",
       "103  [49, 49, 49, 49, 50, 50, 50, 50, 50, 50, 50, 5...   \n",
       "104           [463, 463, 463, 464, 464, 464, 465, 465]   \n",
       "105  [397, 398, 398, 398, 398, 399, 399, 399, 399, ...   \n",
       "\n",
       "                                                  xpix  \\\n",
       "0    [487, 484, 485, 486, 487, 488, 483, 484, 485, ...   \n",
       "1    [229, 232, 235, 226, 227, 228, 229, 230, 231, ...   \n",
       "2    [1, 1, 2, 1, 2, 3, 2, 3, 4, 2, 3, 4, 5, 3, 4, ...   \n",
       "3    [28, 29, 28, 29, 30, 38, 39, 40, 29, 30, 36, 3...   \n",
       "4    [80, 81, 82, 83, 84, 85, 86, 78, 79, 80, 81, 8...   \n",
       "..                                                 ...   \n",
       "101  [48, 49, 50, 47, 48, 49, 50, 51, 47, 48, 49, 5...   \n",
       "102  [169, 170, 171, 168, 169, 170, 171, 172, 173, ...   \n",
       "103  [34, 35, 36, 37, 33, 34, 35, 36, 37, 38, 39, 4...   \n",
       "104           [385, 386, 387, 385, 386, 387, 386, 387]   \n",
       "105  [468, 468, 469, 470, 472, 469, 470, 471, 472, ...   \n",
       "\n",
       "                                                   lam         med  footprint  \\\n",
       "0    [6.1689215, 8.099191, 11.722999, 14.179751, 14...  [433, 485]        2.0   \n",
       "1    [11.123376, 11.00426, 11.327631, 12.765344, 16...   [33, 229]        2.0   \n",
       "2    [4.4019046, 4.703035, 4.5123887, 5.3027143, 6....    [189, 9]        2.0   \n",
       "3    [8.189484, 8.766131, 8.261632, 10.408104, 7.82...    [17, 33]        2.0   \n",
       "4    [14.39057, 18.86718, 18.686886, 24.173153, 21....   [305, 81]        2.0   \n",
       "..                                                 ...         ...        ...   \n",
       "101  [31.998169, 43.370026, 41.336708, 32.82756, 10...   [207, 49]        0.0   \n",
       "102  [24.748606, 28.901981, 16.831083, 29.936657, 3...   [40, 178]        1.0   \n",
       "103  [26.239439, 34.37216, 58.29161, 30.537382, 18....    [51, 38]        0.0   \n",
       "104  [26.055065, 35.77775, 53.371845, 64.50043, 165...  [464, 386]        0.0   \n",
       "105  [25.172184, 18.745567, 34.16296, 22.904518, 15...  [400, 472]        0.0   \n",
       "\n",
       "          mrs      mrs0   compact  solidity  ...  npix_soma  \\\n",
       "0    1.904747  3.962908  1.013715  1.138462  ...        111   \n",
       "1    2.311084  4.775682  1.020641  1.080537  ...        161   \n",
       "2    2.295220  4.639770  1.043327  1.037543  ...        152   \n",
       "3    2.031694  3.998962  1.071528  0.974138  ...        113   \n",
       "4    2.195622  4.541314  1.019691  1.110266  ...        146   \n",
       "..        ...       ...       ...       ...  ...        ...   \n",
       "101  0.508746  1.072984  1.000000  0.900000  ...          9   \n",
       "102  1.373398  2.374350  1.219957  1.142857  ...         40   \n",
       "103  0.797030  1.602066  1.049269  1.440000  ...         18   \n",
       "104  0.488522  1.030330  1.000000  0.800000  ...          8   \n",
       "105  0.934481  1.744265  1.129928  1.419355  ...         22   \n",
       "\n",
       "                                             soma_crop  \\\n",
       "0    [True, True, True, True, True, True, True, Tru...   \n",
       "1    [True, True, False, True, True, True, True, Tr...   \n",
       "2    [False, False, False, False, False, False, Fal...   \n",
       "3    [True, True, True, True, True, True, True, Fal...   \n",
       "4    [True, True, True, True, True, True, True, Tru...   \n",
       "..                                                 ...   \n",
       "101  [False, False, False, False, True, True, True,...   \n",
       "102  [False, False, False, False, False, False, Fal...   \n",
       "103  [False, False, True, True, False, False, False...   \n",
       "104   [True, True, True, True, True, True, True, True]   \n",
       "105  [False, False, True, True, True, True, True, T...   \n",
       "\n",
       "                                               overlap    radius  \\\n",
       "0    [False, False, False, False, False, False, Fal...  5.281771   \n",
       "1    [False, False, False, False, False, False, Fal...  7.012206   \n",
       "2    [False, False, False, False, False, False, Fal...  6.871340   \n",
       "3    [False, False, False, False, False, False, Fal...  6.948627   \n",
       "4    [False, False, False, False, False, False, Fal...  7.170337   \n",
       "..                                                 ...       ...   \n",
       "101  [False, False, False, False, False, False, Fal...  1.559741   \n",
       "102  [False, False, False, False, False, False, Fal...  5.526589   \n",
       "103  [False, False, False, False, False, False, Fal...  3.073787   \n",
       "104  [False, False, False, False, False, False, Fal...  1.416338   \n",
       "105  [False, False, False, False, False, False, Fal...  3.568888   \n",
       "\n",
       "     aspect_ratio  npix_norm_no_crop  npix_norm      skew         std  \\\n",
       "0        1.036594           2.844744   2.271797  7.414573  160.209244   \n",
       "1        1.077493           2.909032   3.295129  7.309535  224.744659   \n",
       "2        1.011349           3.584057   3.110929  4.801162   78.603996   \n",
       "3        1.151110           1.960784   2.312730  6.960056   98.726585   \n",
       "4        1.001694           2.571520   2.988129  4.617148   76.746040   \n",
       "..            ...                ...        ...       ...         ...   \n",
       "101      0.993439           0.289296   0.184200  1.106126  159.740143   \n",
       "102      1.457119           1.012536   0.818666  2.198275   98.772232   \n",
       "103      1.325566           0.450016   0.368400  1.448370  140.027542   \n",
       "104      1.019705           0.128576   0.163733  1.533199  227.211884   \n",
       "105      1.356329           0.417872   0.450266  1.175625   97.159012   \n",
       "\n",
       "                                         neuropil_mask  \n",
       "0    [216024, 216025, 216026, 216027, 216028, 21602...  \n",
       "1    [10453, 10454, 10455, 10456, 10457, 10458, 104...  \n",
       "2    [84480, 84481, 84482, 84483, 84484, 84485, 844...  \n",
       "3    [2069, 2070, 2071, 2072, 2073, 2074, 2075, 207...  \n",
       "4    [150597, 150598, 150599, 150600, 150601, 15060...  \n",
       "..                                                 ...  \n",
       "101  [98851, 98852, 98853, 98854, 98855, 98856, 988...  \n",
       "102  [15521, 15522, 15523, 15524, 15525, 15526, 155...  \n",
       "103  [21530, 21531, 21532, 21533, 21534, 21535, 215...  \n",
       "104  [231295, 231296, 231297, 231298, 231299, 23130...  \n",
       "105  [200141, 200142, 200143, 200144, 200145, 20014...  \n",
       "\n",
       "[106 rows x 21 columns]"
      ]
     },
     "execution_count": 15,
     "metadata": {},
     "output_type": "execute_result"
    }
   ],
   "source": [
    "stats_df = pd.DataFrame(data=stats_dict)\n",
    "print(stats_df.columns)\n",
    "stats_df"
   ]
  },
  {
   "cell_type": "markdown",
   "id": "bc7e9fea-9349-443d-9f68-6d1134e135d0",
   "metadata": {},
   "source": [
    "### Comparing Segmentation Output\n",
    "Below we can compare multuple views of the Segmentation Output. Firstly is the main output which contains cells and non-cells. Secondly is the filtered version which is filtered to only include the ROIs which are classified as cells. The fields `Lx` and `Ly` from `ops.npy` contain the shape of the movie, and `ypix` and `xpix` contain the pixel coordinates at which each ROI was identified. These are used to generate the image of all ROI masks. The last plot is the segmentation from the original NWB file from the Allen Institute for comparison."
   ]
  },
  {
   "cell_type": "markdown",
   "id": "f33bf2b9-0251-41a4-9be2-948d051c479e",
   "metadata": {},
   "source": [
    "#### Segmentation from Suite2P"
   ]
  },
  {
   "cell_type": "code",
   "execution_count": 16,
   "id": "a79a3f38-b2bd-4b4a-881b-e25d9b00468a",
   "metadata": {
    "tags": []
   },
   "outputs": [
    {
     "data": {
      "text/plain": [
       "<matplotlib.image.AxesImage at 0x2449620d4c0>"
      ]
     },
     "execution_count": 16,
     "metadata": {},
     "output_type": "execute_result"
    },
    {
     "data": {
      "image/png": "[encoded data removed]",
      "text/plain": [
       "<Figure size 640x480 with 1 Axes>"
      ]
     },
     "metadata": {},
     "output_type": "display_data"
    }
   ],
   "source": [
    "im = np.zeros((ops['Ly'], ops['Lx']))\n",
    "for n in range(len(roi_stats)):\n",
    "    ypix = roi_stats[n]['ypix']\n",
    "    xpix = roi_stats[n]['xpix']\n",
    "    im[ypix,xpix] = 1\n",
    "\n",
    "plt.imshow(im)"
   ]
  },
  {
   "cell_type": "markdown",
   "id": "e08f1baf-3fd2-4601-9861-c3c799481a3a",
   "metadata": {},
   "source": [
    "#### Cell Segmentation from Suite2P Filtered"
   ]
  },
  {
   "cell_type": "code",
   "execution_count": 17,
   "id": "61ba7fd8-a9cc-4b5b-8aa7-239432267240",
   "metadata": {
    "tags": []
   },
   "outputs": [
    {
     "data": {
      "text/plain": [
       "<matplotlib.image.AxesImage at 0x2449603e8e0>"
      ]
     },
     "execution_count": 17,
     "metadata": {},
     "output_type": "execute_result"
    },
    {
     "data": {
      "image/png": "[encoded data removed]",
      "text/plain": [
       "<Figure size 640x480 with 1 Axes>"
      ]
     },
     "metadata": {},
     "output_type": "display_data"
    }
   ],
   "source": [
    "im = np.zeros((ops['Ly'], ops['Lx']))\n",
    "for i in range(len(roi_stats)):\n",
    "    if is_cell[i][0] == 1.0:\n",
    "        ypix = roi_stats[i]['ypix']\n",
    "        xpix = roi_stats[i]['xpix']\n",
    "        im[ypix,xpix] = 1\n",
    "\n",
    "plt.imshow(im)"
   ]
  },
  {
   "cell_type": "markdown",
   "id": "0cad4ce4-5b97-4777-9430-6da1b3c0b409",
   "metadata": {},
   "source": [
    "#### Segmentation From Original NWB"
   ]
  },
  {
   "cell_type": "code",
   "execution_count": 18,
   "id": "86bbccfd-49fc-4b55-a9b8-cae424961b95",
   "metadata": {
    "tags": []
   },
   "outputs": [
    {
     "data": {
      "text/plain": [
       "<matplotlib.image.AxesImage at 0x244960092b0>"
      ]
     },
     "execution_count": 18,
     "metadata": {},
     "output_type": "execute_result"
    },
    {
     "data": {
      "image/png": "[encoded data removed]",
      "text/plain": [
       "<Figure size 640x480 with 1 Axes>"
      ]
     },
     "metadata": {},
     "output_type": "display_data"
    }
   ],
   "source": [
    "plt.imshow(nwb[\"processing/ophys/images/segmentation_mask_image\"])"
   ]
  },
  {
   "cell_type": "markdown",
   "id": "bc02127b-b1fb-4c81-ad4a-3435ac214adb",
   "metadata": {
    "tags": []
   },
   "source": [
    "#### Ophys NWB\n",
    "Finally, since in the input settings, `save_nwb` was set to 1, an NWB file containing all of these was generated as output."
   ]
  },
  {
   "cell_type": "code",
   "execution_count": 19,
   "id": "9d01c4b7-10fe-42b6-b838-903b64a816cc",
   "metadata": {
    "tags": []
   },
   "outputs": [],
   "source": [
    "out_io = NWBHDF5IO(\"./results/ophys.nwb\", load_namespaces=True)\n",
    "out_nwb = out_io.read()"
   ]
  }
 ],
 "metadata": {
  "kernelspec": {
   "display_name": "Python 3 (ipykernel)",
   "language": "python",
   "name": "python3"
  },
  "language_info": {
   "codemirror_mode": {
    "name": "ipython",
    "version": 3
   },
   "file_extension": ".py",
   "mimetype": "text/x-python",
   "name": "python",
   "nbconvert_exporter": "python",
   "pygments_lexer": "ipython3",
   "version": "3.9.10"
  }
 },
 "nbformat": 4,
 "nbformat_minor": 5
}
