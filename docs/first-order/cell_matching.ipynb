{
 "cells": [
  {
   "cell_type": "code",
   "execution_count": 1,
   "id": "72ce98e2",
   "metadata": {},
   "outputs": [],
   "source": [
    "import os\n",
    "import nway\n",
    "import json\n",
    "\n",
    "import matplotlib as mpl\n",
    "import matplotlib.pyplot as plt\n",
    "import numpy as np\n",
    "\n",
    "from dandi import dandiapi\n",
    "from PIL import Image\n",
    "from pynwb import NWBHDF5IO\n"
   ]
  },
  {
   "cell_type": "code",
   "execution_count": 286,
   "id": "e4511768",
   "metadata": {},
   "outputs": [],
   "source": [
    "dandiset_id = \"000336\"\n",
    "dandi_filepath = \"sub-1170622509/sub-1170622509_ses-1194683535-1194752574-_ophys.nwb\"\n",
    "\n",
    "authenticate = True\n",
    "dandi_api_key = os.environ[\"dandi_api_key\"]"
   ]
  },
  {
   "cell_type": "code",
   "execution_count": 287,
   "id": "e2feb843",
   "metadata": {},
   "outputs": [],
   "source": [
    "if authenticate:\n",
    "    client = dandiapi.DandiAPIClient(token=dandi_api_key)\n",
    "else:\n",
    "    client = dandiapi.DandiAPIClient()\n",
    "my_dandiset = client.get_dandiset(dandiset_id)\n",
    "\n",
    "filename = dandi_filepath.split(\"/\")[-1]\n",
    "filepath = f\"./{filename}\"\n",
    "file = my_dandiset.get_asset_by_path(dandi_filepath)"
   ]
  },
  {
   "cell_type": "code",
   "execution_count": 288,
   "id": "9812eb06",
   "metadata": {},
   "outputs": [
    {
     "name": "stdout",
     "output_type": "stream",
     "text": [
      "Downloaded file to ./sub-1170622509_ses-1194683535-1194752574-_ophys.nwb\n"
     ]
    }
   ],
   "source": [
    "# # this may take awhile, especially if the file to download is large\n",
    "# file.download(filepath)\n",
    "\n",
    "# print(f\"Downloaded file to {filepath}\")"
   ]
  },
  {
   "cell_type": "code",
   "execution_count": 393,
   "id": "77d78e7d",
   "metadata": {},
   "outputs": [],
   "source": [
    "data_dir = \"../../../data/dendrite_coupling\"\n",
    "io = NWBHDF5IO(f\"{data_dir}/sub-1168633075_ses-1193555033-1193675745-_ophys.nwb\", mode=\"r\", load_namespaces=True)\n",
    "nwb1 = io.read()\n",
    "\n",
    "io = NWBHDF5IO(f\"{data_dir}/sub-1170622509_ses-1194683535-1194752574-_ophys.nwb\", mode=\"r\", load_namespaces=True)\n",
    "nwb2 = io.read()"
   ]
  },
  {
   "cell_type": "code",
   "execution_count": 394,
   "id": "d2a94b14",
   "metadata": {},
   "outputs": [],
   "source": [
    "nwbs = [nwb1, nwb2]"
   ]
  },
  {
   "cell_type": "markdown",
   "id": "2a945ff9",
   "metadata": {},
   "source": [
    "### Convert to Nwaymatching Input File"
   ]
  },
  {
   "cell_type": "code",
   "execution_count": 395,
   "id": "c15fa825",
   "metadata": {},
   "outputs": [],
   "source": [
    "def make_roi_entries(roi_table):\n",
    "    roi_entries = []\n",
    "    for roi_idx in range(len(roi_table)):\n",
    "        x = int(roi_table[\"x\"][roi_idx])\n",
    "        y = int(roi_table[\"y\"][roi_idx])\n",
    "        height = int(roi_table[\"height\"][roi_idx])\n",
    "        width = int(roi_table[\"width\"][roi_idx])\n",
    "        \n",
    "        mask_subimage = roi_table[\"image_mask\"][roi_idx][y:y+height,x:x+width]\n",
    "        \n",
    "        roi_entry = {\n",
    "            \"id\": int(roi_table[\"id\"][roi_idx]),\n",
    "            \"valid\": bool(roi_table[\"valid_roi\"][roi_idx]),\n",
    "            \"x\": x,\n",
    "            \"y\": y,\n",
    "            \"z\": 1,\n",
    "            \"width\": width,\n",
    "            \"height\": height,\n",
    "            # convert 2D array to 2D list of bools\n",
    "            \"mask_matrix\": [[bool(elem) for elem in row] for row in mask_subimage]\n",
    "        }\n",
    "        roi_entries.append(roi_entry)\n",
    "    return roi_entries"
   ]
  },
  {
   "cell_type": "code",
   "execution_count": 396,
   "id": "92f94206",
   "metadata": {},
   "outputs": [],
   "source": [
    "def normalize_to_16b(image_array):\n",
    "    mn = image_array.min()\n",
    "    mx = image_array.max()\n",
    "    mx -= mn\n",
    "    image_array = ((image_array - mn)/mx) * (2**16)\n",
    "    return image_array.astype(np.uint16)"
   ]
  },
  {
   "cell_type": "code",
   "execution_count": 353,
   "id": "f47fcba6",
   "metadata": {},
   "outputs": [],
   "source": [
    "def nwb_to_experiment_json(nwb):\n",
    "    # save image here\n",
    "    grayscale_image = np.array(nwb.processing[\"ophys\"][\"images\"][\"average_image\"])\n",
    "    image_array = normalize_to_16b(np.array(grayscale_image))\n",
    "    image_file = Image.fromarray(image_array)\n",
    "    image_file = image_file.convert(\"L\")\n",
    "    image_file.save(f\"./{nwb.identifier}_image.png\")\n",
    "\n",
    "    roi_table = nwb.processing[\"ophys\"][\"image_segmentation\"][\"cell_specimen_table\"]\n",
    "    \n",
    "    experiment = {\n",
    "        \"id\": nwb.identifier, \n",
    "        \"ophys_average_intensity_projection_image\": f\"./{nwb.identifier}_image.png\",\n",
    "        \"cell_rois\": make_roi_entries(roi_table)\n",
    "    }\n",
    "\n",
    "    return experiment"
   ]
  },
  {
   "cell_type": "code",
   "execution_count": 354,
   "id": "e565275e",
   "metadata": {},
   "outputs": [],
   "source": [
    "input_exps = {\n",
    "    \"experiment_containers\": {\n",
    "        \"ophys_experiments\": []\n",
    "    }\n",
    "}\n",
    "\n",
    "for nwb in nwbs:\n",
    "    experiment = nwb_to_experiment_json(nwb)\n",
    "    input_exps[\"experiment_containers\"][\"ophys_experiments\"].append(experiment)\n",
    "\n",
    "with open(\"input.json\", \"w\") as f:\n",
    "    json.dump(input_exps, f, indent=2)"
   ]
  },
  {
   "cell_type": "code",
   "execution_count": 355,
   "id": "8e123156",
   "metadata": {
    "scrolled": true
   },
   "outputs": [
    {
     "name": "stderr",
     "output_type": "stream",
     "text": [
      "WARNING:root:many=True not supported from argparse\n",
      "INFO:NwayMatching:NWAY_COMMIT_SHA None\n",
      "INFO:NwayMatching:Nway matching version 0.6.0\n",
      "WARNING:root:many=True not supported from argparse\n",
      "WARNING:root:many=True not supported from argparse\n",
      "INFO:PairwiseMatching:Matching 1193675745 to 1194752574\n",
      "INFO:PairwiseMatching:Matching 1193675745 to 1194752574: best registration was ['Crop', 'ECC']\n",
      "C:\\Users\\carter.peene\\AppData\\Local\\Programs\\Python\\Python39\\lib\\site-packages\\nway\\utils.py:48: FutureWarning: In a future version of pandas all arguments of DataFrame.sort_index will be keyword-only\n",
      "  df = df.sort_index(0)\n",
      "C:\\Users\\carter.peene\\AppData\\Local\\Programs\\Python\\Python39\\lib\\site-packages\\nway\\utils.py:49: FutureWarning: In a future version of pandas all arguments of DataFrame.sort_index will be keyword-only\n",
      "  df = df.sort_index(1)\n",
      "INFO:NwayMatching:registration success(1) or failure (0):\n",
      "   0  1\n",
      "0  1  1\n",
      "1  1  1\n",
      "id map{\n",
      "  \"0\": 1193675745,\n",
      "  \"1\": 1194752574\n",
      "}\n",
      "Traceback (most recent call last):\n",
      "  File \"C:\\Users\\carter.peene\\AppData\\Local\\Programs\\Python\\Python39\\lib\\runpy.py\", line 197, in _run_module_as_main\n",
      "    return _run_code(code, main_globals, None,\n",
      "  File \"C:\\Users\\carter.peene\\AppData\\Local\\Programs\\Python\\Python39\\lib\\runpy.py\", line 87, in _run_code\n",
      "    exec(code, run_globals)\n",
      "  File \"C:\\Users\\carter.peene\\AppData\\Local\\Programs\\Python\\Python39\\lib\\site-packages\\nway\\nway_matching.py\", line 502, in <module>\n",
      "    nmod.run()\n",
      "  File \"C:\\Users\\carter.peene\\AppData\\Local\\Programs\\Python\\Python39\\lib\\site-packages\\nway\\nway_matching.py\", line 474, in run\n",
      "    matching_table_nway_tmp = self.remove_nway_table_redundancy(\n",
      "  File \"C:\\Users\\carter.peene\\AppData\\Local\\Programs\\Python\\Python39\\lib\\site-packages\\nway\\nway_matching.py\", line 236, in remove_nway_table_redundancy\n",
      "    table_new = [table[0]]\n",
      "IndexError: index 0 is out of bounds for axis 0 with size 0\n"
     ]
    }
   ],
   "source": [
    "!python -m nway.nway_matching --input_json input.json --output_json test_output/output.json --output_dir test_output"
   ]
  }
 ],
 "metadata": {
  "kernelspec": {
   "display_name": "Python 3 (ipykernel)",
   "language": "python",
   "name": "python3"
  },
  "language_info": {
   "codemirror_mode": {
    "name": "ipython",
    "version": 3
   },
   "file_extension": ".py",
   "mimetype": "text/x-python",
   "name": "python",
   "nbconvert_exporter": "python",
   "pygments_lexer": "ipython3",
   "version": "3.9.10"
  }
 },
 "nbformat": 4,
 "nbformat_minor": 5
}
