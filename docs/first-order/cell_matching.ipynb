{
 "cells": [
  {
   "cell_type": "code",
   "execution_count": 3,
   "id": "72ce98e2",
   "metadata": {},
   "outputs": [],
   "source": [
    "import os\n",
    "import nway\n",
    "import json\n",
    "\n",
    "import matplotlib as mpl\n",
    "import matplotlib.pyplot as plt\n",
    "import numpy as np\n",
    "\n",
    "from dandi import dandiapi\n",
    "from PIL import Image\n",
    "from pynwb import NWBHDF5IO\n"
   ]
  },
  {
   "cell_type": "code",
   "execution_count": 4,
   "id": "e4511768",
   "metadata": {},
   "outputs": [],
   "source": [
    "dandiset_id = \"000336\"\n",
    "dandi_filepath = \"sub-1170622509/sub-1170622509_ses-1194683535-1194752574-_ophys.nwb\"\n",
    "\n",
    "authenticate = True\n",
    "dandi_api_key = os.environ[\"dandi_api_key\"]"
   ]
  },
  {
   "cell_type": "code",
   "execution_count": 5,
   "id": "e2feb843",
   "metadata": {},
   "outputs": [
    {
     "name": "stderr",
     "output_type": "stream",
     "text": [
      "A newer version (0.51.0) of dandi/dandi-cli is available. You are using 0.46.3\n"
     ]
    }
   ],
   "source": [
    "if authenticate:\n",
    "    client = dandiapi.DandiAPIClient(token=dandi_api_key)\n",
    "else:\n",
    "    client = dandiapi.DandiAPIClient()\n",
    "my_dandiset = client.get_dandiset(dandiset_id)\n",
    "\n",
    "filename = dandi_filepath.split(\"/\")[-1]\n",
    "filepath = f\"./{filename}\"\n",
    "file = my_dandiset.get_asset_by_path(dandi_filepath)"
   ]
  },
  {
   "cell_type": "code",
   "execution_count": 6,
   "id": "9812eb06",
   "metadata": {},
   "outputs": [],
   "source": [
    "# # this may take awhile, especially if the file to download is large\n",
    "# file.download(filepath)\n",
    "\n",
    "# print(f\"Downloaded file to {filepath}\")"
   ]
  },
  {
   "cell_type": "code",
   "execution_count": 7,
   "id": "77d78e7d",
   "metadata": {},
   "outputs": [
    {
     "name": "stderr",
     "output_type": "stream",
     "text": [
      "C:\\Users\\carter.peene\\AppData\\Local\\Programs\\Python\\Python39\\lib\\site-packages\\hdmf\\spec\\namespace.py:531: UserWarning: Ignoring cached namespace 'hdmf-common' version 1.5.0 because version 1.5.1 is already loaded.\n",
      "  warn(\"Ignoring cached namespace '%s' version %s because version %s is already loaded.\"\n",
      "C:\\Users\\carter.peene\\AppData\\Local\\Programs\\Python\\Python39\\lib\\site-packages\\hdmf\\spec\\namespace.py:531: UserWarning: Ignoring cached namespace 'core' version 2.3.0 because version 2.5.0 is already loaded.\n",
      "  warn(\"Ignoring cached namespace '%s' version %s because version %s is already loaded.\"\n",
      "C:\\Users\\carter.peene\\AppData\\Local\\Programs\\Python\\Python39\\lib\\site-packages\\hdmf\\spec\\namespace.py:531: UserWarning: Ignoring cached namespace 'hdmf-experimental' version 0.1.0 because version 0.2.0 is already loaded.\n",
      "  warn(\"Ignoring cached namespace '%s' version %s because version %s is already loaded.\"\n"
     ]
    }
   ],
   "source": [
    "data_dir = \"../../../data/dendrite_coupling\"\n",
    "io = NWBHDF5IO(f\"{data_dir}/sub-1168633075_ses-1193555033-1193675745-_ophys.nwb\", mode=\"r\", load_namespaces=True)\n",
    "nwb1 = io.read()\n",
    "\n",
    "io = NWBHDF5IO(f\"{data_dir}/sub-1168633075_ses-1194555869-1194754129-_ophys.nwb\", mode=\"r\", load_namespaces=True)\n",
    "nwb2 = io.read()"
   ]
  },
  {
   "cell_type": "code",
   "execution_count": 8,
   "id": "d2a94b14",
   "metadata": {},
   "outputs": [],
   "source": [
    "nwbs = [nwb1, nwb2]"
   ]
  },
  {
   "cell_type": "markdown",
   "id": "fcb6ebd2",
   "metadata": {},
   "source": [
    "### Generating Cell-Matching Input File"
   ]
  },
  {
   "cell_type": "code",
   "execution_count": 9,
   "id": "c15fa825",
   "metadata": {},
   "outputs": [],
   "source": [
    "def make_roi_entries(roi_table):\n",
    "    roi_entries = []\n",
    "    for roi_idx in range(len(roi_table)):\n",
    "        x = int(roi_table[\"x\"][roi_idx])\n",
    "        y = int(roi_table[\"y\"][roi_idx])\n",
    "        height = int(roi_table[\"height\"][roi_idx])\n",
    "        width = int(roi_table[\"width\"][roi_idx])\n",
    "        \n",
    "        mask_subimage = roi_table[\"image_mask\"][roi_idx][y:y+height,x:x+width]\n",
    "        \n",
    "        roi_entry = {\n",
    "            \"id\": int(roi_table[\"id\"][roi_idx]),\n",
    "            \"valid\": bool(roi_table[\"valid_roi\"][roi_idx]),\n",
    "            \"x\": x,\n",
    "            \"y\": y,\n",
    "            \"z\": 1,\n",
    "            \"width\": width,\n",
    "            \"height\": height,\n",
    "            # convert 2D array to 2D list of bools\n",
    "            \"mask_matrix\": [[bool(elem) for elem in row] for row in mask_subimage]\n",
    "        }\n",
    "        roi_entries.append(roi_entry)\n",
    "    return roi_entries"
   ]
  },
  {
   "cell_type": "code",
   "execution_count": 54,
   "id": "92f94206",
   "metadata": {},
   "outputs": [],
   "source": [
    "def normalize_to_16b(image_array):\n",
    "#     mn = image_array.min()\n",
    "#     mx = image_array.max()\n",
    "#     mx -= mn\n",
    "#     image_array = ((image_array - mn)/mx) * (2**8)\n",
    "    image_array = image_array * 2**8\n",
    "    return image_array.astype(np.uint16)"
   ]
  },
  {
   "cell_type": "code",
   "execution_count": 65,
   "id": "19cafecf",
   "metadata": {},
   "outputs": [
    {
     "data": {
      "text/plain": [
       "(array([9.50000e+01, 0.00000e+00, 0.00000e+00, 0.00000e+00, 0.00000e+00,\n",
       "        0.00000e+00, 7.62000e+02, 0.00000e+00, 0.00000e+00, 0.00000e+00,\n",
       "        0.00000e+00, 0.00000e+00, 0.00000e+00, 9.03020e+04, 0.00000e+00,\n",
       "        0.00000e+00, 0.00000e+00, 0.00000e+00, 0.00000e+00, 0.00000e+00,\n",
       "        1.38022e+05, 0.00000e+00, 0.00000e+00, 0.00000e+00, 0.00000e+00,\n",
       "        0.00000e+00, 2.80330e+04, 0.00000e+00, 0.00000e+00, 0.00000e+00,\n",
       "        0.00000e+00, 0.00000e+00, 0.00000e+00, 3.98200e+03, 0.00000e+00,\n",
       "        0.00000e+00, 0.00000e+00, 0.00000e+00, 0.00000e+00, 0.00000e+00,\n",
       "        6.89000e+02, 0.00000e+00, 0.00000e+00, 0.00000e+00, 0.00000e+00,\n",
       "        0.00000e+00, 1.80000e+02, 0.00000e+00, 0.00000e+00, 0.00000e+00,\n",
       "        0.00000e+00, 0.00000e+00, 0.00000e+00, 4.60000e+01, 0.00000e+00,\n",
       "        0.00000e+00, 0.00000e+00, 0.00000e+00, 0.00000e+00, 0.00000e+00,\n",
       "        1.70000e+01, 0.00000e+00, 0.00000e+00, 0.00000e+00, 0.00000e+00,\n",
       "        0.00000e+00, 1.00000e+01, 0.00000e+00, 0.00000e+00, 0.00000e+00,\n",
       "        0.00000e+00, 0.00000e+00, 0.00000e+00, 5.00000e+00, 0.00000e+00,\n",
       "        0.00000e+00, 0.00000e+00, 0.00000e+00, 0.00000e+00, 0.00000e+00,\n",
       "        0.00000e+00, 0.00000e+00, 0.00000e+00, 0.00000e+00, 0.00000e+00,\n",
       "        0.00000e+00, 0.00000e+00, 0.00000e+00, 0.00000e+00, 0.00000e+00,\n",
       "        0.00000e+00, 0.00000e+00, 0.00000e+00, 0.00000e+00, 0.00000e+00,\n",
       "        0.00000e+00, 0.00000e+00, 0.00000e+00, 0.00000e+00, 1.00000e+00]),\n",
       " array([0.03529412, 0.03588235, 0.03647059, 0.03705883, 0.03764706,\n",
       "        0.0382353 , 0.03882353, 0.03941176, 0.04      , 0.04058824,\n",
       "        0.04117647, 0.04176471, 0.04235294, 0.04294118, 0.04352941,\n",
       "        0.04411765, 0.04470588, 0.04529412, 0.04588236, 0.04647059,\n",
       "        0.04705882, 0.04764706, 0.0482353 , 0.04882353, 0.04941177,\n",
       "        0.05      , 0.05058824, 0.05117647, 0.05176471, 0.05235294,\n",
       "        0.05294118, 0.05352942, 0.05411765, 0.05470588, 0.05529412,\n",
       "        0.05588235, 0.05647059, 0.05705883, 0.05764706, 0.0582353 ,\n",
       "        0.05882353, 0.05941177, 0.06      , 0.06058824, 0.06117647,\n",
       "        0.06176471, 0.06235294, 0.06294118, 0.06352942, 0.06411765,\n",
       "        0.06470589, 0.06529412, 0.06588235, 0.06647059, 0.06705882,\n",
       "        0.06764706, 0.06823529, 0.06882353, 0.06941177, 0.07      ,\n",
       "        0.07058824, 0.07117647, 0.07176471, 0.07235295, 0.07294118,\n",
       "        0.07352941, 0.07411765, 0.07470588, 0.07529412, 0.07588235,\n",
       "        0.07647059, 0.07705882, 0.07764706, 0.0782353 , 0.07882353,\n",
       "        0.07941177, 0.08      , 0.08058824, 0.08117647, 0.08176471,\n",
       "        0.08235294, 0.08294118, 0.08352941, 0.08411765, 0.08470588,\n",
       "        0.08529412, 0.08588236, 0.08647059, 0.08705883, 0.08764706,\n",
       "        0.0882353 , 0.08882353, 0.08941177, 0.09      , 0.09058823,\n",
       "        0.09117647, 0.09176471, 0.09235294, 0.09294118, 0.09352941,\n",
       "        0.09411765]),\n",
       " <BarContainer object of 100 artists>)"
      ]
     },
     "execution_count": 65,
     "metadata": {},
     "output_type": "execute_result"
    },
    {
     "data": {
      "image/png": "[encoded data removed]",
      "text/plain": [
       "<Figure size 640x480 with 1 Axes>"
      ]
     },
     "metadata": {},
     "output_type": "display_data"
    }
   ],
   "source": [
    "grayscale_image = np.array(nwb1.processing[\"ophys\"][\"images\"][\"average_image\"])\n",
    "# image_array = normalize_to_16b(np.array(grayscale_image))\n",
    "# image_file = Image.fromarray(image_array)\n",
    "# print(image_array)\n",
    "# plt.imshow(image_file)"
   ]
  },
  {
   "cell_type": "markdown",
   "id": "5533378d",
   "metadata": {},
   "source": [
    "### Break"
   ]
  },
  {
   "cell_type": "code",
   "execution_count": 56,
   "id": "f47fcba6",
   "metadata": {},
   "outputs": [],
   "source": [
    "def nwb_to_experiment_json(nwb):\n",
    "    # save image here\n",
    "    grayscale_image = np.array(nwb.processing[\"ophys\"][\"images\"][\"average_image\"])\n",
    "    image_array = normalize_to_16b(np.array(grayscale_image))\n",
    "    image_file = Image.fromarray(image_array)\n",
    "    image_file = image_file.convert(\"L\")\n",
    "    image_file.save(f\"./{nwb.identifier}_image.png\")\n",
    "\n",
    "    roi_table = nwb.processing[\"ophys\"][\"image_segmentation\"][\"cell_specimen_table\"]\n",
    "    \n",
    "    experiment = {\n",
    "        \"id\": nwb.identifier, \n",
    "        \"ophys_average_intensity_projection_image\": f\"./{nwb.identifier}_image.png\",\n",
    "        \"cell_rois\": make_roi_entries(roi_table)\n",
    "    }\n",
    "\n",
    "    return experiment"
   ]
  },
  {
   "cell_type": "code",
   "execution_count": 57,
   "id": "e565275e",
   "metadata": {},
   "outputs": [],
   "source": [
    "input_exps = {\n",
    "    \"experiment_containers\": {\n",
    "        \"ophys_experiments\": []\n",
    "    }\n",
    "}\n",
    "\n",
    "for nwb in nwbs:\n",
    "    experiment = nwb_to_experiment_json(nwb)\n",
    "    input_exps[\"experiment_containers\"][\"ophys_experiments\"].append(experiment)\n",
    "\n",
    "with open(\"input.json\", \"w\") as f:\n",
    "    json.dump(input_exps, f, indent=2)"
   ]
  },
  {
   "cell_type": "code",
   "execution_count": 43,
   "id": "8e123156",
   "metadata": {
    "scrolled": true
   },
   "outputs": [
    {
     "name": "stderr",
     "output_type": "stream",
     "text": [
      "WARNING:root:many=True not supported from argparse\n",
      "INFO:NwayMatching:NWAY_COMMIT_SHA None\n",
      "INFO:NwayMatching:Nway matching version 0.6.0\n",
      "WARNING:root:many=True not supported from argparse\n",
      "WARNING:root:many=True not supported from argparse\n",
      "INFO:PairwiseMatching:Matching 1193675745 to 1194754129\n",
      "INFO:PairwiseMatching:Matching 1193675745 to 1194754129: best registration was ['Crop', 'CLAHE', 'PhaseCorrelate', 'ECC']\n",
      "C:\\Users\\carter.peene\\AppData\\Local\\Programs\\Python\\Python39\\lib\\site-packages\\nway\\utils.py:48: FutureWarning: In a future version of pandas all arguments of DataFrame.sort_index will be keyword-only\n",
      "  df = df.sort_index(0)\n",
      "C:\\Users\\carter.peene\\AppData\\Local\\Programs\\Python\\Python39\\lib\\site-packages\\nway\\utils.py:49: FutureWarning: In a future version of pandas all arguments of DataFrame.sort_index will be keyword-only\n",
      "  df = df.sort_index(1)\n",
      "INFO:NwayMatching:registration success(1) or failure (0):\n",
      "   0  1\n",
      "0  1  1\n",
      "1  1  1\n",
      "id map{\n",
      "  \"0\": 1193675745,\n",
      "  \"1\": 1194754129\n",
      "}\n",
      "INFO:NwayMatching:Nway matching is done!\n",
      "INFO:NwayMatching:Creating match summary plots\n",
      "WARNING:root:setting Dict fields not supported from argparse\n",
      "C:\\Users\\carter.peene\\AppData\\Local\\Programs\\Python\\Python39\\lib\\site-packages\\argschema\\utils.py:346: FutureWarning: '--nway_output.nway_matches' is using old-style command-line syntax with each element as a separate argument. This will not be supported in argschema after 2.0. See http://argschema.readthedocs.io/en/master/user/intro.html#command-line-specification for details.\n",
      "  warnings.warn(warn_msg, FutureWarning)\n",
      "WARNING:root:many=True not supported from argparse\n",
      "INFO:NwayMatching:wrote test_output\\nway_match_fraction_plot_2023_03_24_08_57_53.png\n",
      "INFO:NwayMatching:wrote test_output\\nway_warp_overlay_plot_2023_03_24_08_57_53.png\n",
      "INFO:NwayMatching:wrote test_output\\nway_warp_summary_plot_2023_03_24_08_57_53.png\n",
      "INFO:NwayMatching:wrote test_output/output.json\n"
     ]
    }
   ],
   "source": [
    "!python -m nway.nway_matching --input_json input.json --output_json test_output/output.json --output_dir test_output"
   ]
  },
  {
   "cell_type": "code",
   "execution_count": null,
   "id": "c93b3369",
   "metadata": {},
   "outputs": [],
   "source": []
  }
 ],
 "metadata": {
  "kernelspec": {
   "display_name": "Python 3 (ipykernel)",
   "language": "python",
   "name": "python3"
  },
  "language_info": {
   "codemirror_mode": {
    "name": "ipython",
    "version": 3
   },
   "file_extension": ".py",
   "mimetype": "text/x-python",
   "name": "python",
   "nbconvert_exporter": "python",
   "pygments_lexer": "ipython3",
   "version": "3.9.10"
  }
 },
 "nbformat": 4,
 "nbformat_minor": 5
}
