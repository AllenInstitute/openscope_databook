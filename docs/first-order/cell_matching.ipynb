{
 "cells": [
  {
   "cell_type": "markdown",
   "id": "85548fe0",
   "metadata": {},
   "source": [
    "# Cell Matching Across Days\n",
    "Experimental sessions are conducted across multiple days on the same mouse. When imaging the brain location on the same plane with **2-Photon Imaging**, the image will not be perfectly identical. The frame may be in a slighlty different location on the brain or at a slighlty different depth. Additionally, cells can move relative to eachother over time. Due to this, computational methods are required to identify which cell *Regions of Interest* (ROIs) are the same as the previous session."
   ]
  },
  {
   "cell_type": "markdown",
   "id": "04105449",
   "metadata": {},
   "source": [
    "### Environment Setup"
   ]
  },
  {
   "cell_type": "code",
   "execution_count": 2,
   "id": "72ce98e2",
   "metadata": {},
   "outputs": [],
   "source": [
    "import os\n",
    "import nway\n",
    "import json\n",
    "\n",
    "import matplotlib as mpl\n",
    "import matplotlib.pyplot as plt\n",
    "import numpy as np\n",
    "\n",
    "from dandi import dandiapi\n",
    "from PIL import Image\n",
    "from pynwb import NWBHDF5IO\n"
   ]
  },
  {
   "cell_type": "markdown",
   "id": "6ef59305",
   "metadata": {},
   "source": [
    "### Downloading Ophys NWB Files"
   ]
  },
  {
   "cell_type": "code",
   "execution_count": 3,
   "id": "e4511768",
   "metadata": {},
   "outputs": [],
   "source": [
    "dandiset_id = \"000336\"\n",
    "dandi_filepath = \"sub-1170622509/sub-1170622509_ses-1194683535-1194752574-_ophys.nwb\"\n",
    "download_loc = \".\"\n",
    "\n",
    "authenticate = True\n",
    "dandi_api_key = os.environ[\"dandi_api_key\"]"
   ]
  },
  {
   "cell_type": "code",
   "execution_count": 5,
   "id": "e2feb843",
   "metadata": {},
   "outputs": [
    {
     "name": "stderr",
     "output_type": "stream",
     "text": [
      "A newer version (0.51.0) of dandi/dandi-cli is available. You are using 0.46.3\n"
     ]
    }
   ],
   "source": [
    "if authenticate:\n",
    "    client = dandiapi.DandiAPIClient(token=dandi_api_key)\n",
    "else:\n",
    "    client = dandiapi.DandiAPIClient()\n",
    "my_dandiset = client.get_dandiset(dandiset_id)\n",
    "\n",
    "filename = dandi_filepath.split(\"/\")[-1]\n",
    "filepath = f\"./{filename}\"\n",
    "file = my_dandiset.get_asset_by_path(dandi_filepath)"
   ]
  },
  {
   "cell_type": "code",
   "execution_count": 6,
   "id": "9812eb06",
   "metadata": {},
   "outputs": [],
   "source": [
    "# # this may take awhile, especially if the file to download is large\n",
    "# file.download(filepath)\n",
    "\n",
    "# print(f\"Downloaded file to {filepath}\")"
   ]
  },
  {
   "cell_type": "code",
   "execution_count": 7,
   "id": "77d78e7d",
   "metadata": {},
   "outputs": [],
   "source": [
    "io = NWBHDF5IO(f\"{download_loc}/1193675753.nwb\", mode=\"r\", load_namespaces=True)\n",
    "nwb1 = io.read()\n",
    "\n",
    "io = NWBHDF5IO(f\"{download_loc}/1194754135.nwb\", mode=\"r\", load_namespaces=True)\n",
    "nwb2 = io.read()\n",
    "\n",
    "nwbs = [nwb1, nwb2]"
   ]
  },
  {
   "cell_type": "code",
   "execution_count": 13,
   "id": "d2a94b14",
   "metadata": {},
   "outputs": [
    {
     "name": "stdout",
     "output_type": "stream",
     "text": [
      "309\n",
      "309\n"
     ]
    }
   ],
   "source": [
    "# these should be similar values\n",
    "print(nwb1.lab_meta_data[\"metadata\"].imaging_depth)\n",
    "print(nwb2.lab_meta_data[\"metadata\"].imaging_depth)"
   ]
  },
  {
   "cell_type": "markdown",
   "id": "fcb6ebd2",
   "metadata": {},
   "source": [
    "### Generating Cell-Matching Input File\n",
    "The Allen Institute has created a robust pipeline for conducting cell matching between 2 or more sessions called [**Nway Matching**](https://github.com/AllenInstitute/ophys_nway_matching). For those who are inquisitive, the general algorithm is described in page 28 of [this Visual Behavior paper](https://www.biorxiv.org/content/10.1101/2023.02.14.528085v2.full.pdf). In summary, the input images are aligned together with a euclidian image registration technique. Then the given input ROI masks are used with the [Blossom Algorithm](https://en.wikipedia.org/wiki/Blossom_algorithm) as a bipartite graph matching algorithm. This identifies which ROIs represent the same cells with high probability.\n",
    "\n",
    "The caveat to using this pipeline is that it requires input in a specific JSON format rather than an NWB File. The following functions are used to generate a file `input.json` which can be used to obtain important output. The input json contains an entry for each input experiment. 2 or more experiments can be used. For each experiment, a unique experiment ID, a path to the experiment projection image, and a list of objects for each ROI are required."
   ]
  },
  {
   "cell_type": "code",
   "execution_count": 9,
   "id": "c15fa825",
   "metadata": {},
   "outputs": [],
   "source": [
    "def make_roi_entries(roi_table):\n",
    "    roi_entries = []\n",
    "    for roi_idx in range(len(roi_table)):\n",
    "        x = int(roi_table[\"x\"][roi_idx])\n",
    "        y = int(roi_table[\"y\"][roi_idx])\n",
    "        height = int(roi_table[\"height\"][roi_idx])\n",
    "        width = int(roi_table[\"width\"][roi_idx])\n",
    "        \n",
    "        mask_subimage = roi_table[\"image_mask\"][roi_idx][y:y+height,x:x+width]\n",
    "        \n",
    "        roi_entry = {\n",
    "            \"id\": int(roi_table[\"id\"][roi_idx]),\n",
    "            \"valid\": bool(roi_table[\"valid_roi\"][roi_idx]),\n",
    "            \"x\": x,\n",
    "            \"y\": y,\n",
    "            \"z\": 1,\n",
    "            \"width\": width,\n",
    "            \"height\": height,\n",
    "            # convert 2D array to 2D list of bools\n",
    "            \"mask_matrix\": [[bool(elem) for elem in row] for row in mask_subimage]\n",
    "        }\n",
    "        roi_entries.append(roi_entry)\n",
    "    return roi_entries"
   ]
  },
  {
   "cell_type": "code",
   "execution_count": 54,
   "id": "92f94206",
   "metadata": {},
   "outputs": [],
   "source": [
    "def normalize_to_16b(image_array):\n",
    "    image_array = image_array * 2**8\n",
    "    return image_array.astype(np.uint16)"
   ]
  },
  {
   "cell_type": "code",
   "execution_count": 56,
   "id": "f47fcba6",
   "metadata": {},
   "outputs": [],
   "source": [
    "def nwb_to_experiment_json(nwb):\n",
    "    # save image here\n",
    "    grayscale_image = np.array(nwb.processing[\"ophys\"][\"images\"][\"average_image\"])\n",
    "    image_array = normalize_to_16b(np.array(grayscale_image))\n",
    "    image_file = Image.fromarray(image_array)\n",
    "    image_file = image_file.convert(\"L\")\n",
    "    image_file.save(f\"./{nwb.identifier}_image.png\")\n",
    "\n",
    "    roi_table = nwb.processing[\"ophys\"][\"image_segmentation\"][\"cell_specimen_table\"]\n",
    "    \n",
    "    experiment = {\n",
    "        \"id\": nwb.identifier, \n",
    "        \"ophys_average_intensity_projection_image\": f\"./{nwb.identifier}_image.png\",\n",
    "        \"cell_rois\": make_roi_entries(roi_table)\n",
    "    }\n",
    "\n",
    "    return experiment"
   ]
  },
  {
   "cell_type": "code",
   "execution_count": 57,
   "id": "e565275e",
   "metadata": {},
   "outputs": [],
   "source": [
    "input_exps = {\n",
    "    \"experiment_containers\": {\n",
    "        \"ophys_experiments\": []\n",
    "    }\n",
    "}\n",
    "\n",
    "for nwb in nwbs:\n",
    "    experiment = nwb_to_experiment_json(nwb)\n",
    "    input_exps[\"experiment_containers\"][\"ophys_experiments\"].append(experiment)\n",
    "\n",
    "with open(\"input.json\", \"w\") as f:\n",
    "    json.dump(input_exps, f, indent=2)"
   ]
  },
  {
   "cell_type": "markdown",
   "id": "e07d74f6",
   "metadata": {},
   "source": [
    "### Running the Algorithm\n",
    "**Nway Matching** can be run as a command with the following parameters. From there, several output files are generated."
   ]
  },
  {
   "cell_type": "code",
   "execution_count": 43,
   "id": "8e123156",
   "metadata": {
    "scrolled": true
   },
   "outputs": [
    {
     "name": "stderr",
     "output_type": "stream",
     "text": [
      "WARNING:root:many=True not supported from argparse\n",
      "INFO:NwayMatching:NWAY_COMMIT_SHA None\n",
      "INFO:NwayMatching:Nway matching version 0.6.0\n",
      "WARNING:root:many=True not supported from argparse\n",
      "WARNING:root:many=True not supported from argparse\n",
      "INFO:PairwiseMatching:Matching 1193675745 to 1194754129\n",
      "INFO:PairwiseMatching:Matching 1193675745 to 1194754129: best registration was ['Crop', 'CLAHE', 'PhaseCorrelate', 'ECC']\n",
      "C:\\Users\\carter.peene\\AppData\\Local\\Programs\\Python\\Python39\\lib\\site-packages\\nway\\utils.py:48: FutureWarning: In a future version of pandas all arguments of DataFrame.sort_index will be keyword-only\n",
      "  df = df.sort_index(0)\n",
      "C:\\Users\\carter.peene\\AppData\\Local\\Programs\\Python\\Python39\\lib\\site-packages\\nway\\utils.py:49: FutureWarning: In a future version of pandas all arguments of DataFrame.sort_index will be keyword-only\n",
      "  df = df.sort_index(1)\n",
      "INFO:NwayMatching:registration success(1) or failure (0):\n",
      "   0  1\n",
      "0  1  1\n",
      "1  1  1\n",
      "id map{\n",
      "  \"0\": 1193675745,\n",
      "  \"1\": 1194754129\n",
      "}\n",
      "INFO:NwayMatching:Nway matching is done!\n",
      "INFO:NwayMatching:Creating match summary plots\n",
      "WARNING:root:setting Dict fields not supported from argparse\n",
      "C:\\Users\\carter.peene\\AppData\\Local\\Programs\\Python\\Python39\\lib\\site-packages\\argschema\\utils.py:346: FutureWarning: '--nway_output.nway_matches' is using old-style command-line syntax with each element as a separate argument. This will not be supported in argschema after 2.0. See http://argschema.readthedocs.io/en/master/user/intro.html#command-line-specification for details.\n",
      "  warnings.warn(warn_msg, FutureWarning)\n",
      "WARNING:root:many=True not supported from argparse\n",
      "INFO:NwayMatching:wrote test_output\\nway_match_fraction_plot_2023_03_24_08_57_53.png\n",
      "INFO:NwayMatching:wrote test_output\\nway_warp_overlay_plot_2023_03_24_08_57_53.png\n",
      "INFO:NwayMatching:wrote test_output\\nway_warp_summary_plot_2023_03_24_08_57_53.png\n",
      "INFO:NwayMatching:wrote test_output/output.json\n"
     ]
    }
   ],
   "source": [
    "!python -m nway.nway_matching --input_json input.json --output_json test_output/output.json --output_dir test_output"
   ]
  },
  {
   "cell_type": "code",
   "execution_count": null,
   "id": "c93b3369",
   "metadata": {},
   "outputs": [],
   "source": []
  }
 ],
 "metadata": {
  "kernelspec": {
   "display_name": "Python 3 (ipykernel)",
   "language": "python",
   "name": "python3"
  },
  "language_info": {
   "codemirror_mode": {
    "name": "ipython",
    "version": 3
   },
   "file_extension": ".py",
   "mimetype": "text/x-python",
   "name": "python",
   "nbconvert_exporter": "python",
   "pygments_lexer": "ipython3",
   "version": "3.9.10"
  }
 },
 "nbformat": 4,
 "nbformat_minor": 5
}
