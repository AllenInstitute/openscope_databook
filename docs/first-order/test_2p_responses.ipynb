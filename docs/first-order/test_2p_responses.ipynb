{
 "cells": [
  {
   "attachments": {},
   "cell_type": "markdown",
   "id": "740a0b46",
   "metadata": {},
   "source": [
    "## Statisitically Testing 2P Responses to Stimulus"
   ]
  },
  {
   "cell_type": "markdown",
   "id": "4c83be96",
   "metadata": {},
   "source": [
    "### Environment Setup"
   ]
  },
  {
   "cell_type": "code",
   "execution_count": 180,
   "id": "7a206969",
   "metadata": {},
   "outputs": [],
   "source": [
    "### if running on Google Colab, run this cell once, then restart the runtime and run the rest of the notebook\n",
    "import os\n",
    "if \"COLAB_GPU\" in os.environ:\n",
    "    !wget https://raw.githubusercontent.com/AllenInstitute/openscope_databook/main/requirements.txt\n",
    "    %pip install -r requirements.txt --user"
   ]
  },
  {
   "cell_type": "code",
   "execution_count": 181,
   "id": "09650a3e",
   "metadata": {},
   "outputs": [],
   "source": [
    "import matplotlib as mpl\n",
    "import matplotlib.pyplot as plt\n",
    "import numpy as np\n",
    "\n",
    "from dandi import dandiapi\n",
    "from pynwb import NWBHDF5IO\n",
    "from scipy import interpolate\n",
    "\n",
    "%matplotlib inline"
   ]
  },
  {
   "attachments": {},
   "cell_type": "markdown",
   "id": "3cc865a1",
   "metadata": {},
   "source": [
    "### Downloading Ophys File\n",
    "Change the values below to download the file you’re interested in. Set `dandiset_id` and `dandi_filepath` to correspond to the dandiset id and filepath of the file you want. If you’re accessing an embargoed dataset, change `authenticate` to True, and set `dandi_api_key` to your DANDI API key. If you want to stream a file instead of downloading it, checkout Streaming an NWB File with fsspec."
   ]
  },
  {
   "cell_type": "code",
   "execution_count": 182,
   "id": "54872136",
   "metadata": {},
   "outputs": [],
   "source": [
    "dandiset_id = \"000336\"\n",
    "dandi_filepath = \"sub_1170622509/sub_1170622509sess_1194683535/sub_1170622509+sess_1194683535+exp_1194752582_ophys.nwb\"\n",
    "authenticate = True\n",
    "dandi_api_key = os.environ[\"DANDI_API_KEY\"]\n",
    "download_loc = \".\""
   ]
  },
  {
   "cell_type": "code",
   "execution_count": 183,
   "id": "6c77835f",
   "metadata": {},
   "outputs": [],
   "source": [
    "filename = dandi_filepath.split(\"/\")[-1]\n",
    "filepath = f\"{download_loc}/{filename}\""
   ]
  },
  {
   "cell_type": "code",
   "execution_count": 184,
   "id": "aa5f89b5",
   "metadata": {},
   "outputs": [
    {
     "name": "stdout",
     "output_type": "stream",
     "text": [
      "Got dandiset DANDI:000336/draft\n"
     ]
    }
   ],
   "source": [
    "if authenticate:\n",
    "    client = dandiapi.DandiAPIClient(token=dandi_api_key)\n",
    "else:\n",
    "    client = dandiapi.DandiAPIClient()\n",
    "my_dandiset = client.get_dandiset(dandiset_id)\n",
    "print(f\"Got dandiset {my_dandiset}\")"
   ]
  },
  {
   "cell_type": "code",
   "execution_count": 185,
   "id": "15f3c988",
   "metadata": {},
   "outputs": [],
   "source": [
    "# file = my_dandiset.get_asset_by_path(dandi_filepath)\n",
    "# # this may take awhile, especially if the file to download is large\n",
    "# file.download(filepath)\n",
    "\n",
    "# print(f\"Downloaded file to {filepath}\")"
   ]
  },
  {
   "attachments": {},
   "cell_type": "markdown",
   "id": "53919d11",
   "metadata": {},
   "source": [
    "### Getting 2P Data and Stimulus Data\n",
    "Below, the fluorescence traces and timestamps are read from the file's `Processing` section. Note that the exact format to access these traces can vary between newer and older NWB files, so some adjustments may be necessary. Additionally, the stimulus data is also read from the NWB file's `Intervals` section. Stimulus information is stored as a series of tables depending on the type of stimulus shown in the session. One such table is displayed below, as well as the names of all the tables."
   ]
  },
  {
   "cell_type": "code",
   "execution_count": 186,
   "id": "805d2be2",
   "metadata": {},
   "outputs": [
    {
     "name": "stderr",
     "output_type": "stream",
     "text": [
      "c:\\Users\\carter.peene\\AppData\\Local\\Programs\\Python\\Python39\\lib\\site-packages\\hdmf\\spec\\namespace.py:531: UserWarning: Ignoring cached namespace 'hdmf-common' version 1.5.0 because version 1.5.1 is already loaded.\n",
      "  warn(\"Ignoring cached namespace '%s' version %s because version %s is already loaded.\"\n",
      "c:\\Users\\carter.peene\\AppData\\Local\\Programs\\Python\\Python39\\lib\\site-packages\\hdmf\\spec\\namespace.py:531: UserWarning: Ignoring cached namespace 'core' version 2.3.0 because version 2.6.0-alpha is already loaded.\n",
      "  warn(\"Ignoring cached namespace '%s' version %s because version %s is already loaded.\"\n",
      "c:\\Users\\carter.peene\\AppData\\Local\\Programs\\Python\\Python39\\lib\\site-packages\\hdmf\\spec\\namespace.py:531: UserWarning: Ignoring cached namespace 'hdmf-experimental' version 0.1.0 because version 0.2.0 is already loaded.\n",
      "  warn(\"Ignoring cached namespace '%s' version %s because version %s is already loaded.\"\n"
     ]
    }
   ],
   "source": [
    "io = NWBHDF5IO(filepath, mode=\"r\", load_namespaces=True)\n",
    "nwb = io.read() "
   ]
  },
  {
   "cell_type": "code",
   "execution_count": 303,
   "id": "a8cbffdf",
   "metadata": {},
   "outputs": [
    {
     "name": "stdout",
     "output_type": "stream",
     "text": [
      "(42337, 103)\n",
      "(42337,)\n"
     ]
    }
   ],
   "source": [
    "dff = nwb.processing[\"ophys\"][\"dff\"]\n",
    "dff_trace = dff.roi_response_series[\"traces\"].data\n",
    "dff_timestamps = dff.roi_response_series[\"traces\"].timestamps\n",
    "\n",
    "flr = nwb.processing[\"ophys\"][\"corrected_fluorescence\"]\n",
    "flr_trace = flr.roi_response_series[\"traces\"].data\n",
    "flr_timestamps = flr.roi_response_series[\"traces\"].timestamps\n",
    "\n",
    "# accessing the above data may look different for older nwb files, like the following\n",
    "# dff_trace = dff.roi_response_series[\"RoiResponseSeries\"].data\n",
    "# dff_timestamps = dff.roi_response_series[\"RoiResponseSeries\"].timestamps\n",
    "\n",
    "print(dff_trace.shape)\n",
    "print(dff_timestamps.shape)"
   ]
  },
  {
   "attachments": {},
   "cell_type": "markdown",
   "id": "ead2c9a8",
   "metadata": {},
   "source": [
    "### Selecting Stimulus Times"
   ]
  },
  {
   "cell_type": "code",
   "execution_count": 304,
   "id": "6177ffb0",
   "metadata": {},
   "outputs": [
    {
     "name": "stdout",
     "output_type": "stream",
     "text": [
      "['fixed_gabors_presentations', 'gratings_presentations', 'movie_flower_fwd_presentations', 'movie_touch_of_evil_fwd_presentations', 'movie_worms_fwd_presentations', 'rotate_gabors_presentations', 'spontaneous_presentations']\n"
     ]
    }
   ],
   "source": [
    "stimulus_names = list(nwb.intervals.keys())\n",
    "print(stimulus_names)"
   ]
  },
  {
   "cell_type": "code",
   "execution_count": 305,
   "id": "500e70c6",
   "metadata": {
    "tags": [
     "output_scroll"
    ]
   },
   "outputs": [
    {
     "name": "stdout",
     "output_type": "stream",
     "text": [
      "('start_time', 'stop_time', 'stimulus_name', 'stimulus_block', 'frame', 'color', 'contrast', 'opacity', 'ori', 'size', 'units', 'stimulus_index', 'tags', 'timeseries')\n"
     ]
    },
    {
     "data": {
      "text/html": [
       "<div>\n",
       "<style scoped>\n",
       "    .dataframe tbody tr th:only-of-type {\n",
       "        vertical-align: middle;\n",
       "    }\n",
       "\n",
       "    .dataframe tbody tr th {\n",
       "        vertical-align: top;\n",
       "    }\n",
       "\n",
       "    .dataframe thead th {\n",
       "        text-align: right;\n",
       "    }\n",
       "</style>\n",
       "<table border=\"1\" class=\"dataframe\">\n",
       "  <thead>\n",
       "    <tr style=\"text-align: right;\">\n",
       "      <th></th>\n",
       "      <th>start_time</th>\n",
       "      <th>stop_time</th>\n",
       "      <th>stimulus_name</th>\n",
       "      <th>stimulus_block</th>\n",
       "      <th>frame</th>\n",
       "      <th>color</th>\n",
       "      <th>contrast</th>\n",
       "      <th>opacity</th>\n",
       "      <th>ori</th>\n",
       "      <th>size</th>\n",
       "      <th>units</th>\n",
       "      <th>stimulus_index</th>\n",
       "      <th>tags</th>\n",
       "      <th>timeseries</th>\n",
       "    </tr>\n",
       "    <tr>\n",
       "      <th>id</th>\n",
       "      <th></th>\n",
       "      <th></th>\n",
       "      <th></th>\n",
       "      <th></th>\n",
       "      <th></th>\n",
       "      <th></th>\n",
       "      <th></th>\n",
       "      <th></th>\n",
       "      <th></th>\n",
       "      <th></th>\n",
       "      <th></th>\n",
       "      <th></th>\n",
       "      <th></th>\n",
       "      <th></th>\n",
       "    </tr>\n",
       "  </thead>\n",
       "  <tbody>\n",
       "    <tr>\n",
       "      <th>0</th>\n",
       "      <td>30.024910</td>\n",
       "      <td>30.058272</td>\n",
       "      <td>movie_touch_of_evil_fwd</td>\n",
       "      <td>0.0</td>\n",
       "      <td>0.0</td>\n",
       "      <td>[1.0, 1.0, 1.0]</td>\n",
       "      <td>1.0</td>\n",
       "      <td>1.0</td>\n",
       "      <td>0.0</td>\n",
       "      <td>[1920.0, 1080.0]</td>\n",
       "      <td>pix</td>\n",
       "      <td>1.0</td>\n",
       "      <td>[stimulus_time_interval]</td>\n",
       "      <td>[(859, 2, timestamps pynwb.base.TimeSeries at ...</td>\n",
       "    </tr>\n",
       "    <tr>\n",
       "      <th>1</th>\n",
       "      <td>30.058272</td>\n",
       "      <td>30.091633</td>\n",
       "      <td>movie_touch_of_evil_fwd</td>\n",
       "      <td>0.0</td>\n",
       "      <td>1.0</td>\n",
       "      <td>[1.0, 1.0, 1.0]</td>\n",
       "      <td>1.0</td>\n",
       "      <td>1.0</td>\n",
       "      <td>0.0</td>\n",
       "      <td>[1920.0, 1080.0]</td>\n",
       "      <td>pix</td>\n",
       "      <td>1.0</td>\n",
       "      <td>[stimulus_time_interval]</td>\n",
       "      <td>[(861, 2, timestamps pynwb.base.TimeSeries at ...</td>\n",
       "    </tr>\n",
       "    <tr>\n",
       "      <th>2</th>\n",
       "      <td>30.091633</td>\n",
       "      <td>30.124995</td>\n",
       "      <td>movie_touch_of_evil_fwd</td>\n",
       "      <td>0.0</td>\n",
       "      <td>2.0</td>\n",
       "      <td>[1.0, 1.0, 1.0]</td>\n",
       "      <td>1.0</td>\n",
       "      <td>1.0</td>\n",
       "      <td>0.0</td>\n",
       "      <td>[1920.0, 1080.0]</td>\n",
       "      <td>pix</td>\n",
       "      <td>1.0</td>\n",
       "      <td>[stimulus_time_interval]</td>\n",
       "      <td>[(863, 2, timestamps pynwb.base.TimeSeries at ...</td>\n",
       "    </tr>\n",
       "    <tr>\n",
       "      <th>3</th>\n",
       "      <td>30.124995</td>\n",
       "      <td>30.158356</td>\n",
       "      <td>movie_touch_of_evil_fwd</td>\n",
       "      <td>0.0</td>\n",
       "      <td>3.0</td>\n",
       "      <td>[1.0, 1.0, 1.0]</td>\n",
       "      <td>1.0</td>\n",
       "      <td>1.0</td>\n",
       "      <td>0.0</td>\n",
       "      <td>[1920.0, 1080.0]</td>\n",
       "      <td>pix</td>\n",
       "      <td>1.0</td>\n",
       "      <td>[stimulus_time_interval]</td>\n",
       "      <td>[(865, 2, timestamps pynwb.base.TimeSeries at ...</td>\n",
       "    </tr>\n",
       "    <tr>\n",
       "      <th>4</th>\n",
       "      <td>30.158356</td>\n",
       "      <td>30.191718</td>\n",
       "      <td>movie_touch_of_evil_fwd</td>\n",
       "      <td>0.0</td>\n",
       "      <td>4.0</td>\n",
       "      <td>[1.0, 1.0, 1.0]</td>\n",
       "      <td>1.0</td>\n",
       "      <td>1.0</td>\n",
       "      <td>0.0</td>\n",
       "      <td>[1920.0, 1080.0]</td>\n",
       "      <td>pix</td>\n",
       "      <td>1.0</td>\n",
       "      <td>[stimulus_time_interval]</td>\n",
       "      <td>[(867, 2, timestamps pynwb.base.TimeSeries at ...</td>\n",
       "    </tr>\n",
       "    <tr>\n",
       "      <th>5</th>\n",
       "      <td>30.191718</td>\n",
       "      <td>30.225079</td>\n",
       "      <td>movie_touch_of_evil_fwd</td>\n",
       "      <td>0.0</td>\n",
       "      <td>5.0</td>\n",
       "      <td>[1.0, 1.0, 1.0]</td>\n",
       "      <td>1.0</td>\n",
       "      <td>1.0</td>\n",
       "      <td>0.0</td>\n",
       "      <td>[1920.0, 1080.0]</td>\n",
       "      <td>pix</td>\n",
       "      <td>1.0</td>\n",
       "      <td>[stimulus_time_interval]</td>\n",
       "      <td>[(869, 2, timestamps pynwb.base.TimeSeries at ...</td>\n",
       "    </tr>\n",
       "    <tr>\n",
       "      <th>6</th>\n",
       "      <td>30.225079</td>\n",
       "      <td>30.258441</td>\n",
       "      <td>movie_touch_of_evil_fwd</td>\n",
       "      <td>0.0</td>\n",
       "      <td>6.0</td>\n",
       "      <td>[1.0, 1.0, 1.0]</td>\n",
       "      <td>1.0</td>\n",
       "      <td>1.0</td>\n",
       "      <td>0.0</td>\n",
       "      <td>[1920.0, 1080.0]</td>\n",
       "      <td>pix</td>\n",
       "      <td>1.0</td>\n",
       "      <td>[stimulus_time_interval]</td>\n",
       "      <td>[(871, 2, timestamps pynwb.base.TimeSeries at ...</td>\n",
       "    </tr>\n",
       "    <tr>\n",
       "      <th>7</th>\n",
       "      <td>30.258441</td>\n",
       "      <td>30.291803</td>\n",
       "      <td>movie_touch_of_evil_fwd</td>\n",
       "      <td>0.0</td>\n",
       "      <td>7.0</td>\n",
       "      <td>[1.0, 1.0, 1.0]</td>\n",
       "      <td>1.0</td>\n",
       "      <td>1.0</td>\n",
       "      <td>0.0</td>\n",
       "      <td>[1920.0, 1080.0]</td>\n",
       "      <td>pix</td>\n",
       "      <td>1.0</td>\n",
       "      <td>[stimulus_time_interval]</td>\n",
       "      <td>[(873, 2, timestamps pynwb.base.TimeSeries at ...</td>\n",
       "    </tr>\n",
       "    <tr>\n",
       "      <th>8</th>\n",
       "      <td>30.291803</td>\n",
       "      <td>30.325164</td>\n",
       "      <td>movie_touch_of_evil_fwd</td>\n",
       "      <td>0.0</td>\n",
       "      <td>8.0</td>\n",
       "      <td>[1.0, 1.0, 1.0]</td>\n",
       "      <td>1.0</td>\n",
       "      <td>1.0</td>\n",
       "      <td>0.0</td>\n",
       "      <td>[1920.0, 1080.0]</td>\n",
       "      <td>pix</td>\n",
       "      <td>1.0</td>\n",
       "      <td>[stimulus_time_interval]</td>\n",
       "      <td>[(875, 2, timestamps pynwb.base.TimeSeries at ...</td>\n",
       "    </tr>\n",
       "    <tr>\n",
       "      <th>9</th>\n",
       "      <td>30.325164</td>\n",
       "      <td>30.358526</td>\n",
       "      <td>movie_touch_of_evil_fwd</td>\n",
       "      <td>0.0</td>\n",
       "      <td>9.0</td>\n",
       "      <td>[1.0, 1.0, 1.0]</td>\n",
       "      <td>1.0</td>\n",
       "      <td>1.0</td>\n",
       "      <td>0.0</td>\n",
       "      <td>[1920.0, 1080.0]</td>\n",
       "      <td>pix</td>\n",
       "      <td>1.0</td>\n",
       "      <td>[stimulus_time_interval]</td>\n",
       "      <td>[(877, 2, timestamps pynwb.base.TimeSeries at ...</td>\n",
       "    </tr>\n",
       "  </tbody>\n",
       "</table>\n",
       "</div>"
      ],
      "text/plain": [
       "    start_time  stop_time            stimulus_name  stimulus_block  frame  \\\n",
       "id                                                                          \n",
       "0    30.024910  30.058272  movie_touch_of_evil_fwd             0.0    0.0   \n",
       "1    30.058272  30.091633  movie_touch_of_evil_fwd             0.0    1.0   \n",
       "2    30.091633  30.124995  movie_touch_of_evil_fwd             0.0    2.0   \n",
       "3    30.124995  30.158356  movie_touch_of_evil_fwd             0.0    3.0   \n",
       "4    30.158356  30.191718  movie_touch_of_evil_fwd             0.0    4.0   \n",
       "5    30.191718  30.225079  movie_touch_of_evil_fwd             0.0    5.0   \n",
       "6    30.225079  30.258441  movie_touch_of_evil_fwd             0.0    6.0   \n",
       "7    30.258441  30.291803  movie_touch_of_evil_fwd             0.0    7.0   \n",
       "8    30.291803  30.325164  movie_touch_of_evil_fwd             0.0    8.0   \n",
       "9    30.325164  30.358526  movie_touch_of_evil_fwd             0.0    9.0   \n",
       "\n",
       "              color  contrast  opacity  ori              size units  \\\n",
       "id                                                                    \n",
       "0   [1.0, 1.0, 1.0]       1.0      1.0  0.0  [1920.0, 1080.0]   pix   \n",
       "1   [1.0, 1.0, 1.0]       1.0      1.0  0.0  [1920.0, 1080.0]   pix   \n",
       "2   [1.0, 1.0, 1.0]       1.0      1.0  0.0  [1920.0, 1080.0]   pix   \n",
       "3   [1.0, 1.0, 1.0]       1.0      1.0  0.0  [1920.0, 1080.0]   pix   \n",
       "4   [1.0, 1.0, 1.0]       1.0      1.0  0.0  [1920.0, 1080.0]   pix   \n",
       "5   [1.0, 1.0, 1.0]       1.0      1.0  0.0  [1920.0, 1080.0]   pix   \n",
       "6   [1.0, 1.0, 1.0]       1.0      1.0  0.0  [1920.0, 1080.0]   pix   \n",
       "7   [1.0, 1.0, 1.0]       1.0      1.0  0.0  [1920.0, 1080.0]   pix   \n",
       "8   [1.0, 1.0, 1.0]       1.0      1.0  0.0  [1920.0, 1080.0]   pix   \n",
       "9   [1.0, 1.0, 1.0]       1.0      1.0  0.0  [1920.0, 1080.0]   pix   \n",
       "\n",
       "    stimulus_index                      tags  \\\n",
       "id                                             \n",
       "0              1.0  [stimulus_time_interval]   \n",
       "1              1.0  [stimulus_time_interval]   \n",
       "2              1.0  [stimulus_time_interval]   \n",
       "3              1.0  [stimulus_time_interval]   \n",
       "4              1.0  [stimulus_time_interval]   \n",
       "5              1.0  [stimulus_time_interval]   \n",
       "6              1.0  [stimulus_time_interval]   \n",
       "7              1.0  [stimulus_time_interval]   \n",
       "8              1.0  [stimulus_time_interval]   \n",
       "9              1.0  [stimulus_time_interval]   \n",
       "\n",
       "                                           timeseries  \n",
       "id                                                     \n",
       "0   [(859, 2, timestamps pynwb.base.TimeSeries at ...  \n",
       "1   [(861, 2, timestamps pynwb.base.TimeSeries at ...  \n",
       "2   [(863, 2, timestamps pynwb.base.TimeSeries at ...  \n",
       "3   [(865, 2, timestamps pynwb.base.TimeSeries at ...  \n",
       "4   [(867, 2, timestamps pynwb.base.TimeSeries at ...  \n",
       "5   [(869, 2, timestamps pynwb.base.TimeSeries at ...  \n",
       "6   [(871, 2, timestamps pynwb.base.TimeSeries at ...  \n",
       "7   [(873, 2, timestamps pynwb.base.TimeSeries at ...  \n",
       "8   [(875, 2, timestamps pynwb.base.TimeSeries at ...  \n",
       "9   [(877, 2, timestamps pynwb.base.TimeSeries at ...  "
      ]
     },
     "execution_count": 305,
     "metadata": {},
     "output_type": "execute_result"
    }
   ],
   "source": [
    "stim_table = nwb.intervals[\"movie_touch_of_evil_fwd_presentations\"]\n",
    "print(stim_table.colnames)\n",
    "stim_table[:10]"
   ]
  },
  {
   "cell_type": "code",
   "execution_count": 381,
   "id": "3a639497",
   "metadata": {},
   "outputs": [
    {
     "data": {
      "text/plain": [
       "16200"
      ]
     },
     "execution_count": 381,
     "metadata": {},
     "output_type": "execute_result"
    }
   ],
   "source": [
    "len(stim_table)"
   ]
  },
  {
   "cell_type": "code",
   "execution_count": 306,
   "id": "08cda3a3",
   "metadata": {},
   "outputs": [
    {
     "data": {
      "text/plain": [
       "270"
      ]
     },
     "execution_count": 306,
     "metadata": {},
     "output_type": "execute_result"
    }
   ],
   "source": [
    "len(set(stim_table.frame))"
   ]
  },
  {
   "cell_type": "code",
   "execution_count": 374,
   "id": "6af34c53",
   "metadata": {},
   "outputs": [
    {
     "data": {
      "text/plain": [
       "8.974098883324444"
      ]
     },
     "execution_count": 374,
     "metadata": {},
     "output_type": "execute_result"
    }
   ],
   "source": [
    "float(stim_table[269].start_time) - float(stim_table[0].start_time)"
   ]
  },
  {
   "cell_type": "code",
   "execution_count": 430,
   "id": "abd73a5c",
   "metadata": {},
   "outputs": [
    {
     "data": {
      "text/plain": [
       "60"
      ]
     },
     "execution_count": 430,
     "metadata": {},
     "output_type": "execute_result"
    }
   ],
   "source": [
    "### select start times from table that fit certain critera here\n",
    "\n",
    "# stim_select = lambda row: True\n",
    "stim_select = lambda row: float(row.frame) == 50\n",
    "all_stim_times = [float(stim_table[i].start_time) for i in range(len(stim_table)) if stim_select(stim_table[i])]\n",
    "len(all_stim_times)"
   ]
  },
  {
   "attachments": {},
   "cell_type": "markdown",
   "id": "2e5fb5ce",
   "metadata": {},
   "source": [
    "### Fluorescence Interpolation"
   ]
  },
  {
   "cell_type": "code",
   "execution_count": 431,
   "id": "28054d9d",
   "metadata": {},
   "outputs": [],
   "source": [
    "interp_hz = 10"
   ]
  },
  {
   "cell_type": "code",
   "execution_count": 432,
   "id": "80ae6bde",
   "metadata": {},
   "outputs": [
    {
     "name": "stdout",
     "output_type": "stream",
     "text": [
      "(42337, 103)\n",
      "(42337,)\n"
     ]
    }
   ],
   "source": [
    "print(dff_trace.shape)\n",
    "print(dff_timestamps.shape)"
   ]
  },
  {
   "cell_type": "code",
   "execution_count": 433,
   "id": "09a4a2ea",
   "metadata": {},
   "outputs": [
    {
     "name": "stdout",
     "output_type": "stream",
     "text": [
      "(103, 39415)\n"
     ]
    }
   ],
   "source": [
    "# generate regularly-space x values and interpolate along it\n",
    "time_axis = np.arange(dff_timestamps[0], dff_timestamps[-1], step=(1/interp_hz))\n",
    "interp_dff = []\n",
    "\n",
    "# interpolate channel by channel to save RAM\n",
    "for channel in range(dff_trace.shape[1]):\n",
    "    f = interpolate.interp1d(dff_timestamps, dff_trace[:,channel], axis=0, kind=\"nearest\", fill_value=\"extrapolate\")\n",
    "    interp_dff.append(f(time_axis))\n",
    "\n",
    "interp_dff = np.array(interp_dff)\n",
    "\n",
    "print(interp_dff.shape)"
   ]
  },
  {
   "attachments": {},
   "cell_type": "markdown",
   "id": "56fbb936",
   "metadata": {},
   "source": [
    "### Getting Stimulus Time Windows"
   ]
  },
  {
   "cell_type": "code",
   "execution_count": 685,
   "id": "ae73905f",
   "metadata": {},
   "outputs": [],
   "source": [
    "window_start_time = -2\n",
    "window_end_time = 4"
   ]
  },
  {
   "cell_type": "code",
   "execution_count": 686,
   "id": "9cae90bb",
   "metadata": {},
   "outputs": [
    {
     "name": "stdout",
     "output_type": "stream",
     "text": [
      "(60, 103, 60)\n"
     ]
    }
   ],
   "source": [
    "# validate window bounds\n",
    "if window_start_time > 0:\n",
    "    raise ValueError(\"start time must be non-positive number\")\n",
    "if window_end_time <= 0:\n",
    "    raise ValueError(\"end time must be positive number\")\n",
    "    \n",
    "# get event windows\n",
    "windows = []\n",
    "window_length = int((window_end_time-window_start_time) * interp_hz)\n",
    "\n",
    "for stim_ts in all_stim_times:\n",
    "    # convert time to index\n",
    "    start_idx = int( (stim_ts + window_start_time - dff_timestamps[0]) * interp_hz )\n",
    "    end_idx = start_idx + window_length\n",
    " \n",
    "    # bounds checking\n",
    "    if start_idx < 0 or end_idx > interp_dff.shape[1]:\n",
    "        continue\n",
    "        \n",
    "    windows.append(interp_dff[:,start_idx:end_idx])\n",
    "    \n",
    "if len(windows) == 0:\n",
    "    raise ValueError(\"There are no windows for these timestamps\")\n",
    "\n",
    "windows = np.array(windows) * 100 # x100 to convert values to percentage\n",
    "print(windows.shape)"
   ]
  },
  {
   "attachments": {},
   "cell_type": "markdown",
   "id": "4ca7b6df",
   "metadata": {},
   "source": [
    "### Getting stim window info"
   ]
  },
  {
   "cell_type": "code",
   "execution_count": 687,
   "id": "6c8a7623",
   "metadata": {},
   "outputs": [
    {
     "name": "stdout",
     "output_type": "stream",
     "text": [
      "20\n"
     ]
    }
   ],
   "source": [
    "# get the index within the window that stimulus occurs (time 0)\n",
    "stimulus_onset_idx = int(-window_start_time * interp_hz)\n",
    "baseline = windows[:,:,0:stimulus_onset_idx]\n",
    "evoked_responses = windows[:,:,stimulus_onset_idx:]\n",
    "\n",
    "print(stimulus_onset_idx)"
   ]
  },
  {
   "attachments": {},
   "cell_type": "markdown",
   "id": "5d9bd8da",
   "metadata": {},
   "source": [
    "### Aligning Time Windows"
   ]
  },
  {
   "cell_type": "code",
   "execution_count": 688,
   "id": "13822811",
   "metadata": {},
   "outputs": [],
   "source": [
    "def show_dff_response(dff, window_start_time, window_end_time, figsize=None, aspect=\"auto\", vmin=None, vmax=None, yticks=[], yticklabels=[]):\n",
    "    fig, ax = plt.subplots(figsize=figsize)\n",
    "    img = ax.imshow(dff, aspect=aspect, extent=[window_start_time, window_end_time, 0, len(dff)], vmin=vmin, vmax=vmax)\n",
    "    cbar = fig.colorbar(img, shrink=0.5)\n",
    "\n",
    "    if len(yticks) != 0:\n",
    "        ax.set_yticks(range(len(yticklabels)))\n",
    "    if len(yticklabels) != 0:\n",
    "        ax.set_yticklabels(yticklabels, fontsize=8)\n",
    "\n",
    "    ax.plot([0,0],[0, len(dff)], \":\", color=\"white\", linewidth=1.0)"
   ]
  },
  {
   "cell_type": "code",
   "execution_count": 689,
   "id": "ec653d88",
   "metadata": {},
   "outputs": [
    {
     "name": "stdout",
     "output_type": "stream",
     "text": [
      "(103, 60)\n"
     ]
    },
    {
     "data": {
      "image/png": "[encoded data removed]",
      "text/plain": [
       "<Figure size 640x480 with 2 Axes>"
      ]
     },
     "metadata": {},
     "output_type": "display_data"
    }
   ],
   "source": [
    "mean_window = np.mean(windows, axis=0)\n",
    "print(mean_window.shape)\n",
    "show_dff_response(mean_window, window_start_time, window_end_time, vmax=100)"
   ]
  },
  {
   "attachments": {},
   "cell_type": "markdown",
   "id": "808089b3",
   "metadata": {},
   "source": [
    "### Inclusion Criteria 1\n",
    "maximum value of mean evoked response is >10%\n",
    "https://www.ncbi.nlm.nih.gov/pmc/articles/PMC4731241/"
   ]
  },
  {
   "cell_type": "code",
   "execution_count": 690,
   "id": "7b195528",
   "metadata": {},
   "outputs": [],
   "source": [
    "mean_evoked_responses = np.mean(evoked_response, axis=0)\n",
    "max_mean_evoked_responses = np.max(mean_evoked_responses, axis=1)\n",
    "selected_units = np.where(max_mean_evoked_responses > 10)[0]"
   ]
  },
  {
   "cell_type": "code",
   "execution_count": 691,
   "id": "27512066",
   "metadata": {},
   "outputs": [
    {
     "name": "stdout",
     "output_type": "stream",
     "text": [
      "36 / 103 units selected\n"
     ]
    },
    {
     "name": "stderr",
     "output_type": "stream",
     "text": [
      "C:\\Users\\carter.peene\\AppData\\Local\\Temp\\ipykernel_8856\\1399819756.py:9: UserWarning: FixedFormatter should only be used together with FixedLocator\n",
      "  ax.set_yticklabels(yticklabels, fontsize=8)\n"
     ]
    },
    {
     "data": {
      "image/png": "[encoded data removed]",
      "text/plain": [
       "<Figure size 640x480 with 2 Axes>"
      ]
     },
     "metadata": {},
     "output_type": "display_data"
    }
   ],
   "source": [
    "print(f\"{len(selected_units)} / {windows.shape[1]} units selected\")\n",
    "show_dff_response(mean_window[selected_units], window_start_time, window_end_time, aspect=0.2, yticklabels=selected_units, vmax=100)"
   ]
  },
  {
   "attachments": {},
   "cell_type": "markdown",
   "id": "8c6dd24d",
   "metadata": {},
   "source": [
    "### Inclusion Criteria 2\n",
    "in 50% of trials, response is A) larger than 3x the SD of baseline, and B) larger than 5% DFF https://www.ncbi.nlm.nih.gov/pmc/articles/PMC6622284/"
   ]
  },
  {
   "cell_type": "code",
   "execution_count": 692,
   "id": "65379dc6",
   "metadata": {},
   "outputs": [
    {
     "name": "stdout",
     "output_type": "stream",
     "text": [
      "(60, 103)\n",
      "(60, 103)\n"
     ]
    }
   ],
   "source": [
    "all_baseline_sds = np.std(baseline, axis=2)\n",
    "print(all_baseline_sds.shape)\n",
    "\n",
    "max_responses = np.max(evoked_responses, axis=2)\n",
    "print(max_responses.shape)"
   ]
  },
  {
   "cell_type": "code",
   "execution_count": 693,
   "id": "579a89ae",
   "metadata": {},
   "outputs": [
    {
     "data": {
      "text/plain": [
       "array([ 1,  7, 13, 15, 41, 62, 71, 82, 83], dtype=int64)"
      ]
     },
     "execution_count": 693,
     "metadata": {},
     "output_type": "execute_result"
    }
   ],
   "source": [
    "# units in each trial that respond more than 3x the SD of baseline\n",
    "deviant_responses = max_responses > 3*all_baseline_sds\n",
    "# units in each trial that response more than 5% dff\n",
    "large_responses = max_responses > 5\n",
    "# units in each trial that do both of the above\n",
    "sig_responses = deviant_responses & large_responses\n",
    "\n",
    "# units that have significant responses in 50% or more trials\n",
    "half_trials = sig_responses.shape[0] / 2\n",
    "selected_units = np.where( np.sum(sig_responses, axis=0) > half_trials )[0]\n",
    "selected_units"
   ]
  },
  {
   "cell_type": "code",
   "execution_count": 694,
   "id": "754def20",
   "metadata": {},
   "outputs": [
    {
     "name": "stdout",
     "output_type": "stream",
     "text": [
      "9 / 103 units selected\n"
     ]
    },
    {
     "name": "stderr",
     "output_type": "stream",
     "text": [
      "C:\\Users\\carter.peene\\AppData\\Local\\Temp\\ipykernel_8856\\1399819756.py:9: UserWarning: FixedFormatter should only be used together with FixedLocator\n",
      "  ax.set_yticklabels(yticklabels, fontsize=8)\n"
     ]
    },
    {
     "data": {
      "image/png": "[encoded data removed]",
      "text/plain": [
       "<Figure size 640x480 with 2 Axes>"
      ]
     },
     "metadata": {},
     "output_type": "display_data"
    }
   ],
   "source": [
    "print(f\"{len(selected_units)} / {windows.shape[1]} units selected\")\n",
    "show_dff_response(mean_window[selected_units], window_start_time, window_end_time, aspect=0.2, yticklabels=selected_units, vmax=100)"
   ]
  },
  {
   "attachments": {},
   "cell_type": "markdown",
   "id": "28da3395",
   "metadata": {},
   "source": [
    "### Inclusion Criteria 3\n",
    "paired t test (p<0.05) with Bonferroni correction, comparing mean baseline to mean evoked response https://pubmed.ncbi.nlm.nih.gov/22196337/"
   ]
  },
  {
   "attachments": {},
   "cell_type": "markdown",
   "id": "73890a06",
   "metadata": {},
   "source": [
    "### Inclusion Criteria 4\n",
    "A) The mean response (dF/F) to any stimulus condition is is >6% and B) reliability >1 https://www.ncbi.nlm.nih.gov/pmc/articles/PMC3248795/"
   ]
  },
  {
   "cell_type": "code",
   "execution_count": 723,
   "id": "0abb2c29",
   "metadata": {},
   "outputs": [],
   "source": [
    "mean_trial_responses= np.mean(evoked_responses, axis=2)\n",
    "response_means = np.mean(mean_trial_responses, axis=0)\n",
    "response_sds = np.std(mean_trial_responses, axis=0)\n",
    "\n",
    "mean_trial_baselines = np.mean(baseline, axis=2)\n",
    "baseline_means = np.mean(mean_trial_baselines, axis=0)\n",
    "baseline_sds = np.std(mean_trial_baselines, axis=0)\n",
    "\n",
    "reliabilities = (response_means - baseline_means) / (response_sds + baseline_sds)"
   ]
  },
  {
   "cell_type": "code",
   "execution_count": 724,
   "id": "fba78052",
   "metadata": {},
   "outputs": [],
   "source": [
    "sig_reliabilities = reliabilities > 1\n",
    "large_responses = response_means > 6\n",
    "selected_units = np.where(sig_reliabilities & large_responses)[0]"
   ]
  },
  {
   "cell_type": "code",
   "execution_count": 726,
   "id": "7d123c99",
   "metadata": {},
   "outputs": [
    {
     "name": "stdout",
     "output_type": "stream",
     "text": [
      "0 / 103 units selected\n"
     ]
    }
   ],
   "source": [
    "print(f\"{len(selected_units)} / {windows.shape[1]} units selected\")\n",
    "# show_dff_response(mean_window[selected_units], window_start_time, window_end_time, figsize=(5,5), yticks=selected_units[::5], yticklabels=selected_units)"
   ]
  },
  {
   "attachments": {},
   "cell_type": "markdown",
   "id": "f98e9641",
   "metadata": {},
   "source": [
    "### Inclusion Criteria 5\n",
    "maximum dff to any stimulus condition is >4% https://pubmed.ncbi.nlm.nih.gov/24583013/"
   ]
  },
  {
   "cell_type": "code",
   "execution_count": 699,
   "id": "f32343c4",
   "metadata": {},
   "outputs": [],
   "source": [
    "max_responses = np.max(evoked_responses, axis=2)\n",
    "selected_units = np.where( np.any(max_responses > 4, axis=0) )[0]"
   ]
  },
  {
   "cell_type": "code",
   "execution_count": 700,
   "id": "32ded9f9",
   "metadata": {},
   "outputs": [
    {
     "name": "stdout",
     "output_type": "stream",
     "text": [
      "103 / 103 units selected\n"
     ]
    },
    {
     "data": {
      "image/png": "[encoded data removed]",
      "text/plain": [
       "<Figure size 500x500 with 2 Axes>"
      ]
     },
     "metadata": {},
     "output_type": "display_data"
    }
   ],
   "source": [
    "print(f\"{len(selected_units)} / {windows.shape[1]} units selected\")\n",
    "show_dff_response(mean_window[selected_units], window_start_time, window_end_time, figsize=(5,5), yticks=selected_units[::5], yticklabels=selected_units, vmax=100)"
   ]
  }
 ],
 "metadata": {
  "kernelspec": {
   "display_name": "Python 3 (ipykernel)",
   "language": "python",
   "name": "python3"
  },
  "language_info": {
   "codemirror_mode": {
    "name": "ipython",
    "version": 3
   },
   "file_extension": ".py",
   "mimetype": "text/x-python",
   "name": "python",
   "nbconvert_exporter": "python",
   "pygments_lexer": "ipython3",
   "version": "3.9.10"
  }
 },
 "nbformat": 4,
 "nbformat_minor": 5
}
