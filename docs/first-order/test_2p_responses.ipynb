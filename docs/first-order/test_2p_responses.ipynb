{
 "cells": [
  {
   "attachments": {},
   "cell_type": "markdown",
   "id": "740a0b46",
   "metadata": {},
   "source": [
    "## Statisitically Testing 2P Responses to Stimulus"
   ]
  },
  {
   "attachments": {},
   "cell_type": "markdown",
   "id": "2f6bb025",
   "metadata": {},
   "source": []
  },
  {
   "cell_type": "markdown",
   "id": "4c83be96",
   "metadata": {},
   "source": [
    "### Environment Setup"
   ]
  },
  {
   "cell_type": "code",
   "execution_count": 1,
   "id": "7a206969",
   "metadata": {},
   "outputs": [],
   "source": [
    "### if running on Google Colab, run this cell once, then restart the runtime and run the rest of the notebook\n",
    "import os\n",
    "if \"COLAB_GPU\" in os.environ:\n",
    "    !wget https://raw.githubusercontent.com/AllenInstitute/openscope_databook/main/requirements.txt\n",
    "    %pip install -r requirements.txt --user"
   ]
  },
  {
   "cell_type": "code",
   "execution_count": 2,
   "id": "09650a3e",
   "metadata": {},
   "outputs": [],
   "source": [
    "import matplotlib as mpl\n",
    "import matplotlib.pyplot as plt\n",
    "import numpy as np\n",
    "\n",
    "from dandi import dandiapi\n",
    "from pynwb import NWBHDF5IO\n",
    "from scipy import interpolate\n",
    "\n",
    "%matplotlib inline"
   ]
  },
  {
   "attachments": {},
   "cell_type": "markdown",
   "id": "3cc865a1",
   "metadata": {},
   "source": [
    "### Downloading Ophys File\n",
    "Change the values below to download the file you’re interested in. Set `dandiset_id` and `dandi_filepath` to correspond to the dandiset id and filepath of the file you want. If you’re accessing an embargoed dataset, change `authenticate` to True, and set `dandi_api_key` to your DANDI API key. If you want to stream a file instead of downloading it, checkout Streaming an NWB File with fsspec."
   ]
  },
  {
   "cell_type": "code",
   "execution_count": 3,
   "id": "54872136",
   "metadata": {},
   "outputs": [],
   "source": [
    "dandiset_id = \"000336\"\n",
    "dandi_filepath = \"sub_1170622509/sub_1170622509sess_1194683535/sub_1170622509+sess_1194683535+exp_1194752582_ophys.nwb\"\n",
    "authenticate = True\n",
    "dandi_api_key = os.environ[\"DANDI_API_KEY\"]\n",
    "download_loc = \".\""
   ]
  },
  {
   "cell_type": "code",
   "execution_count": 4,
   "id": "6c77835f",
   "metadata": {},
   "outputs": [],
   "source": [
    "filename = dandi_filepath.split(\"/\")[-1]\n",
    "filepath = f\"{download_loc}/{filename}\""
   ]
  },
  {
   "cell_type": "code",
   "execution_count": 5,
   "id": "aa5f89b5",
   "metadata": {},
   "outputs": [
    {
     "name": "stderr",
     "output_type": "stream",
     "text": [
      "A newer version (0.53.0) of dandi/dandi-cli is available. You are using 0.46.6\n"
     ]
    },
    {
     "name": "stdout",
     "output_type": "stream",
     "text": [
      "Got dandiset DANDI:000336/draft\n"
     ]
    }
   ],
   "source": [
    "if authenticate:\n",
    "    client = dandiapi.DandiAPIClient(token=dandi_api_key)\n",
    "else:\n",
    "    client = dandiapi.DandiAPIClient()\n",
    "my_dandiset = client.get_dandiset(dandiset_id)\n",
    "print(f\"Got dandiset {my_dandiset}\")"
   ]
  },
  {
   "cell_type": "code",
   "execution_count": 6,
   "id": "15f3c988",
   "metadata": {},
   "outputs": [
    {
     "name": "stdout",
     "output_type": "stream",
     "text": [
      "Downloaded file to ./sub_1170622509+sess_1194683535+exp_1194752582_ophys.nwb\n"
     ]
    }
   ],
   "source": [
    "file = my_dandiset.get_asset_by_path(dandi_filepath)\n",
    "# this may take awhile, especially if the file to download is large\n",
    "file.download(filepath)\n",
    "\n",
    "print(f\"Downloaded file to {filepath}\")"
   ]
  },
  {
   "attachments": {},
   "cell_type": "markdown",
   "id": "53919d11",
   "metadata": {},
   "source": [
    "### Extracting 2P Data and Stimulus Data\n",
    "Below, the fluorescence traces and timestamps are read from the file's `Processing` section. Note that the exact format to access these traces can vary between newer and older NWB files, so some adjustments may be necessary. Additionally, the stimulus data is also read from the NWB file's `Intervals` section. Stimulus information is stored as a series of tables depending on the type of stimulus shown in the session. One such table is displayed below, as well as the names of all the tables."
   ]
  },
  {
   "cell_type": "code",
   "execution_count": 7,
   "id": "805d2be2",
   "metadata": {},
   "outputs": [
    {
     "name": "stderr",
     "output_type": "stream",
     "text": [
      "c:\\Users\\carter.peene\\AppData\\Local\\Programs\\Python\\Python39\\lib\\site-packages\\hdmf\\spec\\namespace.py:531: UserWarning: Ignoring cached namespace 'hdmf-common' version 1.5.0 because version 1.5.1 is already loaded.\n",
      "  warn(\"Ignoring cached namespace '%s' version %s because version %s is already loaded.\"\n",
      "c:\\Users\\carter.peene\\AppData\\Local\\Programs\\Python\\Python39\\lib\\site-packages\\hdmf\\spec\\namespace.py:531: UserWarning: Ignoring cached namespace 'core' version 2.3.0 because version 2.6.0-alpha is already loaded.\n",
      "  warn(\"Ignoring cached namespace '%s' version %s because version %s is already loaded.\"\n",
      "c:\\Users\\carter.peene\\AppData\\Local\\Programs\\Python\\Python39\\lib\\site-packages\\hdmf\\spec\\namespace.py:531: UserWarning: Ignoring cached namespace 'hdmf-experimental' version 0.1.0 because version 0.2.0 is already loaded.\n",
      "  warn(\"Ignoring cached namespace '%s' version %s because version %s is already loaded.\"\n"
     ]
    }
   ],
   "source": [
    "io = NWBHDF5IO(filepath, mode=\"r\", load_namespaces=True)\n",
    "nwb = io.read() "
   ]
  },
  {
   "cell_type": "code",
   "execution_count": 8,
   "id": "a8cbffdf",
   "metadata": {},
   "outputs": [
    {
     "name": "stdout",
     "output_type": "stream",
     "text": [
      "(42337, 103)\n",
      "(42337,)\n",
      "(42337, 103)\n",
      "(42337,)\n"
     ]
    }
   ],
   "source": [
    "dff = nwb.processing[\"ophys\"][\"dff\"]\n",
    "dff_trace = dff.roi_response_series[\"traces\"].data\n",
    "dff_timestamps = dff.roi_response_series[\"traces\"].timestamps\n",
    "\n",
    "flr = nwb.processing[\"ophys\"][\"corrected_fluorescence\"]\n",
    "flr_trace = flr.roi_response_series[\"traces\"].data\n",
    "flr_timestamps = flr.roi_response_series[\"traces\"].timestamps\n",
    "\n",
    "# accessing the above data may look different for older nwb files, like the following\n",
    "# dff_trace = dff.roi_response_series[\"RoiResponseSeries\"].data\n",
    "# dff_timestamps = dff.roi_response_series[\"RoiResponseSeries\"].timestamps\n",
    "\n",
    "print(flr_trace.shape)\n",
    "print(flr_timestamps.shape)\n",
    "print(dff_trace.shape)\n",
    "print(dff_timestamps.shape)"
   ]
  },
  {
   "cell_type": "code",
   "execution_count": 9,
   "id": "6177ffb0",
   "metadata": {},
   "outputs": [
    {
     "name": "stdout",
     "output_type": "stream",
     "text": [
      "['fixed_gabors_presentations', 'gratings_presentations', 'movie_flower_fwd_presentations', 'movie_touch_of_evil_fwd_presentations', 'movie_worms_fwd_presentations', 'rotate_gabors_presentations', 'spontaneous_presentations']\n"
     ]
    }
   ],
   "source": [
    "stimulus_names = list(nwb.intervals.keys())\n",
    "print(stimulus_names)"
   ]
  },
  {
   "cell_type": "code",
   "execution_count": 10,
   "id": "500e70c6",
   "metadata": {
    "tags": [
     "output_scroll"
    ]
   },
   "outputs": [
    {
     "name": "stdout",
     "output_type": "stream",
     "text": [
      "('start_time', 'stop_time', 'stimulus_name', 'stimulus_block', 'color', 'contrast', 'mask', 'opacity', 'ori', 'size', 'units', 'stimulus_index', 'spatial_frequency', 'phase', 'tags', 'timeseries')\n"
     ]
    },
    {
     "data": {
      "text/html": [
       "<div>\n",
       "<style scoped>\n",
       "    .dataframe tbody tr th:only-of-type {\n",
       "        vertical-align: middle;\n",
       "    }\n",
       "\n",
       "    .dataframe tbody tr th {\n",
       "        vertical-align: top;\n",
       "    }\n",
       "\n",
       "    .dataframe thead th {\n",
       "        text-align: right;\n",
       "    }\n",
       "</style>\n",
       "<table border=\"1\" class=\"dataframe\">\n",
       "  <thead>\n",
       "    <tr style=\"text-align: right;\">\n",
       "      <th></th>\n",
       "      <th>start_time</th>\n",
       "      <th>stop_time</th>\n",
       "      <th>stimulus_name</th>\n",
       "      <th>stimulus_block</th>\n",
       "      <th>color</th>\n",
       "      <th>contrast</th>\n",
       "      <th>mask</th>\n",
       "      <th>opacity</th>\n",
       "      <th>ori</th>\n",
       "      <th>size</th>\n",
       "      <th>units</th>\n",
       "      <th>stimulus_index</th>\n",
       "      <th>spatial_frequency</th>\n",
       "      <th>phase</th>\n",
       "      <th>tags</th>\n",
       "      <th>timeseries</th>\n",
       "    </tr>\n",
       "    <tr>\n",
       "      <th>id</th>\n",
       "      <th></th>\n",
       "      <th></th>\n",
       "      <th></th>\n",
       "      <th></th>\n",
       "      <th></th>\n",
       "      <th></th>\n",
       "      <th></th>\n",
       "      <th></th>\n",
       "      <th></th>\n",
       "      <th></th>\n",
       "      <th></th>\n",
       "      <th></th>\n",
       "      <th></th>\n",
       "      <th></th>\n",
       "      <th></th>\n",
       "      <th></th>\n",
       "    </tr>\n",
       "  </thead>\n",
       "  <tbody>\n",
       "    <tr>\n",
       "      <th>0</th>\n",
       "      <td>3723.084780</td>\n",
       "      <td>3723.385052</td>\n",
       "      <td>gratings</td>\n",
       "      <td>184.0</td>\n",
       "      <td>[1.0, 1.0, 1.0]</td>\n",
       "      <td>0.8</td>\n",
       "      <td>None</td>\n",
       "      <td>1.0</td>\n",
       "      <td>60.0</td>\n",
       "      <td>[250.0, 250.0]</td>\n",
       "      <td>deg</td>\n",
       "      <td>7.0</td>\n",
       "      <td>0.08</td>\n",
       "      <td>0.50</td>\n",
       "      <td>[stimulus_time_interval]</td>\n",
       "      <td>[(222259, 18, timestamps pynwb.base.TimeSeries...</td>\n",
       "    </tr>\n",
       "    <tr>\n",
       "      <th>1</th>\n",
       "      <td>3723.385052</td>\n",
       "      <td>3723.685324</td>\n",
       "      <td>gratings</td>\n",
       "      <td>184.0</td>\n",
       "      <td>[1.0, 1.0, 1.0]</td>\n",
       "      <td>0.8</td>\n",
       "      <td>None</td>\n",
       "      <td>1.0</td>\n",
       "      <td>90.0</td>\n",
       "      <td>[250.0, 250.0]</td>\n",
       "      <td>deg</td>\n",
       "      <td>7.0</td>\n",
       "      <td>0.08</td>\n",
       "      <td>0.25</td>\n",
       "      <td>[stimulus_time_interval]</td>\n",
       "      <td>[(222277, 18, timestamps pynwb.base.TimeSeries...</td>\n",
       "    </tr>\n",
       "    <tr>\n",
       "      <th>2</th>\n",
       "      <td>3723.685324</td>\n",
       "      <td>3723.985596</td>\n",
       "      <td>gratings</td>\n",
       "      <td>184.0</td>\n",
       "      <td>[1.0, 1.0, 1.0]</td>\n",
       "      <td>0.8</td>\n",
       "      <td>None</td>\n",
       "      <td>1.0</td>\n",
       "      <td>150.0</td>\n",
       "      <td>[250.0, 250.0]</td>\n",
       "      <td>deg</td>\n",
       "      <td>7.0</td>\n",
       "      <td>0.08</td>\n",
       "      <td>0.75</td>\n",
       "      <td>[stimulus_time_interval]</td>\n",
       "      <td>[(222295, 18, timestamps pynwb.base.TimeSeries...</td>\n",
       "    </tr>\n",
       "    <tr>\n",
       "      <th>3</th>\n",
       "      <td>3723.985596</td>\n",
       "      <td>3724.285858</td>\n",
       "      <td>gratings</td>\n",
       "      <td>184.0</td>\n",
       "      <td>[1.0, 1.0, 1.0]</td>\n",
       "      <td>0.8</td>\n",
       "      <td>None</td>\n",
       "      <td>1.0</td>\n",
       "      <td>120.0</td>\n",
       "      <td>[250.0, 250.0]</td>\n",
       "      <td>deg</td>\n",
       "      <td>7.0</td>\n",
       "      <td>0.08</td>\n",
       "      <td>0.75</td>\n",
       "      <td>[stimulus_time_interval]</td>\n",
       "      <td>[(222313, 18, timestamps pynwb.base.TimeSeries...</td>\n",
       "    </tr>\n",
       "    <tr>\n",
       "      <th>4</th>\n",
       "      <td>3724.285858</td>\n",
       "      <td>3724.586114</td>\n",
       "      <td>gratings</td>\n",
       "      <td>184.0</td>\n",
       "      <td>[1.0, 1.0, 1.0]</td>\n",
       "      <td>0.8</td>\n",
       "      <td>None</td>\n",
       "      <td>1.0</td>\n",
       "      <td>0.0</td>\n",
       "      <td>[250.0, 250.0]</td>\n",
       "      <td>deg</td>\n",
       "      <td>7.0</td>\n",
       "      <td>0.08</td>\n",
       "      <td>0.00</td>\n",
       "      <td>[stimulus_time_interval]</td>\n",
       "      <td>[(222331, 18, timestamps pynwb.base.TimeSeries...</td>\n",
       "    </tr>\n",
       "    <tr>\n",
       "      <th>5</th>\n",
       "      <td>3724.586114</td>\n",
       "      <td>3724.886369</td>\n",
       "      <td>gratings</td>\n",
       "      <td>184.0</td>\n",
       "      <td>[1.0, 1.0, 1.0]</td>\n",
       "      <td>0.8</td>\n",
       "      <td>None</td>\n",
       "      <td>1.0</td>\n",
       "      <td>30.0</td>\n",
       "      <td>[250.0, 250.0]</td>\n",
       "      <td>deg</td>\n",
       "      <td>7.0</td>\n",
       "      <td>0.08</td>\n",
       "      <td>0.75</td>\n",
       "      <td>[stimulus_time_interval]</td>\n",
       "      <td>[(222349, 18, timestamps pynwb.base.TimeSeries...</td>\n",
       "    </tr>\n",
       "    <tr>\n",
       "      <th>6</th>\n",
       "      <td>3724.886369</td>\n",
       "      <td>3725.186622</td>\n",
       "      <td>gratings</td>\n",
       "      <td>184.0</td>\n",
       "      <td>[1.0, 1.0, 1.0]</td>\n",
       "      <td>0.8</td>\n",
       "      <td>None</td>\n",
       "      <td>1.0</td>\n",
       "      <td>150.0</td>\n",
       "      <td>[250.0, 250.0]</td>\n",
       "      <td>deg</td>\n",
       "      <td>7.0</td>\n",
       "      <td>0.08</td>\n",
       "      <td>0.00</td>\n",
       "      <td>[stimulus_time_interval]</td>\n",
       "      <td>[(222367, 18, timestamps pynwb.base.TimeSeries...</td>\n",
       "    </tr>\n",
       "    <tr>\n",
       "      <th>7</th>\n",
       "      <td>3725.186622</td>\n",
       "      <td>3725.486867</td>\n",
       "      <td>gratings</td>\n",
       "      <td>184.0</td>\n",
       "      <td>[1.0, 1.0, 1.0]</td>\n",
       "      <td>0.8</td>\n",
       "      <td>None</td>\n",
       "      <td>1.0</td>\n",
       "      <td>120.0</td>\n",
       "      <td>[250.0, 250.0]</td>\n",
       "      <td>deg</td>\n",
       "      <td>7.0</td>\n",
       "      <td>0.08</td>\n",
       "      <td>0.00</td>\n",
       "      <td>[stimulus_time_interval]</td>\n",
       "      <td>[(222385, 18, timestamps pynwb.base.TimeSeries...</td>\n",
       "    </tr>\n",
       "    <tr>\n",
       "      <th>8</th>\n",
       "      <td>3725.486867</td>\n",
       "      <td>3725.787112</td>\n",
       "      <td>gratings</td>\n",
       "      <td>184.0</td>\n",
       "      <td>[1.0, 1.0, 1.0]</td>\n",
       "      <td>0.8</td>\n",
       "      <td>None</td>\n",
       "      <td>1.0</td>\n",
       "      <td>60.0</td>\n",
       "      <td>[250.0, 250.0]</td>\n",
       "      <td>deg</td>\n",
       "      <td>7.0</td>\n",
       "      <td>0.08</td>\n",
       "      <td>0.00</td>\n",
       "      <td>[stimulus_time_interval]</td>\n",
       "      <td>[(222403, 18, timestamps pynwb.base.TimeSeries...</td>\n",
       "    </tr>\n",
       "    <tr>\n",
       "      <th>9</th>\n",
       "      <td>3725.787112</td>\n",
       "      <td>3726.087357</td>\n",
       "      <td>gratings</td>\n",
       "      <td>184.0</td>\n",
       "      <td>[1.0, 1.0, 1.0]</td>\n",
       "      <td>0.8</td>\n",
       "      <td>None</td>\n",
       "      <td>1.0</td>\n",
       "      <td>120.0</td>\n",
       "      <td>[250.0, 250.0]</td>\n",
       "      <td>deg</td>\n",
       "      <td>7.0</td>\n",
       "      <td>0.08</td>\n",
       "      <td>0.50</td>\n",
       "      <td>[stimulus_time_interval]</td>\n",
       "      <td>[(222421, 18, timestamps pynwb.base.TimeSeries...</td>\n",
       "    </tr>\n",
       "  </tbody>\n",
       "</table>\n",
       "</div>"
      ],
      "text/plain": [
       "     start_time    stop_time stimulus_name  stimulus_block            color  \\\n",
       "id                                                                            \n",
       "0   3723.084780  3723.385052      gratings           184.0  [1.0, 1.0, 1.0]   \n",
       "1   3723.385052  3723.685324      gratings           184.0  [1.0, 1.0, 1.0]   \n",
       "2   3723.685324  3723.985596      gratings           184.0  [1.0, 1.0, 1.0]   \n",
       "3   3723.985596  3724.285858      gratings           184.0  [1.0, 1.0, 1.0]   \n",
       "4   3724.285858  3724.586114      gratings           184.0  [1.0, 1.0, 1.0]   \n",
       "5   3724.586114  3724.886369      gratings           184.0  [1.0, 1.0, 1.0]   \n",
       "6   3724.886369  3725.186622      gratings           184.0  [1.0, 1.0, 1.0]   \n",
       "7   3725.186622  3725.486867      gratings           184.0  [1.0, 1.0, 1.0]   \n",
       "8   3725.486867  3725.787112      gratings           184.0  [1.0, 1.0, 1.0]   \n",
       "9   3725.787112  3726.087357      gratings           184.0  [1.0, 1.0, 1.0]   \n",
       "\n",
       "    contrast  mask  opacity    ori            size units  stimulus_index  \\\n",
       "id                                                                         \n",
       "0        0.8  None      1.0   60.0  [250.0, 250.0]   deg             7.0   \n",
       "1        0.8  None      1.0   90.0  [250.0, 250.0]   deg             7.0   \n",
       "2        0.8  None      1.0  150.0  [250.0, 250.0]   deg             7.0   \n",
       "3        0.8  None      1.0  120.0  [250.0, 250.0]   deg             7.0   \n",
       "4        0.8  None      1.0    0.0  [250.0, 250.0]   deg             7.0   \n",
       "5        0.8  None      1.0   30.0  [250.0, 250.0]   deg             7.0   \n",
       "6        0.8  None      1.0  150.0  [250.0, 250.0]   deg             7.0   \n",
       "7        0.8  None      1.0  120.0  [250.0, 250.0]   deg             7.0   \n",
       "8        0.8  None      1.0   60.0  [250.0, 250.0]   deg             7.0   \n",
       "9        0.8  None      1.0  120.0  [250.0, 250.0]   deg             7.0   \n",
       "\n",
       "    spatial_frequency  phase                      tags  \\\n",
       "id                                                       \n",
       "0                0.08   0.50  [stimulus_time_interval]   \n",
       "1                0.08   0.25  [stimulus_time_interval]   \n",
       "2                0.08   0.75  [stimulus_time_interval]   \n",
       "3                0.08   0.75  [stimulus_time_interval]   \n",
       "4                0.08   0.00  [stimulus_time_interval]   \n",
       "5                0.08   0.75  [stimulus_time_interval]   \n",
       "6                0.08   0.00  [stimulus_time_interval]   \n",
       "7                0.08   0.00  [stimulus_time_interval]   \n",
       "8                0.08   0.00  [stimulus_time_interval]   \n",
       "9                0.08   0.50  [stimulus_time_interval]   \n",
       "\n",
       "                                           timeseries  \n",
       "id                                                     \n",
       "0   [(222259, 18, timestamps pynwb.base.TimeSeries...  \n",
       "1   [(222277, 18, timestamps pynwb.base.TimeSeries...  \n",
       "2   [(222295, 18, timestamps pynwb.base.TimeSeries...  \n",
       "3   [(222313, 18, timestamps pynwb.base.TimeSeries...  \n",
       "4   [(222331, 18, timestamps pynwb.base.TimeSeries...  \n",
       "5   [(222349, 18, timestamps pynwb.base.TimeSeries...  \n",
       "6   [(222367, 18, timestamps pynwb.base.TimeSeries...  \n",
       "7   [(222385, 18, timestamps pynwb.base.TimeSeries...  \n",
       "8   [(222403, 18, timestamps pynwb.base.TimeSeries...  \n",
       "9   [(222421, 18, timestamps pynwb.base.TimeSeries...  "
      ]
     },
     "execution_count": 10,
     "metadata": {},
     "output_type": "execute_result"
    }
   ],
   "source": [
    "stim_table = nwb.intervals['gratings_presentations']\n",
    "print(stim_table.colnames)\n",
    "stim_table[:10]"
   ]
  }
 ],
 "metadata": {
  "kernelspec": {
   "display_name": "Python 3 (ipykernel)",
   "language": "python",
   "name": "python3"
  },
  "language_info": {
   "codemirror_mode": {
    "name": "ipython",
    "version": 3
   },
   "file_extension": ".py",
   "mimetype": "text/x-python",
   "name": "python",
   "nbconvert_exporter": "python",
   "pygments_lexer": "ipython3",
   "version": "3.9.10"
  }
 },
 "nbformat": 4,
 "nbformat_minor": 5
}
