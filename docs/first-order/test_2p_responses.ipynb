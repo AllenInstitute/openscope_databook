{
 "cells": [
  {
   "attachments": {},
   "cell_type": "markdown",
   "id": "740a0b46",
   "metadata": {},
   "source": [
    "# Statistically Testing 2P Responses to Stimulus\n",
    "In most analyses, some form of *inclusion criteria* is used to select neurons that are \"responsive\" to the stimulus conditions presented. There are no universally agreed upon inclusion criteria for this type of selection. In [{cite}`Mesa2021`](https://www.ncbi.nlm.nih.gov/pmc/articles/PMC8114876/), it is demonstrated that the choice of inclusion criteria can dramatically affect what neurons are selected as responsive. This notebook does a similar demonstration, using the same five inclusion criteria on Ophys dF/F recordings to select responsive neurons from one experimental session. It can be seen that very different selections are made depending on the criteria used. This also underscores how different critera might be more or less appropriate for the type of stimulus and the type of measurements being used for analysis. We are sharing these so that this comparison can be reproduced on data and so results can more effectively use this choice to make their results more robust. For more information about dF/F data, see [Visualizing 2P Responses to Stimulus](../visualization/visualize_2p_responses.ipynb)."
   ]
  },
  {
   "attachments": {},
   "cell_type": "markdown",
   "id": "4c83be96",
   "metadata": {},
   "source": [
    "### Environment Setup"
   ]
  },
  {
   "cell_type": "code",
   "execution_count": null,
   "id": "7a206969",
   "metadata": {},
   "outputs": [],
   "source": [
    "### if running on Google Colab, run this cell once, then restart the runtime and run the rest of the notebook\n",
    "import os\n",
    "if \"COLAB_GPU\" in os.environ:\n",
    "    !git clone https://github.com/AllenInstitute/openscope_databook.git\n",
    "    %cd openscope_databook\n",
    "    %pip install -e ."
   ]
  },
  {
   "cell_type": "code",
   "execution_count": null,
   "id": "09650a3e",
   "metadata": {},
   "outputs": [],
   "source": [
    "import matplotlib as mpl\n",
    "import matplotlib.pyplot as plt\n",
    "import numpy as np\n",
    "\n",
    "from dandi_utils import dandi_download_open\n",
    "from matplotlib_venn import venn2\n",
    "from scipy import interpolate\n",
    "from scipy.stats import ttest_ind\n",
    "\n",
    "%matplotlib inline"
   ]
  },
  {
   "attachments": {},
   "cell_type": "markdown",
   "id": "3cc865a1",
   "metadata": {},
   "source": [
    "### Downloading Ophys File\n",
    "Change the values below to download the file you’re interested in. In this example, we use the dF/F trace from an Ophys NWB File, so you'll have to choose one with the same kind of data. Set `dandiset_id` and `dandi_filepath` to correspond to the dandiset id and filepath of the file you want. If you’re accessing an embargoed dataset, set `dandi_api_key` to your DANDI API key."
   ]
  },
  {
   "cell_type": "code",
   "execution_count": null,
   "id": "54872136",
   "metadata": {},
   "outputs": [],
   "source": [
    "dandiset_id = \"000336\"\n",
    "dandi_filepath = \"sub_1170622509/sub_1170622509sess_1194683535/sub_1170622509+sess_1194683535+exp_1194752582_ophys.nwb\"\n",
    "download_loc = \".\"\n",
    "dandi_api_key = os.environ[\"DANDI_API_KEY\"]"
   ]
  },
  {
   "cell_type": "code",
   "execution_count": null,
   "id": "fbe059d0",
   "metadata": {},
   "outputs": [],
   "source": [
    "nwb = dandi_download_open(dandiset_id, dandi_filepath, download_loc, dandi_api_key=dandi_api_key)"
   ]
  },
  {
   "attachments": {},
   "cell_type": "markdown",
   "id": "53919d11",
   "metadata": {},
   "source": [
    "### Getting 2P Data and Stimulus Data\n",
    "Below, the fluorescence traces and timestamps are read from the file's `Processing` section. In this notebook, we will be interested in the DFF trace specifically. Note that the exact format to access these traces can vary between newer and older NWB files, so some adjustments may be necessary. Additionally, the stimulus data is also read from the NWB file's `Intervals` section. Stimulus information is stored as a series of tables depending on the type of stimulus shown in the session. One such table is displayed below, as well as the names of all the tables."
   ]
  },
  {
   "cell_type": "code",
   "execution_count": null,
   "id": "a8cbffdf",
   "metadata": {},
   "outputs": [],
   "source": [
    "dff = nwb.processing[\"ophys\"][\"dff\"]\n",
    "dff_trace = dff.roi_response_series[\"traces\"].data\n",
    "dff_timestamps = dff.roi_response_series[\"traces\"].timestamps\n",
    "\n",
    "# accessing the above data may look different for older nwb files, like the following\n",
    "# dff_trace = dff.roi_response_series[\"RoiResponseSeries\"].data\n",
    "# dff_timestamps = dff.roi_response_series[\"RoiResponseSeries\"].timestamps\n",
    "\n",
    "print(dff_trace.shape)\n",
    "print(dff_timestamps.shape)"
   ]
  },
  {
   "attachments": {},
   "cell_type": "markdown",
   "id": "325fff2e",
   "metadata": {},
   "source": [
    "### Fluorescence Interpolation\n",
    "Because we cannot be certain that the DFF trace is at a perfectly regular Hz, we will interpolate it to be able to compare stimulus timestamps to their approximate DFF times. After you have a valid list of stimulus timestamps, you can generate a linearly-spaced timestamp array called `time_axis`, and interpolate the dF/F data along it, making interpolated DFF data called `interp_dff`. This should be a 2D array with dimensions `time` and `roi`, where rois are the different cells whose fluorescence is measured. Here, the timestamps are interpolated to 10 Hertz, but you can change this by setting `interp_hz`."
   ]
  },
  {
   "cell_type": "code",
   "execution_count": null,
   "id": "f5163658",
   "metadata": {},
   "outputs": [],
   "source": [
    "interp_hz = 10"
   ]
  },
  {
   "cell_type": "code",
   "execution_count": null,
   "id": "534e344c",
   "metadata": {},
   "outputs": [],
   "source": [
    "print(dff_trace.shape)\n",
    "print(dff_timestamps.shape)"
   ]
  },
  {
   "cell_type": "code",
   "execution_count": null,
   "id": "8308224d",
   "metadata": {},
   "outputs": [],
   "source": [
    "# generate regularly-space x values and interpolate along it\n",
    "time_axis = np.arange(dff_timestamps[0], dff_timestamps[-1], step=(1/interp_hz))\n",
    "interp_dff = []\n",
    "\n",
    "# interpolate channel by channel to save RAM\n",
    "for channel in range(dff_trace.shape[1]):\n",
    "    f = interpolate.interp1d(dff_timestamps, dff_trace[:,channel], axis=0, kind=\"nearest\", fill_value=\"extrapolate\")\n",
    "    interp_dff.append(f(time_axis))\n",
    "\n",
    "interp_dff = np.array(interp_dff)\n",
    "\n",
    "print(interp_dff.shape)"
   ]
  },
  {
   "attachments": {},
   "cell_type": "markdown",
   "id": "ead2c9a8",
   "metadata": {},
   "source": [
    "### Selecting Stimulus Times\n",
    "Different types of stimulus require different kinds of inclusion criteria. Since the available stimulus tables vary significantly depending which NWB file and which experimental session you're analyzing, you'll have to adjust some values below. First, select which stimulus table you want by changing the key used below in `nwb.intervals`. The list of stimulus table names is printed below to inform this choice. Additionally, you'll have to modify the function `stim_select` to select the stimulus times you want to use. In this example, a natural movie of worms is the selected stimulus, and frame 40 is chosen somewhat arbitrarily."
   ]
  },
  {
   "cell_type": "code",
   "execution_count": null,
   "id": "6177ffb0",
   "metadata": {},
   "outputs": [],
   "source": [
    "stimulus_names = list(nwb.intervals.keys())\n",
    "print(stimulus_names)"
   ]
  },
  {
   "cell_type": "code",
   "execution_count": null,
   "id": "500e70c6",
   "metadata": {
    "tags": [
     "output_scroll"
    ]
   },
   "outputs": [],
   "source": [
    "stim_table = nwb.intervals[\"movie_worms_fwd_presentations\"]\n",
    "print(stim_table.colnames)\n",
    "stim_table[:10]"
   ]
  },
  {
   "cell_type": "code",
   "execution_count": null,
   "id": "abd73a5c",
   "metadata": {},
   "outputs": [],
   "source": [
    "### select start times from table that fit certain critera here\n",
    "\n",
    "# stim_select = lambda row: True\n",
    "stim_select = lambda row: float(row.frame) == 40\n",
    "all_stim_times = [float(stim_table[i].start_time) for i in range(len(stim_table)) if stim_select(stim_table[i])]\n",
    "len(all_stim_times)"
   ]
  },
  {
   "attachments": {},
   "cell_type": "markdown",
   "id": "56fbb936",
   "metadata": {},
   "source": [
    "### Getting Stimulus Time Windows\n",
    "Now that you have your interpolated dF/F data and the selected stimulus timestamps, you identify the windows of time in the dF/F data that exist around each stimulus event. Since the dF/F data have been interpolated, we can easily translate timestamps to indices within the LFP trace array. Set `window_start_time` to be a negative number, representing the seconds before the stimulus event and `window_end_time` to be number of seconds afterward. Then the `windows` array will be generated as a set of slices of the `interp_dff` trace by using `interp_hz` to convert seconds to array indices. These windows can be used for the application of the various inclusion criteria."
   ]
  },
  {
   "cell_type": "code",
   "execution_count": null,
   "id": "ae73905f",
   "metadata": {},
   "outputs": [],
   "source": [
    "window_start_time = -2\n",
    "window_end_time = 3"
   ]
  },
  {
   "cell_type": "code",
   "execution_count": null,
   "id": "9cae90bb",
   "metadata": {},
   "outputs": [],
   "source": [
    "# validate window bounds\n",
    "if window_start_time > 0:\n",
    "    raise ValueError(\"start time must be non-positive number\")\n",
    "if window_end_time <= 0:\n",
    "    raise ValueError(\"end time must be positive number\")\n",
    "    \n",
    "# get event windows\n",
    "windows = []\n",
    "window_length = int((window_end_time-window_start_time) * interp_hz)\n",
    "\n",
    "for stim_ts in all_stim_times:\n",
    "    # convert time to index\n",
    "    start_idx = int( (stim_ts + window_start_time - dff_timestamps[0]) * interp_hz )\n",
    "    end_idx = start_idx + window_length\n",
    " \n",
    "    # bounds checking\n",
    "    if start_idx < 0 or end_idx > interp_dff.shape[1]:\n",
    "        continue\n",
    "        \n",
    "    windows.append(interp_dff[:,start_idx:end_idx])\n",
    "    \n",
    "if len(windows) == 0:\n",
    "    raise ValueError(\"There are no windows for these timestamps\")\n",
    "\n",
    "windows = np.array(windows) * 100 # x100 to convert values to dF/F percentage\n",
    "print(windows.shape)"
   ]
  },
  {
   "attachments": {},
   "cell_type": "markdown",
   "id": "e25419e1",
   "metadata": {},
   "source": [
    "### Defining Plotting Methods\n",
    "Here are a few methods to display the stimulus response windows. These will be used to display the ROIs selected by each inclusion critera."
   ]
  },
  {
   "cell_type": "code",
   "execution_count": null,
   "id": "fd0bf83b",
   "metadata": {},
   "outputs": [],
   "source": [
    "def show_dff_response(ax, dff, window_start_time, window_end_time, aspect=\"auto\", vmin=None, vmax=None, yticklabels=[], skipticks=1, xlabel=\"Time (s)\", ylabel=\"ROI\", cbar=True, cbar_label=None):\n",
    "    if len(dff) == 0:\n",
    "        print(\"Input data has length 0; Nothing to display\")\n",
    "        return\n",
    "\n",
    "    img = ax.imshow(dff, aspect=aspect, extent=[window_start_time, window_end_time, 0, len(dff)], vmin=vmin, vmax=vmax)\n",
    "    if cbar:\n",
    "        fig.colorbar(img, shrink=0.5, label=cbar_label)\n",
    "\n",
    "    ax.plot([0,0],[0, len(dff)], \":\", color=\"white\", linewidth=1.0)\n",
    "\n",
    "    if len(yticklabels) != 0:\n",
    "        ax.set_yticks(range(len(yticklabels)))\n",
    "        ax.set_yticklabels(yticklabels, fontsize=8)\n",
    "\n",
    "        n_ticks = len(yticklabels[::skipticks])\n",
    "        ax.yaxis.set_major_locator(plt.MaxNLocator(n_ticks))\n",
    "\n",
    "    ax.set_xlabel(xlabel)\n",
    "    ax.set_ylabel(ylabel)"
   ]
  },
  {
   "cell_type": "code",
   "execution_count": null,
   "id": "21a363be",
   "metadata": {},
   "outputs": [],
   "source": [
    "def show_many_responses(windows, rows, cols, title=None, subplot_title=\"\", xlabel=None, ylabel=None, cbar_label=None, vmin=0, vmax=100):\n",
    "    # handle case with no input data\n",
    "    if len(windows) == 0:\n",
    "        print(\"Input data has length 0; Nothing to display\")\n",
    "        return\n",
    "    # handle cases when there aren't enough windows for number of rows\n",
    "    if len(windows) < rows*cols:\n",
    "        rows = (len(windows) // cols) + 1\n",
    "\n",
    "    fig, axes = plt.subplots(rows, cols, figsize=(2*cols+2, 2*rows+2), layout=\"constrained\")\n",
    "    # handle case when there's only one row\n",
    "    if len(axes.shape) == 1:\n",
    "        axes = axes.reshape((1, axes.shape[0]))\n",
    "    \n",
    "    for idx in range(rows*cols):\n",
    "        ax_row = int(idx // cols)\n",
    "        ax_col = idx % cols\n",
    "        ax = axes[ax_row][ax_col]\n",
    "        \n",
    "        if idx > len(windows)-1:\n",
    "            ax.set_visible(False)\n",
    "            continue\n",
    "\n",
    "        window = windows[idx]\n",
    "        show_dff_response(ax, window, window_start_time, window_end_time, xlabel=xlabel, ylabel=ylabel, cbar=False, vmin=vmin, vmax=vmax)\n",
    "        ax.set_title(f\"{subplot_title} {idx}\")\n",
    "        if ax_row != rows-1:\n",
    "            ax.get_xaxis().set_visible(False)\n",
    "        if ax_col != 0:\n",
    "            ax.get_yaxis().set_visible(False)\n",
    "\n",
    "\n",
    "    fig.suptitle(title)\n",
    "    norm = mpl.colors.Normalize(vmin=vmin, vmax=vmax)\n",
    "    colorbar = fig.colorbar(mpl.cm.ScalarMappable(norm=norm), ax=axes, shrink=1.5/rows, label=cbar_label)\n"
   ]
  },
  {
   "attachments": {},
   "cell_type": "markdown",
   "id": "0583dda3",
   "metadata": {},
   "source": [
    "### Aligning Time Windows\n",
    "The stimulus windows are averaged across all stimulus trials to get an average view of how the ROIs respond. Use this to compare to the mean responses of the selected neurons after each inclusion criteria."
   ]
  },
  {
   "cell_type": "code",
   "execution_count": null,
   "id": "85c95386",
   "metadata": {},
   "outputs": [],
   "source": [
    "mean_window = np.mean(windows, axis=0)\n",
    "print(mean_window.shape)\n",
    "fig, ax = plt.subplots()\n",
    "show_dff_response(ax, mean_window, window_start_time, window_end_time, vmin=0, vmax=100, cbar_label=\"$\\Delta$F/F (%)\")\n",
    "ax.set_title(\"Mean Response Window\")\n",
    "ax.set_xlabel(\"time (s)\")\n",
    "ax.set_ylabel(\"ROI (neuron)\")"
   ]
  },
  {
   "attachments": {},
   "cell_type": "markdown",
   "id": "0c18c1c5",
   "metadata": {},
   "source": [
    "### Showing Response Windows"
   ]
  },
  {
   "cell_type": "code",
   "execution_count": null,
   "id": "fa14050c",
   "metadata": {},
   "outputs": [],
   "source": [
    "show_many_responses(windows,\n",
    "                    3,\n",
    "                    8,\n",
    "                    title=\"Responses to each trial\",\n",
    "                    subplot_title=\"Trial\",\n",
    "                    xlabel=\"time (s)\",\n",
    "                    ylabel=\"ROI (neuron)\",\n",
    "                    cbar_label=\"$\\Delta$F/F (%)\")"
   ]
  },
  {
   "cell_type": "code",
   "execution_count": null,
   "id": "76e262a0",
   "metadata": {},
   "outputs": [],
   "source": [
    "neuronwise_windows = np.swapaxes(windows,0,1)\n",
    "show_many_responses(neuronwise_windows,\n",
    "                    3,\n",
    "                    8,\n",
    "                    title=\"Response of ROIs across trials\",\n",
    "                    subplot_title=\"ROI\",\n",
    "                    xlabel=\"time (s)\",\n",
    "                    ylabel=\"trial\",\n",
    "                    cbar_label=\"$\\Delta$F/F (%)\")"
   ]
  },
  {
   "attachments": {},
   "cell_type": "markdown",
   "id": "ec8cbcb8",
   "metadata": {},
   "source": [
    "### Getting Stimulus Window Info\n",
    "We calculate a few values which will be applicable to multiple inclusion criteria."
   ]
  },
  {
   "cell_type": "code",
   "execution_count": null,
   "id": "7cacafc0",
   "metadata": {},
   "outputs": [],
   "source": [
    "# get the index within the window that stimulus occurs (time 0)\n",
    "stimulus_onset_idx = int(-window_start_time * interp_hz)\n",
    "baseline = windows[:,:,0:stimulus_onset_idx]\n",
    "evoked_responses = windows[:,:,stimulus_onset_idx:]\n",
    "\n",
    "print(stimulus_onset_idx)\n",
    "print(baseline.shape)\n",
    "print(evoked_responses.shape)"
   ]
  },
  {
   "attachments": {},
   "cell_type": "markdown",
   "id": "552c113b",
   "metadata": {},
   "source": [
    "### Inclusion Criteria"
   ]
  },
  {
   "attachments": {},
   "cell_type": "markdown",
   "id": "808089b3",
   "metadata": {},
   "source": [
    "#### Inclusion Criterion 1\n",
    "The maximum value of the mean evoked response is >10% [{cite}`Sun2016`](https://rdcu.be/dbFb9)"
   ]
  },
  {
   "cell_type": "code",
   "execution_count": null,
   "id": "7b195528",
   "metadata": {},
   "outputs": [],
   "source": [
    "mean_evoked_responses = np.mean(evoked_responses, axis=0)\n",
    "max_mean_evoked_responses = np.max(mean_evoked_responses, axis=1)\n",
    "IC1_selected_rois = np.where(max_mean_evoked_responses > 10)[0]\n",
    "print(f\"Selected ROIs {IC1_selected_rois}\")"
   ]
  },
  {
   "cell_type": "code",
   "execution_count": null,
   "id": "6b36087e",
   "metadata": {},
   "outputs": [],
   "source": [
    "plt.hist(max_mean_evoked_responses, bins=100)\n",
    "plt.ylabel(\"# ROIs\")\n",
    "plt.axvline(x=10, color=\"red\", linestyle=\":\")\n",
    "plt.xlabel(\"Maximum $\\Delta$F/F (%) of mean evoked response\")\n",
    "plt.show()"
   ]
  },
  {
   "cell_type": "code",
   "execution_count": null,
   "id": "b4da1d88",
   "metadata": {},
   "outputs": [],
   "source": [
    "print(f\"{len(IC1_selected_rois)} / {neuronwise_windows.shape[0]} ROIs selected\")\n",
    "show_many_responses(neuronwise_windows[IC1_selected_rois],\n",
    "                    3,\n",
    "                    8,\n",
    "                    title=\"Neuronwise Responses of Included ROIs (Criterion 1)\",\n",
    "                    subplot_title=\"ROI\",\n",
    "                    xlabel=\"time (s)\",\n",
    "                    ylabel=\"trial\",\n",
    "                    cbar_label=\"$\\Delta$F/F (%)\")"
   ]
  },
  {
   "attachments": {},
   "cell_type": "markdown",
   "id": "8c6dd24d",
   "metadata": {},
   "source": [
    "#### Inclusion Criterion 2\n",
    "In 50% of trials, the evoked response is A) larger than 3x the SD of the baseline, and B) larger than 5% dF/F [{cite}`Roth2012`](https://www.jneurosci.org/content/jneuro/32/28/9716.full.pdf)"
   ]
  },
  {
   "cell_type": "code",
   "execution_count": null,
   "id": "579a89ae",
   "metadata": {},
   "outputs": [],
   "source": [
    "all_baseline_sds = np.std(baseline, axis=2)\n",
    "print(all_baseline_sds.shape)\n",
    "\n",
    "max_responses = np.max(evoked_responses, axis=2)\n",
    "print(max_responses.shape)\n",
    "\n",
    "# rois in each trial that respond more than 3x the SD of baseline\n",
    "deviant_responses = max_responses > 3*all_baseline_sds\n",
    "# rois in each trial that response more than 5% dff\n",
    "large_responses = max_responses > 5\n",
    "# rois in each trial that do both of the above\n",
    "sig_responses = deviant_responses & large_responses\n",
    "\n",
    "# rois that have significant responses in 50% or more trials\n",
    "half_trials = sig_responses.shape[0] / 2\n",
    "IC2_selected_rois = np.where( np.sum(sig_responses, axis=0) > half_trials )[0]\n",
    "print(f\"Selected ROIs {IC2_selected_rois}\")"
   ]
  },
  {
   "cell_type": "code",
   "execution_count": null,
   "id": "7a335371",
   "metadata": {},
   "outputs": [],
   "source": [
    "z_scores = np.mean(max_responses / all_baseline_sds, axis=0)\n",
    "plt.hist(z_scores, bins=50)\n",
    "plt.xlabel(\"Z-score\")\n",
    "plt.ylabel(\"# ROIs\")\n",
    "# plt.axvline(x=3, color=\"red\", linestyle=\":\")\n",
    "plt.show()"
   ]
  },
  {
   "cell_type": "code",
   "execution_count": null,
   "id": "bc09b423",
   "metadata": {},
   "outputs": [],
   "source": [
    "print(f\"{len(IC1_selected_rois)} / {neuronwise_windows.shape[0]} ROIs selected\")\n",
    "show_many_responses(neuronwise_windows[IC2_selected_rois],\n",
    "                    3,\n",
    "                    8,\n",
    "                    title=\"Neuronwise Responses of Included ROIs (Criterion 2)\",\n",
    "                    subplot_title=\"ROI\",\n",
    "                    xlabel=\"time (s)\",\n",
    "                    ylabel=\"trial\",\n",
    "                    cbar_label=\"$\\Delta$F/F (%)\")"
   ]
  },
  {
   "attachments": {},
   "cell_type": "markdown",
   "id": "28da3395",
   "metadata": {},
   "source": [
    "#### Inclusion Criterion 3\n",
    "Paired T-test (p < 0.05) with Bonferroni correction, comparing the mean baseline to the mean evoked response [{cite}`Andermann2011`](https://pubmed.ncbi.nlm.nih.gov/22196337/)"
   ]
  },
  {
   "cell_type": "code",
   "execution_count": null,
   "id": "6546c149",
   "metadata": {},
   "outputs": [],
   "source": [
    "mean_trial_responses = np.mean(evoked_responses, axis=2)\n",
    "mean_trial_baselines = np.mean(baseline, axis=2)\n",
    "\n",
    "n = mean_trial_responses.shape[0]\n",
    "t,p = ttest_ind(mean_trial_responses, mean_trial_baselines)\n",
    "IC3_selected_rois = np.where(p < 0.05 / n)[0]\n",
    "print(f\"Selected ROIs {IC3_selected_rois}\")"
   ]
  },
  {
   "cell_type": "code",
   "execution_count": null,
   "id": "e529268c",
   "metadata": {},
   "outputs": [],
   "source": [
    "np.sort(p)"
   ]
  },
  {
   "cell_type": "code",
   "execution_count": null,
   "id": "d291fc57",
   "metadata": {},
   "outputs": [],
   "source": [
    "roi = 15\n",
    "baseline_dist = mean_trial_baselines[:,roi]\n",
    "response_dist = mean_trial_responses[:,roi]\n",
    "max_val = max(np.maximum(baseline_dist, response_dist)) + 1\n",
    "min_val = min(np.minimum(baseline_dist, response_dist))\n",
    "\n",
    "plt.hist(baseline_dist, bins=50, range=(min_val, max_val), alpha=0.5, color=\"blue\", label=\"baseline\")\n",
    "plt.hist(response_dist, bins=50, range=(min_val, max_val), alpha=0.5, color=\"orange\", label=\"evoked\")\n",
    "plt.xlabel(\"Mean response $\\Delta$F/F (%)\")\n",
    "plt.ylabel(\"# Trial responses\")\n",
    "plt.title(f\"Baseline and Evoked Responses for ROI {roi}\")\n",
    "plt.show"
   ]
  },
  {
   "cell_type": "code",
   "execution_count": null,
   "id": "f8d45f0e",
   "metadata": {},
   "outputs": [],
   "source": [
    "hist, _, _  = plt.hist(p, bins=50)\n",
    "plt.xlabel(\"P-value\")\n",
    "plt.ylabel(\"# ROIs\")\n",
    "thresh = 0.05/n\n",
    "plt.axvline(x=thresh, color=\"red\", linestyle=\":\")\n",
    "plt.show()"
   ]
  },
  {
   "cell_type": "code",
   "execution_count": null,
   "id": "e62cabae",
   "metadata": {},
   "outputs": [],
   "source": [
    "print(f\"{len(IC1_selected_rois)} / {neuronwise_windows.shape[0]} ROIs selected\")\n",
    "show_many_responses(neuronwise_windows[IC3_selected_rois],\n",
    "                    3,\n",
    "                    8,\n",
    "                    title=\"Neuronwise Responses of Included ROIs (Criterion 3)\",\n",
    "                    subplot_title=\"ROI\",\n",
    "                    xlabel=\"time (s)\",\n",
    "                    ylabel=\"trial\",\n",
    "                    cbar_label=\"$\\Delta$F/F (%)\")"
   ]
  },
  {
   "attachments": {},
   "cell_type": "markdown",
   "id": "73890a06",
   "metadata": {},
   "source": [
    "#### Inclusion Criterion 4\n",
    "A) The mean response to any stimulus condition is is > 6% dF/F and B) reliability > 1 [{cite}`Marshel2012`](https://www.ncbi.nlm.nih.gov/pmc/articles/PMC3248795/). It can be seen that in this example, no ROIs are selected. This is probably due to no ROIs having reliable responses to the stimulus."
   ]
  },
  {
   "cell_type": "code",
   "execution_count": null,
   "id": "0abb2c29",
   "metadata": {},
   "outputs": [],
   "source": [
    "mean_trial_responses = np.mean(evoked_responses, axis=2)\n",
    "response_means = np.mean(mean_trial_responses, axis=0)\n",
    "response_sds = np.std(mean_trial_responses, axis=0)\n",
    "\n",
    "mean_trial_baselines = np.mean(baseline, axis=2)\n",
    "baseline_means = np.mean(mean_trial_baselines, axis=0)\n",
    "baseline_sds = np.std(mean_trial_baselines, axis=0)\n",
    "\n",
    "reliabilities = (response_means - baseline_means) / (response_sds + baseline_sds)\n",
    "\n",
    "sig_reliabilities = reliabilities > 1\n",
    "large_responses = response_means > 6\n",
    "IC4_selected_rois = np.where(sig_reliabilities & large_responses)[0]\n",
    "print(f\"Selected ROIs {IC4_selected_rois}\")"
   ]
  },
  {
   "cell_type": "code",
   "execution_count": null,
   "id": "8aa52136",
   "metadata": {},
   "outputs": [],
   "source": [
    "plt.hist(reliabilities, bins=50)\n",
    "plt.ylabel(\"# ROIs\")\n",
    "plt.xlabel(\"Reliability\")\n",
    "plt.axvline(x=1, color=\"red\", linestyle=\":\")\n",
    "plt.show()"
   ]
  },
  {
   "cell_type": "code",
   "execution_count": null,
   "id": "91b0e630",
   "metadata": {},
   "outputs": [],
   "source": [
    "print(f\"{len(IC1_selected_rois)} / {neuronwise_windows.shape[0]} ROIs selected\")\n",
    "show_many_responses(neuronwise_windows[IC4_selected_rois],\n",
    "                    3,\n",
    "                    8,\n",
    "                    title=\"Neuronwise Responses of Included ROIs (Criterion 4)\",\n",
    "                    subplot_title=\"ROI\",\n",
    "                    xlabel=\"time (s)\",\n",
    "                    ylabel=\"trial\",\n",
    "                    cbar_label=\"$\\Delta$F/F (%)\")"
   ]
  },
  {
   "attachments": {},
   "cell_type": "markdown",
   "id": "f98e9641",
   "metadata": {},
   "source": [
    "#### Inclusion Criterion 5\n",
    "The maximum evoked response to any stimulus condition is > 4% dF/F [{cite}`Tohmi2014`](https://pubmed.ncbi.nlm.nih.gov/24583013/). This criterion is clearly the most permissive, as it includes all ROIs for this dataset."
   ]
  },
  {
   "cell_type": "code",
   "execution_count": null,
   "id": "f32343c4",
   "metadata": {},
   "outputs": [],
   "source": [
    "max_responses = np.max(evoked_responses, axis=(0,2))\n",
    "IC5_selected_rois = np.where(max_responses > 4)[0]\n",
    "print(f\"Selected ROIs {IC5_selected_rois}\")"
   ]
  },
  {
   "cell_type": "code",
   "execution_count": null,
   "id": "6eef08f7",
   "metadata": {},
   "outputs": [],
   "source": [
    "plt.hist(max_responses, bins=100)\n",
    "plt.ylabel(\"# ROIs\")\n",
    "plt.xlabel(\"max $\\Delta$F/F (%) of Evoked responses\")\n",
    "plt.axvline(x=4, color=\"red\", linestyle=\":\")\n",
    "plt.show()"
   ]
  },
  {
   "cell_type": "code",
   "execution_count": null,
   "id": "48807ab0",
   "metadata": {},
   "outputs": [],
   "source": [
    "print(f\"{len(IC1_selected_rois)} / {neuronwise_windows.shape[0]} ROIs selected\")\n",
    "show_many_responses(neuronwise_windows[IC5_selected_rois],\n",
    "                    3,\n",
    "                    8,\n",
    "                    title=\"Neuronwise Responses of Included ROIs (Criterion 5)\",\n",
    "                    subplot_title=\"ROI\",\n",
    "                    xlabel=\"time (s)\",\n",
    "                    ylabel=\"trial\",\n",
    "                    cbar_label=\"$\\Delta$F/F (%)\")"
   ]
  }
 ],
 "metadata": {
  "kernelspec": {
   "display_name": "Python 3 (ipykernel)",
   "language": "python",
   "name": "python3"
  },
  "language_info": {
   "codemirror_mode": {
    "name": "ipython",
    "version": 3
   },
   "file_extension": ".py",
   "mimetype": "text/x-python",
   "name": "python",
   "nbconvert_exporter": "python",
   "pygments_lexer": "ipython3",
   "version": "3.9.10"
  }
 },
 "nbformat": 4,
 "nbformat_minor": 5
}
