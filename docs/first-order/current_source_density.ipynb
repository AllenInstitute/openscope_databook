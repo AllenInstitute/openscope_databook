{
 "cells": [
  {
   "cell_type": "markdown",
   "id": "83b6daf1",
   "metadata": {},
   "source": [
    "# Current Source Density Analysis\n",
    "Current source density analysis (CSD) is a method of analysis of extracellular electric potential measurments recorded at multiple sites which produces estimates of current sources generating the measured potentials. Here, it is applied to our Ecephys Local Field Potential (LFP) measurements along a neuropixel probe to visualize how activity moves through the brain over time. In this notebook, we use **[Elephant](https://elephant.readthedocs.io/)**, an Electrophysiology Library for CSD Analysis.\n",
    "\n",
    "It is typically more useful to view CSD as an average across many stimulus trials for more visible results. In this notebook, stimulus times are used to average the LFP responses of several trials. To do this, the relevant stimulus times are selected from the `stimulus table`, then the LFP data is interpolated. Next, time windows of the trials are taken from the LFP data and averaged. Finally, the average LFP response is used as input to the CSD calculation."
   ]
  },
  {
   "cell_type": "markdown",
   "id": "3107221a",
   "metadata": {},
   "source": [
    "### Environment Setup"
   ]
  },
  {
   "cell_type": "code",
   "execution_count": 1,
   "id": "b774e083",
   "metadata": {},
   "outputs": [],
   "source": [
    "### if running on Google Colab, run this cell once, then restart the runtime and run the rest of the notebook\n",
    "import os\n",
    "if \"COLAB_GPU\" in os.environ:\n",
    "    !wget https://raw.githubusercontent.com/AllenInstitute/openscope_databook/main/requirements.txt\n",
    "    %pip install -r requirements.txt --user"
   ]
  },
  {
   "cell_type": "code",
   "execution_count": 2,
   "id": "22c0c7e6",
   "metadata": {},
   "outputs": [],
   "source": [
    "import matplotlib.pyplot as plt\n",
    "import numpy as np\n",
    "import quantities as pq\n",
    "\n",
    "from dandi import dandiapi\n",
    "from elephant.current_source_density import generate_lfp, estimate_csd\n",
    "from math import sqrt\n",
    "from neo import AnalogSignal\n",
    "from pynwb import NWBHDF5IO\n",
    "from scipy import interpolate"
   ]
  },
  {
   "cell_type": "markdown",
   "id": "02d99fbe",
   "metadata": {},
   "source": [
    "### Downloading Ecephys File\n",
    "For our data, we separate the LFP data for each probe into their own files since they are so large. The example file we use is from the Allen Institute's **Visual Coding - Neuropixels** dataset. To specify your own file to use, set `dandiset_id` and `dandi_filepath` to be the respective dandiset id and dandi filepath of the file you're interested in. When accessing an embargoed dataset, change `authenticate` to True and set `dandi_api_key` to be your DANDI API key."
   ]
  },
  {
   "cell_type": "code",
   "execution_count": 3,
   "id": "dbd02180",
   "metadata": {},
   "outputs": [],
   "source": [
    "dandiset_id = \"000021\"\n",
    "dandi_stim_filepath = \"sub-730756767/sub-730756767_ses-757970808.nwb\"\n",
    "dandi_lfp_filepath = \"sub-730756767/sub-730756767_ses-757970808_probe-769322852_ecephys.nwb\"\n",
    "download_loc = \".\"\n",
    "\n",
    "authenticate = False\n",
    "dandi_api_key = \"\""
   ]
  },
  {
   "cell_type": "code",
   "execution_count": 4,
   "id": "e97ce61e",
   "metadata": {},
   "outputs": [
    {
     "name": "stdout",
     "output_type": "stream",
     "text": [
      "Got dandiset DANDI:000021/draft\n"
     ]
    }
   ],
   "source": [
    "if authenticate:\n",
    "    client = dandiapi.DandiAPIClient(token=dandi_api_key)\n",
    "else:\n",
    "    client = dandiapi.DandiAPIClient()\n",
    "my_dandiset = client.get_dandiset(dandiset_id)\n",
<<<<<<< HEAD
    "print(f\"Got dandiset {my_dandiset}\")\n",
    "\n",
=======
    "print(f\"Got dandiset {my_dandiset}\")"
   ]
  },
  {
   "cell_type": "code",
   "execution_count": 5,
   "id": "4b50be66",
   "metadata": {},
   "outputs": [],
   "source": [
>>>>>>> 83737ec41f34c07e6dd1c7a5419898baa33630f2
    "stim_filename = dandi_stim_filepath.split(\"/\")[-1]\n",
    "lfp_filename = dandi_lfp_filepath.split(\"/\")[-1]\n",
    "stim_filepath = f\"{download_loc}/{stim_filename}\"\n",
    "lfp_filepath = f\"{download_loc}/{lfp_filename}\""
   ]
  },
  {
   "cell_type": "code",
   "execution_count": 6,
   "id": "d5d9ae59",
   "metadata": {
    "scrolled": true
   },
   "outputs": [
    {
     "name": "stdout",
     "output_type": "stream",
     "text": [
      "Downloaded file to ./sub-730756767_ses-757970808.nwb\n"
     ]
    }
   ],
   "source": [
    "file = my_dandiset.get_asset_by_path(dandi_stim_filepath)\n",
    "# this may take awhile, especially if the file to download is large\n",
    "file.download(stim_filepath)\n",
    "\n",
    "print(f\"Downloaded file to {stim_filepath}\")"
   ]
  },
  {
   "cell_type": "code",
   "execution_count": 7,
   "id": "f5ee9f5e",
   "metadata": {},
   "outputs": [
    {
     "name": "stdout",
     "output_type": "stream",
     "text": [
      "Downloaded file to ./sub-730756767_ses-757970808_probe-769322852_ecephys.nwb\n"
     ]
    }
   ],
   "source": [
    "file = my_dandiset.get_asset_by_path(dandi_lfp_filepath)\n",
    "# this may take awhile, especially if the file to download is large\n",
    "file.download(lfp_filepath)\n",
    "\n",
    "print(f\"Downloaded file to {lfp_filepath}\")"
   ]
  },
  {
   "cell_type": "markdown",
   "id": "edf45cfa",
   "metadata": {},
   "source": [
    "### Reading LFP Data and Stimulus Data\n",
    "Here, we read in the stimulus NWB file and the LFP NWB files. The LFP data is read from this file's probe data section. The `LFP` object contains a `data` array and a `timestamps` array which will be used."
   ]
  },
  {
   "cell_type": "code",
   "execution_count": 8,
   "id": "229ad3f0",
   "metadata": {},
   "outputs": [
    {
     "name": "stderr",
     "output_type": "stream",
     "text": [
      "c:\\Users\\carter.peene\\AppData\\Local\\Programs\\Python\\Python39\\lib\\site-packages\\hdmf\\spec\\namespace.py:531: UserWarning: Ignoring cached namespace 'hdmf-common' version 1.1.3 because version 1.5.1 is already loaded.\n",
      "  warn(\"Ignoring cached namespace '%s' version %s because version %s is already loaded.\"\n",
      "c:\\Users\\carter.peene\\AppData\\Local\\Programs\\Python\\Python39\\lib\\site-packages\\hdmf\\spec\\namespace.py:531: UserWarning: Ignoring cached namespace 'core' version 2.2.2 because version 2.6.0-alpha is already loaded.\n",
      "  warn(\"Ignoring cached namespace '%s' version %s because version %s is already loaded.\"\n"
     ]
    }
   ],
   "source": [
    "io = NWBHDF5IO(stim_filepath, mode=\"r\", load_namespaces=True)\n",
    "stim_nwb = io.read()\n",
    "\n",
    "io = NWBHDF5IO(lfp_filepath, mode=\"r\", load_namespaces=True)\n",
    "lfp_nwb = io.read()"
   ]
  },
  {
   "cell_type": "code",
   "execution_count": 9,
   "id": "a72a3390",
   "metadata": {},
   "outputs": [
    {
     "data": {
      "text/plain": [
       "probe_769322852_lfp_data pynwb.ecephys.ElectricalSeries at 0x1493262549488\n",
       "Fields:\n",
       "  comments: no comments\n",
       "  conversion: 1.0\n",
       "  data: <HDF5 dataset \"data\": shape (12085040, 89), type \"<f4\">\n",
       "  description: no description\n",
       "  electrodes: electrodes <class 'hdmf.common.table.DynamicTableRegion'>\n",
       "  interval: 1\n",
       "  offset: 0.0\n",
       "  resolution: -1.0\n",
       "  timestamps: <HDF5 dataset \"timestamps\": shape (12085040,), type \"<f8\">\n",
       "  timestamps_unit: seconds\n",
       "  unit: volts"
      ]
     },
     "execution_count": 9,
     "metadata": {},
     "output_type": "execute_result"
    }
   ],
   "source": [
    "lfp = lfp_nwb.acquisition[\"probe_769322852_lfp_data\"]\n",
    "lfp"
   ]
  },
  {
   "cell_type": "markdown",
   "id": "8a045fdf",
   "metadata": {},
   "source": [
    "### Extracting Stimulus Times\n",
    "First, you must take a stimulus table from your stimulus file. Since your stimulus table will be unique to your experiment, you'll have to use some ingenuity to extract the timestamps that are of interest to you. Below, the stimulus names of are displayed. Set `stim_name` to be the name that contains the associated stimulus table you want. Then we display the stimulus table. You can see that it contains the `start_time` of each stimulus event. Below, you can define `stim_select` to select individual rows of the table based on these properties. `stim_times` should be a list of timestamps."
   ]
  },
  {
   "cell_type": "code",
   "execution_count": 10,
   "id": "32efb54f",
   "metadata": {},
   "outputs": [
    {
     "data": {
      "text/plain": [
       "dict_keys(['drifting_gratings_presentations', 'flashes_presentations', 'gabors_presentations', 'natural_movie_one_presentations', 'natural_movie_three_presentations', 'natural_scenes_presentations', 'spontaneous_presentations', 'static_gratings_presentations'])"
      ]
     },
     "execution_count": 10,
     "metadata": {},
     "output_type": "execute_result"
    }
   ],
   "source": [
    "stim_nwb.intervals.keys()"
   ]
  },
  {
   "cell_type": "code",
   "execution_count": 11,
   "id": "13a3e14d",
   "metadata": {
    "tags": [
     "output_scroll"
    ]
   },
   "outputs": [
    {
     "data": {
      "text/html": [
       "<div>\n",
       "<style scoped>\n",
       "    .dataframe tbody tr th:only-of-type {\n",
       "        vertical-align: middle;\n",
       "    }\n",
       "\n",
       "    .dataframe tbody tr th {\n",
       "        vertical-align: top;\n",
       "    }\n",
       "\n",
       "    .dataframe thead th {\n",
       "        text-align: right;\n",
       "    }\n",
       "</style>\n",
       "<table border=\"1\" class=\"dataframe\">\n",
       "  <thead>\n",
       "    <tr style=\"text-align: right;\">\n",
       "      <th></th>\n",
       "      <th>start_time</th>\n",
       "      <th>stop_time</th>\n",
       "      <th>stimulus_name</th>\n",
       "      <th>stimulus_block</th>\n",
       "      <th>color</th>\n",
       "      <th>mask</th>\n",
       "      <th>opacity</th>\n",
       "      <th>phase</th>\n",
       "      <th>size</th>\n",
       "      <th>units</th>\n",
       "      <th>stimulus_index</th>\n",
       "      <th>orientation</th>\n",
       "      <th>spatial_frequency</th>\n",
       "      <th>contrast</th>\n",
       "      <th>tags</th>\n",
       "      <th>timeseries</th>\n",
       "    </tr>\n",
       "    <tr>\n",
       "      <th>id</th>\n",
       "      <th></th>\n",
       "      <th></th>\n",
       "      <th></th>\n",
       "      <th></th>\n",
       "      <th></th>\n",
       "      <th></th>\n",
       "      <th></th>\n",
       "      <th></th>\n",
       "      <th></th>\n",
       "      <th></th>\n",
       "      <th></th>\n",
       "      <th></th>\n",
       "      <th></th>\n",
       "      <th></th>\n",
       "      <th></th>\n",
       "      <th></th>\n",
       "    </tr>\n",
       "  </thead>\n",
       "  <tbody>\n",
       "    <tr>\n",
       "      <th>0</th>\n",
       "      <td>1285.577251</td>\n",
       "      <td>1285.827445</td>\n",
       "      <td>flashes</td>\n",
       "      <td>1.0</td>\n",
       "      <td>1.0</td>\n",
       "      <td>None</td>\n",
       "      <td>1.0</td>\n",
       "      <td>[0.0, 0.0]</td>\n",
       "      <td>[300.0, 300.0]</td>\n",
       "      <td>deg</td>\n",
       "      <td>1.0</td>\n",
       "      <td>0.0</td>\n",
       "      <td>[0.0, 0.0]</td>\n",
       "      <td>0.8</td>\n",
       "      <td>[stimulus_time_interval]</td>\n",
       "      <td>[(3647, 1, timestamps pynwb.base.TimeSeries at...</td>\n",
       "    </tr>\n",
       "    <tr>\n",
       "      <th>1</th>\n",
       "      <td>1287.578841</td>\n",
       "      <td>1287.829058</td>\n",
       "      <td>flashes</td>\n",
       "      <td>1.0</td>\n",
       "      <td>-1.0</td>\n",
       "      <td>None</td>\n",
       "      <td>1.0</td>\n",
       "      <td>[0.0, 0.0]</td>\n",
       "      <td>[300.0, 300.0]</td>\n",
       "      <td>deg</td>\n",
       "      <td>1.0</td>\n",
       "      <td>0.0</td>\n",
       "      <td>[0.0, 0.0]</td>\n",
       "      <td>0.8</td>\n",
       "      <td>[stimulus_time_interval]</td>\n",
       "      <td>[(3648, 1, timestamps pynwb.base.TimeSeries at...</td>\n",
       "    </tr>\n",
       "    <tr>\n",
       "      <th>2</th>\n",
       "      <td>1289.580531</td>\n",
       "      <td>1289.830745</td>\n",
       "      <td>flashes</td>\n",
       "      <td>1.0</td>\n",
       "      <td>-1.0</td>\n",
       "      <td>None</td>\n",
       "      <td>1.0</td>\n",
       "      <td>[0.0, 0.0]</td>\n",
       "      <td>[300.0, 300.0]</td>\n",
       "      <td>deg</td>\n",
       "      <td>1.0</td>\n",
       "      <td>0.0</td>\n",
       "      <td>[0.0, 0.0]</td>\n",
       "      <td>0.8</td>\n",
       "      <td>[stimulus_time_interval]</td>\n",
       "      <td>[(3649, 1, timestamps pynwb.base.TimeSeries at...</td>\n",
       "    </tr>\n",
       "    <tr>\n",
       "      <th>3</th>\n",
       "      <td>1291.582241</td>\n",
       "      <td>1291.832440</td>\n",
       "      <td>flashes</td>\n",
       "      <td>1.0</td>\n",
       "      <td>1.0</td>\n",
       "      <td>None</td>\n",
       "      <td>1.0</td>\n",
       "      <td>[0.0, 0.0]</td>\n",
       "      <td>[300.0, 300.0]</td>\n",
       "      <td>deg</td>\n",
       "      <td>1.0</td>\n",
       "      <td>0.0</td>\n",
       "      <td>[0.0, 0.0]</td>\n",
       "      <td>0.8</td>\n",
       "      <td>[stimulus_time_interval]</td>\n",
       "      <td>[(3650, 1, timestamps pynwb.base.TimeSeries at...</td>\n",
       "    </tr>\n",
       "    <tr>\n",
       "      <th>4</th>\n",
       "      <td>1293.583911</td>\n",
       "      <td>1293.834113</td>\n",
       "      <td>flashes</td>\n",
       "      <td>1.0</td>\n",
       "      <td>1.0</td>\n",
       "      <td>None</td>\n",
       "      <td>1.0</td>\n",
       "      <td>[0.0, 0.0]</td>\n",
       "      <td>[300.0, 300.0]</td>\n",
       "      <td>deg</td>\n",
       "      <td>1.0</td>\n",
       "      <td>0.0</td>\n",
       "      <td>[0.0, 0.0]</td>\n",
       "      <td>0.8</td>\n",
       "      <td>[stimulus_time_interval]</td>\n",
       "      <td>[(3651, 1, timestamps pynwb.base.TimeSeries at...</td>\n",
       "    </tr>\n",
       "    <tr>\n",
       "      <th>5</th>\n",
       "      <td>1295.585541</td>\n",
       "      <td>1295.835753</td>\n",
       "      <td>flashes</td>\n",
       "      <td>1.0</td>\n",
       "      <td>-1.0</td>\n",
       "      <td>None</td>\n",
       "      <td>1.0</td>\n",
       "      <td>[0.0, 0.0]</td>\n",
       "      <td>[300.0, 300.0]</td>\n",
       "      <td>deg</td>\n",
       "      <td>1.0</td>\n",
       "      <td>0.0</td>\n",
       "      <td>[0.0, 0.0]</td>\n",
       "      <td>0.8</td>\n",
       "      <td>[stimulus_time_interval]</td>\n",
       "      <td>[(3652, 1, timestamps pynwb.base.TimeSeries at...</td>\n",
       "    </tr>\n",
       "    <tr>\n",
       "      <th>6</th>\n",
       "      <td>1297.587271</td>\n",
       "      <td>1297.837468</td>\n",
       "      <td>flashes</td>\n",
       "      <td>1.0</td>\n",
       "      <td>-1.0</td>\n",
       "      <td>None</td>\n",
       "      <td>1.0</td>\n",
       "      <td>[0.0, 0.0]</td>\n",
       "      <td>[300.0, 300.0]</td>\n",
       "      <td>deg</td>\n",
       "      <td>1.0</td>\n",
       "      <td>0.0</td>\n",
       "      <td>[0.0, 0.0]</td>\n",
       "      <td>0.8</td>\n",
       "      <td>[stimulus_time_interval]</td>\n",
       "      <td>[(3653, 1, timestamps pynwb.base.TimeSeries at...</td>\n",
       "    </tr>\n",
       "    <tr>\n",
       "      <th>7</th>\n",
       "      <td>1299.588921</td>\n",
       "      <td>1299.839125</td>\n",
       "      <td>flashes</td>\n",
       "      <td>1.0</td>\n",
       "      <td>1.0</td>\n",
       "      <td>None</td>\n",
       "      <td>1.0</td>\n",
       "      <td>[0.0, 0.0]</td>\n",
       "      <td>[300.0, 300.0]</td>\n",
       "      <td>deg</td>\n",
       "      <td>1.0</td>\n",
       "      <td>0.0</td>\n",
       "      <td>[0.0, 0.0]</td>\n",
       "      <td>0.8</td>\n",
       "      <td>[stimulus_time_interval]</td>\n",
       "      <td>[(3654, 1, timestamps pynwb.base.TimeSeries at...</td>\n",
       "    </tr>\n",
       "    <tr>\n",
       "      <th>8</th>\n",
       "      <td>1301.590591</td>\n",
       "      <td>1301.840795</td>\n",
       "      <td>flashes</td>\n",
       "      <td>1.0</td>\n",
       "      <td>-1.0</td>\n",
       "      <td>None</td>\n",
       "      <td>1.0</td>\n",
       "      <td>[0.0, 0.0]</td>\n",
       "      <td>[300.0, 300.0]</td>\n",
       "      <td>deg</td>\n",
       "      <td>1.0</td>\n",
       "      <td>0.0</td>\n",
       "      <td>[0.0, 0.0]</td>\n",
       "      <td>0.8</td>\n",
       "      <td>[stimulus_time_interval]</td>\n",
       "      <td>[(3655, 1, timestamps pynwb.base.TimeSeries at...</td>\n",
       "    </tr>\n",
       "    <tr>\n",
       "      <th>9</th>\n",
       "      <td>1303.592261</td>\n",
       "      <td>1303.842470</td>\n",
       "      <td>flashes</td>\n",
       "      <td>1.0</td>\n",
       "      <td>-1.0</td>\n",
       "      <td>None</td>\n",
       "      <td>1.0</td>\n",
       "      <td>[0.0, 0.0]</td>\n",
       "      <td>[300.0, 300.0]</td>\n",
       "      <td>deg</td>\n",
       "      <td>1.0</td>\n",
       "      <td>0.0</td>\n",
       "      <td>[0.0, 0.0]</td>\n",
       "      <td>0.8</td>\n",
       "      <td>[stimulus_time_interval]</td>\n",
       "      <td>[(3656, 1, timestamps pynwb.base.TimeSeries at...</td>\n",
       "    </tr>\n",
       "  </tbody>\n",
       "</table>\n",
       "</div>"
      ],
      "text/plain": [
       "     start_time    stop_time stimulus_name  stimulus_block color  mask  \\\n",
       "id                                                                       \n",
       "0   1285.577251  1285.827445       flashes             1.0   1.0  None   \n",
       "1   1287.578841  1287.829058       flashes             1.0  -1.0  None   \n",
       "2   1289.580531  1289.830745       flashes             1.0  -1.0  None   \n",
       "3   1291.582241  1291.832440       flashes             1.0   1.0  None   \n",
       "4   1293.583911  1293.834113       flashes             1.0   1.0  None   \n",
       "5   1295.585541  1295.835753       flashes             1.0  -1.0  None   \n",
       "6   1297.587271  1297.837468       flashes             1.0  -1.0  None   \n",
       "7   1299.588921  1299.839125       flashes             1.0   1.0  None   \n",
       "8   1301.590591  1301.840795       flashes             1.0  -1.0  None   \n",
       "9   1303.592261  1303.842470       flashes             1.0  -1.0  None   \n",
       "\n",
       "    opacity       phase            size units  stimulus_index  orientation  \\\n",
       "id                                                                           \n",
       "0       1.0  [0.0, 0.0]  [300.0, 300.0]   deg             1.0          0.0   \n",
       "1       1.0  [0.0, 0.0]  [300.0, 300.0]   deg             1.0          0.0   \n",
       "2       1.0  [0.0, 0.0]  [300.0, 300.0]   deg             1.0          0.0   \n",
       "3       1.0  [0.0, 0.0]  [300.0, 300.0]   deg             1.0          0.0   \n",
       "4       1.0  [0.0, 0.0]  [300.0, 300.0]   deg             1.0          0.0   \n",
       "5       1.0  [0.0, 0.0]  [300.0, 300.0]   deg             1.0          0.0   \n",
       "6       1.0  [0.0, 0.0]  [300.0, 300.0]   deg             1.0          0.0   \n",
       "7       1.0  [0.0, 0.0]  [300.0, 300.0]   deg             1.0          0.0   \n",
       "8       1.0  [0.0, 0.0]  [300.0, 300.0]   deg             1.0          0.0   \n",
       "9       1.0  [0.0, 0.0]  [300.0, 300.0]   deg             1.0          0.0   \n",
       "\n",
       "   spatial_frequency  contrast                      tags  \\\n",
       "id                                                         \n",
       "0         [0.0, 0.0]       0.8  [stimulus_time_interval]   \n",
       "1         [0.0, 0.0]       0.8  [stimulus_time_interval]   \n",
       "2         [0.0, 0.0]       0.8  [stimulus_time_interval]   \n",
       "3         [0.0, 0.0]       0.8  [stimulus_time_interval]   \n",
       "4         [0.0, 0.0]       0.8  [stimulus_time_interval]   \n",
       "5         [0.0, 0.0]       0.8  [stimulus_time_interval]   \n",
       "6         [0.0, 0.0]       0.8  [stimulus_time_interval]   \n",
       "7         [0.0, 0.0]       0.8  [stimulus_time_interval]   \n",
       "8         [0.0, 0.0]       0.8  [stimulus_time_interval]   \n",
       "9         [0.0, 0.0]       0.8  [stimulus_time_interval]   \n",
       "\n",
       "                                           timeseries  \n",
       "id                                                     \n",
       "0   [(3647, 1, timestamps pynwb.base.TimeSeries at...  \n",
       "1   [(3648, 1, timestamps pynwb.base.TimeSeries at...  \n",
       "2   [(3649, 1, timestamps pynwb.base.TimeSeries at...  \n",
       "3   [(3650, 1, timestamps pynwb.base.TimeSeries at...  \n",
       "4   [(3651, 1, timestamps pynwb.base.TimeSeries at...  \n",
       "5   [(3652, 1, timestamps pynwb.base.TimeSeries at...  \n",
       "6   [(3653, 1, timestamps pynwb.base.TimeSeries at...  \n",
       "7   [(3654, 1, timestamps pynwb.base.TimeSeries at...  \n",
       "8   [(3655, 1, timestamps pynwb.base.TimeSeries at...  \n",
       "9   [(3656, 1, timestamps pynwb.base.TimeSeries at...  "
      ]
     },
     "execution_count": 11,
     "metadata": {},
     "output_type": "execute_result"
    }
   ],
   "source": [
    "stim_name = \"flashes_presentations\"\n",
    "stim_table = stim_nwb.intervals[stim_name]\n",
    "stim_table[:10]"
   ]
  },
  {
   "cell_type": "code",
   "execution_count": 12,
   "id": "7f1b1008",
   "metadata": {},
   "outputs": [
    {
     "data": {
      "text/plain": [
       "150"
      ]
     },
     "execution_count": 12,
     "metadata": {},
     "output_type": "execute_result"
    }
   ],
   "source": [
    "### select start times from table that fit certain critera here\n",
    "\n",
    "stim_select = lambda row: True\n",
    "all_stim_times = [float(row.start_time) for row in stim_table if stim_select(row)]\n",
    "len(all_stim_times)"
   ]
  },
  {
   "cell_type": "markdown",
   "id": "7a9c3432",
   "metadata": {},
   "source": [
    "### Selecting a Period\n",
    "Oftentimes, the LFP data can be very large. Depending on the machine this analysis is performed on, there may not be enough memory to the following interpolation. This can be mitigated in two ways. Firstly, the `interp_hz` variable in the following section can be decreased. Otherwise, the analysis can be performed with some smaller period of time within the LFP data. If you wish to do this, set `period_start` and `period_end` to be reasonable times (in seconds) within the experiment to look at. Below are printed the first and last timestamps from the stimulus data and LFP data to inform this choice."
   ]
  },
  {
   "cell_type": "code",
   "execution_count": 13,
   "id": "b2c3813c",
   "metadata": {},
   "outputs": [
    {
     "name": "stdout",
     "output_type": "stream",
     "text": [
      "1285.5772508695136\n",
      "1583.8263808695135\n",
      "3.727534675412933\n",
      "9671.771044169622\n"
     ]
    }
   ],
   "source": [
    "print(all_stim_times[0])\n",
    "print(all_stim_times[-1])\n",
    "print(lfp.timestamps[0])\n",
    "print(lfp.timestamps[-1])"
   ]
  },
  {
   "cell_type": "code",
   "execution_count": 14,
   "id": "c9786888",
   "metadata": {},
   "outputs": [],
   "source": [
    "# period_start = lfp.timestamps[0]\n",
    "period_start = 1280\n",
    "# period_end = lfp.timestamps[-1]\n",
    "period_end = 1590"
   ]
  },
  {
   "cell_type": "code",
   "execution_count": 15,
   "id": "217762a5",
   "metadata": {},
   "outputs": [],
   "source": [
    "# filter stim_timestamps to just timestamps within period\n",
    "stim_times = np.array([ts for ts in all_stim_times if ts >= period_start and ts <= period_end])\n",
    "if len(stim_times) == 0:\n",
    "    raise ValueError(\"There are no stimulus timestamps in that period\")"
   ]
  },
  {
   "cell_type": "code",
   "execution_count": 16,
   "id": "04ad7533",
   "metadata": {},
   "outputs": [],
   "source": [
    "# find indices within lfp data that correspond to period bounds\n",
    "period_start_idx, period_end_idx = None, None\n",
    "for i, ts in enumerate(lfp.timestamps):\n",
    "    if not period_start_idx and ts >= period_start:\n",
    "        period_start_idx = i\n",
    "    if period_start_idx and ts >= period_end:\n",
    "        period_end_idx = i\n",
    "        break\n",
    "\n",
    "if period_start_idx == None or period_end_idx == None:\n",
    "    raise ValueError(\"Period bounds not found within lfp data\")\n",
    "\n",
    "# get slice of LFP data corresponding to the period bounds\n",
    "lfp_timestamps = lfp.timestamps[period_start_idx:period_end_idx]\n",
    "lfp_data = lfp.data[period_start_idx:period_end_idx]"
   ]
  },
  {
   "cell_type": "code",
   "execution_count": 17,
   "id": "2e09d807",
   "metadata": {},
   "outputs": [
    {
     "name": "stdout",
     "output_type": "stream",
     "text": [
      "(150,)\n",
      "(387500,)\n",
      "(387500, 89)\n"
     ]
    }
   ],
   "source": [
    "print(stim_times.shape)\n",
    "print(lfp_timestamps.shape)\n",
    "print(lfp_data.shape)"
   ]
  },
  {
   "cell_type": "markdown",
   "id": "36dacc62",
   "metadata": {},
   "source": [
    "### LFP Interpolation\n",
    "Because we cannot be certain that the LFP trace is at a perfectly regular Hz, we will interpolate it to be able to compare stimulus timestamps to their approximate LFP times. After you have a valid list of stimulus timestamps, you can generate a linearly-spaced timestamp array called `time_axis`, and interpolate the LFP data along it, making interpolated LFP data called `interp_lfp`. This should be a 2D array with dimensions `time` and `channel`, where channels are the different measurement channels along the probe. Here, the timestamps are interpolated to 250 Hertz, but you can change this by setting `interp_hz`."
   ]
  },
  {
   "cell_type": "code",
   "execution_count": 18,
   "id": "abe4ea1c",
   "metadata": {},
   "outputs": [],
   "source": [
    "interp_hz = 250"
   ]
  },
  {
   "cell_type": "code",
   "execution_count": 19,
   "id": "a8515064",
   "metadata": {},
   "outputs": [
    {
     "name": "stdout",
     "output_type": "stream",
     "text": [
      "(387500,)\n",
      "(387500, 89)\n"
     ]
    }
   ],
   "source": [
    "print(lfp_timestamps.shape)\n",
    "print(lfp_data.shape)"
   ]
  },
  {
   "cell_type": "code",
   "execution_count": 20,
   "id": "0751b9a0",
   "metadata": {},
   "outputs": [
    {
     "name": "stdout",
     "output_type": "stream",
     "text": [
      "(89, 77500)\n"
     ]
    }
   ],
   "source": [
    "# generate regularly-space x values and interpolate along it\n",
    "time_axis = np.arange(lfp_timestamps[0], lfp_timestamps[-1], step=(1/interp_hz))\n",
    "interp_lfp = []\n",
    "\n",
    "# interpolate channel by channel to save RAM\n",
    "for channel in range(lfp_data.shape[1]):\n",
    "    f = interpolate.interp1d(lfp_timestamps, lfp_data[:,channel], axis=0, kind=\"nearest\", fill_value=\"extrapolate\")\n",
    "    interp_lfp.append(f(time_axis))\n",
    "\n",
    "interp_lfp = np.array(interp_lfp)\n",
    "# interp_lfp = np.transpose(interp_channels)\n",
    "\n",
    "print(interp_lfp.shape)"
   ]
  },
  {
   "cell_type": "markdown",
   "id": "10f913a8",
   "metadata": {},
   "source": [
    "### Getting Stimulus Time Windows\n",
    "Now that you have your interpolated LFP data, you can use the stimulus times to identify the windows of time in the LFP data that exist around a stimulus event. Since the LFP data have been interpolated, we can easily translate timestamps to indices within the LFP trace array. Set `window_start_time` to be a negative number, representing the seconds before the stimulus event and `window_end_time` to be number of seconds afterward. Then the `windows` array will be generated as a set of slices of the `interp_lfp` trace by using `interp_hz` to convert seconds to array indices. These will be averaged out for each measurement channel, and a confidence interval will be calculated."
   ]
  },
  {
   "cell_type": "code",
   "execution_count": 21,
   "id": "7ef81062",
   "metadata": {},
   "outputs": [],
   "source": [
    "window_start_time = -0.05\n",
    "window_end_time = 0.2"
   ]
  },
  {
   "cell_type": "code",
   "execution_count": 22,
   "id": "3884ac14",
   "metadata": {},
   "outputs": [
    {
     "name": "stdout",
     "output_type": "stream",
     "text": [
      "(150, 89, 62)\n"
     ]
    }
   ],
   "source": [
    "# validate window bounds\n",
    "if window_start_time > 0:\n",
    "    raise ValueError(\"start time must be non-positive number\")\n",
    "if window_end_time <= 0:\n",
    "    raise ValueError(\"end time must be positive number\")\n",
    "    \n",
    "# get event windows\n",
    "windows = []\n",
    "window_length = int((window_end_time-window_start_time) * interp_hz)\n",
    "\n",
    "for stim_ts in stim_times:\n",
    "    # convert time to index\n",
    "    start_idx = int( (stim_ts + window_start_time - lfp_timestamps[0]) * interp_hz )\n",
    "    end_idx = start_idx + window_length\n",
    " \n",
    "    # bounds checking\n",
    "    if start_idx < 0 or end_idx > interp_lfp.shape[1]:\n",
    "        continue\n",
    "        \n",
    "    windows.append(interp_lfp[:,start_idx:end_idx])\n",
    "    \n",
    "if len(windows) == 0:\n",
    "    raise ValueError(\"There are no windows for these timestamps\")\n",
    "\n",
    "windows = np.array(windows)\n",
    "print(windows.shape)"
   ]
  },
  {
   "cell_type": "markdown",
   "id": "03763a52",
   "metadata": {},
   "source": [
    "### Window Display Function\n",
    "Here we define a function to display a stimulus response plot with axis labels and window time bounds. Below it is used to show a single LFP response window to the first stimulus timestamp. This function will be used to display the average LFP response to stimulus and the average CSD response to stimulus."
   ]
  },
  {
   "cell_type": "code",
   "execution_count": 23,
   "id": "98a64ee7",
   "metadata": {},
   "outputs": [
    {
     "name": "stdout",
     "output_type": "stream",
     "text": [
      "(89, 62)\n"
     ]
    }
   ],
   "source": [
    "# get average of all windows\n",
    "average_trace = np.average(windows, axis=0)\n",
    "print(average_trace.shape)"
   ]
  },
  {
   "cell_type": "code",
   "execution_count": 25,
   "id": "3256fe52",
   "metadata": {},
   "outputs": [
    {
     "data": {
      "image/png": "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",
      "text/plain": [
       "<Figure size 600x600 with 2 Axes>"
      ]
     },
     "metadata": {},
     "output_type": "display_data"
    }
   ],
   "source": [
    "display_response_window(average_trace[::-1],\n",
    "                        window_start_time,\n",
    "                        window_end_time,\n",
    "                        title=\"Average LFP Response To Stimulus\",\n",
    "                        xlabel=\"Time relative to stimulus onset (s)\",\n",
    "                        ylabel=\"Approximate distance along probe (μm), \\n[low values toward surface]\",\n",
    "                        cbar_label=\"Volts\")"
   ]
  },
  {
   "cell_type": "markdown",
   "id": "ee919cb9",
   "metadata": {},
   "source": [
    "### Using Elephant to Estimate CSD\n",
    "**Elephant** takes input in the form of a **Neo** *AnalogSignal*. Before analysis, we transform the average LFP response window into an *AnalogSignal* object and use it as input, in addition to the `hz` valueas the `sampling_rate` of the data, and a list of numbers, `coords` representing the channels of the LFP data. After this, it is as simple as calling `estimate_csd`."
   ]
  },
  {
   "cell_type": "code",
   "execution_count": 24,
   "id": "e1ba8b18",
   "metadata": {},
   "outputs": [],
   "source": [
    "coords = [(elem,) for elem in range(average_trace.shape[0])]\n",
    "neo_lfp = AnalogSignal(average_trace.transpose(), units=\"V\", sampling_rate = interp_hz*pq.Hz)\n",
    "neo_lfp.annotate(coordinates = coords * pq.mm)"
   ]
  },
  {
   "cell_type": "code",
   "execution_count": 25,
   "id": "6e3acf4d",
   "metadata": {
    "scrolled": true
   },
   "outputs": [
    {
     "name": "stdout",
     "output_type": "stream",
     "text": [
      "No lambda given, using defaults\n",
      "Cross validating R (all lambda) : 0.23\n",
      "R, lambda : 0.23 0.00012115276586285876\n"
     ]
    },
    {
     "data": {
      "text/plain": [
       "(62, 100)"
      ]
     },
     "execution_count": 25,
     "metadata": {},
     "output_type": "execute_result"
    }
   ],
   "source": [
    "# this takes a while\n",
    "csd = np.array(estimate_csd(neo_lfp, method=\"KCSD1D\"))\n",
    "csd.shape"
   ]
  },
  {
   "cell_type": "markdown",
   "id": "45a3539a",
   "metadata": {},
   "source": [
    "### Displaying Current Source Density\n",
    "The current source density over time can be shown below with **matplotlib's** `imshow` method."
   ]
  },
  {
   "cell_type": "code",
   "execution_count": 26,
   "id": "203afff7",
   "metadata": {},
   "outputs": [
    {
     "data": {
<<<<<<< HEAD
=======
      "text/plain": [
       "Text(0, 0.5, 'Approximate distance along probe (μm), \\n[low values toward surface]')"
      ]
     },
     "execution_count": 26,
     "metadata": {},
     "output_type": "execute_result"
    },
    {
     "data": {
      "image/png": "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",
      "text/plain": [
       "<Figure size 600x600 with 2 Axes>"
      ]
     },
     "metadata": {},
     "output_type": "display_data"
    }
   ],
   "source": [
    "display_response_window(csd.transpose()[::-1],\n",
    "                        window_start_time,\n",
    "                        window_end_time,\n",
    "                        title=\"Current Source Density Over Time\",\n",
    "                        xlabel=\"Time relative to stimulus onset (s)\",\n",
    "                        ylabel=\"Approximate distance along probe (μm), \\n[low values toward surface]\",\n",
    "                        cbar_label=\"V / μm²\",\n",
    "                        vmin=-0.05,\n",
    "                        vmax=0.05)"
   ]
  }
 ],
 "metadata": {
  "kernelspec": {
   "display_name": "Python 3 (ipykernel)",
   "language": "python",
   "name": "python3"
  },
  "language_info": {
   "codemirror_mode": {
    "name": "ipython",
    "version": 3
   },
   "file_extension": ".py",
   "mimetype": "text/x-python",
   "name": "python",
   "nbconvert_exporter": "python",
   "pygments_lexer": "ipython3",
   "version": "3.8.16"
  }
 },
 "nbformat": 4,
 "nbformat_minor": 5
}
