{
 "cells": [
  {
   "cell_type": "markdown",
   "id": "83b6daf1",
   "metadata": {},
   "source": [
    "# Current Source Density Analysis\n",
    "Current source density analysis (CSD) is a method of analysis of extracellular electric potential measurments recorded at multiple sites which produces estimates of current sources generating the measured potentials. Here, it is applied to our Ecephys Local Field Potential (LFP) measurements along a neuropixel probe to visualize how activity moves through the brain over time. In this notebook, we use **[Elephant](https://elephant.readthedocs.io/)**, an Electrophysiology Library for CSD Analysis.\n",
    "\n",
    "It is typically more useful to view CSD as an average across many stimulus trials for more visible results. In this notebook, stimulus times are used to average the LFP responses of several trials. To do this, the relevant stimulus times are selected from the `stimulus table`, then the LFP data is interpolated. Next, time windows of the trials are taken from the LFP data and averaged. Finally, the average LFP response is used as input to the CSD calculation."
   ]
  },
  {
   "cell_type": "markdown",
   "id": "3107221a",
   "metadata": {},
   "source": [
    "### Environment Setup"
   ]
  },
  {
   "cell_type": "code",
   "execution_count": 1,
   "id": "22c0c7e6",
   "metadata": {},
   "outputs": [],
   "source": [
    "import matplotlib.pyplot as plt\n",
    "import numpy as np\n",
    "import quantities as pq\n",
    "\n",
    "from dandi import dandiapi\n",
    "from elephant.current_source_density import generate_lfp, estimate_csd\n",
    "from math import sqrt\n",
    "from neo import AnalogSignal\n",
    "from pynwb import NWBHDF5IO\n",
    "from scipy import interpolate"
   ]
  },
  {
   "cell_type": "markdown",
   "id": "02d99fbe",
   "metadata": {},
   "source": [
    "### Downloading Ecephys File\n",
    "For our data, we separate the LFP data for each probe into their own files since they are so large. The example file we use is from the Allen Institute's **Visual Coding - Neuropixels** dataset. To specify your own file to use, set `dandiset_id` and `dandi_filepath` to be the respective dandiset id and dandi filepath of the file you're interested in. When accessing an embargoed dataset, change `authenticate` to True and set `dandi_api_key` to be your DANDI API key."
   ]
  },
  {
   "cell_type": "code",
   "execution_count": 2,
   "id": "dbd02180",
   "metadata": {},
   "outputs": [],
   "source": [
    "dandiset_id = \"000021\"\n",
    "dandi_stim_filepath = \"sub-730756767/sub-730756767_ses-757970808.nwb\"\n",
    "dandi_lfp_filepath = \"sub-730756767/sub-730756767_ses-757970808_probe-769322852_ecephys.nwb\"\n",
    "download_loc = \".\"\n",
    "\n",
    "authenticate = False\n",
    "dandi_api_key = \"\""
   ]
  },
  {
   "cell_type": "code",
   "execution_count": 3,
   "id": "e97ce61e",
   "metadata": {},
   "outputs": [
    {
     "name": "stderr",
     "output_type": "stream",
     "text": [
      "A newer version (0.51.0) of dandi/dandi-cli is available. You are using 0.46.6\n"
     ]
    },
    {
     "name": "stdout",
     "output_type": "stream",
     "text": [
      "Got dandiset DANDI:000021/draft\n"
     ]
    }
   ],
   "source": [
    "if authenticate:\n",
    "    client = dandiapi.DandiAPIClient(token=dandi_api_key)\n",
    "else:\n",
    "    client = dandiapi.DandiAPIClient()\n",
    "my_dandiset = client.get_dandiset(dandiset_id)\n",
    "print(f\"Got dandiset {my_dandiset}\")"
   ]
  },
  {
   "cell_type": "code",
   "execution_count": 4,
   "id": "4b50be66",
   "metadata": {},
   "outputs": [],
   "source": [
    "stim_filename = dandi_stim_filepath.split(\"/\")[-1]\n",
    "lfp_filename = dandi_lfp_filepath.split(\"/\")[-1]\n",
    "stim_filepath = f\"{download_loc}/{stim_filename}\"\n",
    "lfp_filepath = f\"{download_loc}/{lfp_filename}\""
   ]
  },
  {
   "cell_type": "code",
   "execution_count": 5,
   "id": "d5d9ae59",
   "metadata": {
    "scrolled": true
   },
   "outputs": [
    {
     "name": "stdout",
     "output_type": "stream",
     "text": [
      "Downloaded file to ./sub-730756767_ses-757970808.nwb\n"
     ]
    }
   ],
   "source": [
    "file = my_dandiset.get_asset_by_path(dandi_stim_filepath)\n",
    "# this may take awhile, especially if the file to download is large\n",
    "file.download(dandi_stim_filepath)\n",
    "\n",
    "print(f\"Downloaded file to {stim_filepath}\")"
   ]
  },
  {
   "cell_type": "code",
   "execution_count": 6,
   "id": "f5ee9f5e",
   "metadata": {},
   "outputs": [
    {
     "name": "stdout",
     "output_type": "stream",
     "text": [
      "Downloaded file to ./sub-730756767_ses-757970808_probe-769322852_ecephys.nwb\n"
     ]
    }
   ],
   "source": [
    "file = my_dandiset.get_asset_by_path(dandi_lfp_filepath)\n",
    "# this may take awhile, especially if the file to download is large\n",
    "file.download(dandi_lfp_filepath)\n",
    "\n",
    "print(f\"Downloaded file to {lfp_filepath}\")"
   ]
  },
  {
   "cell_type": "markdown",
   "id": "edf45cfa",
   "metadata": {},
   "source": [
    "### Reading LFP Data and Stimulus Data\n",
    "Here, we read in the stimulus NWB file and the LFP NWB files. The LFP data is read from this file's probe data section. The `LFP` object contains a `data` array and a `timestamps` array which will be used."
   ]
  },
  {
   "cell_type": "code",
   "execution_count": 7,
   "id": "229ad3f0",
   "metadata": {},
   "outputs": [
    {
     "name": "stderr",
     "output_type": "stream",
     "text": [
      "C:\\Users\\carter.peene\\AppData\\Local\\Programs\\Python\\Python39\\lib\\site-packages\\hdmf\\spec\\namespace.py:531: UserWarning: Ignoring cached namespace 'hdmf-common' version 1.1.3 because version 1.5.1 is already loaded.\n",
      "  warn(\"Ignoring cached namespace '%s' version %s because version %s is already loaded.\"\n",
      "C:\\Users\\carter.peene\\AppData\\Local\\Programs\\Python\\Python39\\lib\\site-packages\\hdmf\\spec\\namespace.py:531: UserWarning: Ignoring cached namespace 'core' version 2.2.2 because version 2.6.0-alpha is already loaded.\n",
      "  warn(\"Ignoring cached namespace '%s' version %s because version %s is already loaded.\"\n"
     ]
    }
   ],
   "source": [
    "io = NWBHDF5IO(stim_filepath, mode=\"r\", load_namespaces=True)\n",
    "stim_nwb = io.read()\n",
    "\n",
    "io = NWBHDF5IO(lfp_filepath, mode=\"r\", load_namespaces=True)\n",
    "lfp_nwb = io.read()"
   ]
  },
  {
   "cell_type": "code",
   "execution_count": 8,
   "id": "a72a3390",
   "metadata": {},
   "outputs": [
    {
     "data": {
      "text/plain": [
       "probe_769322852_lfp_data pynwb.ecephys.ElectricalSeries at 0x1962443235136\n",
       "Fields:\n",
       "  comments: no comments\n",
       "  conversion: 1.0\n",
       "  data: <HDF5 dataset \"data\": shape (12085040, 89), type \"<f4\">\n",
       "  description: no description\n",
       "  electrodes: electrodes <class 'hdmf.common.table.DynamicTableRegion'>\n",
       "  interval: 1\n",
       "  offset: 0.0\n",
       "  resolution: -1.0\n",
       "  timestamps: <HDF5 dataset \"timestamps\": shape (12085040,), type \"<f8\">\n",
       "  timestamps_unit: seconds\n",
       "  unit: volts"
      ]
     },
     "execution_count": 8,
     "metadata": {},
     "output_type": "execute_result"
    }
   ],
   "source": [
    "lfp = lfp_nwb.acquisition[\"probe_769322852_lfp_data\"]\n",
    "lfp"
   ]
  },
  {
   "cell_type": "markdown",
   "id": "8a045fdf",
   "metadata": {},
   "source": [
    "### Extracting Stimulus Times\n",
    "First, you must take a stimulus table from your stimulus file. Since your stimulus table will be unique to your experiment, you'll have to use some ingenuity to extract the timestamps that are of interest to you. Below, the stimulus names of are displayed. Set `stim_name` to be the name that contains the associated stimulus table you want. Then we display the stimulus table. You can see that it contains the `start_time` of each stimulus event. Below, you can define `stim_select` to select individual rows of the table based on these properties. `stim_times` should be a list of timestamps."
   ]
  },
  {
   "cell_type": "code",
   "execution_count": 9,
   "id": "32efb54f",
   "metadata": {},
   "outputs": [
    {
     "data": {
      "text/plain": [
       "dict_keys(['drifting_gratings_presentations', 'flashes_presentations', 'gabors_presentations', 'natural_movie_one_presentations', 'natural_movie_three_presentations', 'natural_scenes_presentations', 'spontaneous_presentations', 'static_gratings_presentations'])"
      ]
     },
     "execution_count": 9,
     "metadata": {},
     "output_type": "execute_result"
    }
   ],
   "source": [
    "stim_nwb.intervals.keys()"
   ]
  },
  {
   "cell_type": "code",
   "execution_count": 10,
   "id": "13a3e14d",
   "metadata": {},
   "outputs": [
    {
     "data": {
      "text/html": [
       "<div>\n",
       "<style scoped>\n",
       "    .dataframe tbody tr th:only-of-type {\n",
       "        vertical-align: middle;\n",
       "    }\n",
       "\n",
       "    .dataframe tbody tr th {\n",
       "        vertical-align: top;\n",
       "    }\n",
       "\n",
       "    .dataframe thead th {\n",
       "        text-align: right;\n",
       "    }\n",
       "</style>\n",
       "<table border=\"1\" class=\"dataframe\">\n",
       "  <thead>\n",
       "    <tr style=\"text-align: right;\">\n",
       "      <th></th>\n",
       "      <th>start_time</th>\n",
       "      <th>stop_time</th>\n",
       "      <th>stimulus_name</th>\n",
       "      <th>stimulus_block</th>\n",
       "      <th>color</th>\n",
       "      <th>mask</th>\n",
       "      <th>opacity</th>\n",
       "      <th>phase</th>\n",
       "      <th>size</th>\n",
       "      <th>units</th>\n",
       "      <th>stimulus_index</th>\n",
       "      <th>orientation</th>\n",
       "      <th>spatial_frequency</th>\n",
       "      <th>contrast</th>\n",
       "      <th>tags</th>\n",
       "      <th>timeseries</th>\n",
       "    </tr>\n",
       "    <tr>\n",
       "      <th>id</th>\n",
       "      <th></th>\n",
       "      <th></th>\n",
       "      <th></th>\n",
       "      <th></th>\n",
       "      <th></th>\n",
       "      <th></th>\n",
       "      <th></th>\n",
       "      <th></th>\n",
       "      <th></th>\n",
       "      <th></th>\n",
       "      <th></th>\n",
       "      <th></th>\n",
       "      <th></th>\n",
       "      <th></th>\n",
       "      <th></th>\n",
       "      <th></th>\n",
       "    </tr>\n",
       "  </thead>\n",
       "  <tbody>\n",
       "    <tr>\n",
       "      <th>0</th>\n",
       "      <td>1285.577251</td>\n",
       "      <td>1285.827445</td>\n",
       "      <td>flashes</td>\n",
       "      <td>1.0</td>\n",
       "      <td>1.0</td>\n",
       "      <td>None</td>\n",
       "      <td>1.0</td>\n",
       "      <td>[0.0, 0.0]</td>\n",
       "      <td>[300.0, 300.0]</td>\n",
       "      <td>deg</td>\n",
       "      <td>1.0</td>\n",
       "      <td>0.0</td>\n",
       "      <td>[0.0, 0.0]</td>\n",
       "      <td>0.8</td>\n",
       "      <td>[stimulus_time_interval]</td>\n",
       "      <td>[(3647, 1, timestamps pynwb.base.TimeSeries at...</td>\n",
       "    </tr>\n",
       "    <tr>\n",
       "      <th>1</th>\n",
       "      <td>1287.578841</td>\n",
       "      <td>1287.829058</td>\n",
       "      <td>flashes</td>\n",
       "      <td>1.0</td>\n",
       "      <td>-1.0</td>\n",
       "      <td>None</td>\n",
       "      <td>1.0</td>\n",
       "      <td>[0.0, 0.0]</td>\n",
       "      <td>[300.0, 300.0]</td>\n",
       "      <td>deg</td>\n",
       "      <td>1.0</td>\n",
       "      <td>0.0</td>\n",
       "      <td>[0.0, 0.0]</td>\n",
       "      <td>0.8</td>\n",
       "      <td>[stimulus_time_interval]</td>\n",
       "      <td>[(3648, 1, timestamps pynwb.base.TimeSeries at...</td>\n",
       "    </tr>\n",
       "    <tr>\n",
       "      <th>2</th>\n",
       "      <td>1289.580531</td>\n",
       "      <td>1289.830745</td>\n",
       "      <td>flashes</td>\n",
       "      <td>1.0</td>\n",
       "      <td>-1.0</td>\n",
       "      <td>None</td>\n",
       "      <td>1.0</td>\n",
       "      <td>[0.0, 0.0]</td>\n",
       "      <td>[300.0, 300.0]</td>\n",
       "      <td>deg</td>\n",
       "      <td>1.0</td>\n",
       "      <td>0.0</td>\n",
       "      <td>[0.0, 0.0]</td>\n",
       "      <td>0.8</td>\n",
       "      <td>[stimulus_time_interval]</td>\n",
       "      <td>[(3649, 1, timestamps pynwb.base.TimeSeries at...</td>\n",
       "    </tr>\n",
       "    <tr>\n",
       "      <th>3</th>\n",
       "      <td>1291.582241</td>\n",
       "      <td>1291.832440</td>\n",
       "      <td>flashes</td>\n",
       "      <td>1.0</td>\n",
       "      <td>1.0</td>\n",
       "      <td>None</td>\n",
       "      <td>1.0</td>\n",
       "      <td>[0.0, 0.0]</td>\n",
       "      <td>[300.0, 300.0]</td>\n",
       "      <td>deg</td>\n",
       "      <td>1.0</td>\n",
       "      <td>0.0</td>\n",
       "      <td>[0.0, 0.0]</td>\n",
       "      <td>0.8</td>\n",
       "      <td>[stimulus_time_interval]</td>\n",
       "      <td>[(3650, 1, timestamps pynwb.base.TimeSeries at...</td>\n",
       "    </tr>\n",
       "    <tr>\n",
       "      <th>4</th>\n",
       "      <td>1293.583911</td>\n",
       "      <td>1293.834113</td>\n",
       "      <td>flashes</td>\n",
       "      <td>1.0</td>\n",
       "      <td>1.0</td>\n",
       "      <td>None</td>\n",
       "      <td>1.0</td>\n",
       "      <td>[0.0, 0.0]</td>\n",
       "      <td>[300.0, 300.0]</td>\n",
       "      <td>deg</td>\n",
       "      <td>1.0</td>\n",
       "      <td>0.0</td>\n",
       "      <td>[0.0, 0.0]</td>\n",
       "      <td>0.8</td>\n",
       "      <td>[stimulus_time_interval]</td>\n",
       "      <td>[(3651, 1, timestamps pynwb.base.TimeSeries at...</td>\n",
       "    </tr>\n",
       "    <tr>\n",
       "      <th>5</th>\n",
       "      <td>1295.585541</td>\n",
       "      <td>1295.835753</td>\n",
       "      <td>flashes</td>\n",
       "      <td>1.0</td>\n",
       "      <td>-1.0</td>\n",
       "      <td>None</td>\n",
       "      <td>1.0</td>\n",
       "      <td>[0.0, 0.0]</td>\n",
       "      <td>[300.0, 300.0]</td>\n",
       "      <td>deg</td>\n",
       "      <td>1.0</td>\n",
       "      <td>0.0</td>\n",
       "      <td>[0.0, 0.0]</td>\n",
       "      <td>0.8</td>\n",
       "      <td>[stimulus_time_interval]</td>\n",
       "      <td>[(3652, 1, timestamps pynwb.base.TimeSeries at...</td>\n",
       "    </tr>\n",
       "    <tr>\n",
       "      <th>6</th>\n",
       "      <td>1297.587271</td>\n",
       "      <td>1297.837468</td>\n",
       "      <td>flashes</td>\n",
       "      <td>1.0</td>\n",
       "      <td>-1.0</td>\n",
       "      <td>None</td>\n",
       "      <td>1.0</td>\n",
       "      <td>[0.0, 0.0]</td>\n",
       "      <td>[300.0, 300.0]</td>\n",
       "      <td>deg</td>\n",
       "      <td>1.0</td>\n",
       "      <td>0.0</td>\n",
       "      <td>[0.0, 0.0]</td>\n",
       "      <td>0.8</td>\n",
       "      <td>[stimulus_time_interval]</td>\n",
       "      <td>[(3653, 1, timestamps pynwb.base.TimeSeries at...</td>\n",
       "    </tr>\n",
       "    <tr>\n",
       "      <th>7</th>\n",
       "      <td>1299.588921</td>\n",
       "      <td>1299.839125</td>\n",
       "      <td>flashes</td>\n",
       "      <td>1.0</td>\n",
       "      <td>1.0</td>\n",
       "      <td>None</td>\n",
       "      <td>1.0</td>\n",
       "      <td>[0.0, 0.0]</td>\n",
       "      <td>[300.0, 300.0]</td>\n",
       "      <td>deg</td>\n",
       "      <td>1.0</td>\n",
       "      <td>0.0</td>\n",
       "      <td>[0.0, 0.0]</td>\n",
       "      <td>0.8</td>\n",
       "      <td>[stimulus_time_interval]</td>\n",
       "      <td>[(3654, 1, timestamps pynwb.base.TimeSeries at...</td>\n",
       "    </tr>\n",
       "    <tr>\n",
       "      <th>8</th>\n",
       "      <td>1301.590591</td>\n",
       "      <td>1301.840795</td>\n",
       "      <td>flashes</td>\n",
       "      <td>1.0</td>\n",
       "      <td>-1.0</td>\n",
       "      <td>None</td>\n",
       "      <td>1.0</td>\n",
       "      <td>[0.0, 0.0]</td>\n",
       "      <td>[300.0, 300.0]</td>\n",
       "      <td>deg</td>\n",
       "      <td>1.0</td>\n",
       "      <td>0.0</td>\n",
       "      <td>[0.0, 0.0]</td>\n",
       "      <td>0.8</td>\n",
       "      <td>[stimulus_time_interval]</td>\n",
       "      <td>[(3655, 1, timestamps pynwb.base.TimeSeries at...</td>\n",
       "    </tr>\n",
       "    <tr>\n",
       "      <th>9</th>\n",
       "      <td>1303.592261</td>\n",
       "      <td>1303.842470</td>\n",
       "      <td>flashes</td>\n",
       "      <td>1.0</td>\n",
       "      <td>-1.0</td>\n",
       "      <td>None</td>\n",
       "      <td>1.0</td>\n",
       "      <td>[0.0, 0.0]</td>\n",
       "      <td>[300.0, 300.0]</td>\n",
       "      <td>deg</td>\n",
       "      <td>1.0</td>\n",
       "      <td>0.0</td>\n",
       "      <td>[0.0, 0.0]</td>\n",
       "      <td>0.8</td>\n",
       "      <td>[stimulus_time_interval]</td>\n",
       "      <td>[(3656, 1, timestamps pynwb.base.TimeSeries at...</td>\n",
       "    </tr>\n",
       "  </tbody>\n",
       "</table>\n",
       "</div>"
      ],
      "text/plain": [
       "     start_time    stop_time stimulus_name  stimulus_block color  mask  \\\n",
       "id                                                                       \n",
       "0   1285.577251  1285.827445       flashes             1.0   1.0  None   \n",
       "1   1287.578841  1287.829058       flashes             1.0  -1.0  None   \n",
       "2   1289.580531  1289.830745       flashes             1.0  -1.0  None   \n",
       "3   1291.582241  1291.832440       flashes             1.0   1.0  None   \n",
       "4   1293.583911  1293.834113       flashes             1.0   1.0  None   \n",
       "5   1295.585541  1295.835753       flashes             1.0  -1.0  None   \n",
       "6   1297.587271  1297.837468       flashes             1.0  -1.0  None   \n",
       "7   1299.588921  1299.839125       flashes             1.0   1.0  None   \n",
       "8   1301.590591  1301.840795       flashes             1.0  -1.0  None   \n",
       "9   1303.592261  1303.842470       flashes             1.0  -1.0  None   \n",
       "\n",
       "    opacity       phase            size units  stimulus_index  orientation  \\\n",
       "id                                                                           \n",
       "0       1.0  [0.0, 0.0]  [300.0, 300.0]   deg             1.0          0.0   \n",
       "1       1.0  [0.0, 0.0]  [300.0, 300.0]   deg             1.0          0.0   \n",
       "2       1.0  [0.0, 0.0]  [300.0, 300.0]   deg             1.0          0.0   \n",
       "3       1.0  [0.0, 0.0]  [300.0, 300.0]   deg             1.0          0.0   \n",
       "4       1.0  [0.0, 0.0]  [300.0, 300.0]   deg             1.0          0.0   \n",
       "5       1.0  [0.0, 0.0]  [300.0, 300.0]   deg             1.0          0.0   \n",
       "6       1.0  [0.0, 0.0]  [300.0, 300.0]   deg             1.0          0.0   \n",
       "7       1.0  [0.0, 0.0]  [300.0, 300.0]   deg             1.0          0.0   \n",
       "8       1.0  [0.0, 0.0]  [300.0, 300.0]   deg             1.0          0.0   \n",
       "9       1.0  [0.0, 0.0]  [300.0, 300.0]   deg             1.0          0.0   \n",
       "\n",
       "   spatial_frequency  contrast                      tags  \\\n",
       "id                                                         \n",
       "0         [0.0, 0.0]       0.8  [stimulus_time_interval]   \n",
       "1         [0.0, 0.0]       0.8  [stimulus_time_interval]   \n",
       "2         [0.0, 0.0]       0.8  [stimulus_time_interval]   \n",
       "3         [0.0, 0.0]       0.8  [stimulus_time_interval]   \n",
       "4         [0.0, 0.0]       0.8  [stimulus_time_interval]   \n",
       "5         [0.0, 0.0]       0.8  [stimulus_time_interval]   \n",
       "6         [0.0, 0.0]       0.8  [stimulus_time_interval]   \n",
       "7         [0.0, 0.0]       0.8  [stimulus_time_interval]   \n",
       "8         [0.0, 0.0]       0.8  [stimulus_time_interval]   \n",
       "9         [0.0, 0.0]       0.8  [stimulus_time_interval]   \n",
       "\n",
       "                                           timeseries  \n",
       "id                                                     \n",
       "0   [(3647, 1, timestamps pynwb.base.TimeSeries at...  \n",
       "1   [(3648, 1, timestamps pynwb.base.TimeSeries at...  \n",
       "2   [(3649, 1, timestamps pynwb.base.TimeSeries at...  \n",
       "3   [(3650, 1, timestamps pynwb.base.TimeSeries at...  \n",
       "4   [(3651, 1, timestamps pynwb.base.TimeSeries at...  \n",
       "5   [(3652, 1, timestamps pynwb.base.TimeSeries at...  \n",
       "6   [(3653, 1, timestamps pynwb.base.TimeSeries at...  \n",
       "7   [(3654, 1, timestamps pynwb.base.TimeSeries at...  \n",
       "8   [(3655, 1, timestamps pynwb.base.TimeSeries at...  \n",
       "9   [(3656, 1, timestamps pynwb.base.TimeSeries at...  "
      ]
     },
     "execution_count": 10,
     "metadata": {},
     "output_type": "execute_result"
    }
   ],
   "source": [
    "stim_name = \"flashes_presentations\"\n",
    "stim_table = stim_nwb.intervals[stim_name]\n",
    "stim_table[:10]"
   ]
  },
  {
   "cell_type": "code",
   "execution_count": 11,
   "id": "7f1b1008",
   "metadata": {},
   "outputs": [
    {
     "data": {
      "text/plain": [
       "150"
      ]
     },
     "execution_count": 11,
     "metadata": {},
     "output_type": "execute_result"
    }
   ],
   "source": [
    "### select start times from table that fit certain critera here\n",
    "\n",
    "stim_select = lambda row: True\n",
    "all_stim_times = [float(row.start_time) for row in stim_table if stim_select(row)]\n",
    "len(all_stim_times)"
   ]
  },
  {
   "cell_type": "markdown",
   "id": "7a9c3432",
   "metadata": {},
   "source": [
    "### Selecting a Period\n",
    "Oftentimes, the LFP data can be very large. Depending on the machine this analysis is performed on, there may not be enough memory to the following interpolation. This can be mitigated in two ways. Firstly, the `interp_hz` variable in the following section can be decreased. Otherwise, the analysis can be performed with some smaller period of time within the LFP data. If you wish to do this, set `period_start` and `period_end` to be reasonable times (in seconds) within the experiment to look at. Below are printed the first and last timestamps from the stimulus data and LFP data to inform this choice."
   ]
  },
  {
   "cell_type": "code",
   "execution_count": 12,
   "id": "b2c3813c",
   "metadata": {},
   "outputs": [
    {
     "name": "stdout",
     "output_type": "stream",
     "text": [
      "1285.5772508695136\n",
      "1583.8263808695135\n",
      "3.727534675412933\n",
      "9671.771044169622\n"
     ]
    }
   ],
   "source": [
    "print(all_stim_times[0])\n",
    "print(all_stim_times[-1])\n",
    "print(lfp.timestamps[0])\n",
    "print(lfp.timestamps[-1])"
   ]
  },
  {
   "cell_type": "code",
   "execution_count": 13,
   "id": "c9786888",
   "metadata": {},
   "outputs": [],
   "source": [
    "# period_start = lfp.timestamps[0]\n",
    "period_start = 1280\n",
    "# period_end = lfp.timestamps[-1]\n",
    "period_end = 1590"
   ]
  },
  {
   "cell_type": "code",
   "execution_count": 14,
   "id": "217762a5",
   "metadata": {},
   "outputs": [],
   "source": [
    "# filter stim_timestamps to just timestamps within period\n",
    "stim_times = np.array([ts for ts in all_stim_times if ts >= period_start and ts <= period_end])\n",
    "if len(stim_times) == 0:\n",
    "    raise ValueError(\"There are no stimulus timestamps in that period\")"
   ]
  },
  {
   "cell_type": "code",
   "execution_count": 15,
   "id": "04ad7533",
   "metadata": {},
   "outputs": [],
   "source": [
    "# find indices within lfp data that correspond to period bounds\n",
    "period_start_idx, period_end_idx = None, None\n",
    "for i, ts in enumerate(lfp.timestamps):\n",
    "    if not period_start_idx and ts >= period_start:\n",
    "        period_start_idx = i\n",
    "    if period_start_idx and ts >= period_end:\n",
    "        period_end_idx = i\n",
    "        break\n",
    "\n",
    "if period_start_idx == None or period_end_idx == None:\n",
    "    raise ValueError(\"Period bounds not found within lfp data\")\n",
    "\n",
    "# get slice of LFP data corresponding to the period bounds\n",
    "lfp_timestamps = lfp.timestamps[period_start_idx:period_end_idx]\n",
    "lfp_data = lfp.data[period_start_idx:period_end_idx]"
   ]
  },
  {
   "cell_type": "code",
   "execution_count": 16,
   "id": "2e09d807",
   "metadata": {},
   "outputs": [
    {
     "name": "stdout",
     "output_type": "stream",
     "text": [
      "(150,)\n",
      "(387500,)\n",
      "(387500, 89)\n"
     ]
    }
   ],
   "source": [
    "print(stim_times.shape)\n",
    "print(lfp_timestamps.shape)\n",
    "print(lfp_data.shape)"
   ]
  },
  {
   "cell_type": "markdown",
   "id": "36dacc62",
   "metadata": {},
   "source": [
    "### LFP Interpolation\n",
    "Because we cannot be certain that the LFP trace is at a perfectly regular Hz, we will interpolate it to be able to compare stimulus timestamps to their approximate LFP times. After you have a valid list of stimulus timestamps, you can generate a linearly-spaced timestamp array called `time_axis`, and interpolate the LFP data along it, making interpolated LFP data called `interp_lfp`. This should be a 2D array with dimensions `time` and `channel`, where channels are the different measurement channels along the probe. Here, the timestamps are interpolated to 250 Hertz, but you can change this by setting `interp_hz`."
   ]
  },
  {
   "cell_type": "code",
   "execution_count": 17,
   "id": "abe4ea1c",
   "metadata": {},
   "outputs": [],
   "source": [
    "interp_hz = 250"
   ]
  },
  {
   "cell_type": "code",
   "execution_count": 18,
   "id": "a8515064",
   "metadata": {},
   "outputs": [
    {
     "name": "stdout",
     "output_type": "stream",
     "text": [
      "(387500,)\n",
      "(387500, 89)\n"
     ]
    }
   ],
   "source": [
    "print(lfp_timestamps.shape)\n",
    "print(lfp_data.shape)"
   ]
  },
  {
   "cell_type": "code",
   "execution_count": 19,
   "id": "0751b9a0",
   "metadata": {},
   "outputs": [
    {
     "name": "stdout",
     "output_type": "stream",
     "text": [
      "(77500, 89)\n"
     ]
    }
   ],
   "source": [
    "# generate regularly-space x values and interpolate along it\n",
    "time_axis = np.arange(lfp_timestamps[0], lfp_timestamps[-1], step=(1/interp_hz))\n",
    "interp_channels = []\n",
    "\n",
    "# interpolate channel by channel to save RAM\n",
    "for channel in range(lfp_data.shape[1]):\n",
    "    f = interpolate.interp1d(lfp_timestamps, lfp_data[:,channel], axis=0, kind=\"nearest\", fill_value=\"extrapolate\")\n",
    "    interp_channels.append(f(time_axis))\n",
    "\n",
    "interp_lfp = np.transpose(interp_channels)\n",
    "\n",
    "print(interp_lfp.shape)"
   ]
  },
  {
   "cell_type": "markdown",
   "id": "10f913a8",
   "metadata": {},
   "source": [
    "### Getting Stimulus Time Windows\n",
    "Now that you have your interpolated LFP data, you can use the stimulus times to identify the windows of time in the LFP data that exist around a stimulus event. Since the LFP data have been interpolated, we can easily translate timestamps to indices within the LFP trace array. Set `window_start_time` to be a negative number, representing the seconds before the stimulus event and `window_end_time` to be number of seconds afterward. Then the `windows` array will be generated as a set of slices of the `interp_lfp` trace by using `interp_hz` to convert seconds to array indices. These will be averaged out for each measurement channel, and a confidence interval will be calculated."
   ]
  },
  {
   "cell_type": "code",
   "execution_count": 20,
   "id": "7ef81062",
   "metadata": {},
   "outputs": [],
   "source": [
    "window_start_time = -0.05\n",
    "window_end_time = 0.2"
   ]
  },
  {
   "cell_type": "code",
   "execution_count": 21,
   "id": "3884ac14",
   "metadata": {},
   "outputs": [
    {
     "name": "stdout",
     "output_type": "stream",
     "text": [
      "(150, 62, 89)\n"
     ]
    }
   ],
   "source": [
    "# validate window bounds\n",
    "if window_start_time > 0:\n",
    "    raise ValueError(\"start time must be non-positive number\")\n",
    "if window_end_time <= 0:\n",
    "    raise ValueError(\"end time must be positive number\")\n",
    "    \n",
    "# get event windows\n",
    "windows = []\n",
    "window_length = int((window_end_time-window_start_time) * interp_hz)\n",
    "\n",
    "for stim_ts in stim_times:\n",
    "    # convert time to index\n",
    "    start_idx = int( (stim_ts + window_start_time - lfp_timestamps[0]) * interp_hz )\n",
    "    end_idx = start_idx + window_length\n",
    " \n",
    "    # bounds checking\n",
    "    if start_idx < 0 or end_idx > len(interp_lfp):\n",
    "        continue\n",
    "        \n",
    "    windows.append(interp_lfp[start_idx:end_idx])\n",
    "    \n",
    "if len(windows) == 0:\n",
    "    raise ValueError(\"There are no windows for these timestamps\")\n",
    "\n",
    "windows = np.array(windows)\n",
    "print(windows.shape)"
   ]
  },
  {
   "cell_type": "code",
   "execution_count": 22,
   "id": "98a64ee7",
   "metadata": {},
   "outputs": [
    {
     "name": "stdout",
     "output_type": "stream",
     "text": [
      "(62, 89)\n"
     ]
    }
   ],
   "source": [
    "# get average of all windows\n",
    "average_trace = np.average(windows, axis=0)\n",
    "print(average_trace.shape)"
   ]
  },
  {
   "cell_type": "markdown",
   "id": "ee919cb9",
   "metadata": {},
   "source": [
    "### Using Elephant to Estimate CSD\n",
    "**Elephant** takes input in the form of a **Neo** *AnalogSignal*. Before analysis, we create the *AnalogSignal* object with the LFP trace as input, in addition to the `hz` valueas the `sampling_rate` of the data, and a list of numbers, `coords` representing the channels of the LFP data. After this, it is as simple as calling `estimate_csd`."
   ]
  },
  {
   "cell_type": "code",
   "execution_count": 23,
   "id": "e1ba8b18",
   "metadata": {},
   "outputs": [],
   "source": [
    "coords = [(elem,) for elem in range(average_trace.shape[1])]\n",
    "neo_lfp = AnalogSignal(average_trace, units=\"V\", sampling_rate = interp_hz*pq.Hz)\n",
    "neo_lfp.annotate(coordinates = coords * pq.mm)"
   ]
  },
  {
   "cell_type": "code",
   "execution_count": 24,
   "id": "6e3acf4d",
   "metadata": {
    "scrolled": true
   },
   "outputs": [
    {
     "name": "stdout",
     "output_type": "stream",
     "text": [
      "No lambda given, using defaults\n",
      "Cross validating R (all lambda) : 0.23\n",
      "R, lambda : 0.23 0.00012115276586285876\n"
     ]
    },
    {
     "data": {
      "text/plain": [
       "(62, 100)"
      ]
     },
     "execution_count": 24,
     "metadata": {},
     "output_type": "execute_result"
    }
   ],
   "source": [
    "# this takes a while\n",
    "csd = np.array(estimate_csd(neo_lfp, method=\"KCSD1D\"))\n",
    "csd.shape"
   ]
  },
  {
   "cell_type": "markdown",
   "id": "45a3539a",
   "metadata": {},
   "source": [
    "### Displaying Current Source Density\n",
    "The current source density over time can be shown below with **matplotlib's** `imshow` method."
   ]
  },
  {
   "cell_type": "code",
   "execution_count": 25,
   "id": "203afff7",
   "metadata": {},
   "outputs": [
    {
     "data": {
      "text/plain": [
       "Text(0, 0.5, 'Approximate distance along probe (μm), \\n[low values toward surface]')"
      ]
     },
     "execution_count": 25,
     "metadata": {},
     "output_type": "execute_result"
    },
    {
     "data": {
      "image/png": "[encoded data removed]",
      "text/plain": [
       "<Figure size 600x600 with 2 Axes>"
      ]
     },
     "metadata": {},
     "output_type": "display_data"
    }
   ],
   "source": [
    "fig, ax = plt.subplots(figsize=(6,6))\n",
    "\n",
    "img = ax.imshow(csd.transpose()[::-1], \n",
    "                extent=[window_start_time, window_end_time, 3840, 0], # probe is 3840 micrometers \n",
    "                aspect=\"auto\",\n",
    "                vmin=-0.05,\n",
    "                vmax=0.05\n",
    "               ) # set vmin and vmax here as needed\n",
    "\n",
    "# make dotted line at stimulus onset\n",
    "ax.plot([0,0],[0, 3840], ':', color='white', linewidth=1.0)\n",
    "\n",
    "cbar = fig.colorbar(img, shrink=0.5)\n",
    "cbar.set_label(\"V / μm²\")\n",
    "\n",
    "ax.set_title(\"Current Source Density Over Time\")\n",
    "ax.set_xlabel(\"Time relative to stimulus onset (s)\")\n",
    "ax.set_ylabel(\"Approximate distance along probe (μm), \\n[low values toward surface]\")"
   ]
  }
 ],
 "metadata": {
  "kernelspec": {
   "display_name": "Python 3 (ipykernel)",
   "language": "python",
   "name": "python3"
  },
  "language_info": {
   "codemirror_mode": {
    "name": "ipython",
    "version": 3
   },
   "file_extension": ".py",
   "mimetype": "text/x-python",
   "name": "python",
   "nbconvert_exporter": "python",
   "pygments_lexer": "ipython3",
   "version": "3.9.10"
  }
 },
 "nbformat": 4,
 "nbformat_minor": 5
}
