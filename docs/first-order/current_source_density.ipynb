{
 "cells": [
  {
   "cell_type": "markdown",
   "id": "83b6daf1",
   "metadata": {},
   "source": [
    "# Current Source Density Analysis"
   ]
  },
  {
   "cell_type": "markdown",
   "id": "3107221a",
   "metadata": {},
   "source": [
    "### Environment Setup"
   ]
  },
  {
   "cell_type": "code",
   "execution_count": 17,
   "id": "22c0c7e6",
   "metadata": {},
   "outputs": [],
   "source": [
    "import numpy as np\n",
    "\n",
    "from dandi import dandiapi\n",
    "from elephant.current_source_density import generate_lfp, estimate_csd\n",
    "from elephant.current_source_density_src.utility_functions import gauss_1d_dipole, small_source_2D\n",
    "from neo import AnalogSignal\n",
    "from pynwb import NWBHDF5IO\n",
    "import quantities as pq"
   ]
  },
  {
   "cell_type": "markdown",
   "id": "02d99fbe",
   "metadata": {},
   "source": [
    "### Downloading Ecephys File\n",
    "If you don't already have files to analyze, you can use data from The Allen Institute's **Visual Coding - Neuropixels** dataset. If you want to choose your own files to download, set `dandiset_id`, `dandi_stim_filepath`, `dandi_lfp_filepath` accordingly."
   ]
  },
  {
   "cell_type": "code",
   "execution_count": 18,
   "id": "dbd02180",
   "metadata": {},
   "outputs": [],
   "source": [
    "dandiset_id = \"000336\"\n",
    "dandi_filepath = \"sub_1171903433/sub_1171903433sess_1181330601/sub_1171903433+sess_1181330601+probeA_ecephys.nwb\"\n",
    "\n",
    "authenticate = False\n",
    "dandi_api_key = \"\""
   ]
  },
  {
   "cell_type": "code",
   "execution_count": 19,
   "id": "e97ce61e",
   "metadata": {},
   "outputs": [
    {
     "name": "stderr",
     "output_type": "stream",
     "text": [
      "A newer version (0.51.0) of dandi/dandi-cli is available. You are using 0.46.3\n",
      "Error 401 while sending GET request to https://api.dandiarchive.org/api/dandisets/000336/: {\"detail\":\"Authentication credentials were not provided.\"}\n"
     ]
    },
    {
     "ename": "HTTPError",
     "evalue": "Error 401 while sending GET request to https://api.dandiarchive.org/api/dandisets/000336/: {\"detail\":\"Authentication credentials were not provided.\"}",
     "output_type": "error",
     "traceback": [
      "\u001b[1;31m---------------------------------------------------------------------------\u001b[0m",
      "\u001b[1;31mHTTPError\u001b[0m                                 Traceback (most recent call last)",
      "Cell \u001b[1;32mIn [19], line 9\u001b[0m\n\u001b[0;32m      7\u001b[0m filename \u001b[38;5;241m=\u001b[39m dandi_filepath\u001b[38;5;241m.\u001b[39msplit(\u001b[38;5;124m\"\u001b[39m\u001b[38;5;124m/\u001b[39m\u001b[38;5;124m\"\u001b[39m)[\u001b[38;5;241m-\u001b[39m\u001b[38;5;241m1\u001b[39m]\n\u001b[0;32m      8\u001b[0m filepath \u001b[38;5;241m=\u001b[39m \u001b[38;5;124mf\u001b[39m\u001b[38;5;124m\"\u001b[39m\u001b[38;5;124m./\u001b[39m\u001b[38;5;132;01m{\u001b[39;00mfilename\u001b[38;5;132;01m}\u001b[39;00m\u001b[38;5;124m\"\u001b[39m\n\u001b[1;32m----> 9\u001b[0m file \u001b[38;5;241m=\u001b[39m \u001b[43mmy_dandiset\u001b[49m\u001b[38;5;241;43m.\u001b[39;49m\u001b[43mget_asset_by_path\u001b[49m\u001b[43m(\u001b[49m\u001b[43mdandi_filepath\u001b[49m\u001b[43m)\u001b[49m\n",
      "File \u001b[1;32m~\\AppData\\Local\\Programs\\Python\\Python39\\lib\\site-packages\\dandi\\dandiapi.py:1064\u001b[0m, in \u001b[0;36mRemoteDandiset.get_asset_by_path\u001b[1;34m(self, path)\u001b[0m\n\u001b[0;32m   1056\u001b[0m \u001b[38;5;124;03m\"\"\"\u001b[39;00m\n\u001b[0;32m   1057\u001b[0m \u001b[38;5;124;03mFetch the asset in this version of the Dandiset whose\u001b[39;00m\n\u001b[0;32m   1058\u001b[0m \u001b[38;5;124;03m`~RemoteAsset.path` equals ``path``.  If the given asset does not\u001b[39;00m\n\u001b[0;32m   1059\u001b[0m \u001b[38;5;124;03mexist, a `NotFoundError` is raised.\u001b[39;00m\n\u001b[0;32m   1060\u001b[0m \u001b[38;5;124;03m\"\"\"\u001b[39;00m\n\u001b[0;32m   1061\u001b[0m \u001b[38;5;28;01mtry\u001b[39;00m:\n\u001b[0;32m   1062\u001b[0m     \u001b[38;5;66;03m# Weed out any assets that happen to have the given path as a\u001b[39;00m\n\u001b[0;32m   1063\u001b[0m     \u001b[38;5;66;03m# proper prefix:\u001b[39;00m\n\u001b[1;32m-> 1064\u001b[0m     (asset,) \u001b[38;5;241m=\u001b[39m (\n\u001b[0;32m   1065\u001b[0m         a \u001b[38;5;28;01mfor\u001b[39;00m a \u001b[38;5;129;01min\u001b[39;00m \u001b[38;5;28mself\u001b[39m\u001b[38;5;241m.\u001b[39mget_assets_with_path_prefix(path) \u001b[38;5;28;01mif\u001b[39;00m a\u001b[38;5;241m.\u001b[39mpath \u001b[38;5;241m==\u001b[39m path\n\u001b[0;32m   1066\u001b[0m     )\n\u001b[0;32m   1067\u001b[0m \u001b[38;5;28;01mexcept\u001b[39;00m \u001b[38;5;167;01mValueError\u001b[39;00m:\n\u001b[0;32m   1068\u001b[0m     \u001b[38;5;28;01mraise\u001b[39;00m NotFoundError(\u001b[38;5;124mf\u001b[39m\u001b[38;5;124m\"\u001b[39m\u001b[38;5;124mNo asset at path \u001b[39m\u001b[38;5;132;01m{\u001b[39;00mpath\u001b[38;5;132;01m!r}\u001b[39;00m\u001b[38;5;124m\"\u001b[39m)\n",
      "File \u001b[1;32m~\\AppData\\Local\\Programs\\Python\\Python39\\lib\\site-packages\\dandi\\dandiapi.py:1064\u001b[0m, in \u001b[0;36m<genexpr>\u001b[1;34m(.0)\u001b[0m\n\u001b[0;32m   1056\u001b[0m \u001b[38;5;124;03m\"\"\"\u001b[39;00m\n\u001b[0;32m   1057\u001b[0m \u001b[38;5;124;03mFetch the asset in this version of the Dandiset whose\u001b[39;00m\n\u001b[0;32m   1058\u001b[0m \u001b[38;5;124;03m`~RemoteAsset.path` equals ``path``.  If the given asset does not\u001b[39;00m\n\u001b[0;32m   1059\u001b[0m \u001b[38;5;124;03mexist, a `NotFoundError` is raised.\u001b[39;00m\n\u001b[0;32m   1060\u001b[0m \u001b[38;5;124;03m\"\"\"\u001b[39;00m\n\u001b[0;32m   1061\u001b[0m \u001b[38;5;28;01mtry\u001b[39;00m:\n\u001b[0;32m   1062\u001b[0m     \u001b[38;5;66;03m# Weed out any assets that happen to have the given path as a\u001b[39;00m\n\u001b[0;32m   1063\u001b[0m     \u001b[38;5;66;03m# proper prefix:\u001b[39;00m\n\u001b[1;32m-> 1064\u001b[0m     (asset,) \u001b[38;5;241m=\u001b[39m (\n\u001b[0;32m   1065\u001b[0m         a \u001b[38;5;28;01mfor\u001b[39;00m a \u001b[38;5;129;01min\u001b[39;00m \u001b[38;5;28mself\u001b[39m\u001b[38;5;241m.\u001b[39mget_assets_with_path_prefix(path) \u001b[38;5;28;01mif\u001b[39;00m a\u001b[38;5;241m.\u001b[39mpath \u001b[38;5;241m==\u001b[39m path\n\u001b[0;32m   1066\u001b[0m     )\n\u001b[0;32m   1067\u001b[0m \u001b[38;5;28;01mexcept\u001b[39;00m \u001b[38;5;167;01mValueError\u001b[39;00m:\n\u001b[0;32m   1068\u001b[0m     \u001b[38;5;28;01mraise\u001b[39;00m NotFoundError(\u001b[38;5;124mf\u001b[39m\u001b[38;5;124m\"\u001b[39m\u001b[38;5;124mNo asset at path \u001b[39m\u001b[38;5;132;01m{\u001b[39;00mpath\u001b[38;5;132;01m!r}\u001b[39;00m\u001b[38;5;124m\"\u001b[39m)\n",
      "File \u001b[1;32m~\\AppData\\Local\\Programs\\Python\\Python39\\lib\\site-packages\\dandi\\dandiapi.py:1021\u001b[0m, in \u001b[0;36mRemoteDandiset.get_assets_with_path_prefix\u001b[1;34m(self, path, order)\u001b[0m\n\u001b[0;32m   1010\u001b[0m \u001b[38;5;124;03m\"\"\"\u001b[39;00m\n\u001b[0;32m   1011\u001b[0m \u001b[38;5;124;03mReturns an iterator of all assets in this version of the Dandiset whose\u001b[39;00m\n\u001b[0;32m   1012\u001b[0m \u001b[38;5;124;03m`~RemoteAsset.path` attributes start with ``path``\u001b[39;00m\n\u001b[1;32m   (...)\u001b[0m\n\u001b[0;32m   1017\u001b[0m \u001b[38;5;124;03mfield name to reverse the sort order.\u001b[39;00m\n\u001b[0;32m   1018\u001b[0m \u001b[38;5;124;03m\"\"\"\u001b[39;00m\n\u001b[0;32m   1019\u001b[0m \u001b[38;5;28;01mtry\u001b[39;00m:\n\u001b[0;32m   1020\u001b[0m     \u001b[38;5;28;01mfor\u001b[39;00m a \u001b[38;5;129;01min\u001b[39;00m \u001b[38;5;28mself\u001b[39m\u001b[38;5;241m.\u001b[39mclient\u001b[38;5;241m.\u001b[39mpaginate(\n\u001b[1;32m-> 1021\u001b[0m         \u001b[38;5;124mf\u001b[39m\u001b[38;5;124m\"\u001b[39m\u001b[38;5;132;01m{\u001b[39;00m\u001b[38;5;28mself\u001b[39m\u001b[38;5;241m.\u001b[39mversion_api_path\u001b[38;5;132;01m}\u001b[39;00m\u001b[38;5;124massets/\u001b[39m\u001b[38;5;124m\"\u001b[39m,\n\u001b[0;32m   1022\u001b[0m         params\u001b[38;5;241m=\u001b[39m{\u001b[38;5;124m\"\u001b[39m\u001b[38;5;124mpath\u001b[39m\u001b[38;5;124m\"\u001b[39m: path, \u001b[38;5;124m\"\u001b[39m\u001b[38;5;124morder\u001b[39m\u001b[38;5;124m\"\u001b[39m: order},\n\u001b[0;32m   1023\u001b[0m     ):\n\u001b[0;32m   1024\u001b[0m         \u001b[38;5;28;01myield\u001b[39;00m RemoteAsset\u001b[38;5;241m.\u001b[39mfrom_data(\u001b[38;5;28mself\u001b[39m, a)\n\u001b[0;32m   1025\u001b[0m \u001b[38;5;28;01mexcept\u001b[39;00m HTTP404Error:\n",
      "File \u001b[1;32m~\\AppData\\Local\\Programs\\Python\\Python39\\lib\\site-packages\\dandi\\dandiapi.py:800\u001b[0m, in \u001b[0;36mRemoteDandiset.version_api_path\u001b[1;34m(self)\u001b[0m\n\u001b[0;32m    793\u001b[0m \u001b[38;5;129m@property\u001b[39m\n\u001b[0;32m    794\u001b[0m \u001b[38;5;28;01mdef\u001b[39;00m \u001b[38;5;21mversion_api_path\u001b[39m(\u001b[38;5;28mself\u001b[39m) \u001b[38;5;241m-\u001b[39m\u001b[38;5;241m>\u001b[39m \u001b[38;5;28mstr\u001b[39m:\n\u001b[0;32m    795\u001b[0m     \u001b[38;5;124;03m\"\"\"\u001b[39;00m\n\u001b[0;32m    796\u001b[0m \u001b[38;5;124;03m    The path (relative to the base endpoint for a Dandi Archive API) at\u001b[39;00m\n\u001b[0;32m    797\u001b[0m \u001b[38;5;124;03m    which API requests for interacting with the version in question of the\u001b[39;00m\n\u001b[0;32m    798\u001b[0m \u001b[38;5;124;03m    Dandiset are made\u001b[39;00m\n\u001b[0;32m    799\u001b[0m \u001b[38;5;124;03m    \"\"\"\u001b[39;00m\n\u001b[1;32m--> 800\u001b[0m     \u001b[38;5;28;01mreturn\u001b[39;00m \u001b[38;5;124mf\u001b[39m\u001b[38;5;124m\"\u001b[39m\u001b[38;5;124m/dandisets/\u001b[39m\u001b[38;5;132;01m{\u001b[39;00m\u001b[38;5;28mself\u001b[39m\u001b[38;5;241m.\u001b[39midentifier\u001b[38;5;132;01m}\u001b[39;00m\u001b[38;5;124m/versions/\u001b[39m\u001b[38;5;132;01m{\u001b[39;00m\u001b[38;5;28mself\u001b[39m\u001b[38;5;241m.\u001b[39mversion_id\u001b[38;5;132;01m}\u001b[39;00m\u001b[38;5;124m/\u001b[39m\u001b[38;5;124m\"\u001b[39m\n",
      "File \u001b[1;32m~\\AppData\\Local\\Programs\\Python\\Python39\\lib\\site-packages\\dandi\\dandiapi.py:720\u001b[0m, in \u001b[0;36mRemoteDandiset.version_id\u001b[1;34m(self)\u001b[0m\n\u001b[0;32m    718\u001b[0m \u001b[38;5;124;03m\"\"\"The identifier for the Dandiset version\"\"\"\u001b[39;00m\n\u001b[0;32m    719\u001b[0m \u001b[38;5;28;01mif\u001b[39;00m \u001b[38;5;28mself\u001b[39m\u001b[38;5;241m.\u001b[39m_version_id \u001b[38;5;129;01mis\u001b[39;00m \u001b[38;5;28;01mNone\u001b[39;00m:\n\u001b[1;32m--> 720\u001b[0m     \u001b[38;5;28mself\u001b[39m\u001b[38;5;241m.\u001b[39m_version_id \u001b[38;5;241m=\u001b[39m \u001b[38;5;28;43mself\u001b[39;49m\u001b[38;5;241;43m.\u001b[39;49m\u001b[43mversion\u001b[49m\u001b[38;5;241m.\u001b[39midentifier\n\u001b[0;32m    721\u001b[0m \u001b[38;5;28;01mreturn\u001b[39;00m \u001b[38;5;28mself\u001b[39m\u001b[38;5;241m.\u001b[39m_version_id\n",
      "File \u001b[1;32m~\\AppData\\Local\\Programs\\Python\\Python39\\lib\\site-packages\\dandi\\dandiapi.py:728\u001b[0m, in \u001b[0;36mRemoteDandiset.version\u001b[1;34m(self)\u001b[0m\n\u001b[0;32m    726\u001b[0m \u001b[38;5;28;01mif\u001b[39;00m \u001b[38;5;28mself\u001b[39m\u001b[38;5;241m.\u001b[39m_version \u001b[38;5;129;01mis\u001b[39;00m \u001b[38;5;28;01mNone\u001b[39;00m:\n\u001b[0;32m    727\u001b[0m     \u001b[38;5;28;01mif\u001b[39;00m \u001b[38;5;28mself\u001b[39m\u001b[38;5;241m.\u001b[39m_version_id \u001b[38;5;129;01mis\u001b[39;00m \u001b[38;5;28;01mNone\u001b[39;00m:\n\u001b[1;32m--> 728\u001b[0m         \u001b[38;5;28;43mself\u001b[39;49m\u001b[38;5;241;43m.\u001b[39;49m\u001b[43m_get_data\u001b[49m\u001b[43m(\u001b[49m\u001b[43m)\u001b[49m\n\u001b[0;32m    729\u001b[0m     \u001b[38;5;28;01mif\u001b[39;00m \u001b[38;5;28mself\u001b[39m\u001b[38;5;241m.\u001b[39m_data \u001b[38;5;129;01mis\u001b[39;00m \u001b[38;5;129;01mnot\u001b[39;00m \u001b[38;5;28;01mNone\u001b[39;00m:\n\u001b[0;32m    730\u001b[0m         \u001b[38;5;28;01mfor\u001b[39;00m v \u001b[38;5;129;01min\u001b[39;00m [\n\u001b[0;32m    731\u001b[0m             \u001b[38;5;28mself\u001b[39m\u001b[38;5;241m.\u001b[39m_data\u001b[38;5;241m.\u001b[39mmost_recent_published_version,\n\u001b[0;32m    732\u001b[0m             \u001b[38;5;28mself\u001b[39m\u001b[38;5;241m.\u001b[39m_data\u001b[38;5;241m.\u001b[39mdraft_version,\n\u001b[0;32m    733\u001b[0m         ]:\n",
      "File \u001b[1;32m~\\AppData\\Local\\Programs\\Python\\Python39\\lib\\site-packages\\dandi\\dandiapi.py:710\u001b[0m, in \u001b[0;36mRemoteDandiset._get_data\u001b[1;34m(self)\u001b[0m\n\u001b[0;32m    707\u001b[0m \u001b[38;5;28;01mif\u001b[39;00m \u001b[38;5;28mself\u001b[39m\u001b[38;5;241m.\u001b[39m_data \u001b[38;5;129;01mis\u001b[39;00m \u001b[38;5;28;01mNone\u001b[39;00m:\n\u001b[0;32m    708\u001b[0m     \u001b[38;5;28;01mtry\u001b[39;00m:\n\u001b[0;32m    709\u001b[0m         \u001b[38;5;28mself\u001b[39m\u001b[38;5;241m.\u001b[39m_data \u001b[38;5;241m=\u001b[39m RemoteDandisetData\u001b[38;5;241m.\u001b[39mparse_obj(\n\u001b[1;32m--> 710\u001b[0m             \u001b[38;5;28;43mself\u001b[39;49m\u001b[38;5;241;43m.\u001b[39;49m\u001b[43mclient\u001b[49m\u001b[38;5;241;43m.\u001b[39;49m\u001b[43mget\u001b[49m\u001b[43m(\u001b[49m\u001b[38;5;124;43mf\u001b[39;49m\u001b[38;5;124;43m\"\u001b[39;49m\u001b[38;5;124;43m/dandisets/\u001b[39;49m\u001b[38;5;132;43;01m{\u001b[39;49;00m\u001b[38;5;28;43mself\u001b[39;49m\u001b[38;5;241;43m.\u001b[39;49m\u001b[43midentifier\u001b[49m\u001b[38;5;132;43;01m}\u001b[39;49;00m\u001b[38;5;124;43m/\u001b[39;49m\u001b[38;5;124;43m\"\u001b[39;49m\u001b[43m)\u001b[49m\n\u001b[0;32m    711\u001b[0m         )\n\u001b[0;32m    712\u001b[0m     \u001b[38;5;28;01mexcept\u001b[39;00m HTTP404Error:\n\u001b[0;32m    713\u001b[0m         \u001b[38;5;28;01mraise\u001b[39;00m NotFoundError(\u001b[38;5;124mf\u001b[39m\u001b[38;5;124m\"\u001b[39m\u001b[38;5;124mNo such Dandiset: \u001b[39m\u001b[38;5;132;01m{\u001b[39;00m\u001b[38;5;28mself\u001b[39m\u001b[38;5;241m.\u001b[39midentifier\u001b[38;5;132;01m}\u001b[39;00m\u001b[38;5;124m\"\u001b[39m)\n",
      "File \u001b[1;32m~\\AppData\\Local\\Programs\\Python\\Python39\\lib\\site-packages\\dandi\\dandiapi.py:291\u001b[0m, in \u001b[0;36mRESTFullAPIClient.get\u001b[1;34m(self, path, **kwargs)\u001b[0m\n\u001b[0;32m    287\u001b[0m \u001b[38;5;28;01mdef\u001b[39;00m \u001b[38;5;21mget\u001b[39m(\u001b[38;5;28mself\u001b[39m, path: \u001b[38;5;28mstr\u001b[39m, \u001b[38;5;241m*\u001b[39m\u001b[38;5;241m*\u001b[39mkwargs: Any) \u001b[38;5;241m-\u001b[39m\u001b[38;5;241m>\u001b[39m Any:\n\u001b[0;32m    288\u001b[0m     \u001b[38;5;124;03m\"\"\"\u001b[39;00m\n\u001b[0;32m    289\u001b[0m \u001b[38;5;124;03m    Convenience method to call `request()` with the 'GET' HTTP method.\u001b[39;00m\n\u001b[0;32m    290\u001b[0m \u001b[38;5;124;03m    \"\"\"\u001b[39;00m\n\u001b[1;32m--> 291\u001b[0m     \u001b[38;5;28;01mreturn\u001b[39;00m \u001b[38;5;28mself\u001b[39m\u001b[38;5;241m.\u001b[39mrequest(\u001b[38;5;124m\"\u001b[39m\u001b[38;5;124mGET\u001b[39m\u001b[38;5;124m\"\u001b[39m, path, \u001b[38;5;241m*\u001b[39m\u001b[38;5;241m*\u001b[39mkwargs)\n",
      "File \u001b[1;32m~\\AppData\\Local\\Programs\\Python\\Python39\\lib\\site-packages\\dandi\\dandiapi.py:263\u001b[0m, in \u001b[0;36mRESTFullAPIClient.request\u001b[1;34m(self, method, path, params, data, files, json, headers, json_resp, retry_statuses, retry_if, **kwargs)\u001b[0m\n\u001b[0;32m    261\u001b[0m         \u001b[38;5;28;01mraise\u001b[39;00m HTTP404Error(msg, response\u001b[38;5;241m=\u001b[39mresult)\n\u001b[0;32m    262\u001b[0m     \u001b[38;5;28;01melse\u001b[39;00m:\n\u001b[1;32m--> 263\u001b[0m         \u001b[38;5;28;01mraise\u001b[39;00m requests\u001b[38;5;241m.\u001b[39mHTTPError(msg, response\u001b[38;5;241m=\u001b[39mresult)\n\u001b[0;32m    265\u001b[0m \u001b[38;5;28;01mif\u001b[39;00m json_resp:\n\u001b[0;32m    266\u001b[0m     \u001b[38;5;28;01mif\u001b[39;00m result\u001b[38;5;241m.\u001b[39mtext\u001b[38;5;241m.\u001b[39mstrip():\n",
      "\u001b[1;31mHTTPError\u001b[0m: Error 401 while sending GET request to https://api.dandiarchive.org/api/dandisets/000336/: {\"detail\":\"Authentication credentials were not provided.\"}"
     ]
    }
   ],
   "source": [
    "if authenticate:\n",
    "    client = dandiapi.DandiAPIClient(token=dandi_api_key)\n",
    "else:\n",
    "    client = dandiapi.DandiAPIClient()\n",
    "my_dandiset = client.get_dandiset(dandiset_id)\n",
    "\n",
    "filename = dandi_filepath.split(\"/\")[-1]\n",
    "filepath = f\"./{filename}\"\n",
    "file = my_dandiset.get_asset_by_path(dandi_filepath)"
   ]
  },
  {
   "cell_type": "code",
   "execution_count": 20,
   "id": "f5ee9f5e",
   "metadata": {},
   "outputs": [],
   "source": [
    "# # this may take awhile, especially if the file to download is large\n",
    "# file.download(filepath)\n",
    "\n",
    "# print(f\"Downloaded file to {filepath}\")"
   ]
  },
  {
   "cell_type": "code",
   "execution_count": 21,
   "id": "229ad3f0",
   "metadata": {},
   "outputs": [
    {
     "name": "stderr",
     "output_type": "stream",
     "text": [
      "C:\\Users\\carter.peene\\AppData\\Local\\Programs\\Python\\Python39\\lib\\site-packages\\hdmf\\spec\\namespace.py:531: UserWarning: Ignoring cached namespace 'hdmf-common' version 1.5.0 because version 1.5.1 is already loaded.\n",
      "  warn(\"Ignoring cached namespace '%s' version %s because version %s is already loaded.\"\n",
      "C:\\Users\\carter.peene\\AppData\\Local\\Programs\\Python\\Python39\\lib\\site-packages\\hdmf\\spec\\namespace.py:531: UserWarning: Ignoring cached namespace 'core' version 2.4.0 because version 2.5.0 is already loaded.\n",
      "  warn(\"Ignoring cached namespace '%s' version %s because version %s is already loaded.\"\n",
      "C:\\Users\\carter.peene\\AppData\\Local\\Programs\\Python\\Python39\\lib\\site-packages\\hdmf\\spec\\namespace.py:531: UserWarning: Ignoring cached namespace 'hdmf-experimental' version 0.1.0 because version 0.2.0 is already loaded.\n",
      "  warn(\"Ignoring cached namespace '%s' version %s because version %s is already loaded.\"\n"
     ]
    }
   ],
   "source": [
    "io = NWBHDF5IO(\"../../../data/illusion/sub_1171903433+sess_1181330601+probeA_ecephys.nwb\", mode=\"r\", load_namespaces=True)\n",
    "nwb = io.read()"
   ]
  },
  {
   "cell_type": "markdown",
   "id": "edf45cfa",
   "metadata": {},
   "source": [
    "### Extracting Data"
   ]
  },
  {
   "cell_type": "code",
   "execution_count": 22,
   "id": "a72a3390",
   "metadata": {},
   "outputs": [
    {
     "data": {
      "text/plain": [
       "probe_0_lfp_data pynwb.ecephys.ElectricalSeries at 0x1347091072672\n",
       "Fields:\n",
       "  comments: no comments\n",
       "  conversion: 1.0\n",
       "  data: <HDF5 dataset \"data\": shape (11252278, 89), type \"<f4\">\n",
       "  description: no description\n",
       "  electrodes: electrodes <class 'hdmf.common.table.DynamicTableRegion'>\n",
       "  interval: 1\n",
       "  offset: 0.0\n",
       "  resolution: -1.0\n",
       "  timestamps: <HDF5 dataset \"timestamps\": shape (11252278,), type \"<f8\">\n",
       "  timestamps_unit: seconds\n",
       "  unit: volts"
      ]
     },
     "execution_count": 22,
     "metadata": {},
     "output_type": "execute_result"
    }
   ],
   "source": [
    "lfp = nwb.acquisition[\"probe_0_lfp_data\"]\n",
    "lfp"
   ]
  },
  {
   "cell_type": "code",
   "execution_count": 23,
   "id": "44519c44",
   "metadata": {},
   "outputs": [],
   "source": [
    "coords = np.stack( (nwb.electrodes.x, nwb.electrodes.y), axis=-1 )"
   ]
  },
  {
   "cell_type": "markdown",
   "id": "7a9c3432",
   "metadata": {},
   "source": [
    "### Selecting a Period\n",
    "Oftentimes, the LFP data can be very large. Depending on the machine this analysis is performed on, there may not be enough memory to perform the current source density estimation. So it can be performed on some smaller period of time within the LFP data. If you wish to do this, set `period_start` and `period_end` to be reasonable times (in seconds) within the experiment to look at. Below are printed the first and last timestamps from the stimulus data and LFP data to inform this choice."
   ]
  },
  {
   "cell_type": "code",
   "execution_count": 26,
   "id": "b0c39547",
   "metadata": {},
   "outputs": [
    {
     "name": "stdout",
     "output_type": "stream",
     "text": [
      "4.787164854572537\n",
      "9006.599064801605\n"
     ]
    }
   ],
   "source": [
    "print(lfp.timestamps[0])\n",
    "print(lfp.timestamps[-1])"
   ]
  },
  {
   "cell_type": "code",
   "execution_count": 27,
   "id": "f2c42c8f",
   "metadata": {},
   "outputs": [],
   "source": [
    "# period_start = lfp.timestamps[0]\n",
    "period_start = 5000\n",
    "# period_end = lfp.timestamps[-1]\n",
    "period_end = 6000"
   ]
  },
  {
   "cell_type": "code",
   "execution_count": 29,
   "id": "64d38d04",
   "metadata": {},
   "outputs": [],
   "source": [
    "# find indices within lfp data that correspond to period bounds\n",
    "period_start_idx, period_end_idx = None, None\n",
    "for i, ts in enumerate(lfp.timestamps):\n",
    "    if not period_start_idx and ts >= period_start:\n",
    "        period_start_idx = i\n",
    "    if period_start_idx and ts >= period_end:\n",
    "        period_end_idx = i\n",
    "        break\n",
    "\n",
    "if period_start_idx == None or period_end_idx == None:\n",
    "    raise ValueError(\"Period bounds not found within lfp data\")\n",
    "\n",
    "# get slice of LFP data corresponding to the period bounds\n",
    "lfp_timestamps = lfp.timestamps[period_start_idx:period_end_idx]\n",
    "lfp_data = lfp.data[period_start_idx:period_end_idx]"
   ]
  },
  {
   "cell_type": "code",
   "execution_count": null,
   "id": "ea6a0e8f",
   "metadata": {},
   "outputs": [],
   "source": [
    "coords.shape\n",
    "print(lfp_timestamps.shape)\n",
    "print(lfp_data.shape)"
   ]
  },
  {
   "cell_type": "markdown",
   "id": "ee919cb9",
   "metadata": {},
   "source": [
    "### Elephant"
   ]
  },
  {
   "cell_type": "code",
   "execution_count": 32,
   "id": "e1ba8b18",
   "metadata": {},
   "outputs": [],
   "source": [
    "hz = len(lfp_data) / (lfp_timestamps[-1] - lfp_timestamps[0])\n",
    "\n",
    "neo_lfp = AnalogSignal(lfp_data, units=\"V\", sampling_rate = hz*pq.Hz)\n",
    "neo_lfp.annotate(coordinates = coords * pq.mm)"
   ]
  },
  {
   "cell_type": "code",
   "execution_count": 33,
   "id": "6e3acf4d",
   "metadata": {
    "scrolled": true
   },
   "outputs": [
    {
     "name": "stdout",
     "output_type": "stream",
     "text": [
      "No lambda given, using defaults\n",
      "Cross validating R (all lambda) : 0.23\n"
     ]
    },
    {
     "ename": "KeyboardInterrupt",
     "evalue": "",
     "output_type": "error",
     "traceback": [
      "\u001b[1;31m---------------------------------------------------------------------------\u001b[0m",
      "\u001b[1;31mKeyboardInterrupt\u001b[0m                         Traceback (most recent call last)",
      "Cell \u001b[1;32mIn [33], line 1\u001b[0m\n\u001b[1;32m----> 1\u001b[0m csd \u001b[38;5;241m=\u001b[39m \u001b[43mestimate_csd\u001b[49m\u001b[43m(\u001b[49m\u001b[43mneo_lfp\u001b[49m\u001b[43m,\u001b[49m\u001b[43m \u001b[49m\u001b[43mmethod\u001b[49m\u001b[38;5;241;43m=\u001b[39;49m\u001b[38;5;124;43m\"\u001b[39;49m\u001b[38;5;124;43mKCSD2D\u001b[39;49m\u001b[38;5;124;43m\"\u001b[39;49m\u001b[43m)\u001b[49m\n",
      "File \u001b[1;32m~\\AppData\\Local\\Programs\\Python\\Python39\\lib\\site-packages\\elephant\\utils.py:80\u001b[0m, in \u001b[0;36mdeprecated_alias.<locals>.deco.<locals>.wrapper\u001b[1;34m(*args, **kwargs)\u001b[0m\n\u001b[0;32m     77\u001b[0m \u001b[38;5;129m@wraps\u001b[39m(func)\n\u001b[0;32m     78\u001b[0m \u001b[38;5;28;01mdef\u001b[39;00m \u001b[38;5;21mwrapper\u001b[39m(\u001b[38;5;241m*\u001b[39margs, \u001b[38;5;241m*\u001b[39m\u001b[38;5;241m*\u001b[39mkwargs):\n\u001b[0;32m     79\u001b[0m     _rename_kwargs(func\u001b[38;5;241m.\u001b[39m\u001b[38;5;18m__name__\u001b[39m, kwargs, aliases)\n\u001b[1;32m---> 80\u001b[0m     \u001b[38;5;28;01mreturn\u001b[39;00m func(\u001b[38;5;241m*\u001b[39margs, \u001b[38;5;241m*\u001b[39m\u001b[38;5;241m*\u001b[39mkwargs)\n",
      "File \u001b[1;32m~\\AppData\\Local\\Programs\\Python\\Python39\\lib\\site-packages\\elephant\\current_source_density.py:160\u001b[0m, in \u001b[0;36mestimate_csd\u001b[1;34m(lfp, coordinates, method, process_estimate, **kwargs)\u001b[0m\n\u001b[0;32m    158\u001b[0m k \u001b[38;5;241m=\u001b[39m kernel_method(np\u001b[38;5;241m.\u001b[39marray(coordinates), input_array\u001b[38;5;241m.\u001b[39mT, \u001b[38;5;241m*\u001b[39m\u001b[38;5;241m*\u001b[39mkwargs)\n\u001b[0;32m    159\u001b[0m \u001b[38;5;28;01mif\u001b[39;00m process_estimate:\n\u001b[1;32m--> 160\u001b[0m     \u001b[43mk\u001b[49m\u001b[38;5;241;43m.\u001b[39;49m\u001b[43mcross_validate\u001b[49m\u001b[43m(\u001b[49m\u001b[43mlambdas\u001b[49m\u001b[43m,\u001b[49m\u001b[43m \u001b[49m\u001b[43mRs\u001b[49m\u001b[43m)\u001b[49m\n\u001b[0;32m    161\u001b[0m estm_csd \u001b[38;5;241m=\u001b[39m k\u001b[38;5;241m.\u001b[39mvalues()\n\u001b[0;32m    162\u001b[0m estm_csd \u001b[38;5;241m=\u001b[39m np\u001b[38;5;241m.\u001b[39mrollaxis(estm_csd, \u001b[38;5;241m-\u001b[39m\u001b[38;5;241m1\u001b[39m, \u001b[38;5;241m0\u001b[39m)\n",
      "File \u001b[1;32m~\\AppData\\Local\\Programs\\Python\\Python39\\lib\\site-packages\\elephant\\current_source_density_src\\KCSD.py:292\u001b[0m, in \u001b[0;36mKCSD.cross_validate\u001b[1;34m(self, lambdas, Rs)\u001b[0m\n\u001b[0;32m    290\u001b[0m     \u001b[38;5;28mprint\u001b[39m(\u001b[38;5;124m'\u001b[39m\u001b[38;5;124mCross validating R (all lambda) :\u001b[39m\u001b[38;5;124m'\u001b[39m, R)\n\u001b[0;32m    291\u001b[0m     \u001b[38;5;28;01mfor\u001b[39;00m lambd_idx,lambd \u001b[38;5;129;01min\u001b[39;00m \u001b[38;5;28menumerate\u001b[39m(lambdas): \u001b[38;5;66;03m#Iterate over lambdas\u001b[39;00m\n\u001b[1;32m--> 292\u001b[0m         errs[R_idx, lambd_idx] \u001b[38;5;241m=\u001b[39m \u001b[38;5;28;43mself\u001b[39;49m\u001b[38;5;241;43m.\u001b[39;49m\u001b[43mcompute_cverror\u001b[49m\u001b[43m(\u001b[49m\u001b[43mlambd\u001b[49m\u001b[43m,\u001b[49m\n\u001b[0;32m    293\u001b[0m \u001b[43m                                                      \u001b[49m\u001b[43mindex_generator\u001b[49m\u001b[43m)\u001b[49m\n\u001b[0;32m    294\u001b[0m err_idx \u001b[38;5;241m=\u001b[39m np\u001b[38;5;241m.\u001b[39mwhere(errs\u001b[38;5;241m==\u001b[39mnp\u001b[38;5;241m.\u001b[39mmin(errs))         \u001b[38;5;66;03m#Index of the least error\u001b[39;00m\n\u001b[0;32m    295\u001b[0m cv_R \u001b[38;5;241m=\u001b[39m Rs[err_idx[\u001b[38;5;241m0\u001b[39m]][\u001b[38;5;241m0\u001b[39m]      \u001b[38;5;66;03m#First occurance of the least error's\u001b[39;00m\n",
      "File \u001b[1;32m~\\AppData\\Local\\Programs\\Python\\Python39\\lib\\site-packages\\elephant\\current_source_density_src\\KCSD.py:327\u001b[0m, in \u001b[0;36mKCSD.compute_cverror\u001b[1;34m(self, lambd, index_generator)\u001b[0m\n\u001b[0;32m    325\u001b[0m     \u001b[38;5;28;01mfor\u001b[39;00m ii \u001b[38;5;129;01min\u001b[39;00m \u001b[38;5;28mrange\u001b[39m(\u001b[38;5;28mlen\u001b[39m(idx_train)):\n\u001b[0;32m    326\u001b[0m         \u001b[38;5;28;01mfor\u001b[39;00m tt \u001b[38;5;129;01min\u001b[39;00m \u001b[38;5;28mrange\u001b[39m(\u001b[38;5;28mself\u001b[39m\u001b[38;5;241m.\u001b[39mpots\u001b[38;5;241m.\u001b[39mshape[\u001b[38;5;241m1\u001b[39m]):\n\u001b[1;32m--> 327\u001b[0m             \u001b[43mV_est\u001b[49m\u001b[43m[\u001b[49m\u001b[43m:\u001b[49m\u001b[43m,\u001b[49m\u001b[43m \u001b[49m\u001b[43mtt\u001b[49m\u001b[43m]\u001b[49m \u001b[38;5;241m+\u001b[39m\u001b[38;5;241m=\u001b[39m beta_new[ii, tt] \u001b[38;5;241m*\u001b[39m B_test[:, ii]\n\u001b[0;32m    328\u001b[0m     err \u001b[38;5;241m+\u001b[39m\u001b[38;5;241m=\u001b[39m np\u001b[38;5;241m.\u001b[39mlinalg\u001b[38;5;241m.\u001b[39mnorm(V_est\u001b[38;5;241m-\u001b[39mV_test)\n\u001b[0;32m    329\u001b[0m \u001b[38;5;28;01mexcept\u001b[39;00m LinAlgError:\n",
      "\u001b[1;31mKeyboardInterrupt\u001b[0m: "
     ]
    }
   ],
   "source": [
    "csd = estimate_csd(neo_lfp, method=\"KCSD2D\")"
   ]
  },
  {
   "cell_type": "markdown",
   "id": "21d88f9b",
   "metadata": {},
   "source": [
    "### csd"
   ]
  },
  {
   "cell_type": "code",
   "execution_count": null,
   "id": "97596c56",
   "metadata": {},
   "outputs": [],
   "source": [
    "csd_a = np.array(csd)\n",
    "csd_a.shape"
   ]
  }
 ],
 "metadata": {
  "kernelspec": {
   "display_name": "Python 3 (ipykernel)",
   "language": "python",
   "name": "python3"
  },
  "language_info": {
   "codemirror_mode": {
    "name": "ipython",
    "version": 3
   },
   "file_extension": ".py",
   "mimetype": "text/x-python",
   "name": "python",
   "nbconvert_exporter": "python",
   "pygments_lexer": "ipython3",
   "version": "3.9.10"
  }
 },
 "nbformat": 4,
 "nbformat_minor": 5
}
