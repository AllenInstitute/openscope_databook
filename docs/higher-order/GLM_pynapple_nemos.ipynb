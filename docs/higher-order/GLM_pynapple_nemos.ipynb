{
 "cells": [
  {
   "cell_type": "markdown",
   "id": "2f9056d6",
   "metadata": {},
   "source": [
    "# Generalized Linear Models : Pynapple & Nemos"
   ]
  },
  {
   "cell_type": "code",
   "execution_count": 1,
   "id": "dfda170d",
   "metadata": {},
   "outputs": [],
   "source": [
    "## dandi_download_open - > remove this before uploading\n",
    "\n",
    "import h5py\n",
    "import os\n",
    "import remfile\n",
    "\n",
    "from random import randint\n",
    "\n",
    "from dandi import download\n",
    "from dandi import dandiapi\n",
    "from pynwb import NWBHDF5IO\n",
    "\n",
    "\n",
    "# downloads an NWB file from DANDI to download_loc, opens it, and returns the IO object for the NWB\n",
    "# dandi_api_key is required to access files from embargoed dandisets\n",
    "def dandi_download_open(dandiset_id, dandi_filepath, download_loc=None, dandi_api_key=None, force_overwrite=False):\n",
    "    client = dandiapi.DandiAPIClient(token=dandi_api_key)\n",
    "    dandiset = client.get_dandiset(dandiset_id)\n",
    "\n",
    "    file = dandiset.get_asset_by_path(dandi_filepath)\n",
    "    file_url = file.download_url\n",
    "\n",
    "    if download_loc == None:\n",
    "        if \"codeocean\" in os.environ.get(\"GIT_ASKPASS\", \"\"):\n",
    "            download_loc = \"../../scratch\"\n",
    "        else:\n",
    "            download_loc = \".\"\n",
    "\n",
    "    filename = dandi_filepath.split(\"/\")[-1]\n",
    "    filepath = f\"{download_loc}/{filename}\"\n",
    "\n",
    "    if os.path.exists(filepath) and not force_overwrite:\n",
    "        print(\"File already exists\")\n",
    "    else:\n",
    "        download.download(file_url, output_dir=download_loc)\n",
    "        print(f\"Downloaded file to {filepath}\")\n",
    "\n",
    "    print(\"Opening file\")\n",
    "    io = NWBHDF5IO(filepath, mode=\"r\", load_namespaces=True)\n",
    "    return io\n",
    "\n",
    "\n",
    "# streams an NWB file remotely from DANDI, opens it, and returns the IO object for the NWB\n",
    "# dandi_api_key is required to access files from embargoed dandisets\n",
    "def dandi_stream_open(dandiset_id, dandi_filepath, dandi_api_key=None):\n",
    "    client = dandiapi.DandiAPIClient(token=dandi_api_key)\n",
    "    dandiset = client.get_dandiset(dandiset_id)\n",
    "\n",
    "    file = dandiset.get_asset_by_path(dandi_filepath)\n",
    "    base_url = file.client.session.head(file.base_download_url)\n",
    "    file_url = base_url.headers[\"Location\"]\n",
    "\n",
    "    rem_file = remfile.File(file_url)\n",
    "    h5py_file = h5py.File(rem_file, \"r\")\n",
    "    io = NWBHDF5IO(file=h5py_file, mode=\"r\", load_namespaces=True)\n",
    "    return io"
   ]
  },
  {
   "cell_type": "markdown",
   "id": "848f2a22",
   "metadata": {},
   "source": [
    "### Downloading file"
   ]
  },
  {
   "cell_type": "code",
   "execution_count": 2,
   "id": "fccad111",
   "metadata": {},
   "outputs": [],
   "source": [
    "import os\n",
    "import numpy as np\n",
    "\n",
    "import matplotlib.pyplot as plt\n",
    "import statsmodels.api as sm\n",
    "\n",
    "from math import ceil\n",
    "from scipy import interpolate\n",
    "from functools import reduce\n",
    "\n",
    "from scipy.optimize import minimize\n",
    "from sklearn.metrics import r2_score\n",
    "\n",
    "#%matplotlib inline"
   ]
  },
  {
   "cell_type": "code",
   "execution_count": 3,
   "id": "e5c1bf6c",
   "metadata": {},
   "outputs": [],
   "source": [
    "import pynapple as nap"
   ]
  },
  {
   "cell_type": "code",
   "execution_count": 4,
   "id": "e1de063f",
   "metadata": {},
   "outputs": [],
   "source": [
    "dandiset_id = \"000021\"\n",
    "dandi_filepath = \"sub-726298249/sub-726298249_ses-754829445.nwb\"\n",
    "download_loc = \".\""
   ]
  },
  {
   "cell_type": "markdown",
   "id": "dfa4d0fe",
   "metadata": {},
   "source": [
    "### Pynapple\n",
    "\n",
    "Open the nwb file with pynapple"
   ]
  },
  {
   "cell_type": "code",
   "execution_count": 5,
   "id": "d9de4304",
   "metadata": {},
   "outputs": [
    {
     "name": "stderr",
     "output_type": "stream",
     "text": [
      "Request to https://api.dandiarchive.org/api failed (HTTPSConnectionPool(host='api.dandiarchive.org', port=443): Max retries exceeded with url: /api/info/ (Caused by NameResolutionError(\"<urllib3.connection.HTTPSConnection object at 0x1391ed690>: Failed to resolve 'api.dandiarchive.org' ([Errno 8] nodename nor servname provided, or not known)\")))\n",
      "Using hard-coded URLs\n",
      "HTTP connection failed\n",
      "Traceback (most recent call last):\n",
      "  File \"/Users/camilamaura/miniforge3/envs/databook/lib/python3.11/site-packages/urllib3/connection.py\", line 198, in _new_conn\n",
      "    sock = connection.create_connection(\n",
      "           ^^^^^^^^^^^^^^^^^^^^^^^^^^^^^\n",
      "  File \"/Users/camilamaura/miniforge3/envs/databook/lib/python3.11/site-packages/urllib3/util/connection.py\", line 60, in create_connection\n",
      "    for res in socket.getaddrinfo(host, port, family, socket.SOCK_STREAM):\n",
      "               ^^^^^^^^^^^^^^^^^^^^^^^^^^^^^^^^^^^^^^^^^^^^^^^^^^^^^^^^^^\n",
      "  File \"/Users/camilamaura/miniforge3/envs/databook/lib/python3.11/socket.py\", line 974, in getaddrinfo\n",
      "    for res in _socket.getaddrinfo(host, port, family, type, proto, flags):\n",
      "               ^^^^^^^^^^^^^^^^^^^^^^^^^^^^^^^^^^^^^^^^^^^^^^^^^^^^^^^^^^^\n",
      "socket.gaierror: [Errno 8] nodename nor servname provided, or not known\n",
      "\n",
      "The above exception was the direct cause of the following exception:\n",
      "\n",
      "Traceback (most recent call last):\n",
      "  File \"/Users/camilamaura/miniforge3/envs/databook/lib/python3.11/site-packages/urllib3/connectionpool.py\", line 787, in urlopen\n",
      "    response = self._make_request(\n",
      "               ^^^^^^^^^^^^^^^^^^^\n",
      "  File \"/Users/camilamaura/miniforge3/envs/databook/lib/python3.11/site-packages/urllib3/connectionpool.py\", line 488, in _make_request\n",
      "    raise new_e\n",
      "  File \"/Users/camilamaura/miniforge3/envs/databook/lib/python3.11/site-packages/urllib3/connectionpool.py\", line 464, in _make_request\n",
      "    self._validate_conn(conn)\n",
      "  File \"/Users/camilamaura/miniforge3/envs/databook/lib/python3.11/site-packages/urllib3/connectionpool.py\", line 1093, in _validate_conn\n",
      "    conn.connect()\n",
      "  File \"/Users/camilamaura/miniforge3/envs/databook/lib/python3.11/site-packages/urllib3/connection.py\", line 704, in connect\n",
      "    self.sock = sock = self._new_conn()\n",
      "                       ^^^^^^^^^^^^^^^^\n",
      "  File \"/Users/camilamaura/miniforge3/envs/databook/lib/python3.11/site-packages/urllib3/connection.py\", line 205, in _new_conn\n",
      "    raise NameResolutionError(self.host, self, e) from e\n",
      "urllib3.exceptions.NameResolutionError: <urllib3.connection.HTTPSConnection object at 0x1391ff090>: Failed to resolve 'api.dandiarchive.org' ([Errno 8] nodename nor servname provided, or not known)\n",
      "\n",
      "The above exception was the direct cause of the following exception:\n",
      "\n",
      "Traceback (most recent call last):\n",
      "  File \"/Users/camilamaura/miniforge3/envs/databook/lib/python3.11/site-packages/requests/adapters.py\", line 667, in send\n",
      "    resp = conn.urlopen(\n",
      "           ^^^^^^^^^^^^^\n",
      "  File \"/Users/camilamaura/miniforge3/envs/databook/lib/python3.11/site-packages/urllib3/connectionpool.py\", line 841, in urlopen\n",
      "    retries = retries.increment(\n",
      "              ^^^^^^^^^^^^^^^^^^\n",
      "  File \"/Users/camilamaura/miniforge3/envs/databook/lib/python3.11/site-packages/urllib3/util/retry.py\", line 519, in increment\n",
      "    raise MaxRetryError(_pool, url, reason) from reason  # type: ignore[arg-type]\n",
      "    ^^^^^^^^^^^^^^^^^^^^^^^^^^^^^^^^^^^^^^^^^^^^^^^^^^^\n",
      "urllib3.exceptions.MaxRetryError: HTTPSConnectionPool(host='api.dandiarchive.org', port=443): Max retries exceeded with url: /api/dandisets/000021/ (Caused by NameResolutionError(\"<urllib3.connection.HTTPSConnection object at 0x1391ff090>: Failed to resolve 'api.dandiarchive.org' ([Errno 8] nodename nor servname provided, or not known)\"))\n",
      "\n",
      "During handling of the above exception, another exception occurred:\n",
      "\n",
      "Traceback (most recent call last):\n",
      "  File \"/Users/camilamaura/miniforge3/envs/databook/lib/python3.11/site-packages/dandi/dandiapi.py\", line 202, in request\n",
      "    for i, attempt in enumerate(\n",
      "  File \"/Users/camilamaura/miniforge3/envs/databook/lib/python3.11/site-packages/tenacity/__init__.py\", line 445, in __iter__\n",
      "    do = self.iter(retry_state=retry_state)\n",
      "         ^^^^^^^^^^^^^^^^^^^^^^^^^^^^^^^^^^\n",
      "  File \"/Users/camilamaura/miniforge3/envs/databook/lib/python3.11/site-packages/tenacity/__init__.py\", line 378, in iter\n",
      "    result = action(retry_state)\n",
      "             ^^^^^^^^^^^^^^^^^^^\n",
      "  File \"/Users/camilamaura/miniforge3/envs/databook/lib/python3.11/site-packages/tenacity/__init__.py\", line 420, in exc_check\n",
      "    raise retry_exc.reraise()\n",
      "          ^^^^^^^^^^^^^^^^^^^\n",
      "  File \"/Users/camilamaura/miniforge3/envs/databook/lib/python3.11/site-packages/tenacity/__init__.py\", line 187, in reraise\n",
      "    raise self.last_attempt.result()\n",
      "          ^^^^^^^^^^^^^^^^^^^^^^^^^^\n",
      "  File \"/Users/camilamaura/miniforge3/envs/databook/lib/python3.11/concurrent/futures/_base.py\", line 449, in result\n",
      "    return self.__get_result()\n",
      "           ^^^^^^^^^^^^^^^^^^^\n",
      "  File \"/Users/camilamaura/miniforge3/envs/databook/lib/python3.11/concurrent/futures/_base.py\", line 401, in __get_result\n",
      "    raise self._exception\n",
      "  File \"/Users/camilamaura/miniforge3/envs/databook/lib/python3.11/site-packages/dandi/dandiapi.py\", line 217, in request\n",
      "    result = self.session.request(\n",
      "             ^^^^^^^^^^^^^^^^^^^^^\n",
      "  File \"/Users/camilamaura/miniforge3/envs/databook/lib/python3.11/site-packages/requests/sessions.py\", line 589, in request\n",
      "    resp = self.send(prep, **send_kwargs)\n",
      "           ^^^^^^^^^^^^^^^^^^^^^^^^^^^^^^\n",
      "  File \"/Users/camilamaura/miniforge3/envs/databook/lib/python3.11/site-packages/requests/sessions.py\", line 703, in send\n",
      "    r = adapter.send(request, **kwargs)\n",
      "        ^^^^^^^^^^^^^^^^^^^^^^^^^^^^^^^\n",
      "  File \"/Users/camilamaura/miniforge3/envs/databook/lib/python3.11/site-packages/requests/adapters.py\", line 700, in send\n",
      "    raise ConnectionError(e, request=request)\n",
      "requests.exceptions.ConnectionError: HTTPSConnectionPool(host='api.dandiarchive.org', port=443): Max retries exceeded with url: /api/dandisets/000021/ (Caused by NameResolutionError(\"<urllib3.connection.HTTPSConnection object at 0x1391ff090>: Failed to resolve 'api.dandiarchive.org' ([Errno 8] nodename nor servname provided, or not known)\"))\n"
     ]
    },
    {
     "ename": "ConnectionError",
     "evalue": "HTTPSConnectionPool(host='api.dandiarchive.org', port=443): Max retries exceeded with url: /api/dandisets/000021/ (Caused by NameResolutionError(\"<urllib3.connection.HTTPSConnection object at 0x1391ff090>: Failed to resolve 'api.dandiarchive.org' ([Errno 8] nodename nor servname provided, or not known)\"))",
     "output_type": "error",
     "traceback": [
      "\u001b[0;31m---------------------------------------------------------------------------\u001b[0m",
      "\u001b[0;31mgaierror\u001b[0m                                  Traceback (most recent call last)",
      "File \u001b[0;32m~/miniforge3/envs/databook/lib/python3.11/site-packages/urllib3/connection.py:198\u001b[0m, in \u001b[0;36mHTTPConnection._new_conn\u001b[0;34m(self)\u001b[0m\n\u001b[1;32m    197\u001b[0m \u001b[38;5;28;01mtry\u001b[39;00m:\n\u001b[0;32m--> 198\u001b[0m     sock \u001b[38;5;241m=\u001b[39m \u001b[43mconnection\u001b[49m\u001b[38;5;241;43m.\u001b[39;49m\u001b[43mcreate_connection\u001b[49m\u001b[43m(\u001b[49m\n\u001b[1;32m    199\u001b[0m \u001b[43m        \u001b[49m\u001b[43m(\u001b[49m\u001b[38;5;28;43mself\u001b[39;49m\u001b[38;5;241;43m.\u001b[39;49m\u001b[43m_dns_host\u001b[49m\u001b[43m,\u001b[49m\u001b[43m \u001b[49m\u001b[38;5;28;43mself\u001b[39;49m\u001b[38;5;241;43m.\u001b[39;49m\u001b[43mport\u001b[49m\u001b[43m)\u001b[49m\u001b[43m,\u001b[49m\n\u001b[1;32m    200\u001b[0m \u001b[43m        \u001b[49m\u001b[38;5;28;43mself\u001b[39;49m\u001b[38;5;241;43m.\u001b[39;49m\u001b[43mtimeout\u001b[49m\u001b[43m,\u001b[49m\n\u001b[1;32m    201\u001b[0m \u001b[43m        \u001b[49m\u001b[43msource_address\u001b[49m\u001b[38;5;241;43m=\u001b[39;49m\u001b[38;5;28;43mself\u001b[39;49m\u001b[38;5;241;43m.\u001b[39;49m\u001b[43msource_address\u001b[49m\u001b[43m,\u001b[49m\n\u001b[1;32m    202\u001b[0m \u001b[43m        \u001b[49m\u001b[43msocket_options\u001b[49m\u001b[38;5;241;43m=\u001b[39;49m\u001b[38;5;28;43mself\u001b[39;49m\u001b[38;5;241;43m.\u001b[39;49m\u001b[43msocket_options\u001b[49m\u001b[43m,\u001b[49m\n\u001b[1;32m    203\u001b[0m \u001b[43m    \u001b[49m\u001b[43m)\u001b[49m\n\u001b[1;32m    204\u001b[0m \u001b[38;5;28;01mexcept\u001b[39;00m socket\u001b[38;5;241m.\u001b[39mgaierror \u001b[38;5;28;01mas\u001b[39;00m e:\n",
      "File \u001b[0;32m~/miniforge3/envs/databook/lib/python3.11/site-packages/urllib3/util/connection.py:60\u001b[0m, in \u001b[0;36mcreate_connection\u001b[0;34m(address, timeout, source_address, socket_options)\u001b[0m\n\u001b[1;32m     58\u001b[0m     \u001b[38;5;28;01mraise\u001b[39;00m LocationParseError(\u001b[38;5;124mf\u001b[39m\u001b[38;5;124m\"\u001b[39m\u001b[38;5;124m'\u001b[39m\u001b[38;5;132;01m{\u001b[39;00mhost\u001b[38;5;132;01m}\u001b[39;00m\u001b[38;5;124m'\u001b[39m\u001b[38;5;124m, label empty or too long\u001b[39m\u001b[38;5;124m\"\u001b[39m) \u001b[38;5;28;01mfrom\u001b[39;00m\u001b[38;5;250m \u001b[39m\u001b[38;5;28;01mNone\u001b[39;00m\n\u001b[0;32m---> 60\u001b[0m \u001b[38;5;28;01mfor\u001b[39;00m res \u001b[38;5;129;01min\u001b[39;00m \u001b[43msocket\u001b[49m\u001b[38;5;241;43m.\u001b[39;49m\u001b[43mgetaddrinfo\u001b[49m\u001b[43m(\u001b[49m\u001b[43mhost\u001b[49m\u001b[43m,\u001b[49m\u001b[43m \u001b[49m\u001b[43mport\u001b[49m\u001b[43m,\u001b[49m\u001b[43m \u001b[49m\u001b[43mfamily\u001b[49m\u001b[43m,\u001b[49m\u001b[43m \u001b[49m\u001b[43msocket\u001b[49m\u001b[38;5;241;43m.\u001b[39;49m\u001b[43mSOCK_STREAM\u001b[49m\u001b[43m)\u001b[49m:\n\u001b[1;32m     61\u001b[0m     af, socktype, proto, canonname, sa \u001b[38;5;241m=\u001b[39m res\n",
      "File \u001b[0;32m~/miniforge3/envs/databook/lib/python3.11/socket.py:974\u001b[0m, in \u001b[0;36mgetaddrinfo\u001b[0;34m(host, port, family, type, proto, flags)\u001b[0m\n\u001b[1;32m    973\u001b[0m addrlist \u001b[38;5;241m=\u001b[39m []\n\u001b[0;32m--> 974\u001b[0m \u001b[38;5;28;01mfor\u001b[39;00m res \u001b[38;5;129;01min\u001b[39;00m \u001b[43m_socket\u001b[49m\u001b[38;5;241;43m.\u001b[39;49m\u001b[43mgetaddrinfo\u001b[49m\u001b[43m(\u001b[49m\u001b[43mhost\u001b[49m\u001b[43m,\u001b[49m\u001b[43m \u001b[49m\u001b[43mport\u001b[49m\u001b[43m,\u001b[49m\u001b[43m \u001b[49m\u001b[43mfamily\u001b[49m\u001b[43m,\u001b[49m\u001b[43m \u001b[49m\u001b[38;5;28;43mtype\u001b[39;49m\u001b[43m,\u001b[49m\u001b[43m \u001b[49m\u001b[43mproto\u001b[49m\u001b[43m,\u001b[49m\u001b[43m \u001b[49m\u001b[43mflags\u001b[49m\u001b[43m)\u001b[49m:\n\u001b[1;32m    975\u001b[0m     af, socktype, proto, canonname, sa \u001b[38;5;241m=\u001b[39m res\n",
      "\u001b[0;31mgaierror\u001b[0m: [Errno 8] nodename nor servname provided, or not known",
      "\nThe above exception was the direct cause of the following exception:\n",
      "\u001b[0;31mNameResolutionError\u001b[0m                       Traceback (most recent call last)",
      "File \u001b[0;32m~/miniforge3/envs/databook/lib/python3.11/site-packages/urllib3/connectionpool.py:787\u001b[0m, in \u001b[0;36mHTTPConnectionPool.urlopen\u001b[0;34m(self, method, url, body, headers, retries, redirect, assert_same_host, timeout, pool_timeout, release_conn, chunked, body_pos, preload_content, decode_content, **response_kw)\u001b[0m\n\u001b[1;32m    786\u001b[0m \u001b[38;5;66;03m# Make the request on the HTTPConnection object\u001b[39;00m\n\u001b[0;32m--> 787\u001b[0m response \u001b[38;5;241m=\u001b[39m \u001b[38;5;28;43mself\u001b[39;49m\u001b[38;5;241;43m.\u001b[39;49m\u001b[43m_make_request\u001b[49m\u001b[43m(\u001b[49m\n\u001b[1;32m    788\u001b[0m \u001b[43m    \u001b[49m\u001b[43mconn\u001b[49m\u001b[43m,\u001b[49m\n\u001b[1;32m    789\u001b[0m \u001b[43m    \u001b[49m\u001b[43mmethod\u001b[49m\u001b[43m,\u001b[49m\n\u001b[1;32m    790\u001b[0m \u001b[43m    \u001b[49m\u001b[43murl\u001b[49m\u001b[43m,\u001b[49m\n\u001b[1;32m    791\u001b[0m \u001b[43m    \u001b[49m\u001b[43mtimeout\u001b[49m\u001b[38;5;241;43m=\u001b[39;49m\u001b[43mtimeout_obj\u001b[49m\u001b[43m,\u001b[49m\n\u001b[1;32m    792\u001b[0m \u001b[43m    \u001b[49m\u001b[43mbody\u001b[49m\u001b[38;5;241;43m=\u001b[39;49m\u001b[43mbody\u001b[49m\u001b[43m,\u001b[49m\n\u001b[1;32m    793\u001b[0m \u001b[43m    \u001b[49m\u001b[43mheaders\u001b[49m\u001b[38;5;241;43m=\u001b[39;49m\u001b[43mheaders\u001b[49m\u001b[43m,\u001b[49m\n\u001b[1;32m    794\u001b[0m \u001b[43m    \u001b[49m\u001b[43mchunked\u001b[49m\u001b[38;5;241;43m=\u001b[39;49m\u001b[43mchunked\u001b[49m\u001b[43m,\u001b[49m\n\u001b[1;32m    795\u001b[0m \u001b[43m    \u001b[49m\u001b[43mretries\u001b[49m\u001b[38;5;241;43m=\u001b[39;49m\u001b[43mretries\u001b[49m\u001b[43m,\u001b[49m\n\u001b[1;32m    796\u001b[0m \u001b[43m    \u001b[49m\u001b[43mresponse_conn\u001b[49m\u001b[38;5;241;43m=\u001b[39;49m\u001b[43mresponse_conn\u001b[49m\u001b[43m,\u001b[49m\n\u001b[1;32m    797\u001b[0m \u001b[43m    \u001b[49m\u001b[43mpreload_content\u001b[49m\u001b[38;5;241;43m=\u001b[39;49m\u001b[43mpreload_content\u001b[49m\u001b[43m,\u001b[49m\n\u001b[1;32m    798\u001b[0m \u001b[43m    \u001b[49m\u001b[43mdecode_content\u001b[49m\u001b[38;5;241;43m=\u001b[39;49m\u001b[43mdecode_content\u001b[49m\u001b[43m,\u001b[49m\n\u001b[1;32m    799\u001b[0m \u001b[43m    \u001b[49m\u001b[38;5;241;43m*\u001b[39;49m\u001b[38;5;241;43m*\u001b[39;49m\u001b[43mresponse_kw\u001b[49m\u001b[43m,\u001b[49m\n\u001b[1;32m    800\u001b[0m \u001b[43m\u001b[49m\u001b[43m)\u001b[49m\n\u001b[1;32m    802\u001b[0m \u001b[38;5;66;03m# Everything went great!\u001b[39;00m\n",
      "File \u001b[0;32m~/miniforge3/envs/databook/lib/python3.11/site-packages/urllib3/connectionpool.py:488\u001b[0m, in \u001b[0;36mHTTPConnectionPool._make_request\u001b[0;34m(self, conn, method, url, body, headers, retries, timeout, chunked, response_conn, preload_content, decode_content, enforce_content_length)\u001b[0m\n\u001b[1;32m    487\u001b[0m         new_e \u001b[38;5;241m=\u001b[39m _wrap_proxy_error(new_e, conn\u001b[38;5;241m.\u001b[39mproxy\u001b[38;5;241m.\u001b[39mscheme)\n\u001b[0;32m--> 488\u001b[0m     \u001b[38;5;28;01mraise\u001b[39;00m new_e\n\u001b[1;32m    490\u001b[0m \u001b[38;5;66;03m# conn.request() calls http.client.*.request, not the method in\u001b[39;00m\n\u001b[1;32m    491\u001b[0m \u001b[38;5;66;03m# urllib3.request. It also calls makefile (recv) on the socket.\u001b[39;00m\n",
      "File \u001b[0;32m~/miniforge3/envs/databook/lib/python3.11/site-packages/urllib3/connectionpool.py:464\u001b[0m, in \u001b[0;36mHTTPConnectionPool._make_request\u001b[0;34m(self, conn, method, url, body, headers, retries, timeout, chunked, response_conn, preload_content, decode_content, enforce_content_length)\u001b[0m\n\u001b[1;32m    463\u001b[0m \u001b[38;5;28;01mtry\u001b[39;00m:\n\u001b[0;32m--> 464\u001b[0m     \u001b[38;5;28;43mself\u001b[39;49m\u001b[38;5;241;43m.\u001b[39;49m\u001b[43m_validate_conn\u001b[49m\u001b[43m(\u001b[49m\u001b[43mconn\u001b[49m\u001b[43m)\u001b[49m\n\u001b[1;32m    465\u001b[0m \u001b[38;5;28;01mexcept\u001b[39;00m (SocketTimeout, BaseSSLError) \u001b[38;5;28;01mas\u001b[39;00m e:\n",
      "File \u001b[0;32m~/miniforge3/envs/databook/lib/python3.11/site-packages/urllib3/connectionpool.py:1093\u001b[0m, in \u001b[0;36mHTTPSConnectionPool._validate_conn\u001b[0;34m(self, conn)\u001b[0m\n\u001b[1;32m   1092\u001b[0m \u001b[38;5;28;01mif\u001b[39;00m conn\u001b[38;5;241m.\u001b[39mis_closed:\n\u001b[0;32m-> 1093\u001b[0m     \u001b[43mconn\u001b[49m\u001b[38;5;241;43m.\u001b[39;49m\u001b[43mconnect\u001b[49m\u001b[43m(\u001b[49m\u001b[43m)\u001b[49m\n\u001b[1;32m   1095\u001b[0m \u001b[38;5;66;03m# TODO revise this, see https://github.com/urllib3/urllib3/issues/2791\u001b[39;00m\n",
      "File \u001b[0;32m~/miniforge3/envs/databook/lib/python3.11/site-packages/urllib3/connection.py:704\u001b[0m, in \u001b[0;36mHTTPSConnection.connect\u001b[0;34m(self)\u001b[0m\n\u001b[1;32m    703\u001b[0m sock: socket\u001b[38;5;241m.\u001b[39msocket \u001b[38;5;241m|\u001b[39m ssl\u001b[38;5;241m.\u001b[39mSSLSocket\n\u001b[0;32m--> 704\u001b[0m \u001b[38;5;28mself\u001b[39m\u001b[38;5;241m.\u001b[39msock \u001b[38;5;241m=\u001b[39m sock \u001b[38;5;241m=\u001b[39m \u001b[38;5;28;43mself\u001b[39;49m\u001b[38;5;241;43m.\u001b[39;49m\u001b[43m_new_conn\u001b[49m\u001b[43m(\u001b[49m\u001b[43m)\u001b[49m\n\u001b[1;32m    705\u001b[0m server_hostname: \u001b[38;5;28mstr\u001b[39m \u001b[38;5;241m=\u001b[39m \u001b[38;5;28mself\u001b[39m\u001b[38;5;241m.\u001b[39mhost\n",
      "File \u001b[0;32m~/miniforge3/envs/databook/lib/python3.11/site-packages/urllib3/connection.py:205\u001b[0m, in \u001b[0;36mHTTPConnection._new_conn\u001b[0;34m(self)\u001b[0m\n\u001b[1;32m    204\u001b[0m \u001b[38;5;28;01mexcept\u001b[39;00m socket\u001b[38;5;241m.\u001b[39mgaierror \u001b[38;5;28;01mas\u001b[39;00m e:\n\u001b[0;32m--> 205\u001b[0m     \u001b[38;5;28;01mraise\u001b[39;00m NameResolutionError(\u001b[38;5;28mself\u001b[39m\u001b[38;5;241m.\u001b[39mhost, \u001b[38;5;28mself\u001b[39m, e) \u001b[38;5;28;01mfrom\u001b[39;00m\u001b[38;5;250m \u001b[39m\u001b[38;5;21;01me\u001b[39;00m\n\u001b[1;32m    206\u001b[0m \u001b[38;5;28;01mexcept\u001b[39;00m SocketTimeout \u001b[38;5;28;01mas\u001b[39;00m e:\n",
      "\u001b[0;31mNameResolutionError\u001b[0m: <urllib3.connection.HTTPSConnection object at 0x1391ff090>: Failed to resolve 'api.dandiarchive.org' ([Errno 8] nodename nor servname provided, or not known)",
      "\nThe above exception was the direct cause of the following exception:\n",
      "\u001b[0;31mMaxRetryError\u001b[0m                             Traceback (most recent call last)",
      "File \u001b[0;32m~/miniforge3/envs/databook/lib/python3.11/site-packages/requests/adapters.py:667\u001b[0m, in \u001b[0;36mHTTPAdapter.send\u001b[0;34m(self, request, stream, timeout, verify, cert, proxies)\u001b[0m\n\u001b[1;32m    666\u001b[0m \u001b[38;5;28;01mtry\u001b[39;00m:\n\u001b[0;32m--> 667\u001b[0m     resp \u001b[38;5;241m=\u001b[39m \u001b[43mconn\u001b[49m\u001b[38;5;241;43m.\u001b[39;49m\u001b[43murlopen\u001b[49m\u001b[43m(\u001b[49m\n\u001b[1;32m    668\u001b[0m \u001b[43m        \u001b[49m\u001b[43mmethod\u001b[49m\u001b[38;5;241;43m=\u001b[39;49m\u001b[43mrequest\u001b[49m\u001b[38;5;241;43m.\u001b[39;49m\u001b[43mmethod\u001b[49m\u001b[43m,\u001b[49m\n\u001b[1;32m    669\u001b[0m \u001b[43m        \u001b[49m\u001b[43murl\u001b[49m\u001b[38;5;241;43m=\u001b[39;49m\u001b[43murl\u001b[49m\u001b[43m,\u001b[49m\n\u001b[1;32m    670\u001b[0m \u001b[43m        \u001b[49m\u001b[43mbody\u001b[49m\u001b[38;5;241;43m=\u001b[39;49m\u001b[43mrequest\u001b[49m\u001b[38;5;241;43m.\u001b[39;49m\u001b[43mbody\u001b[49m\u001b[43m,\u001b[49m\n\u001b[1;32m    671\u001b[0m \u001b[43m        \u001b[49m\u001b[43mheaders\u001b[49m\u001b[38;5;241;43m=\u001b[39;49m\u001b[43mrequest\u001b[49m\u001b[38;5;241;43m.\u001b[39;49m\u001b[43mheaders\u001b[49m\u001b[43m,\u001b[49m\n\u001b[1;32m    672\u001b[0m \u001b[43m        \u001b[49m\u001b[43mredirect\u001b[49m\u001b[38;5;241;43m=\u001b[39;49m\u001b[38;5;28;43;01mFalse\u001b[39;49;00m\u001b[43m,\u001b[49m\n\u001b[1;32m    673\u001b[0m \u001b[43m        \u001b[49m\u001b[43massert_same_host\u001b[49m\u001b[38;5;241;43m=\u001b[39;49m\u001b[38;5;28;43;01mFalse\u001b[39;49;00m\u001b[43m,\u001b[49m\n\u001b[1;32m    674\u001b[0m \u001b[43m        \u001b[49m\u001b[43mpreload_content\u001b[49m\u001b[38;5;241;43m=\u001b[39;49m\u001b[38;5;28;43;01mFalse\u001b[39;49;00m\u001b[43m,\u001b[49m\n\u001b[1;32m    675\u001b[0m \u001b[43m        \u001b[49m\u001b[43mdecode_content\u001b[49m\u001b[38;5;241;43m=\u001b[39;49m\u001b[38;5;28;43;01mFalse\u001b[39;49;00m\u001b[43m,\u001b[49m\n\u001b[1;32m    676\u001b[0m \u001b[43m        \u001b[49m\u001b[43mretries\u001b[49m\u001b[38;5;241;43m=\u001b[39;49m\u001b[38;5;28;43mself\u001b[39;49m\u001b[38;5;241;43m.\u001b[39;49m\u001b[43mmax_retries\u001b[49m\u001b[43m,\u001b[49m\n\u001b[1;32m    677\u001b[0m \u001b[43m        \u001b[49m\u001b[43mtimeout\u001b[49m\u001b[38;5;241;43m=\u001b[39;49m\u001b[43mtimeout\u001b[49m\u001b[43m,\u001b[49m\n\u001b[1;32m    678\u001b[0m \u001b[43m        \u001b[49m\u001b[43mchunked\u001b[49m\u001b[38;5;241;43m=\u001b[39;49m\u001b[43mchunked\u001b[49m\u001b[43m,\u001b[49m\n\u001b[1;32m    679\u001b[0m \u001b[43m    \u001b[49m\u001b[43m)\u001b[49m\n\u001b[1;32m    681\u001b[0m \u001b[38;5;28;01mexcept\u001b[39;00m (ProtocolError, \u001b[38;5;167;01mOSError\u001b[39;00m) \u001b[38;5;28;01mas\u001b[39;00m err:\n",
      "File \u001b[0;32m~/miniforge3/envs/databook/lib/python3.11/site-packages/urllib3/connectionpool.py:841\u001b[0m, in \u001b[0;36mHTTPConnectionPool.urlopen\u001b[0;34m(self, method, url, body, headers, retries, redirect, assert_same_host, timeout, pool_timeout, release_conn, chunked, body_pos, preload_content, decode_content, **response_kw)\u001b[0m\n\u001b[1;32m    839\u001b[0m     new_e \u001b[38;5;241m=\u001b[39m ProtocolError(\u001b[38;5;124m\"\u001b[39m\u001b[38;5;124mConnection aborted.\u001b[39m\u001b[38;5;124m\"\u001b[39m, new_e)\n\u001b[0;32m--> 841\u001b[0m retries \u001b[38;5;241m=\u001b[39m \u001b[43mretries\u001b[49m\u001b[38;5;241;43m.\u001b[39;49m\u001b[43mincrement\u001b[49m\u001b[43m(\u001b[49m\n\u001b[1;32m    842\u001b[0m \u001b[43m    \u001b[49m\u001b[43mmethod\u001b[49m\u001b[43m,\u001b[49m\u001b[43m \u001b[49m\u001b[43murl\u001b[49m\u001b[43m,\u001b[49m\u001b[43m \u001b[49m\u001b[43merror\u001b[49m\u001b[38;5;241;43m=\u001b[39;49m\u001b[43mnew_e\u001b[49m\u001b[43m,\u001b[49m\u001b[43m \u001b[49m\u001b[43m_pool\u001b[49m\u001b[38;5;241;43m=\u001b[39;49m\u001b[38;5;28;43mself\u001b[39;49m\u001b[43m,\u001b[49m\u001b[43m \u001b[49m\u001b[43m_stacktrace\u001b[49m\u001b[38;5;241;43m=\u001b[39;49m\u001b[43msys\u001b[49m\u001b[38;5;241;43m.\u001b[39;49m\u001b[43mexc_info\u001b[49m\u001b[43m(\u001b[49m\u001b[43m)\u001b[49m\u001b[43m[\u001b[49m\u001b[38;5;241;43m2\u001b[39;49m\u001b[43m]\u001b[49m\n\u001b[1;32m    843\u001b[0m \u001b[43m\u001b[49m\u001b[43m)\u001b[49m\n\u001b[1;32m    844\u001b[0m retries\u001b[38;5;241m.\u001b[39msleep()\n",
      "File \u001b[0;32m~/miniforge3/envs/databook/lib/python3.11/site-packages/urllib3/util/retry.py:519\u001b[0m, in \u001b[0;36mRetry.increment\u001b[0;34m(self, method, url, response, error, _pool, _stacktrace)\u001b[0m\n\u001b[1;32m    518\u001b[0m     reason \u001b[38;5;241m=\u001b[39m error \u001b[38;5;129;01mor\u001b[39;00m ResponseError(cause)\n\u001b[0;32m--> 519\u001b[0m     \u001b[38;5;28;01mraise\u001b[39;00m MaxRetryError(_pool, url, reason) \u001b[38;5;28;01mfrom\u001b[39;00m\u001b[38;5;250m \u001b[39m\u001b[38;5;21;01mreason\u001b[39;00m  \u001b[38;5;66;03m# type: ignore[arg-type]\u001b[39;00m\n\u001b[1;32m    521\u001b[0m log\u001b[38;5;241m.\u001b[39mdebug(\u001b[38;5;124m\"\u001b[39m\u001b[38;5;124mIncremented Retry for (url=\u001b[39m\u001b[38;5;124m'\u001b[39m\u001b[38;5;132;01m%s\u001b[39;00m\u001b[38;5;124m'\u001b[39m\u001b[38;5;124m): \u001b[39m\u001b[38;5;132;01m%r\u001b[39;00m\u001b[38;5;124m\"\u001b[39m, url, new_retry)\n",
      "\u001b[0;31mMaxRetryError\u001b[0m: HTTPSConnectionPool(host='api.dandiarchive.org', port=443): Max retries exceeded with url: /api/dandisets/000021/ (Caused by NameResolutionError(\"<urllib3.connection.HTTPSConnection object at 0x1391ff090>: Failed to resolve 'api.dandiarchive.org' ([Errno 8] nodename nor servname provided, or not known)\"))",
      "\nDuring handling of the above exception, another exception occurred:\n",
      "\u001b[0;31mConnectionError\u001b[0m                           Traceback (most recent call last)",
      "Cell \u001b[0;32mIn[5], line 4\u001b[0m\n\u001b[1;32m      1\u001b[0m \u001b[38;5;28;01mimport\u001b[39;00m\u001b[38;5;250m \u001b[39m\u001b[38;5;21;01mpynapple\u001b[39;00m\u001b[38;5;250m \u001b[39m\u001b[38;5;28;01mas\u001b[39;00m\u001b[38;5;250m \u001b[39m\u001b[38;5;21;01mnap\u001b[39;00m\n\u001b[1;32m      2\u001b[0m \u001b[38;5;28;01mimport\u001b[39;00m\u001b[38;5;250m \u001b[39m\u001b[38;5;21;01mnemos\u001b[39;00m\u001b[38;5;250m \u001b[39m\u001b[38;5;28;01mas\u001b[39;00m\u001b[38;5;250m \u001b[39m\u001b[38;5;21;01mnmo\u001b[39;00m\n\u001b[0;32m----> 4\u001b[0m io \u001b[38;5;241m=\u001b[39m \u001b[43mdandi_download_open\u001b[49m\u001b[43m(\u001b[49m\u001b[43mdandiset_id\u001b[49m\u001b[43m,\u001b[49m\u001b[43m \u001b[49m\u001b[43mdandi_filepath\u001b[49m\u001b[43m,\u001b[49m\u001b[43m \u001b[49m\u001b[43mdownload_loc\u001b[49m\u001b[43m)\u001b[49m\n\u001b[1;32m      5\u001b[0m nwb \u001b[38;5;241m=\u001b[39m io\u001b[38;5;241m.\u001b[39mread()\n\u001b[1;32m      7\u001b[0m \u001b[38;5;66;03m#data = nap.NWBFile(\"sub-726298249_ses-754829445.nwb\")\u001b[39;00m\n",
      "Cell \u001b[0;32mIn[1], line 20\u001b[0m, in \u001b[0;36mdandi_download_open\u001b[0;34m(dandiset_id, dandi_filepath, download_loc, dandi_api_key, force_overwrite)\u001b[0m\n\u001b[1;32m     17\u001b[0m client \u001b[38;5;241m=\u001b[39m dandiapi\u001b[38;5;241m.\u001b[39mDandiAPIClient(token\u001b[38;5;241m=\u001b[39mdandi_api_key)\n\u001b[1;32m     18\u001b[0m dandiset \u001b[38;5;241m=\u001b[39m client\u001b[38;5;241m.\u001b[39mget_dandiset(dandiset_id)\n\u001b[0;32m---> 20\u001b[0m file \u001b[38;5;241m=\u001b[39m \u001b[43mdandiset\u001b[49m\u001b[38;5;241;43m.\u001b[39;49m\u001b[43mget_asset_by_path\u001b[49m\u001b[43m(\u001b[49m\u001b[43mdandi_filepath\u001b[49m\u001b[43m)\u001b[49m\n\u001b[1;32m     21\u001b[0m file_url \u001b[38;5;241m=\u001b[39m file\u001b[38;5;241m.\u001b[39mdownload_url\n\u001b[1;32m     23\u001b[0m \u001b[38;5;28;01mif\u001b[39;00m download_loc \u001b[38;5;241m==\u001b[39m \u001b[38;5;28;01mNone\u001b[39;00m:\n",
      "File \u001b[0;32m~/miniforge3/envs/databook/lib/python3.11/site-packages/dandi/dandiapi.py:1246\u001b[0m, in \u001b[0;36mRemoteDandiset.get_asset_by_path\u001b[0;34m(self, path)\u001b[0m\n\u001b[1;32m   1242\u001b[0m path \u001b[38;5;241m=\u001b[39m \u001b[38;5;28mself\u001b[39m\u001b[38;5;241m.\u001b[39m_normalize_path(path)\n\u001b[1;32m   1243\u001b[0m \u001b[38;5;28;01mtry\u001b[39;00m:\n\u001b[1;32m   1244\u001b[0m     \u001b[38;5;66;03m# Weed out any assets that happen to have the given path as a\u001b[39;00m\n\u001b[1;32m   1245\u001b[0m     \u001b[38;5;66;03m# proper prefix:\u001b[39;00m\n\u001b[0;32m-> 1246\u001b[0m     (asset,) \u001b[38;5;241m=\u001b[39m (\n\u001b[1;32m   1247\u001b[0m         a \u001b[38;5;28;01mfor\u001b[39;00m a \u001b[38;5;129;01min\u001b[39;00m \u001b[38;5;28mself\u001b[39m\u001b[38;5;241m.\u001b[39mget_assets_with_path_prefix(path) \u001b[38;5;28;01mif\u001b[39;00m a\u001b[38;5;241m.\u001b[39mpath \u001b[38;5;241m==\u001b[39m path\n\u001b[1;32m   1248\u001b[0m     )\n\u001b[1;32m   1249\u001b[0m \u001b[38;5;28;01mexcept\u001b[39;00m \u001b[38;5;167;01mValueError\u001b[39;00m:\n\u001b[1;32m   1250\u001b[0m     \u001b[38;5;28;01mraise\u001b[39;00m NotFoundError(\u001b[38;5;124mf\u001b[39m\u001b[38;5;124m\"\u001b[39m\u001b[38;5;124mNo asset at path \u001b[39m\u001b[38;5;132;01m{\u001b[39;00mpath\u001b[38;5;132;01m!r}\u001b[39;00m\u001b[38;5;124m\"\u001b[39m)\n",
      "File \u001b[0;32m~/miniforge3/envs/databook/lib/python3.11/site-packages/dandi/dandiapi.py:1246\u001b[0m, in \u001b[0;36m<genexpr>\u001b[0;34m(.0)\u001b[0m\n\u001b[1;32m   1242\u001b[0m path \u001b[38;5;241m=\u001b[39m \u001b[38;5;28mself\u001b[39m\u001b[38;5;241m.\u001b[39m_normalize_path(path)\n\u001b[1;32m   1243\u001b[0m \u001b[38;5;28;01mtry\u001b[39;00m:\n\u001b[1;32m   1244\u001b[0m     \u001b[38;5;66;03m# Weed out any assets that happen to have the given path as a\u001b[39;00m\n\u001b[1;32m   1245\u001b[0m     \u001b[38;5;66;03m# proper prefix:\u001b[39;00m\n\u001b[0;32m-> 1246\u001b[0m     (asset,) \u001b[38;5;241m=\u001b[39m \u001b[43m(\u001b[49m\n\u001b[1;32m   1247\u001b[0m \u001b[43m        \u001b[49m\u001b[43ma\u001b[49m\u001b[43m \u001b[49m\u001b[38;5;28;43;01mfor\u001b[39;49;00m\u001b[43m \u001b[49m\u001b[43ma\u001b[49m\u001b[43m \u001b[49m\u001b[38;5;129;43;01min\u001b[39;49;00m\u001b[43m \u001b[49m\u001b[38;5;28;43mself\u001b[39;49m\u001b[38;5;241;43m.\u001b[39;49m\u001b[43mget_assets_with_path_prefix\u001b[49m\u001b[43m(\u001b[49m\u001b[43mpath\u001b[49m\u001b[43m)\u001b[49m\u001b[43m \u001b[49m\u001b[38;5;28;43;01mif\u001b[39;49;00m\u001b[43m \u001b[49m\u001b[43ma\u001b[49m\u001b[38;5;241;43m.\u001b[39;49m\u001b[43mpath\u001b[49m\u001b[43m \u001b[49m\u001b[38;5;241;43m==\u001b[39;49m\u001b[43m \u001b[49m\u001b[43mpath\u001b[49m\n\u001b[1;32m   1248\u001b[0m \u001b[43m    \u001b[49m\u001b[43m)\u001b[49m\n\u001b[1;32m   1249\u001b[0m \u001b[38;5;28;01mexcept\u001b[39;00m \u001b[38;5;167;01mValueError\u001b[39;00m:\n\u001b[1;32m   1250\u001b[0m     \u001b[38;5;28;01mraise\u001b[39;00m NotFoundError(\u001b[38;5;124mf\u001b[39m\u001b[38;5;124m\"\u001b[39m\u001b[38;5;124mNo asset at path \u001b[39m\u001b[38;5;132;01m{\u001b[39;00mpath\u001b[38;5;132;01m!r}\u001b[39;00m\u001b[38;5;124m\"\u001b[39m)\n",
      "File \u001b[0;32m~/miniforge3/envs/databook/lib/python3.11/site-packages/dandi/dandiapi.py:1199\u001b[0m, in \u001b[0;36mRemoteDandiset.get_assets_with_path_prefix\u001b[0;34m(self, path, order)\u001b[0m\n\u001b[1;32m   1185\u001b[0m \u001b[38;5;250m\u001b[39m\u001b[38;5;124;03m\"\"\"\u001b[39;00m\n\u001b[1;32m   1186\u001b[0m \u001b[38;5;124;03mReturns an iterator of all assets in this version of the Dandiset whose\u001b[39;00m\n\u001b[1;32m   1187\u001b[0m \u001b[38;5;124;03m`~RemoteAsset.path` attributes start with ``path``\u001b[39;00m\n\u001b[0;32m   (...)\u001b[0m\n\u001b[1;32m   1195\u001b[0m \u001b[38;5;124;03mfield name to reverse the sort order.\u001b[39;00m\n\u001b[1;32m   1196\u001b[0m \u001b[38;5;124;03m\"\"\"\u001b[39;00m\n\u001b[1;32m   1197\u001b[0m \u001b[38;5;28;01mtry\u001b[39;00m:\n\u001b[1;32m   1198\u001b[0m     \u001b[38;5;28;01mfor\u001b[39;00m a \u001b[38;5;129;01min\u001b[39;00m \u001b[38;5;28mself\u001b[39m\u001b[38;5;241m.\u001b[39mclient\u001b[38;5;241m.\u001b[39mpaginate(\n\u001b[0;32m-> 1199\u001b[0m         \u001b[38;5;124mf\u001b[39m\u001b[38;5;124m\"\u001b[39m\u001b[38;5;132;01m{\u001b[39;00m\u001b[38;5;28;43mself\u001b[39;49m\u001b[38;5;241;43m.\u001b[39;49m\u001b[43mversion_api_path\u001b[49m\u001b[38;5;132;01m}\u001b[39;00m\u001b[38;5;124massets/\u001b[39m\u001b[38;5;124m\"\u001b[39m,\n\u001b[1;32m   1200\u001b[0m         params\u001b[38;5;241m=\u001b[39m{\u001b[38;5;124m\"\u001b[39m\u001b[38;5;124mpath\u001b[39m\u001b[38;5;124m\"\u001b[39m: \u001b[38;5;28mself\u001b[39m\u001b[38;5;241m.\u001b[39m_normalize_path(path), \u001b[38;5;124m\"\u001b[39m\u001b[38;5;124morder\u001b[39m\u001b[38;5;124m\"\u001b[39m: order},\n\u001b[1;32m   1201\u001b[0m     ):\n\u001b[1;32m   1202\u001b[0m         \u001b[38;5;28;01myield\u001b[39;00m RemoteAsset\u001b[38;5;241m.\u001b[39mfrom_data(\u001b[38;5;28mself\u001b[39m, a)\n\u001b[1;32m   1203\u001b[0m \u001b[38;5;28;01mexcept\u001b[39;00m HTTP404Error:\n",
      "File \u001b[0;32m~/miniforge3/envs/databook/lib/python3.11/site-packages/dandi/dandiapi.py:920\u001b[0m, in \u001b[0;36mRemoteDandiset.version_api_path\u001b[0;34m(self)\u001b[0m\n\u001b[1;32m    913\u001b[0m \u001b[38;5;129m@property\u001b[39m\n\u001b[1;32m    914\u001b[0m \u001b[38;5;28;01mdef\u001b[39;00m\u001b[38;5;250m \u001b[39m\u001b[38;5;21mversion_api_path\u001b[39m(\u001b[38;5;28mself\u001b[39m) \u001b[38;5;241m-\u001b[39m\u001b[38;5;241m>\u001b[39m \u001b[38;5;28mstr\u001b[39m:\n\u001b[1;32m    915\u001b[0m \u001b[38;5;250m    \u001b[39m\u001b[38;5;124;03m\"\"\"\u001b[39;00m\n\u001b[1;32m    916\u001b[0m \u001b[38;5;124;03m    The path (relative to the base endpoint for the DANDI API) at\u001b[39;00m\n\u001b[1;32m    917\u001b[0m \u001b[38;5;124;03m    which API requests for interacting with the version in question of the\u001b[39;00m\n\u001b[1;32m    918\u001b[0m \u001b[38;5;124;03m    Dandiset are made\u001b[39;00m\n\u001b[1;32m    919\u001b[0m \u001b[38;5;124;03m    \"\"\"\u001b[39;00m\n\u001b[0;32m--> 920\u001b[0m     \u001b[38;5;28;01mreturn\u001b[39;00m \u001b[38;5;124mf\u001b[39m\u001b[38;5;124m\"\u001b[39m\u001b[38;5;124m/dandisets/\u001b[39m\u001b[38;5;132;01m{\u001b[39;00m\u001b[38;5;28mself\u001b[39m\u001b[38;5;241m.\u001b[39midentifier\u001b[38;5;132;01m}\u001b[39;00m\u001b[38;5;124m/versions/\u001b[39m\u001b[38;5;132;01m{\u001b[39;00m\u001b[38;5;28;43mself\u001b[39;49m\u001b[38;5;241;43m.\u001b[39;49m\u001b[43mversion_id\u001b[49m\u001b[38;5;132;01m}\u001b[39;00m\u001b[38;5;124m/\u001b[39m\u001b[38;5;124m\"\u001b[39m\n",
      "File \u001b[0;32m~/miniforge3/envs/databook/lib/python3.11/site-packages/dandi/dandiapi.py:840\u001b[0m, in \u001b[0;36mRemoteDandiset.version_id\u001b[0;34m(self)\u001b[0m\n\u001b[1;32m    838\u001b[0m \u001b[38;5;250m\u001b[39m\u001b[38;5;124;03m\"\"\"The identifier for the Dandiset version\"\"\"\u001b[39;00m\n\u001b[1;32m    839\u001b[0m \u001b[38;5;28;01mif\u001b[39;00m \u001b[38;5;28mself\u001b[39m\u001b[38;5;241m.\u001b[39m_version_id \u001b[38;5;129;01mis\u001b[39;00m \u001b[38;5;28;01mNone\u001b[39;00m:\n\u001b[0;32m--> 840\u001b[0m     \u001b[38;5;28mself\u001b[39m\u001b[38;5;241m.\u001b[39m_version_id \u001b[38;5;241m=\u001b[39m \u001b[38;5;28;43mself\u001b[39;49m\u001b[38;5;241;43m.\u001b[39;49m\u001b[43mversion\u001b[49m\u001b[38;5;241m.\u001b[39midentifier\n\u001b[1;32m    841\u001b[0m \u001b[38;5;28;01mreturn\u001b[39;00m \u001b[38;5;28mself\u001b[39m\u001b[38;5;241m.\u001b[39m_version_id\n",
      "File \u001b[0;32m~/miniforge3/envs/databook/lib/python3.11/site-packages/dandi/dandiapi.py:848\u001b[0m, in \u001b[0;36mRemoteDandiset.version\u001b[0;34m(self)\u001b[0m\n\u001b[1;32m    846\u001b[0m \u001b[38;5;28;01mif\u001b[39;00m \u001b[38;5;28mself\u001b[39m\u001b[38;5;241m.\u001b[39m_version \u001b[38;5;129;01mis\u001b[39;00m \u001b[38;5;28;01mNone\u001b[39;00m:\n\u001b[1;32m    847\u001b[0m     \u001b[38;5;28;01mif\u001b[39;00m \u001b[38;5;28mself\u001b[39m\u001b[38;5;241m.\u001b[39m_version_id \u001b[38;5;129;01mis\u001b[39;00m \u001b[38;5;28;01mNone\u001b[39;00m:\n\u001b[0;32m--> 848\u001b[0m         \u001b[38;5;28;43mself\u001b[39;49m\u001b[38;5;241;43m.\u001b[39;49m\u001b[43m_get_data\u001b[49m\u001b[43m(\u001b[49m\u001b[43m)\u001b[49m\n\u001b[1;32m    849\u001b[0m     \u001b[38;5;28;01mif\u001b[39;00m \u001b[38;5;28mself\u001b[39m\u001b[38;5;241m.\u001b[39m_data \u001b[38;5;129;01mis\u001b[39;00m \u001b[38;5;129;01mnot\u001b[39;00m \u001b[38;5;28;01mNone\u001b[39;00m:\n\u001b[1;32m    850\u001b[0m         \u001b[38;5;28;01mfor\u001b[39;00m v \u001b[38;5;129;01min\u001b[39;00m [\n\u001b[1;32m    851\u001b[0m             \u001b[38;5;28mself\u001b[39m\u001b[38;5;241m.\u001b[39m_data\u001b[38;5;241m.\u001b[39mmost_recent_published_version,\n\u001b[1;32m    852\u001b[0m             \u001b[38;5;28mself\u001b[39m\u001b[38;5;241m.\u001b[39m_data\u001b[38;5;241m.\u001b[39mdraft_version,\n\u001b[1;32m    853\u001b[0m         ]:\n",
      "File \u001b[0;32m~/miniforge3/envs/databook/lib/python3.11/site-packages/dandi/dandiapi.py:830\u001b[0m, in \u001b[0;36mRemoteDandiset._get_data\u001b[0;34m(self)\u001b[0m\n\u001b[1;32m    827\u001b[0m \u001b[38;5;28;01mif\u001b[39;00m \u001b[38;5;28mself\u001b[39m\u001b[38;5;241m.\u001b[39m_data \u001b[38;5;129;01mis\u001b[39;00m \u001b[38;5;28;01mNone\u001b[39;00m:\n\u001b[1;32m    828\u001b[0m     \u001b[38;5;28;01mtry\u001b[39;00m:\n\u001b[1;32m    829\u001b[0m         \u001b[38;5;28mself\u001b[39m\u001b[38;5;241m.\u001b[39m_data \u001b[38;5;241m=\u001b[39m RemoteDandisetData\u001b[38;5;241m.\u001b[39mmodel_validate(\n\u001b[0;32m--> 830\u001b[0m             \u001b[38;5;28;43mself\u001b[39;49m\u001b[38;5;241;43m.\u001b[39;49m\u001b[43mclient\u001b[49m\u001b[38;5;241;43m.\u001b[39;49m\u001b[43mget\u001b[49m\u001b[43m(\u001b[49m\u001b[38;5;124;43mf\u001b[39;49m\u001b[38;5;124;43m\"\u001b[39;49m\u001b[38;5;124;43m/dandisets/\u001b[39;49m\u001b[38;5;132;43;01m{\u001b[39;49;00m\u001b[38;5;28;43mself\u001b[39;49m\u001b[38;5;241;43m.\u001b[39;49m\u001b[43midentifier\u001b[49m\u001b[38;5;132;43;01m}\u001b[39;49;00m\u001b[38;5;124;43m/\u001b[39;49m\u001b[38;5;124;43m\"\u001b[39;49m\u001b[43m)\u001b[49m\n\u001b[1;32m    831\u001b[0m         )\n\u001b[1;32m    832\u001b[0m     \u001b[38;5;28;01mexcept\u001b[39;00m HTTP404Error:\n\u001b[1;32m    833\u001b[0m         \u001b[38;5;28;01mraise\u001b[39;00m NotFoundError(\u001b[38;5;124mf\u001b[39m\u001b[38;5;124m\"\u001b[39m\u001b[38;5;124mNo such Dandiset: \u001b[39m\u001b[38;5;132;01m{\u001b[39;00m\u001b[38;5;28mself\u001b[39m\u001b[38;5;241m.\u001b[39midentifier\u001b[38;5;132;01m}\u001b[39;00m\u001b[38;5;124m\"\u001b[39m)\n",
      "File \u001b[0;32m~/miniforge3/envs/databook/lib/python3.11/site-packages/dandi/dandiapi.py:311\u001b[0m, in \u001b[0;36mRESTFullAPIClient.get\u001b[0;34m(self, path, **kwargs)\u001b[0m\n\u001b[1;32m    307\u001b[0m \u001b[38;5;28;01mdef\u001b[39;00m\u001b[38;5;250m \u001b[39m\u001b[38;5;21mget\u001b[39m(\u001b[38;5;28mself\u001b[39m, path: \u001b[38;5;28mstr\u001b[39m, \u001b[38;5;241m*\u001b[39m\u001b[38;5;241m*\u001b[39mkwargs: Any) \u001b[38;5;241m-\u001b[39m\u001b[38;5;241m>\u001b[39m Any:\n\u001b[1;32m    308\u001b[0m \u001b[38;5;250m    \u001b[39m\u001b[38;5;124;03m\"\"\"\u001b[39;00m\n\u001b[1;32m    309\u001b[0m \u001b[38;5;124;03m    Convenience method to call `request()` with the 'GET' HTTP method.\u001b[39;00m\n\u001b[1;32m    310\u001b[0m \u001b[38;5;124;03m    \"\"\"\u001b[39;00m\n\u001b[0;32m--> 311\u001b[0m     \u001b[38;5;28;01mreturn\u001b[39;00m \u001b[38;5;28;43mself\u001b[39;49m\u001b[38;5;241;43m.\u001b[39;49m\u001b[43mrequest\u001b[49m\u001b[43m(\u001b[49m\u001b[38;5;124;43m\"\u001b[39;49m\u001b[38;5;124;43mGET\u001b[39;49m\u001b[38;5;124;43m\"\u001b[39;49m\u001b[43m,\u001b[49m\u001b[43m \u001b[49m\u001b[43mpath\u001b[49m\u001b[43m,\u001b[49m\u001b[43m \u001b[49m\u001b[38;5;241;43m*\u001b[39;49m\u001b[38;5;241;43m*\u001b[39;49m\u001b[43mkwargs\u001b[49m\u001b[43m)\u001b[49m\n",
      "File \u001b[0;32m~/miniforge3/envs/databook/lib/python3.11/site-packages/dandi/dandiapi.py:202\u001b[0m, in \u001b[0;36mRESTFullAPIClient.request\u001b[0;34m(self, method, path, params, data, files, json, headers, json_resp, retry_statuses, retry_if, **kwargs)\u001b[0m\n\u001b[1;32m    199\u001b[0m lgr\u001b[38;5;241m.\u001b[39mdebug(\u001b[38;5;124m\"\u001b[39m\u001b[38;5;132;01m%s\u001b[39;00m\u001b[38;5;124m \u001b[39m\u001b[38;5;132;01m%s\u001b[39;00m\u001b[38;5;124m\"\u001b[39m, method\u001b[38;5;241m.\u001b[39mupper(), url)\n\u001b[1;32m    201\u001b[0m \u001b[38;5;28;01mtry\u001b[39;00m:\n\u001b[0;32m--> 202\u001b[0m \u001b[43m    \u001b[49m\u001b[38;5;28;43;01mfor\u001b[39;49;00m\u001b[43m \u001b[49m\u001b[43mi\u001b[49m\u001b[43m,\u001b[49m\u001b[43m \u001b[49m\u001b[43mattempt\u001b[49m\u001b[43m \u001b[49m\u001b[38;5;129;43;01min\u001b[39;49;00m\u001b[43m \u001b[49m\u001b[38;5;28;43menumerate\u001b[39;49m\u001b[43m(\u001b[49m\n\u001b[1;32m    203\u001b[0m \u001b[43m        \u001b[49m\u001b[43mtenacity\u001b[49m\u001b[38;5;241;43m.\u001b[39;49m\u001b[43mRetrying\u001b[49m\u001b[43m(\u001b[49m\n\u001b[1;32m    204\u001b[0m \u001b[43m            \u001b[49m\u001b[43mwait\u001b[49m\u001b[38;5;241;43m=\u001b[39;49m\u001b[43mtenacity\u001b[49m\u001b[38;5;241;43m.\u001b[39;49m\u001b[43mwait_exponential\u001b[49m\u001b[43m(\u001b[49m\u001b[43mexp_base\u001b[49m\u001b[38;5;241;43m=\u001b[39;49m\u001b[38;5;241;43m1.25\u001b[39;49m\u001b[43m,\u001b[49m\u001b[43m \u001b[49m\u001b[43mmultiplier\u001b[49m\u001b[38;5;241;43m=\u001b[39;49m\u001b[38;5;241;43m1.25\u001b[39;49m\u001b[43m)\u001b[49m\u001b[43m,\u001b[49m\n\u001b[1;32m    205\u001b[0m \u001b[43m            \u001b[49m\u001b[38;5;66;43;03m# urllib3's ConnectionPool isn't thread-safe, so we\u001b[39;49;00m\n\u001b[1;32m    206\u001b[0m \u001b[43m            \u001b[49m\u001b[38;5;66;43;03m# sometimes hit ConnectionErrors on the start of an upload.\u001b[39;49;00m\n\u001b[1;32m    207\u001b[0m \u001b[43m            \u001b[49m\u001b[38;5;66;43;03m# Retry when this happens.\u001b[39;49;00m\n\u001b[1;32m    208\u001b[0m \u001b[43m            \u001b[49m\u001b[38;5;66;43;03m# Cf. <https://github.com/urllib3/urllib3/issues/951>.\u001b[39;49;00m\n\u001b[1;32m    209\u001b[0m \u001b[43m            \u001b[49m\u001b[43mretry\u001b[49m\u001b[38;5;241;43m=\u001b[39;49m\u001b[43mtenacity\u001b[49m\u001b[38;5;241;43m.\u001b[39;49m\u001b[43mretry_if_exception_type\u001b[49m\u001b[43m(\u001b[49m\n\u001b[1;32m    210\u001b[0m \u001b[43m                \u001b[49m\u001b[43m(\u001b[49m\u001b[43mrequests\u001b[49m\u001b[38;5;241;43m.\u001b[39;49m\u001b[43mConnectionError\u001b[49m\u001b[43m,\u001b[49m\u001b[43m \u001b[49m\u001b[43mrequests\u001b[49m\u001b[38;5;241;43m.\u001b[39;49m\u001b[43mHTTPError\u001b[49m\u001b[43m)\u001b[49m\n\u001b[1;32m    211\u001b[0m \u001b[43m            \u001b[49m\u001b[43m)\u001b[49m\u001b[43m,\u001b[49m\n\u001b[1;32m    212\u001b[0m \u001b[43m            \u001b[49m\u001b[43mstop\u001b[49m\u001b[38;5;241;43m=\u001b[39;49m\u001b[43mtenacity\u001b[49m\u001b[38;5;241;43m.\u001b[39;49m\u001b[43mstop_after_attempt\u001b[49m\u001b[43m(\u001b[49m\u001b[43mREQUEST_RETRIES\u001b[49m\u001b[43m)\u001b[49m\u001b[43m,\u001b[49m\n\u001b[1;32m    213\u001b[0m \u001b[43m            \u001b[49m\u001b[43mreraise\u001b[49m\u001b[38;5;241;43m=\u001b[39;49m\u001b[38;5;28;43;01mTrue\u001b[39;49;00m\u001b[43m,\u001b[49m\n\u001b[1;32m    214\u001b[0m \u001b[43m        \u001b[49m\u001b[43m)\u001b[49m\n\u001b[1;32m    215\u001b[0m \u001b[43m    \u001b[49m\u001b[43m)\u001b[49m\u001b[43m:\u001b[49m\n\u001b[1;32m    216\u001b[0m \u001b[43m        \u001b[49m\u001b[38;5;28;43;01mwith\u001b[39;49;00m\u001b[43m \u001b[49m\u001b[43mattempt\u001b[49m\u001b[43m:\u001b[49m\n\u001b[1;32m    217\u001b[0m \u001b[43m            \u001b[49m\u001b[43mresult\u001b[49m\u001b[43m \u001b[49m\u001b[38;5;241;43m=\u001b[39;49m\u001b[43m \u001b[49m\u001b[38;5;28;43mself\u001b[39;49m\u001b[38;5;241;43m.\u001b[39;49m\u001b[43msession\u001b[49m\u001b[38;5;241;43m.\u001b[39;49m\u001b[43mrequest\u001b[49m\u001b[43m(\u001b[49m\n\u001b[1;32m    218\u001b[0m \u001b[43m                \u001b[49m\u001b[43mmethod\u001b[49m\u001b[43m,\u001b[49m\n\u001b[1;32m    219\u001b[0m \u001b[43m                \u001b[49m\u001b[43murl\u001b[49m\u001b[43m,\u001b[49m\n\u001b[0;32m   (...)\u001b[0m\n\u001b[1;32m    225\u001b[0m \u001b[43m                \u001b[49m\u001b[38;5;241;43m*\u001b[39;49m\u001b[38;5;241;43m*\u001b[39;49m\u001b[43mkwargs\u001b[49m\u001b[43m,\u001b[49m\n\u001b[1;32m    226\u001b[0m \u001b[43m            \u001b[49m\u001b[43m)\u001b[49m\n",
      "File \u001b[0;32m~/miniforge3/envs/databook/lib/python3.11/site-packages/tenacity/__init__.py:445\u001b[0m, in \u001b[0;36mBaseRetrying.__iter__\u001b[0;34m(self)\u001b[0m\n\u001b[1;32m    443\u001b[0m retry_state \u001b[38;5;241m=\u001b[39m RetryCallState(\u001b[38;5;28mself\u001b[39m, fn\u001b[38;5;241m=\u001b[39m\u001b[38;5;28;01mNone\u001b[39;00m, args\u001b[38;5;241m=\u001b[39m(), kwargs\u001b[38;5;241m=\u001b[39m{})\n\u001b[1;32m    444\u001b[0m \u001b[38;5;28;01mwhile\u001b[39;00m \u001b[38;5;28;01mTrue\u001b[39;00m:\n\u001b[0;32m--> 445\u001b[0m     do \u001b[38;5;241m=\u001b[39m \u001b[38;5;28;43mself\u001b[39;49m\u001b[38;5;241;43m.\u001b[39;49m\u001b[43miter\u001b[49m\u001b[43m(\u001b[49m\u001b[43mretry_state\u001b[49m\u001b[38;5;241;43m=\u001b[39;49m\u001b[43mretry_state\u001b[49m\u001b[43m)\u001b[49m\n\u001b[1;32m    446\u001b[0m     \u001b[38;5;28;01mif\u001b[39;00m \u001b[38;5;28misinstance\u001b[39m(do, DoAttempt):\n\u001b[1;32m    447\u001b[0m         \u001b[38;5;28;01myield\u001b[39;00m AttemptManager(retry_state\u001b[38;5;241m=\u001b[39mretry_state)\n",
      "File \u001b[0;32m~/miniforge3/envs/databook/lib/python3.11/site-packages/tenacity/__init__.py:378\u001b[0m, in \u001b[0;36mBaseRetrying.iter\u001b[0;34m(self, retry_state)\u001b[0m\n\u001b[1;32m    376\u001b[0m result \u001b[38;5;241m=\u001b[39m \u001b[38;5;28;01mNone\u001b[39;00m\n\u001b[1;32m    377\u001b[0m \u001b[38;5;28;01mfor\u001b[39;00m action \u001b[38;5;129;01min\u001b[39;00m \u001b[38;5;28mself\u001b[39m\u001b[38;5;241m.\u001b[39miter_state\u001b[38;5;241m.\u001b[39mactions:\n\u001b[0;32m--> 378\u001b[0m     result \u001b[38;5;241m=\u001b[39m \u001b[43maction\u001b[49m\u001b[43m(\u001b[49m\u001b[43mretry_state\u001b[49m\u001b[43m)\u001b[49m\n\u001b[1;32m    379\u001b[0m \u001b[38;5;28;01mreturn\u001b[39;00m result\n",
      "File \u001b[0;32m~/miniforge3/envs/databook/lib/python3.11/site-packages/tenacity/__init__.py:420\u001b[0m, in \u001b[0;36mBaseRetrying._post_stop_check_actions.<locals>.exc_check\u001b[0;34m(rs)\u001b[0m\n\u001b[1;32m    418\u001b[0m retry_exc \u001b[38;5;241m=\u001b[39m \u001b[38;5;28mself\u001b[39m\u001b[38;5;241m.\u001b[39mretry_error_cls(fut)\n\u001b[1;32m    419\u001b[0m \u001b[38;5;28;01mif\u001b[39;00m \u001b[38;5;28mself\u001b[39m\u001b[38;5;241m.\u001b[39mreraise:\n\u001b[0;32m--> 420\u001b[0m     \u001b[38;5;28;01mraise\u001b[39;00m \u001b[43mretry_exc\u001b[49m\u001b[38;5;241;43m.\u001b[39;49m\u001b[43mreraise\u001b[49m\u001b[43m(\u001b[49m\u001b[43m)\u001b[49m\n\u001b[1;32m    421\u001b[0m \u001b[38;5;28;01mraise\u001b[39;00m retry_exc \u001b[38;5;28;01mfrom\u001b[39;00m\u001b[38;5;250m \u001b[39m\u001b[38;5;21;01mfut\u001b[39;00m\u001b[38;5;21;01m.\u001b[39;00m\u001b[38;5;21;01mexception\u001b[39;00m()\n",
      "File \u001b[0;32m~/miniforge3/envs/databook/lib/python3.11/site-packages/tenacity/__init__.py:187\u001b[0m, in \u001b[0;36mRetryError.reraise\u001b[0;34m(self)\u001b[0m\n\u001b[1;32m    185\u001b[0m \u001b[38;5;28;01mdef\u001b[39;00m\u001b[38;5;250m \u001b[39m\u001b[38;5;21mreraise\u001b[39m(\u001b[38;5;28mself\u001b[39m) \u001b[38;5;241m-\u001b[39m\u001b[38;5;241m>\u001b[39m t\u001b[38;5;241m.\u001b[39mNoReturn:\n\u001b[1;32m    186\u001b[0m     \u001b[38;5;28;01mif\u001b[39;00m \u001b[38;5;28mself\u001b[39m\u001b[38;5;241m.\u001b[39mlast_attempt\u001b[38;5;241m.\u001b[39mfailed:\n\u001b[0;32m--> 187\u001b[0m         \u001b[38;5;28;01mraise\u001b[39;00m \u001b[38;5;28;43mself\u001b[39;49m\u001b[38;5;241;43m.\u001b[39;49m\u001b[43mlast_attempt\u001b[49m\u001b[38;5;241;43m.\u001b[39;49m\u001b[43mresult\u001b[49m\u001b[43m(\u001b[49m\u001b[43m)\u001b[49m\n\u001b[1;32m    188\u001b[0m     \u001b[38;5;28;01mraise\u001b[39;00m \u001b[38;5;28mself\u001b[39m\n",
      "File \u001b[0;32m~/miniforge3/envs/databook/lib/python3.11/concurrent/futures/_base.py:449\u001b[0m, in \u001b[0;36mFuture.result\u001b[0;34m(self, timeout)\u001b[0m\n\u001b[1;32m    447\u001b[0m     \u001b[38;5;28;01mraise\u001b[39;00m CancelledError()\n\u001b[1;32m    448\u001b[0m \u001b[38;5;28;01melif\u001b[39;00m \u001b[38;5;28mself\u001b[39m\u001b[38;5;241m.\u001b[39m_state \u001b[38;5;241m==\u001b[39m FINISHED:\n\u001b[0;32m--> 449\u001b[0m     \u001b[38;5;28;01mreturn\u001b[39;00m \u001b[38;5;28;43mself\u001b[39;49m\u001b[38;5;241;43m.\u001b[39;49m\u001b[43m__get_result\u001b[49m\u001b[43m(\u001b[49m\u001b[43m)\u001b[49m\n\u001b[1;32m    451\u001b[0m \u001b[38;5;28mself\u001b[39m\u001b[38;5;241m.\u001b[39m_condition\u001b[38;5;241m.\u001b[39mwait(timeout)\n\u001b[1;32m    453\u001b[0m \u001b[38;5;28;01mif\u001b[39;00m \u001b[38;5;28mself\u001b[39m\u001b[38;5;241m.\u001b[39m_state \u001b[38;5;129;01min\u001b[39;00m [CANCELLED, CANCELLED_AND_NOTIFIED]:\n",
      "File \u001b[0;32m~/miniforge3/envs/databook/lib/python3.11/concurrent/futures/_base.py:401\u001b[0m, in \u001b[0;36mFuture.__get_result\u001b[0;34m(self)\u001b[0m\n\u001b[1;32m    399\u001b[0m \u001b[38;5;28;01mif\u001b[39;00m \u001b[38;5;28mself\u001b[39m\u001b[38;5;241m.\u001b[39m_exception:\n\u001b[1;32m    400\u001b[0m     \u001b[38;5;28;01mtry\u001b[39;00m:\n\u001b[0;32m--> 401\u001b[0m         \u001b[38;5;28;01mraise\u001b[39;00m \u001b[38;5;28mself\u001b[39m\u001b[38;5;241m.\u001b[39m_exception\n\u001b[1;32m    402\u001b[0m     \u001b[38;5;28;01mfinally\u001b[39;00m:\n\u001b[1;32m    403\u001b[0m         \u001b[38;5;66;03m# Break a reference cycle with the exception in self._exception\u001b[39;00m\n\u001b[1;32m    404\u001b[0m         \u001b[38;5;28mself\u001b[39m \u001b[38;5;241m=\u001b[39m \u001b[38;5;28;01mNone\u001b[39;00m\n",
      "File \u001b[0;32m~/miniforge3/envs/databook/lib/python3.11/site-packages/dandi/dandiapi.py:217\u001b[0m, in \u001b[0;36mRESTFullAPIClient.request\u001b[0;34m(self, method, path, params, data, files, json, headers, json_resp, retry_statuses, retry_if, **kwargs)\u001b[0m\n\u001b[1;32m    202\u001b[0m \u001b[38;5;28;01mfor\u001b[39;00m i, attempt \u001b[38;5;129;01min\u001b[39;00m \u001b[38;5;28menumerate\u001b[39m(\n\u001b[1;32m    203\u001b[0m     tenacity\u001b[38;5;241m.\u001b[39mRetrying(\n\u001b[1;32m    204\u001b[0m         wait\u001b[38;5;241m=\u001b[39mtenacity\u001b[38;5;241m.\u001b[39mwait_exponential(exp_base\u001b[38;5;241m=\u001b[39m\u001b[38;5;241m1.25\u001b[39m, multiplier\u001b[38;5;241m=\u001b[39m\u001b[38;5;241m1.25\u001b[39m),\n\u001b[0;32m   (...)\u001b[0m\n\u001b[1;32m    214\u001b[0m     )\n\u001b[1;32m    215\u001b[0m ):\n\u001b[1;32m    216\u001b[0m     \u001b[38;5;28;01mwith\u001b[39;00m attempt:\n\u001b[0;32m--> 217\u001b[0m         result \u001b[38;5;241m=\u001b[39m \u001b[38;5;28;43mself\u001b[39;49m\u001b[38;5;241;43m.\u001b[39;49m\u001b[43msession\u001b[49m\u001b[38;5;241;43m.\u001b[39;49m\u001b[43mrequest\u001b[49m\u001b[43m(\u001b[49m\n\u001b[1;32m    218\u001b[0m \u001b[43m            \u001b[49m\u001b[43mmethod\u001b[49m\u001b[43m,\u001b[49m\n\u001b[1;32m    219\u001b[0m \u001b[43m            \u001b[49m\u001b[43murl\u001b[49m\u001b[43m,\u001b[49m\n\u001b[1;32m    220\u001b[0m \u001b[43m            \u001b[49m\u001b[43mparams\u001b[49m\u001b[38;5;241;43m=\u001b[39;49m\u001b[43mparams\u001b[49m\u001b[43m,\u001b[49m\n\u001b[1;32m    221\u001b[0m \u001b[43m            \u001b[49m\u001b[43mdata\u001b[49m\u001b[38;5;241;43m=\u001b[39;49m\u001b[43mdata\u001b[49m\u001b[43m,\u001b[49m\n\u001b[1;32m    222\u001b[0m \u001b[43m            \u001b[49m\u001b[43mfiles\u001b[49m\u001b[38;5;241;43m=\u001b[39;49m\u001b[43mfiles\u001b[49m\u001b[43m,\u001b[49m\n\u001b[1;32m    223\u001b[0m \u001b[43m            \u001b[49m\u001b[43mjson\u001b[49m\u001b[38;5;241;43m=\u001b[39;49m\u001b[43mjson\u001b[49m\u001b[43m,\u001b[49m\n\u001b[1;32m    224\u001b[0m \u001b[43m            \u001b[49m\u001b[43mheaders\u001b[49m\u001b[38;5;241;43m=\u001b[39;49m\u001b[43mheaders\u001b[49m\u001b[43m,\u001b[49m\n\u001b[1;32m    225\u001b[0m \u001b[43m            \u001b[49m\u001b[38;5;241;43m*\u001b[39;49m\u001b[38;5;241;43m*\u001b[39;49m\u001b[43mkwargs\u001b[49m\u001b[43m,\u001b[49m\n\u001b[1;32m    226\u001b[0m \u001b[43m        \u001b[49m\u001b[43m)\u001b[49m\n\u001b[1;32m    227\u001b[0m         \u001b[38;5;28;01mif\u001b[39;00m result\u001b[38;5;241m.\u001b[39mstatus_code \u001b[38;5;129;01min\u001b[39;00m [\u001b[38;5;241m*\u001b[39mRETRY_STATUSES, \u001b[38;5;241m*\u001b[39mretry_statuses] \u001b[38;5;129;01mor\u001b[39;00m (\n\u001b[1;32m    228\u001b[0m             retry_if \u001b[38;5;129;01mis\u001b[39;00m \u001b[38;5;129;01mnot\u001b[39;00m \u001b[38;5;28;01mNone\u001b[39;00m \u001b[38;5;129;01mand\u001b[39;00m retry_if(result)\n\u001b[1;32m    229\u001b[0m         ):\n\u001b[1;32m    230\u001b[0m             \u001b[38;5;28;01mif\u001b[39;00m attempt\u001b[38;5;241m.\u001b[39mretry_state\u001b[38;5;241m.\u001b[39mattempt_number \u001b[38;5;241m<\u001b[39m REQUEST_RETRIES:\n",
      "File \u001b[0;32m~/miniforge3/envs/databook/lib/python3.11/site-packages/requests/sessions.py:589\u001b[0m, in \u001b[0;36mSession.request\u001b[0;34m(self, method, url, params, data, headers, cookies, files, auth, timeout, allow_redirects, proxies, hooks, stream, verify, cert, json)\u001b[0m\n\u001b[1;32m    584\u001b[0m send_kwargs \u001b[38;5;241m=\u001b[39m {\n\u001b[1;32m    585\u001b[0m     \u001b[38;5;124m\"\u001b[39m\u001b[38;5;124mtimeout\u001b[39m\u001b[38;5;124m\"\u001b[39m: timeout,\n\u001b[1;32m    586\u001b[0m     \u001b[38;5;124m\"\u001b[39m\u001b[38;5;124mallow_redirects\u001b[39m\u001b[38;5;124m\"\u001b[39m: allow_redirects,\n\u001b[1;32m    587\u001b[0m }\n\u001b[1;32m    588\u001b[0m send_kwargs\u001b[38;5;241m.\u001b[39mupdate(settings)\n\u001b[0;32m--> 589\u001b[0m resp \u001b[38;5;241m=\u001b[39m \u001b[38;5;28;43mself\u001b[39;49m\u001b[38;5;241;43m.\u001b[39;49m\u001b[43msend\u001b[49m\u001b[43m(\u001b[49m\u001b[43mprep\u001b[49m\u001b[43m,\u001b[49m\u001b[43m \u001b[49m\u001b[38;5;241;43m*\u001b[39;49m\u001b[38;5;241;43m*\u001b[39;49m\u001b[43msend_kwargs\u001b[49m\u001b[43m)\u001b[49m\n\u001b[1;32m    591\u001b[0m \u001b[38;5;28;01mreturn\u001b[39;00m resp\n",
      "File \u001b[0;32m~/miniforge3/envs/databook/lib/python3.11/site-packages/requests/sessions.py:703\u001b[0m, in \u001b[0;36mSession.send\u001b[0;34m(self, request, **kwargs)\u001b[0m\n\u001b[1;32m    700\u001b[0m start \u001b[38;5;241m=\u001b[39m preferred_clock()\n\u001b[1;32m    702\u001b[0m \u001b[38;5;66;03m# Send the request\u001b[39;00m\n\u001b[0;32m--> 703\u001b[0m r \u001b[38;5;241m=\u001b[39m \u001b[43madapter\u001b[49m\u001b[38;5;241;43m.\u001b[39;49m\u001b[43msend\u001b[49m\u001b[43m(\u001b[49m\u001b[43mrequest\u001b[49m\u001b[43m,\u001b[49m\u001b[43m \u001b[49m\u001b[38;5;241;43m*\u001b[39;49m\u001b[38;5;241;43m*\u001b[39;49m\u001b[43mkwargs\u001b[49m\u001b[43m)\u001b[49m\n\u001b[1;32m    705\u001b[0m \u001b[38;5;66;03m# Total elapsed time of the request (approximately)\u001b[39;00m\n\u001b[1;32m    706\u001b[0m elapsed \u001b[38;5;241m=\u001b[39m preferred_clock() \u001b[38;5;241m-\u001b[39m start\n",
      "File \u001b[0;32m~/miniforge3/envs/databook/lib/python3.11/site-packages/requests/adapters.py:700\u001b[0m, in \u001b[0;36mHTTPAdapter.send\u001b[0;34m(self, request, stream, timeout, verify, cert, proxies)\u001b[0m\n\u001b[1;32m    696\u001b[0m     \u001b[38;5;28;01mif\u001b[39;00m \u001b[38;5;28misinstance\u001b[39m(e\u001b[38;5;241m.\u001b[39mreason, _SSLError):\n\u001b[1;32m    697\u001b[0m         \u001b[38;5;66;03m# This branch is for urllib3 v1.22 and later.\u001b[39;00m\n\u001b[1;32m    698\u001b[0m         \u001b[38;5;28;01mraise\u001b[39;00m SSLError(e, request\u001b[38;5;241m=\u001b[39mrequest)\n\u001b[0;32m--> 700\u001b[0m     \u001b[38;5;28;01mraise\u001b[39;00m \u001b[38;5;167;01mConnectionError\u001b[39;00m(e, request\u001b[38;5;241m=\u001b[39mrequest)\n\u001b[1;32m    702\u001b[0m \u001b[38;5;28;01mexcept\u001b[39;00m ClosedPoolError \u001b[38;5;28;01mas\u001b[39;00m e:\n\u001b[1;32m    703\u001b[0m     \u001b[38;5;28;01mraise\u001b[39;00m \u001b[38;5;167;01mConnectionError\u001b[39;00m(e, request\u001b[38;5;241m=\u001b[39mrequest)\n",
      "\u001b[0;31mConnectionError\u001b[0m: HTTPSConnectionPool(host='api.dandiarchive.org', port=443): Max retries exceeded with url: /api/dandisets/000021/ (Caused by NameResolutionError(\"<urllib3.connection.HTTPSConnection object at 0x1391ff090>: Failed to resolve 'api.dandiarchive.org' ([Errno 8] nodename nor servname provided, or not known)\"))"
     ]
    }
   ],
   "source": [
    "import pynapple as nap\n",
    "import nemos as nmo\n",
    "\n",
    "io = dandi_download_open(dandiset_id, dandi_filepath, download_loc)\n",
    "nwb = io.read()\n",
    "\n",
    "#data = nap.NWBFile(\"sub-726298249_ses-754829445.nwb\")\n",
    "file_name = \"sub-726298249_ses-754829445.nwb\"\n",
    "data = nap.load_file(file_name)"
   ]
  },
  {
   "cell_type": "markdown",
   "id": "5af5ef09",
   "metadata": {},
   "source": [
    "see data\n",
    "explain different types of pynapple?"
   ]
  },
  {
   "cell_type": "code",
   "execution_count": null,
   "id": "c6922788",
   "metadata": {},
   "outputs": [
    {
     "data": {
      "text/plain": [
       "sub-726298249_ses-754829445\n",
       "┍━━━━━━━━━━━━━━━━━━━━━━━━━━━━━━━━━━━━━━━━━━━━━━━━━━━━┯━━━━━━━━━━━━━┑\n",
       "│ Keys                                               │ Type        │\n",
       "┝━━━━━━━━━━━━━━━━━━━━━━━━━━━━━━━━━━━━━━━━━━━━━━━━━━━━┿━━━━━━━━━━━━━┥\n",
       "│ units                                              │ TsGroup     │\n",
       "│ static_gratings_presentations                      │ IntervalSet │\n",
       "│ spontaneous_presentations                          │ IntervalSet │\n",
       "│ natural_scenes_presentations                       │ IntervalSet │\n",
       "│ natural_movie_three_presentations                  │ IntervalSet │\n",
       "│ natural_movie_one_presentations                    │ IntervalSet │\n",
       "│ gabors_presentations                               │ IntervalSet │\n",
       "│ flashes_presentations                              │ IntervalSet │\n",
       "│ drifting_gratings_presentations                    │ IntervalSet │\n",
       "│ timestamps                                         │ Tsd         │\n",
       "│ running_wheel_rotation                             │ Tsd         │\n",
       "│ running_speed_end_times                            │ Tsd         │\n",
       "│ running_speed                                      │ Tsd         │\n",
       "│ raw_gaze_mapping/screen_coordinates_spherical      │ TsdFrame    │\n",
       "│ raw_gaze_mapping/screen_coordinates                │ TsdFrame    │\n",
       "│ raw_gaze_mapping/pupil_area                        │ Tsd         │\n",
       "│ raw_gaze_mapping/eye_area                          │ Tsd         │\n",
       "│ optogenetic_stimulation                            │ IntervalSet │\n",
       "│ optotagging                                        │ Tsd         │\n",
       "│ filtered_gaze_mapping/screen_coordinates_spherical │ TsdFrame    │\n",
       "│ filtered_gaze_mapping/screen_coordinates           │ TsdFrame    │\n",
       "│ filtered_gaze_mapping/pupil_area                   │ Tsd         │\n",
       "│ filtered_gaze_mapping/eye_area                     │ Tsd         │\n",
       "│ running_wheel_supply_voltage                       │ Tsd         │\n",
       "│ running_wheel_signal_voltage                       │ Tsd         │\n",
       "│ raw_running_wheel_rotation                         │ Tsd         │\n",
       "┕━━━━━━━━━━━━━━━━━━━━━━━━━━━━━━━━━━━━━━━━━━━━━━━━━━━━┷━━━━━━━━━━━━━┙"
      ]
     },
     "execution_count": 6,
     "metadata": {},
     "output_type": "execute_result"
    }
   ],
   "source": [
    "data"
   ]
  },
  {
   "cell_type": "markdown",
   "id": "c3222bbd",
   "metadata": {},
   "source": [
    "### Extract Spiking data"
   ]
  },
  {
   "cell_type": "code",
   "execution_count": null,
   "id": "32c68d19",
   "metadata": {},
   "outputs": [],
   "source": [
    "# Identify what brain location electrodes belong to\n",
    "channel_probes = {}\n",
    "\n",
    "electrodes = nwb.electrodes\n",
    "for i in range(len(electrodes)):\n",
    "    channel_id = electrodes[\"id\"][i]\n",
    "    location = electrodes[\"location\"][i]\n",
    "    channel_probes[channel_id] = location\n",
    "\n",
    "print(channel_probes)\n",
    "\n",
    "units = data[\"units\"]\n",
    "\n",
    "# Add a new column to include location in our spikes TsGroup\n",
    "units[\"location\"] = units[\"peak_channel_id\"].map(channel_probes)\n",
    "\n",
    "# Filter units 1) inn VISp, 2) with \"good\" quality and 3) with a firing rate larger than 2\n",
    "units_visp = units[(units[\"location\"]==\"VISp\") & (units[\"quality\"]==\"good\") & (units[\"rate\"]>2.0)] \n",
    "\n",
    "# Spike counts will be arranged later"
   ]
  },
  {
   "cell_type": "markdown",
   "id": "cf6c4fac",
   "metadata": {},
   "source": [
    "### Extract Stimulus Data"
   ]
  },
  {
   "cell_type": "code",
   "execution_count": null,
   "id": "d06b9f8c",
   "metadata": {},
   "outputs": [],
   "source": [
    "def retrieve_stim_info(color_code, features, flashes):\n",
    "    \"\"\"Retrieve stimulus information based on color code.\n",
    "\n",
    "    Parameters\n",
    "    ----------\n",
    "    color_code : \n",
    "        The color label (e.g., '-1.0' for black, '1.0 for white) to identify the stimulus.\n",
    "    features : \n",
    "        An array indicating which flash interval each timestamp belongs to.\n",
    "\n",
    "    Returns\n",
    "    ----------\n",
    "    color_feature: \n",
    "        A binary array where 1 indicates the timestamp falls within a flash \n",
    "        interval of the given color_code, and 0 otherwise.\n",
    "    \"\"\"\n",
    "    # Get the indices of flash intervals where the color matches the given color_code\n",
    "    intervals = flashes.index[flashes[\"color\"] == color_code]\n",
    "    # Initialize an array of zeros with the same length as the features array\n",
    "    color_feature = np.zeros(len(features))\n",
    "    # Create a boolean mask for entries in 'features' that match the target flash intervals\n",
    "    mask = np.isin(features, intervals)\n",
    "    # Mark the matching timestamps with 1\n",
    "    color_feature[mask] = 1\n",
    "\n",
    "    return color_feature"
   ]
  },
  {
   "cell_type": "code",
   "execution_count": null,
   "id": "47b74f91",
   "metadata": {},
   "outputs": [
    {
     "name": "stderr",
     "output_type": "stream",
     "text": [
      "/Users/camilamaura/miniforge3/envs/databook/lib/python3.11/site-packages/pynapple/core/metadata_class.py:167: UserWarning: Metadata name 'size' overlaps with an existing attribute, and cannot be accessed as an attribute or key. Use 'get_info()' to access metadata.\n",
      "  warnings.warn(\n"
     ]
    }
   ],
   "source": [
    "flashes = data[\"flashes_presentations\"]\n",
    "\n",
    "# Set start, end and bin size\n",
    "start = data[\"flashes_presentations\"][\"start\"].min()\n",
    "end = data[\"flashes_presentations\"][\"end\"].max()\n",
    "bin_sz = 0.050\n",
    "\n",
    "# Set number of time bins\n",
    "length = int((end-start)//bin_sz)\n",
    "\n",
    "# Create Tsd with timestamps corresponding to the desired time bins and bins sizes\n",
    "counts = units.count(bin_sz, ep=nap.IntervalSet(start, end))\n",
    "uniform = nap.Tsd(t=counts.t, d=np.ones(counts.shape[0]))\n",
    "\n",
    "# For each desired timestamp, find the index of the flash interval it falls into.\n",
    "# Returns NaN for timestamps outside all intervals, and an index for those within.\n",
    "features = flashes.in_interval(uniform)\n",
    "\n",
    "white_stimuli = retrieve_stim_info(\"1.0\", features, flashes)\n",
    "black_stimuli = retrieve_stim_info(\"-1.0\", features, flashes)"
   ]
  },
  {
   "cell_type": "code",
   "execution_count": null,
   "id": "1b372d5a",
   "metadata": {},
   "outputs": [],
   "source": [
    "# Plot\n",
    "'''\n",
    "fig, axes = plt.subplots(1,2, figsize=(15,5))\n",
    "axes[0].plot(uniform.times(), white_stimuli, color=\"silver\")\n",
    "axes[0].set_title(\"White Flashes from Session\")\n",
    "axes[0].set_xlabel(\"Time\")\n",
    "axes[0].set_ylabel(\"Presence of Flash\")\n",
    "\n",
    "axes[1].plot(uniform.times(), black_stimuli, color=\"black\")\n",
    "axes[1].set_title(\"Black Flashes from Session\")\n",
    "axes[1].set_xlabel(\"Time\")\n",
    "axes[1].set_ylabel(\"Presence of Flash\")\n",
    "'''"
   ]
  },
  {
   "cell_type": "markdown",
   "id": "8be86ec1",
   "metadata": {},
   "source": [
    "### Explain spike counts"
   ]
  },
  {
   "cell_type": "code",
   "execution_count": null,
   "id": "2b19584a",
   "metadata": {},
   "outputs": [
    {
     "data": {
      "text/plain": [
       "Time (s)        951765440    951765454    951765460    951765467    951765478    ...\n",
       "--------------  -----------  -----------  -----------  -----------  -----------  -----\n",
       "1285.650869922  0            2            1            4            0            ...\n",
       "1285.700869922  0            1            1            3            0            ...\n",
       "1285.750869922  0            0            0            3            0            ...\n",
       "1285.800869922  0            0            2            1            0            ...\n",
       "1285.850869922  0            1            0            2            0            ...\n",
       "1285.900869922  0            2            1            0            0            ...\n",
       "1285.950869922  0            1            0            3            0            ...\n",
       "...             ...          ...          ...          ...          ...          ...\n",
       "1583.750869922  0            0            0            1            0            ...\n",
       "1583.800869922  1            1            0            1            0            ...\n",
       "1583.850869922  1            0            0            1            0            ...\n",
       "1583.900869922  1            0            1            5            0            ...\n",
       "1583.950869922  0            1            1            3            0            ...\n",
       "1584.000869922  0            0            1            5            0            ...\n",
       "1584.050869922  1            0            0            2            0            ...\n",
       "dtype: int64, shape: (5969, 124)"
      ]
     },
     "execution_count": 11,
     "metadata": {},
     "output_type": "execute_result"
    }
   ],
   "source": [
    "# Spike counts\n",
    "# Provisional spike counts\n",
    "drop_list = [k for k in units_visp.metadata_columns if k != \"rate\"]\n",
    "units_visp.drop_info(drop_list)\n",
    "\n",
    "spike_counts = units_visp.count(bin_sz, uniform.time_support)\n",
    "spike_counts = spike_counts[:, :] # This is a problem idk why I am having the wrong dimensions\n",
    "spike_counts"
   ]
  },
  {
   "cell_type": "markdown",
   "id": "7ba737be",
   "metadata": {},
   "source": [
    "### Building design matrix"
   ]
  },
  {
   "cell_type": "code",
   "execution_count": null,
   "id": "273eb5d1",
   "metadata": {},
   "outputs": [],
   "source": [
    "### This will be in the snippet\n",
    "\n",
    "def build_design_mat(stim, d, include_const=True):\n",
    "  # Create version of stimulus vector with zeros before onset\n",
    "  padded_stim = np.concatenate([np.zeros(d-1), stim])\n",
    "\n",
    "  # Construct a matrix where each row has the d frames of\n",
    "  # the stimulus preceding and including timepoint t\n",
    "  T = len(stim)  # Total number of timepoints (hint: number of stimulus frames)\n",
    "  X = np.zeros((T, d))\n",
    "  for t in range(T):\n",
    "      X[t] = padded_stim[t:t + d]\n",
    "\n",
    "  if include_const:\n",
    "    constant = np.ones_like(stim)\n",
    "    return np.column_stack([constant, X])\n",
    "  return X"
   ]
  },
  {
   "cell_type": "code",
   "execution_count": null,
   "id": "18669b67",
   "metadata": {},
   "outputs": [
    {
     "name": "stdout",
     "output_type": "stream",
     "text": [
      "population GLM log-likelihood: -0.5633060233341309\n"
     ]
    },
    {
     "data": {
      "image/png": "[encoded data removed]",
      "text/plain": [
       "<Figure size 640x480 with 1 Axes>"
      ]
     },
     "metadata": {},
     "output_type": "display_data"
    },
    {
     "data": {
      "image/png": "[encoded data removed]",
      "text/plain": [
       "<Figure size 640x480 with 1 Axes>"
      ]
     },
     "metadata": {},
     "output_type": "display_data"
    }
   ],
   "source": [
    "# Attempt of basis\n",
    "filter_duration = 0.250 # we want a 200 ms window,\n",
    "filter_length = int(filter_duration / bin_sz) # divide by bin size to yield length of filter\n",
    "filter_time_bins = np.linspace(-filter_duration, 0, filter_length+1, endpoint=True)\n",
    "\n",
    "white_basis = nmo.basis.HistoryConv(window_size=5, label=\"white\", conv_kwargs=dict(shift=False))\n",
    "black_basis = nmo.basis.HistoryConv(window_size=5,label=\"black\",conv_kwargs=dict(shift=False))\n",
    "\n",
    "white_basis = white_basis.compute_features(white_stimuli)\n",
    "black_basis = black_basis.compute_features(black_stimuli)\n",
    "\n",
    "X = nmo.pytrees.FeaturePytree(W=white_basis, B=black_basis)\n",
    "\n",
    "model = nmo.glm.PopulationGLM(regularizer=\"UnRegularized\", )#regularizer_strength=10**-12\n",
    "model.fit(X,spike_counts)\n",
    "\n",
    "print(f\"population GLM log-likelihood: {model.score(X, spike_counts)}\")\n",
    "\n",
    "for i in range(2):\n",
    "    plt.plot(filter_time_bins[:-1], model.coef_[\"B\"][:,i], label='Black flashes', color=\"black\")\n",
    "    plt.plot(filter_time_bins[:-1], model.coef_[\"W\"][:,i], label='White flashes', color =\"silver\")\n",
    "    plt.title(f\"unit {i}\")\n",
    "    plt.show()\n"
   ]
  },
  {
   "cell_type": "code",
   "execution_count": null,
   "id": "55cc3d8b",
   "metadata": {},
   "outputs": [
    {
     "ename": "NameError",
     "evalue": "name 'white_basis' is not defined",
     "output_type": "error",
     "traceback": [
      "\u001b[0;31m---------------------------------------------------------------------------\u001b[0m",
      "\u001b[0;31mNameError\u001b[0m                                 Traceback (most recent call last)",
      "Cell \u001b[0;32mIn[16], line 2\u001b[0m\n\u001b[1;32m      1\u001b[0m filter_time_bins[:\u001b[38;5;241m-\u001b[39m\u001b[38;5;241m1\u001b[39m]\n\u001b[0;32m----> 2\u001b[0m X \u001b[38;5;241m=\u001b[39m nmo\u001b[38;5;241m.\u001b[39mpytrees\u001b[38;5;241m.\u001b[39mFeaturePytree(W\u001b[38;5;241m=\u001b[39m\u001b[43mwhite_basis\u001b[49m, B\u001b[38;5;241m=\u001b[39mblack_basis)\n",
      "\u001b[0;31mNameError\u001b[0m: name 'white_basis' is not defined"
     ]
    }
   ],
   "source": [
    "from jax.tree_util import tree_leaves\n",
    "X = nmo.pytrees.FeaturePytree(W=white_basis, B=black_basis)\n",
    "X_1  = np.hstack(tree_leaves(X))\n",
    "np.linalg.eigh(X_1[filter_length:].T@X_1[filter_length:])[0]\n"
   ]
  },
  {
   "cell_type": "code",
   "execution_count": null,
   "id": "1cec4523",
   "metadata": {},
   "outputs": [
    {
     "name": "stdout",
     "output_type": "stream",
     "text": [
      "[-1.85701429e-01  4.69274521e-01 -3.90083310e-01 -2.83405300e-11\n",
      " -2.70699128e-02 -2.99530466e-01  3.10134592e-01  6.34824141e-01\n",
      "  6.85906181e-01  7.15288986e-02]\n"
     ]
    },
    {
     "data": {
      "text/plain": [
       "Array(-0.52314066, dtype=float64)"
      ]
     },
     "execution_count": 140,
     "metadata": {},
     "output_type": "execute_result"
    }
   ],
   "source": [
    "import jax\n",
    "\n",
    "jax.config.update(\"jax_enable_x64\", True)\n",
    "\n",
    "X = np.hstack([white_basis,black_basis])\n",
    "spike_counts.sum(axis=0)\n",
    "np.where(spike_counts.sum(axis=0)==1267)\n",
    "\n",
    "model = nmo.glm.GLM(solver_name=\"LBFGS\", solver_kwargs=dict(tol=10**-12))\n",
    "model.fit(X,spike_counts[:,117])\n",
    "print(model.coef_)\n",
    "model.score(X,spike_counts[:,117])"
   ]
  },
  {
   "cell_type": "code",
   "execution_count": null,
   "id": "b129e2a1",
   "metadata": {},
   "outputs": [
    {
     "name": "stdout",
     "output_type": "stream",
     "text": [
      "ProxGradState(iter_num=Array(39, dtype=int64, weak_type=True), stepsize=Array(16., dtype=float64), error=Array(0.00087914, dtype=float64), aux=None, velocity=(Array([-0.16936783,  0.44515027, -0.36249703, -0.03445257, -0.00520354,\n",
      "       -0.298204  ,  0.3107426 ,  0.6225753 ,  0.70227602,  0.06478291],      dtype=float64), Array([-1.71907135], dtype=float64)), t=Array(21.26074369, dtype=float64, weak_type=True))\n",
      "[-0.16475461  0.43639854 -0.356107   -0.03656973 -0.00425021 -0.30066662\n",
      "  0.31082094  0.62583848  0.70305991  0.06173728]\n"
     ]
    },
    {
     "data": {
      "text/plain": [
       "Array(-0.52314407, dtype=float64)"
      ]
     },
     "execution_count": 142,
     "metadata": {},
     "output_type": "execute_result"
    }
   ],
   "source": [
    "X = np.hstack([white_basis,black_basis])\n",
    "spike_counts.sum(axis=0)\n",
    "#np.where(spike_counts.sum(axis=0)==1267)\n",
    "\n",
    "model = nmo.glm.GLM()\n",
    "model.fit(X,spike_counts[:,117])\n",
    "print(model.solver_state_)\n",
    "print(model.coef_)\n",
    "model.score(X,spike_counts[:,117])"
   ]
  },
  {
   "cell_type": "code",
   "execution_count": null,
   "id": "1add1310",
   "metadata": {},
   "outputs": [
    {
     "name": "stdout",
     "output_type": "stream",
     "text": [
      "LbfgsState(iter_num=Array(71, dtype=int64, weak_type=True), value=Array(0.51445397, dtype=float64), grad=(Array([ 1.32227637e-13,  2.61270972e-13, -2.04245387e-13, -1.88145852e-13,\n",
      "       -5.23670462e-14,  3.61967726e-13, -1.27369686e-13, -1.98116371e-13,\n",
      "       -4.57849904e-14, -1.65513003e-13], dtype=float64), Array([4.02502684e-13], dtype=float64)), stepsize=Array(1., dtype=float64), error=Array(7.37290318e-13, dtype=float64), s_history=(Array([[-5.62291880e-12, -5.09398079e-12,  3.20946048e-11,\n",
      "         1.34884818e-11, -4.88719377e-11,  2.02595718e-11,\n",
      "        -6.76103618e-12, -3.52919916e-11, -1.53749236e-11,\n",
      "         4.64354943e-12],\n",
      "       [ 3.32011335e-10, -1.48248525e-10, -2.83141011e-10,\n",
      "         3.46141550e-10,  6.77931680e-10,  2.65495903e-10,\n",
      "        -9.57549151e-10,  1.07929465e-09,  3.16378035e-11,\n",
      "        -4.04004483e-10],\n",
      "       [ 4.74643935e-11,  1.02605258e-10,  4.05752654e-11,\n",
      "         9.40618708e-11,  4.14765711e-10,  6.02814465e-11,\n",
      "        -8.92500185e-10,  7.82184317e-10, -5.78811554e-10,\n",
      "        -7.60449814e-10],\n",
      "       [ 2.00954198e-10, -1.18448473e-10, -2.08008666e-10,\n",
      "         2.49488623e-10,  3.33779723e-10,  1.76530679e-10,\n",
      "        -5.15363308e-10,  6.01097283e-10,  1.34290357e-10,\n",
      "        -1.45443130e-10],\n",
      "       [ 1.93104005e-10, -1.22364341e-10, -1.87553750e-10,\n",
      "         2.33424786e-10,  3.31765500e-10,  1.73574044e-10,\n",
      "        -5.34493061e-10,  6.04528982e-10,  1.53647428e-10,\n",
      "        -1.56984106e-10],\n",
      "       [ 1.56405555e-10, -1.00328079e-10, -1.34858846e-10,\n",
      "         1.67721444e-10,  2.58618807e-10,  1.39363354e-10,\n",
      "        -4.38493131e-10,  4.76449324e-10,  1.33625999e-10,\n",
      "        -1.28936847e-10],\n",
      "       [ 7.19337090e-11, -4.57112681e-11, -3.97131772e-11,\n",
      "         5.38688776e-11,  1.00697846e-10,  6.26101393e-11,\n",
      "        -1.96547056e-10,  1.93373761e-10,  6.82860435e-11,\n",
      "        -5.61030389e-11],\n",
      "       [ 1.12532483e-11, -6.69941880e-12,  1.15313870e-11,\n",
      "        -8.96277568e-12, -1.20219806e-12,  9.67997904e-12,\n",
      "        -2.38666864e-11,  6.27242702e-12,  1.61382019e-11,\n",
      "        -4.76986506e-12],\n",
      "       [ 8.93367325e-11, -6.13866735e-11,  1.22569732e-10,\n",
      "        -7.93605253e-11, -6.79395290e-11,  9.80283077e-11,\n",
      "        -1.42460654e-10, -8.07898193e-12,  8.62322436e-11,\n",
      "        -1.07132775e-11],\n",
      "       [-5.66333092e-12, -3.55218077e-11,  6.40015818e-12,\n",
      "         1.03830252e-10, -9.66657865e-11,  8.38132341e-11,\n",
      "        -4.05986356e-11, -2.72570855e-11,  7.27906624e-12,\n",
      "         3.84555027e-11]], dtype=float64), Array([[ 2.35482744e-11],\n",
      "       [-2.46866971e-11],\n",
      "       [-1.00968123e-10],\n",
      "       [-5.66191538e-12],\n",
      "       [ 1.16462395e-12],\n",
      "       [ 5.12501153e-12],\n",
      "       [ 3.55315777e-12],\n",
      "       [-4.48530102e-14],\n",
      "       [-7.48068274e-13],\n",
      "       [-2.08695283e-11]], dtype=float64)), y_history=(Array([[ 3.00368329e-13,  3.02825256e-13,  2.94513156e-13,\n",
      "         1.77438969e-13,  3.40854189e-15, -3.62503538e-14,\n",
      "        -4.65517490e-13, -7.50107279e-13, -6.96729024e-13,\n",
      "        -5.14571946e-13],\n",
      "       [ 3.02699191e-12,  3.80094452e-12,  4.38899114e-12,\n",
      "         6.83445904e-12,  7.81820371e-12,  3.55253603e-12,\n",
      "        -2.06431009e-13,  7.51503167e-12,  4.09198798e-12,\n",
      "        -2.54096657e-13],\n",
      "       [ 1.78233661e-12,  3.19193367e-12,  3.71132770e-12,\n",
      "         4.42484513e-12,  4.74116883e-12, -2.29901501e-11,\n",
      "        -4.18568017e-11, -4.56506711e-11, -5.18457485e-11,\n",
      "        -4.77557549e-11],\n",
      "       [ 1.46215528e-12,  1.69308297e-12,  2.01223210e-12,\n",
      "         3.54618084e-12,  4.02656218e-12,  6.20088811e-12,\n",
      "         6.76064624e-12,  1.27676613e-11,  1.15989832e-11,\n",
      "         7.94424265e-12],\n",
      "       [ 1.47071512e-12,  1.71614829e-12,  2.06376502e-12,\n",
      "         3.54154661e-12,  4.03361632e-12,  6.14841267e-12,\n",
      "         6.68888854e-12,  1.28921133e-11,  1.18430963e-11,\n",
      "         8.11365558e-12],\n",
      "       [ 1.22329050e-12,  1.38709342e-12,  1.64459431e-12,\n",
      "         2.74111412e-12,  3.12936493e-12,  4.77665482e-12,\n",
      "         5.12166096e-12,  1.01373444e-11,  9.40974420e-12,\n",
      "         6.45068824e-12],\n",
      "       [ 5.84901322e-13,  6.16246542e-13,  7.03052125e-13,\n",
      "         1.07031944e-12,  1.21011006e-12,  1.89717778e-12,\n",
      "         1.94144348e-12,  4.10727691e-12,  3.91467121e-12,\n",
      "         2.68298009e-12],\n",
      "       [ 9.29724573e-14,  5.91844146e-14,  4.76487373e-14,\n",
      "        -7.28089193e-15, -2.43774727e-14,  5.11307034e-14,\n",
      "        -4.13557535e-14,  1.48228706e-13,  2.35758949e-13,\n",
      "         1.55328224e-13],\n",
      "       [ 6.98755446e-13,  3.26399769e-13,  2.07056679e-13,\n",
      "        -4.21636874e-13, -7.15182335e-13,  3.20253318e-13,\n",
      "        -7.65377291e-13, -6.65501183e-14,  5.14331253e-13,\n",
      "         2.09122975e-13],\n",
      "       [-3.46422228e-13, -3.98472813e-13, -2.23476955e-13,\n",
      "        -1.40712864e-13, -4.96420803e-13,  5.37621271e-13,\n",
      "        -9.11771201e-14, -1.62846299e-13, -2.39695958e-14,\n",
      "        -1.88456022e-15]], dtype=float64), Array([[ 3.09117315e-12],\n",
      "       [ 9.02922008e-12],\n",
      "       [-6.54006901e-11],\n",
      "       [ 1.56433633e-11],\n",
      "       [ 1.67674468e-11],\n",
      "       [ 1.38337952e-11],\n",
      "       [ 5.87571831e-12],\n",
      "       [ 2.25045677e-13],\n",
      "       [ 1.94573524e-13],\n",
      "       [-3.49609924e-12]], dtype=float64)), rho_history=Array([8.44253731e+21, 6.20127841e+19, 1.31341114e+19, 1.33295528e+20,\n",
      "       1.29819402e+20, 2.06364488e+20, 1.19817125e+21, 1.47946063e+23,\n",
      "       3.00525037e+21, 5.74785649e+21], dtype=float64), gamma=Array(10.4025618, dtype=float64), aux=None, failed_linesearch=Array(False, dtype=bool), num_fun_eval=Array(155, dtype=int32), num_grad_eval=Array(155, dtype=int32), num_linesearch_iter=Array(83, dtype=int32))\n",
      "[-1.85701429e-01  4.69274521e-01 -3.90083310e-01 -2.83405300e-11\n",
      " -2.70699128e-02 -2.99530466e-01  3.10134592e-01  6.34824141e-01\n",
      "  6.85906181e-01  7.15288986e-02]\n"
     ]
    },
    {
     "data": {
      "text/plain": [
       "Array(-0.52314066, dtype=float64)"
      ]
     },
     "execution_count": 143,
     "metadata": {},
     "output_type": "execute_result"
    }
   ],
   "source": [
    "X = np.hstack([white_basis,black_basis])\n",
    "spike_counts.sum(axis=0)\n",
    "#np.where(spike_counts.sum(axis=0)==1267)\n",
    "\n",
    "model = nmo.glm.GLM(solver_name=\"LBFGS\", solver_kwargs=dict(tol=10**-12))\n",
    "model.fit(X,spike_counts[:,117])\n",
    "print(model.solver_state_)\n",
    "print(model.coef_)\n",
    "model.score(X,spike_counts[:,117])"
   ]
  },
  {
   "cell_type": "code",
   "execution_count": null,
   "id": "74a8e56c",
   "metadata": {},
   "outputs": [
    {
     "name": "stdout",
     "output_type": "stream",
     "text": [
      "BfgsState(iter_num=Array(500, dtype=int64, weak_type=True), value=Array(0.48560891, dtype=float64), grad=(Array([[ 1.34801991e-06,  2.01335577e-06, -5.04130386e-06, ...,\n",
      "        -6.75710692e-06,  2.17416404e-06,  8.86779281e-06],\n",
      "       [ 9.14708196e-06,  6.88653395e-06, -8.77744525e-06, ...,\n",
      "         6.68740359e-06, -1.84503566e-06,  4.87035747e-06],\n",
      "       [ 7.59978915e-06,  2.23383972e-06, -1.53194115e-05, ...,\n",
      "        -8.49725962e-08, -1.82249404e-06, -8.57963190e-06],\n",
      "       ...,\n",
      "       [-1.67306679e-05, -4.23216977e-07,  4.28802059e-06, ...,\n",
      "        -1.38816003e-04, -5.14364827e-05,  7.29442942e-06],\n",
      "       [-1.29317675e-05,  1.67401723e-05, -3.57584354e-06, ...,\n",
      "        -1.05821860e-04, -4.62422737e-05,  7.29666048e-06],\n",
      "       [-1.19039830e-06, -1.00563744e-05, -1.41807795e-05, ...,\n",
      "        -9.02164312e-05, -3.19691462e-05,  7.31554964e-06]],      dtype=float64), Array([ 5.14515233e-08, -3.58877966e-06,  3.56340410e-06,  4.66792013e-05,\n",
      "       -3.13083456e-09, -1.24029565e-05,  9.10865863e-07,  1.30435349e-05,\n",
      "       -2.18579036e-08,  8.65321424e-06,  7.29764287e-05,  1.07237567e-05,\n",
      "        0.00000000e+00, -9.95022689e-09,  1.20568349e-04, -5.26661872e-08,\n",
      "       -7.58551712e-08, -1.19377868e-05,  1.01686716e-05,  2.07888675e-06,\n",
      "       -1.16625952e-05, -3.44197274e-08,  1.81420194e-06, -2.89307105e-08,\n",
      "       -2.61165660e-05,  3.85222643e-05,  3.86545521e-05, -1.47994695e-05,\n",
      "        1.36145827e-04,  9.05721403e-06,  7.49829890e-05, -3.91453046e-06,\n",
      "        4.68794725e-06,  4.67352405e-05,  7.34813860e-05,  1.57027261e-05,\n",
      "        2.42764210e-05, -2.69793303e-06,  1.04403496e-05,  4.45051252e-06,\n",
      "       -7.44252643e-06,  2.30433931e-06, -1.82677877e-06,  3.74670454e-06,\n",
      "       -2.39789195e-05,  3.33915465e-05,  2.92885056e-07,  9.48211694e-09,\n",
      "        1.93770427e-06,  3.04682111e-05,  8.82734750e-06, -1.47331939e-08,\n",
      "        7.66938558e-05,  0.00000000e+00, -5.96650488e-05,  1.27656404e-06,\n",
      "        3.06616584e-05,  5.35222008e-05,  2.99060875e-05,  3.88732522e-06,\n",
      "        1.37392393e-05,  1.58995695e-04, -4.76679978e-05,  1.59183105e-06,\n",
      "        2.90034635e-05,  5.92634050e-06, -4.51779952e-05,  1.33761648e-07,\n",
      "       -3.99974511e-05, -1.80662418e-05,  4.03702567e-05,  3.98241996e-05,\n",
      "        3.83483987e-05,  2.97634741e-05,  5.83985396e-05,  9.30567237e-05,\n",
      "       -1.33941018e-05, -4.90286802e-06,  7.40390080e-06,  1.93498251e-05,\n",
      "        4.31870847e-05,  2.38385461e-05,  2.78145039e-04,  1.17014546e-06,\n",
      "       -9.28141266e-07,  2.20876940e-07,  2.76185213e-06, -5.41520868e-08,\n",
      "        2.40173897e-05,  5.36070201e-05,  1.02596974e-05,  6.19948856e-06,\n",
      "        1.22671826e-05, -4.32734917e-07, -3.35368022e-07,  1.15947254e-05,\n",
      "        2.97354915e-05,  1.94718505e-04,  1.17859926e-05,  3.22513851e-06,\n",
      "       -7.84864297e-07,  5.26809292e-06,  5.48458539e-06,  1.80501403e-05,\n",
      "        2.32204332e-05,  1.05008898e-07,  1.12374685e-05, -1.41670204e-05,\n",
      "        6.98551161e-06,  9.12526526e-07,  1.29142184e-05,  3.75991912e-05,\n",
      "        5.35425195e-05,  2.80923660e-05,  8.62252672e-08,  2.36649173e-05,\n",
      "        4.07801642e-07,  3.32466809e-05,  4.01566044e-07,  2.05399554e-06,\n",
      "        9.01252208e-08,  1.16444934e-05,  5.46911484e-06, -1.02705276e-07],      dtype=float64)), stepsize=Array(1., dtype=float64), error=Array(0.00311865, dtype=float64), H=Array([[1., 0., 0., ..., 0., 0., 0.],\n",
      "       [0., 1., 0., ..., 0., 0., 0.],\n",
      "       [0., 0., 1., ..., 0., 0., 0.],\n",
      "       ...,\n",
      "       [0., 0., 0., ..., 1., 0., 0.],\n",
      "       [0., 0., 0., ..., 0., 1., 0.],\n",
      "       [0., 0., 0., ..., 0., 0., 1.]], dtype=float64), aux=None, num_fun_eval=Array(1001, dtype=int32), num_grad_eval=Array(1001, dtype=int32), num_linesearch_iter=Array(500, dtype=int32))\n",
      "[-0.00890971 -0.00669652 -0.01266967 -0.01202058 -0.01150221  0.04392126\n",
      "  0.08427197  0.11015345  0.11242012  0.0897485 ]\n",
      "[[-8.56850393e-04 -2.52168744e-03  2.73052608e-03 ...  3.32970452e-03\n",
      "  -1.10309526e-03 -4.42885386e-03]\n",
      " [-4.83332376e-03 -5.66659076e-03  4.67812428e-03 ... -3.41121252e-03\n",
      "   9.15687187e-04 -2.41547628e-03]\n",
      " [-4.10786670e-03 -3.77690549e-03  8.00351074e-03 ... -2.80935334e-05\n",
      "   9.10043466e-04  4.32701272e-03]\n",
      " ...\n",
      " [ 8.80583400e-03 -1.20866334e-04 -2.23029947e-03 ...  7.23033280e-02\n",
      "   2.65508173e-02 -3.68197473e-03]\n",
      " [ 6.84229046e-03 -8.80633209e-03  1.76330993e-03 ...  5.55981880e-02\n",
      "   2.38998442e-02 -3.68253784e-03]\n",
      " [ 8.65616920e-04  4.98229824e-03  7.11812381e-03 ...  4.72869811e-02\n",
      "   1.66123996e-02 -3.68728093e-03]]\n"
     ]
    }
   ],
   "source": [
    "X = np.hstack([white_basis,black_basis])\n",
    "spike_counts.sum(axis=0)\n",
    "#np.where(spike_counts.sum(axis=0)==1267)\n",
    "\n",
    "model = nmo.glm.PopulationGLM(solver_name=\"BFGS\",solver_kwargs=dict(tol=10**-12))\n",
    "model.fit(X,spike_counts)\n",
    "print(model.solver_state_)\n",
    "print(model.coef_[:,117])\n",
    "print(model.coef_)\n"
   ]
  },
  {
   "cell_type": "code",
   "execution_count": null,
   "id": "517723f0",
   "metadata": {},
   "outputs": [
    {
     "data": {
      "text/plain": [
       "Array(-0.53958075, dtype=float64)"
      ]
     },
     "execution_count": 145,
     "metadata": {},
     "output_type": "execute_result"
    }
   ],
   "source": [
    "model.score(X,spike_counts, aggregate_sample_scores=lambda x : np.mean(x, axis=0))[117]"
   ]
  },
  {
   "cell_type": "code",
   "execution_count": null,
   "id": "118969d5",
   "metadata": {},
   "outputs": [
    {
     "name": "stdout",
     "output_type": "stream",
     "text": [
      "ProxGradState(iter_num=Array(1, dtype=int64, weak_type=True), stepsize=Array(2., dtype=float64), error=Array(nan, dtype=float64), aux=None, velocity=(Array([[-2.09262426e-06, -9.57411271e-06,  5.89146548e-06, ...,\n",
      "         6.60606982e-06, -2.22807066e-06, -8.84750392e-06],\n",
      "       [-1.02044594e-05, -1.76859479e-05,  9.94738306e-06, ...,\n",
      "        -6.91365546e-06,  1.82784693e-06, -4.79158633e-06],\n",
      "       [-8.85248690e-06, -1.49820028e-05,  1.67072457e-05, ...,\n",
      "        -1.53792821e-07,  1.82784693e-06,  8.72813895e-06],\n",
      "       ...,\n",
      "       [ 1.85153872e-05, -1.08674220e-06, -4.63847301e-06, ...,\n",
      "         1.50161136e-04,  5.47613426e-05, -7.43392366e-06],\n",
      "       [ 1.44594696e-05, -1.86623851e-05,  3.47336216e-06, ...,\n",
      "         1.16361822e-04,  4.93534525e-05, -7.43392366e-06],\n",
      "       [ 2.29171688e-06,  9.72903802e-06,  1.42891424e-05, ...,\n",
      "         9.87861796e-05,  3.44817547e-05, -7.43392366e-06]],      dtype=float64), Array([-2.10816238e+00,  1.30051145e-01, -2.24703231e+00,  2.12861974e-01,\n",
      "       -5.05674849e+00,  1.71968596e-01, -3.61293153e+00, -2.68062322e+00,\n",
      "       -5.60329221e+00, -2.07426891e+00, -1.52115123e+00, -1.08249181e+00,\n",
      "                   nan, -5.19782710e+00, -2.71457518e-01, -4.88767216e+00,\n",
      "       -1.89862810e+00, -1.48056515e+00,  4.30999279e-01, -2.30745618e+00,\n",
      "       -8.30683770e-01, -5.16797413e+00, -3.51818615e+00, -4.63389163e+00,\n",
      "       -8.52054954e-01, -3.60822913e-01, -1.61683826e+00, -9.79209053e-01,\n",
      "       -2.08847715e-01, -3.10905636e-01, -6.76698835e-01, -1.32347984e+00,\n",
      "       -2.37356724e+00, -9.80548043e-01, -8.06003180e-01, -1.14367443e+00,\n",
      "       -9.01984922e-01, -2.30745483e+00, -1.54598914e+00, -1.32284936e+00,\n",
      "       -1.24193608e+00, -3.43164432e+00, -2.17814100e+00, -2.22818938e+00,\n",
      "       -1.03374866e+00, -2.23130871e+00, -4.65128337e+00, -5.29313728e+00,\n",
      "       -2.68552249e+00, -1.27615371e+00, -1.38445185e+00, -6.12938532e+00,\n",
      "        6.65799701e-01,             nan, -5.14292083e-01, -3.86602084e+00,\n",
      "       -1.97050961e+00, -1.86130211e+00, -2.43475275e+00, -9.43287465e-01,\n",
      "       -2.45601230e+00, -1.08647101e+00,  4.48376151e-01, -4.08916576e+00,\n",
      "       -8.46128649e-04, -7.84113920e-01, -5.58985999e-01, -4.06936178e+00,\n",
      "        2.41045210e-01, -1.00908911e+00, -5.84811423e-01, -4.28174839e-01,\n",
      "       -1.34897250e+00, -6.07000166e-01,  1.78703353e-01, -8.46573887e-01,\n",
      "       -3.39657928e-01, -1.33295919e+00, -2.19154674e+00, -1.42263103e+00,\n",
      "       -9.42861320e-01, -3.51019056e-01, -1.07904262e+00, -4.10936847e+00,\n",
      "       -2.25020421e+00, -3.00735906e+00, -2.77007855e+00, -3.19307626e+00,\n",
      "       -1.70315682e+00, -1.88419412e+00, -3.95794206e-01, -2.19605329e+00,\n",
      "       -2.09855486e+00, -2.69044725e+00, -1.66436075e+00, -1.86562178e+00,\n",
      "       -4.88023347e-01, -1.49316259e+00, -1.70040073e+00, -3.03834262e+00,\n",
      "       -2.78353771e+00, -2.66846834e+00, -3.08486535e+00, -1.01369530e+00,\n",
      "       -1.59019084e+00, -2.01599321e+00, -2.60529212e+00, -5.83904435e-01,\n",
      "       -1.19990420e+00, -3.72452126e+00, -2.48977648e+00, -1.33741773e+00,\n",
      "       -1.01786044e+00, -1.24135080e+00, -3.15307226e+00, -1.84632991e+00,\n",
      "       -4.21699779e+00, -1.54992636e+00, -3.85805267e+00, -3.44206109e+00,\n",
      "       -5.16797413e+00, -2.39722488e+00, -2.57184417e+00, -3.78167968e+00],      dtype=float64)), t=Array(1.61803399, dtype=float64, weak_type=True))\n",
      "[-1.97371228e-05 -1.56812052e-05 -2.78489580e-05 -2.64969855e-05\n",
      " -2.51450129e-05  1.02514353e-04  1.87688622e-04  2.41767524e-04\n",
      "  2.45823441e-04  1.97152430e-04]\n"
     ]
    },
    {
     "data": {
      "text/plain": [
       "Array(-0.56330602, dtype=float64)"
      ]
     },
     "execution_count": 146,
     "metadata": {},
     "output_type": "execute_result"
    }
   ],
   "source": [
    "X = np.hstack([white_basis,black_basis])\n",
    "spike_counts.sum(axis=0)\n",
    "#np.where(spike_counts.sum(axis=0)==1267)\n",
    "\n",
    "model = nmo.glm.PopulationGLM(solver_name=\"GradientDescent\",solver_kwargs=dict(tol=10**-12))\n",
    "model.fit(X,spike_counts)\n",
    "print(model.solver_state_)\n",
    "print(model.coef_[:,117])\n",
    "model.score(X,spike_counts)"
   ]
  },
  {
   "cell_type": "code",
   "execution_count": null,
   "id": "7d2a2321",
   "metadata": {},
   "outputs": [
    {
     "data": {
      "text/plain": [
       "(250.0, 260.0)"
      ]
     },
     "execution_count": 148,
     "metadata": {},
     "output_type": "execute_result"
    },
    {
     "data": {
      "image/png": "[encoded data removed]",
      "text/plain": [
       "<Figure size 640x480 with 1 Axes>"
      ]
     },
     "metadata": {},
     "output_type": "display_data"
    },
    {
     "data": {
      "image/png": "[encoded data removed]",
      "text/plain": [
       "<Figure size 640x480 with 1 Axes>"
      ]
     },
     "metadata": {},
     "output_type": "display_data"
    }
   ],
   "source": [
    "plt.pcolormesh(X[5:105,5:][:,::-1])\n",
    "plt.figure()\n",
    "plt.plot(spike_counts[:500, 117].d)\n",
    "plt.xlim(250, 260)"
   ]
  },
  {
   "cell_type": "markdown",
   "id": "bfc00992",
   "metadata": {},
   "source": [
    "take firing rate prediction/time\n",
    "calculate mean firing rate\n",
    "compare mean firing rate of y\n",
    "\n",
    "should be close\n",
    "\n",
    "fit nemos to their exact data"
   ]
  },
  {
   "cell_type": "code",
   "execution_count": 6,
   "id": "567422f8",
   "metadata": {},
   "outputs": [
    {
     "ename": "NameError",
     "evalue": "name 'white_basis' is not defined",
     "output_type": "error",
     "traceback": [
      "\u001b[0;31m---------------------------------------------------------------------------\u001b[0m",
      "\u001b[0;31mNameError\u001b[0m                                 Traceback (most recent call last)",
      "Cell \u001b[0;32mIn[6], line 1\u001b[0m\n\u001b[0;32m----> 1\u001b[0m plt\u001b[38;5;241m.\u001b[39mplot(\u001b[43mwhite_basis\u001b[49m)\n\u001b[1;32m      2\u001b[0m plt\u001b[38;5;241m.\u001b[39mxlim([\u001b[38;5;241m5900\u001b[39m,\u001b[38;5;241m5950\u001b[39m])\n",
      "\u001b[0;31mNameError\u001b[0m: name 'white_basis' is not defined"
     ]
    }
   ],
   "source": [
    "plt.plot(white_basis)\n",
    "plt.xlim([5900,5950])"
   ]
  },
  {
   "cell_type": "code",
   "execution_count": null,
   "id": "afd8c7d4",
   "metadata": {},
   "outputs": [],
   "source": []
  }
 ],
 "metadata": {
  "kernelspec": {
   "display_name": "databook",
   "language": "python",
   "name": "python3"
  },
  "language_info": {
   "codemirror_mode": {
    "name": "ipython",
    "version": 3
   },
   "file_extension": ".py",
   "mimetype": "text/x-python",
   "name": "python",
   "nbconvert_exporter": "python",
   "pygments_lexer": "ipython3",
   "version": "3.11.13"
  }
 },
 "nbformat": 4,
 "nbformat_minor": 5
}
