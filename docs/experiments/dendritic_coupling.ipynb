{
 "cells": [
  {
   "cell_type": "markdown",
   "metadata": {},
   "source": [
    "# OpenScope's Dendritic Coupling Dataset"
   ]
  },
  {
   "cell_type": "markdown",
   "metadata": {},
   "source": [
    "### Environment Setup\n",
    "⚠️**Note: If running on a new environment, run this cell once and then restart the kernel**⚠️"
   ]
  },
  {
   "cell_type": "code",
   "execution_count": null,
   "metadata": {},
   "outputs": [],
   "source": [
    "try:\n",
    "    from dandi_utils import dandi_download_open\n",
    "except:\n",
    "    !git clone https://github.com/AllenInstitute/openscope_databook.git\n",
    "    %cd openscope_databook\n",
    "    %pip install -e ."
   ]
  },
  {
   "cell_type": "code",
   "execution_count": null,
   "metadata": {},
   "outputs": [],
   "source": [
    "import os\n",
    "\n",
    "import matplotlib as mpl\n",
    "import matplotlib.pyplot as plt\n",
    "import numpy as np\n",
    "\n",
    "from scipy import interpolate\n",
    "from scipy.stats import ttest_ind"
   ]
  },
  {
   "cell_type": "markdown",
   "metadata": {},
   "source": [
    "### Downloading Ophys File"
   ]
  },
  {
   "cell_type": "code",
   "execution_count": null,
   "metadata": {},
   "outputs": [],
   "source": [
    "dandiset_id = \"000336\"\n",
    "dandi_filepath = \"sub-621602/sub-621602_ses-1194809891-acq-1194973904_ophys.nwb\"\n",
    "# dandi_filepath = \"sub-621603/sub-621603_ses-1194683535-acq-1194752582_ophys.nwb\" \n",
    "dandi_filepath = \"sub-621603/sub-621603_ses-1195946001-acq-1196030781_ophys.nwb\"\n",
    "download_loc = \".\"\n",
    "dandi_api_key = os.environ[\"DANDI_API_KEY\"]"
   ]
  },
  {
   "cell_type": "code",
   "execution_count": null,
   "metadata": {},
   "outputs": [],
   "source": [
    "# This can sometimes take a while depending on the size of the file\n",
    "io = dandi_download_open(dandiset_id, dandi_filepath, download_loc, dandi_api_key=dandi_api_key)\n",
    "nwb = io.read()"
   ]
  },
  {
   "cell_type": "code",
   "execution_count": null,
   "metadata": {},
   "outputs": [],
   "source": [
    "nwb.subject"
   ]
  },
  {
   "cell_type": "code",
   "execution_count": null,
   "metadata": {},
   "outputs": [],
   "source": [
    "nwb.lab_meta_data"
   ]
  },
  {
   "cell_type": "code",
   "execution_count": null,
   "metadata": {},
   "outputs": [],
   "source": [
    "nwb.imaging_planes"
   ]
  },
  {
   "cell_type": "markdown",
   "metadata": {},
   "source": [
    "### Selecting Stimulus Times"
   ]
  },
  {
   "cell_type": "code",
   "execution_count": null,
   "metadata": {},
   "outputs": [],
   "source": [
    "nwb.intervals.keys()"
   ]
  },
  {
   "cell_type": "code",
   "execution_count": null,
   "metadata": {},
   "outputs": [],
   "source": [
    "stim_table = nwb.intervals[\"movie_flower_fwd_rev_presentations\"]\n",
    "print(stim_table.colnames)\n",
    "stim_table[:10]"
   ]
  },
  {
   "cell_type": "code",
   "execution_count": null,
   "metadata": {},
   "outputs": [],
   "source": [
    "print(np.mean(np.diff(stim_table.start_time)))\n",
    "print(set(stim_table.frame))"
   ]
  },
  {
   "cell_type": "code",
   "execution_count": null,
   "metadata": {},
   "outputs": [],
   "source": [
    "# flower video reverses around frame 190\n",
    "rev_stim_select = lambda row: row.frame.item() == 190\n",
    "rev_stim_times = [float(stim_table[i].start_time) for i in range(len(stim_table)) if rev_stim_select(stim_table[i])]\n",
    "print(len(rev_stim_times))"
   ]
  },
  {
   "cell_type": "markdown",
   "metadata": {},
   "source": [
    "### Extracting ROI Fluorescence"
   ]
  },
  {
   "cell_type": "code",
   "execution_count": null,
   "metadata": {},
   "outputs": [],
   "source": [
    "dff = nwb.processing[\"ophys\"][\"dff\"]\n",
    "dff_trace = dff.roi_response_series[\"traces\"].data\n",
    "dff_timestamps = dff.roi_response_series[\"traces\"].timestamps\n",
    "\n",
    "# accessing the above data may look different for older nwb files, like the following\n",
    "# dff_trace = dff.roi_response_series[\"RoiResponseSeries\"].data\n",
    "# dff_timestamps = dff.roi_response_series[\"RoiResponseSeries\"].timestamps\n",
    "\n",
    "print(dff_trace.shape)\n",
    "print(dff_timestamps.shape)"
   ]
  },
  {
   "cell_type": "markdown",
   "metadata": {},
   "source": [
    "### Generating Response Windows"
   ]
  },
  {
   "cell_type": "code",
   "execution_count": null,
   "metadata": {},
   "outputs": [],
   "source": [
    "window_start_time = -2\n",
    "window_end_time = 3\n",
    "interp_hz = 10"
   ]
  },
  {
   "cell_type": "code",
   "execution_count": null,
   "metadata": {},
   "outputs": [],
   "source": [
    "# generate regularly-space x values and interpolate along it\n",
    "time_axis = np.arange(dff_timestamps[0], dff_timestamps[-1], step=(1/interp_hz))\n",
    "interp_dff = []\n",
    "\n",
    "# interpolate channel by channel to save RAM\n",
    "for channel in range(dff_trace.shape[1]):\n",
    "    f = interpolate.interp1d(dff_timestamps, dff_trace[:,channel], axis=0, kind=\"nearest\", fill_value=\"extrapolate\")\n",
    "    interp_dff.append(f(time_axis))\n",
    "\n",
    "interp_dff = np.array(interp_dff)\n",
    "\n",
    "print(interp_dff.shape)"
   ]
  },
  {
   "cell_type": "code",
   "execution_count": null,
   "metadata": {},
   "outputs": [],
   "source": [
    "# validate window bounds\n",
    "if window_start_time > 0:\n",
    "    raise ValueError(\"start time must be non-positive number\")\n",
    "if window_end_time <= 0:\n",
    "    raise ValueError(\"end time must be positive number\")\n",
    "    \n",
    "# get event windows\n",
    "windows = []\n",
    "window_length = int((window_end_time-window_start_time) * interp_hz)\n",
    "\n",
    "for stim_ts in rev_stim_times:\n",
    "    # convert time to index\n",
    "    start_idx = int( (stim_ts + window_start_time - dff_timestamps[0]) * interp_hz )\n",
    "    end_idx = start_idx + window_length\n",
    " \n",
    "    # bounds checking\n",
    "    if start_idx < 0 or end_idx > interp_dff.shape[1]:\n",
    "        continue\n",
    "        \n",
    "    windows.append(interp_dff[:,start_idx:end_idx])\n",
    "    \n",
    "if len(windows) == 0:\n",
    "    raise ValueError(\"There are no windows for these timestamps\")\n",
    "\n",
    "windows = np.array(windows) * 100 # x100 to convert values to dF/F percentage\n",
    "neuronwise_windows = np.swapaxes(windows,0,1)\n",
    "\n",
    "print(neuronwise_windows.shape)"
   ]
  },
  {
   "cell_type": "markdown",
   "metadata": {},
   "source": [
    "### Showing Response Windows"
   ]
  },
  {
   "cell_type": "code",
   "execution_count": null,
   "metadata": {},
   "outputs": [],
   "source": [
    "def show_dff_response(ax, dff, window_start_time, window_end_time, aspect=\"auto\", vmin=None, vmax=None, yticklabels=[], skipticks=1, xlabel=\"Time (s)\", ylabel=\"ROI\", cbar=True, cbar_label=None):\n",
    "    if len(dff) == 0:\n",
    "        print(\"Input data has length 0; Nothing to display\")\n",
    "        return\n",
    "\n",
    "    img = ax.imshow(dff, aspect=aspect, extent=[window_start_time, window_end_time, 0, len(dff)], vmin=vmin, vmax=vmax)\n",
    "    if cbar:\n",
    "        ax.colorbar(img, shrink=0.5, label=cbar_label)\n",
    "\n",
    "    ax.plot([0,0],[0, len(dff)], \":\", color=\"white\", linewidth=1.0)\n",
    "\n",
    "    if len(yticklabels) != 0:\n",
    "        ax.set_yticks(range(len(yticklabels)))\n",
    "        ax.set_yticklabels(yticklabels, fontsize=8)\n",
    "\n",
    "        n_ticks = len(yticklabels[::skipticks])\n",
    "        ax.yaxis.set_major_locator(plt.MaxNLocator(n_ticks))\n",
    "\n",
    "    ax.set_xlabel(xlabel)\n",
    "    ax.set_ylabel(ylabel)"
   ]
  },
  {
   "cell_type": "code",
   "execution_count": null,
   "metadata": {},
   "outputs": [],
   "source": [
    "def show_many_responses(windows, rows, cols, window_idxs=None, title=None, subplot_title=\"\", xlabel=None, ylabel=None, cbar_label=None, vmin=0, vmax=100):\n",
    "    if window_idxs is None:\n",
    "        window_idxs = range(len(windows))\n",
    "    windows = windows[window_idxs]\n",
    "    \n",
    "    # handle case with no input data\n",
    "    if len(windows) == 0:\n",
    "        print(\"Input data has length 0; Nothing to display\")\n",
    "        return\n",
    "    # handle cases when there aren't enough windows for number of rows\n",
    "    if len(windows) < rows*cols:\n",
    "        rows = (len(windows) // cols) + 1\n",
    "\n",
    "    fig, axes = plt.subplots(rows, cols, figsize=(2*cols+2, 2*rows+2), layout=\"constrained\")\n",
    "    # handle case when there's only one row\n",
    "    if len(axes.shape) == 1:\n",
    "        axes = axes.reshape((1, axes.shape[0]))\n",
    "    \n",
    "    for i in range(rows*cols):\n",
    "        ax_row = int(i // cols)\n",
    "        ax_col = i % cols\n",
    "        ax = axes[ax_row][ax_col]\n",
    "        \n",
    "        if i > len(windows)-1:\n",
    "            ax.set_visible(False)\n",
    "            continue\n",
    "\n",
    "        window = windows[i]\n",
    "        show_dff_response(ax, window, window_start_time, window_end_time, xlabel=xlabel, ylabel=ylabel, cbar=False, vmin=vmin, vmax=vmax)\n",
    "        ax.set_title(f\"{subplot_title} {window_idxs[i]}\")\n",
    "        if ax_row != rows-1:\n",
    "            ax.get_xaxis().set_visible(False)\n",
    "        if ax_col != 0:\n",
    "            ax.get_yaxis().set_visible(False)\n",
    "\n",
    "    fig.suptitle(title)\n",
    "    norm = mpl.colors.Normalize(vmin=vmin, vmax=vmax)\n",
    "    colorbar = fig.colorbar(mpl.cm.ScalarMappable(norm=norm), ax=axes, shrink=1.5/rows, label=cbar_label)"
   ]
  },
  {
   "cell_type": "code",
   "execution_count": null,
   "metadata": {},
   "outputs": [],
   "source": [
    "show_many_responses(neuronwise_windows,\n",
    "                    6,\n",
    "                    10,\n",
    "                    title=\"Response of Some ROIs across trials\",\n",
    "                    subplot_title=\"ROI\",\n",
    "                    xlabel=\"time (s)\",\n",
    "                    ylabel=\"trial\",\n",
    "                    cbar_label=\"$\\Delta$F/F (%)\")"
   ]
  },
  {
   "cell_type": "markdown",
   "metadata": {},
   "source": [
    "### Selecting Cells"
   ]
  },
  {
   "cell_type": "code",
   "execution_count": null,
   "metadata": {},
   "outputs": [],
   "source": [
    "# get the index within the window that stimulus occurs (time 0)\n",
    "stimulus_onset_idx = int(-window_start_time * interp_hz)\n",
    "baseline = windows[:,:,0:stimulus_onset_idx]\n",
    "evoked_responses = windows[:,:,stimulus_onset_idx:]\n",
    "\n",
    "print(stimulus_onset_idx)\n",
    "print(baseline.shape)\n",
    "print(evoked_responses.shape)"
   ]
  },
  {
   "cell_type": "code",
   "execution_count": null,
   "metadata": {},
   "outputs": [],
   "source": [
    "mean_trial_responses = np.mean(evoked_responses, axis=2)\n",
    "mean_trial_baselines = np.mean(baseline, axis=2)\n",
    "\n",
    "n = mean_trial_responses.shape[0]\n",
    "t,p = ttest_ind(mean_trial_responses, mean_trial_baselines)\n",
    "IC3_selected_rois = np.where(p < 0.05 / n)[0]\n",
    "print(f\"Selected ROIs {IC3_selected_rois}\")"
   ]
  }
 ],
 "metadata": {
  "kernelspec": {
   "display_name": "Python 3",
   "language": "python",
   "name": "python3"
  },
  "language_info": {
   "codemirror_mode": {
    "name": "ipython",
    "version": 3
   },
   "file_extension": ".py",
   "mimetype": "text/x-python",
   "name": "python",
   "nbconvert_exporter": "python",
   "pygments_lexer": "ipython3",
   "version": "3.9.10"
  }
 },
 "nbformat": 4,
 "nbformat_minor": 2
}
