{
 "cells": [
  {
   "cell_type": "markdown",
   "metadata": {},
   "source": [
    "# OpenScope's Dendritic Coupling Dataset"
   ]
  },
  {
   "cell_type": "markdown",
   "metadata": {},
   "source": [
    "### Environment Setup\n",
    "⚠️**Note: If running on a new environment, run this cell once and then restart the kernel**⚠️"
   ]
  },
  {
   "cell_type": "code",
   "execution_count": null,
   "metadata": {},
   "outputs": [],
   "source": [
    "try:\n",
    "    from dandi_utils import dandi_download_open\n",
    "except:\n",
    "    !git clone https://github.com/AllenInstitute/openscope_databook.git\n",
    "    %cd openscope_databook\n",
    "    %pip install -e ."
   ]
  },
  {
   "cell_type": "code",
   "execution_count": null,
   "metadata": {},
   "outputs": [],
   "source": [
    "import os\n",
    "\n",
    "import matplotlib as mpl\n",
    "import matplotlib.pyplot as plt\n",
    "import numpy as np\n",
    "\n",
    "\n",
    "from mpl_interactions import hyperslicer\n",
    "from mpl_interactions import ipyplot as iplt\n",
    "\n",
    "from scipy import interpolate\n",
    "from scipy.stats import ttest_ind\n",
    "\n",
    "%matplotlib inline"
   ]
  },
  {
   "cell_type": "markdown",
   "metadata": {},
   "source": [
    "### Downloading Ophys File"
   ]
  },
  {
   "cell_type": "code",
   "execution_count": null,
   "metadata": {},
   "outputs": [],
   "source": [
    "dandiset_id = \"000336\"\n",
    "# dandi_filepath = \"sub-621602/sub-621602_ses-1194809891-acq-1194973904_ophys.nwb\"\n",
    "# dandi_filepath = \"sub-621603/sub-621603_ses-1194683535-acq-1194752582_ophys.nwb\"\n",
    "dandi_filepath = \"sub-621602/sub-621602_ses-1194555869-acq-1194754131_image+ophys.nwb\"\n",
    "download_loc = \".\"\n",
    "dandi_api_key = os.environ[\"DANDI_API_KEY\"]"
   ]
  },
  {
   "cell_type": "code",
   "execution_count": null,
   "metadata": {},
   "outputs": [],
   "source": [
    "# This can sometimes take a while depending on the size of the file\n",
    "io = dandi_download_open(dandiset_id, dandi_filepath, download_loc, dandi_api_key=dandi_api_key)\n",
    "nwb = io.read()"
   ]
  },
  {
   "cell_type": "markdown",
   "metadata": {},
   "source": [
    "### Imaging Data"
   ]
  },
  {
   "cell_type": "code",
   "execution_count": null,
   "metadata": {},
   "outputs": [],
   "source": [
    "nwb.lab_meta_data"
   ]
  },
  {
   "cell_type": "code",
   "execution_count": null,
   "metadata": {},
   "outputs": [],
   "source": [
    "nwb.imaging_planes"
   ]
  },
  {
   "cell_type": "markdown",
   "metadata": {},
   "source": [
    "### Stimulus Templates"
   ]
  },
  {
   "cell_type": "code",
   "execution_count": null,
   "metadata": {},
   "outputs": [],
   "source": [
    "nwb.stimulus_template.keys()"
   ]
  },
  {
   "cell_type": "code",
   "execution_count": null,
   "metadata": {},
   "outputs": [],
   "source": [
    "n_cols = 4\n",
    "n_rows = 3\n",
    "fig, axes = plt.subplots(n_rows, n_cols, figsize=(15,8))\n",
    "\n",
    "for i, template_name in enumerate(nwb.stimulus_template.keys()):\n",
    "    template_img = nwb.stimulus_template[template_name].data[0]\n",
    "\n",
    "    ax_row = int(i / n_cols)\n",
    "    ax_col = i % n_cols\n",
    "    axes[ax_row][ax_col].imshow(template_img, cmap=\"gray\")\n",
    "    axes[ax_row][ax_col].set_title(template_name, fontsize=8)\n",
    "\n",
    "for ax in axes.flat:\n",
    "    ax.xaxis.set_ticks([])\n",
    "    ax.yaxis.set_ticks([])\n",
    "\n",
    "fig.tight_layout()"
   ]
  },
  {
   "cell_type": "code",
   "execution_count": null,
   "metadata": {},
   "outputs": [],
   "source": [
    "%matplotlib ipympl\n",
    "plt.tick_params(left=False, bottom=False, labelleft=False, labelbottom=False)\n",
    "\n",
    "# change this key to view other stim template movies\n",
    "template = nwb.stimulus_template[\"flower_rev_fwd\"].data\n",
    "view = hyperslicer(template, play_buttons=True, cmap=\"gray\")"
   ]
  },
  {
   "cell_type": "markdown",
   "metadata": {},
   "source": [
    "### Selecting Stimulus Times"
   ]
  },
  {
   "cell_type": "code",
   "execution_count": null,
   "metadata": {},
   "outputs": [],
   "source": [
    "nwb.intervals.keys()"
   ]
  },
  {
   "cell_type": "code",
   "execution_count": null,
   "metadata": {},
   "outputs": [],
   "source": [
    "stim_table = nwb.intervals[\"movie_worms_fwd_presentations\"]\n",
    "print(stim_table.colnames)\n",
    "stim_table[:10]"
   ]
  },
  {
   "cell_type": "code",
   "execution_count": null,
   "metadata": {},
   "outputs": [],
   "source": [
    "print(np.mean(np.diff(stim_table.start_time)))\n",
    "print(set(stim_table.frame))"
   ]
  },
  {
   "cell_type": "code",
   "execution_count": null,
   "metadata": {},
   "outputs": [],
   "source": [
    "# flower video reverses around frame 190\n",
    "rev_stim_select = lambda row: row.frame.item() == 190\n",
    "rev_stim_times = [float(stim_table[i].start_time) for i in range(len(stim_table)) if rev_stim_select(stim_table[i])]\n",
    "print(len(rev_stim_times))"
   ]
  },
  {
   "cell_type": "markdown",
   "metadata": {},
   "source": [
    "### Extracting ROI Fluorescence"
   ]
  },
  {
   "cell_type": "code",
   "execution_count": null,
   "metadata": {},
   "outputs": [],
   "source": [
    "dff = nwb.processing[\"ophys\"][\"dff\"]\n",
    "dff_trace = dff.roi_response_series[\"traces\"].data\n",
    "dff_timestamps = dff.roi_response_series[\"traces\"].timestamps\n",
    "\n",
    "print(dff_trace.shape)\n",
    "print(dff_timestamps.shape)\n",
    "\n",
    "avg_dff_trace = np.average(dff_trace, axis=1)"
   ]
  },
  {
   "cell_type": "markdown",
   "metadata": {},
   "source": [
    "### Session Timeline"
   ]
  },
  {
   "cell_type": "code",
   "execution_count": null,
   "metadata": {},
   "outputs": [],
   "source": [
    "# extract epoch times from stim table where stimulus rows have a different 'block' than following row\n",
    "# returns list of epochs, where an epoch is of the form (stimulus name, stimulus block, start time, stop time)\n",
    "def extract_epochs(stim_name, stim_table, epochs):\n",
    "    \n",
    "    # specify a current epoch stop and start time\n",
    "    epoch_start = stim_table.start_time[0]\n",
    "    epoch_stop = stim_table.stop_time[0]\n",
    "\n",
    "    # for each row, try to extend current epoch stop_time\n",
    "    for i in range(len(stim_table)):\n",
    "        this_block = stim_table.stimulus_block[i]\n",
    "        # if end of table, end the current epoch\n",
    "        if i+1 >= len(stim_table):\n",
    "            epochs.append((stim_name, this_block, epoch_start, epoch_stop))\n",
    "            break\n",
    "            \n",
    "        next_block = stim_table.stimulus_block[i+1]\n",
    "        # if next row is the same stim block, push back epoch_stop time\n",
    "        if next_block == this_block:\n",
    "            epoch_stop = stim_table.stop_time[i+1]\n",
    "        # otherwise, end the current epoch, start new epoch\n",
    "        else:\n",
    "            epochs.append((stim_name, this_block, epoch_start, epoch_stop))\n",
    "            epoch_start = stim_table.start_time[i+1]\n",
    "            epoch_stop = stim_table.stop_time[i+1]\n",
    "    \n",
    "    return epochs"
   ]
  },
  {
   "cell_type": "code",
   "execution_count": null,
   "metadata": {},
   "outputs": [],
   "source": [
    "# extract epochs from all valid stimulus tables\n",
    "epochs = []\n",
    "for stim_name in nwb.intervals.keys():\n",
    "    stim_table = nwb.intervals[stim_name]\n",
    "    try:\n",
    "        epochs = extract_epochs(stim_name, stim_table, epochs)\n",
    "    except:\n",
    "        continue\n",
    "\n",
    "# epochs take the form (stimulus name, stimulus block, start time, stop time)\n",
    "print(len(epochs))\n",
    "epochs.sort(key=lambda x: x[2])\n",
    "for epoch in epochs:\n",
    "    print(epoch)"
   ]
  },
  {
   "cell_type": "code",
   "execution_count": null,
   "metadata": {},
   "outputs": [],
   "source": [
    "# can set these manually to get a closer look at the timeline\n",
    "time_start = min(epochs, key=lambda epoch: epoch[1])[1]\n",
    "time_end = max(epochs, key=lambda epoch:epoch[2])[2]\n",
    "# time_start = 3000\n",
    "# time_end = 3100\n",
    "\n",
    "# can set this to change what trace is displayed alongside epochs\n",
    "display_trace = avg_dff_trace * 100 # to yield percentage\n",
    "# unit_idx = 30\n",
    "# display_trace = dff_trace[:,unit_idx] * 100"
   ]
  },
  {
   "cell_type": "code",
   "execution_count": null,
   "metadata": {},
   "outputs": [],
   "source": [
    "%matplotlib inline\n",
    "### make plot of chosen fluorescence trace over time with colored epoch sections\n",
    "\n",
    "fig, ax = plt.subplots(figsize=(15,5))\n",
    "\n",
    "# filter epochs which aren't at least partially in the time window\n",
    "bounded_epochs = {epoch for epoch in epochs if epoch[2] < time_end and epoch[3] > time_start}\n",
    "\n",
    "# assign unique color to each stimulus name\n",
    "stim_names = list({epoch[0] for epoch in bounded_epochs})\n",
    "colors = plt.cm.rainbow(np.linspace(0,1,len(stim_names)))\n",
    "stim_color_map = {stim_names[i]:colors[i] for i in range(len(stim_names))}\n",
    "\n",
    "epoch_key = {}\n",
    "y_hi = np.amax(display_trace) # change these to manually set height of the plot\n",
    "y_lo = np.amin(display_trace)\n",
    "# draw colored rectangles for each epoch\n",
    "for epoch in bounded_epochs:\n",
    "    stim_name, stim_block, epoch_start, epoch_end = epoch\n",
    "    color = stim_color_map[stim_name]\n",
    "    rec = ax.add_patch(mpl.patches.Rectangle((epoch_start, y_lo), epoch_end-epoch_start, y_hi, alpha=0.3, facecolor=color))\n",
    "    epoch_key[(stim_name)] = rec\n",
    "\n",
    "ax.set_xlim(time_start, time_end)\n",
    "ax.set_ylim(y_lo, y_hi)\n",
    "ax.set_xlabel(\"Time (s)\")\n",
    "ax.set_ylabel(\"Average DF/F (%)\")\n",
    "ax.set_title(\"Average DFF throughout session\")\n",
    "\n",
    "fig.legend(epoch_key.values(), epoch_key.keys(), loc=\"lower right\", bbox_to_anchor=(1.25, 0.25))\n",
    "ax.plot(dff_timestamps[:], display_trace)\n",
    "\n",
    "print(np.amax(avg_dff_trace))\n",
    "plt.tight_layout()\n",
    "plt.show()"
   ]
  },
  {
   "cell_type": "markdown",
   "metadata": {},
   "source": [
    "### Viewing Behavioral Data"
   ]
  },
  {
   "cell_type": "code",
   "execution_count": null,
   "metadata": {},
   "outputs": [],
   "source": [
    "eye_tracking = nwb.acquisition[\"EyeTracking\"]\n",
    "eye_tracking"
   ]
  },
  {
   "cell_type": "code",
   "execution_count": null,
   "metadata": {},
   "outputs": [],
   "source": [
    "# extract coords from eye tracking array\n",
    "xs = np.array([point[0] for point in eye_tracking.eye_tracking.data])\n",
    "ys = np.array([point[1] for point in eye_tracking.eye_tracking.data])\n",
    "\n",
    "start_idx = 0\n",
    "end_idx = len(eye_tracking.eye_tracking.data)\n",
    "print(\"Min X:\", np.nanmin(xs), \"Max X:\", np.nanmax(xs))\n",
    "print(\"Min Y:\", np.nanmin(ys), \"Max Y:\", np.nanmax(ys))"
   ]
  },
  {
   "cell_type": "code",
   "execution_count": null,
   "metadata": {},
   "outputs": [],
   "source": [
    "fig, ax = plt.subplots()\n",
    "colors = plt.cm.viridis(np.linspace(0, 1, end_idx-start_idx))\n",
    "ax.plot(xs[start_idx:end_idx], ys[start_idx:end_idx], zorder=0, linewidth=0.25)\n",
    "ax.scatter(xs[start_idx:end_idx], ys[start_idx:end_idx], s=5, c=colors, zorder=1)\n",
    "\n",
    "# change these to set the plot limits (there are sometimes unusual outliers)\n",
    "ax.set_xlim(250,500)\n",
    "ax.set_ylim(100,300)\n",
    "\n",
    "ax.set_xlabel(\"x pixel\")\n",
    "ax.set_ylabel(\"y pixel\")\n",
    "ax.set_title(\"Eye Trace Through Time\")\n",
    "plt.show()"
   ]
  },
  {
   "cell_type": "markdown",
   "metadata": {},
   "source": [
    "### Generating Response Windows"
   ]
  },
  {
   "cell_type": "code",
   "execution_count": null,
   "metadata": {},
   "outputs": [],
   "source": [
    "window_start_time = -2\n",
    "window_end_time = 3\n",
    "interp_hz = 10"
   ]
  },
  {
   "cell_type": "code",
   "execution_count": null,
   "metadata": {},
   "outputs": [],
   "source": [
    "# generate regularly-space x values and interpolate along it\n",
    "time_axis = np.arange(dff_timestamps[0], dff_timestamps[-1], step=(1/interp_hz))\n",
    "interp_dff = []\n",
    "\n",
    "# interpolate channel by channel to save RAM\n",
    "for channel in range(dff_trace.shape[1]):\n",
    "    f = interpolate.interp1d(dff_timestamps, dff_trace[:,channel], axis=0, kind=\"nearest\", fill_value=\"extrapolate\")\n",
    "    interp_dff.append(f(time_axis))\n",
    "\n",
    "interp_dff = np.array(interp_dff)\n",
    "\n",
    "print(interp_dff.shape)"
   ]
  },
  {
   "cell_type": "code",
   "execution_count": null,
   "metadata": {},
   "outputs": [],
   "source": [
    "# validate window bounds\n",
    "if window_start_time > 0:\n",
    "    raise ValueError(\"start time must be non-positive number\")\n",
    "if window_end_time <= 0:\n",
    "    raise ValueError(\"end time must be positive number\")\n",
    "    \n",
    "# get event windows\n",
    "windows = []\n",
    "window_length = int((window_end_time-window_start_time) * interp_hz)\n",
    "\n",
    "for stim_ts in rev_stim_times:\n",
    "    # convert time to index\n",
    "    start_idx = int( (stim_ts + window_start_time - dff_timestamps[0]) * interp_hz )\n",
    "    end_idx = start_idx + window_length\n",
    " \n",
    "    # bounds checking\n",
    "    if start_idx < 0 or end_idx > interp_dff.shape[1]:\n",
    "        continue\n",
    "        \n",
    "    windows.append(interp_dff[:,start_idx:end_idx])\n",
    "    \n",
    "if len(windows) == 0:\n",
    "    raise ValueError(\"There are no windows for these timestamps\")\n",
    "\n",
    "windows = np.array(windows) * 100 # x100 to convert values to dF/F percentage\n",
    "neuronwise_windows = np.swapaxes(windows,0,1)\n",
    "\n",
    "print(neuronwise_windows.shape)"
   ]
  },
  {
   "cell_type": "markdown",
   "metadata": {},
   "source": [
    "### Showing Response Windows"
   ]
  },
  {
   "cell_type": "code",
   "execution_count": null,
   "metadata": {},
   "outputs": [],
   "source": [
    "%matplotlib inline\n",
    "def show_dff_response(ax, dff, window_start_time, window_end_time, aspect=\"auto\", vmin=None, vmax=None, yticklabels=[], skipticks=1, xlabel=\"Time (s)\", ylabel=\"ROI\", cbar=True, cbar_label=None):\n",
    "    if len(dff) == 0:\n",
    "        print(\"Input data has length 0; Nothing to display\")\n",
    "        return\n",
    "\n",
    "    img = ax.imshow(dff, aspect=aspect, extent=[window_start_time, window_end_time, 0, len(dff)], vmin=vmin, vmax=vmax)\n",
    "    if cbar:\n",
    "        ax.colorbar(img, shrink=0.5, label=cbar_label)\n",
    "\n",
    "    ax.plot([0,0],[0, len(dff)], \":\", color=\"white\", linewidth=1.0)\n",
    "\n",
    "    if len(yticklabels) != 0:\n",
    "        ax.set_yticks(range(len(yticklabels)))\n",
    "        ax.set_yticklabels(yticklabels, fontsize=8)\n",
    "\n",
    "        n_ticks = len(yticklabels[::skipticks])\n",
    "        ax.yaxis.set_major_locator(plt.MaxNLocator(n_ticks))\n",
    "\n",
    "    ax.set_xlabel(xlabel)\n",
    "    ax.set_ylabel(ylabel)"
   ]
  },
  {
   "cell_type": "code",
   "execution_count": null,
   "metadata": {},
   "outputs": [],
   "source": [
    "def show_many_responses(windows, rows, cols, window_idxs=None, title=None, subplot_title=\"\", xlabel=None, ylabel=None, cbar_label=None, vmin=0, vmax=100):\n",
    "    if window_idxs is None:\n",
    "        window_idxs = range(len(windows))\n",
    "    windows = windows[window_idxs]\n",
    "    \n",
    "    # handle case with no input data\n",
    "    if len(windows) == 0:\n",
    "        print(\"Input data has length 0; Nothing to display\")\n",
    "        return\n",
    "    # handle cases when there aren't enough windows for number of rows\n",
    "    if len(windows) < rows*cols:\n",
    "        rows = (len(windows) // cols) + 1\n",
    "\n",
    "    fig, axes = plt.subplots(rows, cols, figsize=(2*cols+2, 2*rows+2), layout=\"constrained\")\n",
    "    # handle case when there's only one row\n",
    "    if len(axes.shape) == 1:\n",
    "        axes = axes.reshape((1, axes.shape[0]))\n",
    "    \n",
    "    for i in range(rows*cols):\n",
    "        ax_row = int(i // cols)\n",
    "        ax_col = i % cols\n",
    "        ax = axes[ax_row][ax_col]\n",
    "        \n",
    "        if i > len(windows)-1:\n",
    "            ax.set_visible(False)\n",
    "            continue\n",
    "\n",
    "        window = windows[i]\n",
    "        show_dff_response(ax, window, window_start_time, window_end_time, xlabel=xlabel, ylabel=ylabel, cbar=False, vmin=vmin, vmax=vmax)\n",
    "        ax.set_title(f\"{subplot_title} {window_idxs[i]}\")\n",
    "        if ax_row != rows-1:\n",
    "            ax.get_xaxis().set_visible(False)\n",
    "        if ax_col != 0:\n",
    "            ax.get_yaxis().set_visible(False)\n",
    "\n",
    "    fig.suptitle(title)\n",
    "    norm = mpl.colors.Normalize(vmin=vmin, vmax=vmax)\n",
    "    colorbar = fig.colorbar(mpl.cm.ScalarMappable(norm=norm), ax=axes, shrink=1.5/rows, label=cbar_label)"
   ]
  },
  {
   "cell_type": "code",
   "execution_count": null,
   "metadata": {},
   "outputs": [],
   "source": [
    "show_many_responses(neuronwise_windows,\n",
    "                    6,\n",
    "                    15,\n",
    "                    title=\"Response of Some ROIs across trials\",\n",
    "                    subplot_title=\"ROI\",\n",
    "                    xlabel=\"time (s)\",\n",
    "                    ylabel=\"trial\",\n",
    "                    cbar_label=\"$\\Delta$F/F (%)\")"
   ]
  },
  {
   "cell_type": "markdown",
   "metadata": {},
   "source": [
    "### Selecting Cells"
   ]
  },
  {
   "cell_type": "code",
   "execution_count": null,
   "metadata": {},
   "outputs": [],
   "source": [
    "# get the index within the window that stimulus occurs (time 0)\n",
    "stimulus_onset_idx = int(-window_start_time * interp_hz)\n",
    "baseline = windows[:,:,0:stimulus_onset_idx]\n",
    "evoked_responses = windows[:,:,stimulus_onset_idx:]\n",
    "\n",
    "print(stimulus_onset_idx)\n",
    "print(baseline.shape)\n",
    "print(evoked_responses.shape)"
   ]
  },
  {
   "cell_type": "code",
   "execution_count": null,
   "metadata": {},
   "outputs": [],
   "source": [
    "mean_trial_responses = np.mean(evoked_responses, axis=2)\n",
    "mean_trial_baselines = np.mean(baseline, axis=2)\n",
    "\n",
    "n = mean_trial_responses.shape[0]\n",
    "t,p = ttest_ind(mean_trial_responses, mean_trial_baselines)\n",
    "IC3_selected_rois = np.where(p < 0.05 / n)[0]\n",
    "print(f\"Selected ROIs {IC3_selected_rois}\")"
   ]
  },
  {
   "cell_type": "code",
   "execution_count": null,
   "metadata": {},
   "outputs": [],
   "source": [
    "show_many_responses(neuronwise_windows[IC3_selected_rois],\n",
    "                    6,\n",
    "                    15,\n",
    "                    title=\"Response of Some ROIs across trials\",\n",
    "                    subplot_title=\"ROI\",\n",
    "                    xlabel=\"time (s)\",\n",
    "                    ylabel=\"trial\",\n",
    "                    cbar_label=\"$\\Delta$F/F (%)\")"
   ]
  },
  {
   "cell_type": "markdown",
   "metadata": {},
   "source": [
    "### Viewing Raw Movie"
   ]
  },
  {
   "cell_type": "code",
   "execution_count": null,
   "metadata": {},
   "outputs": [],
   "source": [
    "nwb"
   ]
  },
  {
   "cell_type": "code",
   "execution_count": null,
   "metadata": {},
   "outputs": [],
   "source": [
    "# raw\n",
    "# dandi_movie_filepath = \"sub-621602/sub-621602_ses-1194555869-acq-1194754131-raw-movies_ophys.nwb\"\n",
    "# denoised\n",
    "dandi_movie_filepath = \"sub-621602_ses-1194555869-acq-1194754131-denoised-movies_ophys.nwb\""
   ]
  },
  {
   "cell_type": "code",
   "execution_count": null,
   "metadata": {},
   "outputs": [],
   "source": [
    "# This can sometimes take a while depending on the size of the file\n",
    "io = dandi_download_open(dandiset_id, dandi_filepath, download_loc, dandi_api_key=dandi_api_key)\n",
    "nwb = io.read()"
   ]
  },
  {
   "cell_type": "code",
   "execution_count": null,
   "metadata": {},
   "outputs": [],
   "source": [
    "# start_time = flr_timestamps[0]\n",
    "start_time = 540\n",
    "# end_time = flr_timestamps[-1]\n",
    "end_time = 600"
   ]
  },
  {
   "cell_type": "code",
   "execution_count": null,
   "metadata": {},
   "outputs": [],
   "source": [
    "start_idx, end_idx = np.searchsorted(dff_timestamps, [start_time, end_time])\n",
    "print(start_idx)\n",
    "print(end_idx)"
   ]
  },
  {
   "cell_type": "code",
   "execution_count": null,
   "metadata": {},
   "outputs": [],
   "source": [
    "raw_movie = nwb.acquisition[\"motion_corrected_stack\"].data\n",
    "flr_timestamps = np.array(flr.roi_response_series[\"RoiResponseSeries\"].timestamps)\n",
    "\n",
    "print(raw_movie.shape)\n",
    "print(flr_timestamps.shape)"
   ]
  },
  {
   "cell_type": "code",
   "execution_count": null,
   "metadata": {},
   "outputs": [],
   "source": [
    "%matplotlib ipympl\n",
    "plt.tick_params(left=False, bottom=False, labelleft=False, labelbottom=False)\n",
    "view = hyperslicer(raw_movie[start_idx:end_idx], play_buttons=True)"
   ]
  }
 ],
 "metadata": {
  "kernelspec": {
   "display_name": "Python 3",
   "language": "python",
   "name": "python3"
  },
  "language_info": {
   "codemirror_mode": {
    "name": "ipython",
    "version": 3
   },
   "file_extension": ".py",
   "mimetype": "text/x-python",
   "name": "python",
   "nbconvert_exporter": "python",
   "pygments_lexer": "ipython3",
   "version": "3.9.10"
  }
 },
 "nbformat": 4,
 "nbformat_minor": 2
}
