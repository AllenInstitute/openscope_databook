{
 "cells": [
  {
   "cell_type": "markdown",
   "metadata": {},
   "source": [
    "# OpenScope's Dendritic Coupling Dataset"
   ]
  },
  {
   "cell_type": "markdown",
   "metadata": {},
   "source": [
    "### Environment Setup\n",
    "⚠️**Note: If running on a new environment, run this cell once and then restart the kernel**⚠️"
   ]
  },
  {
   "cell_type": "code",
   "execution_count": 1,
   "metadata": {},
   "outputs": [
    {
     "name": "stderr",
     "output_type": "stream",
     "text": [
      "c:\\Users\\carter.peene\\AppData\\Local\\Programs\\Python\\Python39\\lib\\site-packages\\numpy\\_distributor_init.py:30: UserWarning: loaded more than 1 DLL from .libs:\n",
      "c:\\Users\\carter.peene\\AppData\\Local\\Programs\\Python\\Python39\\lib\\site-packages\\numpy\\.libs\\libopenblas.EL2C6PLE4ZYW3ECEVIV3OXXGRN2NRFM2.gfortran-win_amd64.dll\n",
      "c:\\Users\\carter.peene\\AppData\\Local\\Programs\\Python\\Python39\\lib\\site-packages\\numpy\\.libs\\libopenblas.XWYDX2IKJW2NMTWSFYNGFUWKQU3LYTCZ.gfortran-win_amd64.dll\n",
      "  warnings.warn(\"loaded more than 1 DLL from .libs:\"\n"
     ]
    }
   ],
   "source": [
    "try:\n",
    "    from dandi_utils import dandi_download_open\n",
    "except:\n",
    "    !git clone https://github.com/AllenInstitute/openscope_databook.git\n",
    "    %cd openscope_databook\n",
    "    %pip install -e ."
   ]
  },
  {
   "cell_type": "code",
   "execution_count": 2,
   "metadata": {},
   "outputs": [],
   "source": [
    "import os\n",
    "\n",
    "import matplotlib as mpl\n",
    "import matplotlib.pyplot as plt\n",
    "import numpy as np"
   ]
  },
  {
   "cell_type": "markdown",
   "metadata": {},
   "source": [
    "### Downloading Ophys File"
   ]
  },
  {
   "cell_type": "code",
   "execution_count": 3,
   "metadata": {},
   "outputs": [],
   "source": [
    "dandiset_id = \"000336\"\n",
    "dandi_filepath = \"sub-621603/sub-621603_ses-1195098705-acq-1195338120_ophys.nwb\"\n",
    "download_loc = \".\"\n",
    "dandi_api_key = os.environ[\"DANDI_API_KEY\"]"
   ]
  },
  {
   "cell_type": "code",
   "execution_count": 4,
   "metadata": {},
   "outputs": [
    {
     "name": "stderr",
     "output_type": "stream",
     "text": [
      "A newer version (0.58.0) of dandi/dandi-cli is available. You are using 0.55.1\n"
     ]
    },
    {
     "name": "stdout",
     "output_type": "stream",
     "text": [
      "File already exists\n",
      "Opening file\n"
     ]
    },
    {
     "name": "stderr",
     "output_type": "stream",
     "text": [
      "c:\\Users\\carter.peene\\AppData\\Local\\Programs\\Python\\Python39\\lib\\site-packages\\hdmf\\spec\\namespace.py:531: UserWarning: Ignoring cached namespace 'hdmf-common' version 1.5.0 because version 1.8.0 is already loaded.\n",
      "  warn(\"Ignoring cached namespace '%s' version %s because version %s is already loaded.\"\n",
      "c:\\Users\\carter.peene\\AppData\\Local\\Programs\\Python\\Python39\\lib\\site-packages\\hdmf\\spec\\namespace.py:531: UserWarning: Ignoring cached namespace 'core' version 2.3.0 because version 2.5.0 is already loaded.\n",
      "  warn(\"Ignoring cached namespace '%s' version %s because version %s is already loaded.\"\n",
      "c:\\Users\\carter.peene\\AppData\\Local\\Programs\\Python\\Python39\\lib\\site-packages\\hdmf\\spec\\namespace.py:531: UserWarning: Ignoring cached namespace 'hdmf-experimental' version 0.1.0 because version 0.5.0 is already loaded.\n",
      "  warn(\"Ignoring cached namespace '%s' version %s because version %s is already loaded.\"\n"
     ]
    }
   ],
   "source": [
    "# This can sometimes take a while depending on the size of the file\n",
    "io = dandi_download_open(dandiset_id, dandi_filepath, download_loc, dandi_api_key=dandi_api_key)\n",
    "nwb = io.read()"
   ]
  },
  {
   "cell_type": "markdown",
   "metadata": {},
   "source": [
    "### Selecting Stimulus Times"
   ]
  },
  {
   "cell_type": "code",
   "execution_count": 5,
   "metadata": {},
   "outputs": [
    {
     "data": {
      "text/plain": [
       "dict_keys(['ophys', 'running', 'stimulus', 'stimulus_ophys'])"
      ]
     },
     "execution_count": 5,
     "metadata": {},
     "output_type": "execute_result"
    }
   ],
   "source": [
    "nwb.processing.keys()"
   ]
  },
  {
   "cell_type": "code",
   "execution_count": 6,
   "metadata": {},
   "outputs": [
    {
     "data": {
      "text/plain": [
       "dict_keys(['fixed_gabors_presentations', 'gratings_presentations', 'movie_flower_fwd_presentations', 'movie_flower_fwd_rev_presentations', 'movie_flower_rev_fwd_presentations', 'movie_flower_rev_presentations', 'movie_touch_of_evil_fwd_presentations', 'movie_touch_of_evil_fwd_rev_presentations', 'movie_touch_of_evil_rev_fwd_presentations', 'movie_touch_of_evil_rev_presentations', 'movie_worms_fwd_presentations', 'movie_worms_fwd_rev_presentations', 'movie_worms_rev_fwd_presentations', 'movie_worms_rev_presentations', 'rotate_gabors_presentations', 'spontaneous_presentations'])"
      ]
     },
     "execution_count": 6,
     "metadata": {},
     "output_type": "execute_result"
    }
   ],
   "source": [
    "nwb.intervals.keys()"
   ]
  },
  {
   "cell_type": "code",
   "execution_count": 7,
   "metadata": {},
   "outputs": [
    {
     "name": "stdout",
     "output_type": "stream",
     "text": [
      "('start_time', 'stop_time', 'stimulus_name', 'stimulus_block', 'frame', 'color', 'contrast', 'opacity', 'ori', 'size', 'units', 'stimulus_index', 'tags', 'timeseries')\n"
     ]
    },
    {
     "data": {
      "text/html": [
       "<div>\n",
       "<style scoped>\n",
       "    .dataframe tbody tr th:only-of-type {\n",
       "        vertical-align: middle;\n",
       "    }\n",
       "\n",
       "    .dataframe tbody tr th {\n",
       "        vertical-align: top;\n",
       "    }\n",
       "\n",
       "    .dataframe thead th {\n",
       "        text-align: right;\n",
       "    }\n",
       "</style>\n",
       "<table border=\"1\" class=\"dataframe\">\n",
       "  <thead>\n",
       "    <tr style=\"text-align: right;\">\n",
       "      <th></th>\n",
       "      <th>start_time</th>\n",
       "      <th>stop_time</th>\n",
       "      <th>stimulus_name</th>\n",
       "      <th>stimulus_block</th>\n",
       "      <th>frame</th>\n",
       "      <th>color</th>\n",
       "      <th>contrast</th>\n",
       "      <th>opacity</th>\n",
       "      <th>ori</th>\n",
       "      <th>size</th>\n",
       "      <th>units</th>\n",
       "      <th>stimulus_index</th>\n",
       "      <th>tags</th>\n",
       "      <th>timeseries</th>\n",
       "    </tr>\n",
       "    <tr>\n",
       "      <th>id</th>\n",
       "      <th></th>\n",
       "      <th></th>\n",
       "      <th></th>\n",
       "      <th></th>\n",
       "      <th></th>\n",
       "      <th></th>\n",
       "      <th></th>\n",
       "      <th></th>\n",
       "      <th></th>\n",
       "      <th></th>\n",
       "      <th></th>\n",
       "      <th></th>\n",
       "      <th></th>\n",
       "      <th></th>\n",
       "    </tr>\n",
       "  </thead>\n",
       "  <tbody>\n",
       "    <tr>\n",
       "      <th>0</th>\n",
       "      <td>90.074710</td>\n",
       "      <td>90.108071</td>\n",
       "      <td>movie_flower_fwd_rev</td>\n",
       "      <td>6.0</td>\n",
       "      <td>0.0</td>\n",
       "      <td>[1.0, 1.0, 1.0]</td>\n",
       "      <td>1.0</td>\n",
       "      <td>1.0</td>\n",
       "      <td>0.0</td>\n",
       "      <td>[1920.0, 1080.0]</td>\n",
       "      <td>pix</td>\n",
       "      <td>2.0</td>\n",
       "      <td>[stimulus_time_interval]</td>\n",
       "      <td>[(4383, 2, timestamps pynwb.base.TimeSeries at...</td>\n",
       "    </tr>\n",
       "    <tr>\n",
       "      <th>1</th>\n",
       "      <td>90.108071</td>\n",
       "      <td>90.141431</td>\n",
       "      <td>movie_flower_fwd_rev</td>\n",
       "      <td>6.0</td>\n",
       "      <td>1.0</td>\n",
       "      <td>[1.0, 1.0, 1.0]</td>\n",
       "      <td>1.0</td>\n",
       "      <td>1.0</td>\n",
       "      <td>0.0</td>\n",
       "      <td>[1920.0, 1080.0]</td>\n",
       "      <td>pix</td>\n",
       "      <td>2.0</td>\n",
       "      <td>[stimulus_time_interval]</td>\n",
       "      <td>[(4385, 2, timestamps pynwb.base.TimeSeries at...</td>\n",
       "    </tr>\n",
       "    <tr>\n",
       "      <th>2</th>\n",
       "      <td>90.141431</td>\n",
       "      <td>90.174792</td>\n",
       "      <td>movie_flower_fwd_rev</td>\n",
       "      <td>6.0</td>\n",
       "      <td>2.0</td>\n",
       "      <td>[1.0, 1.0, 1.0]</td>\n",
       "      <td>1.0</td>\n",
       "      <td>1.0</td>\n",
       "      <td>0.0</td>\n",
       "      <td>[1920.0, 1080.0]</td>\n",
       "      <td>pix</td>\n",
       "      <td>2.0</td>\n",
       "      <td>[stimulus_time_interval]</td>\n",
       "      <td>[(4387, 2, timestamps pynwb.base.TimeSeries at...</td>\n",
       "    </tr>\n",
       "    <tr>\n",
       "      <th>3</th>\n",
       "      <td>90.174792</td>\n",
       "      <td>90.208153</td>\n",
       "      <td>movie_flower_fwd_rev</td>\n",
       "      <td>6.0</td>\n",
       "      <td>3.0</td>\n",
       "      <td>[1.0, 1.0, 1.0]</td>\n",
       "      <td>1.0</td>\n",
       "      <td>1.0</td>\n",
       "      <td>0.0</td>\n",
       "      <td>[1920.0, 1080.0]</td>\n",
       "      <td>pix</td>\n",
       "      <td>2.0</td>\n",
       "      <td>[stimulus_time_interval]</td>\n",
       "      <td>[(4389, 2, timestamps pynwb.base.TimeSeries at...</td>\n",
       "    </tr>\n",
       "    <tr>\n",
       "      <th>4</th>\n",
       "      <td>90.208153</td>\n",
       "      <td>90.241514</td>\n",
       "      <td>movie_flower_fwd_rev</td>\n",
       "      <td>6.0</td>\n",
       "      <td>4.0</td>\n",
       "      <td>[1.0, 1.0, 1.0]</td>\n",
       "      <td>1.0</td>\n",
       "      <td>1.0</td>\n",
       "      <td>0.0</td>\n",
       "      <td>[1920.0, 1080.0]</td>\n",
       "      <td>pix</td>\n",
       "      <td>2.0</td>\n",
       "      <td>[stimulus_time_interval]</td>\n",
       "      <td>[(4391, 2, timestamps pynwb.base.TimeSeries at...</td>\n",
       "    </tr>\n",
       "    <tr>\n",
       "      <th>5</th>\n",
       "      <td>90.241514</td>\n",
       "      <td>90.274874</td>\n",
       "      <td>movie_flower_fwd_rev</td>\n",
       "      <td>6.0</td>\n",
       "      <td>5.0</td>\n",
       "      <td>[1.0, 1.0, 1.0]</td>\n",
       "      <td>1.0</td>\n",
       "      <td>1.0</td>\n",
       "      <td>0.0</td>\n",
       "      <td>[1920.0, 1080.0]</td>\n",
       "      <td>pix</td>\n",
       "      <td>2.0</td>\n",
       "      <td>[stimulus_time_interval]</td>\n",
       "      <td>[(4393, 2, timestamps pynwb.base.TimeSeries at...</td>\n",
       "    </tr>\n",
       "    <tr>\n",
       "      <th>6</th>\n",
       "      <td>90.274874</td>\n",
       "      <td>90.308235</td>\n",
       "      <td>movie_flower_fwd_rev</td>\n",
       "      <td>6.0</td>\n",
       "      <td>6.0</td>\n",
       "      <td>[1.0, 1.0, 1.0]</td>\n",
       "      <td>1.0</td>\n",
       "      <td>1.0</td>\n",
       "      <td>0.0</td>\n",
       "      <td>[1920.0, 1080.0]</td>\n",
       "      <td>pix</td>\n",
       "      <td>2.0</td>\n",
       "      <td>[stimulus_time_interval]</td>\n",
       "      <td>[(4395, 2, timestamps pynwb.base.TimeSeries at...</td>\n",
       "    </tr>\n",
       "    <tr>\n",
       "      <th>7</th>\n",
       "      <td>90.308235</td>\n",
       "      <td>90.341596</td>\n",
       "      <td>movie_flower_fwd_rev</td>\n",
       "      <td>6.0</td>\n",
       "      <td>7.0</td>\n",
       "      <td>[1.0, 1.0, 1.0]</td>\n",
       "      <td>1.0</td>\n",
       "      <td>1.0</td>\n",
       "      <td>0.0</td>\n",
       "      <td>[1920.0, 1080.0]</td>\n",
       "      <td>pix</td>\n",
       "      <td>2.0</td>\n",
       "      <td>[stimulus_time_interval]</td>\n",
       "      <td>[(4397, 2, timestamps pynwb.base.TimeSeries at...</td>\n",
       "    </tr>\n",
       "    <tr>\n",
       "      <th>8</th>\n",
       "      <td>90.341596</td>\n",
       "      <td>90.374957</td>\n",
       "      <td>movie_flower_fwd_rev</td>\n",
       "      <td>6.0</td>\n",
       "      <td>8.0</td>\n",
       "      <td>[1.0, 1.0, 1.0]</td>\n",
       "      <td>1.0</td>\n",
       "      <td>1.0</td>\n",
       "      <td>0.0</td>\n",
       "      <td>[1920.0, 1080.0]</td>\n",
       "      <td>pix</td>\n",
       "      <td>2.0</td>\n",
       "      <td>[stimulus_time_interval]</td>\n",
       "      <td>[(4399, 2, timestamps pynwb.base.TimeSeries at...</td>\n",
       "    </tr>\n",
       "    <tr>\n",
       "      <th>9</th>\n",
       "      <td>90.374957</td>\n",
       "      <td>90.408317</td>\n",
       "      <td>movie_flower_fwd_rev</td>\n",
       "      <td>6.0</td>\n",
       "      <td>9.0</td>\n",
       "      <td>[1.0, 1.0, 1.0]</td>\n",
       "      <td>1.0</td>\n",
       "      <td>1.0</td>\n",
       "      <td>0.0</td>\n",
       "      <td>[1920.0, 1080.0]</td>\n",
       "      <td>pix</td>\n",
       "      <td>2.0</td>\n",
       "      <td>[stimulus_time_interval]</td>\n",
       "      <td>[(4401, 2, timestamps pynwb.base.TimeSeries at...</td>\n",
       "    </tr>\n",
       "  </tbody>\n",
       "</table>\n",
       "</div>"
      ],
      "text/plain": [
       "    start_time  stop_time         stimulus_name  stimulus_block  frame  \\\n",
       "id                                                                       \n",
       "0    90.074710  90.108071  movie_flower_fwd_rev             6.0    0.0   \n",
       "1    90.108071  90.141431  movie_flower_fwd_rev             6.0    1.0   \n",
       "2    90.141431  90.174792  movie_flower_fwd_rev             6.0    2.0   \n",
       "3    90.174792  90.208153  movie_flower_fwd_rev             6.0    3.0   \n",
       "4    90.208153  90.241514  movie_flower_fwd_rev             6.0    4.0   \n",
       "5    90.241514  90.274874  movie_flower_fwd_rev             6.0    5.0   \n",
       "6    90.274874  90.308235  movie_flower_fwd_rev             6.0    6.0   \n",
       "7    90.308235  90.341596  movie_flower_fwd_rev             6.0    7.0   \n",
       "8    90.341596  90.374957  movie_flower_fwd_rev             6.0    8.0   \n",
       "9    90.374957  90.408317  movie_flower_fwd_rev             6.0    9.0   \n",
       "\n",
       "              color  contrast  opacity  ori              size units  \\\n",
       "id                                                                    \n",
       "0   [1.0, 1.0, 1.0]       1.0      1.0  0.0  [1920.0, 1080.0]   pix   \n",
       "1   [1.0, 1.0, 1.0]       1.0      1.0  0.0  [1920.0, 1080.0]   pix   \n",
       "2   [1.0, 1.0, 1.0]       1.0      1.0  0.0  [1920.0, 1080.0]   pix   \n",
       "3   [1.0, 1.0, 1.0]       1.0      1.0  0.0  [1920.0, 1080.0]   pix   \n",
       "4   [1.0, 1.0, 1.0]       1.0      1.0  0.0  [1920.0, 1080.0]   pix   \n",
       "5   [1.0, 1.0, 1.0]       1.0      1.0  0.0  [1920.0, 1080.0]   pix   \n",
       "6   [1.0, 1.0, 1.0]       1.0      1.0  0.0  [1920.0, 1080.0]   pix   \n",
       "7   [1.0, 1.0, 1.0]       1.0      1.0  0.0  [1920.0, 1080.0]   pix   \n",
       "8   [1.0, 1.0, 1.0]       1.0      1.0  0.0  [1920.0, 1080.0]   pix   \n",
       "9   [1.0, 1.0, 1.0]       1.0      1.0  0.0  [1920.0, 1080.0]   pix   \n",
       "\n",
       "    stimulus_index                      tags  \\\n",
       "id                                             \n",
       "0              2.0  [stimulus_time_interval]   \n",
       "1              2.0  [stimulus_time_interval]   \n",
       "2              2.0  [stimulus_time_interval]   \n",
       "3              2.0  [stimulus_time_interval]   \n",
       "4              2.0  [stimulus_time_interval]   \n",
       "5              2.0  [stimulus_time_interval]   \n",
       "6              2.0  [stimulus_time_interval]   \n",
       "7              2.0  [stimulus_time_interval]   \n",
       "8              2.0  [stimulus_time_interval]   \n",
       "9              2.0  [stimulus_time_interval]   \n",
       "\n",
       "                                           timeseries  \n",
       "id                                                     \n",
       "0   [(4383, 2, timestamps pynwb.base.TimeSeries at...  \n",
       "1   [(4385, 2, timestamps pynwb.base.TimeSeries at...  \n",
       "2   [(4387, 2, timestamps pynwb.base.TimeSeries at...  \n",
       "3   [(4389, 2, timestamps pynwb.base.TimeSeries at...  \n",
       "4   [(4391, 2, timestamps pynwb.base.TimeSeries at...  \n",
       "5   [(4393, 2, timestamps pynwb.base.TimeSeries at...  \n",
       "6   [(4395, 2, timestamps pynwb.base.TimeSeries at...  \n",
       "7   [(4397, 2, timestamps pynwb.base.TimeSeries at...  \n",
       "8   [(4399, 2, timestamps pynwb.base.TimeSeries at...  \n",
       "9   [(4401, 2, timestamps pynwb.base.TimeSeries at...  "
      ]
     },
     "execution_count": 7,
     "metadata": {},
     "output_type": "execute_result"
    }
   ],
   "source": [
    "stim_table = nwb.intervals[\"movie_flower_fwd_rev_presentations\"]\n",
    "print(stim_table.colnames)\n",
    "stim_table[:10]"
   ]
  },
  {
   "cell_type": "code",
   "execution_count": 8,
   "metadata": {},
   "outputs": [
    {
     "name": "stdout",
     "output_type": "stream",
     "text": [
      "0.4100622481801935\n",
      "{0.0, 1.0, 2.0, 3.0, 4.0, 5.0, 6.0, 7.0, 8.0, 9.0, 10.0, 11.0, 12.0, 13.0, 14.0, 15.0, 16.0, 17.0, 18.0, 19.0, 20.0, 21.0, 22.0, 23.0, 24.0, 25.0, 26.0, 27.0, 28.0, 29.0, 30.0, 31.0, 32.0, 33.0, 34.0, 35.0, 36.0, 37.0, 38.0, 39.0, 40.0, 41.0, 42.0, 43.0, 44.0, 45.0, 46.0, 47.0, 48.0, 49.0, 50.0, 51.0, 52.0, 53.0, 54.0, 55.0, 56.0, 57.0, 58.0, 59.0, 60.0, 61.0, 62.0, 63.0, 64.0, 65.0, 66.0, 67.0, 68.0, 69.0, 70.0, 71.0, 72.0, 73.0, 74.0, 75.0, 76.0, 77.0, 78.0, 79.0, 80.0, 81.0, 82.0, 83.0, 84.0, 85.0, 86.0, 87.0, 88.0, 89.0, 90.0, 91.0, 92.0, 93.0, 94.0, 95.0, 96.0, 97.0, 98.0, 99.0, 100.0, 101.0, 102.0, 103.0, 104.0, 105.0, 106.0, 107.0, 108.0, 109.0, 110.0, 111.0, 112.0, 113.0, 114.0, 115.0, 116.0, 117.0, 118.0, 119.0, 120.0, 121.0, 122.0, 123.0, 124.0, 125.0, 126.0, 127.0, 128.0, 129.0, 130.0, 131.0, 132.0, 133.0, 134.0, 135.0, 136.0, 137.0, 138.0, 139.0, 140.0, 141.0, 142.0, 143.0, 144.0, 145.0, 146.0, 147.0, 148.0, 149.0, 150.0, 151.0, 152.0, 153.0, 154.0, 155.0, 156.0, 157.0, 158.0, 159.0, 160.0, 161.0, 162.0, 163.0, 164.0, 165.0, 166.0, 167.0, 168.0, 169.0, 170.0, 171.0, 172.0, 173.0, 174.0, 175.0, 176.0, 177.0, 178.0, 179.0, 180.0, 181.0, 182.0, 183.0, 184.0, 185.0, 186.0, 187.0, 188.0, 189.0, 190.0, 191.0, 192.0, 193.0, 194.0, 195.0, 196.0, 197.0, 198.0, 199.0, 200.0, 201.0, 202.0, 203.0, 204.0, 205.0, 206.0, 207.0, 208.0, 209.0, 210.0, 211.0, 212.0, 213.0, 214.0, 215.0, 216.0, 217.0, 218.0, 219.0, 220.0, 221.0, 222.0, 223.0, 224.0, 225.0, 226.0, 227.0, 228.0, 229.0, 230.0, 231.0, 232.0, 233.0, 234.0, 235.0, 236.0, 237.0, 238.0, 239.0, 240.0, 241.0, 242.0, 243.0, 244.0, 245.0, 246.0, 247.0, 248.0, 249.0, 250.0, 251.0, 252.0, 253.0, 254.0, 255.0, 256.0, 257.0, 258.0, 259.0, 260.0, 261.0, 262.0, 263.0, 264.0, 265.0, 266.0, 267.0, 268.0, 269.0}\n"
     ]
    }
   ],
   "source": [
    "print(np.mean(np.diff(stim_table.start_time)))\n",
    "print(set(stim_table.frame))"
   ]
  },
  {
   "cell_type": "code",
   "execution_count": 9,
   "metadata": {},
   "outputs": [
    {
     "name": "stdout",
     "output_type": "stream",
     "text": [
      "15\n"
     ]
    }
   ],
   "source": [
    "# i.e. select times where there is a reverse\n",
    "rev_stim_select = lambda row: row.frame.item() == 40\n",
    "rev_stim_times = [float(stim_table[i].start_time) for i in range(len(stim_table)) if rev_stim_select(stim_table[i])]\n",
    "print(len(rev_stim_times))\n",
    "\n",
    "# select times where there is no reverse"
   ]
  },
  {
   "cell_type": "markdown",
   "metadata": {},
   "source": [
    "### Selecting Units"
   ]
  },
  {
   "cell_type": "markdown",
   "metadata": {},
   "source": [
    "### Generating Spike Matrix"
   ]
  },
  {
   "cell_type": "markdown",
   "metadata": {},
   "source": [
    "### Showing Response Windows"
   ]
  },
  {
   "cell_type": "code",
   "execution_count": null,
   "metadata": {},
   "outputs": [],
   "source": [
    "def show_response(ax, window, window_start_time, window_end_time, aspect=\"auto\", vmin=None, vmax=None, yticklabels=[], skipticks=1, xlabel=\"Time (s)\", ylabel=\"ROI\", cbar=True, cbar_label=None):\n",
    "    if len(window) == 0:\n",
    "        print(\"Input data has length 0; Nothing to display\")\n",
    "        return\n",
    "\n",
    "    img = ax.imshow(window, aspect=aspect, extent=[window_start_time, window_end_time, 0, len(window)], interpolation=\"none\", vmin=vmin, vmax=vmax)\n",
    "    if cbar:\n",
    "        fig.colorbar(img, shrink=0.5, label=cbar_label)\n",
    "\n",
    "    ax.plot([0,0],[0, len(window)], \":\", color=\"white\", linewidth=1.0)\n",
    "\n",
    "    if len(yticklabels) != 0:\n",
    "        ax.set_yticks(range(len(yticklabels)))\n",
    "        ax.set_yticklabels(yticklabels, fontsize=8)\n",
    "\n",
    "        n_ticks = len(yticklabels[::skipticks])\n",
    "        ax.yaxis.set_major_locator(plt.MaxNLocator(n_ticks))\n",
    "\n",
    "    ax.set_xlabel(xlabel)\n",
    "    ax.set_ylabel(ylabel)"
   ]
  },
  {
   "cell_type": "code",
   "execution_count": null,
   "metadata": {},
   "outputs": [],
   "source": [
    "def show_many_responses(windows, rows, cols, window_idxs=None, title=None, subplot_title=\"\", xlabel=None, ylabel=None, cbar_label=None, vmin=0, vmax=2):\n",
    "    if window_idxs is None:\n",
    "        window_idxs = range(len(windows))\n",
    "    windows = windows[window_idxs]\n",
    "    \n",
    "    # handle case with no input data\n",
    "    if len(windows) == 0:\n",
    "        print(\"Input data has length 0; Nothing to display\")\n",
    "        return\n",
    "    # handle cases when there aren't enough windows for number of rows\n",
    "    if len(windows) < rows*cols:\n",
    "        rows = (len(windows) // cols) + 1\n",
    "\n",
    "    fig, axes = plt.subplots(rows, cols, figsize=(2*cols+2, 2*rows+2), layout=\"constrained\")\n",
    "    # handle case when there's only one row\n",
    "    if len(axes.shape) == 1:\n",
    "        axes = axes.reshape((1, axes.shape[0]))\n",
    "    \n",
    "    for i in range(rows*cols):\n",
    "        ax_row = int(i // cols)\n",
    "        ax_col = i % cols\n",
    "        ax = axes[ax_row][ax_col]\n",
    "        \n",
    "        if i > len(windows)-1:\n",
    "            ax.set_visible(False)\n",
    "            continue\n",
    "\n",
    "        window = windows[i]\n",
    "        show_response(ax, window, window_start_time, window_end_time, xlabel=xlabel, ylabel=ylabel, cbar=False, vmin=vmin, vmax=vmax)\n",
    "        ax.set_title(f\"{subplot_title} {window_idxs[i]}\")\n",
    "        if ax_row != rows-1:\n",
    "            ax.get_xaxis().set_visible(False)\n",
    "        if ax_col != 0:\n",
    "            ax.get_yaxis().set_visible(False)\n",
    "\n",
    "    fig.suptitle(title)\n",
    "    norm = mpl.colors.Normalize(vmin=vmin, vmax=vmax)\n",
    "    colorbar = fig.colorbar(mpl.cm.ScalarMappable(norm=norm), ax=axes, shrink=2/cols, label=cbar_label)\n"
   ]
  },
  {
   "cell_type": "markdown",
   "metadata": {},
   "source": [
    "### Selecting Cells"
   ]
  }
 ],
 "metadata": {
  "kernelspec": {
   "display_name": "Python 3",
   "language": "python",
   "name": "python3"
  },
  "language_info": {
   "codemirror_mode": {
    "name": "ipython",
    "version": 3
   },
   "file_extension": ".py",
   "mimetype": "text/x-python",
   "name": "python",
   "nbconvert_exporter": "python",
   "pygments_lexer": "ipython3",
   "version": "3.9.10"
  }
 },
 "nbformat": 4,
 "nbformat_minor": 2
}
