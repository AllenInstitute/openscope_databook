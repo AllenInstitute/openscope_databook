{
 "cells": [
  {
   "cell_type": "code",
   "execution_count": null,
   "id": "7cdcf8d3",
   "metadata": {},
   "outputs": [],
   "source": [
    "!ls"
   ]
  },
  {
   "cell_type": "code",
   "execution_count": null,
   "id": "8ed212da",
   "metadata": {},
   "outputs": [],
   "source": [
    "!cd .."
   ]
  },
  {
   "cell_type": "code",
   "execution_count": null,
   "id": "5200ebf6",
   "metadata": {},
   "outputs": [],
   "source": [
    "!ls"
   ]
  },
  {
   "cell_type": "code",
   "execution_count": null,
   "id": "9c6ce2ac",
   "metadata": {},
   "outputs": [],
   "source": [
    "!cd .."
   ]
  },
  {
   "cell_type": "code",
   "execution_count": null,
   "id": "425f0111",
   "metadata": {},
   "outputs": [],
   "source": [
    "!cd ~/data"
   ]
  },
  {
   "cell_type": "code",
   "execution_count": null,
   "id": "5cc690b9",
   "metadata": {},
   "outputs": [],
   "source": [
    "!ls"
   ]
  },
  {
   "cell_type": "code",
   "execution_count": null,
   "id": "2956167f",
   "metadata": {},
   "outputs": [],
   "source": [
    "!cd ~/docs"
   ]
  },
  {
   "cell_type": "code",
   "execution_count": null,
   "id": "08795587",
   "metadata": {},
   "outputs": [],
   "source": [
    "!ls"
   ]
  },
  {
   "cell_type": "code",
   "execution_count": null,
   "id": "258dc021",
   "metadata": {},
   "outputs": [],
   "source": [
    "!touch \"test.txt\""
   ]
  }
 ],
 "metadata": {
  "kernelspec": {
   "display_name": "Python 3 (ipykernel)",
   "language": "python",
   "name": "python3"
  },
  "language_info": {
   "codemirror_mode": {
    "name": "ipython",
    "version": 3
   },
   "file_extension": ".py",
   "mimetype": "text/x-python",
   "name": "python",
   "nbconvert_exporter": "python",
   "pygments_lexer": "ipython3",
   "version": "3.8.13"
  }
 },
 "nbformat": 4,
 "nbformat_minor": 5
}
