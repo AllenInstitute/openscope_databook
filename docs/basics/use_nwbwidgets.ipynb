{
 "cells": [
  {
   "cell_type": "markdown",
   "id": "e24d7599",
   "metadata": {},
   "source": [
    "# Exploring an NWB File\n",
    "It can get cumbersome to manually dissect an NWB file with print statements. There are a few ways to view an NWB graphically instead. A great way to do this in a Jupyter notebook is with **[NWBWidgets](https://github.com/NeurodataWithoutBorders/nwbwidgets)**. Here, you can use NWBWidgets to view a file from a location on your machine. If you don't want to download a file just to view it, you can still use NWBWidgets to view it remotely. Check out [Streaming an NWB File with fsspec](./stream_nwb.ipynb) to learn how to do this. Another way to explore an NWB file, that doesn't require Jupyter, is with [HDFView](https://www.hdfgroup.org/downloads/hdfview/)."
   ]
  },
  {
   "cell_type": "markdown",
   "id": "e54a7fde",
   "metadata": {},
   "source": [
    "### Environment Setup"
   ]
  },
  {
   "cell_type": "code",
   "execution_count": null,
   "id": "24009707",
   "metadata": {},
   "outputs": [],
   "source": [
    "from dandi import dandiapi\n",
    "from nwbwidgets import nwb2widget\n",
    "from pynwb import NWBHDF5IO"
   ]
  },
  {
   "attachments": {},
   "cell_type": "markdown",
   "id": "5c8b955c",
   "metadata": {},
   "source": [
    "### Downloading an NWB File\n",
    "To examine an NWB File locally, it must first be downloaded. `dandiset_id` and `dandi_filepath` may be changed to select a different file off of DANDI. If the file of interest already downloaded, you don't need to run the download cell again. When trying to download an embargoed file, refer to the code from the [Downloading an NWB File](./download_nwb.ipynb) notebook."
   ]
  },
  {
   "cell_type": "code",
   "execution_count": null,
   "id": "16c587a2",
   "metadata": {},
   "outputs": [],
   "source": [
    "dandiset_id = \"000021\"\n",
    "dandi_filepath = \"sub-699733573/sub-699733573_ses-715093703.nwb\"\n",
    "download_loc = \".\""
   ]
  },
  {
   "cell_type": "code",
   "execution_count": null,
   "id": "83d7e5f7",
   "metadata": {},
   "outputs": [],
   "source": [
    "filename = dandi_filepath.split(\"/\")[-1]\n",
    "filepath = f\"{download_loc}/{filename}\""
   ]
  },
  {
   "cell_type": "code",
   "execution_count": null,
   "id": "1c5db129",
   "metadata": {},
   "outputs": [],
   "source": [
    "client = dandiapi.DandiAPIClient()\n",
    "my_dandiset = client.get_dandiset(dandiset_id)\n",
    "file = my_dandiset.get_asset_by_path(dandi_filepath)\n",
    "# this may take awhile, especially if the file to download is large\n",
    "file.download(filepath)\n",
    "\n",
    "print(f\"Downloaded file to {filepath}\")"
   ]
  },
  {
   "attachments": {},
   "cell_type": "markdown",
   "id": "3df13a24",
   "metadata": {},
   "source": [
    "### Displaying an NWB file\n",
    "When passing in the NWB object, the `nwb2widget` function will display the NWB file embedded in the notebook with each of the fields and subfields as a widget. NWB Files can vary a lot in their specific structure, so it can be important to familiarize with the structure of the data you're working with."
   ]
  },
  {
   "cell_type": "code",
   "execution_count": null,
   "id": "0691fffc",
   "metadata": {
    "scrolled": true
   },
   "outputs": [],
   "source": [
    "io = NWBHDF5IO(filepath, mode=\"r\", load_namespaces=True)\n",
    "nwb = io.read()\n",
    "\n",
    "print(nwb)"
   ]
  },
  {
   "cell_type": "code",
   "execution_count": null,
   "id": "65addc38",
   "metadata": {},
   "outputs": [],
   "source": [
    "nwb2widget(nwb)"
   ]
  }
 ],
 "metadata": {
  "kernelspec": {
   "display_name": "Python 3 (ipykernel)",
   "language": "python",
   "name": "python3"
  },
  "language_info": {
   "codemirror_mode": {
    "name": "ipython",
    "version": 3
   },
   "file_extension": ".py",
   "mimetype": "text/x-python",
   "name": "python",
   "nbconvert_exporter": "python",
   "pygments_lexer": "ipython3",
   "version": "3.9.10"
  }
 },
 "nbformat": 4,
 "nbformat_minor": 5
}
