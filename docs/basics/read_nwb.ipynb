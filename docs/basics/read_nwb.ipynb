{
 "cells": [
  {
   "cell_type": "markdown",
   "id": "e2641694",
   "metadata": {},
   "source": [
    "# Reading an NWB File\n",
    "After downloading an NWB file, you *may* want to view the data inside. You can do basic reading of the file with [PyNWB](https://github.com/NeurodataWithoutBorders/pynwb). This is a package designed to utilize, modify, and process NWB files. The basic read functionality of PyNWB is shown below. This notebook is intended to explore the NWB file which was specified for download in *Downloading an NWB file*. If you choose a different file, make sure it's already downloaded!"
   ]
  },
  {
   "cell_type": "markdown",
   "id": "5d21aa90",
   "metadata": {},
   "source": [
    "### Environment Setup"
   ]
  },
  {
   "cell_type": "code",
   "execution_count": null,
   "id": "d76f08a6",
   "metadata": {},
   "outputs": [],
   "source": [
    "from pynwb import NWBHDF5IO"
   ]
  },
  {
   "cell_type": "markdown",
   "id": "0b6b0571",
   "metadata": {},
   "source": [
    "### Reading an NWB File\n",
    "You can read in a PyNWB file with `NWBHDF5IO` to retrieve an io object. You can use the `.read` method to actually read it in. From there, you can see the raw data of the NWB file and can print the fields you are interested in. "
   ]
  },
  {
   "cell_type": "code",
   "execution_count": null,
   "id": "400c411d",
   "metadata": {},
   "outputs": [],
   "source": [
    "nwb_filepath = \"~/data/sub-699733573_ses-715093703.nwb\""
   ]
  },
  {
   "cell_type": "code",
   "execution_count": null,
   "id": "7628e758",
   "metadata": {},
   "outputs": [],
   "source": [
    "io = NWBHDF5IO(nwb_filepath, mode=\"r\", load_namespaces=True)\n",
    "nwb = io.read()\n",
    "\n",
    "print(nwb)"
   ]
  }
 ],
 "metadata": {
  "kernelspec": {
   "display_name": "Python 3 (ipykernel)",
   "language": "python",
   "name": "python3"
  },
  "language_info": {
   "codemirror_mode": {
    "name": "ipython",
    "version": 3
   },
   "file_extension": ".py",
   "mimetype": "text/x-python",
   "name": "python",
   "nbconvert_exporter": "python",
   "pygments_lexer": "ipython3",
   "version": "3.9.10"
  }
 },
 "nbformat": 4,
 "nbformat_minor": 5
}
