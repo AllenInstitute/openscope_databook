{
 "cells": [
  {
   "cell_type": "markdown",
   "id": "e2641694",
   "metadata": {},
   "source": [
    "# Reading an NWB File\n",
    "After downloading an NWB file, you *may* want to view the data inside. You can do basic reading of the file with [PyNWB](https://github.com/NeurodataWithoutBorders/pynwb). This is a package designed to utilize, modify, and process NWB files. The basic read functionality of PyNWB is shown below."
   ]
  },
  {
   "cell_type": "markdown",
   "id": "5d21aa90",
   "metadata": {},
   "source": [
    "### Environment Setup"
   ]
  },
  {
   "cell_type": "code",
   "execution_count": null,
   "id": "d76f08a6",
   "metadata": {},
   "outputs": [],
   "source": [
    "from dandi import dandiapi\n",
    "from pynwb import NWBHDF5IO"
   ]
  },
  {
   "cell_type": "markdown",
   "id": "4687824b",
   "metadata": {},
   "source": [
    "### Downloading an NWB File\n",
    "To read an NWB File, it must first be downloaded. `dandiset_id` and `filepath` may be changed to select a different file off of DANDI. If the file of interest already downloaded, you don't need to run the download cell again. When trying to download an embargoed file, refer to the code from the [Downloading an NWB File](./download_nwb.ipynb) notebook."
   ]
  },
  {
   "cell_type": "code",
   "execution_count": null,
   "id": "7fbd4d6c",
   "metadata": {},
   "outputs": [],
   "source": [
    "dandiset_id = \"000021\"\n",
    "dandi_filepath = \"sub-699733573/sub-699733573_ses-715093703.nwb\"\n",
    "download_loc = \".\""
   ]
  },
  {
   "cell_type": "code",
   "execution_count": null,
   "id": "9da13c50",
   "metadata": {},
   "outputs": [],
   "source": [
    "filename = dandi_filepath.split(\"/\")[-1]\n",
    "filepath = f\"{download_loc}/{filename}\""
   ]
  },
  {
   "cell_type": "code",
   "execution_count": null,
   "id": "da61049a",
   "metadata": {},
   "outputs": [],
   "source": [
    "client = dandiapi.DandiAPIClient()\n",
    "my_dandiset = client.get_dandiset(dandiset_id)\n",
    "file = my_dandiset.get_asset_by_path(dandi_filepath)\n",
    "# this may take awhile, especially if the file to download is large\n",
    "file.download(filepath)\n",
    "\n",
    "print(f\"Downloaded file to {filepath}\")"
   ]
  },
  {
   "cell_type": "markdown",
   "id": "0b6b0571",
   "metadata": {},
   "source": [
    "### Reading an NWB File\n",
    "You can read in a PyNWB file with `NWBHDF5IO` to retrieve an io object. You can use the `.read` method to actually read it in. From there, you can see the raw data of the NWB file and can print the fields you are interested in. "
   ]
  },
  {
   "cell_type": "code",
   "execution_count": null,
   "id": "7628e758",
   "metadata": {},
   "outputs": [],
   "source": [
    "io = NWBHDF5IO(f\"{download_loc}/{filename}\", mode=\"r\", load_namespaces=True)\n",
    "nwb = io.read()\n",
    "\n",
    "print(nwb)"
   ]
  }
 ],
 "metadata": {
  "kernelspec": {
   "display_name": "Python 3 (ipykernel)",
   "language": "python",
   "name": "python3"
  },
  "language_info": {
   "codemirror_mode": {
    "name": "ipython",
    "version": 3
   },
   "file_extension": ".py",
   "mimetype": "text/x-python",
   "name": "python",
   "nbconvert_exporter": "python",
   "pygments_lexer": "ipython3",
   "version": "3.9.10"
  }
 },
 "nbformat": 4,
 "nbformat_minor": 5
}
