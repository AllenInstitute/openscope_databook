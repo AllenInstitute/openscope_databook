{
 "cells": [
  {
   "cell_type": "markdown",
   "id": "e2641694",
   "metadata": {},
   "source": [
    "# Reading an NWB File\n",
    "After downloading an NWB file, you *may* want to view the data inside. You can do basic reading of the file with [PyNWB](https://github.com/NeurodataWithoutBorders/pynwb). This is a package designed to utilize, modify, and process NWB files. The basic read functionality of PyNWB is shown below. This notebook is intended to explore the NWB file which was specified for download in *Downloading an NWB file*. If you choose a different file, make sure it's already downloaded!"
   ]
  },
  {
   "cell_type": "markdown",
   "id": "5d21aa90",
   "metadata": {},
   "source": [
    "### Environment Setup"
   ]
  },
  {
   "cell_type": "code",
   "execution_count": 1,
   "id": "d76f08a6",
   "metadata": {},
   "outputs": [],
   "source": [
    "from pynwb import NWBHDF5IO"
   ]
  },
  {
   "cell_type": "markdown",
   "id": "0b6b0571",
   "metadata": {},
   "source": [
    "### Reading an NWB File\n",
    "You can read in a PyNWB file with `NWBHDF5IO` to retrieve an io object. You can use the `.read` method to actually read it in. From there, you can see the raw data of the NWB file and can print the fields you are interested in. "
   ]
  },
  {
   "cell_type": "code",
   "execution_count": 2,
   "id": "400c411d",
   "metadata": {},
   "outputs": [],
   "source": [
    "nwb_filepath = \"./sub-699733573_ses-715093703.nwb\""
   ]
  },
  {
   "cell_type": "code",
   "execution_count": 3,
   "id": "7628e758",
   "metadata": {},
   "outputs": [
    {
     "name": "stderr",
     "output_type": "stream",
     "text": [
      "C:\\Users\\carter.peene\\AppData\\Local\\Programs\\Python\\Python39\\lib\\site-packages\\hdmf\\spec\\namespace.py:531: UserWarning: Ignoring cached namespace 'hdmf-common' version 1.1.3 because version 1.5.1 is already loaded.\n",
      "  warn(\"Ignoring cached namespace '%s' version %s because version %s is already loaded.\"\n",
      "C:\\Users\\carter.peene\\AppData\\Local\\Programs\\Python\\Python39\\lib\\site-packages\\hdmf\\spec\\namespace.py:531: UserWarning: Ignoring cached namespace 'core' version 2.2.2 because version 2.5.0 is already loaded.\n",
      "  warn(\"Ignoring cached namespace '%s' version %s because version %s is already loaded.\"\n"
     ]
    },
    {
     "name": "stdout",
     "output_type": "stream",
     "text": [
      "root pynwb.file.NWBFile at 0x2647013427664\n",
      "Fields:\n",
      "  acquisition: {\n",
      "    raw_running_wheel_rotation <class 'pynwb.base.TimeSeries'>,\n",
      "    running_wheel_signal_voltage <class 'pynwb.base.TimeSeries'>,\n",
      "    running_wheel_supply_voltage <class 'pynwb.base.TimeSeries'>\n",
      "  }\n",
      "  devices: {\n",
      "    probeA <class 'abc.EcephysProbe'>,\n",
      "    probeB <class 'abc.EcephysProbe'>,\n",
      "    probeC <class 'abc.EcephysProbe'>,\n",
      "    probeD <class 'abc.EcephysProbe'>,\n",
      "    probeE <class 'abc.EcephysProbe'>,\n",
      "    probeF <class 'abc.EcephysProbe'>\n",
      "  }\n",
      "  electrode_groups: {\n",
      "    probeA <class 'abc.EcephysElectrodeGroup'>,\n",
      "    probeB <class 'abc.EcephysElectrodeGroup'>,\n",
      "    probeC <class 'abc.EcephysElectrodeGroup'>,\n",
      "    probeD <class 'abc.EcephysElectrodeGroup'>,\n",
      "    probeE <class 'abc.EcephysElectrodeGroup'>,\n",
      "    probeF <class 'abc.EcephysElectrodeGroup'>\n",
      "  }\n",
      "  electrodes: electrodes <class 'hdmf.common.table.DynamicTable'>\n",
      "  file_create_date: [datetime.datetime(2020, 5, 26, 0, 53, 26, 986608, tzinfo=tzoffset(None, -25200))]\n",
      "  identifier: 715093703\n",
      "  institution: Allen Institute for Brain Science\n",
      "  intervals: {\n",
      "    drifting_gratings_presentations <class 'pynwb.epoch.TimeIntervals'>,\n",
      "    flashes_presentations <class 'pynwb.epoch.TimeIntervals'>,\n",
      "    gabors_presentations <class 'pynwb.epoch.TimeIntervals'>,\n",
      "    invalid_times <class 'pynwb.epoch.TimeIntervals'>,\n",
      "    natural_movie_one_presentations <class 'pynwb.epoch.TimeIntervals'>,\n",
      "    natural_movie_three_presentations <class 'pynwb.epoch.TimeIntervals'>,\n",
      "    natural_scenes_presentations <class 'pynwb.epoch.TimeIntervals'>,\n",
      "    spontaneous_presentations <class 'pynwb.epoch.TimeIntervals'>,\n",
      "    static_gratings_presentations <class 'pynwb.epoch.TimeIntervals'>\n",
      "  }\n",
      "  invalid_times: invalid_times <class 'pynwb.epoch.TimeIntervals'>\n",
      "  processing: {\n",
      "    eye_tracking_rig_metadata <class 'pynwb.base.ProcessingModule'>,\n",
      "    optotagging <class 'pynwb.base.ProcessingModule'>,\n",
      "    running <class 'pynwb.base.ProcessingModule'>,\n",
      "    stimulus <class 'pynwb.base.ProcessingModule'>\n",
      "  }\n",
      "  session_description: Data and metadata for an Ecephys session\n",
      "  session_id: 715093703\n",
      "  session_start_time: 2019-01-19 00:54:18-08:00\n",
      "  stimulus_notes: brain_observatory_1.1\n",
      "  subject: subject abc.EcephysSpecimen at 0x2647012943904\n",
      "Fields:\n",
      "  age: P118D\n",
      "  age_in_days: 118.0\n",
      "  genotype: Sst-IRES-Cre/wt;Ai32(RCL-ChR2(H134R)_EYFP)/wt\n",
      "  sex: M\n",
      "  species: Mus musculus\n",
      "  specimen_name: Sst-IRES-Cre;Ai32-386129\n",
      "  subject_id: 699733573\n",
      "\n",
      "  timestamps_reference_time: 2019-01-19 00:54:18-08:00\n",
      "  units: units <class 'pynwb.misc.Units'>\n",
      "\n"
     ]
    }
   ],
   "source": [
    "io = NWBHDF5IO(nwb_filepath, mode=\"r\", load_namespaces=True)\n",
    "nwb = io.read()\n",
    "\n",
    "print(nwb)"
   ]
  }
 ],
 "metadata": {
  "kernelspec": {
   "display_name": "Python 3 (ipykernel)",
   "language": "python",
   "name": "python3"
  },
  "language_info": {
   "codemirror_mode": {
    "name": "ipython",
    "version": 3
   },
   "file_extension": ".py",
   "mimetype": "text/x-python",
   "name": "python",
   "nbconvert_exporter": "python",
   "pygments_lexer": "ipython3",
   "version": "3.9.10"
  }
 },
 "nbformat": 4,
 "nbformat_minor": 5
}
