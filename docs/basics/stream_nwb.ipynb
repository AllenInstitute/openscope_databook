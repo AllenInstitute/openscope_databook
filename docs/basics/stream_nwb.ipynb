{
 "cells": [
  {
   "cell_type": "markdown",
   "id": "d84ee614",
   "metadata": {},
   "source": [
    "# Stream an NWB File with fsspec\n",
    "As you might have realized, NWB files are large. They take a lot of time to download and a lot of space on your drive. A convenient tool to mitigate this is **fsspec**. Fsspec allows you to *stream* the information from a file remotely without having to download it. This can be more efficient if you are only wanting to quickly examine a file or just need access to a portion of the file's contents. For more exensive analysis, it is still recommended that you download the file."
   ]
  },
  {
   "cell_type": "markdown",
   "id": "e54a7fde",
   "metadata": {},
   "source": [
    "### Environment Setup"
   ]
  },
  {
   "cell_type": "code",
   "execution_count": null,
   "id": "00134bf4",
   "metadata": {},
   "outputs": [
    {
     "name": "stdout",
     "output_type": "stream",
     "text": [
      "Requirement already satisfied: dandi in c:\\users\\carter.peene\\miniconda3\\envs\\test_databook\\lib\\site-packages (0.46.6)\n",
      "Requirement already satisfied: pynwb!=1.1.0,>=1.0.3 in c:\\users\\carter.peene\\miniconda3\\envs\\test_databook\\lib\\site-packages (from dandi) (2.2.0)\n",
      "Requirement already satisfied: humanize in c:\\users\\carter.peene\\miniconda3\\envs\\test_databook\\lib\\site-packages (from dandi) (4.4.0)\n",
      "Requirement already satisfied: dandischema~=0.7.0 in c:\\users\\carter.peene\\miniconda3\\envs\\test_databook\\lib\\site-packages (from dandi) (0.7.1)\n",
      "Requirement already satisfied: keyring!=23.9.0 in c:\\users\\carter.peene\\miniconda3\\envs\\test_databook\\lib\\site-packages (from dandi) (23.9.3)\n",
      "Requirement already satisfied: nwbinspector>=0.4.12 in c:\\users\\carter.peene\\miniconda3\\envs\\test_databook\\lib\\site-packages (from dandi) (0.4.17)\n",
      "Requirement already satisfied: semantic-version in c:\\users\\carter.peene\\miniconda3\\envs\\test_databook\\lib\\site-packages (from dandi) (2.10.0)\n",
      "Requirement already satisfied: keyrings.alt in c:\\users\\carter.peene\\miniconda3\\envs\\test_databook\\lib\\site-packages (from dandi) (4.2.0)\n",
      "Requirement already satisfied: pycryptodomex in c:\\users\\carter.peene\\miniconda3\\envs\\test_databook\\lib\\site-packages (from dandi) (3.15.0)\n",
      "Requirement already satisfied: packaging in c:\\users\\carter.peene\\miniconda3\\envs\\test_databook\\lib\\site-packages (from dandi) (21.3)\n",
      "Requirement already satisfied: click-didyoumean in c:\\users\\carter.peene\\miniconda3\\envs\\test_databook\\lib\\site-packages (from dandi) (0.3.0)\n",
      "Requirement already satisfied: ruamel.yaml<1,>=0.15 in c:\\users\\carter.peene\\miniconda3\\envs\\test_databook\\lib\\site-packages (from dandi) (0.17.21)\n",
      "Requirement already satisfied: tenacity in c:\\users\\carter.peene\\miniconda3\\envs\\test_databook\\lib\\site-packages (from dandi) (8.1.0)\n",
      "Requirement already satisfied: fscacher in c:\\users\\carter.peene\\miniconda3\\envs\\test_databook\\lib\\site-packages (from dandi) (0.2.0)\n",
      "Requirement already satisfied: pydantic>=1.9.0 in c:\\users\\carter.peene\\miniconda3\\envs\\test_databook\\lib\\site-packages (from dandi) (1.10.2)\n",
      "Requirement already satisfied: pyout!=0.6.0,>=0.5 in c:\\users\\carter.peene\\miniconda3\\envs\\test_databook\\lib\\site-packages (from dandi) (0.7.2)\n",
      "Requirement already satisfied: interleave~=0.1 in c:\\users\\carter.peene\\miniconda3\\envs\\test_databook\\lib\\site-packages (from dandi) (0.2.1)\n",
      "Requirement already satisfied: python-dateutil in c:\\users\\carter.peene\\miniconda3\\envs\\test_databook\\lib\\site-packages (from dandi) (2.8.2)\n",
      "Requirement already satisfied: fasteners in c:\\users\\carter.peene\\miniconda3\\envs\\test_databook\\lib\\site-packages (from dandi) (0.18)\n",
      "Requirement already satisfied: click in c:\\users\\carter.peene\\miniconda3\\envs\\test_databook\\lib\\site-packages (from dandi) (8.1.3)\n",
      "Requirement already satisfied: bidsschematools in c:\\users\\carter.peene\\miniconda3\\envs\\test_databook\\lib\\site-packages (from dandi) (0.5.1)\n",
      "Requirement already satisfied: joblib in c:\\users\\carter.peene\\miniconda3\\envs\\test_databook\\lib\\site-packages (from dandi) (1.2.0)\n",
      "Requirement already satisfied: zarr~=2.10 in c:\\users\\carter.peene\\miniconda3\\envs\\test_databook\\lib\\site-packages (from dandi) (2.13.3)\n",
      "Requirement already satisfied: requests~=2.20 in c:\\users\\carter.peene\\miniconda3\\envs\\test_databook\\lib\\site-packages (from dandi) (2.28.1)\n",
      "Requirement already satisfied: appdirs in c:\\users\\carter.peene\\miniconda3\\envs\\test_databook\\lib\\site-packages (from dandi) (1.4.4)\n",
      "Requirement already satisfied: etelemetry>=0.2.2 in c:\\users\\carter.peene\\miniconda3\\envs\\test_databook\\lib\\site-packages (from dandi) (0.3.0)\n",
      "Requirement already satisfied: jsonschema[format] in c:\\users\\carter.peene\\miniconda3\\envs\\test_databook\\lib\\site-packages (from dandischema~=0.7.0->dandi) (4.16.0)\n",
      "Requirement already satisfied: ci-info>=0.2 in c:\\users\\carter.peene\\miniconda3\\envs\\test_databook\\lib\\site-packages (from etelemetry>=0.2.2->dandi) (0.3.0)\n",
      "Requirement already satisfied: jaraco.classes in c:\\users\\carter.peene\\miniconda3\\envs\\test_databook\\lib\\site-packages (from keyring!=23.9.0->dandi) (3.2.3)\n",
      "Requirement already satisfied: pywin32-ctypes!=0.1.0,!=0.1.1 in c:\\users\\carter.peene\\miniconda3\\envs\\test_databook\\lib\\site-packages (from keyring!=23.9.0->dandi) (0.2.0)\n",
      "Requirement already satisfied: importlib-metadata>=3.6 in c:\\users\\carter.peene\\miniconda3\\envs\\test_databook\\lib\\site-packages (from keyring!=23.9.0->dandi) (5.0.0)\n",
      "Requirement already satisfied: PyYAML in c:\\users\\carter.peene\\miniconda3\\envs\\test_databook\\lib\\site-packages (from nwbinspector>=0.4.12->dandi) (6.0)\n",
      "Requirement already satisfied: natsort in c:\\users\\carter.peene\\miniconda3\\envs\\test_databook\\lib\\site-packages (from nwbinspector>=0.4.12->dandi) (8.2.0)\n",
      "Requirement already satisfied: tqdm in c:\\users\\carter.peene\\miniconda3\\envs\\test_databook\\lib\\site-packages (from nwbinspector>=0.4.12->dandi) (4.64.1)\n",
      "Requirement already satisfied: numpy<1.23.0,>=1.22.0 in c:\\users\\carter.peene\\miniconda3\\envs\\test_databook\\lib\\site-packages (from nwbinspector>=0.4.12->dandi) (1.22.4)\n",
      "Requirement already satisfied: typing-extensions>=4.1.0 in c:\\users\\carter.peene\\miniconda3\\envs\\test_databook\\lib\\site-packages (from pydantic>=1.9.0->dandi) (4.4.0)\n",
      "Requirement already satisfied: hdmf<4,>=3.4.2 in c:\\users\\carter.peene\\miniconda3\\envs\\test_databook\\lib\\site-packages (from pynwb!=1.1.0,>=1.0.3->dandi) (3.4.6)\n",
      "Requirement already satisfied: setuptools in c:\\users\\carter.peene\\miniconda3\\envs\\test_databook\\lib\\site-packages (from pynwb!=1.1.0,>=1.0.3->dandi) (63.4.1)\n",
      "Requirement already satisfied: pandas<2,>=1.1.5 in c:\\users\\carter.peene\\miniconda3\\envs\\test_databook\\lib\\site-packages (from pynwb!=1.1.0,>=1.0.3->dandi) (1.5.1)\n",
      "Requirement already satisfied: h5py<4,>=2.10 in c:\\users\\carter.peene\\miniconda3\\envs\\test_databook\\lib\\site-packages (from pynwb!=1.1.0,>=1.0.3->dandi) (3.7.0)\n",
      "Requirement already satisfied: six>=1.5 in c:\\users\\carter.peene\\miniconda3\\envs\\test_databook\\lib\\site-packages (from python-dateutil->dandi) (1.16.0)\n",
      "Requirement already satisfied: certifi>=2017.4.17 in c:\\users\\carter.peene\\miniconda3\\envs\\test_databook\\lib\\site-packages (from requests~=2.20->dandi) (2022.9.24)\n",
      "Requirement already satisfied: charset-normalizer<3,>=2 in c:\\users\\carter.peene\\miniconda3\\envs\\test_databook\\lib\\site-packages (from requests~=2.20->dandi) (2.1.1)\n",
      "Requirement already satisfied: idna<4,>=2.5 in c:\\users\\carter.peene\\miniconda3\\envs\\test_databook\\lib\\site-packages (from requests~=2.20->dandi) (3.4)\n",
      "Requirement already satisfied: urllib3<1.27,>=1.21.1 in c:\\users\\carter.peene\\miniconda3\\envs\\test_databook\\lib\\site-packages (from requests~=2.20->dandi) (1.26.12)\n",
      "Requirement already satisfied: ruamel.yaml.clib>=0.2.6 in c:\\users\\carter.peene\\miniconda3\\envs\\test_databook\\lib\\site-packages (from ruamel.yaml<1,>=0.15->dandi) (0.2.7)\n",
      "Requirement already satisfied: numcodecs>=0.10.0 in c:\\users\\carter.peene\\miniconda3\\envs\\test_databook\\lib\\site-packages (from zarr~=2.10->dandi) (0.10.2)\n",
      "Requirement already satisfied: asciitree in c:\\users\\carter.peene\\miniconda3\\envs\\test_databook\\lib\\site-packages (from zarr~=2.10->dandi) (0.3.3)\n",
      "Requirement already satisfied: colorama in c:\\users\\carter.peene\\miniconda3\\envs\\test_databook\\lib\\site-packages (from click->dandi) (0.4.5)\n",
      "Requirement already satisfied: pyparsing!=3.0.5,>=2.0.2 in c:\\users\\carter.peene\\miniconda3\\envs\\test_databook\\lib\\site-packages (from packaging->dandi) (3.0.9)\n",
      "Requirement already satisfied: scipy<2,>=1.1 in c:\\users\\carter.peene\\miniconda3\\envs\\test_databook\\lib\\site-packages (from hdmf<4,>=3.4.2->pynwb!=1.1.0,>=1.0.3->dandi) (1.9.3)\n",
      "Requirement already satisfied: zipp>=0.5 in c:\\users\\carter.peene\\miniconda3\\envs\\test_databook\\lib\\site-packages (from importlib-metadata>=3.6->keyring!=23.9.0->dandi) (3.9.0)\n",
      "Requirement already satisfied: pyrsistent!=0.17.0,!=0.17.1,!=0.17.2,>=0.14.0 in c:\\users\\carter.peene\\miniconda3\\envs\\test_databook\\lib\\site-packages (from jsonschema[format]->dandischema~=0.7.0->dandi) (0.18.1)\n",
      "Requirement already satisfied: attrs>=17.4.0 in c:\\users\\carter.peene\\miniconda3\\envs\\test_databook\\lib\\site-packages (from jsonschema[format]->dandischema~=0.7.0->dandi) (22.1.0)\n",
      "Requirement already satisfied: entrypoints in c:\\users\\carter.peene\\miniconda3\\envs\\test_databook\\lib\\site-packages (from numcodecs>=0.10.0->zarr~=2.10->dandi) (0.4)\n",
      "Requirement already satisfied: pytz>=2020.1 in c:\\users\\carter.peene\\miniconda3\\envs\\test_databook\\lib\\site-packages (from pandas<2,>=1.1.5->pynwb!=1.1.0,>=1.0.3->dandi) (2022.5)\n",
      "Requirement already satisfied: email-validator>=1.0.3 in c:\\users\\carter.peene\\miniconda3\\envs\\test_databook\\lib\\site-packages (from pydantic>=1.9.0->dandi) (1.3.0)\n",
      "Requirement already satisfied: more-itertools in c:\\users\\carter.peene\\miniconda3\\envs\\test_databook\\lib\\site-packages (from jaraco.classes->keyring!=23.9.0->dandi) (9.0.0)\n",
      "Requirement already satisfied: rfc3339-validator in c:\\users\\carter.peene\\miniconda3\\envs\\test_databook\\lib\\site-packages (from jsonschema[format]->dandischema~=0.7.0->dandi) (0.1.4)\n",
      "Requirement already satisfied: isoduration in c:\\users\\carter.peene\\miniconda3\\envs\\test_databook\\lib\\site-packages (from jsonschema[format]->dandischema~=0.7.0->dandi) (20.11.0)\n",
      "Requirement already satisfied: fqdn in c:\\users\\carter.peene\\miniconda3\\envs\\test_databook\\lib\\site-packages (from jsonschema[format]->dandischema~=0.7.0->dandi) (1.5.1)\n",
      "Requirement already satisfied: jsonpointer>1.13 in c:\\users\\carter.peene\\miniconda3\\envs\\test_databook\\lib\\site-packages (from jsonschema[format]->dandischema~=0.7.0->dandi) (2.3)\n",
      "Requirement already satisfied: webcolors>=1.11 in c:\\users\\carter.peene\\miniconda3\\envs\\test_databook\\lib\\site-packages (from jsonschema[format]->dandischema~=0.7.0->dandi) (1.12)\n",
      "Requirement already satisfied: rfc3987 in c:\\users\\carter.peene\\miniconda3\\envs\\test_databook\\lib\\site-packages (from jsonschema[format]->dandischema~=0.7.0->dandi) (1.3.8)\n",
      "Requirement already satisfied: uri-template in c:\\users\\carter.peene\\miniconda3\\envs\\test_databook\\lib\\site-packages (from jsonschema[format]->dandischema~=0.7.0->dandi) (1.2.0)\n",
      "Requirement already satisfied: dnspython>=1.15.0 in c:\\users\\carter.peene\\miniconda3\\envs\\test_databook\\lib\\site-packages (from email-validator>=1.0.3->pydantic>=1.9.0->dandi) (2.2.1)\n",
      "Requirement already satisfied: arrow>=0.15.0 in c:\\users\\carter.peene\\miniconda3\\envs\\test_databook\\lib\\site-packages (from isoduration->jsonschema[format]->dandischema~=0.7.0->dandi) (1.2.3)\n"
     ]
    },
    {
     "name": "stdout",
     "output_type": "stream",
     "text": [
      "Requirement already satisfied: pynwb in c:\\users\\carter.peene\\miniconda3\\envs\\test_databook\\lib\\site-packages (2.2.0)\n",
      "Requirement already satisfied: numpy<1.24,>=1.16 in c:\\users\\carter.peene\\miniconda3\\envs\\test_databook\\lib\\site-packages (from pynwb) (1.22.4)\n",
      "Requirement already satisfied: python-dateutil<3,>=2.7.3 in c:\\users\\carter.peene\\miniconda3\\envs\\test_databook\\lib\\site-packages (from pynwb) (2.8.2)\n",
      "Requirement already satisfied: setuptools in c:\\users\\carter.peene\\miniconda3\\envs\\test_databook\\lib\\site-packages (from pynwb) (63.4.1)\n",
      "Requirement already satisfied: pandas<2,>=1.1.5 in c:\\users\\carter.peene\\miniconda3\\envs\\test_databook\\lib\\site-packages (from pynwb) (1.5.1)\n",
      "Requirement already satisfied: h5py<4,>=2.10 in c:\\users\\carter.peene\\miniconda3\\envs\\test_databook\\lib\\site-packages (from pynwb) (3.7.0)\n",
      "Requirement already satisfied: hdmf<4,>=3.4.2 in c:\\users\\carter.peene\\miniconda3\\envs\\test_databook\\lib\\site-packages (from pynwb) (3.4.6)\n",
      "Requirement already satisfied: scipy<2,>=1.1 in c:\\users\\carter.peene\\miniconda3\\envs\\test_databook\\lib\\site-packages (from hdmf<4,>=3.4.2->pynwb) (1.9.3)\n",
      "Requirement already satisfied: ruamel.yaml<1,>=0.16 in c:\\users\\carter.peene\\miniconda3\\envs\\test_databook\\lib\\site-packages (from hdmf<4,>=3.4.2->pynwb) (0.17.21)\n",
      "Requirement already satisfied: jsonschema<5,>=2.6.0 in c:\\users\\carter.peene\\miniconda3\\envs\\test_databook\\lib\\site-packages (from hdmf<4,>=3.4.2->pynwb) (4.16.0)\n",
      "Requirement already satisfied: pytz>=2020.1 in c:\\users\\carter.peene\\miniconda3\\envs\\test_databook\\lib\\site-packages (from pandas<2,>=1.1.5->pynwb) (2022.5)\n",
      "Requirement already satisfied: six>=1.5 in c:\\users\\carter.peene\\miniconda3\\envs\\test_databook\\lib\\site-packages (from python-dateutil<3,>=2.7.3->pynwb) (1.16.0)\n",
      "Requirement already satisfied: pyrsistent!=0.17.0,!=0.17.1,!=0.17.2,>=0.14.0 in c:\\users\\carter.peene\\miniconda3\\envs\\test_databook\\lib\\site-packages (from jsonschema<5,>=2.6.0->hdmf<4,>=3.4.2->pynwb) (0.18.1)\n",
      "Requirement already satisfied: attrs>=17.4.0 in c:\\users\\carter.peene\\miniconda3\\envs\\test_databook\\lib\\site-packages (from jsonschema<5,>=2.6.0->hdmf<4,>=3.4.2->pynwb) (22.1.0)\n",
      "Requirement already satisfied: ruamel.yaml.clib>=0.2.6 in c:\\users\\carter.peene\\miniconda3\\envs\\test_databook\\lib\\site-packages (from ruamel.yaml<1,>=0.16->hdmf<4,>=3.4.2->pynwb) (0.2.7)\n",
      "Collecting fsspec\n",
      "  Downloading fsspec-2022.10.0-py3-none-any.whl (138 kB)\n",
      "     -------------------------------------- 138.8/138.8 kB 1.4 MB/s eta 0:00:00\n",
      "Requirement already satisfied: requests in c:\\users\\carter.peene\\miniconda3\\envs\\test_databook\\lib\\site-packages (2.28.1)\n",
      "Collecting aiohttp\n",
      "  Using cached aiohttp-3.8.3-cp39-cp39-win_amd64.whl (323 kB)\n",
      "Requirement already satisfied: idna<4,>=2.5 in c:\\users\\carter.peene\\miniconda3\\envs\\test_databook\\lib\\site-packages (from requests) (3.4)\n",
      "Requirement already satisfied: charset-normalizer<3,>=2 in c:\\users\\carter.peene\\miniconda3\\envs\\test_databook\\lib\\site-packages (from requests) (2.1.1)\n",
      "Requirement already satisfied: urllib3<1.27,>=1.21.1 in c:\\users\\carter.peene\\miniconda3\\envs\\test_databook\\lib\\site-packages (from requests) (1.26.12)\n",
      "Requirement already satisfied: certifi>=2017.4.17 in c:\\users\\carter.peene\\miniconda3\\envs\\test_databook\\lib\\site-packages (from requests) (2022.9.24)\n",
      "Collecting frozenlist>=1.1.1\n",
      "  Using cached frozenlist-1.3.1-cp39-cp39-win_amd64.whl (34 kB)\n",
      "Collecting yarl<2.0,>=1.0\n",
      "  Using cached yarl-1.8.1-cp39-cp39-win_amd64.whl (56 kB)\n",
      "Requirement already satisfied: attrs>=17.3.0 in c:\\users\\carter.peene\\miniconda3\\envs\\test_databook\\lib\\site-packages (from aiohttp) (22.1.0)\n",
      "Collecting async-timeout<5.0,>=4.0.0a3\n",
      "  Using cached async_timeout-4.0.2-py3-none-any.whl (5.8 kB)\n",
      "Collecting aiosignal>=1.1.2\n",
      "  Using cached aiosignal-1.2.0-py3-none-any.whl (8.2 kB)\n",
      "Collecting multidict<7.0,>=4.5\n",
      "  Using cached multidict-6.0.2-cp39-cp39-win_amd64.whl (28 kB)\n",
      "Installing collected packages: multidict, fsspec, frozenlist, async-timeout, yarl, aiosignal, aiohttp\n",
      "Successfully installed aiohttp-3.8.3 aiosignal-1.2.0 async-timeout-4.0.2 frozenlist-1.3.1 fsspec-2022.10.0 multidict-6.0.2 yarl-1.8.1\n"
     ]
    }
   ],
   "source": [
    "!pip install dandi\n",
    "!pip install pynwb\n",
    "!pip install fsspec requests aiohttp\n",
    "!pip install nwbwidgets"
   ]
  },
  {
   "cell_type": "code",
   "execution_count": null,
   "id": "df1c4cce",
   "metadata": {},
   "outputs": [],
   "source": [
    "from dandi import dandiapi\n",
    "import dandi\n",
    "import fsspec\n",
    "import pynwb\n",
    "import h5py\n",
    "from fsspec.implementations.cached import CachingFileSystem\n",
    "from nwbwidgets import nwb2widget"
   ]
  },
  {
   "cell_type": "markdown",
   "id": "5731bf71",
   "metadata": {},
   "source": [
    "### Streaming Configuration\n",
    "Here you can configure the stream. Browse the DANDI Archive for a Dandiset you're interested in and use its ID in `dandiset_id`. Set `filepath` to the path of the file you want to download within the dandiset. You can get this by navigating to the file you want to download on the DANDI Archive website and pressing on the `i` icon. There, you can copy the filepath from the field labeled `path`. Don't include a leading `/`.\n",
    "\n",
    "\n",
    "If you're accessing an embargoed dandiset, you should set `authenticate` to True, and set `dandi_api_key` to your DANDI API Key, which can be found if you click on your profile icon in the top-right corner on the DANDI Archive website."
   ]
  },
  {
   "cell_type": "code",
   "execution_count": null,
   "id": "f3f97f13",
   "metadata": {},
   "outputs": [],
   "source": [
    "dandiset_id = \"000021\"\n",
    "filepath = \"sub-699733573/sub-699733573_ses-715093703.nwb\"\n",
    "authenticate = False\n",
    "dandi_api_key = \"\""
   ]
  },
  {
   "cell_type": "code",
   "execution_count": null,
   "id": "a51caf90",
   "metadata": {},
   "outputs": [],
   "source": [
    "if authenticate:\n",
    "    client = dandiapi.DandiAPIClient(token=dandi_api_key)\n",
    "else:\n",
    "    client = dandiapi.DandiAPIClient()\n",
    "my_dandiset = client.get_dandiset(dandiset_id)\n",
    "\n",
    "print(f\"Got dandiset {my_dandiset}\")"
   ]
  },
  {
   "cell_type": "code",
   "execution_count": null,
   "id": "d131ad56",
   "metadata": {},
   "outputs": [],
   "source": [
    "file = my_dandiset.get_asset_by_path(filepath)\n",
    "base_url = file.client.session.head(file.base_download_url)\n",
    "file_url = base_url.headers['Location']\n",
    "\n",
    "print(f\"Retrieved file url {file_url}\")"
   ]
  },
  {
   "cell_type": "markdown",
   "id": "3df13a24",
   "metadata": {},
   "source": [
    "### Stream Your File\n",
    "First, this creates a virtual filesystem based on the http protocol and specifies using caching to save accessed data to RAM. Then it opens the file remotely through the virtual filesystem."
   ]
  },
  {
   "cell_type": "code",
   "execution_count": null,
   "id": "d15db3bb",
   "metadata": {
    "scrolled": true
   },
   "outputs": [],
   "source": [
    "fs = CachingFileSystem(\n",
    "    fs=fsspec.filesystem(\"http\"),\n",
    "    cache_storage=\"nwb-cache\",  # Local folder for the cache\n",
    ")\n",
    "\n",
    "# next, open the file\n",
    "with fs.open(file_url, \"rb\") as f:\n",
    "    with h5py.File(f) as file:\n",
    "        with pynwb.NWBHDF5IO(file=file, mode='r', load_namespaces=True) as io:\n",
    "            nwb = io.read()"
   ]
  },
  {
   "cell_type": "markdown",
   "id": "1a140a2a",
   "metadata": {},
   "source": [
    "### Interacting with Remote File\n",
    "Once the file has been opened remotely, you can explore the file as you wish via `print` statements, or you can view the whole thing with `NWBWidgets` like we showed in *Exploring an NWB File*."
   ]
  },
  {
   "cell_type": "code",
   "execution_count": null,
   "id": "91031da2",
   "metadata": {},
   "outputs": [],
   "source": [
    "### uncomment these to view aspects of the file\n",
    "### note that not all these properties exist for all nwb files\n",
    "print(nwb.electrodes)\n",
    "# nwb.identifier\n",
    "# nwb.processing\n",
    "# nwb.acquisition[\"events\"]\n",
    "# nwb.intervals[\"trials\"]\n",
    "# nwb.stimulus[\"StimulusPresentation\"]\n",
    "# nwb.electrodes"
   ]
  },
  {
   "cell_type": "code",
   "execution_count": null,
   "id": "3e06b964",
   "metadata": {},
   "outputs": [],
   "source": [
    "nwb2widget(nwb)"
   ]
  }
 ],
 "metadata": {
  "kernelspec": {
   "display_name": "Python 3 (ipykernel)",
   "language": "python",
   "name": "python3"
  },
  "language_info": {
   "codemirror_mode": {
    "name": "ipython",
    "version": 3
   },
   "file_extension": ".py",
   "mimetype": "text/x-python",
   "name": "python",
   "nbconvert_exporter": "python",
   "pygments_lexer": "ipython3",
   "version": "3.9.10"
  }
 },
 "nbformat": 4,
 "nbformat_minor": 5
}
