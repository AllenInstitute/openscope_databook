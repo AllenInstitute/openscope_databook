{
 "cells": [
  {
   "cell_type": "markdown",
   "id": "d84ee614",
   "metadata": {},
   "source": [
    "# Stream an NWB File with fsspec\n",
    "As you might have realized, NWB files are large. They take a lot of time to download and a lot of space on your drive. A convenient tool to mitigate this is **fsspec**. Fsspec allows you to *stream* the information from a file remotely without having to download it. This can be more efficient if you are only wanting to quickly examine a file or just need access to a portion of the file's contents. For more exensive analysis, it is still recommended that you download the file."
   ]
  },
  {
   "cell_type": "markdown",
   "id": "e54a7fde",
   "metadata": {},
   "source": [
    "### Environment Setup"
   ]
  },
  {
   "cell_type": "code",
   "execution_count": null,
   "id": "df1c4cce",
   "metadata": {},
   "outputs": [],
   "source": [
    "from dandi import dandiapi\n",
    "import dandi\n",
    "import fsspec\n",
    "import pynwb\n",
    "import h5py\n",
    "from fsspec.implementations.cached import CachingFileSystem\n",
    "from nwbwidgets import nwb2widget"
   ]
  },
  {
   "cell_type": "markdown",
   "id": "5731bf71",
   "metadata": {},
   "source": [
    "### Streaming Configuration\n",
    "Here you can configure the stream. Browse the DANDI Archive for a Dandiset you're interested in and use its ID in `dandiset_id`. Set `filepath` to the path of the file you want to download within the dandiset. You can get this by navigating to the file you want to download on the DANDI Archive website and pressing on the `i` icon. There, you can copy the filepath from the field labeled `path`. Don't include a leading `/`.\n",
    "\n",
    "\n",
    "If you're accessing an embargoed dandiset, you should set `authenticate` to True, and set `dandi_api_key` to your DANDI API Key, which can be found if you click on your profile icon in the top-right corner on the DANDI Archive website."
   ]
  },
  {
   "cell_type": "code",
   "execution_count": null,
   "id": "f3f97f13",
   "metadata": {},
   "outputs": [],
   "source": [
    "dandiset_id = \"000021\"\n",
    "filepath = \"sub-699733573/sub-699733573_ses-715093703.nwb\"\n",
    "authenticate = False\n",
    "dandi_api_key = \"\""
   ]
  },
  {
   "cell_type": "code",
   "execution_count": null,
   "id": "a51caf90",
   "metadata": {},
   "outputs": [],
   "source": [
    "if authenticate:\n",
    "    client = dandiapi.DandiAPIClient(token=dandi_api_key)\n",
    "else:\n",
    "    client = dandiapi.DandiAPIClient()\n",
    "my_dandiset = client.get_dandiset(dandiset_id)\n",
    "\n",
    "print(f\"Got dandiset {my_dandiset}\")"
   ]
  },
  {
   "cell_type": "code",
   "execution_count": null,
   "id": "d131ad56",
   "metadata": {},
   "outputs": [],
   "source": [
    "file = my_dandiset.get_asset_by_path(filepath)\n",
    "base_url = file.client.session.head(file.base_download_url)\n",
    "file_url = base_url.headers['Location']\n",
    "\n",
    "print(f\"Retrieved file url {file_url}\")"
   ]
  },
  {
   "cell_type": "markdown",
   "id": "3df13a24",
   "metadata": {},
   "source": [
    "### Stream Your File\n",
    "First, this creates a virtual filesystem based on the http protocol and specifies using caching to save accessed data to RAM. Then it opens the file remotely through the virtual filesystem."
   ]
  },
  {
   "cell_type": "code",
   "execution_count": null,
   "id": "d15db3bb",
   "metadata": {
    "scrolled": true
   },
   "outputs": [],
   "source": [
    "fs = CachingFileSystem(\n",
    "    fs=fsspec.filesystem(\"http\"),\n",
    "    cache_storage=\"nwb-cache\",  # Local folder for the cache\n",
    ")\n",
    "\n",
    "f = fs.open(file_url, \"rb\")\n",
    "file = h5py.File(f)\n",
    "io = pynwb.NWBHDF5IO(file=file, mode='r', load_namespaces=True)\n",
    "nwb = io.read()"
   ]
  },
  {
   "cell_type": "markdown",
   "id": "1a140a2a",
   "metadata": {},
   "source": [
    "### Interacting with Remote File\n",
    "Once the file has been opened remotely, you can explore the file as you wish via `print` statements, or you can view the whole thing with `NWBWidgets` like we showed in *Exploring an NWB File*."
   ]
  },
  {
   "cell_type": "code",
   "execution_count": null,
   "id": "91031da2",
   "metadata": {},
   "outputs": [],
   "source": [
    "### uncomment these to view aspects of the file\n",
    "### note that not all these properties exist for all nwb files\n",
    "# nwb.identifier\n",
    "# nwb.processing\n",
    "# nwb.acquisition[\"events\"]\n",
    "# nwb.intervals[\"trials\"]\n",
    "# nwb.stimulus[\"StimulusPresentation\"]\n",
    "# nwb.electrodes"
   ]
  },
  {
   "cell_type": "code",
   "execution_count": null,
   "id": "3e06b964",
   "metadata": {},
   "outputs": [],
   "source": [
    "nwb2widget(nwb)"
   ]
  }
 ],
 "metadata": {
  "kernelspec": {
   "display_name": "Python 3 (ipykernel)",
   "language": "python",
   "name": "python3"
  },
  "language_info": {
   "codemirror_mode": {
    "name": "ipython",
    "version": 3
   },
   "file_extension": ".py",
   "mimetype": "text/x-python",
   "name": "python",
   "nbconvert_exporter": "python",
   "pygments_lexer": "ipython3",
   "version": "3.9.10"
  }
 },
 "nbformat": 4,
 "nbformat_minor": 5
}
