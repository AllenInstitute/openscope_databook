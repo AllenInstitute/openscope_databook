{
 "cells": [
  {
   "attachments": {},
   "cell_type": "markdown",
   "id": "b8d63bf5",
   "metadata": {
    "id": "b8d63bf5"
   },
   "source": [
    "# Getting Experimental Metadata from DANDI\n",
    "It can be helpful to view general information about the experimental sessions that produced your data. Since typically each NWB File represents one session, a dandiset's files can be examined to get an overview of each of the sessions. This can vary, depending on who produced the NWB file. In this notebook, NWB Files within one of the Allen Institute's datasets are opened and some basic information is used to make a table of the experimental sessions and their properties."
   ]
  },
  {
   "attachments": {},
   "cell_type": "markdown",
   "id": "410df685",
   "metadata": {
    "id": "410df685"
   },
   "source": [
    "### Environment Setup"
   ]
  },
  {
   "cell_type": "code",
   "execution_count": 1,
   "id": "1859d9e1",
   "metadata": {
    "tags": []
   },
   "outputs": [],
   "source": [
    "### if running on Google Colab, run this cell once, then restart the runtime and run the rest of the notebook\n",
    "import os\n",
    "if \"COLAB_GPU\" in os.environ:\n",
    "    !git clone https://github.com/AllenInstitute/openscope_databook.git\n",
    "    %cd openscope_databook\n",
    "    %pip install -e ."
   ]
  },
  {
   "cell_type": "code",
   "execution_count": 2,
   "id": "2bbff7f6",
   "metadata": {
    "id": "2bbff7f6",
    "tags": []
   },
   "outputs": [],
   "source": [
    "import fsspec\n",
    "import h5py\n",
    "import pandas as pd\n",
    "\n",
    "from dandi import dandiapi\n",
    "from fsspec.implementations.cached import CachingFileSystem\n",
    "from pynwb import NWBHDF5IO\n",
    "\n",
    "%matplotlib inline"
   ]
  },
  {
   "attachments": {},
   "cell_type": "markdown",
   "id": "a874b37c",
   "metadata": {
    "id": "a874b37c"
   },
   "source": [
    "### Getting Dandiset Metadata\n",
    "To view other data, change `dandiset_id` to be the id of the dandiset you're interested in. If the dandiset is embargoed, have `authenticate` set to True, and `dandi_api_key` to your DANDI API key. "
   ]
  },
  {
   "cell_type": "code",
   "execution_count": 3,
   "id": "c01caed9",
   "metadata": {
    "id": "c01caed9",
    "tags": []
   },
   "outputs": [],
   "source": [
    "dandiset_id = \"000248\"\n",
    "authenticate = True\n",
    "dandi_api_key = os.environ[\"DANDI_API_KEY\"]"
   ]
  },
  {
   "cell_type": "code",
   "execution_count": 4,
   "id": "5648ccf4",
   "metadata": {
    "colab": {
     "base_uri": "https://localhost:8080/"
    },
    "id": "5648ccf4",
    "outputId": "811a0cc5-5472-488d-bc9d-4a7814fa4760",
    "tags": []
   },
   "outputs": [
    {
     "name": "stdout",
     "output_type": "stream",
     "text": [
      "Got dandiset DANDI:000248/draft\n"
     ]
    }
   ],
   "source": [
    "if authenticate:\n",
    "    my_dandiset = dandiapi.DandiAPIClient(token=dandi_api_key).get_dandiset(dandiset_id)\n",
    "else:\n",
    "    my_dandiset = dandiapi.DandiAPIClient().get_dandiset(dandiset_id)\n",
    "print(f\"Got dandiset {my_dandiset}\")"
   ]
  },
  {
   "attachments": {},
   "cell_type": "markdown",
   "id": "8130105e",
   "metadata": {
    "id": "8130105e"
   },
   "source": [
    "### Get NWB Info\n",
    "Below are two definitions of thefunction `get_nwb_info`. These function are tailored to our NWB Files; Our *Ophys* and our *Ecephys* datasets respectively. It retrieves a series of important metadata values from the NWB file object. It is likely that the code for accessing the fields of interest to you will be slightly different for your files. This can easily altered to extract any other information from an NWB file you want as long as you're familiar with the internal layout of your files. However, make sure to change the `columns` field in the pandas dataframe below to properly reflect any changes to the function."
   ]
  },
  {
   "cell_type": "code",
   "execution_count": 5,
   "id": "14c5933e-07e0-4a27-be90-06ee6bf27a19",
   "metadata": {
    "tags": []
   },
   "outputs": [],
   "source": [
    "# get experimental information from within ophys file\n",
    "# getattr is used because not all nwb files have all properties. If not handled like this, errors will arise\n",
    "# def get_nwb_info(nwb):\n",
    "#         session_time = getattr(nwb, \"session_start_time\", None)\n",
    "\n",
    "#         metadata_obj = getattr(nwb, \"lab_meta_data\", {})\n",
    "#         metadata = metadata_obj.get(\"metadata\", None)\n",
    "#         session_id = getattr(metadata, \"ophys_session_id\", None)\n",
    "#         experiment_id = getattr(metadata, \"ophys_experiment_id\", None)\n",
    "\n",
    "#         fov_height = getattr(metadata, \"field_of_view_height\", None)\n",
    "#         fov_width = getattr(metadata, \"field_of_view_width\", None)\n",
    "#         imaging_depth = getattr(metadata, \"imaging_depth\", None)\n",
    "#         group = getattr(metadata, \"imaging_plane_group\", None)\n",
    "#         group_count = getattr(metadata, \"imaging_plane_group_count\", None)\n",
    "#         container_id = getattr(metadata, \"experiment_container_id\", None)\n",
    "        \n",
    "#         subject = getattr(nwb, \"subject\", None)\n",
    "#         specimen_name = getattr(subject, \"subject_id\", None)\n",
    "#         age = getattr(subject, \"age\", None)\n",
    "#         sex = getattr(subject, \"sex\", None)\n",
    "#         genotype = getattr(subject, \"genotype\", None)\n",
    "        \n",
    "#         try: n_rois = nwb.processing[\"ophys\"][\"dff\"].roi_response_series[\"traces\"].data.shape[1]\n",
    "#         except: n_rois = None\n",
    "#         try: location = list(nwb.imaging_planes.values())[0].location\n",
    "#         except: location = None\n",
    "        \n",
    "#         intervals = getattr(nwb, \"intervals\", {})\n",
    "#         stim_types = set(intervals.keys())\n",
    "#         stim_tables = [intervals[table_name] for table_name in intervals]\n",
    "#         # gets highest value among final \"stop times\" of all stim tables in intervals\n",
    "#         session_end = max([table.stop_time[-1] for table in stim_tables if len(table) > 1])\n",
    "\n",
    "#         return [session_time, session_id, experiment_id, container_id, group, group_count, imaging_depth, location, fov_height, fov_width, specimen_name, sex, age, genotype, stim_types, n_rois, session_end]"
   ]
  },
  {
   "cell_type": "code",
   "execution_count": 6,
   "id": "aa93e289",
   "metadata": {
    "id": "aa93e289",
    "tags": []
   },
   "outputs": [],
   "source": [
    "# get experimental information from within ecephys file\n",
    "# getattr is used because not all nwb files have all properties. If not handled like this, errors will arise\n",
    "def get_nwb_info(nwb):\n",
    "        session_time = getattr(nwb, \"session_start_time\", None)\n",
    "\n",
    "        subject = getattr(nwb, \"subject\", None)\n",
    "        specimen_name = getattr(subject, \"specimen_name\", None)\n",
    "        age = getattr(subject, \"age_in_days\", None)\n",
    "        sex = getattr(subject, \"sex\", None)\n",
    "        genotype = getattr(subject, \"genotype\", None)\n",
    "\n",
    "        probes = set(getattr(nwb, \"devices\", {}).keys())\n",
    "        units = getattr(nwb, \"units\", [])\n",
    "        n_units = len(units) if hasattr(units, '__len__') else 0        \n",
    "        \n",
    "        intervals = getattr(nwb, \"intervals\", {})\n",
    "        stim_types = set(intervals.keys())\n",
    "        stim_tables = [intervals[table_name] for table_name in intervals]\n",
    "        # gets highest value among final \"stop times\" of all stim tables in intervals\n",
    "        session_end = max([table.stop_time[-1] for table in stim_tables if len(table) > 1])\n",
    "\n",
    "        return [session_time, specimen_name, sex, age, genotype, probes, stim_types, n_units, session_end]"
   ]
  },
  {
   "attachments": {},
   "cell_type": "markdown",
   "id": "4f4f7e1d",
   "metadata": {
    "id": "4f4f7e1d"
   },
   "source": [
    "### Getting Table\n",
    "Here, each relevant file in the dandiset is streamed and opened remotely to get the information of interest using the function `get_nwb_info`, defined above, and then it is added to a table of sessions and their metadata. Since some files are for specific probes rather than entire sessions, they are skipped. Opening each NWB File can take several minutes. Depending on how many files your dandiset loops through, this step can take a very long time."
   ]
  },
  {
   "cell_type": "code",
   "execution_count": 7,
   "id": "60ad89ca",
   "metadata": {
    "colab": {
     "base_uri": "https://localhost:8080/"
    },
    "id": "60ad89ca",
    "outputId": "0502693e-0cf0-44f5-aa60-3229a77487f0",
    "scrolled": true,
    "tags": []
   },
   "outputs": [
    {
     "name": "stdout",
     "output_type": "stream",
     "text": [
      "16 files retrieved\n",
      "Examining file 0/16: dbc426a0-aafa-460b-a25a-a86bb31b9ddc\n"
     ]
    },
    {
     "name": "stderr",
     "output_type": "stream",
     "text": [
      "/opt/conda/lib/python3.10/site-packages/hdmf/spec/namespace.py:531: UserWarning: Ignoring cached namespace 'hdmf-common' version 1.5.0 because version 1.5.1 is already loaded.\n",
      "  warn(\"Ignoring cached namespace '%s' version %s because version %s is already loaded.\"\n",
      "/opt/conda/lib/python3.10/site-packages/hdmf/spec/namespace.py:531: UserWarning: Ignoring cached namespace 'core' version 2.4.0 because version 2.6.0-alpha is already loaded.\n",
      "  warn(\"Ignoring cached namespace '%s' version %s because version %s is already loaded.\"\n",
      "/opt/conda/lib/python3.10/site-packages/hdmf/spec/namespace.py:531: UserWarning: Ignoring cached namespace 'hdmf-experimental' version 0.1.0 because version 0.2.0 is already loaded.\n",
      "  warn(\"Ignoring cached namespace '%s' version %s because version %s is already loaded.\"\n"
     ]
    },
    {
     "name": "stdout",
     "output_type": "stream",
     "text": [
      "Examining file 1/16: 181b7651-5f5c-491b-be70-e5d0354439d4\n",
      "Examining file 2/16: 85bfd56c-f104-4c83-937c-be0d58fce48e\n",
      "Examining file 3/16: c5e97840-4988-4da8-9f57-a24fb0a4a865\n",
      "Examining file 4/16: a7ff352c-0b00-47d6-a49f-97027d18264e\n",
      "Examining file 5/16: a8bc8aaf-ccba-4c27-bb5c-f1bc3c232c84\n",
      "Examining file 6/16: 32af00b4-4aa6-48de-8210-26a5cf7935a9\n",
      "Examining file 7/16: 016e7321-807f-4b59-be42-c33511f8f55c\n",
      "Examining file 8/16: 7252ab67-7acd-4cb7-b7a6-600df600d8e7\n",
      "Examining file 9/16: 3c6a7667-5f5d-432f-829c-e915dab15c27\n",
      "Examining file 10/16: 9d0ed5c2-f9e4-4c5e-b5ab-cb4a9d4e7ef6\n",
      "Examining file 11/16: e0392a2a-0e07-4f7a-82dd-df354bf571d5\n",
      "Examining file 12/16: 03eba9bf-f850-41a5-9e99-6f65fc5ea13d\n",
      "Examining file 13/16: 0c343e3e-8f00-4ee8-9778-fc1d953e453b\n",
      "Examining file 14/16: 348b1e83-4fde-480a-9e4d-ef55b5cac7c5\n"
     ]
    },
    {
     "name": "stderr",
     "output_type": "stream",
     "text": [
      "/opt/conda/lib/python3.10/site-packages/hdmf/spec/namespace.py:531: UserWarning: Ignoring cached namespace 'core' version 2.5.0 because version 2.6.0-alpha is already loaded.\n",
      "  warn(\"Ignoring cached namespace '%s' version %s because version %s is already loaded.\"\n"
     ]
    },
    {
     "name": "stdout",
     "output_type": "stream",
     "text": [
      "Examining file 15/16: 46f9bf9b-f799-4af9-b7b8-d6ed95a5446d\n"
     ]
    },
    {
     "name": "stderr",
     "output_type": "stream",
     "text": [
      "/opt/conda/lib/python3.10/site-packages/hdmf/spec/namespace.py:531: UserWarning: Ignoring cached namespace 'hdmf-common' version 1.6.0 because version 1.5.1 is already loaded.\n",
      "  warn(\"Ignoring cached namespace '%s' version %s because version %s is already loaded.\"\n",
      "/opt/conda/lib/python3.10/site-packages/hdmf/spec/namespace.py:531: UserWarning: Ignoring cached namespace 'hdmf-experimental' version 0.3.0 because version 0.2.0 is already loaded.\n",
      "  warn(\"Ignoring cached namespace '%s' version %s because version %s is already loaded.\"\n"
     ]
    }
   ],
   "source": [
    "# set up streaming filesystem\n",
    "fs = fsspec.filesystem(\"http\")\n",
    "\n",
    "nwb_table = []\n",
    "# skip files that aren't main session files\n",
    "files = [asset for asset in my_dandiset.get_assets() if \"probe\" not in asset.path]\n",
    "# swap this with line above for one of our ophys dandisets\n",
    "# files = [asset for asset in my_dandiset.get_assets() if \"raw\" not in asset.path]\n",
    "n_files = len(files)\n",
    "print(f\"{n_files} files retrieved\")\n",
    "\n",
    "for i, file in enumerate(files):\n",
    "    print(f\"Examining file {i}/{n_files}: {file.identifier}\")    \n",
    "    # get basic file metadata\n",
    "    row = [file.identifier, file.size, file.path]\n",
    "    \n",
    "    base_url = file.client.session.head(file.base_download_url)\n",
    "    file_url = base_url.headers[\"Location\"]\n",
    "\n",
    "    # open and read nwb file with streaming\n",
    "    with fs.open(file_url, \"rb\") as f:\n",
    "        with h5py.File(f) as file:\n",
    "            with NWBHDF5IO(file=file, mode=\"r\", load_namespaces=True) as io:\n",
    "                nwb = io.read()\n",
    "                # extract experimental info from within file\n",
    "                row += get_nwb_info(nwb)\n",
    "                nwb_table.append(row)"
   ]
  },
  {
   "cell_type": "code",
   "execution_count": 8,
   "id": "0de97d1d",
   "metadata": {
    "colab": {
     "base_uri": "https://localhost:8080/",
     "height": 1000
    },
    "id": "0de97d1d",
    "outputId": "09dbafe7-af3e-48d9-9094-69da1818b6c7",
    "tags": [
     "output_scroll"
    ]
   },
   "outputs": [
    {
     "data": {
      "text/html": [
       "<div>\n",
       "<style scoped>\n",
       "    .dataframe tbody tr th:only-of-type {\n",
       "        vertical-align: middle;\n",
       "    }\n",
       "\n",
       "    .dataframe tbody tr th {\n",
       "        vertical-align: top;\n",
       "    }\n",
       "\n",
       "    .dataframe thead th {\n",
       "        text-align: right;\n",
       "    }\n",
       "</style>\n",
       "<table border=\"1\" class=\"dataframe\">\n",
       "  <thead>\n",
       "    <tr style=\"text-align: right;\">\n",
       "      <th></th>\n",
       "      <th>identifier</th>\n",
       "      <th>size</th>\n",
       "      <th>path</th>\n",
       "      <th>session time</th>\n",
       "      <th>sub name</th>\n",
       "      <th>sub sex</th>\n",
       "      <th>sub age</th>\n",
       "      <th>sub genotype</th>\n",
       "      <th>probes</th>\n",
       "      <th>stim types</th>\n",
       "      <th># units</th>\n",
       "      <th>session length</th>\n",
       "    </tr>\n",
       "  </thead>\n",
       "  <tbody>\n",
       "    <tr>\n",
       "      <th>0</th>\n",
       "      <td>dbc426a0-aafa-460b-a25a-a86bb31b9ddc</td>\n",
       "      <td>2242666496</td>\n",
       "      <td>sub_1175512783/sub_1175512783sess_1187930705/s...</td>\n",
       "      <td>2022-06-29 00:00:00-07:00</td>\n",
       "      <td>619296</td>\n",
       "      <td>M</td>\n",
       "      <td>154.0</td>\n",
       "      <td>Sst-IRES-Cre/wt;Ai32(RCL-ChR2(H134R)_EYFP)/wt</td>\n",
       "      <td>{probeF, probeB, probeD, probeA, probeC, probeE}</td>\n",
       "      <td>{RFCI_presentations, invalid_times, ICwcfg1_pr...</td>\n",
       "      <td>1918</td>\n",
       "      <td>7278.157990</td>\n",
       "    </tr>\n",
       "    <tr>\n",
       "      <th>1</th>\n",
       "      <td>181b7651-5f5c-491b-be70-e5d0354439d4</td>\n",
       "      <td>2803525629</td>\n",
       "      <td>sub_1172968426/sub_1172968426sess_1182865981/s...</td>\n",
       "      <td>2022-06-08 00:00:00-07:00</td>\n",
       "      <td>625545</td>\n",
       "      <td>M</td>\n",
       "      <td>89.0</td>\n",
       "      <td>Sst-IRES-Cre/wt;Ai32(RCL-ChR2(H134R)_EYFP)/wt</td>\n",
       "      <td>{probeF, probeB, probeD, probeA, probeC, probeE}</td>\n",
       "      <td>{RFCI_presentations, invalid_times, ICwcfg1_pr...</td>\n",
       "      <td>2793</td>\n",
       "      <td>7279.234305</td>\n",
       "    </tr>\n",
       "    <tr>\n",
       "      <th>2</th>\n",
       "      <td>85bfd56c-f104-4c83-937c-be0d58fce48e</td>\n",
       "      <td>2372313526</td>\n",
       "      <td>sub_1172969394/sub_1172969394sess_1183070926/s...</td>\n",
       "      <td>2022-06-09 00:00:00-07:00</td>\n",
       "      <td>625555</td>\n",
       "      <td>F</td>\n",
       "      <td>90.0</td>\n",
       "      <td>Pvalb-IRES-Cre/wt;Ai32(RCL-ChR2(H134R)_EYFP)/wt</td>\n",
       "      <td>{probeF, probeB, probeD, probeA, probeC, probeE}</td>\n",
       "      <td>{RFCI_presentations, invalid_times, ICwcfg1_pr...</td>\n",
       "      <td>2621</td>\n",
       "      <td>7278.592876</td>\n",
       "    </tr>\n",
       "    <tr>\n",
       "      <th>3</th>\n",
       "      <td>c5e97840-4988-4da8-9f57-a24fb0a4a865</td>\n",
       "      <td>2466318464</td>\n",
       "      <td>sub_1181585608/sub_1181585608sess_1194644312/s...</td>\n",
       "      <td>2022-07-27 00:00:00-07:00</td>\n",
       "      <td>630507</td>\n",
       "      <td>F</td>\n",
       "      <td>99.0</td>\n",
       "      <td>Sst-IRES-Cre/wt;Ai32(RCL-ChR2(H134R)_EYFP)/wt</td>\n",
       "      <td>{probeF, probeB, probeD, probeA, probeC, probeE}</td>\n",
       "      <td>{RFCI_presentations, invalid_times, ICwcfg1_pr...</td>\n",
       "      <td>2464</td>\n",
       "      <td>7278.964870</td>\n",
       "    </tr>\n",
       "    <tr>\n",
       "      <th>4</th>\n",
       "      <td>a7ff352c-0b00-47d6-a49f-97027d18264e</td>\n",
       "      <td>2809532134</td>\n",
       "      <td>sub_1176214862/sub_1176214862sess_1188137866/s...</td>\n",
       "      <td>2022-06-30 00:00:00-07:00</td>\n",
       "      <td>620333</td>\n",
       "      <td>M</td>\n",
       "      <td>148.0</td>\n",
       "      <td>Sst-IRES-Cre/wt;Ai32(RCL-ChR2(H134R)_EYFP)/wt</td>\n",
       "      <td>{probeF, probeB, probeD, probeA, probeC, probeE}</td>\n",
       "      <td>{RFCI_presentations, invalid_times, ICwcfg1_pr...</td>\n",
       "      <td>2593</td>\n",
       "      <td>7283.108060</td>\n",
       "    </tr>\n",
       "    <tr>\n",
       "      <th>5</th>\n",
       "      <td>a8bc8aaf-ccba-4c27-bb5c-f1bc3c232c84</td>\n",
       "      <td>3393216313</td>\n",
       "      <td>sub_1174569641/sub_1174569641sess_1184671550/s...</td>\n",
       "      <td>2022-06-01 00:00:00-07:00</td>\n",
       "      <td>625554</td>\n",
       "      <td>M</td>\n",
       "      <td>82.0</td>\n",
       "      <td>Pvalb-IRES-Cre/wt;Ai32(RCL-ChR2(H134R)_EYFP)/wt</td>\n",
       "      <td>{probeF, probeB, probeD, probeA, probeC, probeE}</td>\n",
       "      <td>{RFCI_presentations, invalid_times, ICwcfg1_pr...</td>\n",
       "      <td>2930</td>\n",
       "      <td>7315.456085</td>\n",
       "    </tr>\n",
       "    <tr>\n",
       "      <th>6</th>\n",
       "      <td>32af00b4-4aa6-48de-8210-26a5cf7935a9</td>\n",
       "      <td>3556822422</td>\n",
       "      <td>sub_1181314060/sub_1181314060sess_1191383105/s...</td>\n",
       "      <td>2022-07-13 00:00:00-07:00</td>\n",
       "      <td>630502</td>\n",
       "      <td>M</td>\n",
       "      <td>85.0</td>\n",
       "      <td>Sst-IRES-Cre/wt;Ai32(RCL-ChR2(H134R)_EYFP)/wt</td>\n",
       "      <td>{probeF, probeB, probeD, probeA, probeC, probeE}</td>\n",
       "      <td>{RFCI_presentations, invalid_times, ICwcfg1_pr...</td>\n",
       "      <td>2368</td>\n",
       "      <td>7277.548360</td>\n",
       "    </tr>\n",
       "    <tr>\n",
       "      <th>7</th>\n",
       "      <td>016e7321-807f-4b59-be42-c33511f8f55c</td>\n",
       "      <td>2491393884</td>\n",
       "      <td>sub_1177693342/sub_1177693342sess_1189887297/s...</td>\n",
       "      <td>2022-07-06 00:00:00-07:00</td>\n",
       "      <td>620334</td>\n",
       "      <td>M</td>\n",
       "      <td>154.0</td>\n",
       "      <td>Sst-IRES-Cre/wt;Ai32(RCL-ChR2(H134R)_EYFP)/wt</td>\n",
       "      <td>{probeF, probeB, probeD, probeA, probeC, probeE}</td>\n",
       "      <td>{RFCI_presentations, invalid_times, ICwcfg1_pr...</td>\n",
       "      <td>2092</td>\n",
       "      <td>7279.915735</td>\n",
       "    </tr>\n",
       "    <tr>\n",
       "      <th>8</th>\n",
       "      <td>7252ab67-7acd-4cb7-b7a6-600df600d8e7</td>\n",
       "      <td>3393216313</td>\n",
       "      <td>sub_1171903433/sub_1171903433sess_1181330601/s...</td>\n",
       "      <td>2022-06-01 00:00:00-07:00</td>\n",
       "      <td>625554</td>\n",
       "      <td>M</td>\n",
       "      <td>82.0</td>\n",
       "      <td>Pvalb-IRES-Cre/wt;Ai32(RCL-ChR2(H134R)_EYFP)/wt</td>\n",
       "      <td>{probeF, probeB, probeD, probeA, probeC, probeE}</td>\n",
       "      <td>{RFCI_presentations, invalid_times, ICwcfg1_pr...</td>\n",
       "      <td>2930</td>\n",
       "      <td>7315.456085</td>\n",
       "    </tr>\n",
       "    <tr>\n",
       "      <th>9</th>\n",
       "      <td>3c6a7667-5f5d-432f-829c-e915dab15c27</td>\n",
       "      <td>2483160990</td>\n",
       "      <td>sub_1182593231/sub_1182593231sess_1192952695/s...</td>\n",
       "      <td>2022-07-20 00:00:00-07:00</td>\n",
       "      <td>630506</td>\n",
       "      <td>F</td>\n",
       "      <td>92.0</td>\n",
       "      <td>Sst-IRES-Cre/wt;Ai32(RCL-ChR2(H134R)_EYFP)/wt</td>\n",
       "      <td>{probeF, probeB, probeD, probeA, probeC, probeE}</td>\n",
       "      <td>{RFCI_presentations, invalid_times, ICwcfg1_pr...</td>\n",
       "      <td>2517</td>\n",
       "      <td>7279.167735</td>\n",
       "    </tr>\n",
       "    <tr>\n",
       "      <th>10</th>\n",
       "      <td>9d0ed5c2-f9e4-4c5e-b5ab-cb4a9d4e7ef6</td>\n",
       "      <td>1882268693</td>\n",
       "      <td>sub_1183369803/sub_1183369803sess_1194857009/s...</td>\n",
       "      <td>2022-07-28 00:00:00-07:00</td>\n",
       "      <td>631570</td>\n",
       "      <td>F</td>\n",
       "      <td>92.0</td>\n",
       "      <td>Pvalb-IRES-Cre/wt;Ai32(RCL-ChR2(H134R)_EYFP)/wt</td>\n",
       "      <td>{probeF, probeB, probeD, probeA, probeC, probeE}</td>\n",
       "      <td>{RFCI_presentations, invalid_times, ICwcfg1_pr...</td>\n",
       "      <td>1789</td>\n",
       "      <td>7278.942950</td>\n",
       "    </tr>\n",
       "    <tr>\n",
       "      <th>11</th>\n",
       "      <td>e0392a2a-0e07-4f7a-82dd-df354bf571d5</td>\n",
       "      <td>3082458652</td>\n",
       "      <td>sub_1189891322/sub_1189891322sess_1199247593/s...</td>\n",
       "      <td>2022-08-17 00:00:00-07:00</td>\n",
       "      <td>633229</td>\n",
       "      <td>F</td>\n",
       "      <td>101.0</td>\n",
       "      <td>Sst-IRES-Cre/wt;Ai32(RCL-ChR2(H134R)_EYFP)/wt</td>\n",
       "      <td>{probeF, probeB, probeD, probeA, probeC, probeE}</td>\n",
       "      <td>{RFCI_presentations, invalid_times, ICwcfg1_pr...</td>\n",
       "      <td>3026</td>\n",
       "      <td>7279.608875</td>\n",
       "    </tr>\n",
       "    <tr>\n",
       "      <th>12</th>\n",
       "      <td>03eba9bf-f850-41a5-9e99-6f65fc5ea13d</td>\n",
       "      <td>2653385824</td>\n",
       "      <td>sub_1194090570/sub_1194090570sess_1208667752/s...</td>\n",
       "      <td>2022-09-08 00:00:00-07:00</td>\n",
       "      <td>637484</td>\n",
       "      <td>M</td>\n",
       "      <td>92.0</td>\n",
       "      <td>Sst-IRES-Cre/wt;Ai32(RCL-ChR2(H134R)_EYFP)/wt</td>\n",
       "      <td>{probeF, probeB, probeD, probeA, probeC, probeE}</td>\n",
       "      <td>{RFCI_presentations, invalid_times, ICwcfg1_pr...</td>\n",
       "      <td>2373</td>\n",
       "      <td>7349.272460</td>\n",
       "    </tr>\n",
       "    <tr>\n",
       "      <th>13</th>\n",
       "      <td>0c343e3e-8f00-4ee8-9778-fc1d953e453b</td>\n",
       "      <td>2547345912</td>\n",
       "      <td>sub_1186544726/sub_1186544726sess_119615797/su...</td>\n",
       "      <td>2022-08-03 00:00:00-07:00</td>\n",
       "      <td>631510</td>\n",
       "      <td>F</td>\n",
       "      <td>99.0</td>\n",
       "      <td>Sst-IRES-Cre/wt;Ai32(RCL-ChR2(H134R)_EYFP)/wt</td>\n",
       "      <td>{probeF, probeB, probeD, probeA, probeC, probeE}</td>\n",
       "      <td>{RFCI_presentations, invalid_times, ICwcfg1_pr...</td>\n",
       "      <td>2386</td>\n",
       "      <td>7339.232324</td>\n",
       "    </tr>\n",
       "    <tr>\n",
       "      <th>14</th>\n",
       "      <td>348b1e83-4fde-480a-9e4d-ef55b5cac7c5</td>\n",
       "      <td>20274810263</td>\n",
       "      <td>sub-1181585601/sub-1181585601_ses-1194644312_i...</td>\n",
       "      <td>2022-07-27 00:00:00-07:00</td>\n",
       "      <td>external: 630507 donor_id: 1181585601 specimen...</td>\n",
       "      <td>F</td>\n",
       "      <td>99.0</td>\n",
       "      <td>Sst-IRES-Cre/wt;Ai32(RCL-ChR2(H134R)_EYFP)/wt</td>\n",
       "      <td>{OptogeneticStimulusDevice, probeF, probeB, pr...</td>\n",
       "      <td>{RFCI_presentations, invalid_times, ICwcfg1_pr...</td>\n",
       "      <td>2464</td>\n",
       "      <td>7278.964870</td>\n",
       "    </tr>\n",
       "    <tr>\n",
       "      <th>15</th>\n",
       "      <td>46f9bf9b-f799-4af9-b7b8-d6ed95a5446d</td>\n",
       "      <td>2571025511</td>\n",
       "      <td>sub-1181585601/sub-1181585601_ses-1194644312_o...</td>\n",
       "      <td>2022-07-27 00:00:00-07:00</td>\n",
       "      <td>external: 630507 donor_id: 1181585601 specimen...</td>\n",
       "      <td>F</td>\n",
       "      <td>99.0</td>\n",
       "      <td>Sst-IRES-Cre/wt;Ai32(RCL-ChR2(H134R)_EYFP)/wt</td>\n",
       "      <td>{OptogeneticStimulusDevice, probeF, probeB, pr...</td>\n",
       "      <td>{RFCI_presentations, invalid_times, ICwcfg1_pr...</td>\n",
       "      <td>2464</td>\n",
       "      <td>7278.964870</td>\n",
       "    </tr>\n",
       "  </tbody>\n",
       "</table>\n",
       "</div>"
      ],
      "text/plain": [
       "                              identifier         size  \\\n",
       "0   dbc426a0-aafa-460b-a25a-a86bb31b9ddc   2242666496   \n",
       "1   181b7651-5f5c-491b-be70-e5d0354439d4   2803525629   \n",
       "2   85bfd56c-f104-4c83-937c-be0d58fce48e   2372313526   \n",
       "3   c5e97840-4988-4da8-9f57-a24fb0a4a865   2466318464   \n",
       "4   a7ff352c-0b00-47d6-a49f-97027d18264e   2809532134   \n",
       "5   a8bc8aaf-ccba-4c27-bb5c-f1bc3c232c84   3393216313   \n",
       "6   32af00b4-4aa6-48de-8210-26a5cf7935a9   3556822422   \n",
       "7   016e7321-807f-4b59-be42-c33511f8f55c   2491393884   \n",
       "8   7252ab67-7acd-4cb7-b7a6-600df600d8e7   3393216313   \n",
       "9   3c6a7667-5f5d-432f-829c-e915dab15c27   2483160990   \n",
       "10  9d0ed5c2-f9e4-4c5e-b5ab-cb4a9d4e7ef6   1882268693   \n",
       "11  e0392a2a-0e07-4f7a-82dd-df354bf571d5   3082458652   \n",
       "12  03eba9bf-f850-41a5-9e99-6f65fc5ea13d   2653385824   \n",
       "13  0c343e3e-8f00-4ee8-9778-fc1d953e453b   2547345912   \n",
       "14  348b1e83-4fde-480a-9e4d-ef55b5cac7c5  20274810263   \n",
       "15  46f9bf9b-f799-4af9-b7b8-d6ed95a5446d   2571025511   \n",
       "\n",
       "                                                 path  \\\n",
       "0   sub_1175512783/sub_1175512783sess_1187930705/s...   \n",
       "1   sub_1172968426/sub_1172968426sess_1182865981/s...   \n",
       "2   sub_1172969394/sub_1172969394sess_1183070926/s...   \n",
       "3   sub_1181585608/sub_1181585608sess_1194644312/s...   \n",
       "4   sub_1176214862/sub_1176214862sess_1188137866/s...   \n",
       "5   sub_1174569641/sub_1174569641sess_1184671550/s...   \n",
       "6   sub_1181314060/sub_1181314060sess_1191383105/s...   \n",
       "7   sub_1177693342/sub_1177693342sess_1189887297/s...   \n",
       "8   sub_1171903433/sub_1171903433sess_1181330601/s...   \n",
       "9   sub_1182593231/sub_1182593231sess_1192952695/s...   \n",
       "10  sub_1183369803/sub_1183369803sess_1194857009/s...   \n",
       "11  sub_1189891322/sub_1189891322sess_1199247593/s...   \n",
       "12  sub_1194090570/sub_1194090570sess_1208667752/s...   \n",
       "13  sub_1186544726/sub_1186544726sess_119615797/su...   \n",
       "14  sub-1181585601/sub-1181585601_ses-1194644312_i...   \n",
       "15  sub-1181585601/sub-1181585601_ses-1194644312_o...   \n",
       "\n",
       "                session time  \\\n",
       "0  2022-06-29 00:00:00-07:00   \n",
       "1  2022-06-08 00:00:00-07:00   \n",
       "2  2022-06-09 00:00:00-07:00   \n",
       "3  2022-07-27 00:00:00-07:00   \n",
       "4  2022-06-30 00:00:00-07:00   \n",
       "5  2022-06-01 00:00:00-07:00   \n",
       "6  2022-07-13 00:00:00-07:00   \n",
       "7  2022-07-06 00:00:00-07:00   \n",
       "8  2022-06-01 00:00:00-07:00   \n",
       "9  2022-07-20 00:00:00-07:00   \n",
       "10 2022-07-28 00:00:00-07:00   \n",
       "11 2022-08-17 00:00:00-07:00   \n",
       "12 2022-09-08 00:00:00-07:00   \n",
       "13 2022-08-03 00:00:00-07:00   \n",
       "14 2022-07-27 00:00:00-07:00   \n",
       "15 2022-07-27 00:00:00-07:00   \n",
       "\n",
       "                                             sub name sub sex  sub age  \\\n",
       "0                                              619296       M    154.0   \n",
       "1                                              625545       M     89.0   \n",
       "2                                              625555       F     90.0   \n",
       "3                                              630507       F     99.0   \n",
       "4                                              620333       M    148.0   \n",
       "5                                              625554       M     82.0   \n",
       "6                                              630502       M     85.0   \n",
       "7                                              620334       M    154.0   \n",
       "8                                              625554       M     82.0   \n",
       "9                                              630506       F     92.0   \n",
       "10                                             631570       F     92.0   \n",
       "11                                             633229       F    101.0   \n",
       "12                                             637484       M     92.0   \n",
       "13                                             631510       F     99.0   \n",
       "14  external: 630507 donor_id: 1181585601 specimen...       F     99.0   \n",
       "15  external: 630507 donor_id: 1181585601 specimen...       F     99.0   \n",
       "\n",
       "                                       sub genotype  \\\n",
       "0     Sst-IRES-Cre/wt;Ai32(RCL-ChR2(H134R)_EYFP)/wt   \n",
       "1     Sst-IRES-Cre/wt;Ai32(RCL-ChR2(H134R)_EYFP)/wt   \n",
       "2   Pvalb-IRES-Cre/wt;Ai32(RCL-ChR2(H134R)_EYFP)/wt   \n",
       "3     Sst-IRES-Cre/wt;Ai32(RCL-ChR2(H134R)_EYFP)/wt   \n",
       "4     Sst-IRES-Cre/wt;Ai32(RCL-ChR2(H134R)_EYFP)/wt   \n",
       "5   Pvalb-IRES-Cre/wt;Ai32(RCL-ChR2(H134R)_EYFP)/wt   \n",
       "6     Sst-IRES-Cre/wt;Ai32(RCL-ChR2(H134R)_EYFP)/wt   \n",
       "7     Sst-IRES-Cre/wt;Ai32(RCL-ChR2(H134R)_EYFP)/wt   \n",
       "8   Pvalb-IRES-Cre/wt;Ai32(RCL-ChR2(H134R)_EYFP)/wt   \n",
       "9     Sst-IRES-Cre/wt;Ai32(RCL-ChR2(H134R)_EYFP)/wt   \n",
       "10  Pvalb-IRES-Cre/wt;Ai32(RCL-ChR2(H134R)_EYFP)/wt   \n",
       "11    Sst-IRES-Cre/wt;Ai32(RCL-ChR2(H134R)_EYFP)/wt   \n",
       "12    Sst-IRES-Cre/wt;Ai32(RCL-ChR2(H134R)_EYFP)/wt   \n",
       "13    Sst-IRES-Cre/wt;Ai32(RCL-ChR2(H134R)_EYFP)/wt   \n",
       "14    Sst-IRES-Cre/wt;Ai32(RCL-ChR2(H134R)_EYFP)/wt   \n",
       "15    Sst-IRES-Cre/wt;Ai32(RCL-ChR2(H134R)_EYFP)/wt   \n",
       "\n",
       "                                               probes  \\\n",
       "0    {probeF, probeB, probeD, probeA, probeC, probeE}   \n",
       "1    {probeF, probeB, probeD, probeA, probeC, probeE}   \n",
       "2    {probeF, probeB, probeD, probeA, probeC, probeE}   \n",
       "3    {probeF, probeB, probeD, probeA, probeC, probeE}   \n",
       "4    {probeF, probeB, probeD, probeA, probeC, probeE}   \n",
       "5    {probeF, probeB, probeD, probeA, probeC, probeE}   \n",
       "6    {probeF, probeB, probeD, probeA, probeC, probeE}   \n",
       "7    {probeF, probeB, probeD, probeA, probeC, probeE}   \n",
       "8    {probeF, probeB, probeD, probeA, probeC, probeE}   \n",
       "9    {probeF, probeB, probeD, probeA, probeC, probeE}   \n",
       "10   {probeF, probeB, probeD, probeA, probeC, probeE}   \n",
       "11   {probeF, probeB, probeD, probeA, probeC, probeE}   \n",
       "12   {probeF, probeB, probeD, probeA, probeC, probeE}   \n",
       "13   {probeF, probeB, probeD, probeA, probeC, probeE}   \n",
       "14  {OptogeneticStimulusDevice, probeF, probeB, pr...   \n",
       "15  {OptogeneticStimulusDevice, probeF, probeB, pr...   \n",
       "\n",
       "                                           stim types  # units  session length  \n",
       "0   {RFCI_presentations, invalid_times, ICwcfg1_pr...     1918     7278.157990  \n",
       "1   {RFCI_presentations, invalid_times, ICwcfg1_pr...     2793     7279.234305  \n",
       "2   {RFCI_presentations, invalid_times, ICwcfg1_pr...     2621     7278.592876  \n",
       "3   {RFCI_presentations, invalid_times, ICwcfg1_pr...     2464     7278.964870  \n",
       "4   {RFCI_presentations, invalid_times, ICwcfg1_pr...     2593     7283.108060  \n",
       "5   {RFCI_presentations, invalid_times, ICwcfg1_pr...     2930     7315.456085  \n",
       "6   {RFCI_presentations, invalid_times, ICwcfg1_pr...     2368     7277.548360  \n",
       "7   {RFCI_presentations, invalid_times, ICwcfg1_pr...     2092     7279.915735  \n",
       "8   {RFCI_presentations, invalid_times, ICwcfg1_pr...     2930     7315.456085  \n",
       "9   {RFCI_presentations, invalid_times, ICwcfg1_pr...     2517     7279.167735  \n",
       "10  {RFCI_presentations, invalid_times, ICwcfg1_pr...     1789     7278.942950  \n",
       "11  {RFCI_presentations, invalid_times, ICwcfg1_pr...     3026     7279.608875  \n",
       "12  {RFCI_presentations, invalid_times, ICwcfg1_pr...     2373     7349.272460  \n",
       "13  {RFCI_presentations, invalid_times, ICwcfg1_pr...     2386     7339.232324  \n",
       "14  {RFCI_presentations, invalid_times, ICwcfg1_pr...     2464     7278.964870  \n",
       "15  {RFCI_presentations, invalid_times, ICwcfg1_pr...     2464     7278.964870  "
      ]
     },
     "execution_count": 8,
     "metadata": {},
     "output_type": "execute_result"
    }
   ],
   "source": [
    "# convert table to pandas dataframe\n",
    "sessions = pd.DataFrame(nwb_table, columns=(\"identifier\", \"size\", \"path\", \"session time\", \"sub name\", \"sub sex\", \"sub age\", \"sub genotype\", \"probes\", \"stim types\", \"# units\", \"session length\"))\n",
    "# swap this with line above for one of our ophys dandisets\n",
    "# sessions = pd.DataFrame(nwb_table, columns=(\"identifier\", \"size\", \"path\", \"session time\", \"session id\", \"experiment id\", \"container id\", \"group\", \"group count\", \"imaging depth\", \"location\", \"fov height\", \"fov width\", \"specimen name\", \"sex\", \"age\", \"genotype\", \"stim types\", \"# rois\", \"session end\"))\n",
    "sessions"
   ]
  },
  {
   "cell_type": "code",
   "execution_count": 9,
   "id": "af5257a8-ddfc-4cf4-b6b3-b8765bd05409",
   "metadata": {
    "tags": []
   },
   "outputs": [],
   "source": [
    "# output all session metadata to local CSV file\n",
    "sessions.to_csv(\"sessions.csv\")"
   ]
  },
  {
   "attachments": {},
   "cell_type": "markdown",
   "id": "45883f51",
   "metadata": {
    "id": "45883f51"
   },
   "source": [
    "### Selecting Files\n",
    "**Pandas** syntax can be used to filter the table above and select individual sessions."
   ]
  },
  {
   "cell_type": "code",
   "execution_count": 10,
   "id": "db02b77e",
   "metadata": {
    "colab": {
     "base_uri": "https://localhost:8080/",
     "height": 347
    },
    "id": "db02b77e",
    "outputId": "9b292cd9-dafd-4c9c-f78d-83e17d0689da"
   },
   "outputs": [
    {
     "data": {
      "text/html": [
       "<div>\n",
       "<style scoped>\n",
       "    .dataframe tbody tr th:only-of-type {\n",
       "        vertical-align: middle;\n",
       "    }\n",
       "\n",
       "    .dataframe tbody tr th {\n",
       "        vertical-align: top;\n",
       "    }\n",
       "\n",
       "    .dataframe thead th {\n",
       "        text-align: right;\n",
       "    }\n",
       "</style>\n",
       "<table border=\"1\" class=\"dataframe\">\n",
       "  <thead>\n",
       "    <tr style=\"text-align: right;\">\n",
       "      <th></th>\n",
       "      <th>identifier</th>\n",
       "      <th>size</th>\n",
       "      <th>path</th>\n",
       "      <th>session time</th>\n",
       "      <th>sub name</th>\n",
       "      <th>sub sex</th>\n",
       "      <th>sub age</th>\n",
       "      <th>sub genotype</th>\n",
       "      <th>probes</th>\n",
       "      <th>stim types</th>\n",
       "      <th># units</th>\n",
       "      <th>session length</th>\n",
       "    </tr>\n",
       "  </thead>\n",
       "  <tbody>\n",
       "    <tr>\n",
       "      <th>0</th>\n",
       "      <td>dbc426a0-aafa-460b-a25a-a86bb31b9ddc</td>\n",
       "      <td>2242666496</td>\n",
       "      <td>sub_1175512783/sub_1175512783sess_1187930705/s...</td>\n",
       "      <td>2022-06-29 00:00:00-07:00</td>\n",
       "      <td>619296</td>\n",
       "      <td>M</td>\n",
       "      <td>154.0</td>\n",
       "      <td>Sst-IRES-Cre/wt;Ai32(RCL-ChR2(H134R)_EYFP)/wt</td>\n",
       "      <td>{probeF, probeB, probeD, probeA, probeC, probeE}</td>\n",
       "      <td>{RFCI_presentations, invalid_times, ICwcfg1_pr...</td>\n",
       "      <td>1918</td>\n",
       "      <td>7278.15799</td>\n",
       "    </tr>\n",
       "    <tr>\n",
       "      <th>10</th>\n",
       "      <td>9d0ed5c2-f9e4-4c5e-b5ab-cb4a9d4e7ef6</td>\n",
       "      <td>1882268693</td>\n",
       "      <td>sub_1183369803/sub_1183369803sess_1194857009/s...</td>\n",
       "      <td>2022-07-28 00:00:00-07:00</td>\n",
       "      <td>631570</td>\n",
       "      <td>F</td>\n",
       "      <td>92.0</td>\n",
       "      <td>Pvalb-IRES-Cre/wt;Ai32(RCL-ChR2(H134R)_EYFP)/wt</td>\n",
       "      <td>{probeF, probeB, probeD, probeA, probeC, probeE}</td>\n",
       "      <td>{RFCI_presentations, invalid_times, ICwcfg1_pr...</td>\n",
       "      <td>1789</td>\n",
       "      <td>7278.94295</td>\n",
       "    </tr>\n",
       "  </tbody>\n",
       "</table>\n",
       "</div>"
      ],
      "text/plain": [
       "                              identifier        size  \\\n",
       "0   dbc426a0-aafa-460b-a25a-a86bb31b9ddc  2242666496   \n",
       "10  9d0ed5c2-f9e4-4c5e-b5ab-cb4a9d4e7ef6  1882268693   \n",
       "\n",
       "                                                 path  \\\n",
       "0   sub_1175512783/sub_1175512783sess_1187930705/s...   \n",
       "10  sub_1183369803/sub_1183369803sess_1194857009/s...   \n",
       "\n",
       "                session time sub name sub sex  sub age  \\\n",
       "0  2022-06-29 00:00:00-07:00   619296       M    154.0   \n",
       "10 2022-07-28 00:00:00-07:00   631570       F     92.0   \n",
       "\n",
       "                                       sub genotype  \\\n",
       "0     Sst-IRES-Cre/wt;Ai32(RCL-ChR2(H134R)_EYFP)/wt   \n",
       "10  Pvalb-IRES-Cre/wt;Ai32(RCL-ChR2(H134R)_EYFP)/wt   \n",
       "\n",
       "                                              probes  \\\n",
       "0   {probeF, probeB, probeD, probeA, probeC, probeE}   \n",
       "10  {probeF, probeB, probeD, probeA, probeC, probeE}   \n",
       "\n",
       "                                           stim types  # units  session length  \n",
       "0   {RFCI_presentations, invalid_times, ICwcfg1_pr...     1918      7278.15799  \n",
       "10  {RFCI_presentations, invalid_times, ICwcfg1_pr...     1789      7278.94295  "
      ]
     },
     "execution_count": 10,
     "metadata": {},
     "output_type": "execute_result"
    }
   ],
   "source": [
    "selected_sessions = sessions[sessions[\"size\"] <= 2_300_000_000]\n",
    "# selected_sessions = sessions[sessions[\"sub sex\"] == \"F\"]\n",
    "# selected_sessions = sessions[sessions[\"# units\"] > 2900]\n",
    "selected_sessions"
   ]
  },
  {
   "attachments": {},
   "cell_type": "markdown",
   "id": "ff4d5e44",
   "metadata": {
    "id": "ff4d5e44"
   },
   "source": [
    "### Downloading Selected Files\n",
    "To download the files, we use the same method that is explained in [Downloading an NWB File](./download_nwb.ipynb). This can be used with the paths from the selected sessions above to just download the files of interest.  Set `download_loc` to be the relative path of where the files should be downloaded. Note that if the files are large, this can take a long time."
   ]
  },
  {
   "cell_type": "code",
   "execution_count": 11,
   "id": "18780a0b",
   "metadata": {
    "id": "18780a0b"
   },
   "outputs": [],
   "source": [
    "download_loc = \".\""
   ]
  },
  {
   "cell_type": "code",
   "execution_count": 12,
   "id": "9757fbaa",
   "metadata": {
    "colab": {
     "base_uri": "https://localhost:8080/"
    },
    "id": "9757fbaa",
    "outputId": "659f4fac-f9ec-4a84-8687-740fc66400b7"
   },
   "outputs": [
    {
     "data": {
      "text/plain": [
       "{'sub_1175512783/sub_1175512783sess_1187930705/sub_1175512783+sess_1187930705_ecephys.nwb',\n",
       " 'sub_1183369803/sub_1183369803sess_1194857009/sub_1183369803+sess_1194857009_ecephys.nwb'}"
      ]
     },
     "execution_count": 12,
     "metadata": {},
     "output_type": "execute_result"
    }
   ],
   "source": [
    "selected_paths = set(selected_sessions.path)\n",
    "selected_paths"
   ]
  },
  {
   "cell_type": "code",
   "execution_count": 13,
   "id": "9502306f",
   "metadata": {
    "colab": {
     "base_uri": "https://localhost:8080/"
    },
    "id": "9502306f",
    "outputId": "5982baae-7a2f-4192-b3be-b03773298220",
    "tags": []
   },
   "outputs": [
    {
     "name": "stdout",
     "output_type": "stream",
     "text": [
      "Downloaded file to ./sub_1175512783+sess_1187930705_ecephys.nwb\n",
      "Downloaded file to ./sub_1183369803+sess_1194857009_ecephys.nwb\n"
     ]
    }
   ],
   "source": [
    "for dandi_filepath in selected_paths:\n",
    "    filename = dandi_filepath.split(\"/\")[-1]\n",
    "    file = my_dandiset.get_asset_by_path(dandi_filepath)\n",
    "    file.download(f\"{download_loc}/{filename}\")\n",
    "    print(f\"Downloaded file to {download_loc}/{filename}\")"
   ]
  }
 ],
 "metadata": {
  "colab": {
   "provenance": []
  },
  "kernelspec": {
   "display_name": "Python 3 (ipykernel)",
   "language": "python",
   "name": "python3"
  },
  "language_info": {
   "codemirror_mode": {
    "name": "ipython",
    "version": 3
   },
   "file_extension": ".py",
   "mimetype": "text/x-python",
   "name": "python",
   "nbconvert_exporter": "python",
   "pygments_lexer": "ipython3",
   "version": "3.10.9"
  }
 },
 "nbformat": 4,
 "nbformat_minor": 5
}
