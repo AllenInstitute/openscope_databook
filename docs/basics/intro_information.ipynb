{
 "cells": [
  {
   "attachments": {},
   "cell_type": "markdown",
   "metadata": {},
   "source": [
    "# Preliminary Knowledge"
   ]
  },
  {
   "attachments": {},
   "cell_type": "markdown",
   "metadata": {},
   "source": [
    "### DANDI\n",
    "Throughout these notebooks, we utilize a platform called [DANDI](https://dandiarchive.org/) (Data Archive and Neurophysiology Imaging). DANDI is a platform that allows open-source data sharing and archiving add acts as a centralized repository where research can deposit data. While we have provided some pre-loaded data from DANDI in the notebooks, the purpose of this databooks is to take any dataset off DANDI and reproduce the analysis within these notebooks. You should familiarize youself with DANDI before running through the notebooks, and explore how Dandisets are organized on the website. \n",
    "\n",
    "One step that may be confusing when running through the notebooks for the first time is finding a filepath for a certain file within a Dandiset. These are the steps for accessing a filepath you can try out yourself: \n",
    "1) Click [here](https://dandiarchive.org/dandiset/000535?search=allen%20institute%202%20photon&pos=2) to access a Dandiset uploaded by researchers at the Allen Institute. \n",
    "2) On the right side of the page, click the \"files\" tab.\n",
    "3) You will now see a list of folders. Click on any folder. \n",
    "4) Once you have entered the folder, you will see a list of files with 4 blue buttons to the right of each file name. Select any file you would like and click the \"i\" icon in the blue circle. \n",
    "5) This will pull up a new tab with a bunch of red code. At the top of the code, you will see `\"id\" :`, `\"path\" :`, and `\"access\":`. Copy the code to the right of `\"path\" :`. It will look like this `\"sub-460654/sub-460654_ses-20190611T181840_behavior+ophys.nwb\"`. This is the filepath you will insert in various notebooks when it asks for `dandi_filepath`. \n"
   ]
  },
  {
   "attachments": {},
   "cell_type": "markdown",
   "metadata": {},
   "source": [
    "### NWB FILES\n",
    "NWB (Neurodata Without Borders) files utilize a standardized format for storing and sharing neurophysiology data. Their purpose is to address the need for a universal data format that makes analysis accessible across different experimental techniques. NWB files contain raw data, processed data, analysis results, and metadata all organized in a uniform manner across different research projects. It would be useful to understand the format of these files before running through the notebooks because we will be accessing many different modules within various files to retreive data. Click [here](https://nwb-schema.readthedocs.io/en/latest/) to explore NWB format specification."
   ]
  },
  {
   "attachments": {},
   "cell_type": "markdown",
   "metadata": {},
   "source": [
    "### Understanding Data Colletion Techniques\n",
    "In this databook, we will be analyzing data from two different types of experimental techniques: optical imagine (ophys) and extracellular electrophysiology (ecephys). To truly grasp what is happening during the analysis process, you should familiarize youself with these experimental modalities. \n",
    "\n",
    "Resouces for ophys:\n",
    "1) [this paper](https://www.pnas.org/doi/epdf/10.1073/pnas.1232232100) will provide an introduction to two-photon calcium imaging. \n",
    "\n",
    "Resources for ecephys:\n",
    "1) [this paper](https://www.nature.com/articles/s41586-020-03171-x) from the Allen Institute will provide an introduction to ecephys and the use of neuropixel probes. \n",
    "2) [here](https://portal.brain-map.org/explore/circuits/visual-coding-neuropixels) is a visualization of the neuropixel probes that may come in handy when trying to visualualize how the data is collected from the probe itself."
   ]
  }
 ],
 "metadata": {
  "language_info": {
   "name": "python"
  },
  "orig_nbformat": 4
 },
 "nbformat": 4,
 "nbformat_minor": 2
}
