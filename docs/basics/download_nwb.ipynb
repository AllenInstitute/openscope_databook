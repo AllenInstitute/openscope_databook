{
 "cells": [
  {
   "attachments": {},
   "cell_type": "markdown",
   "id": "92b86eca",
   "metadata": {},
   "source": [
    "# Downloading an NWB File\n",
    "In order to analyze some data, you'll need to have some data. The [DANDI Archive](https://dandiarchive.org/) is used to store [NWB](https://www.nwb.org/) files in datasets called **dandisets**. Typically an NWB file contains the data for just one experimental session, while a dandiset contains all the related data files yielded from a project. This notebook allows you to download from public dandisets or private dandisets (called **embargoed** dandisets) via the [DANDI Python API](https://dandi.readthedocs.io/en/latest/modref/index.html). To download embargoed dandisets from DANDI, you will need to make an account on the DANDI Archive and must be given access by the owner of the dandiset."
   ]
  },
  {
   "attachments": {},
   "cell_type": "markdown",
   "id": "9bd33e5f",
   "metadata": {},
   "source": [
    "### Environment Setup"
   ]
  },
  {
   "cell_type": "code",
   "execution_count": 1,
   "id": "014235db",
   "metadata": {},
   "outputs": [],
   "source": [
    "### if running on Google Colab, run this cell once, then restart the runtime and run the rest of the notebook\n",
    "import os\n",
    "if \"COLAB_GPU\" in os.environ:\n",
    "    !git clone https://github.com/AllenInstitute/openscope_databook.git\n",
    "    %cd openscope_databook\n",
    "    %pip install -e ."
   ]
  },
  {
   "cell_type": "code",
   "execution_count": 2,
   "id": "8f34eecf",
   "metadata": {},
   "outputs": [],
   "source": [
    "from dandi import dandiapi"
   ]
  },
  {
   "attachments": {},
   "cell_type": "markdown",
   "id": "ae798e1c",
   "metadata": {},
   "source": [
    "### Download Configuration\n",
    "Here you can configure the download. Browse the DANDI Archive for a dandiset you're interested in and use its ID in `dandiset_id`. Also set `download_loc` to the relative filepath of the directory you'd like to download to. If you're accessing an embargoed dandiset, you should set `authenticate` to True, and set `dandi_api_key` to your DANDI API Key, which can be found if you click on your profile icon in the top-right corner on the DANDI Archive website."
   ]
  },
  {
   "cell_type": "code",
   "execution_count": 3,
   "id": "67536d37",
   "metadata": {},
   "outputs": [],
   "source": [
    "dandiset_id = \"000021\"\n",
    "download_loc = \".\"\n",
    "authenticate = False\n",
    "dandi_api_key = \"\""
   ]
  },
  {
   "cell_type": "code",
   "execution_count": 4,
   "id": "a309c067",
   "metadata": {},
   "outputs": [
    {
     "name": "stdout",
     "output_type": "stream",
     "text": [
      "Got dandiset DANDI:000021/draft\n"
     ]
    }
   ],
   "source": [
    "if authenticate:\n",
    "    client = dandiapi.DandiAPIClient(token=dandi_api_key)\n",
    "else:\n",
    "    client = dandiapi.DandiAPIClient()\n",
    "my_dandiset = client.get_dandiset(dandiset_id)\n",
    "\n",
    "print(f\"Got dandiset {my_dandiset}\")"
   ]
  },
  {
   "attachments": {},
   "cell_type": "markdown",
   "id": "420ef8ac",
   "metadata": {},
   "source": [
    "### Downloading Just One File\n",
    "Set `dandi_filepath` to the path of the file you want to download within the dandiset. You can get this by navigating to the file you want to download on the DANDI Archive website and pressing on the `i` icon. There, you can copy the filepath from the field labeled `path`. Don't include a leading `/`."
   ]
  },
  {
   "cell_type": "code",
   "execution_count": 5,
   "id": "fe9aa40c",
   "metadata": {},
   "outputs": [],
   "source": [
    "dandi_filepath = \"sub-699733573/sub-699733573_ses-715093703.nwb\""
   ]
  },
  {
   "cell_type": "code",
   "execution_count": 6,
   "id": "c176c129",
   "metadata": {},
   "outputs": [],
   "source": [
    "filename = dandi_filepath.split(\"/\")[-1]\n",
    "filepath = f\"{download_loc}/{filename}\""
   ]
  },
  {
   "cell_type": "code",
   "execution_count": 7,
   "id": "a110beeb",
   "metadata": {},
   "outputs": [
    {
     "name": "stdout",
     "output_type": "stream",
     "text": [
      "Downloaded file to ./sub-699733573_ses-715093703.nwb\n"
     ]
    }
   ],
   "source": [
    "file = my_dandiset.get_asset_by_path(dandi_filepath)\n",
    "# this may take awhile, especially if the file to download is large\n",
    "file.download(filepath)\n",
    "\n",
    "print(f\"Downloaded file to {filepath}\")"
   ]
  },
  {
   "attachments": {},
   "cell_type": "markdown",
   "id": "7a85a038",
   "metadata": {},
   "source": [
    "### Downloading Entire Dandiset\n",
    "If you'd like to do a lot of work with the files in a dandiset, you might want to download the entire thing or some portion of the dandiset. Be prepared, though; This could take a significant amount of space on your drive and a significant amount of time. If you want to just download all the files within a directory of the dandiset, you can set the first argument of `download_directory` below to a more specific path within the dandiset."
   ]
  },
  {
   "cell_type": "code",
   "execution_count": 8,
   "id": "1c42049e",
   "metadata": {},
   "outputs": [
    {
     "name": "stdout",
     "output_type": "stream",
     "text": [
      "Downloaded directory to ./000021\n"
     ]
    }
   ],
   "source": [
    "# patience isn't just a virtue, it's a requirement\n",
    "my_dandiset.download_directory(\"./\", f\"{download_loc}/{dandiset_id}\")\n",
    "\n",
    "print(f\"Downloaded directory to {download_loc}/{dandiset_id}\")"
   ]
  }
 ],
 "metadata": {
  "kernelspec": {
   "display_name": "Python 3 (ipykernel)",
   "language": "python",
   "name": "python3"
  },
  "language_info": {
   "codemirror_mode": {
    "name": "ipython",
    "version": 3
   },
   "file_extension": ".py",
   "mimetype": "text/x-python",
   "name": "python",
   "nbconvert_exporter": "python",
   "pygments_lexer": "ipython3",
   "version": "3.9.10"
  }
 },
 "nbformat": 4,
 "nbformat_minor": 5
}
