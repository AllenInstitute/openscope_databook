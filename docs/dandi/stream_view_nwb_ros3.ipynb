{
 "cells": [
  {
   "cell_type": "markdown",
   "id": "cebc1994",
   "metadata": {},
   "source": [
    "# Stream and View an NWB File with ros3"
   ]
  },
  {
   "cell_type": "markdown",
   "id": "e54a7fde",
   "metadata": {},
   "source": [
    "### Environment Setup"
   ]
  },
  {
   "cell_type": "code",
   "execution_count": null,
   "id": "bea09743",
   "metadata": {},
   "outputs": [],
   "source": [
    "!pip show h5py"
   ]
  },
  {
   "cell_type": "code",
   "execution_count": null,
   "id": "a7be77ce",
   "metadata": {},
   "outputs": [],
   "source": [
    "from pynwb import NWBHDF5IO"
   ]
  },
  {
   "cell_type": "code",
   "execution_count": null,
   "id": "00134bf4",
   "metadata": {
    "scrolled": true
   },
   "outputs": [],
   "source": [
    "!pip install dandi\n",
    "!pip install fsspec requests aiohttp\n",
    "!pip install nwbwidgets"
   ]
  },
  {
   "cell_type": "markdown",
   "id": "5731bf71",
   "metadata": {},
   "source": [
    "### Download files\n",
    "Run these cells for each dandiset and filepath you want to download.\n",
    "No need to run these if the file you're interested in is already downloaded."
   ]
  },
  {
   "cell_type": "code",
   "execution_count": null,
   "id": "f3f97f13",
   "metadata": {},
   "outputs": [],
   "source": [
    "### download configuration\n",
    "\n",
    "dandiset_id = \"000004\"\n",
    "# file path within dandiset (don't include leading '/')\n",
    "filepath = \"sub-P10HMH/sub-P10HMH_ses-20060901_ecephys+image.nwb\"\n",
    "\n",
    "# if you want to access an embargoed dandiset, you must set 'authenticate' to True and provide a dandi api key\n",
    "# your dandi api key can be found on dandi, if you press your profile icon in the top-right corner\n",
    "authenticate = False\n",
    "dandi_api_key = \"c3ccc16df82a86fd8c25a6b233bfd27d9da3f2b4\"\n"
   ]
  },
  {
   "cell_type": "code",
   "execution_count": null,
   "id": "a51caf90",
   "metadata": {},
   "outputs": [],
   "source": [
    "from dandi import dandiapi\n",
    "import dandi\n",
    "\n",
    "if authenticate:\n",
    "    client = dandiapi.DandiAPIClient(token=dandi_api_key)\n",
    "else:\n",
    "    client = dandiapi.DandiAPIClient()\n",
    "    \n",
    "my_dandiset = client.get_dandiset(dandiset_id)\n"
   ]
  },
  {
   "cell_type": "code",
   "execution_count": null,
   "id": "d131ad56",
   "metadata": {},
   "outputs": [],
   "source": [
    "file = my_dandiset.get_asset_by_path(filepath)\n",
    "file_url = file.get_content_url(follow_redirects=1, strip_query=True)"
   ]
  },
  {
   "cell_type": "markdown",
   "id": "3df13a24",
   "metadata": {},
   "source": [
    "### Display nwb file\n",
    "Choose the nwb file you want to view and display it here!"
   ]
  },
  {
   "cell_type": "code",
   "execution_count": null,
   "id": "d15db3bb",
   "metadata": {
    "scrolled": true
   },
   "outputs": [],
   "source": [
    "from pynwb import NWBHDF5IO\n",
    "\n",
    "with NWBHDF5IO(file_url, mode='r', load_namespaces=True, driver='ros3') as io:\n",
    "    nwb = io.read()"
   ]
  },
  {
   "cell_type": "code",
   "execution_count": null,
   "id": "91031da2",
   "metadata": {},
   "outputs": [],
   "source": [
    "### uncomment these to view aspects of the file\n",
    "### note that not all these properties exist for all nwb files\n",
    "print(nwb.electrodes)\n",
    "# nwb.identifier\n",
    "# nwb.processing\n",
    "# nwb.acquisition[\"events\"]\n",
    "# nwb.intervals[\"trials\"]\n",
    "# nwb.stimulus[\"StimulusPresentation\"]\n",
    "# nwb.electrodes"
   ]
  },
  {
   "cell_type": "code",
   "execution_count": null,
   "id": "3e06b964",
   "metadata": {},
   "outputs": [],
   "source": [
    "nwb"
   ]
  },
  {
   "cell_type": "code",
   "execution_count": null,
   "id": "7803813e",
   "metadata": {},
   "outputs": [],
   "source": []
  }
 ],
 "metadata": {
  "kernelspec": {
   "display_name": "Python 3 (ipykernel)",
   "language": "python",
   "name": "python3"
  },
  "language_info": {
   "codemirror_mode": {
    "name": "ipython",
    "version": 3
   },
   "file_extension": ".py",
   "mimetype": "text/x-python",
   "name": "python",
   "nbconvert_exporter": "python",
   "pygments_lexer": "ipython3",
   "version": "3.9.10"
  }
 },
 "nbformat": 4,
 "nbformat_minor": 5
}
