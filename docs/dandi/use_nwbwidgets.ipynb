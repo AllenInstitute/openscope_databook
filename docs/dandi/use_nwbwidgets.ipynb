{
 "cells": [
  {
   "cell_type": "markdown",
   "id": "e24d7599",
   "metadata": {},
   "source": [
    "# View an NWB File\n",
    "After downloading an NWB file, you *may* want to view the data inside. A great way to do this in a Jupyter notebook is with [NWBWidgets](https://github.com/NeurodataWithoutBorders/nwbwidgets). Here, you can use NWBWidgets to view a file from a location on your machine. If you don't want to download a file just to view it, you can still use NWBWidgets to view it remotely. Check out *stream_view_nwb.ipynb* to learn how to do this."
   ]
  },
  {
   "cell_type": "markdown",
   "id": "e54a7fde",
   "metadata": {},
   "source": [
    "### Environment Setup"
   ]
  },
  {
   "cell_type": "code",
   "execution_count": null,
   "id": "00134bf4",
   "metadata": {},
   "outputs": [],
   "source": [
    "!pip install dandi\n",
    "!pip install nwbwidgets"
   ]
  },
  {
   "cell_type": "code",
   "execution_count": 1,
   "id": "24009707",
   "metadata": {},
   "outputs": [],
   "source": [
    "from pynwb import NWBHDF5IO\n",
    "from nwbwidgets import nwb2widget"
   ]
  },
  {
   "cell_type": "markdown",
   "id": "3df13a24",
   "metadata": {},
   "source": [
    "### Display NWB file\n",
    "Choose the NWB file you want to view and display it here! Set `nwb_filepath` to the relative filepath of the nwb file you want to view."
   ]
  },
  {
   "cell_type": "code",
   "execution_count": 2,
   "id": "4081b9fa",
   "metadata": {},
   "outputs": [],
   "source": [
    "nwb_filepath = \"../../data/example.nwb\""
   ]
  },
  {
   "cell_type": "code",
   "execution_count": null,
   "id": "0691fffc",
   "metadata": {
    "scrolled": false
   },
   "outputs": [],
   "source": [
    "io = NWBHDF5IO(nwb_filepath, mode=\"r\", load_namespaces=True)\n",
    "nwb = io.read()"
   ]
  },
  {
   "cell_type": "code",
   "execution_count": null,
   "id": "65addc38",
   "metadata": {},
   "outputs": [],
   "source": [
    "nwb2widget(nwb)"
   ]
  }
 ],
 "metadata": {
  "kernelspec": {
   "display_name": "Python 3 (ipykernel)",
   "language": "python",
   "name": "python3"
  },
  "language_info": {
   "codemirror_mode": {
    "name": "ipython",
    "version": 3
   },
   "file_extension": ".py",
   "mimetype": "text/x-python",
   "name": "python",
   "nbconvert_exporter": "python",
   "pygments_lexer": "ipython3",
   "version": "3.9.10"
  }
 },
 "nbformat": 4,
 "nbformat_minor": 5
}
