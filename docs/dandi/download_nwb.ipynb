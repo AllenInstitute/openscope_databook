{
 "cells": [
  {
   "cell_type": "markdown",
   "id": "92b86eca",
   "metadata": {},
   "source": [
    "# Download an NWB File"
   ]
  },
  {
   "cell_type": "markdown",
   "id": "9bd33e5f",
   "metadata": {},
   "source": [
    "### Environment Setup"
   ]
  },
  {
   "cell_type": "code",
   "execution_count": null,
   "id": "cd640cb4",
   "metadata": {},
   "outputs": [],
   "source": [
    "!pip install dandi"
   ]
  },
  {
   "cell_type": "markdown",
   "id": "ae798e1c",
   "metadata": {},
   "source": [
    "### Download Configuration"
   ]
  },
  {
   "cell_type": "code",
   "execution_count": null,
   "id": "67536d37",
   "metadata": {},
   "outputs": [],
   "source": [
    "### download configuration\n",
    "\n",
    "dandiset_id = \"000004\"\n",
    "# where to download to locally\n",
    "data_loc = \"../../data\"\n",
    "\n",
    "# if you want to access an embargoed dandiset, you must set 'authenticate' to True and provide a dandi api key\n",
    "# your dandi api key can be found on dandi, if you press your profile icon in the top-right corner\n",
    "authenticate = False\n",
    "dandi_api_key = \"your_api_key_here\""
   ]
  },
  {
   "cell_type": "code",
   "execution_count": null,
   "id": "a309c067",
   "metadata": {},
   "outputs": [],
   "source": [
    "from dandi import dandiapi\n",
    "\n",
    "if authenticate:\n",
    "    client = dandiapi.DandiAPIClient(token=dandi_api_key)\n",
    "else:\n",
    "    client = dandiapi.DandiAPIClient()\n",
    "my_dandiset = client.get_dandiset(dandiset_id)"
   ]
  },
  {
   "cell_type": "markdown",
   "id": "7a85a038",
   "metadata": {},
   "source": [
    "### Download Entire Dandiset\n"
   ]
  },
  {
   "cell_type": "code",
   "execution_count": null,
   "id": "1c42049e",
   "metadata": {},
   "outputs": [],
   "source": [
    "my_dandiset.download_directory(\"./\", f\"{data_loc}/{dandiset_id}\")"
   ]
  },
  {
   "cell_type": "markdown",
   "id": "420ef8ac",
   "metadata": {},
   "source": [
    "### Download Just One File"
   ]
  },
  {
   "cell_type": "code",
   "execution_count": null,
   "id": "fe9aa40c",
   "metadata": {},
   "outputs": [],
   "source": [
    "# file path within dandiset (don't include leading '/')\n",
    "filepath = \"sub-P10HMH/sub-P10HMH_ses-20060901_ecephys+image.nwb\""
   ]
  },
  {
   "cell_type": "code",
   "execution_count": null,
   "id": "a110beeb",
   "metadata": {},
   "outputs": [],
   "source": [
    "file = my_dandiset.get_asset_by_path(filepath)\n",
    "filename = filepath.split(\"/\")[-1]\n",
    "# this may take awhile, especially if the file to download is large\n",
    "file.download(f\"{data_loc}/{filename}\")"
   ]
  }
 ],
 "metadata": {
  "kernelspec": {
   "display_name": "Python 3 (ipykernel)",
   "language": "python",
   "name": "python3"
  },
  "language_info": {
   "codemirror_mode": {
    "name": "ipython",
    "version": 3
   },
   "file_extension": ".py",
   "mimetype": "text/x-python",
   "name": "python",
   "nbconvert_exporter": "python",
   "pygments_lexer": "ipython3",
   "version": "3.9.13"
  }
 },
 "nbformat": 4,
 "nbformat_minor": 5
}
