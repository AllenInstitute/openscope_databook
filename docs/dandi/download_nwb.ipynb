{
 "cells": [
  {
   "cell_type": "markdown",
   "id": "92b86eca",
   "metadata": {},
   "source": [
    "# Download an NWB File\n",
    "In order to analyze some data, you'll need to have some data. The [DANDI Archive](https://dandiarchive.org/) is used to store NWB files in datasets called **dandisets**. Typically, an NWB file contains the data for just one experimental session, while a dandiset contains all the related data files yielded from a project. This notebook allows you to download from public dandisets or private dandisets (called **embargoed** dandisets) via the [DANDI Python API](https://dandi.readthedocs.io/en/latest/modref/index.html). To download embargoed dandisets from DANDI, you will need to make an account on the DANDI Archive and must be given access by the owner of the dandiset."
   ]
  },
  {
   "cell_type": "markdown",
   "id": "9bd33e5f",
   "metadata": {},
   "source": [
    "### Environment Setup"
   ]
  },
  {
   "cell_type": "code",
   "execution_count": 1,
   "id": "cd640cb4",
   "metadata": {},
   "outputs": [
    {
     "name": "stdout",
     "output_type": "stream",
     "text": [
      "Requirement already satisfied: dandi in c:\\users\\carter.peene\\appdata\\local\\programs\\python\\python39\\lib\\site-packages (0.46.3)\n",
      "Requirement already satisfied: dandischema~=0.7.0 in c:\\users\\carter.peene\\appdata\\local\\programs\\python\\python39\\lib\\site-packages (from dandi) (0.7.1)\n",
      "Requirement already satisfied: pycryptodomex in c:\\users\\carter.peene\\appdata\\local\\programs\\python\\python39\\lib\\site-packages (from dandi) (3.15.0)\n",
      "Requirement already satisfied: appdirs in c:\\users\\carter.peene\\appdata\\local\\programs\\python\\python39\\lib\\site-packages (from dandi) (1.4.4)\n",
      "Requirement already satisfied: fscacher in c:\\users\\carter.peene\\appdata\\local\\programs\\python\\python39\\lib\\site-packages (from dandi) (0.2.0)\n",
      "Requirement already satisfied: keyring!=23.9.0 in c:\\users\\carter.peene\\appdata\\local\\programs\\python\\python39\\lib\\site-packages (from dandi) (23.9.3)\n",
      "Requirement already satisfied: fasteners in c:\\users\\carter.peene\\appdata\\local\\programs\\python\\python39\\lib\\site-packages (from dandi) (0.18)\n",
      "Requirement already satisfied: pyout!=0.6.0,>=0.5 in c:\\users\\carter.peene\\appdata\\local\\programs\\python\\python39\\lib\\site-packages (from dandi) (0.7.2)\n",
      "Requirement already satisfied: joblib in c:\\users\\carter.peene\\appdata\\local\\programs\\python\\python39\\lib\\site-packages (from dandi) (1.2.0)\n",
      "Requirement already satisfied: zarr~=2.10 in c:\\users\\carter.peene\\appdata\\local\\programs\\python\\python39\\lib\\site-packages (from dandi) (2.13.0)\n",
      "Requirement already satisfied: nwbinspector>=0.4.12 in c:\\users\\carter.peene\\appdata\\local\\programs\\python\\python39\\lib\\site-packages (from dandi) (0.4.13)\n",
      "Requirement already satisfied: humanize in c:\\users\\carter.peene\\appdata\\local\\programs\\python\\python39\\lib\\site-packages (from dandi) (4.4.0)\n",
      "Requirement already satisfied: click-didyoumean in c:\\users\\carter.peene\\appdata\\local\\programs\\python\\python39\\lib\\site-packages (from dandi) (0.3.0)\n",
      "Requirement already satisfied: tenacity in c:\\users\\carter.peene\\appdata\\local\\programs\\python\\python39\\lib\\site-packages (from dandi) (8.1.0)\n",
      "Requirement already satisfied: etelemetry>=0.2.2 in c:\\users\\carter.peene\\appdata\\local\\programs\\python\\python39\\lib\\site-packages (from dandi) (0.3.0)\n",
      "Requirement already satisfied: pynwb!=1.1.0,>=1.0.3 in c:\\users\\carter.peene\\appdata\\local\\programs\\python\\python39\\lib\\site-packages (from dandi) (2.1.0)\n",
      "Requirement already satisfied: click in c:\\users\\carter.peene\\appdata\\local\\programs\\python\\python39\\lib\\site-packages (from dandi) (8.1.3)\n",
      "Requirement already satisfied: requests~=2.20 in c:\\users\\carter.peene\\appdata\\local\\programs\\python\\python39\\lib\\site-packages (from dandi) (2.28.1)\n",
      "Requirement already satisfied: packaging in c:\\users\\carter.peene\\appdata\\local\\programs\\python\\python39\\lib\\site-packages (from dandi) (21.3)\n",
      "Requirement already satisfied: semantic-version in c:\\users\\carter.peene\\appdata\\local\\programs\\python\\python39\\lib\\site-packages (from dandi) (2.10.0)\n",
      "Requirement already satisfied: keyrings.alt in c:\\users\\carter.peene\\appdata\\local\\programs\\python\\python39\\lib\\site-packages (from dandi) (4.2.0)\n",
      "Requirement already satisfied: python-dateutil in c:\\users\\carter.peene\\appdata\\local\\programs\\python\\python39\\lib\\site-packages (from dandi) (2.8.2)\n",
      "Requirement already satisfied: ruamel.yaml<1,>=0.15 in c:\\users\\carter.peene\\appdata\\local\\programs\\python\\python39\\lib\\site-packages (from dandi) (0.17.21)\n",
      "Requirement already satisfied: pydantic>=1.9.0 in c:\\users\\carter.peene\\appdata\\local\\programs\\python\\python39\\lib\\site-packages (from dandi) (1.10.2)\n",
      "Requirement already satisfied: interleave~=0.1 in c:\\users\\carter.peene\\appdata\\local\\programs\\python\\python39\\lib\\site-packages (from dandi) (0.2.1)\n",
      "Requirement already satisfied: bidsschematools in c:\\users\\carter.peene\\appdata\\local\\programs\\python\\python39\\lib\\site-packages (from dandi) (0.5.1)\n",
      "Requirement already satisfied: jsonschema[format] in c:\\users\\carter.peene\\appdata\\local\\programs\\python\\python39\\lib\\site-packages (from dandischema~=0.7.0->dandi) (3.2.0)\n",
      "Requirement already satisfied: ci-info>=0.2 in c:\\users\\carter.peene\\appdata\\local\\programs\\python\\python39\\lib\\site-packages (from etelemetry>=0.2.2->dandi) (0.3.0)\n",
      "Requirement already satisfied: jaraco.classes in c:\\users\\carter.peene\\appdata\\local\\programs\\python\\python39\\lib\\site-packages (from keyring!=23.9.0->dandi) (3.2.2)\n",
      "Requirement already satisfied: pywin32-ctypes!=0.1.0,!=0.1.1 in c:\\users\\carter.peene\\appdata\\local\\programs\\python\\python39\\lib\\site-packages (from keyring!=23.9.0->dandi) (0.2.0)\n",
      "Requirement already satisfied: importlib-metadata>=3.6 in c:\\users\\carter.peene\\appdata\\local\\programs\\python\\python39\\lib\\site-packages (from keyring!=23.9.0->dandi) (4.12.0)\n",
      "Requirement already satisfied: numpy<1.23.0,>=1.20.0 in c:\\users\\carter.peene\\appdata\\local\\programs\\python\\python39\\lib\\site-packages (from nwbinspector>=0.4.12->dandi) (1.21.5)\n",
      "Requirement already satisfied: tqdm in c:\\users\\carter.peene\\appdata\\local\\programs\\python\\python39\\lib\\site-packages (from nwbinspector>=0.4.12->dandi) (4.64.1)\n",
      "Requirement already satisfied: PyYAML in c:\\users\\carter.peene\\appdata\\local\\programs\\python\\python39\\lib\\site-packages (from nwbinspector>=0.4.12->dandi) (6.0)\n",
      "Requirement already satisfied: natsort in c:\\users\\carter.peene\\appdata\\local\\programs\\python\\python39\\lib\\site-packages (from nwbinspector>=0.4.12->dandi) (8.2.0)\n",
      "Requirement already satisfied: typing-extensions>=4.1.0 in c:\\users\\carter.peene\\appdata\\local\\programs\\python\\python39\\lib\\site-packages (from pydantic>=1.9.0->dandi) (4.3.0)\n",
      "Requirement already satisfied: hdmf<4,>=3.3.2 in c:\\users\\carter.peene\\appdata\\local\\programs\\python\\python39\\lib\\site-packages (from pynwb!=1.1.0,>=1.0.3->dandi) (3.4.2)\n",
      "Requirement already satisfied: pandas<2,>=1.0.5 in c:\\users\\carter.peene\\appdata\\local\\programs\\python\\python39\\lib\\site-packages (from pynwb!=1.1.0,>=1.0.3->dandi) (1.3.5)\n",
      "Requirement already satisfied: h5py<4,>=2.10 in c:\\users\\carter.peene\\appdata\\local\\programs\\python\\python39\\lib\\site-packages (from pynwb!=1.1.0,>=1.0.3->dandi) (3.7.0)\n",
      "Requirement already satisfied: setuptools in c:\\users\\carter.peene\\appdata\\local\\programs\\python\\python39\\lib\\site-packages (from pynwb!=1.1.0,>=1.0.3->dandi) (63.4.1)\n",
      "Requirement already satisfied: six>=1.5 in c:\\users\\carter.peene\\appdata\\local\\programs\\python\\python39\\lib\\site-packages (from python-dateutil->dandi) (1.16.0)\n",
      "Requirement already satisfied: certifi>=2017.4.17 in c:\\users\\carter.peene\\appdata\\local\\programs\\python\\python39\\lib\\site-packages (from requests~=2.20->dandi) (2022.9.14)\n",
      "Requirement already satisfied: charset-normalizer<3,>=2 in c:\\users\\carter.peene\\appdata\\local\\programs\\python\\python39\\lib\\site-packages (from requests~=2.20->dandi) (2.1.1)\n",
      "Requirement already satisfied: idna<4,>=2.5 in c:\\users\\carter.peene\\appdata\\local\\programs\\python\\python39\\lib\\site-packages (from requests~=2.20->dandi) (3.4)\n",
      "Requirement already satisfied: urllib3<1.27,>=1.21.1 in c:\\users\\carter.peene\\appdata\\local\\programs\\python\\python39\\lib\\site-packages (from requests~=2.20->dandi) (1.26.12)\n",
      "Requirement already satisfied: ruamel.yaml.clib>=0.2.6 in c:\\users\\carter.peene\\appdata\\local\\programs\\python\\python39\\lib\\site-packages (from ruamel.yaml<1,>=0.15->dandi) (0.2.6)\n",
      "Requirement already satisfied: asciitree in c:\\users\\carter.peene\\appdata\\local\\programs\\python\\python39\\lib\\site-packages (from zarr~=2.10->dandi) (0.3.3)\n",
      "Requirement already satisfied: numcodecs>=0.10.0 in c:\\users\\carter.peene\\appdata\\local\\programs\\python\\python39\\lib\\site-packages (from zarr~=2.10->dandi) (0.10.2)\n",
      "Requirement already satisfied: colorama in c:\\users\\carter.peene\\appdata\\local\\programs\\python\\python39\\lib\\site-packages (from click->dandi) (0.4.5)\n",
      "Requirement already satisfied: pyparsing!=3.0.5,>=2.0.2 in c:\\users\\carter.peene\\appdata\\local\\programs\\python\\python39\\lib\\site-packages (from packaging->dandi) (3.0.9)\n",
      "Requirement already satisfied: scipy<2,>=1.1 in c:\\users\\carter.peene\\appdata\\local\\programs\\python\\python39\\lib\\site-packages (from hdmf<4,>=3.3.2->pynwb!=1.1.0,>=1.0.3->dandi) (1.9.1)\n",
      "Requirement already satisfied: zipp>=0.5 in c:\\users\\carter.peene\\appdata\\local\\programs\\python\\python39\\lib\\site-packages (from importlib-metadata>=3.6->keyring!=23.9.0->dandi) (3.8.1)\n",
      "Requirement already satisfied: attrs>=17.4.0 in c:\\users\\carter.peene\\appdata\\local\\programs\\python\\python39\\lib\\site-packages (from jsonschema[format]->dandischema~=0.7.0->dandi) (21.4.0)\n",
      "Requirement already satisfied: pyrsistent>=0.14.0 in c:\\users\\carter.peene\\appdata\\local\\programs\\python\\python39\\lib\\site-packages (from jsonschema[format]->dandischema~=0.7.0->dandi) (0.18.1)\n",
      "Requirement already satisfied: entrypoints in c:\\users\\carter.peene\\appdata\\local\\programs\\python\\python39\\lib\\site-packages (from numcodecs>=0.10.0->zarr~=2.10->dandi) (0.4)\n",
      "Requirement already satisfied: pytz>=2017.3 in c:\\users\\carter.peene\\appdata\\local\\programs\\python\\python39\\lib\\site-packages (from pandas<2,>=1.0.5->pynwb!=1.1.0,>=1.0.3->dandi) (2022.2.1)\n",
      "Requirement already satisfied: email-validator>=1.0.3 in c:\\users\\carter.peene\\appdata\\local\\programs\\python\\python39\\lib\\site-packages (from pydantic>=1.9.0->dandi) (1.3.0)\n",
      "Requirement already satisfied: more-itertools in c:\\users\\carter.peene\\appdata\\local\\programs\\python\\python39\\lib\\site-packages (from jaraco.classes->keyring!=23.9.0->dandi) (8.14.0)\n",
      "Requirement already satisfied: webcolors in c:\\users\\carter.peene\\appdata\\local\\programs\\python\\python39\\lib\\site-packages (from jsonschema[format]->dandischema~=0.7.0->dandi) (1.12)\n",
      "Requirement already satisfied: rfc3987 in c:\\users\\carter.peene\\appdata\\local\\programs\\python\\python39\\lib\\site-packages (from jsonschema[format]->dandischema~=0.7.0->dandi) (1.3.8)\n",
      "Requirement already satisfied: jsonpointer>1.13 in c:\\users\\carter.peene\\appdata\\local\\programs\\python\\python39\\lib\\site-packages (from jsonschema[format]->dandischema~=0.7.0->dandi) (2.3)\n",
      "Requirement already satisfied: strict-rfc3339 in c:\\users\\carter.peene\\appdata\\local\\programs\\python\\python39\\lib\\site-packages (from jsonschema[format]->dandischema~=0.7.0->dandi) (0.7)\n",
      "Requirement already satisfied: dnspython>=1.15.0 in c:\\users\\carter.peene\\appdata\\local\\programs\\python\\python39\\lib\\site-packages (from email-validator>=1.0.3->pydantic>=1.9.0->dandi) (2.2.1)\n"
     ]
    }
   ],
   "source": [
    "!pip install dandi"
   ]
  },
  {
   "cell_type": "code",
   "execution_count": 2,
   "id": "8f34eecf",
   "metadata": {},
   "outputs": [],
   "source": [
    "from dandi import dandiapi"
   ]
  },
  {
   "cell_type": "markdown",
   "id": "ae798e1c",
   "metadata": {},
   "source": [
    "### Download Configuration\n",
    "Here you can configure the download. Browse the DANDI Archive for a Dandiset you're interested in and use its ID in `dandiset_id`. Also set `data_loc` to the relative filepath of the directory you'd like to download to. If you're accessing an embargoed dandiset, you should set `authenticate` to True, and set `dandi_api_key` to your DANDI API Key, which can be found if you click on your profile icon in the top-right corner on the DANDI Archive website."
   ]
  },
  {
   "cell_type": "code",
   "execution_count": 3,
   "id": "67536d37",
   "metadata": {},
   "outputs": [],
   "source": [
    "dandiset_id = \"000021\"\n",
    "data_loc = \"../../data\"\n",
    "authenticate = False\n",
    "dandi_api_key = \"your_api_key_here\""
   ]
  },
  {
   "cell_type": "code",
   "execution_count": 4,
   "id": "a309c067",
   "metadata": {},
   "outputs": [
    {
     "name": "stderr",
     "output_type": "stream",
     "text": [
      "A newer version (0.46.5) of dandi/dandi-cli is available. You are using 0.46.3\n"
     ]
    }
   ],
   "source": [
    "if authenticate:\n",
    "    client = dandiapi.DandiAPIClient(token=dandi_api_key)\n",
    "else:\n",
    "    client = dandiapi.DandiAPIClient()\n",
    "my_dandiset = client.get_dandiset(dandiset_id)"
   ]
  },
  {
   "cell_type": "markdown",
   "id": "420ef8ac",
   "metadata": {},
   "source": [
    "### Download Just One File\n",
    "Set `filepath` to the path of the file you want to download within the dandiset. You can get this by navigating to the file you want to download on the DANDI Archive website and pressing on the `i` icon. There, you can copy the filepath from the field labeled `path`. Don't include a leading `/`."
   ]
  },
  {
   "cell_type": "code",
   "execution_count": 5,
   "id": "fe9aa40c",
   "metadata": {},
   "outputs": [],
   "source": [
    "filepath = \"sub-699733573/sub-699733573_ses-715093703.nwb\""
   ]
  },
  {
   "cell_type": "code",
   "execution_count": null,
   "id": "a110beeb",
   "metadata": {},
   "outputs": [],
   "source": [
    "file = my_dandiset.get_asset_by_path(filepath)\n",
    "filename = filepath.split(\"/\")[-1]\n",
    "# this may take awhile, especially if the file to download is large\n",
    "file.download(f\"{data_loc}/{filename}\")"
   ]
  },
  {
   "cell_type": "markdown",
   "id": "7a85a038",
   "metadata": {},
   "source": [
    "### Download Entire Dandiset\n",
    "If you'd like to do a lot of work with the files in a dandiset, you might want to download the entire thing or some portion of the dandiset. Be prepared, though; This could take a significant amount of space on your drive and a significant amount of time. If you want to just download all the files within a directory of the dandiset, you can set the first argument of `download_directory` below to a more specific path within the dandiset."
   ]
  },
  {
   "cell_type": "code",
   "execution_count": null,
   "id": "1c42049e",
   "metadata": {},
   "outputs": [],
   "source": [
    "# patience isn't just a virtue, it's a requirement\n",
    "my_dandiset.download_directory(\"./\", f\"{data_loc}/{dandiset_id}\")"
   ]
  }
 ],
 "metadata": {
  "kernelspec": {
   "display_name": "Python 3 (ipykernel)",
   "language": "python",
   "name": "python3"
  },
  "language_info": {
   "codemirror_mode": {
    "name": "ipython",
    "version": 3
   },
   "file_extension": ".py",
   "mimetype": "text/x-python",
   "name": "python",
   "nbconvert_exporter": "python",
   "pygments_lexer": "ipython3",
   "version": "3.9.10"
  }
 },
 "nbformat": 4,
 "nbformat_minor": 5
}
