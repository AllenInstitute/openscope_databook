{
 "cells": [
  {
   "cell_type": "markdown",
   "id": "92b86eca",
   "metadata": {},
   "source": [
    "# Download an NWB File"
   ]
  },
  {
   "cell_type": "markdown",
   "id": "9bd33e5f",
   "metadata": {},
   "source": [
    "### Environment Setup"
   ]
  },
  {
   "cell_type": "code",
   "execution_count": 2,
   "id": "cd640cb4",
   "metadata": {},
   "outputs": [
    {
     "name": "stdout",
     "output_type": "stream",
     "text": [
      "Collecting dandi\n",
      "  Using cached dandi-0.46.4-py3-none-any.whl (216 kB)\n",
      "Collecting appdirs\n",
      "  Using cached appdirs-1.4.4-py2.py3-none-any.whl (9.6 kB)\n",
      "Requirement already satisfied: requests~=2.20 in c:\\users\\carter.peene\\miniconda3\\envs\\databook\\lib\\site-packages (from dandi) (2.28.1)\n",
      "Collecting etelemetry>=0.2.2\n",
      "  Using cached etelemetry-0.3.0-py3-none-any.whl (6.3 kB)\n",
      "Requirement already satisfied: packaging in c:\\users\\carter.peene\\miniconda3\\envs\\databook\\lib\\site-packages (from dandi) (21.3)\n",
      "Collecting pydantic>=1.9.0\n",
      "  Using cached pydantic-1.10.2-cp39-cp39-win_amd64.whl (2.1 MB)\n",
      "Collecting pynwb!=1.1.0,>=1.0.3\n",
      "  Using cached pynwb-2.1.0-py2.py3-none-any.whl (118 kB)\n",
      "Collecting fscacher\n",
      "  Using cached fscacher-0.2.0-py3-none-any.whl (11 kB)\n",
      "Collecting ruamel.yaml<1,>=0.15\n",
      "  Using cached ruamel.yaml-0.17.21-py3-none-any.whl (109 kB)\n",
      "Collecting interleave~=0.1\n",
      "  Using cached interleave-0.2.1-py3-none-any.whl (11 kB)\n",
      "Collecting keyring!=23.9.0\n",
      "  Using cached keyring-23.9.3-py3-none-any.whl (35 kB)\n",
      "Collecting humanize\n",
      "  Using cached humanize-4.4.0-py3-none-any.whl (106 kB)\n",
      "Collecting pyout!=0.6.0,>=0.5\n",
      "  Using cached pyout-0.7.2-py3-none-any.whl (51 kB)\n",
      "Requirement already satisfied: python-dateutil in c:\\users\\carter.peene\\miniconda3\\envs\\databook\\lib\\site-packages (from dandi) (2.8.2)\n",
      "Collecting zarr~=2.10\n",
      "  Downloading zarr-2.13.3-py3-none-any.whl (191 kB)\n",
      "     -------------------------------------- 191.1/191.1 kB 1.4 MB/s eta 0:00:00\n",
      "Collecting joblib\n",
      "  Using cached joblib-1.2.0-py3-none-any.whl (297 kB)\n",
      "Collecting dandischema~=0.7.0\n",
      "  Using cached dandischema-0.7.1-py3-none-any.whl (63 kB)\n",
      "Collecting fasteners\n",
      "  Using cached fasteners-0.18-py3-none-any.whl (18 kB)\n",
      "Collecting semantic-version\n",
      "  Using cached semantic_version-2.10.0-py2.py3-none-any.whl (15 kB)\n",
      "Collecting click-didyoumean\n",
      "  Using cached click_didyoumean-0.3.0-py3-none-any.whl (2.7 kB)\n",
      "Collecting tenacity\n",
      "  Using cached tenacity-8.1.0-py3-none-any.whl (23 kB)\n",
      "Collecting bidsschematools\n",
      "  Using cached bidsschematools-0.5.1-py3-none-any.whl (1.3 MB)\n",
      "Collecting keyrings.alt\n",
      "  Using cached keyrings.alt-4.2.0-py3-none-any.whl (20 kB)\n",
      "Requirement already satisfied: click in c:\\users\\carter.peene\\miniconda3\\envs\\databook\\lib\\site-packages (from dandi) (8.1.3)\n",
      "Collecting nwbinspector>=0.4.12\n",
      "  Using cached nwbinspector-0.4.14-py3-none-any.whl (38 kB)\n",
      "Collecting pycryptodomex\n",
      "  Using cached pycryptodomex-3.15.0-cp35-abi3-win_amd64.whl (1.9 MB)\n",
      "Requirement already satisfied: jsonschema[format] in c:\\users\\carter.peene\\miniconda3\\envs\\databook\\lib\\site-packages (from dandischema~=0.7.0->dandi) (3.2.0)\n",
      "Collecting ci-info>=0.2\n",
      "  Using cached ci_info-0.3.0-py3-none-any.whl (7.8 kB)\n",
      "Collecting jaraco.classes\n",
      "  Using cached jaraco.classes-3.2.3-py3-none-any.whl (6.0 kB)\n",
      "Collecting pywin32-ctypes!=0.1.0,!=0.1.1\n",
      "  Using cached pywin32_ctypes-0.2.0-py2.py3-none-any.whl (28 kB)\n",
      "Requirement already satisfied: importlib-metadata>=3.6 in c:\\users\\carter.peene\\miniconda3\\envs\\databook\\lib\\site-packages (from keyring!=23.9.0->dandi) (4.11.4)\n",
      "Collecting tqdm\n",
      "  Using cached tqdm-4.64.1-py2.py3-none-any.whl (78 kB)\n",
      "Collecting numpy<1.23.0,>=1.22.0\n",
      "  Using cached numpy-1.22.4-cp39-cp39-win_amd64.whl (14.7 MB)\n",
      "Requirement already satisfied: PyYAML in c:\\users\\carter.peene\\miniconda3\\envs\\databook\\lib\\site-packages (from nwbinspector>=0.4.12->dandi) (6.0)\n",
      "Collecting natsort\n",
      "  Using cached natsort-8.2.0-py3-none-any.whl (37 kB)\n",
      "Requirement already satisfied: typing-extensions>=4.1.0 in c:\\users\\carter.peene\\miniconda3\\envs\\databook\\lib\\site-packages (from pydantic>=1.9.0->dandi) (4.4.0)\n",
      "Requirement already satisfied: setuptools in c:\\users\\carter.peene\\miniconda3\\envs\\databook\\lib\\site-packages (from pynwb!=1.1.0,>=1.0.3->dandi) (65.4.1)\n",
      "Collecting pandas<2,>=1.0.5\n",
      "  Using cached pandas-1.5.0-cp39-cp39-win_amd64.whl (10.9 MB)\n",
      "Collecting h5py<4,>=2.10\n",
      "  Using cached h5py-3.7.0-cp39-cp39-win_amd64.whl (2.6 MB)\n",
      "Collecting hdmf<4,>=3.3.2\n",
      "  Using cached hdmf-3.4.6-py3-none-any.whl (187 kB)\n",
      "Requirement already satisfied: six>=1.5 in c:\\users\\carter.peene\\miniconda3\\envs\\databook\\lib\\site-packages (from python-dateutil->dandi) (1.16.0)\n",
      "Requirement already satisfied: idna<4,>=2.5 in c:\\users\\carter.peene\\miniconda3\\envs\\databook\\lib\\site-packages (from requests~=2.20->dandi) (3.4)\n",
      "Requirement already satisfied: urllib3<1.27,>=1.21.1 in c:\\users\\carter.peene\\miniconda3\\envs\\databook\\lib\\site-packages (from requests~=2.20->dandi) (1.26.11)\n",
      "Requirement already satisfied: charset-normalizer<3,>=2 in c:\\users\\carter.peene\\miniconda3\\envs\\databook\\lib\\site-packages (from requests~=2.20->dandi) (2.1.1)\n",
      "Requirement already satisfied: certifi>=2017.4.17 in c:\\users\\carter.peene\\miniconda3\\envs\\databook\\lib\\site-packages (from requests~=2.20->dandi) (2022.9.24)\n",
      "Collecting ruamel.yaml.clib>=0.2.6\n",
      "  Using cached ruamel.yaml.clib-0.2.6-cp39-cp39-win_amd64.whl (118 kB)\n",
      "Collecting numcodecs>=0.10.0\n",
      "  Using cached numcodecs-0.10.2-cp39-cp39-win_amd64.whl (824 kB)\n",
      "Collecting asciitree\n",
      "  Using cached asciitree-0.3.3-py3-none-any.whl\n",
      "Requirement already satisfied: colorama in c:\\users\\carter.peene\\miniconda3\\envs\\databook\\lib\\site-packages (from click->dandi) (0.4.5)\n",
      "Requirement already satisfied: pyparsing!=3.0.5,>=2.0.2 in c:\\users\\carter.peene\\miniconda3\\envs\\databook\\lib\\site-packages (from packaging->dandi) (3.0.9)\n",
      "Collecting scipy<2,>=1.1\n",
      "  Downloading scipy-1.9.2-cp39-cp39-win_amd64.whl (40.1 MB)\n",
      "     --------------------------------------- 40.1/40.1 MB 10.4 MB/s eta 0:00:00\n",
      "Requirement already satisfied: zipp>=0.5 in c:\\users\\carter.peene\\miniconda3\\envs\\databook\\lib\\site-packages (from importlib-metadata>=3.6->keyring!=23.9.0->dandi) (3.9.0)\n",
      "Requirement already satisfied: attrs>=17.4.0 in c:\\users\\carter.peene\\miniconda3\\envs\\databook\\lib\\site-packages (from jsonschema[format]->dandischema~=0.7.0->dandi) (21.4.0)\n",
      "Requirement already satisfied: pyrsistent>=0.14.0 in c:\\users\\carter.peene\\miniconda3\\envs\\databook\\lib\\site-packages (from jsonschema[format]->dandischema~=0.7.0->dandi) (0.18.1)\n",
      "Requirement already satisfied: entrypoints in c:\\users\\carter.peene\\miniconda3\\envs\\databook\\lib\\site-packages (from numcodecs>=0.10.0->zarr~=2.10->dandi) (0.4)\n",
      "Requirement already satisfied: pytz>=2020.1 in c:\\users\\carter.peene\\miniconda3\\envs\\databook\\lib\\site-packages (from pandas<2,>=1.0.5->pynwb!=1.1.0,>=1.0.3->dandi) (2022.4)\n",
      "Collecting email-validator>=1.0.3\n",
      "  Using cached email_validator-1.3.0-py2.py3-none-any.whl (22 kB)\n",
      "Collecting more-itertools\n",
      "  Using cached more_itertools-8.14.0-py3-none-any.whl (52 kB)\n",
      "Collecting strict-rfc3339\n",
      "  Using cached strict_rfc3339-0.7-py3-none-any.whl\n",
      "Collecting rfc3987\n",
      "  Using cached rfc3987-1.3.8-py2.py3-none-any.whl (13 kB)\n",
      "Collecting webcolors\n",
      "  Using cached webcolors-1.12-py3-none-any.whl (9.9 kB)\n",
      "Collecting jsonpointer>1.13\n",
      "  Using cached jsonpointer-2.3-py2.py3-none-any.whl (7.8 kB)\n",
      "Collecting dnspython>=1.15.0\n",
      "  Using cached dnspython-2.2.1-py3-none-any.whl (269 kB)\n",
      "Installing collected packages: strict-rfc3339, rfc3987, pywin32-ctypes, asciitree, appdirs, webcolors, tqdm, tenacity, semantic-version, ruamel.yaml.clib, pydantic, pycryptodomex, numpy, natsort, more-itertools, jsonpointer, joblib, interleave, humanize, fasteners, dnspython, ci-info, scipy, ruamel.yaml, pyout, pandas, numcodecs, jaraco.classes, h5py, fscacher, etelemetry, email-validator, click-didyoumean, bidsschematools, zarr, keyrings.alt, keyring, hdmf, pynwb, dandischema, nwbinspector, dandi\n",
      "Successfully installed appdirs-1.4.4 asciitree-0.3.3 bidsschematools-0.5.1 ci-info-0.3.0 click-didyoumean-0.3.0 dandi-0.46.4 dandischema-0.7.1 dnspython-2.2.1 email-validator-1.3.0 etelemetry-0.3.0 fasteners-0.18 fscacher-0.2.0 h5py-3.7.0 hdmf-3.4.6 humanize-4.4.0 interleave-0.2.1 jaraco.classes-3.2.3 joblib-1.2.0 jsonpointer-2.3 keyring-23.9.3 keyrings.alt-4.2.0 more-itertools-8.14.0 natsort-8.2.0 numcodecs-0.10.2 numpy-1.22.4 nwbinspector-0.4.14 pandas-1.5.0 pycryptodomex-3.15.0 pydantic-1.10.2 pynwb-2.1.0 pyout-0.7.2 pywin32-ctypes-0.2.0 rfc3987-1.3.8 ruamel.yaml-0.17.21 ruamel.yaml.clib-0.2.6 scipy-1.9.2 semantic-version-2.10.0 strict-rfc3339-0.7 tenacity-8.1.0 tqdm-4.64.1 webcolors-1.12 zarr-2.13.3\n"
     ]
    }
   ],
   "source": [
    "!pip install dandi"
   ]
  },
  {
   "cell_type": "markdown",
   "id": "ae798e1c",
   "metadata": {},
   "source": [
    "### Download Configuration"
   ]
  },
  {
   "cell_type": "code",
   "execution_count": 27,
   "id": "f7c5dac2",
   "metadata": {},
   "outputs": [],
   "source": [
    "from dandi import dandiapi"
   ]
  },
  {
   "cell_type": "code",
   "execution_count": 28,
   "id": "67536d37",
   "metadata": {},
   "outputs": [],
   "source": [
    "### download configuration\n",
    "\n",
    "dandiset_id = \"000004\"\n",
    "# where to download to locally\n",
    "data_loc = \"../../data\"\n",
    "\n",
    "# if you want to access an embargoed dandiset, you must set 'authenticate' to True and provide a dandi api key\n",
    "# your dandi api key can be found on dandi, if you press your profile icon in the top-right corner\n",
    "authenticate = False\n",
    "dandi_api_key = \"your_api_key_here\""
   ]
  },
  {
   "cell_type": "code",
   "execution_count": 29,
   "id": "a309c067",
   "metadata": {},
   "outputs": [],
   "source": [
    "if authenticate:\n",
    "    client = dandiapi.DandiAPIClient(token=dandi_api_key)\n",
    "else:\n",
    "    client = dandiapi.DandiAPIClient()\n",
    "my_dandiset = client.get_dandiset(dandiset_id)"
   ]
  },
  {
   "cell_type": "markdown",
   "id": "7a85a038",
   "metadata": {},
   "source": [
    "### Download Entire Dandiset\n"
   ]
  },
  {
   "cell_type": "code",
   "execution_count": 30,
   "id": "1c42049e",
   "metadata": {},
   "outputs": [],
   "source": [
    "my_dandiset.download_directory(\"./\", f\"{data_loc}/{dandiset_id}\")"
   ]
  },
  {
   "cell_type": "markdown",
   "id": "420ef8ac",
   "metadata": {},
   "source": [
    "### Download Just One ile"
   ]
  },
  {
   "cell_type": "code",
   "execution_count": 31,
   "id": "fe9aa40c",
   "metadata": {},
   "outputs": [],
   "source": [
    "# file path within dandiset (don't include leading '/')\n",
    "filepath = \"sub-P10HMH/sub-P10HMH_ses-20060901_ecephys+image.nwb\""
   ]
  },
  {
   "cell_type": "code",
   "execution_count": 32,
   "id": "a110beeb",
   "metadata": {},
   "outputs": [],
   "source": [
    "file = my_dandiset.get_asset_by_path(filepath)\n",
    "filename = filepath.split(\"/\")[-1]\n",
    "# this may take awhile, especially if the file to download is large\n",
    "file.download(f\"{data_loc}/{filename}\")"
   ]
  }
 ],
 "metadata": {
  "kernelspec": {
   "display_name": "Python 3 (ipykernel)",
   "language": "python",
   "name": "python3"
  },
  "language_info": {
   "codemirror_mode": {
    "name": "ipython",
    "version": 3
   },
   "file_extension": ".py",
   "mimetype": "text/x-python",
   "name": "python",
   "nbconvert_exporter": "python",
   "pygments_lexer": "ipython3",
   "version": "3.9.13"
  }
 },
 "nbformat": 4,
 "nbformat_minor": 5
}
