{
 "cells": [
  {
   "cell_type": "markdown",
   "id": "d84ee614",
   "metadata": {},
   "source": [
    "# Stream and View an NWB File with fsspec"
   ]
  },
  {
   "cell_type": "markdown",
   "id": "e54a7fde",
   "metadata": {},
   "source": [
    "### Environment Setup"
   ]
  },
  {
   "cell_type": "code",
   "execution_count": null,
   "id": "00134bf4",
   "metadata": {},
   "outputs": [],
   "source": [
    "!pip install dandi\n",
    "!pip install fsspec requests aiohttp\n",
    "!pip install nwbwidgets"
   ]
  },
  {
   "cell_type": "markdown",
   "id": "5731bf71",
   "metadata": {},
   "source": [
    "### Download files\n",
    "Run these cells for each dandiset and filepath you want to download.\n",
    "No need to run these if the file you're interested in is already downloaded."
   ]
  },
  {
   "cell_type": "code",
   "execution_count": null,
   "id": "f3f97f13",
   "metadata": {},
   "outputs": [],
   "source": [
    "### download configuration\n",
    "\n",
    "dandiset_id = \"000336\"\n",
    "# file path within dandiset (don't include leading '/')\n",
    "filepath = \"sub-1202533446/sub-1202533446_ophys.nwb\"\n",
    "\n",
    "# if you want to access an embargoed dandiset, you must set 'authenticate' to True and provide a dandi api key\n",
    "# your dandi api key can be found on dandi, if you press your profile icon in the top-right corner\n",
    "authenticate = True\n",
    "dandi_api_key = \"c3ccc16df82a86fd8c25a6b233bfd27d9da3f2b4\"\n"
   ]
  },
  {
   "cell_type": "code",
   "execution_count": null,
   "id": "a51caf90",
   "metadata": {},
   "outputs": [],
   "source": [
    "from dandi import dandiapi\n",
    "import dandi\n",
    "\n",
    "if authenticate:\n",
    "    client = dandiapi.DandiAPIClient(token=dandi_api_key)\n",
    "else:\n",
    "    client = dandiapi.DandiAPIClient()\n",
    "    \n",
    "my_dandiset = client.get_dandiset(dandiset_id)\n"
   ]
  },
  {
   "cell_type": "code",
   "execution_count": null,
   "id": "d131ad56",
   "metadata": {},
   "outputs": [],
   "source": [
    "file = my_dandiset.get_asset_by_path(filepath)\n",
    "file_url = file.get_content_url(follow_redirects=1, strip_query=True)"
   ]
  },
  {
   "cell_type": "code",
   "execution_count": null,
   "id": "dfea0ab5",
   "metadata": {},
   "outputs": [],
   "source": [
    "io = pynwb.NWBHDF5IO(file=file, mode='r', load_namespaces=True)\n",
    "nwb = io.read()\n",
    "nwb"
   ]
  },
  {
   "cell_type": "markdown",
   "id": "3df13a24",
   "metadata": {},
   "source": [
    "### Display nwb file\n",
    "Choose the nwb file you want to view and display it here!"
   ]
  },
  {
   "cell_type": "code",
   "execution_count": null,
   "id": "d15db3bb",
   "metadata": {
    "scrolled": true
   },
   "outputs": [],
   "source": [
    "import fsspec\n",
    "import pynwb\n",
    "import h5py\n",
    "from fsspec.implementations.cached import CachingFileSystem\n",
    "\n",
    "# first, create a virtual filesystem based on the http protocol and use\n",
    "# caching to save accessed data to RAM.\n",
    "fs = CachingFileSystem(\n",
    "    fs=fsspec.filesystem(\"http\"),\n",
    "    cache_storage=\"nwb-cache\",  # Local folder for the cache\n",
    ")\n",
    "\n",
    "# next, open the file\n",
    "with fs.open(file_url, \"rb\") as f:\n",
    "    with h5py.File(f) as file:\n",
    "        with pynwb.NWBHDF5IO(file=file, mode='r', load_namespaces=True) as io:\n",
    "            nwb = io.read()"
   ]
  },
  {
   "cell_type": "code",
   "execution_count": null,
   "id": "91031da2",
   "metadata": {},
   "outputs": [],
   "source": [
    "### uncomment these to view aspects of the file\n",
    "### note that not all these properties exist for all nwb files\n",
    "print(nwb.electrodes)\n",
    "# nwb.identifier\n",
    "# nwb.processing\n",
    "# nwb.acquisition[\"events\"]\n",
    "# nwb.intervals[\"trials\"]\n",
    "# nwb.stimulus[\"StimulusPresentation\"]\n",
    "# nwb.electrodes"
   ]
  },
  {
   "cell_type": "code",
   "execution_count": null,
   "id": "3e06b964",
   "metadata": {},
   "outputs": [],
   "source": [
    "nwb"
   ]
  }
 ],
 "metadata": {
  "kernelspec": {
   "display_name": "Python 3 (ipykernel)",
   "language": "python",
   "name": "python3"
  },
  "language_info": {
   "codemirror_mode": {
    "name": "ipython",
    "version": 3
   },
   "file_extension": ".py",
   "mimetype": "text/x-python",
   "name": "python",
   "nbconvert_exporter": "python",
   "pygments_lexer": "ipython3",
   "version": "3.9.10"
  }
 },
 "nbformat": 4,
 "nbformat_minor": 5
}
