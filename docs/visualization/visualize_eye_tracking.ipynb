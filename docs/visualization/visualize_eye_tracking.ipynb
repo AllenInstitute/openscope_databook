{
 "cells": [
  {
   "cell_type": "markdown",
   "id": "0f3ac1e7",
   "metadata": {},
   "source": [
    "# Visualizing Eye Tracking"
   ]
  },
  {
   "cell_type": "markdown",
   "id": "410df685",
   "metadata": {},
   "source": [
    "### Environment Setup"
   ]
  },
  {
   "cell_type": "code",
   "execution_count": 17,
   "id": "2bbff7f6",
   "metadata": {},
   "outputs": [],
   "source": [
    "from pynwb import NWBHDF5IO\n",
    "import matplotlib.pyplot as plt\n",
    "import matplotlib as mpl\n",
    "from dandi import dandiapi"
   ]
  },
  {
   "cell_type": "markdown",
   "id": "a874b37c",
   "metadata": {},
   "source": [
    "### Downloading NWB Files\n",
    "If you don't already have files to analyze, you can use data from The Allen Institute's `Visual Coding - Neuropixels` dataset. If you want to choose your own files to download, set `dandiset_id`, `dandi_stim_filepath`, `dandi_lfp_filepath` accordingly."
   ]
  },
  {
   "cell_type": "code",
   "execution_count": 18,
   "id": "c01caed9",
   "metadata": {},
   "outputs": [],
   "source": [
    "dandiset_id = \"000253\"\n",
    "dandi_filepath = \"sub-1169714184/sub-1169714184_ses-1180116198.nwb\"\n",
    "download_loc = \"../../../data/glo\""
   ]
  },
  {
   "cell_type": "code",
   "execution_count": 19,
   "id": "5648ccf4",
   "metadata": {},
   "outputs": [
    {
     "name": "stdout",
     "output_type": "stream",
     "text": [
      "Got dandiset DANDI:000253/draft\n"
     ]
    }
   ],
   "source": [
    "filename = dandi_filepath.split(\"/\")[-1]\n",
    "my_dandiset = dandiapi.DandiAPIClient(token=\"7b74c449992670033c1c6018648afcac078527a9\").get_dandiset(dandiset_id)\n",
    "print(f\"Got dandiset {my_dandiset}\")"
   ]
  },
  {
   "cell_type": "code",
   "execution_count": null,
   "id": "4ebd2990",
   "metadata": {},
   "outputs": [],
   "source": [
    "file = my_dandiset.get_asset_by_path(dandi_filepath)\n",
    "# this may take awhile, especially if the file to download is large\n",
    "file.download(f\"{download_loc}/{filename}\")\n",
    "\n",
    "print(f\"Downloaded file to {download_loc}/{filename}\")"
   ]
  },
  {
   "cell_type": "markdown",
   "id": "f90138cf",
   "metadata": {},
   "source": [
    "### Extracting Eye Tracking Data"
   ]
  },
  {
   "cell_type": "code",
   "execution_count": 20,
   "id": "72d7e4b4",
   "metadata": {},
   "outputs": [],
   "source": [
    "stim_filepath = f\"{download_loc}/{filename}\""
   ]
  },
  {
   "cell_type": "code",
   "execution_count": 25,
   "id": "79902695",
   "metadata": {
    "scrolled": false
   },
   "outputs": [
    {
     "data": {
      "text/plain": [
       "EyeTracking abc.EllipseEyeTracking at 0x2031900178080\n",
       "Fields:\n",
       "  corneal_reflection_tracking: corneal_reflection_tracking abc.EllipseSeries at 0x2031901325488\n",
       "Fields:\n",
       "  angle: <HDF5 dataset \"angle\": shape (478660,), type \"<f8\">\n",
       "  area: <HDF5 dataset \"area\": shape (478660,), type \"<f8\">\n",
       "  area_raw: <HDF5 dataset \"area_raw\": shape (478660,), type \"<f8\">\n",
       "  comments: no comments\n",
       "  conversion: 1.0\n",
       "  data: <HDF5 dataset \"data\": shape (478660, 2), type \"<f8\">\n",
       "  description: no description\n",
       "  height: <HDF5 dataset \"height\": shape (478660,), type \"<f8\">\n",
       "  interval: 1\n",
       "  offset: 0.0\n",
       "  reference_frame: nose\n",
       "  resolution: -1.0\n",
       "  timestamps: eye_tracking abc.EllipseSeries at 0x2031900806496\n",
       "Fields:\n",
       "  angle: <HDF5 dataset \"angle\": shape (478660,), type \"<f8\">\n",
       "  area: <HDF5 dataset \"area\": shape (478660,), type \"<f8\">\n",
       "  area_raw: <HDF5 dataset \"area_raw\": shape (478660,), type \"<f8\">\n",
       "  comments: no comments\n",
       "  conversion: 1.0\n",
       "  data: <HDF5 dataset \"data\": shape (478660, 2), type \"<f8\">\n",
       "  description: no description\n",
       "  height: <HDF5 dataset \"height\": shape (478660,), type \"<f8\">\n",
       "  interval: 1\n",
       "  offset: 0.0\n",
       "  reference_frame: nose\n",
       "  resolution: -1.0\n",
       "  timestamp_link: (\n",
       "    pupil_tracking <class 'abc.EllipseSeries'>,\n",
       "    corneal_reflection_tracking <class 'abc.EllipseSeries'>,\n",
       "    likely_blink <class 'pynwb.base.TimeSeries'>\n",
       "  )\n",
       "  timestamps: <HDF5 dataset \"timestamps\": shape (478660,), type \"<f8\">\n",
       "  timestamps_unit: seconds\n",
       "  unit: meters\n",
       "  width: <HDF5 dataset \"width\": shape (478660,), type \"<f8\">\n",
       "\n",
       "  timestamps_unit: seconds\n",
       "  unit: meters\n",
       "  width: <HDF5 dataset \"width\": shape (478660,), type \"<f8\">\n",
       "\n",
       "  eye_tracking: eye_tracking abc.EllipseSeries at 0x2031900806496\n",
       "Fields:\n",
       "  angle: <HDF5 dataset \"angle\": shape (478660,), type \"<f8\">\n",
       "  area: <HDF5 dataset \"area\": shape (478660,), type \"<f8\">\n",
       "  area_raw: <HDF5 dataset \"area_raw\": shape (478660,), type \"<f8\">\n",
       "  comments: no comments\n",
       "  conversion: 1.0\n",
       "  data: <HDF5 dataset \"data\": shape (478660, 2), type \"<f8\">\n",
       "  description: no description\n",
       "  height: <HDF5 dataset \"height\": shape (478660,), type \"<f8\">\n",
       "  interval: 1\n",
       "  offset: 0.0\n",
       "  reference_frame: nose\n",
       "  resolution: -1.0\n",
       "  timestamp_link: (\n",
       "    pupil_tracking <class 'abc.EllipseSeries'>,\n",
       "    corneal_reflection_tracking <class 'abc.EllipseSeries'>,\n",
       "    likely_blink <class 'pynwb.base.TimeSeries'>\n",
       "  )\n",
       "  timestamps: <HDF5 dataset \"timestamps\": shape (478660,), type \"<f8\">\n",
       "  timestamps_unit: seconds\n",
       "  unit: meters\n",
       "  width: <HDF5 dataset \"width\": shape (478660,), type \"<f8\">\n",
       "\n",
       "  likely_blink: likely_blink pynwb.base.TimeSeries at 0x2031900888656\n",
       "Fields:\n",
       "  comments: no comments\n",
       "  conversion: 1.0\n",
       "  data: <HDF5 dataset \"data\": shape (478660,), type \"|b1\">\n",
       "  description: blinks\n",
       "  interval: 1\n",
       "  offset: 0.0\n",
       "  resolution: -1.0\n",
       "  timestamps: eye_tracking abc.EllipseSeries at 0x2031900806496\n",
       "Fields:\n",
       "  angle: <HDF5 dataset \"angle\": shape (478660,), type \"<f8\">\n",
       "  area: <HDF5 dataset \"area\": shape (478660,), type \"<f8\">\n",
       "  area_raw: <HDF5 dataset \"area_raw\": shape (478660,), type \"<f8\">\n",
       "  comments: no comments\n",
       "  conversion: 1.0\n",
       "  data: <HDF5 dataset \"data\": shape (478660, 2), type \"<f8\">\n",
       "  description: no description\n",
       "  height: <HDF5 dataset \"height\": shape (478660,), type \"<f8\">\n",
       "  interval: 1\n",
       "  offset: 0.0\n",
       "  reference_frame: nose\n",
       "  resolution: -1.0\n",
       "  timestamp_link: (\n",
       "    pupil_tracking <class 'abc.EllipseSeries'>,\n",
       "    corneal_reflection_tracking <class 'abc.EllipseSeries'>,\n",
       "    likely_blink <class 'pynwb.base.TimeSeries'>\n",
       "  )\n",
       "  timestamps: <HDF5 dataset \"timestamps\": shape (478660,), type \"<f8\">\n",
       "  timestamps_unit: seconds\n",
       "  unit: meters\n",
       "  width: <HDF5 dataset \"width\": shape (478660,), type \"<f8\">\n",
       "\n",
       "  timestamps_unit: seconds\n",
       "  unit: N/A\n",
       "\n",
       "  pupil_tracking: pupil_tracking abc.EllipseSeries at 0x2031900177360\n",
       "Fields:\n",
       "  angle: <HDF5 dataset \"angle\": shape (478660,), type \"<f8\">\n",
       "  area: <HDF5 dataset \"area\": shape (478660,), type \"<f8\">\n",
       "  area_raw: <HDF5 dataset \"area_raw\": shape (478660,), type \"<f8\">\n",
       "  comments: no comments\n",
       "  conversion: 1.0\n",
       "  data: <HDF5 dataset \"data\": shape (478660, 2), type \"<f8\">\n",
       "  description: no description\n",
       "  height: <HDF5 dataset \"height\": shape (478660,), type \"<f8\">\n",
       "  interval: 1\n",
       "  offset: 0.0\n",
       "  reference_frame: nose\n",
       "  resolution: -1.0\n",
       "  timestamps: eye_tracking abc.EllipseSeries at 0x2031900806496\n",
       "Fields:\n",
       "  angle: <HDF5 dataset \"angle\": shape (478660,), type \"<f8\">\n",
       "  area: <HDF5 dataset \"area\": shape (478660,), type \"<f8\">\n",
       "  area_raw: <HDF5 dataset \"area_raw\": shape (478660,), type \"<f8\">\n",
       "  comments: no comments\n",
       "  conversion: 1.0\n",
       "  data: <HDF5 dataset \"data\": shape (478660, 2), type \"<f8\">\n",
       "  description: no description\n",
       "  height: <HDF5 dataset \"height\": shape (478660,), type \"<f8\">\n",
       "  interval: 1\n",
       "  offset: 0.0\n",
       "  reference_frame: nose\n",
       "  resolution: -1.0\n",
       "  timestamp_link: (\n",
       "    pupil_tracking <class 'abc.EllipseSeries'>,\n",
       "    corneal_reflection_tracking <class 'abc.EllipseSeries'>,\n",
       "    likely_blink <class 'pynwb.base.TimeSeries'>\n",
       "  )\n",
       "  timestamps: <HDF5 dataset \"timestamps\": shape (478660,), type \"<f8\">\n",
       "  timestamps_unit: seconds\n",
       "  unit: meters\n",
       "  width: <HDF5 dataset \"width\": shape (478660,), type \"<f8\">\n",
       "\n",
       "  timestamps_unit: seconds\n",
       "  unit: meters\n",
       "  width: <HDF5 dataset \"width\": shape (478660,), type \"<f8\">\n",
       "\n",
       "  spatial_series: {\n",
       "    corneal_reflection_tracking <class 'abc.EllipseSeries'>,\n",
       "    eye_tracking <class 'abc.EllipseSeries'>,\n",
       "    pupil_tracking <class 'abc.EllipseSeries'>\n",
       "  }"
      ]
     },
     "execution_count": 25,
     "metadata": {},
     "output_type": "execute_result"
    }
   ],
   "source": [
    "io = NWBHDF5IO(stim_filepath, mode=\"r\", load_namespaces=True)\n",
    "nwb = io.read() \n",
    "\n",
    "nwb.acquisition[\"EyeTracking\"]"
   ]
  },
  {
   "cell_type": "code",
   "execution_count": null,
   "id": "d3da68ec",
   "metadata": {},
   "outputs": [],
   "source": []
  }
 ],
 "metadata": {
  "kernelspec": {
   "display_name": "Python 3 (ipykernel)",
   "language": "python",
   "name": "python3"
  },
  "language_info": {
   "codemirror_mode": {
    "name": "ipython",
    "version": 3
   },
   "file_extension": ".py",
   "mimetype": "text/x-python",
   "name": "python",
   "nbconvert_exporter": "python",
   "pygments_lexer": "ipython3",
   "version": "3.9.10"
  }
 },
 "nbformat": 4,
 "nbformat_minor": 5
}
