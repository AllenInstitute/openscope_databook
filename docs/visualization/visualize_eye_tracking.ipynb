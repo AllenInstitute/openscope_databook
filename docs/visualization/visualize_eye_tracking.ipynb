{
 "cells": [
  {
   "cell_type": "markdown",
   "id": "0f3ac1e7",
   "metadata": {},
   "source": [
    "# Visualizing Eye Tracking\n",
    "As a measure of behavioral information, the Allen Institute tracks mouse eye motion during experiments, as well as other things like eye area and blink events. In this notebook, this information is extracted from an NWB file and visualized with matplotlib."
   ]
  },
  {
   "cell_type": "markdown",
   "id": "410df685",
   "metadata": {},
   "source": [
    "### Environment Setup"
   ]
  },
  {
   "cell_type": "code",
   "execution_count": null,
   "id": "2bbff7f6",
   "metadata": {},
   "outputs": [],
   "source": [
    "from pynwb import NWBHDF5IO\n",
    "import matplotlib.pyplot as plt\n",
    "import matplotlib as mpl\n",
    "import numpy as np\n",
    "from dandi import dandiapi\n",
    "\n",
    "%matplotlib inline"
   ]
  },
  {
   "cell_type": "markdown",
   "id": "a874b37c",
   "metadata": {},
   "source": [
    "### Downloading NWB Files\n",
    "To choose your own files to download, set `dandiset_id`, `dandi_stim_filepath`, `dandi_lfp_filepath` accordingly."
   ]
  },
  {
   "cell_type": "code",
   "execution_count": null,
   "id": "c01caed9",
   "metadata": {},
   "outputs": [],
   "source": [
    "dandiset_id = \"000021\"\n",
    "dandi_filepath = \"sub-1169714184/sub-1169714184_ses-1180116198.nwb\"\n",
    "download_loc = \"./\"\n",
    "authenticate = False\n",
    "dandi_api_key = \"\""
   ]
  },
  {
   "cell_type": "code",
   "execution_count": null,
   "id": "5648ccf4",
   "metadata": {},
   "outputs": [],
   "source": [
    "filename = dandi_filepath.split(\"/\")[-1]\n",
    "if authenticate:\n",
    "    my_dandiset = dandiapi.DandiAPIClient(token=dandi_api_key).get_dandiset(dandiset_id)\n",
    "else:\n",
    "    my_dandiset = dandiapi.DandiAPIClient().get_dandiset(dandiset_id)\n",
    "print(f\"Got dandiset {my_dandiset}\")"
   ]
  },
  {
   "cell_type": "code",
   "execution_count": null,
   "id": "4ebd2990",
   "metadata": {},
   "outputs": [],
   "source": [
    "file = my_dandiset.get_asset_by_path(dandi_filepath)\n",
    "# this may take awhile, especially if the file to download is large\n",
    "file.download(f\"{download_loc}/{filename}\")\n",
    "\n",
    "print(f\"Downloaded file to {download_loc}/{filename}\")"
   ]
  },
  {
   "cell_type": "markdown",
   "id": "f90138cf",
   "metadata": {},
   "source": [
    "### Extracting Eye Tracking Data\n",
    "Our datasets include eye data with eye tracking, corneal reflection tracking, and pupil tracking. Any of these should be usable for the following analyses. Below, you can set `eye_tracking` to one of those values commented out below. You can also take the probable blink times."
   ]
  },
  {
   "cell_type": "code",
   "execution_count": null,
   "id": "72d7e4b4",
   "metadata": {},
   "outputs": [],
   "source": [
    "stim_filepath = f\"{download_loc}/{filename}\""
   ]
  },
  {
   "cell_type": "code",
   "execution_count": null,
   "id": "79902695",
   "metadata": {
    "scrolled": false
   },
   "outputs": [],
   "source": [
    "io = NWBHDF5IO(stim_filepath, mode=\"r\", load_namespaces=True)\n",
    "nwb = io.read() "
   ]
  },
  {
   "cell_type": "code",
   "execution_count": null,
   "id": "5a94711f",
   "metadata": {},
   "outputs": [],
   "source": [
    "eye_tracking = nwb.acquisition[\"EyeTracking\"].eye_tracking\n",
    "# eye_tracking = nwb.acquisition[\"EyeTracking\"].corneal_reflection_tracking\n",
    "# eye_tracking = nwb.acquisition[\"EyeTracking\"].pupil_tracking\n",
    "\n",
    "timestamps = eye_tracking.timestamps\n",
    "blink_times = nwb.acquisition[\"EyeTracking\"].likely_blink\n",
    "\n",
    "print(eye_tracking)"
   ]
  },
  {
   "cell_type": "markdown",
   "id": "e54d650a",
   "metadata": {},
   "source": [
    "### Selecting a Period\n",
    "The data can be large or messy. In order to visualize the data more cleanly and efficiently, you can just select a period of time within the data to plot. To do this, specify the `start_time` and `end_time` you'd like in terms of seconds. Below, the first and last timestamps from the data are printed to assist in this choice."
   ]
  },
  {
   "cell_type": "code",
   "execution_count": null,
   "id": "fd5b8317",
   "metadata": {},
   "outputs": [],
   "source": [
    "print(timestamps[0])\n",
    "print(timestamps[-2])"
   ]
  },
  {
   "cell_type": "code",
   "execution_count": null,
   "id": "3f1bb38e",
   "metadata": {},
   "outputs": [],
   "source": [
    "start_time = 0\n",
    "end_time = 100"
   ]
  },
  {
   "cell_type": "code",
   "execution_count": null,
   "id": "d5a22372",
   "metadata": {},
   "outputs": [],
   "source": [
    "# get data indices from times\n",
    "\n",
    "start_idx, end_idx = None, None\n",
    "for i, ts in enumerate(timestamps):\n",
    "    if not start_idx and ts >= start_time:\n",
    "        start_idx = i\n",
    "    if start_idx and ts >= end_time:\n",
    "        end_idx = i\n",
    "        break\n",
    "\n",
    "if start_idx == None or end_idx == None:\n",
    "    raise ValueError(\"Time bounds not found within eyetracking timestamps\")"
   ]
  },
  {
   "cell_type": "code",
   "execution_count": null,
   "id": "e5b71548",
   "metadata": {},
   "outputs": [],
   "source": [
    "# make time axis\n",
    "time_axis = np.arange(start_idx, end_idx)"
   ]
  },
  {
   "cell_type": "markdown",
   "id": "67ababb1",
   "metadata": {},
   "source": [
    "### Visualizing the Data\n",
    "Below, several types of measurements are visualized from the eye tracking data that was selected."
   ]
  },
  {
   "cell_type": "markdown",
   "id": "223a3c17",
   "metadata": {},
   "source": [
    "#### Blink Times"
   ]
  },
  {
   "cell_type": "code",
   "execution_count": null,
   "id": "c3765467",
   "metadata": {},
   "outputs": [],
   "source": [
    "fig, ax = plt.subplots()\n",
    "ax.plot(blink_times.data[start_idx:end_idx], linewidth=0.2)"
   ]
  },
  {
   "cell_type": "markdown",
   "id": "b8076fd7",
   "metadata": {},
   "source": [
    "#### Area\n",
    "Below, eye height and width are plotted together, and area, the product of height and width, is also plotted."
   ]
  },
  {
   "cell_type": "code",
   "execution_count": null,
   "id": "aaaff6bc",
   "metadata": {},
   "outputs": [],
   "source": [
    "fig, ax1 = plt.subplots()\n",
    "ax1.set_xlabel('time')\n",
    "ax1.plot(time_axis, eye_tracking.width[start_idx:end_idx], color='b')\n",
    "ax1.set_ylabel('width', color='b')\n",
    "ax2 = ax1.twinx()\n",
    "ax2.plot(time_axis, eye_tracking.height[start_idx:end_idx], color='r')\n",
    "ax2.set_ylabel('height', color='r')"
   ]
  },
  {
   "cell_type": "code",
   "execution_count": null,
   "id": "1c992e65",
   "metadata": {},
   "outputs": [],
   "source": [
    "fig, ax1 = plt.subplots()\n",
    "ax1.set_xlabel('time')\n",
    "ax1.set_ylabel('area')\n",
    "ax1.plot(time_axis, eye_tracking.area[start_idx:end_idx])"
   ]
  },
  {
   "cell_type": "markdown",
   "id": "81347f80",
   "metadata": {},
   "source": [
    "#### Angle"
   ]
  },
  {
   "cell_type": "code",
   "execution_count": null,
   "id": "a22d23b2",
   "metadata": {},
   "outputs": [],
   "source": [
    "fig, ax = plt.subplots()\n",
    "angle = np.array(eye_tracking.angle)\n",
    "ax.set_xlabel('time')\n",
    "ax.set_ylabel('angle (degrees)')\n",
    "ax.plot(time_axis, angle[start_idx:end_idx])"
   ]
  },
  {
   "cell_type": "markdown",
   "id": "6e07f0e1",
   "metadata": {},
   "source": [
    "#### Eye Trace\n",
    "With marker color representing time, the x and y coordinates of the eye's view are traced below."
   ]
  },
  {
   "cell_type": "code",
   "execution_count": null,
   "id": "07356a27",
   "metadata": {},
   "outputs": [],
   "source": [
    "# extract coords from eye tracking array\n",
    "xs = np.array([point[0] for point in eye_tracking.data])\n",
    "ys = np.array([point[1] for point in eye_tracking.data])"
   ]
  },
  {
   "cell_type": "code",
   "execution_count": null,
   "id": "06495e90",
   "metadata": {
    "scrolled": false
   },
   "outputs": [],
   "source": [
    "fig, ax = plt.subplots()\n",
    "colors = plt.cm.viridis(np.linspace(0, 1, end_idx-start_idx))\n",
    "ax.plot(xs[start_idx:end_idx], ys[start_idx:end_idx], zorder=0, linewidth=0.25)\n",
    "ax.scatter(xs[start_idx:end_idx], ys[start_idx:end_idx], s=5, c=colors, zorder=1)\n",
    "\n",
    "# set these to restrict the plot limits\n",
    "# ax.set_xlim(320,350)\n",
    "# ax.set_ylim(270,320)\n",
    "plt.show()"
   ]
  }
 ],
 "metadata": {
  "kernelspec": {
   "display_name": "Python 3 (ipykernel)",
   "language": "python",
   "name": "python3"
  },
  "language_info": {
   "codemirror_mode": {
    "name": "ipython",
    "version": 3
   },
   "file_extension": ".py",
   "mimetype": "text/x-python",
   "name": "python",
   "nbconvert_exporter": "python",
   "pygments_lexer": "ipython3",
   "version": "3.9.10"
  }
 },
 "nbformat": 4,
 "nbformat_minor": 5
}
