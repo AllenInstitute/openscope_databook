{
 "cells": [
  {
   "cell_type": "markdown",
   "metadata": {},
   "source": [
    "### Environment Setup"
   ]
  },
  {
   "cell_type": "code",
   "execution_count": null,
   "metadata": {},
   "outputs": [],
   "source": [
    "!pip install ipyvtklink"
   ]
  },
  {
   "cell_type": "markdown",
   "metadata": {},
   "source": [
    "### Creating a scene\n",
    "The scene-to-be-rendered is instantiated from a brain atlas within BrainGlobe's [Atlas API](https://gin.g-node.org/brainglobe/atlases). This is used to select a brain model. From there, you can select any number of brain regions to highlight in your render and how to color them."
   ]
  },
  {
   "cell_type": "code",
   "execution_count": null,
   "metadata": {},
   "outputs": [],
   "source": [
    "### sets up viewing window\n",
    "from vedo import embedWindow\n",
    "embedWindow(None)\n",
    "\n",
    "from brainrender import Scene\n",
    "from brainrender.actors import Points\n",
    "from brainrender._colors import get_random_colors"
   ]
  },
  {
   "cell_type": "code",
   "execution_count": null,
   "metadata": {},
   "outputs": [],
   "source": [
    "### instantiate the scene with allen mouse brain atlas and choose VISp to highlight\n",
    "### to choose a different atlas, refer to these filenames; https://gin.g-node.org/brainglobe/atlases\n",
    "scene = Scene(atlas_name=\"allen_mouse_25um\", title='Probes')\n",
    "scene.add_brain_region(\"VISp\", alpha=0.15, color=\"green\")"
   ]
  },
  {
   "cell_type": "code",
   "execution_count": null,
   "metadata": {},
   "outputs": [],
   "source": [
    "### above, VISp is selected for coloring. Multiple region arguments can be supplied if needed.\n",
    "### Region names and IDs can be viewed with each of these lines\n",
    "# print(scene.atlas.lookup_df.head())\n",
    "# print(scene.atlas.lookup_df)\n",
    "# print(scene.atlas.hierarchy)"
   ]
  },
  {
   "cell_type": "markdown",
   "metadata": {},
   "source": [
    "### Extract NWB CCF coordinates\n",
    "Here you read the NWB file you're interested in viewing. Note that this will only work with ecephys NWB files which have a valid **electrodes** field."
   ]
  },
  {
   "cell_type": "code",
   "execution_count": null,
   "metadata": {},
   "outputs": [],
   "source": [
    "### choose the file you want to visualize here\n",
    "nwb_filepath = \"test.nwb\""
   ]
  },
  {
   "cell_type": "code",
   "execution_count": null,
   "metadata": {
    "scrolled": true
   },
   "outputs": [],
   "source": [
    "from pynwb import NWBHDF5IO\n",
    "\n",
    "### read the nwb file\n",
    "io = NWBHDF5IO(nwb_filepath, mode=\"r\", load_namespaces=True)\n",
    "nwb = io.read()"
   ]
  },
  {
   "cell_type": "code",
   "execution_count": null,
   "metadata": {},
   "outputs": [],
   "source": [
    "import numpy as np\n",
    "\n",
    "### read the x,y,z ccf coordinates and generate points\n",
    "xs = nwb.electrodes.x\n",
    "ys = nwb.electrodes.y\n",
    "zs = nwb.electrodes.z\n",
    "n = min(len(xs), len(ys), len(zs))\n",
    "points = np.array([[xs[i], ys[i], zs[i]] for i in range(n)])"
   ]
  },
  {
   "cell_type": "code",
   "execution_count": null,
   "metadata": {},
   "outputs": [],
   "source": [
    "### add the points to the scene all as one color\n",
    "# scene.add(Points(points, name=\"units\", colors=\"red\"))\n",
    "\n",
    "### add the points to the scene, coloring them based on CCF location label\n",
    "for location in set(nwb.electrodes.location):\n",
    "    these_points = np.array([points[i] for i in range(n) if nwb.electrodes.location[i] == location])\n",
    "    scene.add(Points(these_points, colors=get_random_colors()))"
   ]
  },
  {
   "cell_type": "markdown",
   "metadata": {},
   "source": [
    "### Rendering\n",
    "Rendering is as simple as `scene.render()`.\n",
    "This will create a pop-up window with the interactive 3D rendering of your scene. \n",
    "When you're done with it, press \"Esc\" to close the window!"
   ]
  },
  {
   "cell_type": "code",
   "execution_count": null,
   "metadata": {},
   "outputs": [],
   "source": [
    "scene.render()"
   ]
  }
 ],
 "metadata": {
  "kernelspec": {
   "display_name": "Python 3 (ipykernel)",
   "language": "python",
   "name": "python3"
  },
  "language_info": {
   "codemirror_mode": {
    "name": "ipython",
    "version": 3
   },
   "file_extension": ".py",
   "mimetype": "text/x-python",
   "name": "python",
   "nbconvert_exporter": "python",
   "pygments_lexer": "ipython3",
   "version": "3.9.10"
  }
 },
 "nbformat": 4,
 "nbformat_minor": 2
}
