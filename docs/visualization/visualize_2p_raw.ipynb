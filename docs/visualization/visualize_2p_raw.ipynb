{
 "cells": [
  {
   "cell_type": "markdown",
   "id": "ceaea001",
   "metadata": {},
   "source": [
    "# Visualizing Raw 2-Photon Images\n",
    "Some Ophys NWB Files contain the raw imaging data from 2-Photon calcium imaging. The raw images, taken over time, make up a movie. Using mpl_interactions, we can view the data interactively. Since the raw data are very large, it's recommended that you stream it rather than download it."
   ]
  },
  {
   "cell_type": "markdown",
   "id": "c105bb53",
   "metadata": {},
   "source": [
    "### Environment Setup"
   ]
  },
  {
   "cell_type": "code",
   "execution_count": null,
   "id": "caafdc74",
   "metadata": {},
   "outputs": [],
   "source": [
    "from dandi import dandiapi\n",
    "import dandi\n",
    "import fsspec\n",
    "import pynwb\n",
    "import h5py\n",
    "from fsspec.implementations.cached import CachingFileSystem\n",
    "from nwbwidgets import nwb2widget\n",
    "from matplotlib import pyplot as plt\n",
    "import numpy as np\n",
    "from mpl_interactions import hyperslicer\n",
    "import ipywidgets as widgets\n",
    "\n",
    "%matplotlib ipympl"
   ]
  },
  {
   "cell_type": "markdown",
   "id": "6fc5c245",
   "metadata": {},
   "source": [
    "### Streaming 2P File\n",
    "Streaming a file from DANDI requires information about the file of interest. Set `dandiset_id` to be the ID of the dandiset you want, and set `filepath` to be the path of the file within the dandiset. The filepath can be found if you press on the `i` icon of a file and copy the `path` field that shows up in the resulting JSON. If you are accessing embargoed data, you will need to set `authenticate` to True, and `dandi_api_key` to your dandi api key."
   ]
  },
  {
   "cell_type": "code",
   "execution_count": null,
   "id": "6838d879",
   "metadata": {},
   "outputs": [],
   "source": [
    "dandiset_id = \"\"\n",
    "filepath = \"\"\n",
    "authenticate = False\n",
    "dandi_api_key = \"\""
   ]
  },
  {
   "cell_type": "code",
   "execution_count": null,
   "id": "3adf499f",
   "metadata": {},
   "outputs": [],
   "source": [
    "if authenticate:\n",
    "    client = dandiapi.DandiAPIClient(token=dandi_api_key)\n",
    "else:\n",
    "    client = dandiapi.DandiAPIClient()\n",
    "my_dandiset = client.get_dandiset(dandiset_id)\n",
    "\n",
    "file = my_dandiset.get_asset_by_path(filepath)\n",
    "base_url = file.client.session.head(file.base_download_url)\n",
    "file_url = base_url.headers['Location']\n",
    "\n",
    "print(f\"Retrieved file url {file_url}\")"
   ]
  },
  {
   "cell_type": "code",
   "execution_count": null,
   "id": "a3061ab7",
   "metadata": {},
   "outputs": [],
   "source": [
    "fs = CachingFileSystem(\n",
    "    fs=fsspec.filesystem(\"http\"),\n",
    "    cache_storage=\"nwb-cache\",  # Local folder for the cache\n",
    ")\n",
    "\n",
    "# opening may take awhile on a large file\n",
    "f = fs.open(file_url, \"rb\")\n",
    "file = h5py.File(f)\n",
    "io = pynwb.NWBHDF5IO(file=file, mode='r', load_namespaces=True)\n",
    "nwb = io.read()"
   ]
  },
  {
   "cell_type": "markdown",
   "id": "8f7f1dbd",
   "metadata": {},
   "source": [
    "### Extracting Fluorescence"
   ]
  },
  {
   "cell_type": "code",
   "execution_count": null,
   "id": "9202cf28",
   "metadata": {},
   "outputs": [],
   "source": [
    "dff = nwb.processing[\"ophys\"][\"dff\"]\n",
    "dff_trace = dff.roi_response_series[\"traces\"].data\n",
    "dff_timestamps = dff.roi_response_series[\"traces\"].timestamps\n",
    "\n",
    "print(dff_timestamps.shape)\n",
    "print(dff_trace.shape)\n",
    "\n",
    "flr = nwb.processing[\"ophys\"][\"corrected_fluorescence\"]\n",
    "flr_trace = flr.roi_response_series[\"traces\"].data\n",
    "flr_timestamps = flr.roi_response_series[\"traces\"].timestamps\n",
    "\n",
    "print(flr_timestamps.shape)\n",
    "print(flr_trace.shape)"
   ]
  },
  {
   "cell_type": "markdown",
   "id": "be768832",
   "metadata": {},
   "source": [
    "### Extracting Regions of Interest"
   ]
  },
  {
   "cell_type": "code",
   "execution_count": null,
   "id": "6cbef890",
   "metadata": {},
   "outputs": [],
   "source": [
    "roi_masks = np.array(nwb.processing[\"ophys\"][\"images\"][\"segmentation_mask_image\"])\n",
    "print(roi_masks.shape)"
   ]
  },
  {
   "cell_type": "markdown",
   "id": "54857bea",
   "metadata": {},
   "source": [
    "### Extracting 2P Movie"
   ]
  },
  {
   "cell_type": "code",
   "execution_count": null,
   "id": "3d12fa12",
   "metadata": {},
   "outputs": [],
   "source": [
    "two_p = nwb.acquisition[\"raw_suite2p_motion_corrected\"].data\n",
    "print(two_p.shape)"
   ]
  },
  {
   "cell_type": "markdown",
   "id": "53f0a34b",
   "metadata": {},
   "source": [
    "### Viewing the Data\n",
    "You can view the Fluorescence and DF/F traces below with matplotlib. You can set an individual `roi` whose fluorescence trace to view. If `roi` is None, it will plot all of them. You can also view the 2P video with mpl_interactions.hyperslicer. The number of frames is printed in the first cell below. Because the image data are so large, it is advised the you select a subsection of these images to view. Set `start_frame` to the first image you want to be displayed, and `end_frame` to be the last. The larger this interval, the longer it will take to display. It is recommended the interval is less than 2000."
   ]
  },
  {
   "cell_type": "code",
   "execution_count": null,
   "id": "b4421116",
   "metadata": {},
   "outputs": [],
   "source": [
    "start_frame = 0\n",
    "end_frame = start_frame + 200\n",
    "roi = None"
   ]
  },
  {
   "cell_type": "markdown",
   "id": "f78cc4a1",
   "metadata": {},
   "source": [
    "#### Fluorescence Trace"
   ]
  },
  {
   "cell_type": "code",
   "execution_count": null,
   "id": "b92ef34b",
   "metadata": {},
   "outputs": [],
   "source": [
    "fig, ax = plt.subplots(figsize=(8,6))\n",
    "if roi == None:\n",
    "    ax.plot(flr_timestamps[start_frame: end_frame], flr_trace[start_frame: end_frame])\n",
    "else:\n",
    "    ax.plot(flr_timestamps[start_frame: end_frame], flr_trace[start_frame: end_frame, roi])\n",
    "\n",
    "plt.ylabel(\"fluorescence\")   \n",
    "plt.xlabel(\"time\")\n",
    "plt.show()"
   ]
  },
  {
   "cell_type": "markdown",
   "id": "299e4463",
   "metadata": {},
   "source": [
    "#### DFF Trace"
   ]
  },
  {
   "cell_type": "code",
   "execution_count": null,
   "id": "b776edf5",
   "metadata": {},
   "outputs": [],
   "source": [
    "fig, ax = plt.subplots(figsize=(8,6))\n",
    "if roi == None:\n",
    "    ax.plot(dff_timestamps[start_frame: end_frame], dff_trace[start_frame: end_frame]*100)\n",
    "else:\n",
    "    ax.plot(dff_timestamps[start_frame: end_frame], dff_trace[start_frame: end_frame, roi]*100)\n",
    "\n",
    "plt.ylabel(\"DF/F\")\n",
    "plt.xlabel(\"time\")\n",
    "plt.show()"
   ]
  },
  {
   "cell_type": "markdown",
   "id": "9f4cfc3e",
   "metadata": {},
   "source": [
    "#### Regions of Interest Mask"
   ]
  },
  {
   "cell_type": "code",
   "execution_count": null,
   "id": "374cd76f",
   "metadata": {
    "scrolled": false
   },
   "outputs": [],
   "source": [
    "fig, ax = plt.subplots()\n",
    "plt.tick_params(left=False, bottom=False, labelleft=False, labelbottom=False)\n",
    "plt.imshow(roi_masks)"
   ]
  },
  {
   "cell_type": "markdown",
   "id": "63da8fd8",
   "metadata": {},
   "source": [
    "#### 2P Movie with ROI Mask"
   ]
  },
  {
   "cell_type": "code",
   "execution_count": null,
   "id": "39cf25a8",
   "metadata": {},
   "outputs": [],
   "source": [
    "### overlaying ROIs onto 2p movie\n",
    "two_p_subset = np.array(two_p[start_frame:end_frame])\n",
    "roi_masks_3d = np.reshape(roi_masks, (1,) + roi_masks.shape)\n",
    "m = two_p_subset.mean()\n",
    "roi_masks_3d = np.multiply(roi_masks_3d, m*10)\n",
    "two_p_masked = np.add(two_p_subset, roi_masks_3d)"
   ]
  },
  {
   "cell_type": "code",
   "execution_count": null,
   "id": "e6daff8d",
   "metadata": {
    "scrolled": false
   },
   "outputs": [],
   "source": [
    "fig, ax = plt.subplots()\n",
    "plt.tick_params(left=False, bottom=False, labelleft=False, labelbottom=False)\n",
    "view = hyperslicer(two_p_masked,play_buttons=True)"
   ]
  }
 ],
 "metadata": {
  "kernelspec": {
   "display_name": "Python 3 (ipykernel)",
   "language": "python",
   "name": "python3"
  },
  "language_info": {
   "codemirror_mode": {
    "name": "ipython",
    "version": 3
   },
   "file_extension": ".py",
   "mimetype": "text/x-python",
   "name": "python",
   "nbconvert_exporter": "python",
   "pygments_lexer": "ipython3",
   "version": "3.9.10"
  }
 },
 "nbformat": 4,
 "nbformat_minor": 5
}
