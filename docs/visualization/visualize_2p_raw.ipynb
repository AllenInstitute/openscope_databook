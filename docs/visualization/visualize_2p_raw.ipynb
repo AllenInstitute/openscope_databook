{
 "cells": [
  {
   "cell_type": "markdown",
   "id": "ceaea001",
   "metadata": {},
   "source": [
    "# Visualizing Raw 2-Photon Images\n",
    "Some Ophys NWB Files contain the raw imaging data from 2-Photon calcium imaging. The raw images, taken over time, make up a movie. Using mpl_interactions, we can view the data interactively. Since the raw data are very large, it's recommended that you stream it rather than download it."
   ]
  },
  {
   "cell_type": "markdown",
   "id": "c105bb53",
   "metadata": {},
   "source": [
    "### Environment Setup"
   ]
  },
  {
   "cell_type": "code",
   "execution_count": null,
   "id": "caafdc74",
   "metadata": {},
   "outputs": [],
   "source": [
    "from dandi import dandiapi\n",
    "import dandi\n",
    "import fsspec\n",
    "import pynwb\n",
    "import h5py\n",
    "from fsspec.implementations.cached import CachingFileSystem\n",
    "from nwbwidgets import nwb2widget\n",
    "from matplotlib import pyplot as plt\n",
    "import numpy as np\n",
    "from mpl_interactions import hyperslicer\n",
    "import ipywidgets as widgets"
   ]
  },
  {
   "cell_type": "markdown",
   "id": "6fc5c245",
   "metadata": {},
   "source": [
    "### Streaming 2P File\n",
    "Streaming a file from DANDI requires information about the file of interest. Set `dandiset_id` to be the ID of the dandiset you want, and set `filepath` to be the path of the file within the dandiset. The filepath can be found if you press on the `i` icon of a file and copy the `path` field that shows up in the resulting JSON. If you are accessing embargoed data, you will need to set `authenticate` to True, and `dandi_api_key` to your dandi api key."
   ]
  },
  {
   "cell_type": "code",
   "execution_count": null,
   "id": "6838d879",
   "metadata": {},
   "outputs": [],
   "source": [
    "dandiset_id = \"000336\"\n",
    "filepath = \"1222982421/1222982421/1223100234_raw.nwb\"\n",
    "authenticate = True\n",
    "dandi_api_key = \"5c1eb544e6870c4c2ea676d22312cefb73e161e1\""
   ]
  },
  {
   "cell_type": "code",
   "execution_count": null,
   "id": "3adf499f",
   "metadata": {},
   "outputs": [],
   "source": [
    "if authenticate:\n",
    "    client = dandiapi.DandiAPIClient(token=dandi_api_key)\n",
    "else:\n",
    "    client = dandiapi.DandiAPIClient()\n",
    "my_dandiset = client.get_dandiset(dandiset_id)\n",
    "\n",
    "file = my_dandiset.get_asset_by_path(filepath)\n",
    "base_url = file.client.session.head(file.base_download_url)\n",
    "file_url = base_url.headers['Location']\n",
    "\n",
    "print(f\"Retrieved file url {file_url}\")"
   ]
  },
  {
   "cell_type": "code",
   "execution_count": null,
   "id": "a3061ab7",
   "metadata": {},
   "outputs": [],
   "source": [
    "fs = CachingFileSystem(\n",
    "    fs=fsspec.filesystem(\"http\"),\n",
    "    cache_storage=\"nwb-cache\",  # Local folder for the cache\n",
    ")\n",
    "\n",
    "f = fs.open(file_url, \"rb\")\n",
    "file = h5py.File(f)\n",
    "io = pynwb.NWBHDF5IO(file=file, mode='r', load_namespaces=True)\n",
    "nwb = io.read()"
   ]
  },
  {
   "cell_type": "code",
   "execution_count": null,
   "id": "aac0aedf",
   "metadata": {},
   "outputs": [],
   "source": [
    "io = pynwb.NWBHDF5IO(\"../../../data/dendrite_coupling/1223100234_raw.nwb\", mode='r', load_namespaces=True)\n",
    "nwb = io.read()"
   ]
  },
  {
   "cell_type": "markdown",
   "id": "66288584",
   "metadata": {},
   "source": [
    "### TODO\n",
    "We need to extract:\n",
    "1. raw data\n",
    "2. dff\n",
    "3. corrected fluorescence\n",
    "4. ROIs\n",
    "\n",
    "tasks:\n",
    "plot dff and fluorescence\n",
    "plot raw over time\n",
    "overlay ROIs onto raw slices"
   ]
  },
  {
   "cell_type": "markdown",
   "id": "8f7f1dbd",
   "metadata": {},
   "source": [
    "### Extracting Fluorescence"
   ]
  },
  {
   "cell_type": "code",
   "execution_count": null,
   "id": "9202cf28",
   "metadata": {},
   "outputs": [],
   "source": [
    "dff = nwb.processing[\"ophys\"][\"dff\"]\n",
    "dff_trace = dff.roi_response_series[\"traces\"].data\n",
    "dff_timestamps = dff.roi_response_series[\"traces\"].timestamps\n",
    "\n",
    "flr = nwb.processing[\"ophys\"][\"corrected_fluorescence\"]\n",
    "flr_trace = flr.roi_response_series[\"traces\"].data\n",
    "flr_timestamps = flr.roi_response_series[\"traces\"].timestamps"
   ]
  },
  {
   "cell_type": "code",
   "execution_count": null,
   "id": "2ae764e6",
   "metadata": {},
   "outputs": [],
   "source": [
    "dff_trace"
   ]
  },
  {
   "cell_type": "code",
   "execution_count": null,
   "id": "618bd16d",
   "metadata": {},
   "outputs": [],
   "source": [
    "nwb.imaging_planes"
   ]
  },
  {
   "cell_type": "code",
   "execution_count": null,
   "id": "9c4986e9",
   "metadata": {},
   "outputs": [],
   "source": [
    "dff_trace.shape"
   ]
  },
  {
   "cell_type": "markdown",
   "id": "54857bea",
   "metadata": {},
   "source": [
    "### Extracting 2P Movie"
   ]
  },
  {
   "cell_type": "code",
   "execution_count": null,
   "id": "3d12fa12",
   "metadata": {},
   "outputs": [],
   "source": [
    "two_p = nwb.acquisition[\"raw_suite2p_motion_corrected\"].data\n",
    "print(two_p.shape[0])"
   ]
  },
  {
   "cell_type": "markdown",
   "id": "be768832",
   "metadata": {},
   "source": [
    "### Extracting Regions of Interest"
   ]
  },
  {
   "cell_type": "code",
   "execution_count": null,
   "id": "3c7c4ee7",
   "metadata": {
    "scrolled": true
   },
   "outputs": [],
   "source": [
    "roi_masks = nwb.processing[\"ophys\"][\"image_segmentation\"].plane_segmentations[\"cell_specimen_table\"].image_mask\n",
    "roi_masks[:100]"
   ]
  },
  {
   "cell_type": "code",
   "execution_count": null,
   "id": "6cbef890",
   "metadata": {},
   "outputs": [],
   "source": [
    "roi_masks = np.array(nwb.processing[\"ophys\"][\"images\"][\"segmentation_mask_image\"])\n",
    "print(roi_masks)"
   ]
  },
  {
   "cell_type": "markdown",
   "id": "71c75d3b",
   "metadata": {},
   "source": [
    "### Aligning 2P Movie with Fluorescence"
   ]
  },
  {
   "cell_type": "code",
   "execution_count": null,
   "id": "54e177b5",
   "metadata": {},
   "outputs": [],
   "source": [
    "%matplotlib ipympl\n"
   ]
  },
  {
   "cell_type": "markdown",
   "id": "53f0a34b",
   "metadata": {},
   "source": [
    "### Viewing the Images\n",
    "We can view the images with mpl_interactions.hyperslicer. The number of frames is printed in the first cell below. Because the image data are so large, it is advised the you select a subsection of these images to view. Set `start_frame` to the first image you want to be displayed, and `end_frame` to be the last. The larger this interval, the longer it will take to display. It is recommended the interval is less than 2000."
   ]
  },
  {
   "cell_type": "code",
   "execution_count": null,
   "id": "b4421116",
   "metadata": {},
   "outputs": [],
   "source": [
    "start_frame = 0\n",
    "end_frame = start_frame + 200\n",
    "two_p_subset = np.array(two_p[start_frame:end_frame])"
   ]
  },
  {
   "cell_type": "code",
   "execution_count": null,
   "id": "b776edf5",
   "metadata": {},
   "outputs": [],
   "source": [
    "%matplotlib\n",
    "\n",
    "print(dff_timestamps.shape)\n",
    "print(dff_trace.shape)\n",
    "\n",
    "fig, ax = plt.subplots(figsize=(8,6))\n",
    "ax.plot(dff_timestamps[start_frame: end_frame], dff_trace[start_frame: end_frame])\n",
    "\n",
    "plt.show()"
   ]
  },
  {
   "cell_type": "code",
   "execution_count": null,
   "id": "39cf25a8",
   "metadata": {},
   "outputs": [],
   "source": [
    "roi_masks_3d = np.reshape(roi_masks, (1,) + roi_masks.shape)\n",
    "m = two_p_subset.mean()\n",
    "roi_masks_3d = np.multiply(roi_masks_3d, m*10)\n",
    "\n",
    "two_p_masked = np.add(two_p_subset, roi_masks_3d)"
   ]
  },
  {
   "cell_type": "code",
   "execution_count": null,
   "id": "c7d92af0",
   "metadata": {},
   "outputs": [],
   "source": [
    "print(two_p_subset.shape)\n",
    "print(roi_masks.shape)\n",
    "print(two_p_masked.shape)"
   ]
  },
  {
   "cell_type": "code",
   "execution_count": null,
   "id": "374cd76f",
   "metadata": {},
   "outputs": [],
   "source": [
    "%matplotlib ipympl\n",
    "plt.imshow(roi_masks)"
   ]
  },
  {
   "cell_type": "code",
   "execution_count": null,
   "id": "e6daff8d",
   "metadata": {
    "scrolled": true
   },
   "outputs": [],
   "source": [
    "%matplotlib ipympl\n",
    "# iplt.imshow(data, interpolation='nearest')\n",
    "fig, ax = plt.subplots()\n",
    "#plt.imshow(roi_masks)\n",
    "view = hyperslicer(two_p_masked,play_buttons=True)"
   ]
  },
  {
   "cell_type": "code",
   "execution_count": null,
   "id": "dc606279",
   "metadata": {},
   "outputs": [],
   "source": []
  }
 ],
 "metadata": {
  "kernelspec": {
   "display_name": "Python 3 (ipykernel)",
   "language": "python",
   "name": "python3"
  },
  "language_info": {
   "codemirror_mode": {
    "name": "ipython",
    "version": 3
   },
   "file_extension": ".py",
   "mimetype": "text/x-python",
   "name": "python",
   "nbconvert_exporter": "python",
   "pygments_lexer": "ipython3",
   "version": "3.9.10"
  }
 },
 "nbformat": 4,
 "nbformat_minor": 5
}
