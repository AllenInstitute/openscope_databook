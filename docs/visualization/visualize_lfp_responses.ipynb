{
 "cells": [
  {
   "cell_type": "markdown",
   "id": "410df685",
   "metadata": {},
   "source": [
    "### Environment setup"
   ]
  },
  {
   "cell_type": "code",
   "execution_count": null,
   "id": "64b761ea",
   "metadata": {},
   "outputs": [],
   "source": [
    "!pip install pynwb\n",
    "!pip install matplotlib"
   ]
  },
  {
   "cell_type": "code",
   "execution_count": null,
   "id": "c129290b",
   "metadata": {},
   "outputs": [],
   "source": [
    "!pip install scipy"
   ]
  },
  {
   "cell_type": "code",
   "execution_count": 1,
   "id": "2bbff7f6",
   "metadata": {},
   "outputs": [],
   "source": [
    "from pynwb import NWBHDF5IO\n",
    "from scipy import interpolate\n",
    "import numpy as np\n",
    "import matplotlib.pyplot as plt"
   ]
  },
  {
   "cell_type": "markdown",
   "id": "ba7c58a4",
   "metadata": {},
   "source": [
    "### Read NWB files"
   ]
  },
  {
   "cell_type": "code",
   "execution_count": 2,
   "id": "9785874d",
   "metadata": {},
   "outputs": [],
   "source": [
    "lfp_filepath = \"../../../data/Illusion/lfp_testing/probeA_lfp.nwb\"\n",
    "stim_filepath = \"../../../data/Illusion/lfp_testing/spike_times.nwb\""
   ]
  },
  {
   "cell_type": "code",
   "execution_count": 3,
   "id": "30b8e55e",
   "metadata": {},
   "outputs": [
    {
     "name": "stderr",
     "output_type": "stream",
     "text": [
      "C:\\Users\\rcpee\\miniconda3\\envs\\databook\\lib\\site-packages\\hdmf\\spec\\namespace.py:531: UserWarning: Ignoring cached namespace 'hdmf-common' version 1.5.0 because version 1.5.1 is already loaded.\n",
      "  warn(\"Ignoring cached namespace '%s' version %s because version %s is already loaded.\"\n",
      "C:\\Users\\rcpee\\miniconda3\\envs\\databook\\lib\\site-packages\\hdmf\\spec\\namespace.py:531: UserWarning: Ignoring cached namespace 'core' version 2.4.0 because version 2.5.0 is already loaded.\n",
      "  warn(\"Ignoring cached namespace '%s' version %s because version %s is already loaded.\"\n",
      "C:\\Users\\rcpee\\miniconda3\\envs\\databook\\lib\\site-packages\\hdmf\\spec\\namespace.py:531: UserWarning: Ignoring cached namespace 'hdmf-experimental' version 0.1.0 because version 0.2.0 is already loaded.\n",
      "  warn(\"Ignoring cached namespace '%s' version %s because version %s is already loaded.\"\n"
     ]
    }
   ],
   "source": [
    "lfp_io = NWBHDF5IO(lfp_filepath, mode=\"r\", load_namespaces=True)\n",
    "lfp_file = lfp_io.read()\n",
    "stim_io = NWBHDF5IO(stim_filepath, mode=\"r\", load_namespaces=True)\n",
    "stim_file = stim_io.read() "
   ]
  },
  {
   "cell_type": "code",
   "execution_count": 4,
   "id": "b370450a",
   "metadata": {},
   "outputs": [],
   "source": [
    "lfp = lfp_file.acquisition[\"probe_0_lfp_data\"]\n",
    "series = lfp.data"
   ]
  },
  {
   "cell_type": "code",
   "execution_count": 5,
   "id": "19235113",
   "metadata": {},
   "outputs": [
    {
     "name": "stdout",
     "output_type": "stream",
     "text": [
      "['ICkcfg0_presentations', 'ICkcfg1_presentations', 'ICwcfg0_presentations', 'ICwcfg1_presentations', 'RFCI_presentations', 'invalid_times', 'sizeCI_presentations', 'spontaneous_presentations']\n"
     ]
    }
   ],
   "source": [
    "stimulus_names = list(stim_file.intervals.keys())\n",
    "print(stimulus_names)"
   ]
  },
  {
   "cell_type": "markdown",
   "id": "601f0366",
   "metadata": {},
   "source": [
    "### Visualizing stimuli"
   ]
  },
  {
   "cell_type": "code",
   "execution_count": 6,
   "id": "f0f8292f",
   "metadata": {},
   "outputs": [
    {
     "name": "stdout",
     "output_type": "stream",
     "text": [
      "{0.0, 1.0, 2.0, 3.0, 4.0, 5.0, 6.0, 7.0, 8.0, 9.0, 10.0, 11.0, 12.0, 13.0, 14.0, 15.0, 16.0, 17.0, 18.0, 19.0, 20.0, 21.0}\n"
     ]
    }
   ],
   "source": [
    "stim_name = \"ICwcfg1_presentations\"\n",
    "stim_table = stim_file.intervals[stim_name]\n",
    "\n",
    "print({frame for frame in stim_table.frame})"
   ]
  },
  {
   "cell_type": "code",
   "execution_count": 7,
   "id": "16218cf0",
   "metadata": {},
   "outputs": [
    {
     "name": "stdout",
     "output_type": "stream",
     "text": [
      "    start_time   stop_time stimulus_name  stimulus_block  frame  \\\n",
      "id                                                                \n",
      "0    99.256575   99.656919       ICwcfg1             0.0    0.0   \n",
      "1    99.656919  100.057262       ICwcfg1             0.0    0.0   \n",
      "2   100.057262  100.457598       ICwcfg1             0.0    0.0   \n",
      "3   100.457598  100.857927       ICwcfg1             0.0    0.0   \n",
      "4   100.857927  101.258255       ICwcfg1             0.0    0.0   \n",
      "5   101.258255  101.658603       ICwcfg1             0.0    0.0   \n",
      "6   101.658603  102.058950       ICwcfg1             0.0    0.0   \n",
      "7   102.058950  102.459292       ICwcfg1             0.0    0.0   \n",
      "8   102.459292  102.859629       ICwcfg1             0.0    0.0   \n",
      "9   102.859629  103.259965       ICwcfg1             0.0    0.0   \n",
      "10  103.259965  103.660305       ICwcfg1             0.0    0.0   \n",
      "11  103.660305  104.060644       ICwcfg1             0.0    0.0   \n",
      "12  104.060644  104.460976       ICwcfg1             0.0    0.0   \n",
      "13  104.460976  104.861301       ICwcfg1             0.0    0.0   \n",
      "14  104.861301  105.261625       ICwcfg1             0.0    0.0   \n",
      "15  105.261625  105.661977       ICwcfg1             0.0    0.0   \n",
      "16  105.661977  106.062328       ICwcfg1             0.0    0.0   \n",
      "17  106.062328  106.462662       ICwcfg1             0.0    0.0   \n",
      "18  106.462662  106.862979       ICwcfg1             0.0    0.0   \n",
      "19  106.862979  107.263295       ICwcfg1             0.0    0.0   \n",
      "20  107.263295  107.663651       ICwcfg1             0.0    0.0   \n",
      "21  107.663651  108.064006       ICwcfg1             0.0    0.0   \n",
      "22  108.064006  108.464336       ICwcfg1             0.0    0.0   \n",
      "23  108.464336  108.864641       ICwcfg1             0.0    0.0   \n",
      "24  108.864641  109.264945       ICwcfg1             0.0    0.0   \n",
      "25  109.264945  109.665317       ICwcfg1             0.0    0.0   \n",
      "26  109.665317  110.065688       ICwcfg1             0.0    0.0   \n",
      "27  110.065688  110.466034       ICwcfg1             0.0    0.0   \n",
      "28  110.466034  110.866355       ICwcfg1             0.0    0.0   \n",
      "29  110.866355  111.266675       ICwcfg1             0.0    0.0   \n",
      "30  111.266675  111.667035       ICwcfg1             0.0    0.0   \n",
      "31  111.667035  112.067394       ICwcfg1             0.0    0.0   \n",
      "32  112.067394  112.467730       ICwcfg1             0.0    0.0   \n",
      "33  112.467730  112.868043       ICwcfg1             0.0    0.0   \n",
      "34  112.868043  113.268355       ICwcfg1             0.0    0.0   \n",
      "35  113.268355  113.668707       ICwcfg1             0.0    0.0   \n",
      "36  113.668707  114.069058       ICwcfg1             0.0    0.0   \n",
      "37  114.069058  114.469392       ICwcfg1             0.0    0.0   \n",
      "38  114.469392  114.869709       ICwcfg1             0.0    0.0   \n",
      "39  114.869709  115.270025       ICwcfg1             0.0    0.0   \n",
      "40  115.270025  115.670377       ICwcfg1             0.0    0.0   \n",
      "41  115.670377  116.070728       ICwcfg1             0.0    0.0   \n",
      "42  116.070728  116.471068       ICwcfg1             0.0    0.0   \n",
      "43  116.471068  116.871397       ICwcfg1             0.0    0.0   \n",
      "44  116.871397  117.271725       ICwcfg1             0.0    0.0   \n",
      "45  117.271725  117.672081       ICwcfg1             0.0    0.0   \n",
      "46  117.672081  118.072436       ICwcfg1             0.0    0.0   \n",
      "47  118.072436  118.472770       ICwcfg1             0.0    0.0   \n",
      "48  118.472770  118.873083       ICwcfg1             0.0    0.0   \n",
      "49  118.873083  119.273395       ICwcfg1             0.0    0.0   \n",
      "\n",
      "    stimulus_index                      tags  \\\n",
      "id                                             \n",
      "0              0.0  [stimulus_time_interval]   \n",
      "1              0.0  [stimulus_time_interval]   \n",
      "2              0.0  [stimulus_time_interval]   \n",
      "3              0.0  [stimulus_time_interval]   \n",
      "4              0.0  [stimulus_time_interval]   \n",
      "5              0.0  [stimulus_time_interval]   \n",
      "6              0.0  [stimulus_time_interval]   \n",
      "7              0.0  [stimulus_time_interval]   \n",
      "8              0.0  [stimulus_time_interval]   \n",
      "9              0.0  [stimulus_time_interval]   \n",
      "10             0.0  [stimulus_time_interval]   \n",
      "11             0.0  [stimulus_time_interval]   \n",
      "12             0.0  [stimulus_time_interval]   \n",
      "13             0.0  [stimulus_time_interval]   \n",
      "14             0.0  [stimulus_time_interval]   \n",
      "15             0.0  [stimulus_time_interval]   \n",
      "16             0.0  [stimulus_time_interval]   \n",
      "17             0.0  [stimulus_time_interval]   \n",
      "18             0.0  [stimulus_time_interval]   \n",
      "19             0.0  [stimulus_time_interval]   \n",
      "20             0.0  [stimulus_time_interval]   \n",
      "21             0.0  [stimulus_time_interval]   \n",
      "22             0.0  [stimulus_time_interval]   \n",
      "23             0.0  [stimulus_time_interval]   \n",
      "24             0.0  [stimulus_time_interval]   \n",
      "25             0.0  [stimulus_time_interval]   \n",
      "26             0.0  [stimulus_time_interval]   \n",
      "27             0.0  [stimulus_time_interval]   \n",
      "28             0.0  [stimulus_time_interval]   \n",
      "29             0.0  [stimulus_time_interval]   \n",
      "30             0.0  [stimulus_time_interval]   \n",
      "31             0.0  [stimulus_time_interval]   \n",
      "32             0.0  [stimulus_time_interval]   \n",
      "33             0.0  [stimulus_time_interval]   \n",
      "34             0.0  [stimulus_time_interval]   \n",
      "35             0.0  [stimulus_time_interval]   \n",
      "36             0.0  [stimulus_time_interval]   \n",
      "37             0.0  [stimulus_time_interval]   \n",
      "38             0.0  [stimulus_time_interval]   \n",
      "39             0.0  [stimulus_time_interval]   \n",
      "40             0.0  [stimulus_time_interval]   \n",
      "41             0.0  [stimulus_time_interval]   \n",
      "42             0.0  [stimulus_time_interval]   \n",
      "43             0.0  [stimulus_time_interval]   \n",
      "44             0.0  [stimulus_time_interval]   \n",
      "45             0.0  [stimulus_time_interval]   \n",
      "46             0.0  [stimulus_time_interval]   \n",
      "47             0.0  [stimulus_time_interval]   \n",
      "48             0.0  [stimulus_time_interval]   \n",
      "49             0.0  [stimulus_time_interval]   \n",
      "\n",
      "                                           timeseries  \n",
      "id                                                     \n",
      "0   [(1, 1, timestamps pynwb.base.TimeSeries at 0x...  \n",
      "1   [(2, 1, timestamps pynwb.base.TimeSeries at 0x...  \n",
      "2   [(3, 1, timestamps pynwb.base.TimeSeries at 0x...  \n",
      "3   [(4, 1, timestamps pynwb.base.TimeSeries at 0x...  \n",
      "4   [(5, 1, timestamps pynwb.base.TimeSeries at 0x...  \n",
      "5   [(6, 1, timestamps pynwb.base.TimeSeries at 0x...  \n",
      "6   [(7, 1, timestamps pynwb.base.TimeSeries at 0x...  \n",
      "7   [(8, 1, timestamps pynwb.base.TimeSeries at 0x...  \n",
      "8   [(9, 1, timestamps pynwb.base.TimeSeries at 0x...  \n",
      "9   [(10, 1, timestamps pynwb.base.TimeSeries at 0...  \n",
      "10  [(11, 1, timestamps pynwb.base.TimeSeries at 0...  \n",
      "11  [(12, 1, timestamps pynwb.base.TimeSeries at 0...  \n",
      "12  [(13, 1, timestamps pynwb.base.TimeSeries at 0...  \n",
      "13  [(14, 1, timestamps pynwb.base.TimeSeries at 0...  \n",
      "14  [(15, 1, timestamps pynwb.base.TimeSeries at 0...  \n",
      "15  [(16, 1, timestamps pynwb.base.TimeSeries at 0...  \n",
      "16  [(17, 1, timestamps pynwb.base.TimeSeries at 0...  \n",
      "17  [(18, 1, timestamps pynwb.base.TimeSeries at 0...  \n",
      "18  [(19, 1, timestamps pynwb.base.TimeSeries at 0...  \n",
      "19  [(20, 1, timestamps pynwb.base.TimeSeries at 0...  \n",
      "20  [(21, 1, timestamps pynwb.base.TimeSeries at 0...  \n",
      "21  [(22, 1, timestamps pynwb.base.TimeSeries at 0...  \n",
      "22  [(23, 1, timestamps pynwb.base.TimeSeries at 0...  \n",
      "23  [(24, 1, timestamps pynwb.base.TimeSeries at 0...  \n",
      "24  [(25, 1, timestamps pynwb.base.TimeSeries at 0...  \n",
      "25  [(26, 1, timestamps pynwb.base.TimeSeries at 0...  \n",
      "26  [(27, 1, timestamps pynwb.base.TimeSeries at 0...  \n",
      "27  [(28, 1, timestamps pynwb.base.TimeSeries at 0...  \n",
      "28  [(29, 1, timestamps pynwb.base.TimeSeries at 0...  \n",
      "29  [(30, 1, timestamps pynwb.base.TimeSeries at 0...  \n",
      "30  [(31, 1, timestamps pynwb.base.TimeSeries at 0...  \n",
      "31  [(32, 1, timestamps pynwb.base.TimeSeries at 0...  \n",
      "32  [(33, 1, timestamps pynwb.base.TimeSeries at 0...  \n",
      "33  [(34, 1, timestamps pynwb.base.TimeSeries at 0...  \n",
      "34  [(35, 1, timestamps pynwb.base.TimeSeries at 0...  \n",
      "35  [(36, 1, timestamps pynwb.base.TimeSeries at 0...  \n",
      "36  [(37, 1, timestamps pynwb.base.TimeSeries at 0...  \n",
      "37  [(38, 1, timestamps pynwb.base.TimeSeries at 0...  \n",
      "38  [(39, 1, timestamps pynwb.base.TimeSeries at 0...  \n",
      "39  [(40, 1, timestamps pynwb.base.TimeSeries at 0...  \n",
      "40  [(41, 1, timestamps pynwb.base.TimeSeries at 0...  \n",
      "41  [(42, 1, timestamps pynwb.base.TimeSeries at 0...  \n",
      "42  [(43, 1, timestamps pynwb.base.TimeSeries at 0...  \n",
      "43  [(44, 1, timestamps pynwb.base.TimeSeries at 0...  \n",
      "44  [(45, 1, timestamps pynwb.base.TimeSeries at 0...  \n",
      "45  [(46, 1, timestamps pynwb.base.TimeSeries at 0...  \n",
      "46  [(47, 1, timestamps pynwb.base.TimeSeries at 0...  \n",
      "47  [(48, 1, timestamps pynwb.base.TimeSeries at 0...  \n",
      "48  [(49, 1, timestamps pynwb.base.TimeSeries at 0...  \n"
     ]
    },
    {
     "name": "stdout",
     "output_type": "stream",
     "text": [
      "49  [(50, 1, timestamps pynwb.base.TimeSeries at 0...  \n"
     ]
    }
   ],
   "source": [
    "print(stim_table[0:50])"
   ]
  },
  {
   "cell_type": "code",
   "execution_count": 8,
   "id": "c952a3fc",
   "metadata": {},
   "outputs": [],
   "source": [
    "select_frame = 13.0"
   ]
  },
  {
   "cell_type": "code",
   "execution_count": 9,
   "id": "dcf1af61",
   "metadata": {
    "scrolled": true
   },
   "outputs": [
    {
     "name": "stdout",
     "output_type": "stream",
     "text": [
      "[128.08084646720096, 139.29023498262623, 142.492946467201, 148.09768446720096, 175.32051498262624, 188.13134646720096, 236.17172846720095, 242.577108467201, 250.583848467201, 254.58722046720095, 260.19194246720093, 329.8504967249136, 343.4619449826262, 347.4652849826262, 358.6747204672009, 363.47873498262624, 370.68482046720095, 371.4854849826263, 375.4888249826262, 377.0902127249136, 411.51910498262623, 428.33328046720095, 447.5494449826262, 481.9783927249136, 502.795910467201, 505.9985747249136, 510.802626467201, 523.6133649826262, 526.0154287249137, 529.2181067249136, 541.2282127249135, 551.6369649826262, 559.6436749826262, 562.846384467201, 571.6537649826262, 589.2686027249135, 590.0692787249136, 592.4712984672009, 596.474656467201, 603.6807049826263, 614.890148467201, 617.2921567249136, 618.0928247249136, 630.903616467201, 651.7210749826262, 661.3291587249136, 666.9338924672011, 674.1399267249136, 687.7513849826262, 695.7581149826262, 702.1635207249136, 719.7783249826263, 720.579004467201, 722.981014467201, 731.7883949826262, 742.997828467201, 746.2005147249137, 747.001214467201, 764.6160264672011, 773.4234147249136, 775.0247724672009, 781.4301607249135, 809.4537007249136, 810.2543767249136, 823.8658049826262, 859.8960949826262, 870.3048567249136, 895.9263849826262, 898.3284287249136, 916.743904467201, 928.754020467201, 934.3587247249136, 936.760742467201, 948.7708404672012, 968.787666467201, 972.791022467201, 999.213242467201, 1000.0138749826262, 1004.817956467201, 1040.848244467201, 1068.0710949826262, 1088.0879249826262, 1100.8987244672007, 1116.1114949826265, 1123.3175704672012, 1131.324302467201, 1144.9357604672014, 1155.344486467201, 1161.7498907249137, 1163.3512264672008, 1167.3545524672008, 1176.1619649826262, 1178.5640107249135, 1194.5774767249136, 1208.9895904672012, 1210.590938724914, 1211.3916184672012, 1235.4118164672009, 1236.2124649826264, 1238.6144927249138, 1242.6178667249137, 1251.425268467201, 1252.2259249826266, 1279.4488244672011, 1292.2595549826265, 1295.462278467201, 1308.2730249826263, 1309.073744467201, 1329.8912327249136, 1341.9013307249138, 1342.7019987249137, 1353.9114167249136, 1373.1275864672011, 1377.9316107249138, 1384.3369949826265, 1386.7390287249136, 1389.9417167249137, 1390.7423887249138, 1426.7726707249135, 1427.5733664672011, 1429.9753487249136, 1437.982092724914, 1440.3841149826262, 1442.7861487249138, 1462.8029727249136, 1470.8096947249137, 1485.2218084672008, 1510.0426967249136, 1515.6473984672011, 1526.856794724914, 1534.0628727249136, 1555.681048467201, 1558.0830767249136, 1562.0864347249135, 1565.2891304672012, 1566.0897967249134, 1590.1099947249136, 1628.5422749826262, 1640.5523849826263, 1653.3631884672009, 1663.7719324672007, 1665.3732924672013, 1673.3800084672012, 1679.785380467201, 1684.5894049826263, 1696.5995049826265, 1709.410316467201, 1729.4271204672011, 1731.0284647249136, 1734.2311507249135, 1743.0385707249138, 1752.6466249826262, 1759.8527064672012, 1760.6533549826263, 1775.8661584672009, 1796.6836249826265, 1810.2950887249133, 1823.105878724914, 1832.7139249826264, 1847.9267384672007, 1848.7273949826265, 1856.7341449826265, 1862.3388727249132, 1874.3489707249137, 1875.1496467249133, 1886.3590507249137, 1889.5617444672007, 1948.0109004672008, 1952.8149249826265, 1966.4263687249136, 1968.8283949826264, 1969.629090467201, 1984.041170467201, 1992.8485749826264, 1997.652622467201, 2000.8553149826264, 2023.2741707249136, 2056.902414982626, 2059.304452724913, 2067.3111827249136, 2085.726680467201, 2098.5374247249133, 2104.1421824672007, 2104.942814982626, 2155.3852327249137, 2161.790622467201, 2173.0000449826266, 2178.604758724914, 2179.405434724914, 2183.408788724914, 2196.219578467201, 2229.0471549826266, 2245.8613024672013, 2250.665342724914, 2260.2733924672016, 2265.0774649826267, 2265.8781524672013, 2277.8882184672016, 2288.2969784672014, 2298.705738724914, 2308.3138004672014, 2313.918530467201, 2336.3373664672013, 2337.938718467202, 2362.759572724914, 2373.9689984672013, 2374.769668724914, 2383.577076724914, 2404.394616467201, 2434.820156724914, 2439.624192724914, 2456.438334467201, 2474.853802724914, 2475.654478724914, 2504.478710467202, 2505.2793749826265, 2506.880732724914, 2507.6814087249136, 2516.4888424672013, 2534.904284724914, 2540.5090304672017, 2550.1171124672014, 2551.718432724914, 2559.725172724914, 2560.5258564672013, 2575.738636724914, 2577.3399849826264, 2578.140664467201, 2586.1473984672016, 2594.1541204672017, 2598.9581687249142, 2606.164232467201, 2612.569600467202, 2624.5797004672017, 2634.1877884672017, 2661.4106449826263, 2667.015348724914, 2675.022088724914, 2683.829512724914, 2689.4342349826265, 2690.2349064672017, 2711.052382724914, 2713.4544049826263, 2720.6604684672016, 2721.461124982626, 2726.2652064672016, 2729.4678849826264, 2754.288760467201, 2768.7008704672016, 2771.903568724914, 2783.112980724913, 2786.315662467201, 2797.5251049826265, 2839.960792724914, 2872.7883784672013, 2873.5890749826262, 2881.5957549826267, 2887.200492724914, 2890.403186467201, 2909.6193449826264, 2912.822036467201, 2916.024718724914, 2928.835492467201, 2932.038198724914, 2932.838882467201, 2941.6462549826265, 2944.8489564672013, 2970.470522467201, 2978.477238467201, 2994.490702467201, 3008.102130724914, 3008.9028064672016, 3018.510890467201, 3020.112228724914, 3022.514236467201, 3028.919650467202, 3031.321684724914, 3041.7303949826264, 3054.541174467201, 3066.5512944672014, 3067.3519447249137, 3076.960032467201, 3083.365410724913, 3108.9869804672016, 3112.189660724914, 3124.199750724914, 3128.2030967249143, 3140.213190724914, 3143.4158967249136, 3153.023972467201, 3156.226690724914, 3175.4428327249143, 3183.449558724914, 3187.452934724914, 3229.0879484672014, 3233.0913064672013, 3241.0980364672014, 3252.3074687249136, 3255.510138724914, 3259.5135047249137, 3263.5168667249136, 3281.1317084672014, 3284.3343787249137, 3317.1619544672017, 3350.790254467201, 3355.5942907249137, 3358.796978467202, 3363.601006724913, 3370.0064149826267, 3400.431988724914, 3403.6346707249136, 3406.0366849826264, 3426.0535149826264, 3429.256218467201, 3431.6582487249143, 3433.259586467201, 3439.6649787249144, 3472.492566724914, 3474.0939349826263, 3492.509390724914, 3509.3235344672016, 3524.536314724914, 3528.539686724914, 3532.543066724914, 3542.951826467201, 3555.762568724914, 3557.3639064672016, 3583.786134724914, 3597.3975764672014, 3600.6002807249142, 3609.4076744672016, 3629.424514467202, 3642.2352749826255, 3644.637310724914, 3648.640658724914, 3650.241994982626, 3651.042690467201, 3655.046052467201, 3667.0561604672016, 3671.860192724914, 3680.667584724914, 3700.684418724914, 3711.893838724914, 3737.515396467201, 3747.1234684672017, 3750.3261449826255, 3779.150402467201, 3779.9510607249135, 3791.9611567249135, 3817.5827304672016, 3840.802232724914, 3850.4103149826265, 3858.4170149826255, 3879.234548467202, 3893.646642467201, 3896.048688724914, 3901.6533644672018, 3912.862820724914, 3934.4809749826254, 3942.4877149826266, 3950.494444982626, 3965.707240467201, 3972.112636724914, 3981.7207104672016, 3991.3287964672018, 3992.930134724914, 3996.933496724914, 3998.5348449826265, 4029.7610944672015, 4035.3657884672016, 4039.3691904672014, 4064.990728724914, 4094.6156549826255, 4103.4230284672, 4104.223692724913, 4112.230436724913, 4117.835128467201, 4130.645904982626, 4147.4600524672005, 4171.480236467201, 4211.513930467201, 4213.915924467201, 4226.726684982626, 4244.3414987249125, 4251.547572467201, 4265.1589987249135, 4269.162362724914, 4293.182572724913, 4297.9866224672, 4312.398726724913, 4318.0034204672, 4319.604780467201, 4320.405464724913, 4323.6081384672, 4324.408802724914, 4328.412176724913, 4329.212848724914, 4337.219586724913, 4346.026986467201, 4357.236410724914]\n"
     ]
    }
   ],
   "source": [
    "### extract timestamps for given stimulus frame\n",
    "\n",
    "stim_timestamps = []\n",
    "prev_frame = None\n",
    "for i in range(len(stim_table)):\n",
    "    row = stim_table[i]\n",
    "    if row.frame[i] != prev_frame and row.frame[i] == select_frame:\n",
    "        stim_timestamps.append(row.start_time[i])\n",
    "    prev_frame = row.frame[i]\n",
    "print(stim_timestamps)"
   ]
  },
  {
   "cell_type": "markdown",
   "id": "86c84604",
   "metadata": {},
   "source": [
    "## BREAK"
   ]
  },
  {
   "cell_type": "code",
   "execution_count": null,
   "id": "2fc3cd47",
   "metadata": {
    "scrolled": true
   },
   "outputs": [],
   "source": [
    "# finding nearest neighbor in lfp time for each stim time\n",
    "\n",
    "intp_stim_timestamps = []\n",
    "lfp_ts_idx = 0\n",
    "for stim_ts in stim_timestamps:\n",
    "    nearest_lfp_ts = lfp.timestamps[lfp_ts_idx]\n",
    "    # find nearest neighbor to stim timestamp within lfp timestamps\n",
    "    while(stim_ts - nearest_lfp_ts > 0):\n",
    "        diff_t = stim_ts - nearest_lfp_ts\n",
    "        lfp_ts_idx += 1\n",
    "        nearest_lfp_ts = lfp.timestamps[lfp_ts_idx]\n",
    "    # save nearest neighbor timestamp\n",
    "    intp_stim_timestamps.append(nearest_lfp_ts)\n",
    "print(intp_stim_timestamps)"
   ]
  },
  {
   "cell_type": "markdown",
   "id": "f4b6f64f",
   "metadata": {},
   "source": [
    "3 arrays:\n",
    "stim_timestamps\n",
    "lfp.timestamps\n",
    "lfp.data\n",
    "\n",
    "goal: using lfp.timestamps, interpolate every lfp.data element to a stim_timestamps element\n",
    "    iterpolate lfp.timestamps to7 stim_timestamps to create interpolated_timestamps (the main axis) which should be same length as lfp.data\n",
    "    then use interpolated_timestamps as display axis for lfp data\n",
    "    view window can then be filtered based on this axis\n",
    "    \n",
    "\n",
    "\n",
    "1. align stimulus and lfp\n",
    "2. identify events within lfp\n",
    "3. get window of lfp around event\n",
    "4. split lfp eventwise into 3d array\n",
    "5. calculate average across events\n",
    "6. calculate average across nodes and events"
   ]
  },
  {
   "cell_type": "code",
   "execution_count": 15,
   "id": "02efac3d",
   "metadata": {},
   "outputs": [
    {
     "name": "stdout",
     "output_type": "stream",
     "text": [
      "4357237\n"
     ]
    }
   ],
   "source": [
    "stop_time = min(lfp.timestamps[-1],stim_timestamps[-1])\n",
    "time_axis = np.arange(0,stop_time,step=0.001)\n",
    "print(len(time_axis))"
   ]
  },
  {
   "cell_type": "code",
   "execution_count": 16,
   "id": "1c1e8bd2",
   "metadata": {},
   "outputs": [
    {
     "data": {
      "text/plain": [
       "(11252278,)"
      ]
     },
     "execution_count": 16,
     "metadata": {},
     "output_type": "execute_result"
    }
   ],
   "source": [
    "lfp.timestamps.shape"
   ]
  },
  {
   "cell_type": "code",
   "execution_count": 17,
   "id": "3f1776c5",
   "metadata": {},
   "outputs": [
    {
     "data": {
      "text/plain": [
       "(11252278, 89)"
      ]
     },
     "execution_count": 17,
     "metadata": {},
     "output_type": "execute_result"
    }
   ],
   "source": [
    "lfp.data.shape"
   ]
  },
  {
   "cell_type": "code",
   "execution_count": 18,
   "id": "9312fa5b",
   "metadata": {},
   "outputs": [
    {
     "name": "stdout",
     "output_type": "stream",
     "text": [
      "11252278\n",
      "[[ 5.55750012e-05  6.37650010e-05  3.97799995e-05 ... -1.95000007e-06\n",
      "   7.99499958e-06  7.99499958e-06]\n",
      " [ 3.12000011e-05  3.72450013e-05 -1.71600004e-05 ... -1.17000000e-05\n",
      "   1.38449996e-05 -1.17000002e-06]\n",
      " [ 7.27349980e-05  9.88649990e-05  5.92799988e-05 ... -2.00849991e-05\n",
      "  -1.15049997e-05 -5.84999998e-06]\n",
      " ...\n",
      " [-1.81740004e-04 -1.41960001e-04 -2.02800002e-04 ... -4.17299998e-05\n",
      "  -3.50999994e-06 -6.43500016e-06]\n",
      " [-1.82324991e-04 -1.60290001e-04 -2.15474996e-04 ... -3.25649999e-05\n",
      "  -3.31499996e-06  1.20899995e-05]\n",
      " [-2.08650003e-04 -1.86809993e-04 -2.50574987e-04 ... -2.82750007e-05\n",
      "   5.84999998e-06 -1.95000007e-06]]\n",
      "4357237\n",
      "[[ 5.5575e-05  6.3765e-05  3.9780e-05 ... -1.9500e-06  7.9950e-06\n",
      "   7.9950e-06]\n",
      " [ 5.5575e-05  6.3765e-05  3.9780e-05 ... -1.9500e-06  7.9950e-06\n",
      "   7.9950e-06]\n",
      " [ 5.5575e-05  6.3765e-05  3.9780e-05 ... -1.9500e-06  7.9950e-06\n",
      "   7.9950e-06]\n",
      " ...\n",
      " [ 5.5575e-05  6.3765e-05  3.9780e-05 ... -1.9500e-06  7.9950e-06\n",
      "   7.9950e-06]\n",
      " [ 5.5575e-05  6.3765e-05  3.9780e-05 ... -1.9500e-06  7.9950e-06\n",
      "   7.9950e-06]\n",
      " [ 5.5575e-05  6.3765e-05  3.9780e-05 ... -1.9500e-06  7.9950e-06\n",
      "   7.9950e-06]]\n"
     ]
    }
   ],
   "source": [
    "f = interpolate.interp1d(lfp.timestamps, lfp.data, axis=0, kind=\"nearest\", fill_value=\"extrapolate\")\n",
    "intp_lfp = f(time_axis)\n",
    "print((len(lfp.data)))\n",
    "print(lfp.data[0:100])\n",
    "\n",
    "print(len(intp_lfp))\n",
    "print(intp_lfp[0:100])\n"
   ]
  },
  {
   "cell_type": "code",
   "execution_count": null,
   "id": "48503372",
   "metadata": {},
   "outputs": [],
   "source": [
    "intp_lfp_measurements = []\n",
    "lfp_idx = 0\n",
    "for ts in time_axis:\n",
    "    nearest_lfp_ts = lfp.timestamps[lfp_idx]\n",
    "    # find nearest neighbor to timestamp within lfp timestamps\n",
    "    print(ts)\n",
    "    while(nearest_lfp_ts - ts > 0):\n",
    "        diff_t = nearest_lfp_ts - ts\n",
    "        lfp_idx += 1\n",
    "        nearest_lfp_ts = lfp.timestamps[lfp_idx]\n",
    "        print(lfp_idx, nearest_lfp_ts)\n",
    "    # save nearest neighbor timestamp\n",
    "    print(\"saving\",lfp_idx)\n",
    "    intp_lfp_measurements.append(lfp.data[lfp_idx])\n",
    "    break\n",
    "print(intp_lfp_measurements)"
   ]
  },
  {
   "cell_type": "markdown",
   "id": "24a39b90",
   "metadata": {},
   "source": [
    "## BREAK"
   ]
  },
  {
   "cell_type": "code",
   "execution_count": null,
   "id": "88ef5d0a",
   "metadata": {},
   "outputs": [],
   "source": [
    "### get closest corresponding lfp index to the stimulus timestamps\n",
    "\n",
    "lfp_events = []\n",
    "lfp_ts_idx = 0\n",
    "for stim_ts in stim_timestamps:\n",
    "\n",
    "    lfp_ts = lfp.timestamps[lfp_ts_idx]\n",
    "    while(lfp_ts < stim_ts):\n",
    "        lfp_ts_idx += 1\n",
    "        lfp_ts = lfp.timestamps[lfp_ts_idx]\n",
    "    lfp_ts_idx -= 1\n",
    "    lfp_events.append(lfp_ts_idx)\n",
    "\n",
    "print(lfp_events)"
   ]
  },
  {
   "cell_type": "code",
   "execution_count": null,
   "id": "a5fcd668",
   "metadata": {},
   "outputs": [],
   "source": [
    "interval_start = -0.05\n",
    "interval_end = 0.25"
   ]
  },
  {
   "cell_type": "code",
   "execution_count": null,
   "id": "4e35ebf5",
   "metadata": {},
   "outputs": [],
   "source": [
    "# get lfp data intervals for viewing\n",
    "\n",
    "if interval_start > 0:\n",
    "    raise ValueError(\"interval start must be non-positive\")\n",
    "if interval_end <= 0:\n",
    "    raise ValueError(\"interval end must be positive\")\n",
    "    \n",
    "lfp_event_intervals = []\n",
    "for lfp_event in lfp_events:\n",
    "    event_ts = lfp.timestamps[lfp_event]\n",
    "    \n",
    "    # iterate backward to get start time idx\n",
    "    start_idx = lfp_event\n",
    "    start_ts = lfp.timestamps[start_idx]\n",
    "    while(start_ts > event_ts + interval_start):\n",
    "        start_idx -= 1\n",
    "        if start_idx < 0:\n",
    "            break\n",
    "        start_ts = lfp.timestamps[start_idx]\n",
    "    \n",
    "    # iterate forward to get end time idx\n",
    "    end_idx = lfp_event\n",
    "    end_ts = lfp.timestamps[end_idx]\n",
    "    while(end_ts < event_ts + interval_end):\n",
    "        end_idx += 1\n",
    "        if end_idx >= len(lfp.timestamps):\n",
    "            break\n",
    "        end_ts = lfp.timestamps[end_idx]\n",
    "    \n",
    "    if start_idx >= end_idx:\n",
    "        raise ValueError(\"interval too small\")\n",
    "        \n",
    "    lfp_event_intervals.append((start_idx, end_idx))\n",
    "    print(f\"Interval for event at {lfp_event}: {start_idx},{end_idx}\")"
   ]
  },
  {
   "cell_type": "code",
   "execution_count": null,
   "id": "82ca3cc7",
   "metadata": {},
   "outputs": [],
   "source": [
    "node = 1\n",
    "event_num = 100"
   ]
  },
  {
   "cell_type": "code",
   "execution_count": null,
   "id": "3948130b",
   "metadata": {},
   "outputs": [],
   "source": [
    "# nodewise view\n",
    "%matplotlib inline\n",
    "fig, ax = plt.subplots(figsize=(8, 6))\n",
    "start_idx, end_idx = lfp_event_intervals[event_num]\n",
    "ax.plot(lfp.data[start_idx:end_idx,node])\n",
    "plt.show()"
   ]
  },
  {
   "cell_type": "code",
   "execution_count": null,
   "id": "cdb575c4",
   "metadata": {},
   "outputs": [],
   "source": []
  }
 ],
 "metadata": {
  "kernelspec": {
   "display_name": "Python 3 (ipykernel)",
   "language": "python",
   "name": "python3"
  },
  "language_info": {
   "codemirror_mode": {
    "name": "ipython",
    "version": 3
   },
   "file_extension": ".py",
   "mimetype": "text/x-python",
   "name": "python",
   "nbconvert_exporter": "python",
   "pygments_lexer": "ipython3",
   "version": "3.8.13"
  }
 },
 "nbformat": 4,
 "nbformat_minor": 5
}
