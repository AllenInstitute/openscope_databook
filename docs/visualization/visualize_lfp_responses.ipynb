{
 "cells": [
  {
   "cell_type": "markdown",
   "id": "410df685",
   "metadata": {},
   "source": [
    "### Environment setup"
   ]
  },
  {
   "cell_type": "code",
   "execution_count": null,
   "id": "64b761ea",
   "metadata": {},
   "outputs": [],
   "source": [
    "!pip install pynwb\n",
    "!pip install matplotlib"
   ]
  },
  {
   "cell_type": "code",
   "execution_count": 2,
   "id": "2bbff7f6",
   "metadata": {},
   "outputs": [],
   "source": [
    "from pynwb import NWBHDF5IO\n",
    "import numpy as np\n",
    "import matplotlib.pyplot as plt"
   ]
  },
  {
   "cell_type": "markdown",
   "id": "ba7c58a4",
   "metadata": {},
   "source": [
    "### Read NWB files"
   ]
  },
  {
   "cell_type": "code",
   "execution_count": 3,
   "id": "9785874d",
   "metadata": {},
   "outputs": [],
   "source": [
    "lfp_filepath = \"../../../data/probeA_lfp.nwb\"\n",
    "stim_filepath = \"../../../data/spike_times.nwb\""
   ]
  },
  {
   "cell_type": "code",
   "execution_count": 4,
   "id": "30b8e55e",
   "metadata": {},
   "outputs": [
    {
     "name": "stderr",
     "output_type": "stream",
     "text": [
      "C:\\Users\\carter.peene\\AppData\\Local\\Programs\\Python\\Python39\\lib\\site-packages\\hdmf\\spec\\namespace.py:531: UserWarning: Ignoring cached namespace 'hdmf-common' version 1.5.0 because version 1.5.1 is already loaded.\n",
      "  warn(\"Ignoring cached namespace '%s' version %s because version %s is already loaded.\"\n",
      "C:\\Users\\carter.peene\\AppData\\Local\\Programs\\Python\\Python39\\lib\\site-packages\\hdmf\\spec\\namespace.py:531: UserWarning: Ignoring cached namespace 'core' version 2.4.0 because version 2.5.0 is already loaded.\n",
      "  warn(\"Ignoring cached namespace '%s' version %s because version %s is already loaded.\"\n",
      "C:\\Users\\carter.peene\\AppData\\Local\\Programs\\Python\\Python39\\lib\\site-packages\\hdmf\\spec\\namespace.py:531: UserWarning: Ignoring cached namespace 'hdmf-experimental' version 0.1.0 because version 0.2.0 is already loaded.\n",
      "  warn(\"Ignoring cached namespace '%s' version %s because version %s is already loaded.\"\n"
     ]
    }
   ],
   "source": [
    "lfp_io = NWBHDF5IO(lfp_filepath, mode=\"r\", load_namespaces=True)\n",
    "lfp_file = lfp_io.read()\n",
    "stim_io = NWBHDF5IO(stim_filepath, mode=\"r\", load_namespaces=True)\n",
    "stim_file = stim_io.read() "
   ]
  },
  {
   "cell_type": "code",
   "execution_count": 5,
   "id": "b370450a",
   "metadata": {},
   "outputs": [],
   "source": [
    "lfp_data = lfp_file.acquisition[\"probe_0_lfp_data\"]\n",
    "series = lfp_data.data"
   ]
  },
  {
   "cell_type": "code",
   "execution_count": 6,
   "id": "19235113",
   "metadata": {
    "scrolled": false
   },
   "outputs": [
    {
     "name": "stdout",
     "output_type": "stream",
     "text": [
      "['ICkcfg0_presentations', 'ICkcfg1_presentations', 'ICwcfg0_presentations', 'ICwcfg1_presentations', 'RFCI_presentations', 'invalid_times', 'sizeCI_presentations', 'spontaneous_presentations']\n"
     ]
    }
   ],
   "source": [
    "stimulus_names = list(stim_file.intervals.keys())\n",
    "print(stimulus_names)"
   ]
  },
  {
   "cell_type": "code",
   "execution_count": 7,
   "id": "dcf1af61",
   "metadata": {},
   "outputs": [
    {
     "data": {
      "text/html": [
       "<div>\n",
       "<style scoped>\n",
       "    .dataframe tbody tr th:only-of-type {\n",
       "        vertical-align: middle;\n",
       "    }\n",
       "\n",
       "    .dataframe tbody tr th {\n",
       "        vertical-align: top;\n",
       "    }\n",
       "\n",
       "    .dataframe thead th {\n",
       "        text-align: right;\n",
       "    }\n",
       "</style>\n",
       "<table border=\"1\" class=\"dataframe\">\n",
       "  <thead>\n",
       "    <tr style=\"text-align: right;\">\n",
       "      <th></th>\n",
       "      <th>start_time</th>\n",
       "      <th>stop_time</th>\n",
       "      <th>stimulus_name</th>\n",
       "      <th>stimulus_block</th>\n",
       "      <th>frame</th>\n",
       "      <th>stimulus_index</th>\n",
       "      <th>tags</th>\n",
       "      <th>timeseries</th>\n",
       "    </tr>\n",
       "    <tr>\n",
       "      <th>id</th>\n",
       "      <th></th>\n",
       "      <th></th>\n",
       "      <th></th>\n",
       "      <th></th>\n",
       "      <th></th>\n",
       "      <th></th>\n",
       "      <th></th>\n",
       "      <th></th>\n",
       "    </tr>\n",
       "  </thead>\n",
       "  <tbody>\n",
       "    <tr>\n",
       "      <th>0</th>\n",
       "      <td>99.256575</td>\n",
       "      <td>99.656919</td>\n",
       "      <td>ICwcfg1</td>\n",
       "      <td>0.0</td>\n",
       "      <td>0.0</td>\n",
       "      <td>0.0</td>\n",
       "      <td>[stimulus_time_interval]</td>\n",
       "      <td>[(1, 1, timestamps pynwb.base.TimeSeries at 0x...</td>\n",
       "    </tr>\n",
       "  </tbody>\n",
       "</table>\n",
       "</div>"
      ],
      "text/plain": [
       "    start_time  stop_time stimulus_name  stimulus_block  frame  \\\n",
       "id                                                               \n",
       "0    99.256575  99.656919       ICwcfg1             0.0    0.0   \n",
       "\n",
       "    stimulus_index                      tags  \\\n",
       "id                                             \n",
       "0              0.0  [stimulus_time_interval]   \n",
       "\n",
       "                                           timeseries  \n",
       "id                                                     \n",
       "0   [(1, 1, timestamps pynwb.base.TimeSeries at 0x...  "
      ]
     },
     "execution_count": 7,
     "metadata": {},
     "output_type": "execute_result"
    }
   ],
   "source": [
    "stim_file.intervals[\"ICwcfg1_presentations\"][0]"
   ]
  },
  {
   "cell_type": "markdown",
   "id": "601f0366",
   "metadata": {},
   "source": [
    "### Visualizing stimuli"
   ]
  },
  {
   "cell_type": "markdown",
   "id": "f4b6f64f",
   "metadata": {},
   "source": [
    "1. align stimulus and lfp\n",
    "2. identify events within lfp\n",
    "3. get window of lfp around event\n",
    "4. split lfp eventwise into 3d array\n",
    "5. calculate average across events\n",
    "6. calculate average across nodes and events"
   ]
  },
  {
   "cell_type": "code",
   "execution_count": 8,
   "id": "f0f8292f",
   "metadata": {},
   "outputs": [],
   "source": [
    "stimulus_name = \"\"\n",
    "interval_start = -1.0\n",
    "interval_end = 5.0\n",
    "node = 0"
   ]
  },
  {
   "cell_type": "code",
   "execution_count": 47,
   "id": "8359c8ad",
   "metadata": {},
   "outputs": [
    {
     "name": "stdout",
     "output_type": "stream",
     "text": [
      "1250.001346958406\n"
     ]
    }
   ],
   "source": [
    "rate = 1000 / (lfp_data.timestamps[2000] - lfp_data.timestamps[1000])\n",
    "print(rate)"
   ]
  },
  {
   "cell_type": "code",
   "execution_count": 50,
   "id": "4e35ebf5",
   "metadata": {},
   "outputs": [
    {
     "data": {
      "text/plain": [
       "4.787164854572537"
      ]
     },
     "execution_count": 50,
     "metadata": {},
     "output_type": "execute_result"
    }
   ],
   "source": [
    "lfp_data.data\n",
    "lfp_data.timestamps[0]"
   ]
  },
  {
   "cell_type": "code",
   "execution_count": 41,
   "id": "3948130b",
   "metadata": {},
   "outputs": [
    {
     "data": {
      "image/png": "[encoded data removed]",
      "text/plain": [
       "<Figure size 800x600 with 1 Axes>"
      ]
     },
     "metadata": {},
     "output_type": "display_data"
    }
   ],
   "source": [
    "# nodewise view\n",
    "%matplotlib inline\n",
    "fig, ax = plt.subplots(figsize=(8, 6))\n",
    "ax.plot(lfp_data.data[0:100,node])\n",
    "plt.show()"
   ]
  },
  {
   "cell_type": "code",
   "execution_count": null,
   "id": "cdb575c4",
   "metadata": {},
   "outputs": [],
   "source": []
  }
 ],
 "metadata": {
  "kernelspec": {
   "display_name": "Python 3 (ipykernel)",
   "language": "python",
   "name": "python3"
  },
  "language_info": {
   "codemirror_mode": {
    "name": "ipython",
    "version": 3
   },
   "file_extension": ".py",
   "mimetype": "text/x-python",
   "name": "python",
   "nbconvert_exporter": "python",
   "pygments_lexer": "ipython3",
   "version": "3.9.10"
  }
 },
 "nbformat": 4,
 "nbformat_minor": 5
}
