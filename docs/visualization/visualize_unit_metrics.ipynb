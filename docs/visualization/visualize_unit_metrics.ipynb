{
 "cells": [
  {
   "cell_type": "markdown",
   "id": "afa6fc9b",
   "metadata": {},
   "source": [
    "# Visualizing Unit Quality Metrics"
   ]
  },
  {
   "cell_type": "markdown",
   "id": "1c471992",
   "metadata": {},
   "source": [
    "This content is taken and adapted from the [Allen SDK Documentation](https://allensdk.readthedocs.io/en/latest/_static/examples/nb/ecephys_quality_metrics.html). Further explanation for each metric can be there."
   ]
  },
  {
   "cell_type": "markdown",
   "id": "813f07b7",
   "metadata": {},
   "source": [
    "This Jupyter notebook will provide a detailed explanation of the unit quality metrics included in ecephys NWB Files. It's important to pay attention to quality metrics, because failing to apply them correctly could lead to invalid scientific conclusions, or could end up hiding potentially useful data. To help you avoid these pitfalls, this tutorial will explore how these metrics are calculated, how they can be biased, and how they should be applied to specific use cases. It's important to keep in mind that none of these metrics are perfect, and that the use of unit quality metrics for filtering ephys data is still an evolving area of research. More work is required in order to establish general-purpose best practices and standards in this domain."
   ]
  },
  {
   "cell_type": "markdown",
   "id": "6ee9e37f",
   "metadata": {},
   "source": [
    "All of the Allen Institute Neuropixels data has been sorted with [Kilosort2](https://github.com/MouseLand/Kilosort), a template-matching algorithm developed by Marius Pachitariu at HHMI Janelia Research Campus. Because there is no \"ground truth\" information available in these datasets, any sorting algorithm is bound to make mistakes. Quality metrics allow us to understand the types of mistakes that are occurring, and obtain an estimate of their severity. Some common errors that can be identified by quality metrics include:\n",
    "- Assigning spikes from multiple neurons to the same cluster\n",
    "- Missing spikes from neurons with waveform amplitude near the spike detection threshold\n",
    "- Failing to track neurons with waveforms that change as a result of electrode drift\n"
   ]
  },
  {
   "cell_type": "markdown",
   "id": "f44393a6",
   "metadata": {},
   "source": [
    "These mistakes can occur even in units that appear to be extremely well isolated. It's misleading to conceive of units as existing in two distinct categories, one with perfectly clean \"single units\" and one with impure \"multiunits.\" Instead, there's a gradient of qualities, with mostly complete, uncontaminated units at one end, and incomplete, highly contaminated units at the other.\n",
    "\n",
    "Despite the fact that there's not a clear division between single-unit and multi-unit activity, we still have to make a binary decision in every analysis we carry out: should this unit be included or not? Ideally this decision should be based on objective metrics that will not bias the end results. By default, the AllenSDK uses three quality metrics, isi_violations, amplitude_cutoff, and presence_ratio, to filter out units that are likely to be highly contaminated or missing lots of spikes. However, the default values of these filters may not be appropriate for your analysis, or you may want to disable them entirely. Reading through this tutorial will give you a better understanding of how these (and other) metrics should be applied, so you can apply them effectively throughout your own explorations of this dataset."
   ]
  },
  {
   "cell_type": "markdown",
   "id": "cb9fcf18",
   "metadata": {},
   "source": [
    "### Environment Setup"
   ]
  },
  {
   "cell_type": "code",
   "execution_count": 1,
   "id": "0746ea40",
   "metadata": {},
   "outputs": [],
   "source": [
    "import matplotlib as mpl\n",
    "import matplotlib.pyplot as plt\n",
    "import numpy as np\n",
    "\n",
    "from dandi import dandiapi\n",
    "from pynwb import NWBHDF5IO\n",
    "\n",
    "%matplotlib inline"
   ]
  },
  {
   "cell_type": "markdown",
   "id": "104850bd",
   "metadata": {},
   "source": [
    "### Downloading an NWB File\n",
    "If you don't already have a file to analyze, you can use a file from The Allen Institute's `Visual Coding - Neuropixels` dataset. If you want to choose your own file to download, set `dandiset_id` and `dandi_filepath` accordingly."
   ]
  },
  {
   "cell_type": "code",
   "execution_count": 2,
   "id": "6b736a83",
   "metadata": {},
   "outputs": [],
   "source": [
    "dandiset_id = \"000021\"\n",
    "dandi_filepath = \"sub-703279277/sub-703279277_ses-719161530.nwb\"\n",
    "download_loc = \".\""
   ]
  },
  {
   "cell_type": "code",
   "execution_count": 3,
   "id": "3214c499",
   "metadata": {},
   "outputs": [],
   "source": [
    "filename = dandi_filepath.split(\"/\")[-1]\n",
    "filepath = f\"{download_loc}/{filename}\""
   ]
  },
  {
   "cell_type": "code",
   "execution_count": null,
   "id": "ca2943d2",
   "metadata": {},
   "outputs": [
    {
     "name": "stderr",
     "output_type": "stream",
     "text": [
      "A newer version (0.48.0) of dandi/dandi-cli is available. You are using 0.46.3\n"
     ]
    }
   ],
   "source": [
    "my_dandiset = dandiapi.DandiAPIClient().get_dandiset(dandiset_id)\n",
    "file = my_dandiset.get_asset_by_path(dandi_filepath)\n",
    "# this may take awhile, especially if the file to download is large\n",
    "file.download(filepath)\n",
    "\n",
    "print(f\"Downloaded file to {filepath}\")"
   ]
  },
  {
   "cell_type": "markdown",
   "id": "3bc98b54",
   "metadata": {},
   "source": [
    "### Reading a Stimulus File"
   ]
  },
  {
   "cell_type": "code",
   "execution_count": null,
   "id": "0b47a289",
   "metadata": {},
   "outputs": [],
   "source": [
    "nwb = NWBHDF5IO(filepath, mode=\"r\", load_namespaces=True)\n",
    "nwb = nwb.read() \n",
    "units = nwb.units.to_dataframe()\n",
    "units"
   ]
  },
  {
   "cell_type": "markdown",
   "id": "a74eee80",
   "metadata": {},
   "source": [
    "### Firing Rate\n",
    "*Firing rate* is equal to the total number of spikes divided by the number of seconds in the recording. Below is a density plot of firing rate across all units in the dataset as well as a log-scaled version."
   ]
  },
  {
   "cell_type": "code",
   "execution_count": null,
   "id": "f3d5b46f",
   "metadata": {},
   "outputs": [],
   "source": [
    "data = units['firing_rate']\n",
    "bins = np.linspace(0,50,100)\n",
    "hist, bin_edges = np.histogram(data, bins=bins)\n",
    "\n",
    "fig, ax = plt.subplots()\n",
    "ax.plot(bin_edges[:-1], hist)\n",
    "\n",
    "plt.xlabel(\"log$_{10}$ firing rate (Hz)\")\n",
    "plt.ylabel(\"# units\")\n",
    "plt.show()"
   ]
  },
  {
   "cell_type": "code",
   "execution_count": null,
   "id": "c0f49999",
   "metadata": {},
   "outputs": [],
   "source": [
    "data = np.log10(units['firing_rate'])\n",
    "bins = np.linspace(-3,3,100)\n",
    "hist, bin_edges = np.histogram(data, bins=bins)\n",
    "\n",
    "fig, ax = plt.subplots()\n",
    "ax.plot(bin_edges[:-1], hist)\n",
    "\n",
    "plt.xlabel(\"log$_{10}$ firing rate (Hz)\")\n",
    "plt.ylabel(\"# units\")\n",
    "plt.show()"
   ]
  },
  {
   "cell_type": "markdown",
   "id": "a2e0ffc2",
   "metadata": {},
   "source": [
    "### Presence Ratio\n",
    "*Presence ratio* measures the fraction of time during a session in which a unit is spiking, and ranges from 0 to 0.99. This can be helpful for detecting units that drift out of the recording during a session."
   ]
  },
  {
   "cell_type": "code",
   "execution_count": null,
   "id": "8d0c1319",
   "metadata": {},
   "outputs": [],
   "source": [
    "data = units['presence_ratio']\n",
    "bins = np.linspace(0,1,100)\n",
    "hist, bin_edges = np.histogram(data, bins=bins)\n",
    "\n",
    "fig, ax = plt.subplots()\n",
    "ax.plot(bin_edges[:-1], hist)\n",
    "\n",
    "plt.xlabel(\"Presence ratio\")\n",
    "plt.ylabel(\"# units\")\n",
    "plt.show()"
   ]
  },
  {
   "cell_type": "markdown",
   "id": "02f6a446",
   "metadata": {},
   "source": [
    "### Amplitude Cutoff\n",
    "*Amplitude cutoff* is a way to check for units that are missing spikes. Unlike presence ratio, which can detect units that drift out of the recording, amplitude cutoff provides an estimate of the false negative rate—e.g., the fraction of spikes below the spike detection threshold. Thus, amplitude cutoff is a measure of unit \"completeness\" that is complementary to presence ratio."
   ]
  },
  {
   "cell_type": "code",
   "execution_count": null,
   "id": "1a9c70f7",
   "metadata": {},
   "outputs": [],
   "source": [
    "data = units['amplitude_cutoff']\n",
    "bins = np.linspace(0,0.5,100)\n",
    "hist, bin_edges = np.histogram(data, bins=bins)\n",
    "\n",
    "fig, ax = plt.subplots()\n",
    "ax.plot(bin_edges[:-1], hist)\n",
    "\n",
    "plt.xlabel(\"Amplitude cutoff\")\n",
    "plt.ylabel(\"# units\")\n",
    "plt.show()"
   ]
  },
  {
   "cell_type": "markdown",
   "id": "421dfea1",
   "metadata": {},
   "source": [
    "### ISI Violations\n",
    "*Inter-spike-interval violations* are a classic measure of unit contamination. Because all neurons have a biophysical refractory period, we can assume that any spikes occurring in rapid succession (<1.5 ms intervals) come from two different neurons. Therefore, the more a unit is contaminated by spikes from multiple neurons, the higher its isi_violations value will be.\n",
    "\n",
    "The calculation for ISI violations comes from Hill et al. (2011) J Neurosci 31: 8699-8705. Rather than reporting the fraction of spikes with ISI violations, their metric reports the relative firing rate of the hypothetical neurons that are generating these violations. You can interpret an ISI violations value of 0.5 as meaning that contamining spikes are occurring at roughly half the rate of \"true\" spikes for that unit. In cases of highly contaminated units, the ISI violations value can sometimes be even greater than 1."
   ]
  },
  {
   "cell_type": "code",
   "execution_count": null,
   "id": "6bc82442",
   "metadata": {},
   "outputs": [],
   "source": [
    "data = units['isi_violations']\n",
    "bins = np.linspace(0,10,100)\n",
    "hist, bin_edges = np.histogram(data, bins=bins)\n",
    "\n",
    "fig, ax = plt.subplots()\n",
    "ax.plot(bin_edges[:-1], hist)\n",
    "\n",
    "plt.xlabel(\"ISI violations\")\n",
    "plt.ylabel(\"# units\")\n",
    "plt.show()"
   ]
  },
  {
   "cell_type": "code",
   "execution_count": null,
   "id": "2dcfd22e",
   "metadata": {},
   "outputs": [],
   "source": [
    "data = np.log10(units['isi_violations'])\n",
    "bins = np.linspace(-5,2.5,100)\n",
    "hist, bin_edges = np.histogram(data, bins=bins)\n",
    "\n",
    "fig, ax = plt.subplots()\n",
    "ax.plot(bin_edges[:-1], hist)\n",
    "\n",
    "plt.xlabel(\"log$_{10}$ ISI violations\")\n",
    "plt.ylabel(\"# units\")\n",
    "plt.show()"
   ]
  },
  {
   "cell_type": "markdown",
   "id": "26b12eb4",
   "metadata": {},
   "source": [
    "### SNR\n",
    "*Signal-to-noise ratio*, or SNR, is another classic metric of unit quality. It measures the ratio of the maximum amplitude of the mean spike waveform to the standard deviation of the background noise on one channel."
   ]
  },
  {
   "cell_type": "code",
   "execution_count": null,
   "id": "d7684b48",
   "metadata": {},
   "outputs": [],
   "source": [
    "data = units['snr']\n",
    "bins = np.linspace(0,10,100)\n",
    "hist, bin_edges = np.histogram(data, bins=bins)\n",
    "\n",
    "fig, ax = plt.subplots()\n",
    "ax.plot(bin_edges[:-1], hist)\n",
    "\n",
    "plt.xlabel(\"SNR\")\n",
    "plt.ylabel(\"# units\")\n",
    "plt.show()"
   ]
  },
  {
   "cell_type": "markdown",
   "id": "97ac5d3a",
   "metadata": {},
   "source": [
    "### Isolation Distance\n",
    "*Isolation distance* is a metric based on the principal components (PCs) of a unit's waveforms. After the spike sorting step is complete, the waveforms for every spike are projected into a lower-dimensional principal component space. The higher the isolation distance, the more a unit is separated from its neighbors in PC space, and therefore the lower the likelihood that it's contamined by spikes from multiple units. For more information on this, read the [Allen SDK Documentation](https://allensdk.readthedocs.io/en/latest/_static/examples/nb/ecephys_quality_metrics.html#isolation_distance)."
   ]
  },
  {
   "cell_type": "code",
   "execution_count": null,
   "id": "cdcc2923",
   "metadata": {},
   "outputs": [],
   "source": [
    "data = units['isolation_distance']\n",
    "bins = np.linspace(0,200,100)\n",
    "hist, bin_edges = np.histogram(data, bins=bins)\n",
    "\n",
    "fig, ax = plt.subplots()\n",
    "ax.plot(bin_edges[:-1], hist)\n",
    "\n",
    "plt.xlabel(\"Isolation distance\")\n",
    "plt.ylabel(\"# units\")\n",
    "plt.show()"
   ]
  },
  {
   "cell_type": "markdown",
   "id": "f29df1c5",
   "metadata": {},
   "source": [
    "### d-prime\n",
    "Like isolation distance, *d-prime* is another metric calculated for the waveform PCs. It uses linear discriminant analysis to calculate the separability of one unit's PC cluster and all of the others. A higher d-prime value indicates that the unit is better isolated from its neighbors."
   ]
  },
  {
   "cell_type": "code",
   "execution_count": null,
   "id": "8be58216",
   "metadata": {},
   "outputs": [],
   "source": [
    "data = units['d_prime']\n",
    "bins = np.linspace(0,20,100)\n",
    "hist, bin_edges = np.histogram(data, bins=bins, density=True)\n",
    "\n",
    "fig, ax = plt.subplots()\n",
    "ax.plot(bin_edges[:-1], hist)\n",
    "\n",
    "plt.xlabel(\"d-prime\")\n",
    "plt.ylabel(\"# units\")\n",
    "plt.show()"
   ]
  },
  {
   "cell_type": "markdown",
   "id": "5a5e1e0a",
   "metadata": {},
   "source": [
    "### Nearest-neighbors hit-rate\n",
    "*Nearest-neighbors hit rate* is another PC-based quality metric. It's derived from the 'isolation' metric originally reported in Chung, Magland et al. (2017). This metric looks at the PCs for one unit and calculates the fraction of their nearest neighbors that fall within the same cluster. If a unit is highly contaminated, then many of the closest spikes will come from other units. Nearest-neighbors hit rate is nice because it always falls between 0 and 1, making it straightforward to compare across different datasets."
   ]
  },
  {
   "cell_type": "code",
   "execution_count": null,
   "id": "f350106e",
   "metadata": {},
   "outputs": [],
   "source": [
    "data = units['nn_hit_rate']\n",
    "bins = np.linspace(0,1,100)\n",
    "hist, bin_edges = np.histogram(data, bins=bins, density=True)\n",
    "\n",
    "fig, ax = plt.subplots()\n",
    "ax.plot(bin_edges[:-1], hist)\n",
    "\n",
    "plt.xlabel(\"Nearest-neighbors hit rate\")\n",
    "plt.ylabel(\"# units\")\n",
    "plt.show()"
   ]
  },
  {
   "cell_type": "markdown",
   "id": "e72554e7",
   "metadata": {},
   "source": [
    "### Summary"
   ]
  },
  {
   "cell_type": "code",
   "execution_count": null,
   "id": "5398bb96",
   "metadata": {},
   "outputs": [],
   "source": [
    "metrics = ['firing_rate', 'presence_ratio', 'amplitude_cutoff', 'isi_violations', 'snr', 'isolation_distance', 'd_prime', \n",
    "           'nn_hit_rate']\n",
    "ranges = [[0,20], [0.9,0.995], [0,0.5], [0,2], [0,8], [0,200], [0,10], [0,1]]\n",
    "_ = plt.figure(figsize=(5,10))\n",
    "\n",
    "for idx, metric in enumerate(metrics):\n",
    "    data = units[metric].values\n",
    "    # remove NaNs\n",
    "    data = data[np.invert(np.isnan(data))]\n",
    "\n",
    "    plt.subplot(len(metrics),1,idx+1)\n",
    "    plt.boxplot(data, showfliers=False, showcaps=False, vert=False)\n",
    "\n",
    "    plt.ylim([0.8,1.2])\n",
    "    plt.xlim(ranges[idx])\n",
    "    plt.yticks([])\n",
    "    \n",
    "    plt.title(metric)\n",
    "\n",
    "plt.tight_layout()"
   ]
  }
 ],
 "metadata": {
  "kernelspec": {
   "display_name": "Python 3 (ipykernel)",
   "language": "python",
   "name": "python3"
  },
  "language_info": {
   "codemirror_mode": {
    "name": "ipython",
    "version": 3
   },
   "file_extension": ".py",
   "mimetype": "text/x-python",
   "name": "python",
   "nbconvert_exporter": "python",
   "pygments_lexer": "ipython3",
   "version": "3.9.10"
  }
 },
 "nbformat": 4,
 "nbformat_minor": 5
}
