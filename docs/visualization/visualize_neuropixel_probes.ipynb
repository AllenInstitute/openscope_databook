{
 "cells": [
  {
   "cell_type": "markdown",
   "metadata": {},
   "source": [
    "# Visualizing Neuropixel Probe Locations\n",
    "It can be handy to know the location and trajectory of the probes that obtain the data. Some NWB files have an **electrodes** field which store these locations. To be more precise, they contain arrays of **CCF** coordinates. [CCF](https://community.brain-map.org/t/allen-mouse-ccf-accessing-and-using-related-data-and-tools/359) is a framework which allows us to represent locations in the brain with coordinates that are relative to brain structure. This notebook uses CCF coordinate data in an extracellular electrophysiology NWB file to render the locations of the [Neuropixel](https://www.neuropixels.org/probe) probes that were used.\n",
    "\n",
    "To be able to render locations in a brain, you don't need to know how CCF works except that it is a system of coordinates. You also need to ensure that the brain model being used to visualize probes are appropriate for the CCF data used. In this case, we use a mouse brain atlas to work with our mouse CCF data.\n",
    "\n",
    "We also use **[brainrender](https://github.com/brainglobe/brainrender)** as the engine by which we 3D render the brain and the probe coordinates."
   ]
  },
  {
   "cell_type": "markdown",
   "metadata": {},
   "source": [
    "### Environment Setup"
   ]
  },
  {
   "cell_type": "code",
   "execution_count": 1,
   "metadata": {},
   "outputs": [],
   "source": [
    "from dandi import dandiapi\n",
    "from pynwb import NWBHDF5IO\n",
    "from brainrender import Scene\n",
    "from brainrender.actors import Points\n",
    "from brainrender._colors import get_random_colors\n",
    "import numpy as np\n",
    "### sets up viewing window\n",
    "from vedo import embedWindow\n",
    "embedWindow(None)"
   ]
  },
  {
   "cell_type": "markdown",
   "metadata": {},
   "source": [
    "### Downloading an NWB File\n",
    "If you don't already have a file to analyze, you can use a file from The Allen Institute's `Visual Coding - Neuropixels` dataset. If you want to choose your own file to download, set `dandiset_id` and `dandi_filepath` accordingly."
   ]
  },
  {
   "cell_type": "code",
   "execution_count": 38,
   "metadata": {},
   "outputs": [],
   "source": [
    "dandiset_id = \"000021\"\n",
    "dandi_filepath = \"sub-703279277/sub-703279277_ses-719161530_probe-729445648_ecephys.nwb\"\n",
    "download_loc = \"~/data\""
   ]
  },
  {
   "cell_type": "code",
   "execution_count": 39,
   "metadata": {},
   "outputs": [
    {
     "name": "stdout",
     "output_type": "stream",
     "text": [
      "Downloaded file to ../../../data/sub-699733573_ses-715093703.nwb\n"
     ]
    }
   ],
   "source": [
    "my_dandiset = dandiapi.DandiAPIClient().get_dandiset(dandiset_id)\n",
    "file = my_dandiset.get_asset_by_path(dandi_filepath)\n",
    "filename = filepath.split(\"/\")[-1]\n",
    "# this may take awhile, especially if the file to download is large\n",
    "file.download(f\"{download_loc}/{filename}\")\n",
    "\n",
    "print(f\"Downloaded file to {download_loc}/{filename}\")"
   ]
  },
  {
   "cell_type": "markdown",
   "metadata": {},
   "source": [
    "### Extracting NWB CCF Coordinates\n",
    "Here, you can read the NWB file you're interested in viewing. Specify your file of interest's relative file path in `nwb_filepath`. From there, the file will be read and the probe unit coordinates will be extracted and turned into a numpy array.\n",
    "\n",
    "Note that this will only work with ecephys NWB files which have a valid **electrodes** field."
   ]
  },
  {
   "cell_type": "code",
   "execution_count": 40,
   "metadata": {},
   "outputs": [],
   "source": [
    "nwb_filepath = f\"{download_loc}/{filename}\""
   ]
  },
  {
   "cell_type": "code",
   "execution_count": 41,
   "metadata": {
    "scrolled": true
   },
   "outputs": [
    {
     "name": "stderr",
     "output_type": "stream",
     "text": [
      "Exception ignored in: <function Scene.__del__ at 0x0000016A801235E0>\n",
      "Traceback (most recent call last):\n",
      "  File \"C:\\Users\\carter.peene\\AppData\\Local\\Programs\\Python\\Python39\\lib\\site-packages\\brainrender\\scene.py\", line 102, in __del__\n",
      "    self.close()\n",
      "  File \"C:\\Users\\carter.peene\\AppData\\Local\\Programs\\Python\\Python39\\lib\\site-packages\\brainrender\\render.py\", line 281, in close\n",
      "    self.plotter.close()\n",
      "AttributeError: 'NoneType' object has no attribute 'close'\n"
     ]
    }
   ],
   "source": [
    "### read the nwb file\n",
    "io = NWBHDF5IO(nwb_filepath, mode=\"r\", load_namespaces=True)\n",
    "nwb = io.read()"
   ]
  },
  {
   "cell_type": "code",
   "execution_count": 42,
   "metadata": {},
   "outputs": [],
   "source": [
    "### read the x,y,z ccf coordinates and generate points\n",
    "xs = nwb.electrodes.x\n",
    "ys = nwb.electrodes.y\n",
    "zs = nwb.electrodes.z\n",
    "n = min(len(xs), len(ys), len(zs))\n",
    "points = np.array([[xs[i], ys[i], zs[i]] for i in range(n)])"
   ]
  },
  {
   "cell_type": "markdown",
   "metadata": {},
   "source": [
    "### Creating a Scene\n",
    "The scene-to-be-rendered is instantiated from a brain atlas within BrainGlobe's [Atlas API](https://gin.g-node.org/brainglobe/atlases). This is used to select a brain model. In this case, we use The 100 micrometer Allen Mouse Brain Atlas, but you could choose others to suit your purposes. It may take awhile to download, but you should only have to do it once. From there, you can select any number of brain regions to highlight in your render and how to color them. Below, VISp is chosen to highlight green. You can choose any number of brain regions and how to color them."
   ]
  },
  {
   "cell_type": "code",
   "execution_count": 43,
   "metadata": {},
   "outputs": [],
   "source": [
    "### Below, VISp is selected for coloring. Multiple region arguments can be supplied if needed.\n",
    "### Region names and IDs can be viewed with each of these lines\n",
    "# print(scene.atlas.lookup_df.head())\n",
    "# print(scene.atlas.lookup_df)\n",
    "# print(scene.atlas.hierarchy)"
   ]
  },
  {
   "cell_type": "code",
   "execution_count": 44,
   "metadata": {},
   "outputs": [
    {
     "data": {
      "text/html": [
       "<pre style=\"white-space:pre;overflow-x:auto;line-height:normal;font-family:Menlo,'DejaVu Sans Mono',consolas,'Courier New',monospace\">\n",
       "</pre>\n"
      ],
      "text/plain": [
       "\n"
      ]
     },
     "metadata": {},
     "output_type": "display_data"
    },
    {
     "data": {
      "text/html": [
       "<pre style=\"white-space:pre;overflow-x:auto;line-height:normal;font-family:Menlo,'DejaVu Sans Mono',consolas,'Courier New',monospace\">\n",
       "\n",
       "\n",
       "<span style=\"color: #c0c0c0; text-decoration-color: #c0c0c0\">╭──────────────────────────────────────────────────────────────────────────────────────╮</span>\n",
       "<span style=\"color: #c0c0c0; text-decoration-color: #c0c0c0\">│</span>  <span style=\"font-weight: bold\">                                                                                  </span>  <span style=\"color: #c0c0c0; text-decoration-color: #c0c0c0\">│</span>\n",
       "<span style=\"color: #c0c0c0; text-decoration-color: #c0c0c0\">│</span>   <span style=\"color: #ffa726; text-decoration-color: #ffa726; font-weight: bold\">brainrender.Actor: </span>                                                                <span style=\"color: #c0c0c0; text-decoration-color: #c0c0c0\">│</span>\n",
       "<span style=\"color: #c0c0c0; text-decoration-color: #c0c0c0\">│</span>   <span style=\"color: #ffa726; text-decoration-color: #ffa726; font-weight: bold\">──────────────────────</span>                                                             <span style=\"color: #c0c0c0; text-decoration-color: #c0c0c0\">│</span>\n",
       "<span style=\"color: #c0c0c0; text-decoration-color: #c0c0c0\">│</span>                                                                                      <span style=\"color: #c0c0c0; text-decoration-color: #c0c0c0\">│</span>\n",
       "<span style=\"color: #c0c0c0; text-decoration-color: #c0c0c0\">│</span>   <span style=\"color: #ffa726; text-decoration-color: #ffa726; font-weight: bold\">name:</span><span style=\"color: #ffca28; text-decoration-color: #ffca28\"> VISp</span>                                                                         <span style=\"color: #c0c0c0; text-decoration-color: #c0c0c0\">│</span>\n",
       "<span style=\"color: #c0c0c0; text-decoration-color: #c0c0c0\">│</span>   <span style=\"color: #ffa726; text-decoration-color: #ffa726; font-weight: bold\">type:</span><span style=\"color: #ffca28; text-decoration-color: #ffca28\"> brain region</span>                                                                 <span style=\"color: #c0c0c0; text-decoration-color: #c0c0c0\">│</span>\n",
       "<span style=\"color: #c0c0c0; text-decoration-color: #c0c0c0\">│</span>   <span style=\"color: #ffffff; text-decoration-color: #ffffff\">────────────────────────────────────────────────────────────────────────────────</span>   <span style=\"color: #c0c0c0; text-decoration-color: #c0c0c0\">│</span>\n",
       "<span style=\"color: #c0c0c0; text-decoration-color: #c0c0c0\">│</span>   <span style=\"color: #ffa726; text-decoration-color: #ffa726\">center of mass:</span><span style=\"color: #ffca28; text-decoration-color: #ffca28\"> [9121 1260 5672]</span>                                                   <span style=\"color: #c0c0c0; text-decoration-color: #c0c0c0\">│</span>\n",
       "<span style=\"color: #c0c0c0; text-decoration-color: #c0c0c0\">│</span>   <span style=\"color: #ffa726; text-decoration-color: #ffa726\">number of vertices:</span><span style=\"color: #ffca28; text-decoration-color: #ffca28\"> 3532</span>                                                           <span style=\"color: #c0c0c0; text-decoration-color: #c0c0c0\">│</span>\n",
       "<span style=\"color: #c0c0c0; text-decoration-color: #c0c0c0\">│</span>   <span style=\"color: #ffa726; text-decoration-color: #ffa726\">dimensions:</span><span style=\"color: #ffca28; text-decoration-color: #ffca28\"> [ 7695 10361   370  2248  2079  9300]</span>                                  <span style=\"color: #c0c0c0; text-decoration-color: #c0c0c0\">│</span>\n",
       "<span style=\"color: #c0c0c0; text-decoration-color: #c0c0c0\">│</span>   <span style=\"color: #ffa726; text-decoration-color: #ffa726\">color:</span><span style=\"color: #ffca28; text-decoration-color: #ffca28\"> [0.         0.50196078 0.        ]</span>                                          <span style=\"color: #c0c0c0; text-decoration-color: #c0c0c0\">│</span>\n",
       "<span style=\"color: #c0c0c0; text-decoration-color: #c0c0c0\">│</span>                                                                                      <span style=\"color: #c0c0c0; text-decoration-color: #c0c0c0\">│</span>\n",
       "<span style=\"color: #c0c0c0; text-decoration-color: #c0c0c0\">╰──────────────────────────────────────────────────────────────────────────────────────╯</span>\n",
       "</pre>\n"
      ],
      "text/plain": [
       "\n",
       "\n",
       "\n",
       "\u001b[38;2;192;192;192m╭──────────────────────────────────────────────────────────────────────────────────────╮\u001b[0m\n",
       "\u001b[38;2;192;192;192m│\u001b[0m  \u001b[1m \u001b[0m\u001b[1m                                                                                \u001b[0m\u001b[1m \u001b[0m  \u001b[38;2;192;192;192m│\u001b[0m\n",
       "\u001b[38;2;192;192;192m│\u001b[0m   \u001b[1;38;2;255;167;38mbrainrender.Actor: \u001b[0m                                                                \u001b[38;2;192;192;192m│\u001b[0m\n",
       "\u001b[38;2;192;192;192m│\u001b[0m   \u001b[1;38;2;255;167;38m──────────────────────\u001b[0m                                                             \u001b[38;2;192;192;192m│\u001b[0m\n",
       "\u001b[38;2;192;192;192m│\u001b[0m                                                                                      \u001b[38;2;192;192;192m│\u001b[0m\n",
       "\u001b[38;2;192;192;192m│\u001b[0m   \u001b[1;38;2;255;167;38mname:\u001b[0m\u001b[38;2;255;202;40m VISp\u001b[0m                                                                         \u001b[38;2;192;192;192m│\u001b[0m\n",
       "\u001b[38;2;192;192;192m│\u001b[0m   \u001b[1;38;2;255;167;38mtype:\u001b[0m\u001b[38;2;255;202;40m brain region\u001b[0m                                                                 \u001b[38;2;192;192;192m│\u001b[0m\n",
       "\u001b[38;2;192;192;192m│\u001b[0m   \u001b[38;2;255;255;255m─\u001b[0m\u001b[38;2;255;255;255m─\u001b[0m\u001b[38;2;255;255;255m─\u001b[0m\u001b[38;2;255;255;255m─\u001b[0m\u001b[38;2;255;255;255m─\u001b[0m\u001b[38;2;255;255;255m─\u001b[0m\u001b[38;2;255;255;255m─\u001b[0m\u001b[38;2;255;255;255m─\u001b[0m\u001b[38;2;255;255;255m─\u001b[0m\u001b[38;2;255;255;255m─\u001b[0m\u001b[38;2;255;255;255m─\u001b[0m\u001b[38;2;255;255;255m─\u001b[0m\u001b[38;2;255;255;255m─\u001b[0m\u001b[38;2;255;255;255m─\u001b[0m\u001b[38;2;255;255;255m─\u001b[0m\u001b[38;2;255;255;255m─\u001b[0m\u001b[38;2;255;255;255m─\u001b[0m\u001b[38;2;255;255;255m─\u001b[0m\u001b[38;2;255;255;255m─\u001b[0m\u001b[38;2;255;255;255m─\u001b[0m\u001b[38;2;255;255;255m─\u001b[0m\u001b[38;2;255;255;255m─\u001b[0m\u001b[38;2;255;255;255m─\u001b[0m\u001b[38;2;255;255;255m─\u001b[0m\u001b[38;2;255;255;255m─\u001b[0m\u001b[38;2;255;255;255m─\u001b[0m\u001b[38;2;255;255;255m─\u001b[0m\u001b[38;2;255;255;255m─\u001b[0m\u001b[38;2;255;255;255m─\u001b[0m\u001b[38;2;255;255;255m─\u001b[0m\u001b[38;2;255;255;255m─\u001b[0m\u001b[38;2;255;255;255m─\u001b[0m\u001b[38;2;255;255;255m─\u001b[0m\u001b[38;2;255;255;255m─\u001b[0m\u001b[38;2;255;255;255m─\u001b[0m\u001b[38;2;255;255;255m─\u001b[0m\u001b[38;2;255;255;255m─\u001b[0m\u001b[38;2;255;255;255m─\u001b[0m\u001b[38;2;255;255;255m─\u001b[0m\u001b[38;2;255;255;255m─\u001b[0m\u001b[38;2;255;255;255m─\u001b[0m\u001b[38;2;255;255;255m─\u001b[0m\u001b[38;2;255;255;255m─\u001b[0m\u001b[38;2;255;255;255m─\u001b[0m\u001b[38;2;255;255;255m─\u001b[0m\u001b[38;2;255;255;255m─\u001b[0m\u001b[38;2;255;255;255m─\u001b[0m\u001b[38;2;255;255;255m─\u001b[0m\u001b[38;2;255;255;255m─\u001b[0m\u001b[38;2;255;255;255m─\u001b[0m\u001b[38;2;255;255;255m─\u001b[0m\u001b[38;2;255;255;255m─\u001b[0m\u001b[38;2;255;255;255m─\u001b[0m\u001b[38;2;255;255;255m─\u001b[0m\u001b[38;2;255;255;255m─\u001b[0m\u001b[38;2;255;255;255m─\u001b[0m\u001b[38;2;255;255;255m─\u001b[0m\u001b[38;2;255;255;255m─\u001b[0m\u001b[38;2;255;255;255m─\u001b[0m\u001b[38;2;255;255;255m─\u001b[0m\u001b[38;2;255;255;255m─\u001b[0m\u001b[38;2;255;255;255m─\u001b[0m\u001b[38;2;255;255;255m─\u001b[0m\u001b[38;2;255;255;255m─\u001b[0m\u001b[38;2;255;255;255m─\u001b[0m\u001b[38;2;255;255;255m─\u001b[0m\u001b[38;2;255;255;255m─\u001b[0m\u001b[38;2;255;255;255m─\u001b[0m\u001b[38;2;255;255;255m─\u001b[0m\u001b[38;2;255;255;255m─\u001b[0m\u001b[38;2;255;255;255m─\u001b[0m\u001b[38;2;255;255;255m─\u001b[0m\u001b[38;2;255;255;255m─\u001b[0m\u001b[38;2;255;255;255m─\u001b[0m\u001b[38;2;255;255;255m─\u001b[0m\u001b[38;2;255;255;255m─\u001b[0m\u001b[38;2;255;255;255m─\u001b[0m\u001b[38;2;255;255;255m─\u001b[0m\u001b[38;2;255;255;255m─\u001b[0m\u001b[38;2;255;255;255m─\u001b[0m   \u001b[38;2;192;192;192m│\u001b[0m\n",
       "\u001b[38;2;192;192;192m│\u001b[0m   \u001b[38;2;255;167;38mcenter of mass:\u001b[0m\u001b[38;2;255;202;40m [9121 1260 5672]\u001b[0m                                                   \u001b[38;2;192;192;192m│\u001b[0m\n",
       "\u001b[38;2;192;192;192m│\u001b[0m   \u001b[38;2;255;167;38mnumber of vertices:\u001b[0m\u001b[38;2;255;202;40m 3532\u001b[0m                                                           \u001b[38;2;192;192;192m│\u001b[0m\n",
       "\u001b[38;2;192;192;192m│\u001b[0m   \u001b[38;2;255;167;38mdimensions:\u001b[0m\u001b[38;2;255;202;40m [ 7695 10361   370  2248  2079  9300]\u001b[0m                                  \u001b[38;2;192;192;192m│\u001b[0m\n",
       "\u001b[38;2;192;192;192m│\u001b[0m   \u001b[38;2;255;167;38mcolor:\u001b[0m\u001b[38;2;255;202;40m [0.         0.50196078 0.        ]\u001b[0m                                          \u001b[38;2;192;192;192m│\u001b[0m\n",
       "\u001b[38;2;192;192;192m│\u001b[0m                                                                                      \u001b[38;2;192;192;192m│\u001b[0m\n",
       "\u001b[38;2;192;192;192m╰──────────────────────────────────────────────────────────────────────────────────────╯\u001b[0m\n"
      ]
     },
     "metadata": {},
     "output_type": "display_data"
    }
   ],
   "source": [
    "scene = Scene(atlas_name=\"allen_mouse_100um\", title='Probes')\n",
    "scene.add_brain_region(\"VISp\", alpha=0.15, color=\"green\")"
   ]
  },
  {
   "cell_type": "code",
   "execution_count": 45,
   "metadata": {},
   "outputs": [],
   "source": [
    "### add the points to the scene all as one color\n",
    "# scene.add(Points(points, name=\"units\", colors=\"red\"))\n",
    "\n",
    "### add the points to the scene, coloring them based on CCF location label\n",
    "for location in set(nwb.electrodes.location):\n",
    "    these_points = np.array([points[i] for i in range(n) if nwb.electrodes.location[i] == location])\n",
    "    scene.add(Points(these_points, colors=get_random_colors()))"
   ]
  },
  {
   "cell_type": "markdown",
   "metadata": {},
   "source": [
    "### Rendering\n",
    "Rendering is as simple as `scene.render()`.\n",
    "This will create a pop-up window with the interactive 3D rendering of your scene. \n",
    "When you're done with it, press \"Esc\" to close the window!"
   ]
  },
  {
   "cell_type": "code",
   "execution_count": 46,
   "metadata": {},
   "outputs": [],
   "source": [
    "scene.render()"
   ]
  }
 ],
 "metadata": {
  "kernelspec": {
   "display_name": "Python 3 (ipykernel)",
   "language": "python",
   "name": "python3"
  },
  "language_info": {
   "codemirror_mode": {
    "name": "ipython",
    "version": 3
   },
   "file_extension": ".py",
   "mimetype": "text/x-python",
   "name": "python",
   "nbconvert_exporter": "python",
   "pygments_lexer": "ipython3",
   "version": "3.9.10"
  }
 },
 "nbformat": 4,
 "nbformat_minor": 2
}
