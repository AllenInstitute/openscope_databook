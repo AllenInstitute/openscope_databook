{
 "cells": [
  {
   "cell_type": "markdown",
   "metadata": {},
   "source": [
    "# Visualizing Neuropixel Probe Locations\n",
    "It can be handy to know the location and trajectory of the probes that obtain the data. Some NWB files have an **electrodes** field which store these locations. To be more precise, they contain arrays of **CCF** coordinates. [CCF](https://community.brain-map.org/t/allen-mouse-ccf-accessing-and-using-related-data-and-tools/359) is a framework which allows us to represent locations in the brain with coordinates that are relative to brain structure. This notebook uses CCF coordinate data in an extracellular electrophysiology NWB file to render the locations of the [Neuropixel](https://www.neuropixels.org/probe) probes that were used.\n",
    "\n",
    "To be able to render locations in a brain, you don't need to know how CCF works except that it is a system of coordinates. You also need to ensure that the brain model being used to visualize probes are appropriate for the CCF data used. In this case, we use a mouse brain atlas to work with our mouse CCF data.\n",
    "\n",
    "We also use **[brainrender](https://github.com/brainglobe/brainrender)** as the engine by which we 3D render the brain and the probe coordinates."
   ]
  },
  {
   "cell_type": "markdown",
   "metadata": {},
   "source": [
    "### Environment Setup"
   ]
  },
  {
   "cell_type": "code",
   "execution_count": null,
   "metadata": {},
   "outputs": [],
   "source": [
    "!pip install brainrender\n",
    "!pip install ipyvtklink"
   ]
  },
  {
   "cell_type": "code",
   "execution_count": null,
   "metadata": {},
   "outputs": [],
   "source": [
    "from pynwb import NWBHDF5IO\n",
    "from brainrender import Scene\n",
    "from brainrender.actors import Points\n",
    "from brainrender._colors import get_random_colors\n",
    "import numpy as np\n",
    "### sets up viewing window\n",
    "from vedo import embedWindow\n",
    "embedWindow(None)"
   ]
  },
  {
   "cell_type": "markdown",
   "metadata": {},
   "source": [
    "### Creating a scene\n",
    "The scene-to-be-rendered is instantiated from a brain atlas within BrainGlobe's [Atlas API](https://gin.g-node.org/brainglobe/atlases). This is used to select a brain model. In this case, we use The 25 micro-meter Allen Mouse Atlas, but you could choose others to suit your purposes. From there, you can select any number of brain regions to highlight in your render and how to color them. Below, VISp is chosen to highlight green. You can choose any number of brain regions and how to color them."
   ]
  },
  {
   "cell_type": "code",
   "execution_count": null,
   "metadata": {},
   "outputs": [],
   "source": [
    "scene = Scene(atlas_name=\"allen_mouse_25um\", title='Probes')\n",
    "scene.add_brain_region(\"VISp\", alpha=0.15, color=\"green\")"
   ]
  },
  {
   "cell_type": "code",
   "execution_count": null,
   "metadata": {},
   "outputs": [],
   "source": [
    "### above, VISp is selected for coloring. Multiple region arguments can be supplied if needed.\n",
    "### Region names and IDs can be viewed with each of these lines\n",
    "# print(scene.atlas.lookup_df.head())\n",
    "# print(scene.atlas.lookup_df)\n",
    "# print(scene.atlas.hierarchy)"
   ]
  },
  {
   "cell_type": "markdown",
   "metadata": {},
   "source": [
    "### Extract NWB CCF coordinates\n",
    "Here, you can read the NWB file you're interested in viewing. Specify your file of interest's relative file path in `nwb_filepath`. From there, the file will be read and the probe unit coordinates will be extracted and turned into a numpy array.\n",
    "\n",
    "Note that this will only work with ecephys NWB files which have a valid **electrodes** field."
   ]
  },
  {
   "cell_type": "code",
   "execution_count": null,
   "metadata": {},
   "outputs": [],
   "source": [
    "nwb_filepath = \"../../data/test.nwb\""
   ]
  },
  {
   "cell_type": "code",
   "execution_count": null,
   "metadata": {
    "scrolled": true
   },
   "outputs": [],
   "source": [
    "### read the nwb file\n",
    "io = NWBHDF5IO(nwb_filepath, mode=\"r\", load_namespaces=True)\n",
    "nwb = io.read()"
   ]
  },
  {
   "cell_type": "code",
   "execution_count": null,
   "metadata": {},
   "outputs": [],
   "source": [
    "### read the x,y,z ccf coordinates and generate points\n",
    "xs = nwb.electrodes.x\n",
    "ys = nwb.electrodes.y\n",
    "zs = nwb.electrodes.z\n",
    "n = min(len(xs), len(ys), len(zs))\n",
    "points = np.array([[xs[i], ys[i], zs[i]] for i in range(n)])"
   ]
  },
  {
   "cell_type": "code",
   "execution_count": null,
   "metadata": {},
   "outputs": [],
   "source": [
    "### add the points to the scene all as one color\n",
    "# scene.add(Points(points, name=\"units\", colors=\"red\"))\n",
    "\n",
    "### add the points to the scene, coloring them based on CCF location label\n",
    "for location in set(nwb.electrodes.location):\n",
    "    these_points = np.array([points[i] for i in range(n) if nwb.electrodes.location[i] == location])\n",
    "    scene.add(Points(these_points, colors=get_random_colors()))"
   ]
  },
  {
   "cell_type": "markdown",
   "metadata": {},
   "source": [
    "### Rendering\n",
    "Rendering is as simple as `scene.render()`.\n",
    "This will create a pop-up window with the interactive 3D rendering of your scene. \n",
    "When you're done with it, press \"Esc\" to close the window!"
   ]
  },
  {
   "cell_type": "code",
   "execution_count": null,
   "metadata": {},
   "outputs": [],
   "source": [
    "scene.render()"
   ]
  }
 ],
 "metadata": {
  "kernelspec": {
   "display_name": "Python 3 (ipykernel)",
   "language": "python",
   "name": "python3"
  },
  "language_info": {
   "codemirror_mode": {
    "name": "ipython",
    "version": 3
   },
   "file_extension": ".py",
   "mimetype": "text/x-python",
   "name": "python",
   "nbconvert_exporter": "python",
   "pygments_lexer": "ipython3",
   "version": "3.9.10"
  }
 },
 "nbformat": 4,
 "nbformat_minor": 2
}
