{
 "cells": [
  {
   "cell_type": "markdown",
   "id": "92b86eca",
   "metadata": {},
   "source": [
    "# Download an NWB File"
   ]
  },
  {
   "cell_type": "markdown",
   "id": "9bd33e5f",
   "metadata": {},
   "source": [
    "## Setup"
   ]
  },
  {
   "cell_type": "code",
   "execution_count": null,
   "id": "cd640cb4",
   "metadata": {},
   "outputs": [],
   "source": [
    "!pip install dandi"
   ]
  },
  {
   "cell_type": "code",
   "execution_count": 2,
   "id": "f7c5dac2",
   "metadata": {},
   "outputs": [],
   "source": [
    "from dandi import dandiapi"
   ]
  },
  {
   "cell_type": "markdown",
   "id": "b05a21a1",
   "metadata": {},
   "source": [
    "## File Streaming\n",
    "Interactively view data remotely via the DANDI API"
   ]
  },
  {
   "cell_type": "code",
   "execution_count": null,
   "id": "3f2ba622",
   "metadata": {},
   "outputs": [],
   "source": []
  },
  {
   "cell_type": "markdown",
   "id": "a8e8a89b",
   "metadata": {},
   "source": [
    "## Downloading\n",
    "Download data from DANDI (This takes longer, but may be more useful for more intensive analysis)"
   ]
  },
  {
   "cell_type": "markdown",
   "id": "7a85a038",
   "metadata": {},
   "source": [
    "#### Download entire Dandiset\n"
   ]
  },
  {
   "cell_type": "code",
   "execution_count": null,
   "id": "67536d37",
   "metadata": {},
   "outputs": [],
   "source": [
    "### download configuration\n",
    "\n",
    "dandiset_id = \"000004\"\n",
    "# where to download to locally\n",
    "data_loc = \"../../data\"\n",
    "\n",
    "# if you want to access an embargoed dandiset, you must set 'authenticate' to True and provide a dandi api key\n",
    "# your dandi api key can be found on dandi, if you press your profile icon in the top-right corner\n",
    "authenticate = False\n",
    "dandi_api_key = \"\""
   ]
  },
  {
   "cell_type": "code",
   "execution_count": null,
   "id": "1c42049e",
   "metadata": {},
   "outputs": [],
   "source": [
    "if authenticate:\n",
    "    client = dandiapi.DandiAPIClient(token=dandi_api_key)\n",
    "else:\n",
    "    client = dandiapi.DandiAPIClient()\n",
    "    \n",
    "my_dandiset = client.get_dandiset(dandiset_id)"
   ]
  },
  {
   "cell_type": "markdown",
   "id": "420ef8ac",
   "metadata": {},
   "source": [
    "#### Download just one file"
   ]
  },
  {
   "cell_type": "code",
   "execution_count": null,
   "id": "fe9aa40c",
   "metadata": {},
   "outputs": [],
   "source": [
    "# file path within dandiset (don't include leading '/')\n",
    "filepath = \"sub-P18HMH/sub-P18HMH_ses-20080601_ecephys+image.nwb\"\n"
   ]
  }
 ],
 "metadata": {
  "kernelspec": {
   "display_name": "Python 3 (ipykernel)",
   "language": "python",
   "name": "python3"
  },
  "language_info": {
   "codemirror_mode": {
    "name": "ipython",
    "version": 3
   },
   "file_extension": ".py",
   "mimetype": "text/x-python",
   "name": "python",
   "nbconvert_exporter": "python",
   "pygments_lexer": "ipython3",
   "version": "3.9.10"
  }
 },
 "nbformat": 4,
 "nbformat_minor": 5
}
