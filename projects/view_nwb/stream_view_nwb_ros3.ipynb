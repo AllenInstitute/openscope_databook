{
 "cells": [
  {
   "cell_type": "markdown",
   "id": "e54a7fde",
   "metadata": {},
   "source": [
    "### Environment Setup"
   ]
  },
  {
   "cell_type": "code",
   "execution_count": 1,
   "id": "bea09743",
   "metadata": {},
   "outputs": [
    {
     "name": "stdout",
     "output_type": "stream",
     "text": [
      "Name: h5py\n",
      "Version: 3.7.0\n",
      "Summary: Read and write HDF5 files from Python\n",
      "Home-page: http://www.h5py.org\n",
      "Author: Andrew Collette\n",
      "Author-email: andrew.collette@gmail.com\n",
      "License: BSD\n",
      "Location: c:\\users\\carter.peene\\miniconda3\\envs\\dandi_stream\\lib\\site-packages\n",
      "Requires: numpy\n",
      "Required-by: hdmf, pynwb\n"
     ]
    }
   ],
   "source": [
    "!pip show h5py"
   ]
  },
  {
   "cell_type": "code",
   "execution_count": 2,
   "id": "a7be77ce",
   "metadata": {},
   "outputs": [
    {
     "ename": "ModuleNotFoundError",
     "evalue": "No module named 'h5py'",
     "output_type": "error",
     "traceback": [
      "\u001b[1;31m---------------------------------------------------------------------------\u001b[0m",
      "\u001b[1;31mModuleNotFoundError\u001b[0m                       Traceback (most recent call last)",
      "Cell \u001b[1;32mIn [2], line 1\u001b[0m\n\u001b[1;32m----> 1\u001b[0m \u001b[38;5;28;01mfrom\u001b[39;00m \u001b[38;5;21;01mpynwb\u001b[39;00m \u001b[38;5;28;01mimport\u001b[39;00m NWBHDFIO\n",
      "File \u001b[1;32m~\\AppData\\Local\\Programs\\Python\\Python39\\lib\\site-packages\\pynwb\\__init__.py:8\u001b[0m\n\u001b[0;32m      6\u001b[0m \u001b[38;5;28;01mfrom\u001b[39;00m \u001b[38;5;21;01mcopy\u001b[39;00m \u001b[38;5;28;01mimport\u001b[39;00m deepcopy\n\u001b[0;32m      7\u001b[0m \u001b[38;5;28;01mfrom\u001b[39;00m \u001b[38;5;21;01mwarnings\u001b[39;00m \u001b[38;5;28;01mimport\u001b[39;00m warn\n\u001b[1;32m----> 8\u001b[0m \u001b[38;5;28;01mimport\u001b[39;00m \u001b[38;5;21;01mh5py\u001b[39;00m\n\u001b[0;32m     10\u001b[0m \u001b[38;5;28;01mfrom\u001b[39;00m \u001b[38;5;21;01mhdmf\u001b[39;00m\u001b[38;5;21;01m.\u001b[39;00m\u001b[38;5;21;01mspec\u001b[39;00m \u001b[38;5;28;01mimport\u001b[39;00m NamespaceCatalog\n\u001b[0;32m     11\u001b[0m \u001b[38;5;28;01mfrom\u001b[39;00m \u001b[38;5;21;01mhdmf\u001b[39;00m\u001b[38;5;21;01m.\u001b[39;00m\u001b[38;5;21;01mutils\u001b[39;00m \u001b[38;5;28;01mimport\u001b[39;00m docval, getargs, popargs, get_docval\n",
      "\u001b[1;31mModuleNotFoundError\u001b[0m: No module named 'h5py'"
     ]
    }
   ],
   "source": [
    "from pynwb import NWBHDFIO"
   ]
  },
  {
   "cell_type": "code",
   "execution_count": null,
   "id": "00134bf4",
   "metadata": {},
   "outputs": [
    {
     "name": "stdout",
     "output_type": "stream",
     "text": [
      "Collecting dandi\n",
      "  Using cached dandi-0.46.3-py3-none-any.whl (215 kB)\n",
      "Collecting zarr~=2.10\n",
      "  Using cached zarr-2.13.2-py3-none-any.whl (190 kB)\n",
      "Collecting nwbinspector>=0.4.12\n",
      "  Using cached nwbinspector-0.4.14-py3-none-any.whl (38 kB)\n",
      "Collecting pynwb!=1.1.0,>=1.0.3\n",
      "  Using cached pynwb-2.1.0-py2.py3-none-any.whl (118 kB)\n",
      "Collecting appdirs\n",
      "  Using cached appdirs-1.4.4-py2.py3-none-any.whl (9.6 kB)\n",
      "Collecting interleave~=0.1\n",
      "  Using cached interleave-0.2.1-py3-none-any.whl (11 kB)\n",
      "Collecting fscacher\n",
      "  Using cached fscacher-0.2.0-py3-none-any.whl (11 kB)\n",
      "Collecting tenacity\n",
      "  Using cached tenacity-8.1.0-py3-none-any.whl (23 kB)\n",
      "Collecting etelemetry>=0.2.2\n",
      "  Using cached etelemetry-0.3.0-py3-none-any.whl (6.3 kB)\n",
      "Collecting requests~=2.20\n",
      "  Using cached requests-2.28.1-py3-none-any.whl (62 kB)\n",
      "Collecting packaging\n",
      "  Using cached packaging-21.3-py3-none-any.whl (40 kB)\n",
      "Collecting keyrings.alt\n",
      "  Using cached keyrings.alt-4.2.0-py3-none-any.whl (20 kB)\n",
      "Collecting keyring!=23.9.0\n",
      "  Using cached keyring-23.9.3-py3-none-any.whl (35 kB)\n",
      "Collecting pydantic>=1.9.0\n",
      "  Downloading pydantic-1.10.2-cp310-cp310-win_amd64.whl (2.1 MB)\n",
      "     ---------------------------------------- 2.1/2.1 MB 4.4 MB/s eta 0:00:00\n",
      "Collecting dandischema~=0.7.0\n",
      "  Using cached dandischema-0.7.1-py3-none-any.whl (63 kB)\n",
      "Collecting ruamel.yaml<1,>=0.15\n",
      "  Using cached ruamel.yaml-0.17.21-py3-none-any.whl (109 kB)\n",
      "Collecting fasteners\n",
      "  Using cached fasteners-0.18-py3-none-any.whl (18 kB)\n",
      "Collecting semantic-version\n",
      "  Using cached semantic_version-2.10.0-py2.py3-none-any.whl (15 kB)\n",
      "Collecting humanize\n",
      "  Using cached humanize-4.4.0-py3-none-any.whl (106 kB)\n",
      "Collecting joblib\n",
      "  Using cached joblib-1.2.0-py3-none-any.whl (297 kB)\n",
      "Collecting click-didyoumean\n",
      "  Using cached click_didyoumean-0.3.0-py3-none-any.whl (2.7 kB)\n",
      "Collecting pyout!=0.6.0,>=0.5\n",
      "  Using cached pyout-0.7.2-py3-none-any.whl (51 kB)\n",
      "Collecting bidsschematools\n",
      "  Using cached bidsschematools-0.5.1-py3-none-any.whl (1.3 MB)\n",
      "Collecting python-dateutil\n",
      "  Using cached python_dateutil-2.8.2-py2.py3-none-any.whl (247 kB)\n",
      "Collecting click\n",
      "  Using cached click-8.1.3-py3-none-any.whl (96 kB)\n",
      "Collecting pycryptodomex\n",
      "  Using cached pycryptodomex-3.15.0-cp35-abi3-win_amd64.whl (1.9 MB)\n",
      "Collecting jsonschema[format]\n",
      "  Using cached jsonschema-4.16.0-py3-none-any.whl (83 kB)\n",
      "Collecting ci-info>=0.2\n",
      "  Using cached ci_info-0.3.0-py3-none-any.whl (7.8 kB)\n",
      "Collecting jaraco.classes\n",
      "  Using cached jaraco.classes-3.2.3-py3-none-any.whl (6.0 kB)\n",
      "Collecting pywin32-ctypes!=0.1.0,!=0.1.1\n",
      "  Using cached pywin32_ctypes-0.2.0-py2.py3-none-any.whl (28 kB)\n",
      "Collecting PyYAML\n",
      "  Downloading PyYAML-6.0-cp310-cp310-win_amd64.whl (151 kB)\n",
      "     -------------------------------------- 151.7/151.7 kB 4.4 MB/s eta 0:00:00\n",
      "Collecting tqdm\n",
      "  Using cached tqdm-4.64.1-py2.py3-none-any.whl (78 kB)\n",
      "Collecting natsort\n",
      "  Using cached natsort-8.2.0-py3-none-any.whl (37 kB)\n",
      "Collecting numpy<1.23.0,>=1.22.0\n",
      "  Using cached numpy-1.22.4-cp310-cp310-win_amd64.whl (14.7 MB)\n",
      "Collecting typing-extensions>=4.1.0\n",
      "  Using cached typing_extensions-4.3.0-py3-none-any.whl (25 kB)\n",
      "Requirement already satisfied: h5py<4,>=2.10 in c:\\users\\carter.peene\\miniconda3\\envs\\dandi_stream\\lib\\site-packages (from pynwb!=1.1.0,>=1.0.3->dandi) (3.7.0)\n",
      "Collecting pandas<2,>=1.0.5\n",
      "  Using cached pandas-1.5.0-cp310-cp310-win_amd64.whl (10.4 MB)\n",
      "Requirement already satisfied: setuptools in c:\\users\\carter.peene\\miniconda3\\envs\\dandi_stream\\lib\\site-packages (from pynwb!=1.1.0,>=1.0.3->dandi) (65.4.1)\n",
      "Collecting hdmf<4,>=3.3.2\n",
      "  Using cached hdmf-3.4.6-py3-none-any.whl (187 kB)\n",
      "Collecting six>=1.5\n",
      "  Using cached six-1.16.0-py2.py3-none-any.whl (11 kB)\n",
      "Collecting urllib3<1.27,>=1.21.1\n",
      "  Using cached urllib3-1.26.12-py2.py3-none-any.whl (140 kB)\n",
      "Collecting certifi>=2017.4.17\n",
      "  Downloading certifi-2022.9.24-py3-none-any.whl (161 kB)\n",
      "     ---------------------------------------- 161.1/161.1 kB ? eta 0:00:00\n",
      "Collecting idna<4,>=2.5\n",
      "  Using cached idna-3.4-py3-none-any.whl (61 kB)\n",
      "Collecting charset-normalizer<3,>=2\n",
      "  Using cached charset_normalizer-2.1.1-py3-none-any.whl (39 kB)\n",
      "Collecting ruamel.yaml.clib>=0.2.6\n",
      "  Using cached ruamel.yaml.clib-0.2.6-cp310-cp310-win_amd64.whl (118 kB)\n",
      "Collecting numcodecs>=0.10.0\n",
      "  Using cached numcodecs-0.10.2-cp310-cp310-win_amd64.whl (825 kB)\n",
      "Collecting asciitree\n",
      "  Using cached asciitree-0.3.3.tar.gz (4.0 kB)\n",
      "  Preparing metadata (setup.py): started\n",
      "  Preparing metadata (setup.py): finished with status 'done'\n",
      "Collecting colorama\n",
      "  Using cached colorama-0.4.5-py2.py3-none-any.whl (16 kB)\n",
      "Collecting pyparsing!=3.0.5,>=2.0.2\n",
      "  Using cached pyparsing-3.0.9-py3-none-any.whl (98 kB)\n",
      "Collecting scipy<2,>=1.1\n",
      "  Using cached scipy-1.9.1-cp310-cp310-win_amd64.whl (38.6 MB)\n",
      "Collecting attrs>=17.4.0\n",
      "  Using cached attrs-22.1.0-py2.py3-none-any.whl (58 kB)\n",
      "Collecting pyrsistent!=0.17.0,!=0.17.1,!=0.17.2,>=0.14.0\n",
      "  Using cached pyrsistent-0.18.1-cp310-cp310-win_amd64.whl (61 kB)\n",
      "Collecting entrypoints\n",
      "  Using cached entrypoints-0.4-py3-none-any.whl (5.3 kB)\n",
      "Collecting pytz>=2020.1\n",
      "  Using cached pytz-2022.4-py2.py3-none-any.whl (500 kB)\n",
      "Collecting email-validator>=1.0.3\n",
      "  Using cached email_validator-1.3.0-py2.py3-none-any.whl (22 kB)\n",
      "Collecting more-itertools\n",
      "  Using cached more_itertools-8.14.0-py3-none-any.whl (52 kB)\n",
      "Collecting fqdn\n",
      "  Using cached fqdn-1.5.1-py3-none-any.whl (9.1 kB)\n",
      "Collecting jsonpointer>1.13\n",
      "  Using cached jsonpointer-2.3-py2.py3-none-any.whl (7.8 kB)\n",
      "Collecting rfc3987\n",
      "  Using cached rfc3987-1.3.8-py2.py3-none-any.whl (13 kB)\n",
      "Collecting isoduration\n",
      "  Using cached isoduration-20.11.0-py3-none-any.whl (11 kB)\n",
      "Collecting rfc3339-validator\n",
      "  Using cached rfc3339_validator-0.1.4-py2.py3-none-any.whl (3.5 kB)\n",
      "Collecting uri-template\n",
      "  Using cached uri_template-1.2.0-py3-none-any.whl (10 kB)\n",
      "Collecting webcolors>=1.11\n",
      "  Using cached webcolors-1.12-py3-none-any.whl (9.9 kB)\n",
      "Collecting dnspython>=1.15.0\n",
      "  Using cached dnspython-2.2.1-py3-none-any.whl (269 kB)\n",
      "Collecting arrow>=0.15.0\n",
      "  Using cached arrow-1.2.3-py3-none-any.whl (66 kB)\n",
      "Building wheels for collected packages: asciitree\n",
      "  Building wheel for asciitree (setup.py): started\n",
      "  Building wheel for asciitree (setup.py): finished with status 'done'\n",
      "  Created wheel for asciitree: filename=asciitree-0.3.3-py3-none-any.whl size=5034 sha256=bd90df5b1ee760dde327d57bc4588925fd8185105191a8e2f767ed6293fb3be7\n",
      "  Stored in directory: c:\\users\\carter.peene\\appdata\\local\\pip\\cache\\wheels\\7f\\4e\\be\\1171b40f43b918087657ec57cf3b81fa1a2e027d8755baa184\n",
      "Successfully built asciitree\n",
      "Installing collected packages: rfc3987, pywin32-ctypes, pytz, asciitree, appdirs, webcolors, urllib3, uri-template, typing-extensions, tenacity, six, semantic-version, ruamel.yaml.clib, PyYAML, pyrsistent, pyparsing, pycryptodomex, numpy, natsort, more-itertools, jsonpointer, joblib, interleave, idna, humanize, fqdn, fasteners, entrypoints, dnspython, colorama, ci-info, charset-normalizer, certifi, attrs, tqdm, scipy, ruamel.yaml, rfc3339-validator, requests, python-dateutil, pydantic, packaging, numcodecs, jsonschema, jaraco.classes, fscacher, email-validator, click, zarr, pyout, pandas, keyrings.alt, keyring, etelemetry, click-didyoumean, bidsschematools, arrow, isoduration, hdmf, pynwb, nwbinspector, dandischema, dandi\n",
      "  Attempting uninstall: numpy\n",
      "    Found existing installation: numpy 1.23.3\n",
      "    Uninstalling numpy-1.23.3:\n",
      "      Successfully uninstalled numpy-1.23.3\n",
      "Successfully installed PyYAML-6.0 appdirs-1.4.4 arrow-1.2.3 asciitree-0.3.3 attrs-22.1.0 bidsschematools-0.5.1 certifi-2022.9.24 charset-normalizer-2.1.1 ci-info-0.3.0 click-8.1.3 click-didyoumean-0.3.0 colorama-0.4.5 dandi-0.46.3 dandischema-0.7.1 dnspython-2.2.1 email-validator-1.3.0 entrypoints-0.4 etelemetry-0.3.0 fasteners-0.18 fqdn-1.5.1 fscacher-0.2.0 hdmf-3.4.6 humanize-4.4.0 idna-3.4 interleave-0.2.1 isoduration-20.11.0 jaraco.classes-3.2.3 joblib-1.2.0 jsonpointer-2.3 jsonschema-4.16.0 keyring-23.9.3 keyrings.alt-4.2.0 more-itertools-8.14.0 natsort-8.2.0 numcodecs-0.10.2 numpy-1.22.4 nwbinspector-0.4.14 packaging-21.3 pandas-1.5.0 pycryptodomex-3.15.0 pydantic-1.10.2 pynwb-2.1.0 pyout-0.7.2 pyparsing-3.0.9 pyrsistent-0.18.1 python-dateutil-2.8.2 pytz-2022.4 pywin32-ctypes-0.2.0 requests-2.28.1 rfc3339-validator-0.1.4 rfc3987-1.3.8 ruamel.yaml-0.17.21 ruamel.yaml.clib-0.2.6 scipy-1.9.1 semantic-version-2.10.0 six-1.16.0 tenacity-8.1.0 tqdm-4.64.1 typing-extensions-4.3.0 uri-template-1.2.0 urllib3-1.26.12 webcolors-1.12 zarr-2.13.2\n"
     ]
    },
    {
     "name": "stdout",
     "output_type": "stream",
     "text": [
      "Collecting fsspec\n",
      "  Using cached fsspec-2022.8.2-py3-none-any.whl (140 kB)\n",
      "Requirement already satisfied: requests in c:\\users\\carter.peene\\miniconda3\\envs\\dandi_stream\\lib\\site-packages (2.28.1)\n",
      "Collecting aiohttp\n",
      "  Downloading aiohttp-3.8.3-cp310-cp310-win_amd64.whl (319 kB)\n",
      "     -------------------------------------- 319.7/319.7 kB 1.1 MB/s eta 0:00:00\n",
      "Requirement already satisfied: certifi>=2017.4.17 in c:\\users\\carter.peene\\miniconda3\\envs\\dandi_stream\\lib\\site-packages (from requests) (2022.9.24)\n",
      "Requirement already satisfied: urllib3<1.27,>=1.21.1 in c:\\users\\carter.peene\\miniconda3\\envs\\dandi_stream\\lib\\site-packages (from requests) (1.26.12)\n",
      "Requirement already satisfied: idna<4,>=2.5 in c:\\users\\carter.peene\\miniconda3\\envs\\dandi_stream\\lib\\site-packages (from requests) (3.4)\n",
      "Requirement already satisfied: charset-normalizer<3,>=2 in c:\\users\\carter.peene\\miniconda3\\envs\\dandi_stream\\lib\\site-packages (from requests) (2.1.1)\n",
      "Collecting multidict<7.0,>=4.5\n",
      "  Downloading multidict-6.0.2-cp310-cp310-win_amd64.whl (27 kB)\n",
      "Collecting async-timeout<5.0,>=4.0.0a3\n",
      "  Using cached async_timeout-4.0.2-py3-none-any.whl (5.8 kB)\n",
      "Collecting yarl<2.0,>=1.0\n",
      "  Downloading yarl-1.8.1-cp310-cp310-win_amd64.whl (55 kB)\n",
      "     ---------------------------------------- 55.9/55.9 kB 2.9 MB/s eta 0:00:00\n",
      "Collecting frozenlist>=1.1.1\n",
      "  Downloading frozenlist-1.3.1-cp310-cp310-win_amd64.whl (33 kB)\n",
      "Collecting aiosignal>=1.1.2\n",
      "  Using cached aiosignal-1.2.0-py3-none-any.whl (8.2 kB)\n",
      "Requirement already satisfied: attrs>=17.3.0 in c:\\users\\carter.peene\\miniconda3\\envs\\dandi_stream\\lib\\site-packages (from aiohttp) (22.1.0)\n",
      "Installing collected packages: multidict, fsspec, frozenlist, async-timeout, yarl, aiosignal, aiohttp\n",
      "Successfully installed aiohttp-3.8.3 aiosignal-1.2.0 async-timeout-4.0.2 frozenlist-1.3.1 fsspec-2022.8.2 multidict-6.0.2 yarl-1.8.1\n"
     ]
    }
   ],
   "source": [
    "!pip install dandi\n",
    "!pip install fsspec requests aiohttp\n",
    "!pip install nwbwidgets"
   ]
  },
  {
   "cell_type": "markdown",
   "id": "5731bf71",
   "metadata": {},
   "source": [
    "### Download files\n",
    "Run these cells for each dandiset and filepath you want to download.\n",
    "No need to run these if the file you're interested in is already downloaded."
   ]
  },
  {
   "cell_type": "code",
   "execution_count": null,
   "id": "f3f97f13",
   "metadata": {},
   "outputs": [],
   "source": [
    "### download configuration\n",
    "\n",
    "dandiset_id = \"000336\"\n",
    "# file path within dandiset (don't include leading '/')\n",
    "filepath = \"sub-1202533446/sub-1202533446_ophys.nwb\"\n",
    "\n",
    "# if you want to access an embargoed dandiset, you must set 'authenticate' to True and provide a dandi api key\n",
    "# your dandi api key can be found on dandi, if you press your profile icon in the top-right corner\n",
    "authenticate = True\n",
    "dandi_api_key = \"c3ccc16df82a86fd8c25a6b233bfd27d9da3f2b4\"\n"
   ]
  },
  {
   "cell_type": "code",
   "execution_count": null,
   "id": "a51caf90",
   "metadata": {},
   "outputs": [],
   "source": [
    "from dandi import dandiapi\n",
    "import dandi\n",
    "\n",
    "if authenticate:\n",
    "    client = dandiapi.DandiAPIClient(token=dandi_api_key)\n",
    "else:\n",
    "    client = dandiapi.DandiAPIClient()\n",
    "    \n",
    "my_dandiset = client.get_dandiset(dandiset_id)\n"
   ]
  },
  {
   "cell_type": "code",
   "execution_count": null,
   "id": "d131ad56",
   "metadata": {},
   "outputs": [],
   "source": [
    "file = my_dandiset.get_asset_by_path(filepath)\n",
    "file_url = file.get_content_url(follow_redirects=1, strip_query=True)"
   ]
  },
  {
   "cell_type": "markdown",
   "id": "3df13a24",
   "metadata": {},
   "source": [
    "### Display nwb file\n",
    "Choose the nwb file you want to view and display it here!"
   ]
  },
  {
   "cell_type": "code",
   "execution_count": 2,
   "id": "d15db3bb",
   "metadata": {
    "scrolled": true
   },
   "outputs": [
    {
     "ename": "ModuleNotFoundError",
     "evalue": "No module named 'h5py'",
     "output_type": "error",
     "traceback": [
      "\u001b[1;31m---------------------------------------------------------------------------\u001b[0m",
      "\u001b[1;31mModuleNotFoundError\u001b[0m                       Traceback (most recent call last)",
      "Cell \u001b[1;32mIn [2], line 1\u001b[0m\n\u001b[1;32m----> 1\u001b[0m \u001b[38;5;28;01mfrom\u001b[39;00m \u001b[38;5;21;01mpynwb\u001b[39;00m \u001b[38;5;28;01mimport\u001b[39;00m NWBHDF5IO\n\u001b[0;32m      3\u001b[0m \u001b[38;5;28;01mwith\u001b[39;00m NWBHDF5IO(file_url, mode\u001b[38;5;241m=\u001b[39m\u001b[38;5;124m'\u001b[39m\u001b[38;5;124mr\u001b[39m\u001b[38;5;124m'\u001b[39m, load_namespaces\u001b[38;5;241m=\u001b[39m\u001b[38;5;28;01mTrue\u001b[39;00m, driver\u001b[38;5;241m=\u001b[39m\u001b[38;5;124m'\u001b[39m\u001b[38;5;124mros3\u001b[39m\u001b[38;5;124m'\u001b[39m) \u001b[38;5;28;01mas\u001b[39;00m io:\n\u001b[0;32m      4\u001b[0m     nwb \u001b[38;5;241m=\u001b[39m io\u001b[38;5;241m.\u001b[39mread()\n",
      "File \u001b[1;32m~\\AppData\\Local\\Programs\\Python\\Python39\\lib\\site-packages\\pynwb\\__init__.py:8\u001b[0m\n\u001b[0;32m      6\u001b[0m \u001b[38;5;28;01mfrom\u001b[39;00m \u001b[38;5;21;01mcopy\u001b[39;00m \u001b[38;5;28;01mimport\u001b[39;00m deepcopy\n\u001b[0;32m      7\u001b[0m \u001b[38;5;28;01mfrom\u001b[39;00m \u001b[38;5;21;01mwarnings\u001b[39;00m \u001b[38;5;28;01mimport\u001b[39;00m warn\n\u001b[1;32m----> 8\u001b[0m \u001b[38;5;28;01mimport\u001b[39;00m \u001b[38;5;21;01mh5py\u001b[39;00m\n\u001b[0;32m     10\u001b[0m \u001b[38;5;28;01mfrom\u001b[39;00m \u001b[38;5;21;01mhdmf\u001b[39;00m\u001b[38;5;21;01m.\u001b[39;00m\u001b[38;5;21;01mspec\u001b[39;00m \u001b[38;5;28;01mimport\u001b[39;00m NamespaceCatalog\n\u001b[0;32m     11\u001b[0m \u001b[38;5;28;01mfrom\u001b[39;00m \u001b[38;5;21;01mhdmf\u001b[39;00m\u001b[38;5;21;01m.\u001b[39;00m\u001b[38;5;21;01mutils\u001b[39;00m \u001b[38;5;28;01mimport\u001b[39;00m docval, getargs, popargs, get_docval\n",
      "\u001b[1;31mModuleNotFoundError\u001b[0m: No module named 'h5py'"
     ]
    }
   ],
   "source": [
    "from pynwb import NWBHDF5IO\n",
    "\n",
    "with NWBHDF5IO(file_url, mode='r', load_namespaces=True, driver='ros3') as io:\n",
    "    nwb = io.read()"
   ]
  },
  {
   "cell_type": "code",
   "execution_count": null,
   "id": "91031da2",
   "metadata": {},
   "outputs": [],
   "source": [
    "### uncomment these to view aspects of the file\n",
    "### note that not all these properties exist for all nwb files\n",
    "print(nwb.electrodes)\n",
    "# nwb.identifier\n",
    "# nwb.processing\n",
    "# nwb.acquisition[\"events\"]\n",
    "# nwb.intervals[\"trials\"]\n",
    "# nwb.stimulus[\"StimulusPresentation\"]\n",
    "# nwb.electrodes"
   ]
  },
  {
   "cell_type": "code",
   "execution_count": null,
   "id": "3e06b964",
   "metadata": {},
   "outputs": [],
   "source": [
    "nwb"
   ]
  }
 ],
 "metadata": {
  "kernelspec": {
   "display_name": "Python 3 (ipykernel)",
   "language": "python",
   "name": "python3"
  },
  "language_info": {
   "codemirror_mode": {
    "name": "ipython",
    "version": 3
   },
   "file_extension": ".py",
   "mimetype": "text/x-python",
   "name": "python",
   "nbconvert_exporter": "python",
   "pygments_lexer": "ipython3",
   "version": "3.9.10"
  }
 },
 "nbformat": 4,
 "nbformat_minor": 5
}
