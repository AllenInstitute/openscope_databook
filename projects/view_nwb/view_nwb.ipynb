{
 "cells": [
  {
   "cell_type": "markdown",
   "id": "e54a7fde",
   "metadata": {},
   "source": [
    "### Environment Setup"
   ]
  },
  {
   "cell_type": "code",
   "execution_count": null,
   "id": "00134bf4",
   "metadata": {},
   "outputs": [],
   "source": [
    "!pip install dandi\n",
    "!pip install nwbwidgets"
   ]
  },
  {
   "cell_type": "markdown",
   "id": "5731bf71",
   "metadata": {},
   "source": [
    "### Download files\n",
    "Run these cells for each dandiset and filepath you want to download.\n",
    "No need to run these if the file you're interested in is already downloaded."
   ]
  },
  {
   "cell_type": "code",
   "execution_count": null,
   "id": "f3f97f13",
   "metadata": {},
   "outputs": [],
   "source": [
    "### download configuration\n",
    "\n",
    "dandiset_id = \"000004\"\n",
    "# file path within dandiset (don't include leading '/')\n",
    "filepath = \"sub-P18HMH/sub-P18HMH_ses-20080601_ecephys+image.nwb\"\n",
    "# where to download locally\n",
    "data_loc = \"../../data\"\n",
    "\n",
    "# if you want to access an embargoed dandiset, you must set 'authenticate' to True and provide a dandi api key\n",
    "# your dandi api key can be found on dandi, if you press your profile icon in the top-right corner\n",
    "authenticate = False\n",
    "dandi_api_key = \"\"\n"
   ]
  },
  {
   "cell_type": "code",
   "execution_count": null,
   "id": "a51caf90",
   "metadata": {},
   "outputs": [],
   "source": [
    "from dandi import dandiapi\n",
    "import dandi\n",
    "\n",
    "if authenticate:\n",
    "    client = dandiapi.DandiAPIClient(token=dandi_api_key)\n",
    "else:\n",
    "    client = dandiapi.DandiAPIClient()\n",
    "    \n",
    "my_dandiset = client.get_dandiset(dandiset_id)\n",
    "print(my_dandiset)\n"
   ]
  },
  {
   "cell_type": "code",
   "execution_count": null,
   "id": "d131ad56",
   "metadata": {},
   "outputs": [],
   "source": [
    "file = my_dandiset.get_asset_by_path(filepath)\n",
    "filename = filepath.split(\"/\")[-1]\n",
    "# this may take awhile, especially if the file to download is large\n",
    "file.download(f\"{data_loc}/{filename}\")"
   ]
  },
  {
   "cell_type": "markdown",
   "id": "3df13a24",
   "metadata": {},
   "source": [
    "### Display nwb file\n",
    "Choose the nwb file you want to download and display it here!"
   ]
  },
  {
   "cell_type": "code",
   "execution_count": null,
   "id": "4081b9fa",
   "metadata": {},
   "outputs": [],
   "source": [
    "nwb_filepath = f\"{data_loc}/{filename}\"\n",
    "# or set your own filepath to choose below\n",
    "# nwb_filepath = \"\""
   ]
  },
  {
   "cell_type": "code",
   "execution_count": null,
   "id": "0691fffc",
   "metadata": {
    "scrolled": false
   },
   "outputs": [],
   "source": [
    "from pynwb import NWBHDF5IO\n",
    "from nwbwidgets import nwb2widget\n",
    "\n",
    "io = NWBHDF5IO(nwb_filepath, mode=\"r\", load_namespaces=True)\n",
    "nwb = io.read()\n",
    "\n",
    "nwb2widget(nwb)\n"
   ]
  }
 ],
 "metadata": {
  "kernelspec": {
   "display_name": "Python 3 (ipykernel)",
   "language": "python",
   "name": "python3"
  },
  "language_info": {
   "codemirror_mode": {
    "name": "ipython",
    "version": 3
   },
   "file_extension": ".py",
   "mimetype": "text/x-python",
   "name": "python",
   "nbconvert_exporter": "python",
   "pygments_lexer": "ipython3",
   "version": "3.9.10"
  }
 },
 "nbformat": 4,
 "nbformat_minor": 5
}
