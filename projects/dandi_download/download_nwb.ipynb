{
 "cells": [
  {
   "cell_type": "code",
   "execution_count": 32,
   "id": "30588dd7",
   "metadata": {},
   "outputs": [],
   "source": [
    "dandiset_id = \"000003\"\n",
    "authenticate = False\n",
    "token = \"\"\n",
    "download_dest = \"../../data\"\n",
    "DANDI_API_KEY=\"2370da0474374de79d7653531591574f38415e91\""
   ]
  },
  {
   "cell_type": "code",
   "execution_count": null,
   "id": "483153f8",
   "metadata": {
    "scrolled": false
   },
   "outputs": [],
   "source": [
    "from dandi import dandiapi\n",
    "import dandi\n",
    "\n",
    "if authenticate:\n",
    "    client = dandiapi.DandiAPIClient(token=DANDI)\n",
    "else:\n",
    "    client = dandiapi.DandiAPIClient()\n",
    "    \n",
    "my_dandiset = client.get_dandiset(dandiset_id)\n",
    "print(my_dandiset)\n"
   ]
  },
  {
   "cell_type": "code",
   "execution_count": null,
   "id": "f6cf9160",
   "metadata": {},
   "outputs": [],
   "source": [
    "id = \n",
    "file = my_dandiset.get_asset()"
   ]
  },
  {
   "cell_type": "code",
   "execution_count": 1,
   "id": "d784c6bc",
   "metadata": {},
   "outputs": [
    {
     "ename": "NameError",
     "evalue": "name 'my_dandiset' is not defined",
     "output_type": "error",
     "traceback": [
      "\u001b[1;31m---------------------------------------------------------------------------\u001b[0m",
      "\u001b[1;31mNameError\u001b[0m                                 Traceback (most recent call last)",
      "Cell \u001b[1;32mIn [1], line 2\u001b[0m\n\u001b[0;32m      1\u001b[0m filepath \u001b[38;5;241m=\u001b[39m \u001b[38;5;124m\"\u001b[39m\u001b[38;5;124msub-YutaMouse20/sub-YutaMouse20_ses-YutaMouse20-140321_behavior+ecephys.nwb\u001b[39m\u001b[38;5;124m\"\u001b[39m\n\u001b[1;32m----> 2\u001b[0m file \u001b[38;5;241m=\u001b[39m \u001b[43mmy_dandiset\u001b[49m\u001b[38;5;241m.\u001b[39mget_asset_by_path(filepath)\n\u001b[0;32m      3\u001b[0m file\u001b[38;5;241m.\u001b[39mdownload(\u001b[38;5;124mf\u001b[39m\u001b[38;5;124m\"\u001b[39m\u001b[38;5;124m../../\u001b[39m\u001b[38;5;132;01m{\u001b[39;00mfilepath\u001b[38;5;132;01m}\u001b[39;00m\u001b[38;5;124m\"\u001b[39m)\n",
      "\u001b[1;31mNameError\u001b[0m: name 'my_dandiset' is not defined"
     ]
    }
   ],
   "source": [
    "filepath = \"sub-YutaMouse20/sub-YutaMouse20_ses-YutaMouse20-140321_behavior+ecephys.nwb\"\n",
    "file = my_dandiset.get_asset_by_path(filepath)\n",
    "file.download(f\"../../{filepath}\")"
   ]
  },
  {
   "cell_type": "code",
   "execution_count": null,
   "id": "aa8a88a8",
   "metadata": {},
   "outputs": [],
   "source": []
  }
 ],
 "metadata": {
  "kernelspec": {
   "display_name": "Python 3 (ipykernel)",
   "language": "python",
   "name": "python3"
  },
  "language_info": {
   "codemirror_mode": {
    "name": "ipython",
    "version": 3
   },
   "file_extension": ".py",
   "mimetype": "text/x-python",
   "name": "python",
   "nbconvert_exporter": "python",
   "pygments_lexer": "ipython3",
   "version": "3.9.10"
  }
 },
 "nbformat": 4,
 "nbformat_minor": 5
}
