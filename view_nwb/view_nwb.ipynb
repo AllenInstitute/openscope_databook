{
 "cells": [
  {
   "cell_type": "markdown",
   "id": "e54a7fde",
   "metadata": {},
   "source": [
    "### Environment Setup"
   ]
  },
  {
   "cell_type": "code",
   "execution_count": 1,
   "id": "00134bf4",
   "metadata": {},
   "outputs": [
    {
     "name": "stdout",
     "output_type": "stream",
     "text": [
      "Requirement already satisfied: dandi in c:\\users\\carter.peene\\appdata\\local\\programs\\python\\python39\\lib\\site-packages (0.46.3)\n",
      "Requirement already satisfied: joblib in c:\\users\\carter.peene\\appdata\\local\\programs\\python\\python39\\lib\\site-packages (from dandi) (1.2.0)\n",
      "Requirement already satisfied: etelemetry>=0.2.2 in c:\\users\\carter.peene\\appdata\\local\\programs\\python\\python39\\lib\\site-packages (from dandi) (0.3.0)\n",
      "Requirement already satisfied: semantic-version in c:\\users\\carter.peene\\appdata\\local\\programs\\python\\python39\\lib\\site-packages (from dandi) (2.10.0)\n",
      "Requirement already satisfied: ruamel.yaml<1,>=0.15 in c:\\users\\carter.peene\\appdata\\local\\programs\\python\\python39\\lib\\site-packages (from dandi) (0.17.21)\n",
      "Requirement already satisfied: fasteners in c:\\users\\carter.peene\\appdata\\local\\programs\\python\\python39\\lib\\site-packages (from dandi) (0.18)\n",
      "Requirement already satisfied: zarr~=2.10 in c:\\users\\carter.peene\\appdata\\local\\programs\\python\\python39\\lib\\site-packages (from dandi) (2.13.0)\n",
      "Requirement already satisfied: bidsschematools in c:\\users\\carter.peene\\appdata\\local\\programs\\python\\python39\\lib\\site-packages (from dandi) (0.5.1)\n",
      "Requirement already satisfied: fscacher in c:\\users\\carter.peene\\appdata\\local\\programs\\python\\python39\\lib\\site-packages (from dandi) (0.2.0)\n",
      "Requirement already satisfied: dandischema~=0.7.0 in c:\\users\\carter.peene\\appdata\\local\\programs\\python\\python39\\lib\\site-packages (from dandi) (0.7.1)\n",
      "Requirement already satisfied: nwbinspector>=0.4.12 in c:\\users\\carter.peene\\appdata\\local\\programs\\python\\python39\\lib\\site-packages (from dandi) (0.4.13)\n",
      "Requirement already satisfied: pyout!=0.6.0,>=0.5 in c:\\users\\carter.peene\\appdata\\local\\programs\\python\\python39\\lib\\site-packages (from dandi) (0.7.2)\n",
      "Requirement already satisfied: click-didyoumean in c:\\users\\carter.peene\\appdata\\local\\programs\\python\\python39\\lib\\site-packages (from dandi) (0.3.0)\n",
      "Requirement already satisfied: tenacity in c:\\users\\carter.peene\\appdata\\local\\programs\\python\\python39\\lib\\site-packages (from dandi) (8.1.0)\n",
      "Requirement already satisfied: pynwb!=1.1.0,>=1.0.3 in c:\\users\\carter.peene\\appdata\\local\\programs\\python\\python39\\lib\\site-packages (from dandi) (2.1.0)\n",
      "Requirement already satisfied: click in c:\\users\\carter.peene\\appdata\\local\\programs\\python\\python39\\lib\\site-packages (from dandi) (8.1.3)\n",
      "Requirement already satisfied: packaging in c:\\users\\carter.peene\\appdata\\local\\programs\\python\\python39\\lib\\site-packages (from dandi) (21.3)\n",
      "Requirement already satisfied: pydantic>=1.9.0 in c:\\users\\carter.peene\\appdata\\local\\programs\\python\\python39\\lib\\site-packages (from dandi) (1.10.2)\n",
      "Requirement already satisfied: humanize in c:\\users\\carter.peene\\appdata\\local\\programs\\python\\python39\\lib\\site-packages (from dandi) (4.4.0)\n",
      "Requirement already satisfied: interleave~=0.1 in c:\\users\\carter.peene\\appdata\\local\\programs\\python\\python39\\lib\\site-packages (from dandi) (0.2.1)\n",
      "Requirement already satisfied: pycryptodomex in c:\\users\\carter.peene\\appdata\\local\\programs\\python\\python39\\lib\\site-packages (from dandi) (3.15.0)\n",
      "Requirement already satisfied: keyrings.alt in c:\\users\\carter.peene\\appdata\\local\\programs\\python\\python39\\lib\\site-packages (from dandi) (4.2.0)\n",
      "Requirement already satisfied: appdirs in c:\\users\\carter.peene\\appdata\\local\\programs\\python\\python39\\lib\\site-packages (from dandi) (1.4.4)\n",
      "Requirement already satisfied: requests~=2.20 in c:\\users\\carter.peene\\appdata\\local\\programs\\python\\python39\\lib\\site-packages (from dandi) (2.28.1)\n",
      "Requirement already satisfied: python-dateutil in c:\\users\\carter.peene\\appdata\\local\\programs\\python\\python39\\lib\\site-packages (from dandi) (2.8.2)\n",
      "Requirement already satisfied: keyring!=23.9.0 in c:\\users\\carter.peene\\appdata\\local\\programs\\python\\python39\\lib\\site-packages (from dandi) (23.9.3)\n",
      "Requirement already satisfied: jsonschema[format] in c:\\users\\carter.peene\\appdata\\local\\programs\\python\\python39\\lib\\site-packages (from dandischema~=0.7.0->dandi) (4.16.0)\n",
      "Requirement already satisfied: ci-info>=0.2 in c:\\users\\carter.peene\\appdata\\local\\programs\\python\\python39\\lib\\site-packages (from etelemetry>=0.2.2->dandi) (0.3.0)\n",
      "Requirement already satisfied: pywin32-ctypes!=0.1.0,!=0.1.1 in c:\\users\\carter.peene\\appdata\\local\\programs\\python\\python39\\lib\\site-packages (from keyring!=23.9.0->dandi) (0.2.0)\n",
      "Requirement already satisfied: importlib-metadata>=3.6 in c:\\users\\carter.peene\\appdata\\local\\programs\\python\\python39\\lib\\site-packages (from keyring!=23.9.0->dandi) (4.12.0)\n",
      "Requirement already satisfied: jaraco.classes in c:\\users\\carter.peene\\appdata\\local\\programs\\python\\python39\\lib\\site-packages (from keyring!=23.9.0->dandi) (3.2.2)\n",
      "Requirement already satisfied: zipp>=0.5 in c:\\users\\carter.peene\\appdata\\local\\programs\\python\\python39\\lib\\site-packages (from importlib-metadata>=3.6->keyring!=23.9.0->dandi) (3.8.1)\n",
      "Requirement already satisfied: natsort in c:\\users\\carter.peene\\appdata\\local\\programs\\python\\python39\\lib\\site-packages (from nwbinspector>=0.4.12->dandi) (8.2.0)\n",
      "Requirement already satisfied: numpy<1.23.0,>=1.20.0 in c:\\users\\carter.peene\\appdata\\local\\programs\\python\\python39\\lib\\site-packages (from nwbinspector>=0.4.12->dandi) (1.22.4)\n",
      "Requirement already satisfied: PyYAML in c:\\users\\carter.peene\\appdata\\local\\programs\\python\\python39\\lib\\site-packages (from nwbinspector>=0.4.12->dandi) (6.0)\n",
      "Requirement already satisfied: tqdm in c:\\users\\carter.peene\\appdata\\local\\programs\\python\\python39\\lib\\site-packages (from nwbinspector>=0.4.12->dandi) (4.64.1)\n",
      "Requirement already satisfied: typing-extensions>=4.1.0 in c:\\users\\carter.peene\\appdata\\local\\programs\\python\\python39\\lib\\site-packages (from pydantic>=1.9.0->dandi) (4.3.0)\n",
      "Requirement already satisfied: email-validator>=1.0.3 in c:\\users\\carter.peene\\appdata\\local\\programs\\python\\python39\\lib\\site-packages (from pydantic>=1.9.0->dandi) (1.3.0)\n",
      "Requirement already satisfied: dnspython>=1.15.0 in c:\\users\\carter.peene\\appdata\\local\\programs\\python\\python39\\lib\\site-packages (from email-validator>=1.0.3->pydantic>=1.9.0->dandi) (2.2.1)\n",
      "Requirement already satisfied: idna>=2.0.0 in c:\\users\\carter.peene\\appdata\\local\\programs\\python\\python39\\lib\\site-packages (from email-validator>=1.0.3->pydantic>=1.9.0->dandi) (3.4)\n",
      "Requirement already satisfied: pandas<2,>=1.0.5 in c:\\users\\carter.peene\\appdata\\local\\programs\\python\\python39\\lib\\site-packages (from pynwb!=1.1.0,>=1.0.3->dandi) (1.5.0)\n",
      "Requirement already satisfied: h5py<4,>=2.10 in c:\\users\\carter.peene\\appdata\\local\\programs\\python\\python39\\lib\\site-packages (from pynwb!=1.1.0,>=1.0.3->dandi) (3.7.0)\n",
      "Requirement already satisfied: hdmf<4,>=3.3.2 in c:\\users\\carter.peene\\appdata\\local\\programs\\python\\python39\\lib\\site-packages (from pynwb!=1.1.0,>=1.0.3->dandi) (3.4.5)\n",
      "Requirement already satisfied: setuptools in c:\\users\\carter.peene\\appdata\\local\\programs\\python\\python39\\lib\\site-packages (from pynwb!=1.1.0,>=1.0.3->dandi) (58.1.0)\n",
      "Requirement already satisfied: scipy<2,>=1.1 in c:\\users\\carter.peene\\appdata\\local\\programs\\python\\python39\\lib\\site-packages (from hdmf<4,>=3.3.2->pynwb!=1.1.0,>=1.0.3->dandi) (1.9.1)\n",
      "Requirement already satisfied: pyrsistent!=0.17.0,!=0.17.1,!=0.17.2,>=0.14.0 in c:\\users\\carter.peene\\appdata\\local\\programs\\python\\python39\\lib\\site-packages (from jsonschema[format]->dandischema~=0.7.0->dandi) (0.18.1)\n",
      "Requirement already satisfied: attrs>=17.4.0 in c:\\users\\carter.peene\\appdata\\local\\programs\\python\\python39\\lib\\site-packages (from jsonschema[format]->dandischema~=0.7.0->dandi) (22.1.0)\n",
      "Requirement already satisfied: pytz>=2020.1 in c:\\users\\carter.peene\\appdata\\local\\programs\\python\\python39\\lib\\site-packages (from pandas<2,>=1.0.5->pynwb!=1.1.0,>=1.0.3->dandi) (2022.2.1)\n",
      "Requirement already satisfied: six>=1.5 in c:\\users\\carter.peene\\appdata\\local\\programs\\python\\python39\\lib\\site-packages (from python-dateutil->dandi) (1.16.0)\n",
      "Requirement already satisfied: charset-normalizer<3,>=2 in c:\\users\\carter.peene\\appdata\\local\\programs\\python\\python39\\lib\\site-packages (from requests~=2.20->dandi) (2.1.1)\n",
      "Requirement already satisfied: urllib3<1.27,>=1.21.1 in c:\\users\\carter.peene\\appdata\\local\\programs\\python\\python39\\lib\\site-packages (from requests~=2.20->dandi) (1.26.12)\n",
      "Requirement already satisfied: certifi>=2017.4.17 in c:\\users\\carter.peene\\appdata\\local\\programs\\python\\python39\\lib\\site-packages (from requests~=2.20->dandi) (2022.9.14)\n",
      "Requirement already satisfied: ruamel.yaml.clib>=0.2.6 in c:\\users\\carter.peene\\appdata\\local\\programs\\python\\python39\\lib\\site-packages (from ruamel.yaml<1,>=0.15->dandi) (0.2.6)\n",
      "Requirement already satisfied: numcodecs>=0.10.0 in c:\\users\\carter.peene\\appdata\\local\\programs\\python\\python39\\lib\\site-packages (from zarr~=2.10->dandi) (0.10.2)\n",
      "Requirement already satisfied: asciitree in c:\\users\\carter.peene\\appdata\\local\\programs\\python\\python39\\lib\\site-packages (from zarr~=2.10->dandi) (0.3.3)\n",
      "Requirement already satisfied: entrypoints in c:\\users\\carter.peene\\appdata\\local\\programs\\python\\python39\\lib\\site-packages (from numcodecs>=0.10.0->zarr~=2.10->dandi) (0.4)\n",
      "Requirement already satisfied: colorama in c:\\users\\carter.peene\\appdata\\local\\programs\\python\\python39\\lib\\site-packages (from click->dandi) (0.4.5)\n",
      "Requirement already satisfied: more-itertools in c:\\users\\carter.peene\\appdata\\local\\programs\\python\\python39\\lib\\site-packages (from jaraco.classes->keyring!=23.9.0->dandi) (8.14.0)\n",
      "Requirement already satisfied: jsonpointer>1.13 in c:\\users\\carter.peene\\appdata\\local\\programs\\python\\python39\\lib\\site-packages (from jsonschema[format]->dandischema~=0.7.0->dandi) (2.3)\n",
      "Requirement already satisfied: webcolors>=1.11 in c:\\users\\carter.peene\\appdata\\local\\programs\\python\\python39\\lib\\site-packages (from jsonschema[format]->dandischema~=0.7.0->dandi) (1.12)\n",
      "Requirement already satisfied: rfc3987 in c:\\users\\carter.peene\\appdata\\local\\programs\\python\\python39\\lib\\site-packages (from jsonschema[format]->dandischema~=0.7.0->dandi) (1.3.8)\n",
      "Requirement already satisfied: fqdn in c:\\users\\carter.peene\\appdata\\local\\programs\\python\\python39\\lib\\site-packages (from jsonschema[format]->dandischema~=0.7.0->dandi) (1.5.1)\n",
      "Requirement already satisfied: uri-template in c:\\users\\carter.peene\\appdata\\local\\programs\\python\\python39\\lib\\site-packages (from jsonschema[format]->dandischema~=0.7.0->dandi) (1.2.0)\n",
      "Requirement already satisfied: rfc3339-validator in c:\\users\\carter.peene\\appdata\\local\\programs\\python\\python39\\lib\\site-packages (from jsonschema[format]->dandischema~=0.7.0->dandi) (0.1.4)\n",
      "Requirement already satisfied: isoduration in c:\\users\\carter.peene\\appdata\\local\\programs\\python\\python39\\lib\\site-packages (from jsonschema[format]->dandischema~=0.7.0->dandi) (20.11.0)\n",
      "Requirement already satisfied: arrow>=0.15.0 in c:\\users\\carter.peene\\appdata\\local\\programs\\python\\python39\\lib\\site-packages (from isoduration->jsonschema[format]->dandischema~=0.7.0->dandi) (1.2.3)\n",
      "Requirement already satisfied: pyparsing!=3.0.5,>=2.0.2 in c:\\users\\carter.peene\\appdata\\local\\programs\\python\\python39\\lib\\site-packages (from packaging->dandi) (3.0.9)\n"
     ]
    },
    {
     "name": "stderr",
     "output_type": "stream",
     "text": [
      "WARNING: You are using pip version 21.2.4; however, version 22.2.2 is available.\n",
      "You should consider upgrading via the 'C:\\Users\\carter.peene\\AppData\\Local\\Programs\\Python\\Python39\\python.exe -m pip install --upgrade pip' command.\n"
     ]
    },
    {
     "name": "stdout",
     "output_type": "stream",
     "text": [
      "Requirement already satisfied: nwbwidgets in c:\\users\\carter.peene\\appdata\\local\\programs\\python\\python39\\lib\\site-packages (0.8.0)\n",
      "Requirement already satisfied: ipyvolume in c:\\users\\carter.peene\\appdata\\local\\programs\\python\\python39\\lib\\site-packages (from nwbwidgets) (0.5.2)\n",
      "Requirement already satisfied: ipympl in c:\\users\\carter.peene\\appdata\\local\\programs\\python\\python39\\lib\\site-packages (from nwbwidgets) (0.9.2)\n",
      "Requirement already satisfied: ipysheet in c:\\users\\carter.peene\\appdata\\local\\programs\\python\\python39\\lib\\site-packages (from nwbwidgets) (0.5.0)\n",
      "Requirement already satisfied: plotly in c:\\users\\carter.peene\\appdata\\local\\programs\\python\\python39\\lib\\site-packages (from nwbwidgets) (5.10.0)\n",
      "Requirement already satisfied: matplotlib in c:\\users\\carter.peene\\appdata\\local\\programs\\python\\python39\\lib\\site-packages (from nwbwidgets) (3.6.0)\n",
      "Requirement already satisfied: pynwb in c:\\users\\carter.peene\\appdata\\local\\programs\\python\\python39\\lib\\site-packages (from nwbwidgets) (2.1.0)\n",
      "Requirement already satisfied: numpy in c:\\users\\carter.peene\\appdata\\local\\programs\\python\\python39\\lib\\site-packages (from nwbwidgets) (1.22.4)\n",
      "Requirement already satisfied: ndx-grayscalevolume in c:\\users\\carter.peene\\appdata\\local\\programs\\python\\python39\\lib\\site-packages (from nwbwidgets) (0.0.2)\n",
      "Requirement already satisfied: tqdm>=4.36.0 in c:\\users\\carter.peene\\appdata\\local\\programs\\python\\python39\\lib\\site-packages (from nwbwidgets) (4.64.1)\n",
      "Requirement already satisfied: ndx-icephys-meta in c:\\users\\carter.peene\\appdata\\local\\programs\\python\\python39\\lib\\site-packages (from nwbwidgets) (0.1.0)\n",
      "Requirement already satisfied: trimesh in c:\\users\\carter.peene\\appdata\\local\\programs\\python\\python39\\lib\\site-packages (from nwbwidgets) (3.15.2)\n",
      "Requirement already satisfied: tifffile in c:\\users\\carter.peene\\appdata\\local\\programs\\python\\python39\\lib\\site-packages (from nwbwidgets) (2022.8.12)\n",
      "Requirement already satisfied: scikit-image in c:\\users\\carter.peene\\appdata\\local\\programs\\python\\python39\\lib\\site-packages (from nwbwidgets) (0.19.3)\n",
      "Requirement already satisfied: ccfwidget in c:\\users\\carter.peene\\appdata\\local\\programs\\python\\python39\\lib\\site-packages (from nwbwidgets) (0.5.3)\n",
      "Requirement already satisfied: ndx-spectrum in c:\\users\\carter.peene\\appdata\\local\\programs\\python\\python39\\lib\\site-packages (from nwbwidgets) (0.2.2)\n",
      "Requirement already satisfied: zarr in c:\\users\\carter.peene\\appdata\\local\\programs\\python\\python39\\lib\\site-packages (from nwbwidgets) (2.13.0)\n",
      "Requirement already satisfied: colorama in c:\\users\\carter.peene\\appdata\\local\\programs\\python\\python39\\lib\\site-packages (from tqdm>=4.36.0->nwbwidgets) (0.4.5)\n",
      "Requirement already satisfied: requests in c:\\users\\carter.peene\\appdata\\local\\programs\\python\\python39\\lib\\site-packages (from ccfwidget->nwbwidgets) (2.28.1)\n",
      "Requirement already satisfied: itkwidgets>=0.30.1 in c:\\users\\carter.peene\\appdata\\local\\programs\\python\\python39\\lib\\site-packages (from ccfwidget->nwbwidgets) (0.32.3)\n",
      "Requirement already satisfied: xarray in c:\\users\\carter.peene\\appdata\\local\\programs\\python\\python39\\lib\\site-packages (from ccfwidget->nwbwidgets) (2022.6.0)\n",
      "Requirement already satisfied: fsspec in c:\\users\\carter.peene\\appdata\\local\\programs\\python\\python39\\lib\\site-packages (from ccfwidget->nwbwidgets) (2022.8.2)\n",
      "Requirement already satisfied: toolz in c:\\users\\carter.peene\\appdata\\local\\programs\\python\\python39\\lib\\site-packages (from ccfwidget->nwbwidgets) (0.12.0)\n",
      "Requirement already satisfied: dask in c:\\users\\carter.peene\\appdata\\local\\programs\\python\\python39\\lib\\site-packages (from ccfwidget->nwbwidgets) (2022.9.1)\n",
      "Requirement already satisfied: ipytree in c:\\users\\carter.peene\\appdata\\local\\programs\\python\\python39\\lib\\site-packages (from ccfwidget->nwbwidgets) (0.2.2)\n",
      "Requirement already satisfied: ipydatawidgets>=4.0.1 in c:\\users\\carter.peene\\appdata\\local\\programs\\python\\python39\\lib\\site-packages (from itkwidgets>=0.30.1->ccfwidget->nwbwidgets) (4.3.2)\n",
      "Requirement already satisfied: zstandard in c:\\users\\carter.peene\\appdata\\local\\programs\\python\\python39\\lib\\site-packages (from itkwidgets>=0.30.1->ccfwidget->nwbwidgets) (0.18.0)\n",
      "Requirement already satisfied: six in c:\\users\\carter.peene\\appdata\\local\\programs\\python\\python39\\lib\\site-packages (from itkwidgets>=0.30.1->ccfwidget->nwbwidgets) (1.16.0)\n",
      "Requirement already satisfied: colorcet in c:\\users\\carter.peene\\appdata\\local\\programs\\python\\python39\\lib\\site-packages (from itkwidgets>=0.30.1->ccfwidget->nwbwidgets) (3.0.0)\n",
      "Requirement already satisfied: itk-numerics<5.3,>=5.2.0.post2 in c:\\users\\carter.peene\\appdata\\local\\programs\\python\\python39\\lib\\site-packages (from itkwidgets>=0.30.1->ccfwidget->nwbwidgets) (5.2.1.post1)\n",
      "Requirement already satisfied: itk-meshtopolydata==0.8.1 in c:\\users\\carter.peene\\appdata\\local\\programs\\python\\python39\\lib\\site-packages (from itkwidgets>=0.30.1->ccfwidget->nwbwidgets) (0.8.1)\n",
      "Requirement already satisfied: itk-filtering<5.3,>=5.2.0.post2 in c:\\users\\carter.peene\\appdata\\local\\programs\\python\\python39\\lib\\site-packages (from itkwidgets>=0.30.1->ccfwidget->nwbwidgets) (5.2.1.post1)\n",
      "Requirement already satisfied: itk-core<5.3,>=5.2.0.post2 in c:\\users\\carter.peene\\appdata\\local\\programs\\python\\python39\\lib\\site-packages (from itkwidgets>=0.30.1->ccfwidget->nwbwidgets) (5.2.1.post1)\n",
      "Requirement already satisfied: ipywidgets>=7.5.1 in c:\\users\\carter.peene\\appdata\\local\\programs\\python\\python39\\lib\\site-packages (from itkwidgets>=0.30.1->ccfwidget->nwbwidgets) (7.7.2)\n",
      "Requirement already satisfied: traittypes>=0.2.0 in c:\\users\\carter.peene\\appdata\\local\\programs\\python\\python39\\lib\\site-packages (from ipydatawidgets>=4.0.1->itkwidgets>=0.30.1->ccfwidget->nwbwidgets) (0.2.1)\n",
      "Requirement already satisfied: ipython-genutils in c:\\users\\carter.peene\\appdata\\local\\programs\\python\\python39\\lib\\site-packages (from ipympl->nwbwidgets) (0.2.0)\n",
      "Requirement already satisfied: traitlets<6 in c:\\users\\carter.peene\\appdata\\local\\programs\\python\\python39\\lib\\site-packages (from ipympl->nwbwidgets) (5.4.0)\n",
      "Requirement already satisfied: pillow in c:\\users\\carter.peene\\appdata\\local\\programs\\python\\python39\\lib\\site-packages (from ipympl->nwbwidgets) (9.2.0)\n",
      "Requirement already satisfied: ipython<9 in c:\\users\\carter.peene\\appdata\\local\\programs\\python\\python39\\lib\\site-packages (from ipympl->nwbwidgets) (8.5.0)\n",
      "Requirement already satisfied: pickleshare in c:\\users\\carter.peene\\appdata\\local\\programs\\python\\python39\\lib\\site-packages (from ipython<9->ipympl->nwbwidgets) (0.7.5)\n",
      "Requirement already satisfied: prompt-toolkit<3.1.0,>3.0.1 in c:\\users\\carter.peene\\appdata\\local\\programs\\python\\python39\\lib\\site-packages (from ipython<9->ipympl->nwbwidgets) (3.0.31)\n",
      "Requirement already satisfied: matplotlib-inline in c:\\users\\carter.peene\\appdata\\local\\programs\\python\\python39\\lib\\site-packages (from ipython<9->ipympl->nwbwidgets) (0.1.6)\n",
      "Requirement already satisfied: stack-data in c:\\users\\carter.peene\\appdata\\local\\programs\\python\\python39\\lib\\site-packages (from ipython<9->ipympl->nwbwidgets) (0.5.0)\n",
      "Requirement already satisfied: jedi>=0.16 in c:\\users\\carter.peene\\appdata\\local\\programs\\python\\python39\\lib\\site-packages (from ipython<9->ipympl->nwbwidgets) (0.18.1)\n",
      "Requirement already satisfied: decorator in c:\\users\\carter.peene\\appdata\\local\\programs\\python\\python39\\lib\\site-packages (from ipython<9->ipympl->nwbwidgets) (5.1.1)\n",
      "Requirement already satisfied: backcall in c:\\users\\carter.peene\\appdata\\local\\programs\\python\\python39\\lib\\site-packages (from ipython<9->ipympl->nwbwidgets) (0.2.0)\n",
      "Requirement already satisfied: pygments>=2.4.0 in c:\\users\\carter.peene\\appdata\\local\\programs\\python\\python39\\lib\\site-packages (from ipython<9->ipympl->nwbwidgets) (2.13.0)\n",
      "Requirement already satisfied: widgetsnbextension~=3.6.0 in c:\\users\\carter.peene\\appdata\\local\\programs\\python\\python39\\lib\\site-packages (from ipywidgets>=7.5.1->itkwidgets>=0.30.1->ccfwidget->nwbwidgets) (3.6.1)\n",
      "Requirement already satisfied: jupyterlab-widgets<3,>=1.0.0 in c:\\users\\carter.peene\\appdata\\local\\programs\\python\\python39\\lib\\site-packages (from ipywidgets>=7.5.1->itkwidgets>=0.30.1->ccfwidget->nwbwidgets) (1.1.1)\n",
      "Requirement already satisfied: ipykernel>=4.5.1 in c:\\users\\carter.peene\\appdata\\local\\programs\\python\\python39\\lib\\site-packages (from ipywidgets>=7.5.1->itkwidgets>=0.30.1->ccfwidget->nwbwidgets) (6.15.3)\n",
      "Requirement already satisfied: debugpy>=1.0 in c:\\users\\carter.peene\\appdata\\local\\programs\\python\\python39\\lib\\site-packages (from ipykernel>=4.5.1->ipywidgets>=7.5.1->itkwidgets>=0.30.1->ccfwidget->nwbwidgets) (1.6.3)\n",
      "Requirement already satisfied: psutil in c:\\users\\carter.peene\\appdata\\local\\programs\\python\\python39\\lib\\site-packages (from ipykernel>=4.5.1->ipywidgets>=7.5.1->itkwidgets>=0.30.1->ccfwidget->nwbwidgets) (5.9.2)\n",
      "Requirement already satisfied: pyzmq>=17 in c:\\users\\carter.peene\\appdata\\local\\programs\\python\\python39\\lib\\site-packages (from ipykernel>=4.5.1->ipywidgets>=7.5.1->itkwidgets>=0.30.1->ccfwidget->nwbwidgets) (24.0.1)\n",
      "Requirement already satisfied: packaging in c:\\users\\carter.peene\\appdata\\local\\programs\\python\\python39\\lib\\site-packages (from ipykernel>=4.5.1->ipywidgets>=7.5.1->itkwidgets>=0.30.1->ccfwidget->nwbwidgets) (21.3)\n",
      "Requirement already satisfied: nest-asyncio in c:\\users\\carter.peene\\appdata\\local\\programs\\python\\python39\\lib\\site-packages (from ipykernel>=4.5.1->ipywidgets>=7.5.1->itkwidgets>=0.30.1->ccfwidget->nwbwidgets) (1.5.5)\n",
      "Requirement already satisfied: jupyter-client>=6.1.12 in c:\\users\\carter.peene\\appdata\\local\\programs\\python\\python39\\lib\\site-packages (from ipykernel>=4.5.1->ipywidgets>=7.5.1->itkwidgets>=0.30.1->ccfwidget->nwbwidgets) (7.3.5)\n",
      "Requirement already satisfied: tornado>=6.1 in c:\\users\\carter.peene\\appdata\\local\\programs\\python\\python39\\lib\\site-packages (from ipykernel>=4.5.1->ipywidgets>=7.5.1->itkwidgets>=0.30.1->ccfwidget->nwbwidgets) (6.2)\n",
      "Requirement already satisfied: parso<0.9.0,>=0.8.0 in c:\\users\\carter.peene\\appdata\\local\\programs\\python\\python39\\lib\\site-packages (from jedi>=0.16->ipython<9->ipympl->nwbwidgets) (0.8.3)\n",
      "Requirement already satisfied: python-dateutil>=2.8.2 in c:\\users\\carter.peene\\appdata\\local\\programs\\python\\python39\\lib\\site-packages (from jupyter-client>=6.1.12->ipykernel>=4.5.1->ipywidgets>=7.5.1->itkwidgets>=0.30.1->ccfwidget->nwbwidgets) (2.8.2)\n",
      "Requirement already satisfied: jupyter-core>=4.9.2 in c:\\users\\carter.peene\\appdata\\local\\programs\\python\\python39\\lib\\site-packages (from jupyter-client>=6.1.12->ipykernel>=4.5.1->ipywidgets>=7.5.1->itkwidgets>=0.30.1->ccfwidget->nwbwidgets) (4.11.1)\n",
      "Requirement already satisfied: entrypoints in c:\\users\\carter.peene\\appdata\\local\\programs\\python\\python39\\lib\\site-packages (from jupyter-client>=6.1.12->ipykernel>=4.5.1->ipywidgets>=7.5.1->itkwidgets>=0.30.1->ccfwidget->nwbwidgets) (0.4)\n",
      "Requirement already satisfied: pywin32>=1.0 in c:\\users\\carter.peene\\appdata\\local\\programs\\python\\python39\\lib\\site-packages (from jupyter-core>=4.9.2->jupyter-client>=6.1.12->ipykernel>=4.5.1->ipywidgets>=7.5.1->itkwidgets>=0.30.1->ccfwidget->nwbwidgets) (304)\n",
      "Requirement already satisfied: fonttools>=4.22.0 in c:\\users\\carter.peene\\appdata\\local\\programs\\python\\python39\\lib\\site-packages (from matplotlib->nwbwidgets) (4.37.3)\n",
      "Requirement already satisfied: kiwisolver>=1.0.1 in c:\\users\\carter.peene\\appdata\\local\\programs\\python\\python39\\lib\\site-packages (from matplotlib->nwbwidgets) (1.4.4)\n",
      "Requirement already satisfied: contourpy>=1.0.1 in c:\\users\\carter.peene\\appdata\\local\\programs\\python\\python39\\lib\\site-packages (from matplotlib->nwbwidgets) (1.0.5)\n",
      "Requirement already satisfied: pyparsing>=2.2.1 in c:\\users\\carter.peene\\appdata\\local\\programs\\python\\python39\\lib\\site-packages (from matplotlib->nwbwidgets) (3.0.9)\n",
      "Requirement already satisfied: cycler>=0.10 in c:\\users\\carter.peene\\appdata\\local\\programs\\python\\python39\\lib\\site-packages (from matplotlib->nwbwidgets) (0.11.0)\n",
      "Requirement already satisfied: wcwidth in c:\\users\\carter.peene\\appdata\\local\\programs\\python\\python39\\lib\\site-packages (from prompt-toolkit<3.1.0,>3.0.1->ipython<9->ipympl->nwbwidgets) (0.2.5)\n",
      "Requirement already satisfied: notebook>=4.4.1 in c:\\users\\carter.peene\\appdata\\local\\programs\\python\\python39\\lib\\site-packages (from widgetsnbextension~=3.6.0->ipywidgets>=7.5.1->itkwidgets>=0.30.1->ccfwidget->nwbwidgets) (6.4.12)\n",
      "Requirement already satisfied: prometheus-client in c:\\users\\carter.peene\\appdata\\local\\programs\\python\\python39\\lib\\site-packages (from notebook>=4.4.1->widgetsnbextension~=3.6.0->ipywidgets>=7.5.1->itkwidgets>=0.30.1->ccfwidget->nwbwidgets) (0.14.1)\n",
      "Requirement already satisfied: nbformat in c:\\users\\carter.peene\\appdata\\local\\programs\\python\\python39\\lib\\site-packages (from notebook>=4.4.1->widgetsnbextension~=3.6.0->ipywidgets>=7.5.1->itkwidgets>=0.30.1->ccfwidget->nwbwidgets) (5.6.0)\n",
      "Requirement already satisfied: Send2Trash>=1.8.0 in c:\\users\\carter.peene\\appdata\\local\\programs\\python\\python39\\lib\\site-packages (from notebook>=4.4.1->widgetsnbextension~=3.6.0->ipywidgets>=7.5.1->itkwidgets>=0.30.1->ccfwidget->nwbwidgets) (1.8.0)\n",
      "Requirement already satisfied: jinja2 in c:\\users\\carter.peene\\appdata\\local\\programs\\python\\python39\\lib\\site-packages (from notebook>=4.4.1->widgetsnbextension~=3.6.0->ipywidgets>=7.5.1->itkwidgets>=0.30.1->ccfwidget->nwbwidgets) (3.1.2)\n",
      "Requirement already satisfied: terminado>=0.8.3 in c:\\users\\carter.peene\\appdata\\local\\programs\\python\\python39\\lib\\site-packages (from notebook>=4.4.1->widgetsnbextension~=3.6.0->ipywidgets>=7.5.1->itkwidgets>=0.30.1->ccfwidget->nwbwidgets) (0.15.0)\n",
      "Requirement already satisfied: nbconvert>=5 in c:\\users\\carter.peene\\appdata\\local\\programs\\python\\python39\\lib\\site-packages (from notebook>=4.4.1->widgetsnbextension~=3.6.0->ipywidgets>=7.5.1->itkwidgets>=0.30.1->ccfwidget->nwbwidgets) (7.0.0)\n",
      "Requirement already satisfied: argon2-cffi in c:\\users\\carter.peene\\appdata\\local\\programs\\python\\python39\\lib\\site-packages (from notebook>=4.4.1->widgetsnbextension~=3.6.0->ipywidgets>=7.5.1->itkwidgets>=0.30.1->ccfwidget->nwbwidgets) (21.3.0)\n",
      "Requirement already satisfied: bleach in c:\\users\\carter.peene\\appdata\\local\\programs\\python\\python39\\lib\\site-packages (from nbconvert>=5->notebook>=4.4.1->widgetsnbextension~=3.6.0->ipywidgets>=7.5.1->itkwidgets>=0.30.1->ccfwidget->nwbwidgets) (5.0.1)\n",
      "Requirement already satisfied: beautifulsoup4 in c:\\users\\carter.peene\\appdata\\local\\programs\\python\\python39\\lib\\site-packages (from nbconvert>=5->notebook>=4.4.1->widgetsnbextension~=3.6.0->ipywidgets>=7.5.1->itkwidgets>=0.30.1->ccfwidget->nwbwidgets) (4.11.1)\n",
      "Requirement already satisfied: jupyterlab-pygments in c:\\users\\carter.peene\\appdata\\local\\programs\\python\\python39\\lib\\site-packages (from nbconvert>=5->notebook>=4.4.1->widgetsnbextension~=3.6.0->ipywidgets>=7.5.1->itkwidgets>=0.30.1->ccfwidget->nwbwidgets) (0.2.2)\n",
      "Requirement already satisfied: importlib-metadata>=3.6 in c:\\users\\carter.peene\\appdata\\local\\programs\\python\\python39\\lib\\site-packages (from nbconvert>=5->notebook>=4.4.1->widgetsnbextension~=3.6.0->ipywidgets>=7.5.1->itkwidgets>=0.30.1->ccfwidget->nwbwidgets) (4.12.0)\n",
      "Requirement already satisfied: nbclient>=0.5.0 in c:\\users\\carter.peene\\appdata\\local\\programs\\python\\python39\\lib\\site-packages (from nbconvert>=5->notebook>=4.4.1->widgetsnbextension~=3.6.0->ipywidgets>=7.5.1->itkwidgets>=0.30.1->ccfwidget->nwbwidgets) (0.6.8)\n",
      "Requirement already satisfied: lxml in c:\\users\\carter.peene\\appdata\\local\\programs\\python\\python39\\lib\\site-packages (from nbconvert>=5->notebook>=4.4.1->widgetsnbextension~=3.6.0->ipywidgets>=7.5.1->itkwidgets>=0.30.1->ccfwidget->nwbwidgets) (4.9.1)\n",
      "Requirement already satisfied: pandocfilters>=1.4.1 in c:\\users\\carter.peene\\appdata\\local\\programs\\python\\python39\\lib\\site-packages (from nbconvert>=5->notebook>=4.4.1->widgetsnbextension~=3.6.0->ipywidgets>=7.5.1->itkwidgets>=0.30.1->ccfwidget->nwbwidgets) (1.5.0)\n",
      "Requirement already satisfied: mistune<3,>=2.0.3 in c:\\users\\carter.peene\\appdata\\local\\programs\\python\\python39\\lib\\site-packages (from nbconvert>=5->notebook>=4.4.1->widgetsnbextension~=3.6.0->ipywidgets>=7.5.1->itkwidgets>=0.30.1->ccfwidget->nwbwidgets) (2.0.4)\n",
      "Requirement already satisfied: tinycss2 in c:\\users\\carter.peene\\appdata\\local\\programs\\python\\python39\\lib\\site-packages (from nbconvert>=5->notebook>=4.4.1->widgetsnbextension~=3.6.0->ipywidgets>=7.5.1->itkwidgets>=0.30.1->ccfwidget->nwbwidgets) (1.1.1)\n",
      "Requirement already satisfied: markupsafe>=2.0 in c:\\users\\carter.peene\\appdata\\local\\programs\\python\\python39\\lib\\site-packages (from nbconvert>=5->notebook>=4.4.1->widgetsnbextension~=3.6.0->ipywidgets>=7.5.1->itkwidgets>=0.30.1->ccfwidget->nwbwidgets) (2.1.1)\n",
      "Requirement already satisfied: defusedxml in c:\\users\\carter.peene\\appdata\\local\\programs\\python\\python39\\lib\\site-packages (from nbconvert>=5->notebook>=4.4.1->widgetsnbextension~=3.6.0->ipywidgets>=7.5.1->itkwidgets>=0.30.1->ccfwidget->nwbwidgets) (0.7.1)\n",
      "Requirement already satisfied: zipp>=0.5 in c:\\users\\carter.peene\\appdata\\local\\programs\\python\\python39\\lib\\site-packages (from importlib-metadata>=3.6->nbconvert>=5->notebook>=4.4.1->widgetsnbextension~=3.6.0->ipywidgets>=7.5.1->itkwidgets>=0.30.1->ccfwidget->nwbwidgets) (3.8.1)\n",
      "Requirement already satisfied: jsonschema>=2.6 in c:\\users\\carter.peene\\appdata\\local\\programs\\python\\python39\\lib\\site-packages (from nbformat->notebook>=4.4.1->widgetsnbextension~=3.6.0->ipywidgets>=7.5.1->itkwidgets>=0.30.1->ccfwidget->nwbwidgets) (4.16.0)\n",
      "Requirement already satisfied: fastjsonschema in c:\\users\\carter.peene\\appdata\\local\\programs\\python\\python39\\lib\\site-packages (from nbformat->notebook>=4.4.1->widgetsnbextension~=3.6.0->ipywidgets>=7.5.1->itkwidgets>=0.30.1->ccfwidget->nwbwidgets) (2.16.2)\n",
      "Requirement already satisfied: pyrsistent!=0.17.0,!=0.17.1,!=0.17.2,>=0.14.0 in c:\\users\\carter.peene\\appdata\\local\\programs\\python\\python39\\lib\\site-packages (from jsonschema>=2.6->nbformat->notebook>=4.4.1->widgetsnbextension~=3.6.0->ipywidgets>=7.5.1->itkwidgets>=0.30.1->ccfwidget->nwbwidgets) (0.18.1)\n",
      "Requirement already satisfied: attrs>=17.4.0 in c:\\users\\carter.peene\\appdata\\local\\programs\\python\\python39\\lib\\site-packages (from jsonschema>=2.6->nbformat->notebook>=4.4.1->widgetsnbextension~=3.6.0->ipywidgets>=7.5.1->itkwidgets>=0.30.1->ccfwidget->nwbwidgets) (22.1.0)\n",
      "Requirement already satisfied: pywinpty>=1.1.0 in c:\\users\\carter.peene\\appdata\\local\\programs\\python\\python39\\lib\\site-packages (from terminado>=0.8.3->notebook>=4.4.1->widgetsnbextension~=3.6.0->ipywidgets>=7.5.1->itkwidgets>=0.30.1->ccfwidget->nwbwidgets) (2.0.8)\n",
      "Requirement already satisfied: argon2-cffi-bindings in c:\\users\\carter.peene\\appdata\\local\\programs\\python\\python39\\lib\\site-packages (from argon2-cffi->notebook>=4.4.1->widgetsnbextension~=3.6.0->ipywidgets>=7.5.1->itkwidgets>=0.30.1->ccfwidget->nwbwidgets) (21.2.0)\n",
      "Requirement already satisfied: cffi>=1.0.1 in c:\\users\\carter.peene\\appdata\\local\\programs\\python\\python39\\lib\\site-packages (from argon2-cffi-bindings->argon2-cffi->notebook>=4.4.1->widgetsnbextension~=3.6.0->ipywidgets>=7.5.1->itkwidgets>=0.30.1->ccfwidget->nwbwidgets) (1.15.1)\n",
      "Requirement already satisfied: pycparser in c:\\users\\carter.peene\\appdata\\local\\programs\\python\\python39\\lib\\site-packages (from cffi>=1.0.1->argon2-cffi-bindings->argon2-cffi->notebook>=4.4.1->widgetsnbextension~=3.6.0->ipywidgets>=7.5.1->itkwidgets>=0.30.1->ccfwidget->nwbwidgets) (2.21)\n",
      "Requirement already satisfied: soupsieve>1.2 in c:\\users\\carter.peene\\appdata\\local\\programs\\python\\python39\\lib\\site-packages (from beautifulsoup4->nbconvert>=5->notebook>=4.4.1->widgetsnbextension~=3.6.0->ipywidgets>=7.5.1->itkwidgets>=0.30.1->ccfwidget->nwbwidgets) (2.3.2.post1)\n",
      "Requirement already satisfied: webencodings in c:\\users\\carter.peene\\appdata\\local\\programs\\python\\python39\\lib\\site-packages (from bleach->nbconvert>=5->notebook>=4.4.1->widgetsnbextension~=3.6.0->ipywidgets>=7.5.1->itkwidgets>=0.30.1->ccfwidget->nwbwidgets) (0.5.1)\n",
      "Requirement already satisfied: param>=1.7.0 in c:\\users\\carter.peene\\appdata\\local\\programs\\python\\python39\\lib\\site-packages (from colorcet->itkwidgets>=0.30.1->ccfwidget->nwbwidgets) (1.12.2)\n",
      "Requirement already satisfied: pyct>=0.4.4 in c:\\users\\carter.peene\\appdata\\local\\programs\\python\\python39\\lib\\site-packages (from colorcet->itkwidgets>=0.30.1->ccfwidget->nwbwidgets) (0.4.8)\n",
      "Requirement already satisfied: partd>=0.3.10 in c:\\users\\carter.peene\\appdata\\local\\programs\\python\\python39\\lib\\site-packages (from dask->ccfwidget->nwbwidgets) (1.3.0)\n",
      "Requirement already satisfied: pyyaml>=5.3.1 in c:\\users\\carter.peene\\appdata\\local\\programs\\python\\python39\\lib\\site-packages (from dask->ccfwidget->nwbwidgets) (6.0)\n",
      "Requirement already satisfied: cloudpickle>=1.1.1 in c:\\users\\carter.peene\\appdata\\local\\programs\\python\\python39\\lib\\site-packages (from dask->ccfwidget->nwbwidgets) (2.2.0)\n",
      "Requirement already satisfied: locket in c:\\users\\carter.peene\\appdata\\local\\programs\\python\\python39\\lib\\site-packages (from partd>=0.3.10->dask->ccfwidget->nwbwidgets) (1.0.0)\n",
      "Requirement already satisfied: jupyter-server<2,>=1.6 in c:\\users\\carter.peene\\appdata\\local\\programs\\python\\python39\\lib\\site-packages (from ipysheet->nwbwidgets) (1.18.1)\n",
      "Requirement already satisfied: websocket-client in c:\\users\\carter.peene\\appdata\\local\\programs\\python\\python39\\lib\\site-packages (from jupyter-server<2,>=1.6->ipysheet->nwbwidgets) (1.4.1)\n",
      "Requirement already satisfied: anyio<4,>=3.1.0 in c:\\users\\carter.peene\\appdata\\local\\programs\\python\\python39\\lib\\site-packages (from jupyter-server<2,>=1.6->ipysheet->nwbwidgets) (3.6.1)\n",
      "Requirement already satisfied: sniffio>=1.1 in c:\\users\\carter.peene\\appdata\\local\\programs\\python\\python39\\lib\\site-packages (from anyio<4,>=3.1.0->jupyter-server<2,>=1.6->ipysheet->nwbwidgets) (1.3.0)\n",
      "Requirement already satisfied: idna>=2.8 in c:\\users\\carter.peene\\appdata\\local\\programs\\python\\python39\\lib\\site-packages (from anyio<4,>=3.1.0->jupyter-server<2,>=1.6->ipysheet->nwbwidgets) (3.4)\n",
      "Requirement already satisfied: ipywebrtc in c:\\users\\carter.peene\\appdata\\local\\programs\\python\\python39\\lib\\site-packages (from ipyvolume->nwbwidgets) (0.6.0)\n",
      "Requirement already satisfied: pythreejs>=1.0.0 in c:\\users\\carter.peene\\appdata\\local\\programs\\python\\python39\\lib\\site-packages (from ipyvolume->nwbwidgets) (2.4.1)\n",
      "Requirement already satisfied: tenacity>=6.2.0 in c:\\users\\carter.peene\\appdata\\local\\programs\\python\\python39\\lib\\site-packages (from plotly->nwbwidgets) (8.1.0)\n",
      "Requirement already satisfied: h5py<4,>=2.10 in c:\\users\\carter.peene\\appdata\\local\\programs\\python\\python39\\lib\\site-packages (from pynwb->nwbwidgets) (3.7.0)\n",
      "Requirement already satisfied: hdmf<4,>=3.3.2 in c:\\users\\carter.peene\\appdata\\local\\programs\\python\\python39\\lib\\site-packages (from pynwb->nwbwidgets) (3.4.5)\n",
      "Requirement already satisfied: setuptools in c:\\users\\carter.peene\\appdata\\local\\programs\\python\\python39\\lib\\site-packages (from pynwb->nwbwidgets) (58.1.0)\n",
      "Requirement already satisfied: pandas<2,>=1.0.5 in c:\\users\\carter.peene\\appdata\\local\\programs\\python\\python39\\lib\\site-packages (from pynwb->nwbwidgets) (1.5.0)\n",
      "Requirement already satisfied: ruamel.yaml<1,>=0.16 in c:\\users\\carter.peene\\appdata\\local\\programs\\python\\python39\\lib\\site-packages (from hdmf<4,>=3.3.2->pynwb->nwbwidgets) (0.17.21)\n",
      "Requirement already satisfied: scipy<2,>=1.1 in c:\\users\\carter.peene\\appdata\\local\\programs\\python\\python39\\lib\\site-packages (from hdmf<4,>=3.3.2->pynwb->nwbwidgets) (1.9.1)\n",
      "Requirement already satisfied: pytz>=2020.1 in c:\\users\\carter.peene\\appdata\\local\\programs\\python\\python39\\lib\\site-packages (from pandas<2,>=1.0.5->pynwb->nwbwidgets) (2022.2.1)\n",
      "Requirement already satisfied: ruamel.yaml.clib>=0.2.6 in c:\\users\\carter.peene\\appdata\\local\\programs\\python\\python39\\lib\\site-packages (from ruamel.yaml<1,>=0.16->hdmf<4,>=3.3.2->pynwb->nwbwidgets) (0.2.6)\n",
      "Requirement already satisfied: charset-normalizer<3,>=2 in c:\\users\\carter.peene\\appdata\\local\\programs\\python\\python39\\lib\\site-packages (from requests->ccfwidget->nwbwidgets) (2.1.1)\n",
      "Requirement already satisfied: certifi>=2017.4.17 in c:\\users\\carter.peene\\appdata\\local\\programs\\python\\python39\\lib\\site-packages (from requests->ccfwidget->nwbwidgets) (2022.9.14)\n",
      "Requirement already satisfied: urllib3<1.27,>=1.21.1 in c:\\users\\carter.peene\\appdata\\local\\programs\\python\\python39\\lib\\site-packages (from requests->ccfwidget->nwbwidgets) (1.26.12)\n",
      "Requirement already satisfied: networkx>=2.2 in c:\\users\\carter.peene\\appdata\\local\\programs\\python\\python39\\lib\\site-packages (from scikit-image->nwbwidgets) (2.8.6)\n",
      "Requirement already satisfied: imageio>=2.4.1 in c:\\users\\carter.peene\\appdata\\local\\programs\\python\\python39\\lib\\site-packages (from scikit-image->nwbwidgets) (2.22.0)\n",
      "Requirement already satisfied: PyWavelets>=1.1.1 in c:\\users\\carter.peene\\appdata\\local\\programs\\python\\python39\\lib\\site-packages (from scikit-image->nwbwidgets) (1.4.1)\n",
      "Requirement already satisfied: pure-eval in c:\\users\\carter.peene\\appdata\\local\\programs\\python\\python39\\lib\\site-packages (from stack-data->ipython<9->ipympl->nwbwidgets) (0.2.2)\n",
      "Requirement already satisfied: asttokens in c:\\users\\carter.peene\\appdata\\local\\programs\\python\\python39\\lib\\site-packages (from stack-data->ipython<9->ipympl->nwbwidgets) (2.0.8)\n",
      "Requirement already satisfied: executing in c:\\users\\carter.peene\\appdata\\local\\programs\\python\\python39\\lib\\site-packages (from stack-data->ipython<9->ipympl->nwbwidgets) (1.0.0)\n",
      "Requirement already satisfied: fasteners in c:\\users\\carter.peene\\appdata\\local\\programs\\python\\python39\\lib\\site-packages (from zarr->nwbwidgets) (0.18)\n",
      "Requirement already satisfied: asciitree in c:\\users\\carter.peene\\appdata\\local\\programs\\python\\python39\\lib\\site-packages (from zarr->nwbwidgets) (0.3.3)\n",
      "Requirement already satisfied: numcodecs>=0.10.0 in c:\\users\\carter.peene\\appdata\\local\\programs\\python\\python39\\lib\\site-packages (from zarr->nwbwidgets) (0.10.2)\n",
      "Requirement already satisfied: typing-extensions>=3.7.4 in c:\\users\\carter.peene\\appdata\\local\\programs\\python\\python39\\lib\\site-packages (from numcodecs>=0.10.0->zarr->nwbwidgets) (4.3.0)\n"
     ]
    },
    {
     "name": "stderr",
     "output_type": "stream",
     "text": [
      "WARNING: You are using pip version 21.2.4; however, version 22.2.2 is available.\n",
      "You should consider upgrading via the 'C:\\Users\\carter.peene\\AppData\\Local\\Programs\\Python\\Python39\\python.exe -m pip install --upgrade pip' command.\n"
     ]
    }
   ],
   "source": [
    "!pip install dandi\n",
    "!pip install nwbwidgets"
   ]
  },
  {
   "cell_type": "markdown",
   "id": "5731bf71",
   "metadata": {},
   "source": [
    "### Download files\n",
    "Run these cells for each dandiset and filepath you want to download.\n",
    "No need to run these if the file you're interested in is already downloaded."
   ]
  },
  {
   "cell_type": "code",
   "execution_count": 2,
   "id": "f3f97f13",
   "metadata": {},
   "outputs": [],
   "source": [
    "### download configuration\n",
    "\n",
    "dandiset_id = \"000336\"\n",
    "# file path within dandiset (don't include leading '/')\n",
    "filepath = \"sub-1202533444/sub-1202533444_ophys.nwb\"\n",
    "# where to download locally\n",
    "data_loc = \"../../data\"\n",
    "\n",
    "# if you want to access an embargoed dandiset, you must set 'authenticate' to True and provide a dandi api key\n",
    "# your dandi api key can be found on dandi, if you press your profile icon in the top-right corner\n",
    "authenticate = True\n",
    "dandi_api_key=\"2370da0474374de79d7653531591574f38415e91\"\n"
   ]
  },
  {
   "cell_type": "code",
   "execution_count": 3,
   "id": "a51caf90",
   "metadata": {},
   "outputs": [
    {
     "name": "stdout",
     "output_type": "stream",
     "text": [
      "DANDI:000336/draft\n"
     ]
    }
   ],
   "source": [
    "from dandi import dandiapi\n",
    "import dandi\n",
    "\n",
    "if authenticate:\n",
    "    client = dandiapi.DandiAPIClient(token=dandi_api_key)\n",
    "else:\n",
    "    client = dandiapi.DandiAPIClient()\n",
    "    \n",
    "my_dandiset = client.get_dandiset(dandiset_id)\n",
    "print(my_dandiset)\n"
   ]
  },
  {
   "cell_type": "code",
   "execution_count": 4,
   "id": "d131ad56",
   "metadata": {},
   "outputs": [],
   "source": [
    "file = my_dandiset.get_asset_by_path(filepath)\n",
    "filename = filepath.split(\"/\")[-1]\n",
    "# this may take awhile, especially if the file to download is large\n",
    "file.download(f\"{data_loc}/{filename}\")"
   ]
  },
  {
   "cell_type": "markdown",
   "id": "3df13a24",
   "metadata": {},
   "source": [
    "### Display nwb file\n",
    "Choose the nwb file you want to download and display it here!"
   ]
  },
  {
   "cell_type": "code",
   "execution_count": 5,
   "id": "4081b9fa",
   "metadata": {},
   "outputs": [],
   "source": [
    "nwb_filepath = f\"{data_loc}/{filename}\"\n",
    "# or set your own filepath to choose below\n",
    "# nwb_filepath = \"\""
   ]
  },
  {
   "cell_type": "code",
   "execution_count": 6,
   "id": "0691fffc",
   "metadata": {
    "scrolled": false
   },
   "outputs": [
    {
     "name": "stderr",
     "output_type": "stream",
     "text": [
      "C:\\Users\\carter.peene\\AppData\\Local\\Programs\\Python\\Python39\\lib\\site-packages\\hdmf\\spec\\namespace.py:531: UserWarning: Ignoring cached namespace 'core' version 2.3.0 because version 2.5.0 is already loaded.\n",
      "  warn(\"Ignoring cached namespace '%s' version %s because version %s is already loaded.\"\n"
     ]
    },
    {
     "data": {
      "application/vnd.jupyter.widget-view+json": {
       "model_id": "160839bdf56049f3801d44c24f8c27c0",
       "version_major": 2,
       "version_minor": 0
      },
      "text/plain": [
       "VBox(children=(HBox(children=(Label(value='session_description:', layout=Layout(max_height='40px', max_width='…"
      ]
     },
     "metadata": {},
     "output_type": "display_data"
    }
   ],
   "source": [
    "from pynwb import NWBHDF5IO\n",
    "from nwbwidgets import nwb2widget\n",
    "\n",
    "io = NWBHDF5IO(nwb_filepath, mode=\"r\", load_namespaces=True)\n",
    "nwb = io.read()\n",
    "\n",
    "nwb2widget(nwb)\n"
   ]
  },
  {
   "cell_type": "code",
   "execution_count": null,
   "id": "e38a9cea",
   "metadata": {},
   "outputs": [],
   "source": []
  }
 ],
 "metadata": {
  "kernelspec": {
   "display_name": "Python 3 (ipykernel)",
   "language": "python",
   "name": "python3"
  },
  "language_info": {
   "codemirror_mode": {
    "name": "ipython",
    "version": 3
   },
   "file_extension": ".py",
   "mimetype": "text/x-python",
   "name": "python",
   "nbconvert_exporter": "python",
   "pygments_lexer": "ipython3",
   "version": "3.9.10"
  }
 },
 "nbformat": 4,
 "nbformat_minor": 5
}
